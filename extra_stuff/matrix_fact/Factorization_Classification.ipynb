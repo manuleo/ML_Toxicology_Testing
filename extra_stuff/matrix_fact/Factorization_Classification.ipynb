{
  "nbformat": 4,
  "nbformat_minor": 0,
  "metadata": {
    "colab": {
      "name": "Tox_Factorization_Classification",
      "provenance": [],
      "collapsed_sections": []
    },
    "kernelspec": {
      "name": "python3",
      "display_name": "Python 3"
    },
    "accelerator": "GPU"
  },
  "cells": [
    {
      "cell_type": "code",
      "metadata": {
        "id": "AkFRqOyf_Ok0",
        "colab_type": "code",
        "outputId": "2aca7e26-1185-489a-a67b-f1f2f6df4124",
        "colab": {
          "base_uri": "https://localhost:8080/",
          "height": 1000
        }
      },
      "source": [
        "!pip install turicreate==5.4\n",
        "# The wrong version of MXNET will be installed\n",
        "!pip uninstall -y mxnet\n",
        "# Install CUDA10-compatible version of mxnet \n",
        "!pip install mxnet-cu100==1.4.0.post0"
      ],
      "execution_count": 1,
      "outputs": [
        {
          "output_type": "stream",
          "text": [
            "Collecting turicreate==5.4\n",
            "\u001b[?25l  Downloading https://files.pythonhosted.org/packages/4f/ef/1847a704548ad4cbcabe09b3882181c190f5b696da8b2d082521c33ec187/turicreate-5.4-cp36-cp36m-manylinux1_x86_64.whl (87.4MB)\n",
            "\u001b[K     |████████████████████████████████| 87.4MB 116kB/s \n",
            "\u001b[?25hRequirement already satisfied: decorator>=4.0.9 in /usr/local/lib/python3.6/dist-packages (from turicreate==5.4) (4.4.1)\n",
            "Requirement already satisfied: pillow>=3.3.0 in /usr/local/lib/python3.6/dist-packages (from turicreate==5.4) (4.3.0)\n",
            "Requirement already satisfied: requests>=2.9.1 in /usr/local/lib/python3.6/dist-packages (from turicreate==5.4) (2.21.0)\n",
            "Requirement already satisfied: prettytable==0.7.2 in /usr/local/lib/python3.6/dist-packages (from turicreate==5.4) (0.7.2)\n",
            "Collecting resampy==0.2.1\n",
            "\u001b[?25l  Downloading https://files.pythonhosted.org/packages/14/b6/66a06d85474190b50aee1a6c09cdc95bb405ac47338b27e9b21409da1760/resampy-0.2.1.tar.gz (322kB)\n",
            "\u001b[K     |████████████████████████████████| 327kB 49.2MB/s \n",
            "\u001b[?25hRequirement already satisfied: scipy>=0.14.0 in /usr/local/lib/python3.6/dist-packages (from turicreate==5.4) (1.3.3)\n",
            "Requirement already satisfied: numpy in /usr/local/lib/python3.6/dist-packages (from turicreate==5.4) (1.17.4)\n",
            "Collecting mxnet<1.2.0,>=1.1.0\n",
            "\u001b[?25l  Downloading https://files.pythonhosted.org/packages/96/98/c9877e100c3d1ac92263bfaba7bb8a49294e099046592040a2ff8620ac61/mxnet-1.1.0.post0-py2.py3-none-manylinux1_x86_64.whl (23.8MB)\n",
            "\u001b[K     |████████████████████████████████| 23.8MB 59.5MB/s \n",
            "\u001b[?25hRequirement already satisfied: six>=1.10.0 in /usr/local/lib/python3.6/dist-packages (from turicreate==5.4) (1.12.0)\n",
            "Collecting coremltools==2.1.0\n",
            "\u001b[?25l  Downloading https://files.pythonhosted.org/packages/b9/9d/7ec5a2480c6afce4fcb99de1650b7abfd1457b2ef1de5ce39bf7bee8a8ae/coremltools-2.1.0-cp36-none-manylinux1_x86_64.whl (2.7MB)\n",
            "\u001b[K     |████████████████████████████████| 2.7MB 29.8MB/s \n",
            "\u001b[?25hRequirement already satisfied: pandas>=0.19.0 in /usr/local/lib/python3.6/dist-packages (from turicreate==5.4) (0.25.3)\n",
            "Requirement already satisfied: olefile in /usr/local/lib/python3.6/dist-packages (from pillow>=3.3.0->turicreate==5.4) (0.46)\n",
            "Requirement already satisfied: certifi>=2017.4.17 in /usr/local/lib/python3.6/dist-packages (from requests>=2.9.1->turicreate==5.4) (2019.11.28)\n",
            "Requirement already satisfied: idna<2.9,>=2.5 in /usr/local/lib/python3.6/dist-packages (from requests>=2.9.1->turicreate==5.4) (2.8)\n",
            "Requirement already satisfied: chardet<3.1.0,>=3.0.2 in /usr/local/lib/python3.6/dist-packages (from requests>=2.9.1->turicreate==5.4) (3.0.4)\n",
            "Requirement already satisfied: urllib3<1.25,>=1.21.1 in /usr/local/lib/python3.6/dist-packages (from requests>=2.9.1->turicreate==5.4) (1.24.3)\n",
            "Requirement already satisfied: numba>=0.32 in /usr/local/lib/python3.6/dist-packages (from resampy==0.2.1->turicreate==5.4) (0.40.1)\n",
            "Collecting graphviz<0.9.0,>=0.8.1\n",
            "  Downloading https://files.pythonhosted.org/packages/53/39/4ab213673844e0c004bed8a0781a0721a3f6bb23eb8854ee75c236428892/graphviz-0.8.4-py2.py3-none-any.whl\n",
            "Requirement already satisfied: protobuf>=3.1.0 in /usr/local/lib/python3.6/dist-packages (from coremltools==2.1.0->turicreate==5.4) (3.10.0)\n",
            "Requirement already satisfied: pytz>=2017.2 in /usr/local/lib/python3.6/dist-packages (from pandas>=0.19.0->turicreate==5.4) (2018.9)\n",
            "Requirement already satisfied: python-dateutil>=2.6.1 in /usr/local/lib/python3.6/dist-packages (from pandas>=0.19.0->turicreate==5.4) (2.6.1)\n",
            "Requirement already satisfied: llvmlite>=0.25.0dev0 in /usr/local/lib/python3.6/dist-packages (from numba>=0.32->resampy==0.2.1->turicreate==5.4) (0.30.0)\n",
            "Requirement already satisfied: setuptools in /usr/local/lib/python3.6/dist-packages (from protobuf>=3.1.0->coremltools==2.1.0->turicreate==5.4) (42.0.1)\n",
            "Building wheels for collected packages: resampy\n",
            "  Building wheel for resampy (setup.py) ... \u001b[?25l\u001b[?25hdone\n",
            "  Created wheel for resampy: filename=resampy-0.2.1-cp36-none-any.whl size=320847 sha256=2899fb3bfccf6fcf1f74aa1813333c62bb9de2701bcef8dd833fd429caa22e4b\n",
            "  Stored in directory: /root/.cache/pip/wheels/ff/4f/ed/2e6c676c23efe5394bb40ade50662e90eb46e29b48324c5f9b\n",
            "Successfully built resampy\n",
            "\u001b[31mERROR: mxnet 1.1.0.post0 has requirement numpy<1.15.0,>=1.8.2, but you'll have numpy 1.17.4 which is incompatible.\u001b[0m\n",
            "\u001b[31mERROR: mxnet 1.1.0.post0 has requirement requests<2.19.0,>=2.18.4, but you'll have requests 2.21.0 which is incompatible.\u001b[0m\n",
            "Installing collected packages: resampy, graphviz, mxnet, coremltools, turicreate\n",
            "  Found existing installation: resampy 0.2.2\n",
            "    Uninstalling resampy-0.2.2:\n",
            "      Successfully uninstalled resampy-0.2.2\n",
            "  Found existing installation: graphviz 0.10.1\n",
            "    Uninstalling graphviz-0.10.1:\n",
            "      Successfully uninstalled graphviz-0.10.1\n",
            "Successfully installed coremltools-2.1.0 graphviz-0.8.4 mxnet-1.1.0.post0 resampy-0.2.1 turicreate-5.4\n",
            "Uninstalling mxnet-1.1.0.post0:\n",
            "  Successfully uninstalled mxnet-1.1.0.post0\n",
            "Collecting mxnet-cu100==1.4.0.post0\n",
            "\u001b[?25l  Downloading https://files.pythonhosted.org/packages/ae/36/40b6d201b46495513f7a7fa25fe8b7d85b3602a22efba119e8146d5f1601/mxnet_cu100-1.4.0.post0-py2.py3-none-manylinux1_x86_64.whl (487.9MB)\n",
            "\u001b[K     |████████████████████████████████| 487.9MB 33kB/s \n",
            "\u001b[?25hCollecting numpy<1.15.0,>=1.8.2\n",
            "\u001b[?25l  Downloading https://files.pythonhosted.org/packages/e5/c4/395ebb218053ba44d64935b3729bc88241ec279915e72100c5979db10945/numpy-1.14.6-cp36-cp36m-manylinux1_x86_64.whl (13.8MB)\n",
            "\u001b[K     |████████████████████████████████| 13.8MB 30.6MB/s \n",
            "\u001b[?25hRequirement already satisfied: graphviz<0.9.0,>=0.8.1 in /usr/local/lib/python3.6/dist-packages (from mxnet-cu100==1.4.0.post0) (0.8.4)\n",
            "Requirement already satisfied: requests>=2.20.0 in /usr/local/lib/python3.6/dist-packages (from mxnet-cu100==1.4.0.post0) (2.21.0)\n",
            "Requirement already satisfied: urllib3<1.25,>=1.21.1 in /usr/local/lib/python3.6/dist-packages (from requests>=2.20.0->mxnet-cu100==1.4.0.post0) (1.24.3)\n",
            "Requirement already satisfied: certifi>=2017.4.17 in /usr/local/lib/python3.6/dist-packages (from requests>=2.20.0->mxnet-cu100==1.4.0.post0) (2019.11.28)\n",
            "Requirement already satisfied: idna<2.9,>=2.5 in /usr/local/lib/python3.6/dist-packages (from requests>=2.20.0->mxnet-cu100==1.4.0.post0) (2.8)\n",
            "Requirement already satisfied: chardet<3.1.0,>=3.0.2 in /usr/local/lib/python3.6/dist-packages (from requests>=2.20.0->mxnet-cu100==1.4.0.post0) (3.0.4)\n",
            "\u001b[31mERROR: turicreate 5.4 requires mxnet<1.2.0,>=1.1.0, which is not installed.\u001b[0m\n",
            "\u001b[31mERROR: tensorflow 1.15.0 has requirement numpy<2.0,>=1.16.0, but you'll have numpy 1.14.6 which is incompatible.\u001b[0m\n",
            "\u001b[31mERROR: spacy 2.1.9 has requirement numpy>=1.15.0, but you'll have numpy 1.14.6 which is incompatible.\u001b[0m\n",
            "\u001b[31mERROR: imgaug 0.2.9 has requirement numpy>=1.15.0, but you'll have numpy 1.14.6 which is incompatible.\u001b[0m\n",
            "\u001b[31mERROR: fastai 1.0.59 has requirement numpy>=1.15, but you'll have numpy 1.14.6 which is incompatible.\u001b[0m\n",
            "\u001b[31mERROR: datascience 0.10.6 has requirement folium==0.2.1, but you'll have folium 0.8.3 which is incompatible.\u001b[0m\n",
            "\u001b[31mERROR: cvxpy 1.0.25 has requirement numpy>=1.15, but you'll have numpy 1.14.6 which is incompatible.\u001b[0m\n",
            "\u001b[31mERROR: blis 0.2.4 has requirement numpy>=1.15.0, but you'll have numpy 1.14.6 which is incompatible.\u001b[0m\n",
            "\u001b[31mERROR: albumentations 0.1.12 has requirement imgaug<0.2.7,>=0.2.5, but you'll have imgaug 0.2.9 which is incompatible.\u001b[0m\n",
            "Installing collected packages: numpy, mxnet-cu100\n",
            "  Found existing installation: numpy 1.17.4\n",
            "    Uninstalling numpy-1.17.4:\n",
            "      Successfully uninstalled numpy-1.17.4\n",
            "Successfully installed mxnet-cu100-1.4.0.post0 numpy-1.14.6\n"
          ],
          "name": "stdout"
        },
        {
          "output_type": "display_data",
          "data": {
            "application/vnd.colab-display-data+json": {
              "pip_warning": {
                "packages": [
                  "numpy"
                ]
              }
            }
          },
          "metadata": {
            "tags": []
          }
        }
      ]
    },
    {
      "cell_type": "code",
      "metadata": {
        "id": "ED2h82k8_asW",
        "colab_type": "code",
        "outputId": "b55be140-11f2-4143-bdca-38cf79d8ee0f",
        "colab": {
          "base_uri": "https://localhost:8080/",
          "height": 34
        }
      },
      "source": [
        "import os.path\n",
        "from google.colab import drive\n",
        "\n",
        "# mount Google Drive to /content/drive/My Drive/\n",
        "if os.path.isdir(\"/content/drive/My Drive\"):\n",
        "  print(\"Google Drive already mounted\")\n",
        "else:\n",
        "  drive.mount('/content/drive')"
      ],
      "execution_count": 1,
      "outputs": [
        {
          "output_type": "stream",
          "text": [
            "Google Drive already mounted\n"
          ],
          "name": "stdout"
        }
      ]
    },
    {
      "cell_type": "code",
      "metadata": {
        "id": "RWlgWw4r_yi-",
        "colab_type": "code",
        "outputId": "f05e3fd8-6c3b-47bf-ff43-cc09a2628f8b",
        "colab": {
          "base_uri": "https://localhost:8080/",
          "height": 136
        }
      },
      "source": [
        "import mxnet as mx\n",
        "import turicreate as tc"
      ],
      "execution_count": 2,
      "outputs": [
        {
          "output_type": "stream",
          "text": [
            "WARNING: You are using MXNet 1.4.0 which may result in breaking behavior.\n",
            "         To fix this, please install the currently recommended version:\n",
            "\n",
            "             pip uninstall -y mxnet && pip install mxnet==1.1.0\n",
            "\n",
            "         If you want to use a CUDA GPU, then change 'mxnet' to 'mxnet-cu90' (adjust 'cu90' depending on your CUDA version):\n",
            "\n"
          ],
          "name": "stdout"
        }
      ]
    },
    {
      "cell_type": "code",
      "metadata": {
        "id": "oAZZJuxN_zZ6",
        "colab_type": "code",
        "colab": {}
      },
      "source": [
        "# Use all GPUs (default)\n",
        "tc.config.set_num_gpus(-1)\n",
        "\n",
        "# Use only 1 GPU\n",
        "#tc.config.set_num_gpus(1)\n",
        "\n",
        "# Use CPU\n",
        "#tc.config.set_num_gpus(0)"
      ],
      "execution_count": 0,
      "outputs": []
    },
    {
      "cell_type": "code",
      "metadata": {
        "id": "QcyNZnMt_1at",
        "colab_type": "code",
        "colab": {}
      },
      "source": [
        "import pandas as pd\n",
        "import numpy as np\n",
        "import matplotlib.pyplot as plt\n",
        "import seaborn as sns\n",
        "import re\n",
        "from sklearn.preprocessing import StandardScaler\n",
        "from sklearn.preprocessing import MinMaxScaler\n",
        "from sklearn.model_selection import KFold\n",
        "from sklearn.metrics import mean_squared_error\n",
        "from math import sqrt\n",
        "import pickle"
      ],
      "execution_count": 0,
      "outputs": []
    },
    {
      "cell_type": "code",
      "metadata": {
        "id": "Bpw_AWUUAunX",
        "colab_type": "code",
        "colab": {}
      },
      "source": [
        "from sklearn.model_selection import train_test_split\n",
        "from sklearn.neighbors import KNeighborsClassifier\n",
        "from sklearn.metrics import accuracy_score\n",
        "from sklearn.ensemble import RandomForestClassifier\n",
        "from sklearn.ensemble import GradientBoostingClassifier\n",
        "from sklearn.model_selection import GridSearchCV\n",
        "from sklearn.preprocessing import OrdinalEncoder\n",
        "from scipy.stats import boxcox"
      ],
      "execution_count": 0,
      "outputs": []
    },
    {
      "cell_type": "markdown",
      "metadata": {
        "id": "FBynGtTwRW7-",
        "colab_type": "text"
      },
      "source": [
        "# Data loading"
      ]
    },
    {
      "cell_type": "code",
      "metadata": {
        "id": "GlilIFX4BBxP",
        "colab_type": "code",
        "outputId": "18d164b0-0b6d-4221-c6fc-1ac6536271df",
        "colab": {
          "base_uri": "https://localhost:8080/",
          "height": 204
        }
      },
      "source": [
        "base_db = pd.read_csv(\"/content/drive/My Drive/Colab Notebooks/data/ML_Project/base_db.csv\").drop(columns=\"Unnamed: 0\")\n",
        "base_db.head()"
      ],
      "execution_count": 6,
      "outputs": [
        {
          "output_type": "execute_result",
          "data": {
            "text/html": [
              "<div>\n",
              "<style scoped>\n",
              "    .dataframe tbody tr th:only-of-type {\n",
              "        vertical-align: middle;\n",
              "    }\n",
              "\n",
              "    .dataframe tbody tr th {\n",
              "        vertical-align: top;\n",
              "    }\n",
              "\n",
              "    .dataframe thead th {\n",
              "        text-align: right;\n",
              "    }\n",
              "</style>\n",
              "<table border=\"1\" class=\"dataframe\">\n",
              "  <thead>\n",
              "    <tr style=\"text-align: right;\">\n",
              "      <th></th>\n",
              "      <th>test_cas</th>\n",
              "      <th>exposure_type</th>\n",
              "      <th>obs_duration_mean</th>\n",
              "      <th>conc1_type</th>\n",
              "      <th>conc1_mean</th>\n",
              "      <th>class</th>\n",
              "      <th>tax_order</th>\n",
              "      <th>family</th>\n",
              "      <th>genus</th>\n",
              "      <th>species</th>\n",
              "      <th>organism_lifestage</th>\n",
              "      <th>organism_characteristics</th>\n",
              "      <th>ecotox_group</th>\n",
              "    </tr>\n",
              "  </thead>\n",
              "  <tbody>\n",
              "    <tr>\n",
              "      <th>0</th>\n",
              "      <td>10108642</td>\n",
              "      <td>S</td>\n",
              "      <td>48.0</td>\n",
              "      <td>T</td>\n",
              "      <td>46.900000</td>\n",
              "      <td>Actinopterygii</td>\n",
              "      <td>Cypriniformes</td>\n",
              "      <td>Cyprinidae</td>\n",
              "      <td>Carassius</td>\n",
              "      <td>auratus</td>\n",
              "      <td>NR</td>\n",
              "      <td>1.93 (0.82-4.15) G</td>\n",
              "      <td>Fish,Standard Test Species,U.S. Exotic/Nuisanc...</td>\n",
              "    </tr>\n",
              "    <tr>\n",
              "      <th>1</th>\n",
              "      <td>88302</td>\n",
              "      <td>S</td>\n",
              "      <td>6.0</td>\n",
              "      <td>A</td>\n",
              "      <td>2.920000</td>\n",
              "      <td>Actinopterygii</td>\n",
              "      <td>Salmoniformes</td>\n",
              "      <td>Salmonidae</td>\n",
              "      <td>Oncorhynchus</td>\n",
              "      <td>mykiss</td>\n",
              "      <td>FI</td>\n",
              "      <td>NR</td>\n",
              "      <td>Fish,Standard Test Species,U.S. Exotic/Nuisanc...</td>\n",
              "    </tr>\n",
              "    <tr>\n",
              "      <th>2</th>\n",
              "      <td>1397940</td>\n",
              "      <td>S</td>\n",
              "      <td>96.0</td>\n",
              "      <td>A</td>\n",
              "      <td>0.000063</td>\n",
              "      <td>Actinopterygii</td>\n",
              "      <td>Perciformes</td>\n",
              "      <td>Centrarchidae</td>\n",
              "      <td>Micropterus</td>\n",
              "      <td>salmoides</td>\n",
              "      <td>NR</td>\n",
              "      <td>20.5G</td>\n",
              "      <td>Fish</td>\n",
              "    </tr>\n",
              "    <tr>\n",
              "      <th>3</th>\n",
              "      <td>25474413</td>\n",
              "      <td>S</td>\n",
              "      <td>96.0</td>\n",
              "      <td>A</td>\n",
              "      <td>0.012000</td>\n",
              "      <td>Actinopterygii</td>\n",
              "      <td>Perciformes</td>\n",
              "      <td>Centrarchidae</td>\n",
              "      <td>Lepomis</td>\n",
              "      <td>macrochirus</td>\n",
              "      <td>NR</td>\n",
              "      <td>1G</td>\n",
              "      <td>Fish,Standard Test Species</td>\n",
              "    </tr>\n",
              "    <tr>\n",
              "      <th>4</th>\n",
              "      <td>540727</td>\n",
              "      <td>F</td>\n",
              "      <td>36.0</td>\n",
              "      <td>T</td>\n",
              "      <td>144.000000</td>\n",
              "      <td>Actinopterygii</td>\n",
              "      <td>Salmoniformes</td>\n",
              "      <td>Salmonidae</td>\n",
              "      <td>Oncorhynchus</td>\n",
              "      <td>mykiss</td>\n",
              "      <td>JV</td>\n",
              "      <td>0.62 G</td>\n",
              "      <td>Fish,Standard Test Species,U.S. Exotic/Nuisanc...</td>\n",
              "    </tr>\n",
              "  </tbody>\n",
              "</table>\n",
              "</div>"
            ],
            "text/plain": [
              "   test_cas  ...                                       ecotox_group\n",
              "0  10108642  ...  Fish,Standard Test Species,U.S. Exotic/Nuisanc...\n",
              "1     88302  ...  Fish,Standard Test Species,U.S. Exotic/Nuisanc...\n",
              "2   1397940  ...                                               Fish\n",
              "3  25474413  ...                         Fish,Standard Test Species\n",
              "4    540727  ...  Fish,Standard Test Species,U.S. Exotic/Nuisanc...\n",
              "\n",
              "[5 rows x 13 columns]"
            ]
          },
          "metadata": {
            "tags": []
          },
          "execution_count": 6
        }
      ]
    },
    {
      "cell_type": "code",
      "metadata": {
        "id": "XF2TroEGBwSC",
        "colab_type": "code",
        "outputId": "9b7eb62f-88f5-4966-ce9d-16cfe51a0327",
        "colab": {
          "base_uri": "https://localhost:8080/",
          "height": 204
        }
      },
      "source": [
        "X_original = base_db.copy()\n",
        "X_original = X_original[[\"test_cas\", \"species\", \"conc1_mean\", \"obs_duration_mean\"]]\n",
        "X_original.head()"
      ],
      "execution_count": 7,
      "outputs": [
        {
          "output_type": "execute_result",
          "data": {
            "text/html": [
              "<div>\n",
              "<style scoped>\n",
              "    .dataframe tbody tr th:only-of-type {\n",
              "        vertical-align: middle;\n",
              "    }\n",
              "\n",
              "    .dataframe tbody tr th {\n",
              "        vertical-align: top;\n",
              "    }\n",
              "\n",
              "    .dataframe thead th {\n",
              "        text-align: right;\n",
              "    }\n",
              "</style>\n",
              "<table border=\"1\" class=\"dataframe\">\n",
              "  <thead>\n",
              "    <tr style=\"text-align: right;\">\n",
              "      <th></th>\n",
              "      <th>test_cas</th>\n",
              "      <th>species</th>\n",
              "      <th>conc1_mean</th>\n",
              "      <th>obs_duration_mean</th>\n",
              "    </tr>\n",
              "  </thead>\n",
              "  <tbody>\n",
              "    <tr>\n",
              "      <th>0</th>\n",
              "      <td>10108642</td>\n",
              "      <td>auratus</td>\n",
              "      <td>46.900000</td>\n",
              "      <td>48.0</td>\n",
              "    </tr>\n",
              "    <tr>\n",
              "      <th>1</th>\n",
              "      <td>88302</td>\n",
              "      <td>mykiss</td>\n",
              "      <td>2.920000</td>\n",
              "      <td>6.0</td>\n",
              "    </tr>\n",
              "    <tr>\n",
              "      <th>2</th>\n",
              "      <td>1397940</td>\n",
              "      <td>salmoides</td>\n",
              "      <td>0.000063</td>\n",
              "      <td>96.0</td>\n",
              "    </tr>\n",
              "    <tr>\n",
              "      <th>3</th>\n",
              "      <td>25474413</td>\n",
              "      <td>macrochirus</td>\n",
              "      <td>0.012000</td>\n",
              "      <td>96.0</td>\n",
              "    </tr>\n",
              "    <tr>\n",
              "      <th>4</th>\n",
              "      <td>540727</td>\n",
              "      <td>mykiss</td>\n",
              "      <td>144.000000</td>\n",
              "      <td>36.0</td>\n",
              "    </tr>\n",
              "  </tbody>\n",
              "</table>\n",
              "</div>"
            ],
            "text/plain": [
              "   test_cas      species  conc1_mean  obs_duration_mean\n",
              "0  10108642      auratus   46.900000               48.0\n",
              "1     88302       mykiss    2.920000                6.0\n",
              "2   1397940    salmoides    0.000063               96.0\n",
              "3  25474413  macrochirus    0.012000               96.0\n",
              "4    540727       mykiss  144.000000               36.0"
            ]
          },
          "metadata": {
            "tags": []
          },
          "execution_count": 7
        }
      ]
    },
    {
      "cell_type": "code",
      "metadata": {
        "id": "NOl5A921CUt9",
        "colab_type": "code",
        "colab": {}
      },
      "source": [
        "X_original = X_original[X_original.obs_duration_mean==96]"
      ],
      "execution_count": 0,
      "outputs": []
    },
    {
      "cell_type": "code",
      "metadata": {
        "id": "YyTx2k1nCVwF",
        "colab_type": "code",
        "outputId": "3df5cd1e-ca9b-40bb-e56d-4524bca10ec3",
        "colab": {
          "base_uri": "https://localhost:8080/",
          "height": 313
        }
      },
      "source": [
        "X_original = X_original.groupby(by=[\"test_cas\", \"species\"]).agg(\"median\").reset_index()\n",
        "X_original[\"score\"] = np.where(X_original.conc1_mean.values>1, 1, 0)\n",
        "\n",
        "print(\"Number of positive sample\", X_original[X_original.score==1].index.size)\n",
        "print(\"Number of negative sample\", X_original[X_original.score==0].index.size)\n",
        "\n",
        "enc = OrdinalEncoder(dtype=int)\n",
        "enc.fit(X_original[[\"test_cas\", \"species\"]])\n",
        "X_original[[\"test_cas\", \"species\"]] = enc.transform(X_original[[\"test_cas\", \"species\"]])\n",
        "X_fact_scored = X_original.drop(columns=[\"conc1_mean\", \"obs_duration_mean\"]).reset_index(drop=True)\n",
        "\n",
        "# plotting the distribution of conc inside this case\n",
        "X_fact_scored.score.hist(bins=100)\n",
        "#plt.yscale('log')\n",
        "plt.xlabel(\"score\")\n",
        "plt.ylabel(\"Count\");"
      ],
      "execution_count": 9,
      "outputs": [
        {
          "output_type": "stream",
          "text": [
            "Number of positive sample 5694\n",
            "Number of negative sample 3106\n"
          ],
          "name": "stdout"
        },
        {
          "output_type": "display_data",
          "data": {
            "image/png": "[encoded data removed]",
            "text/plain": [
              "<Figure size 432x288 with 1 Axes>"
            ]
          },
          "metadata": {
            "tags": []
          }
        }
      ]
    },
    {
      "cell_type": "markdown",
      "metadata": {
        "id": "Juu0yWAXRRh_",
        "colab_type": "text"
      },
      "source": [
        "# Basic tests"
      ]
    },
    {
      "cell_type": "code",
      "metadata": {
        "id": "bQz3DUnkMFb9",
        "colab_type": "code",
        "colab": {}
      },
      "source": [
        "X_train_original, X_test_original, X_train_scored, X_test_scored = train_test_split(X_original, X_fact_scored, test_size=0.33)\n",
        "X_train_original = X_train_original.reset_index(drop=True)\n",
        "X_test_original = X_test_original.reset_index(drop=True)\n",
        "X_train_scored = X_train_scored.reset_index(drop=True)\n",
        "X_test_scored = X_test_scored.reset_index(drop=True)"
      ],
      "execution_count": 0,
      "outputs": []
    },
    {
      "cell_type": "code",
      "metadata": {
        "id": "2Psp7--dB-cN",
        "colab_type": "code",
        "outputId": "4cb1b87d-0b09-4f2a-a04f-1e0f0cc4f815",
        "colab": {
          "base_uri": "https://localhost:8080/",
          "height": 279
        }
      },
      "source": [
        "X_train = tc.SFrame(X_train_scored)\n",
        "X_train"
      ],
      "execution_count": 48,
      "outputs": [
        {
          "output_type": "execute_result",
          "data": {
            "text/html": [
              "<div style=\"max-height:1000px;max-width:1500px;overflow:auto;\"><table frame=\"box\" rules=\"cols\">\n",
              "    <tr>\n",
              "        <th style=\"padding-left: 1em; padding-right: 1em; text-align: center\">test_cas</th>\n",
              "        <th style=\"padding-left: 1em; padding-right: 1em; text-align: center\">species</th>\n",
              "        <th style=\"padding-left: 1em; padding-right: 1em; text-align: center\">score</th>\n",
              "    </tr>\n",
              "    <tr>\n",
              "        <td style=\"padding-left: 1em; padding-right: 1em; text-align: center; vertical-align: top\">1256</td>\n",
              "        <td style=\"padding-left: 1em; padding-right: 1em; text-align: center; vertical-align: top\">404</td>\n",
              "        <td style=\"padding-left: 1em; padding-right: 1em; text-align: center; vertical-align: top\">1</td>\n",
              "    </tr>\n",
              "    <tr>\n",
              "        <td style=\"padding-left: 1em; padding-right: 1em; text-align: center; vertical-align: top\">271</td>\n",
              "        <td style=\"padding-left: 1em; padding-right: 1em; text-align: center; vertical-align: top\">336</td>\n",
              "        <td style=\"padding-left: 1em; padding-right: 1em; text-align: center; vertical-align: top\">1</td>\n",
              "    </tr>\n",
              "    <tr>\n",
              "        <td style=\"padding-left: 1em; padding-right: 1em; text-align: center; vertical-align: top\">1497</td>\n",
              "        <td style=\"padding-left: 1em; padding-right: 1em; text-align: center; vertical-align: top\">246</td>\n",
              "        <td style=\"padding-left: 1em; padding-right: 1em; text-align: center; vertical-align: top\">1</td>\n",
              "    </tr>\n",
              "    <tr>\n",
              "        <td style=\"padding-left: 1em; padding-right: 1em; text-align: center; vertical-align: top\">378</td>\n",
              "        <td style=\"padding-left: 1em; padding-right: 1em; text-align: center; vertical-align: top\">220</td>\n",
              "        <td style=\"padding-left: 1em; padding-right: 1em; text-align: center; vertical-align: top\">1</td>\n",
              "    </tr>\n",
              "    <tr>\n",
              "        <td style=\"padding-left: 1em; padding-right: 1em; text-align: center; vertical-align: top\">1587</td>\n",
              "        <td style=\"padding-left: 1em; padding-right: 1em; text-align: center; vertical-align: top\">220</td>\n",
              "        <td style=\"padding-left: 1em; padding-right: 1em; text-align: center; vertical-align: top\">1</td>\n",
              "    </tr>\n",
              "    <tr>\n",
              "        <td style=\"padding-left: 1em; padding-right: 1em; text-align: center; vertical-align: top\">70</td>\n",
              "        <td style=\"padding-left: 1em; padding-right: 1em; text-align: center; vertical-align: top\">159</td>\n",
              "        <td style=\"padding-left: 1em; padding-right: 1em; text-align: center; vertical-align: top\">1</td>\n",
              "    </tr>\n",
              "    <tr>\n",
              "        <td style=\"padding-left: 1em; padding-right: 1em; text-align: center; vertical-align: top\">1605</td>\n",
              "        <td style=\"padding-left: 1em; padding-right: 1em; text-align: center; vertical-align: top\">342</td>\n",
              "        <td style=\"padding-left: 1em; padding-right: 1em; text-align: center; vertical-align: top\">0</td>\n",
              "    </tr>\n",
              "    <tr>\n",
              "        <td style=\"padding-left: 1em; padding-right: 1em; text-align: center; vertical-align: top\">532</td>\n",
              "        <td style=\"padding-left: 1em; padding-right: 1em; text-align: center; vertical-align: top\">79</td>\n",
              "        <td style=\"padding-left: 1em; padding-right: 1em; text-align: center; vertical-align: top\">0</td>\n",
              "    </tr>\n",
              "    <tr>\n",
              "        <td style=\"padding-left: 1em; padding-right: 1em; text-align: center; vertical-align: top\">267</td>\n",
              "        <td style=\"padding-left: 1em; padding-right: 1em; text-align: center; vertical-align: top\">220</td>\n",
              "        <td style=\"padding-left: 1em; padding-right: 1em; text-align: center; vertical-align: top\">0</td>\n",
              "    </tr>\n",
              "    <tr>\n",
              "        <td style=\"padding-left: 1em; padding-right: 1em; text-align: center; vertical-align: top\">70</td>\n",
              "        <td style=\"padding-left: 1em; padding-right: 1em; text-align: center; vertical-align: top\">241</td>\n",
              "        <td style=\"padding-left: 1em; padding-right: 1em; text-align: center; vertical-align: top\">1</td>\n",
              "    </tr>\n",
              "</table>\n",
              "[5896 rows x 3 columns]<br/>Note: Only the head of the SFrame is printed.<br/>You can use print_rows(num_rows=m, num_columns=n) to print more rows and columns.\n",
              "</div>"
            ],
            "text/plain": [
              "Columns:\n",
              "\ttest_cas\tint\n",
              "\tspecies\tint\n",
              "\tscore\tint\n",
              "\n",
              "Rows: 5896\n",
              "\n",
              "Data:\n",
              "+----------+---------+-------+\n",
              "| test_cas | species | score |\n",
              "+----------+---------+-------+\n",
              "|   1256   |   404   |   1   |\n",
              "|   271    |   336   |   1   |\n",
              "|   1497   |   246   |   1   |\n",
              "|   378    |   220   |   1   |\n",
              "|   1587   |   220   |   1   |\n",
              "|    70    |   159   |   1   |\n",
              "|   1605   |   342   |   0   |\n",
              "|   532    |    79   |   0   |\n",
              "|   267    |   220   |   0   |\n",
              "|    70    |   241   |   1   |\n",
              "+----------+---------+-------+\n",
              "[5896 rows x 3 columns]\n",
              "Note: Only the head of the SFrame is printed.\n",
              "You can use print_rows(num_rows=m, num_columns=n) to print more rows and columns."
            ]
          },
          "metadata": {
            "tags": []
          },
          "execution_count": 48
        }
      ]
    },
    {
      "cell_type": "code",
      "metadata": {
        "id": "ZwLXWiD5DFq8",
        "colab_type": "code",
        "outputId": "3261cde3-aec4-4c5b-bb67-bbe5ac21b84f",
        "colab": {
          "base_uri": "https://localhost:8080/",
          "height": 816
        }
      },
      "source": [
        "model = tc.recommender.factorization_recommender.create(X_train, 'test_cas', 'species', target='score', max_iterations=1000, binary_target=True)"
      ],
      "execution_count": 49,
      "outputs": [
        {
          "output_type": "display_data",
          "data": {
            "text/html": [
              "<pre>Preparing data set.</pre>"
            ],
            "text/plain": [
              "Preparing data set."
            ]
          },
          "metadata": {
            "tags": []
          }
        },
        {
          "output_type": "display_data",
          "data": {
            "text/html": [
              "<pre>    Data has 5896 observations with 2089 users and 364 items.</pre>"
            ],
            "text/plain": [
              "    Data has 5896 observations with 2089 users and 364 items."
            ]
          },
          "metadata": {
            "tags": []
          }
        },
        {
          "output_type": "display_data",
          "data": {
            "text/html": [
              "<pre>    Data prepared in: 0.01687s</pre>"
            ],
            "text/plain": [
              "    Data prepared in: 0.01687s"
            ]
          },
          "metadata": {
            "tags": []
          }
        },
        {
          "output_type": "display_data",
          "data": {
            "text/html": [
              "<pre>Training factorization_recommender for recommendations.</pre>"
            ],
            "text/plain": [
              "Training factorization_recommender for recommendations."
            ]
          },
          "metadata": {
            "tags": []
          }
        },
        {
          "output_type": "display_data",
          "data": {
            "text/html": [
              "<pre>+--------------------------------+--------------------------------------------------+----------+</pre>"
            ],
            "text/plain": [
              "+--------------------------------+--------------------------------------------------+----------+"
            ]
          },
          "metadata": {
            "tags": []
          }
        },
        {
          "output_type": "display_data",
          "data": {
            "text/html": [
              "<pre>| Parameter                      | Description                                      | Value    |</pre>"
            ],
            "text/plain": [
              "| Parameter                      | Description                                      | Value    |"
            ]
          },
          "metadata": {
            "tags": []
          }
        },
        {
          "output_type": "display_data",
          "data": {
            "text/html": [
              "<pre>+--------------------------------+--------------------------------------------------+----------+</pre>"
            ],
            "text/plain": [
              "+--------------------------------+--------------------------------------------------+----------+"
            ]
          },
          "metadata": {
            "tags": []
          }
        },
        {
          "output_type": "display_data",
          "data": {
            "text/html": [
              "<pre>| num_factors                    | Factor Dimension                                 | 8        |</pre>"
            ],
            "text/plain": [
              "| num_factors                    | Factor Dimension                                 | 8        |"
            ]
          },
          "metadata": {
            "tags": []
          }
        },
        {
          "output_type": "display_data",
          "data": {
            "text/html": [
              "<pre>| regularization                 | L2 Regularization on Factors                     | 1e-08    |</pre>"
            ],
            "text/plain": [
              "| regularization                 | L2 Regularization on Factors                     | 1e-08    |"
            ]
          },
          "metadata": {
            "tags": []
          }
        },
        {
          "output_type": "display_data",
          "data": {
            "text/html": [
              "<pre>| solver                         | Solver used for training                         | sgd      |</pre>"
            ],
            "text/plain": [
              "| solver                         | Solver used for training                         | sgd      |"
            ]
          },
          "metadata": {
            "tags": []
          }
        },
        {
          "output_type": "display_data",
          "data": {
            "text/html": [
              "<pre>| linear_regularization          | L2 Regularization on Linear Coefficients         | 1e-10    |</pre>"
            ],
            "text/plain": [
              "| linear_regularization          | L2 Regularization on Linear Coefficients         | 1e-10    |"
            ]
          },
          "metadata": {
            "tags": []
          }
        },
        {
          "output_type": "display_data",
          "data": {
            "text/html": [
              "<pre>| binary_target                  | Assume Binary Targets                            | True     |</pre>"
            ],
            "text/plain": [
              "| binary_target                  | Assume Binary Targets                            | True     |"
            ]
          },
          "metadata": {
            "tags": []
          }
        },
        {
          "output_type": "display_data",
          "data": {
            "text/html": [
              "<pre>| max_iterations                 | Maximum Number of Iterations                     | 1000     |</pre>"
            ],
            "text/plain": [
              "| max_iterations                 | Maximum Number of Iterations                     | 1000     |"
            ]
          },
          "metadata": {
            "tags": []
          }
        },
        {
          "output_type": "display_data",
          "data": {
            "text/html": [
              "<pre>+--------------------------------+--------------------------------------------------+----------+</pre>"
            ],
            "text/plain": [
              "+--------------------------------+--------------------------------------------------+----------+"
            ]
          },
          "metadata": {
            "tags": []
          }
        },
        {
          "output_type": "display_data",
          "data": {
            "text/html": [
              "<pre>  Optimizing model using SGD; tuning step size.</pre>"
            ],
            "text/plain": [
              "  Optimizing model using SGD; tuning step size."
            ]
          },
          "metadata": {
            "tags": []
          }
        },
        {
          "output_type": "display_data",
          "data": {
            "text/html": [
              "<pre>  Using 5896 / 5896 points for tuning the step size.</pre>"
            ],
            "text/plain": [
              "  Using 5896 / 5896 points for tuning the step size."
            ]
          },
          "metadata": {
            "tags": []
          }
        },
        {
          "output_type": "display_data",
          "data": {
            "text/html": [
              "<pre>+---------+-------------------+------------------------------------------+</pre>"
            ],
            "text/plain": [
              "+---------+-------------------+------------------------------------------+"
            ]
          },
          "metadata": {
            "tags": []
          }
        },
        {
          "output_type": "display_data",
          "data": {
            "text/html": [
              "<pre>| Attempt | Initial Step Size | Estimated Objective Value                |</pre>"
            ],
            "text/plain": [
              "| Attempt | Initial Step Size | Estimated Objective Value                |"
            ]
          },
          "metadata": {
            "tags": []
          }
        },
        {
          "output_type": "display_data",
          "data": {
            "text/html": [
              "<pre>+---------+-------------------+------------------------------------------+</pre>"
            ],
            "text/plain": [
              "+---------+-------------------+------------------------------------------+"
            ]
          },
          "metadata": {
            "tags": []
          }
        },
        {
          "output_type": "display_data",
          "data": {
            "text/html": [
              "<pre>| 0       | 25                | 0.115701                                 |</pre>"
            ],
            "text/plain": [
              "| 0       | 25                | 0.115701                                 |"
            ]
          },
          "metadata": {
            "tags": []
          }
        },
        {
          "output_type": "display_data",
          "data": {
            "text/html": [
              "<pre>| 1       | 12.5              | 0.114682                                 |</pre>"
            ],
            "text/plain": [
              "| 1       | 12.5              | 0.114682                                 |"
            ]
          },
          "metadata": {
            "tags": []
          }
        },
        {
          "output_type": "display_data",
          "data": {
            "text/html": [
              "<pre>| 2       | 6.25              | 0.104112                                 |</pre>"
            ],
            "text/plain": [
              "| 2       | 6.25              | 0.104112                                 |"
            ]
          },
          "metadata": {
            "tags": []
          }
        },
        {
          "output_type": "display_data",
          "data": {
            "text/html": [
              "<pre>| 3       | 3.125             | 0.0525819                                |</pre>"
            ],
            "text/plain": [
              "| 3       | 3.125             | 0.0525819                                |"
            ]
          },
          "metadata": {
            "tags": []
          }
        },
        {
          "output_type": "display_data",
          "data": {
            "text/html": [
              "<pre>| 4       | 1.5625            | 0.0271737                                |</pre>"
            ],
            "text/plain": [
              "| 4       | 1.5625            | 0.0271737                                |"
            ]
          },
          "metadata": {
            "tags": []
          }
        },
        {
          "output_type": "display_data",
          "data": {
            "text/html": [
              "<pre>| 5       | 0.78125           | 0.132446                                 |</pre>"
            ],
            "text/plain": [
              "| 5       | 0.78125           | 0.132446                                 |"
            ]
          },
          "metadata": {
            "tags": []
          }
        },
        {
          "output_type": "display_data",
          "data": {
            "text/html": [
              "<pre>+---------+-------------------+------------------------------------------+</pre>"
            ],
            "text/plain": [
              "+---------+-------------------+------------------------------------------+"
            ]
          },
          "metadata": {
            "tags": []
          }
        },
        {
          "output_type": "display_data",
          "data": {
            "text/html": [
              "<pre>| Final   | 1.5625            | 0.0271737                                |</pre>"
            ],
            "text/plain": [
              "| Final   | 1.5625            | 0.0271737                                |"
            ]
          },
          "metadata": {
            "tags": []
          }
        },
        {
          "output_type": "display_data",
          "data": {
            "text/html": [
              "<pre>+---------+-------------------+------------------------------------------+</pre>"
            ],
            "text/plain": [
              "+---------+-------------------+------------------------------------------+"
            ]
          },
          "metadata": {
            "tags": []
          }
        },
        {
          "output_type": "display_data",
          "data": {
            "text/html": [
              "<pre>Starting Optimization.</pre>"
            ],
            "text/plain": [
              "Starting Optimization."
            ]
          },
          "metadata": {
            "tags": []
          }
        },
        {
          "output_type": "display_data",
          "data": {
            "text/html": [
              "<pre>+---------+--------------+-------------------+-----------------------------------+-------------+</pre>"
            ],
            "text/plain": [
              "+---------+--------------+-------------------+-----------------------------------+-------------+"
            ]
          },
          "metadata": {
            "tags": []
          }
        },
        {
          "output_type": "display_data",
          "data": {
            "text/html": [
              "<pre>| Iter.   | Elapsed Time | Approx. Objective | Approx. Training Predictive Error | Step Size   |</pre>"
            ],
            "text/plain": [
              "| Iter.   | Elapsed Time | Approx. Objective | Approx. Training Predictive Error | Step Size   |"
            ]
          },
          "metadata": {
            "tags": []
          }
        },
        {
          "output_type": "display_data",
          "data": {
            "text/html": [
              "<pre>+---------+--------------+-------------------+-----------------------------------+-------------+</pre>"
            ],
            "text/plain": [
              "+---------+--------------+-------------------+-----------------------------------+-------------+"
            ]
          },
          "metadata": {
            "tags": []
          }
        },
        {
          "output_type": "display_data",
          "data": {
            "text/html": [
              "<pre>| Initial | 159us        | 0.650742          | 0.650742                          |             |</pre>"
            ],
            "text/plain": [
              "| Initial | 159us        | 0.650742          | 0.650742                          |             |"
            ]
          },
          "metadata": {
            "tags": []
          }
        },
        {
          "output_type": "display_data",
          "data": {
            "text/html": [
              "<pre>+---------+--------------+-------------------+-----------------------------------+-------------+</pre>"
            ],
            "text/plain": [
              "+---------+--------------+-------------------+-----------------------------------+-------------+"
            ]
          },
          "metadata": {
            "tags": []
          }
        },
        {
          "output_type": "display_data",
          "data": {
            "text/html": [
              "<pre>| 1       | 12.388ms     | 0.65449           | 0.654395                          | 1.5625      |</pre>"
            ],
            "text/plain": [
              "| 1       | 12.388ms     | 0.65449           | 0.654395                          | 1.5625      |"
            ]
          },
          "metadata": {
            "tags": []
          }
        },
        {
          "output_type": "display_data",
          "data": {
            "text/html": [
              "<pre>| 2       | 23.029ms     | 0.386606          | 0.386503                          | 0.929068    |</pre>"
            ],
            "text/plain": [
              "| 2       | 23.029ms     | 0.386606          | 0.386503                          | 0.929068    |"
            ]
          },
          "metadata": {
            "tags": []
          }
        },
        {
          "output_type": "display_data",
          "data": {
            "text/html": [
              "<pre>| 3       | 32.142ms     | 0.233789          | 0.233683                          | 0.685455    |</pre>"
            ],
            "text/plain": [
              "| 3       | 32.142ms     | 0.233789          | 0.233683                          | 0.685455    |"
            ]
          },
          "metadata": {
            "tags": []
          }
        },
        {
          "output_type": "display_data",
          "data": {
            "text/html": [
              "<pre>| 4       | 38.076ms     | 0.104245          | 0.104138                          | 0.464534    |</pre>"
            ],
            "text/plain": [
              "| 4       | 38.076ms     | 0.104245          | 0.104138                          | 0.464534    |"
            ]
          },
          "metadata": {
            "tags": []
          }
        },
        {
          "output_type": "display_data",
          "data": {
            "text/html": [
              "<pre>| 5       | 47.731ms     | 0.0347043         | 0.0345952                         | 0.392948    |</pre>"
            ],
            "text/plain": [
              "| 5       | 47.731ms     | 0.0347043         | 0.0345952                         | 0.392948    |"
            ]
          },
          "metadata": {
            "tags": []
          }
        },
        {
          "output_type": "display_data",
          "data": {
            "text/html": [
              "<pre>| 10      | 85.644ms     | 0.00234145        | 0.00222937                        | 0.233648    |</pre>"
            ],
            "text/plain": [
              "| 10      | 85.644ms     | 0.00234145        | 0.00222937                        | 0.233648    |"
            ]
          },
          "metadata": {
            "tags": []
          }
        },
        {
          "output_type": "display_data",
          "data": {
            "text/html": [
              "<pre>| 50      | 302.621ms    | 0.00106752        | 0.000951056                       | 0.0698771   |</pre>"
            ],
            "text/plain": [
              "| 50      | 302.621ms    | 0.00106752        | 0.000951056                       | 0.0698771   |"
            ]
          },
          "metadata": {
            "tags": []
          }
        },
        {
          "output_type": "display_data",
          "data": {
            "text/html": [
              "<pre>| 88      | 519.64ms     | 0.000880532       | 0.000762701                       | 0.0457299   |</pre>"
            ],
            "text/plain": [
              "| 88      | 519.64ms     | 0.000880532       | 0.000762701                       | 0.0457299   |"
            ]
          },
          "metadata": {
            "tags": []
          }
        },
        {
          "output_type": "display_data",
          "data": {
            "text/html": [
              "<pre>+---------+--------------+-------------------+-----------------------------------+-------------+</pre>"
            ],
            "text/plain": [
              "+---------+--------------+-------------------+-----------------------------------+-------------+"
            ]
          },
          "metadata": {
            "tags": []
          }
        },
        {
          "output_type": "display_data",
          "data": {
            "text/html": [
              "<pre>Optimization Complete: Convergence on objective within bounds.</pre>"
            ],
            "text/plain": [
              "Optimization Complete: Convergence on objective within bounds."
            ]
          },
          "metadata": {
            "tags": []
          }
        },
        {
          "output_type": "display_data",
          "data": {
            "text/html": [
              "<pre>Computing final objective value and training Predictive Error.</pre>"
            ],
            "text/plain": [
              "Computing final objective value and training Predictive Error."
            ]
          },
          "metadata": {
            "tags": []
          }
        },
        {
          "output_type": "display_data",
          "data": {
            "text/html": [
              "<pre>       Final objective value: 0.000877426</pre>"
            ],
            "text/plain": [
              "       Final objective value: 0.000877426"
            ]
          },
          "metadata": {
            "tags": []
          }
        },
        {
          "output_type": "display_data",
          "data": {
            "text/html": [
              "<pre>       Final training Predictive Error: 0.000759594</pre>"
            ],
            "text/plain": [
              "       Final training Predictive Error: 0.000759594"
            ]
          },
          "metadata": {
            "tags": []
          }
        }
      ]
    },
    {
      "cell_type": "code",
      "metadata": {
        "id": "cfp6OSIlJ5dA",
        "colab_type": "code",
        "colab": {
          "base_uri": "https://localhost:8080/",
          "height": 88
        },
        "outputId": "038a85e2-243d-430f-89ce-c0d11618388c"
      },
      "source": [
        "X_train_predict = model.predict(X_train)\n",
        "X_train_predict"
      ],
      "execution_count": 56,
      "outputs": [
        {
          "output_type": "execute_result",
          "data": {
            "text/plain": [
              "dtype: float\n",
              "Rows: 5896\n",
              "[0.9999984126552312, 0.9999789826460919, 0.9969061672832231, 0.9997247368879468, 0.999975619914374, 0.9978793734886815, 8.506380389437176e-06, 0.0016180968269965577, 2.0441611456648644e-07, 0.9999848372356851, 1.4017912209353535e-05, 0.9999701122221086, 1.5261653232543323e-07, 0.9999818606881923, 0.999999994525709, 0.0003835835620671909, 3.7222398343410044e-06, 1.2049594703834485e-10, 0.9999997901272751, 0.9999925319629698, 0.9999999999921116, 6.109333143746655e-05, 4.944493586621488e-06, 0.999999837055403, 0.9999075584957737, 0.9999999984036225, 0.0006700942477686773, 0.9999145914849801, 0.9999805889031722, 0.9999999057791313, 0.9999966379667607, 5.3679089413306734e-05, 5.2281770188357e-05, 0.999999985764743, 0.9999223542098216, 1.0725751326343845e-05, 0.999274833152013, 0.9999999895913873, 0.9998597985399177, 1.1243280368729675e-07, 0.0036580846703071134, 0.012627223479188864, 0.00013907638689236875, 9.396097651428513e-06, 0.00036340147300515085, 0.9999915061471328, 0.00018551023459037092, 0.9999386475699782, 0.9999999999999241, 0.9998954397531151, 0.9994108179265285, 0.9995109266749832, 0.9999735911714257, 0.9981262066538101, 4.427540332493072e-05, 0.9999999947046063, 0.9998064572498899, 0.9999829333803004, 4.581807045803639e-06, 0.9981132593588339, 0.9999999790150829, 0.9996899184650079, 0.9999935014080461, 0.9996641048261397, 0.9998561647245968, 0.9999599719717773, 0.9960671052994203, 0.9999985777893995, 0.999852409316205, 0.9999076597229882, 0.9998661238392925, 0.9999999695191644, 0.0003831861866236598, 0.9999999885545515, 0.999795278030266, 0.9999962499866778, 0.999999936009165, 0.0016181542168689997, 0.9993140375910822, 0.001458731956812503, 0.01003364969518284, 0.9999993727676424, 7.273157897311517e-06, 0.9998107688723481, 0.9994995145091461, 9.32105268749966e-06, 0.9990099276455777, 0.9997038456952616, 0.9999914607310377, 0.9994332322875212, 0.9996941553171449, 0.9979593446355689, 5.936099586946584e-05, 0.0019456499780104218, 6.025213765850087e-05, 0.9999999991564519, 0.9999999997572315, 0.0019074307282141557, 0.999998039620507, 0.9999999941517868, ... ]"
            ]
          },
          "metadata": {
            "tags": []
          },
          "execution_count": 56
        }
      ]
    },
    {
      "cell_type": "code",
      "metadata": {
        "id": "1HDeZqlRJ_YL",
        "colab_type": "code",
        "colab": {
          "base_uri": "https://localhost:8080/",
          "height": 34
        },
        "outputId": "8989d126-1007-435e-d75b-094a733fe92b"
      },
      "source": [
        "X_train_predict = np.where(X_train_predict.to_numpy()>=0.5, 1, 0)\n",
        "accuracy_score(X_train_scored.score.values, X_train_predict)"
      ],
      "execution_count": 57,
      "outputs": [
        {
          "output_type": "execute_result",
          "data": {
            "text/plain": [
              "1.0"
            ]
          },
          "metadata": {
            "tags": []
          },
          "execution_count": 57
        }
      ]
    },
    {
      "cell_type": "code",
      "metadata": {
        "id": "fC0jHGf__AK4",
        "colab_type": "code",
        "colab": {}
      },
      "source": [
        "X_test = tc.SFrame(X_test_scored)"
      ],
      "execution_count": 0,
      "outputs": []
    },
    {
      "cell_type": "code",
      "metadata": {
        "id": "FUShhXfuR2Vr",
        "colab_type": "code",
        "outputId": "0a12a888-6031-44d5-bc01-5f029ecfff8e",
        "colab": {
          "base_uri": "https://localhost:8080/",
          "height": 34
        }
      },
      "source": [
        "model.evaluate_rmse(X_test, 'score')['rmse_overall']"
      ],
      "execution_count": 59,
      "outputs": [
        {
          "output_type": "execute_result",
          "data": {
            "text/plain": [
              "0.39236052237200386"
            ]
          },
          "metadata": {
            "tags": []
          },
          "execution_count": 59
        }
      ]
    },
    {
      "cell_type": "code",
      "metadata": {
        "id": "mxjKFBO2KCJ1",
        "colab_type": "code",
        "outputId": "273e45fa-d4b7-4936-fac8-7c77752ba593",
        "colab": {
          "base_uri": "https://localhost:8080/",
          "height": 88
        }
      },
      "source": [
        "X_test_predict = model.predict(X_test)\n",
        "X_test_predict"
      ],
      "execution_count": 60,
      "outputs": [
        {
          "output_type": "execute_result",
          "data": {
            "text/plain": [
              "dtype: float\n",
              "Rows: 2904\n",
              "[0.9937866361728117, 0.004664203096121119, 0.9960662015632133, 0.005885022357057466, 0.9999811274147828, 0.9939591085121265, 0.9997929566303857, 0.9939591085121265, 0.45440201078683273, 0.94700522567786, 0.9939591085121265, 0.9967022471333606, 0.0010974881257031382, 0.9997763095417705, 0.7546904645690662, 0.9517863924703769, 0.7546904645690662, 0.9995733628616169, 0.9905058541372859, 0.9771592880175752, 0.9999999999998703, 0.999650923786387, 0.9999962415792727, 0.1707380059638726, 0.9939591085121265, 0.994393698791615, 0.0003131510230881829, 0.9999977003068025, 0.14022696330634787, 0.9436851526349281, 0.9939591085121265, 0.0027556556154589356, 0.9939591085121265, 0.7546904645690662, 0.9940877336378149, 0.0003087118320619597, 0.9939591085121265, 0.988791726616002, 0.9939591085121265, 0.8784446584401034, 4.284133437589903e-05, 0.9999807920377275, 0.9986023095440083, 0.9236807571839873, 0.012306634090526434, 0.32469305146477595, 0.9998889956466726, 0.0014011141833757945, 0.00018153927577040926, 0.08094279769519881, 0.9977323236392219, 0.9653469139723796, 0.012435141187227907, 0.9919876494114356, 0.9996175887428045, 0.999912377531169, 0.005790157235619608, 0.9999783829307103, 0.22855352164799436, 0.9999999041729529, 0.9996909564010419, 2.5547876469362144e-08, 0.10617678675015015, 0.9792919579217193, 0.0001884059790013503, 0.9999971725581214, 0.027454663873242593, 0.9880102737145809, 0.9995086627373932, 0.003410645873881169, 0.00012405717016890664, 0.9995516831289984, 0.0008313943331663565, 0.8526891946053448, 0.999866661323226, 0.9920738629541536, 0.9891203233745899, 0.9999999754975218, 0.9965366732625578, 0.9999965654476163, 0.16846626653178504, 0.9939591085121265, 3.488155186722533e-05, 0.9338316371306972, 0.9893177033315104, 1.4083949871197846e-09, 0.9651831043517815, 0.9999989797017076, 0.1975227395438039, 0.0046440303767212926, 0.47459296061482464, 0.9999999999212412, 6.092297122748525e-05, 0.0017507788895996705, 0.7546904645690662, 0.00011909637786296058, 0.9995326315592159, 0.9974093007375489, 0.9939585118800865, 0.9997081904558242, ... ]"
            ]
          },
          "metadata": {
            "tags": []
          },
          "execution_count": 60
        }
      ]
    },
    {
      "cell_type": "code",
      "metadata": {
        "id": "AuCJGvJkOurK",
        "colab_type": "code",
        "colab": {
          "base_uri": "https://localhost:8080/",
          "height": 34
        },
        "outputId": "db6a46dd-499e-4925-892b-8bfdaf1d7a16"
      },
      "source": [
        "X_test_predict = np.where(X_test_predict.to_numpy()>=0.5, 1, 0)\n",
        "accuracy_score(X_test_scored.score.values, X_test_predict)"
      ],
      "execution_count": 61,
      "outputs": [
        {
          "output_type": "execute_result",
          "data": {
            "text/plain": [
              "0.8285123966942148"
            ]
          },
          "metadata": {
            "tags": []
          },
          "execution_count": 61
        }
      ]
    },
    {
      "cell_type": "markdown",
      "metadata": {
        "id": "jAcH4OmgRcl-",
        "colab_type": "text"
      },
      "source": [
        "# Implementing CV"
      ]
    },
    {
      "cell_type": "code",
      "metadata": {
        "id": "7Nwvry9cPjFr",
        "colab_type": "code",
        "colab": {}
      },
      "source": [
        "def cv_fact_class(X_scored, factors, regularizs, lin_regulars,  cv = 3, verbose=True, params_samples = True, num_samples = 5):\n",
        "  best_factor = 0\n",
        "  best_regulariz = 0\n",
        "  best_lin_regulariz = 0\n",
        "  best_acc = 0\n",
        "\n",
        "  if params_samples:\n",
        "    factors = np.random.choice(factors, num_samples)\n",
        "    regularizs = np.random.choice(regularizs, num_samples)\n",
        "    lin_regulars = np.random.choice(lin_regulars, num_samples)\n",
        "    \n",
        "  for factor in factors:\n",
        "    for regulariz in regularizs:\n",
        "      for lin_regular in lin_regulars:\n",
        "        accs = []\n",
        "        kf2 = KFold(n_splits=cv, shuffle=True)\n",
        "\n",
        "        for train_ind, test_ind in kf2.split(X_scored):\n",
        "          train = tc.SFrame(X_scored.loc[train_ind])\n",
        "          test = tc.SFrame(X_scored.loc[test_ind])\n",
        "\n",
        "          model = tc.recommender.factorization_recommender.create(train, 'test_cas', 'species', target='score', max_iterations=100, \\\n",
        "                                                                  num_factors = factor, regularization=regulariz, linear_regularization=lin_regular, solver=\"sgd\", verbose=False, binary_target=True)\n",
        "          \n",
        "          X_test_predict = model.predict(test)\n",
        "          X_test_predict = np.where(X_test_predict.to_numpy()>=0.5, 1, 0)\n",
        "          acc = accuracy_score(X_scored.loc[test_ind].score.values, X_test_predict)\n",
        "          accs.append(acc)\n",
        "        \n",
        "        acc_avg = np.mean(accs)\n",
        "        if (acc_avg > best_acc):\n",
        "          if verbose:\n",
        "            print(\"New best param combination found! Acc:{}, num_factors:{}, regularizer:{}, lin_reg:{}\".format(acc_avg, factor, regulariz, lin_regular))     \n",
        "          best_acc = acc_avg\n",
        "          best_lin_regulariz = lin_regular\n",
        "          best_regulariz = regulariz\n",
        "          best_factor = factor\n",
        "    \n",
        "  return best_acc, best_lin_regulariz, best_regulariz, best_factor\n"
      ],
      "execution_count": 0,
      "outputs": []
    },
    {
      "cell_type": "code",
      "metadata": {
        "id": "8J8yldo6EQjw",
        "colab_type": "code",
        "colab": {
          "base_uri": "https://localhost:8080/",
          "height": 323
        },
        "outputId": "b6c0c919-1073-4fe0-aaa9-f470e15695fc"
      },
      "source": [
        "factors = list(range(5, 51, 5))\n",
        "regularizs = np.logspace(-12, 0, 20)\n",
        "lin_regularizs = np.logspace(-12, 0, 20)\n",
        "best_acc, best_lin_regulariz, best_regulariz, best_factor = cv_fact_class(X_train_scored, factors, regularizs, lin_regularizs, cv = 3, verbose=True, params_samples = False)\n",
        "pickle.dump(best_acc, open(\"/content/drive/My Drive/Colab Notebooks/data/ML_Project/best_acc_class.pkl\", \"wb\" ) )\n",
        "pickle.dump(best_lin_regulariz, open(\"/content/drive/My Drive/Colab Notebooks/data/ML_Project/best_lin_reg_class.pkl\", \"wb\" ) )\n",
        "pickle.dump(best_regulariz, open(\"/content/drive/My Drive/Colab Notebooks/data/ML_Project/best_regulariz_class.pkl\", \"wb\" ) )\n",
        "pickle.dump(best_factor, open(\"/content/drive/My Drive/Colab Notebooks/data/ML_Project/best_factor_class.pkl\", \"wb\" ) )"
      ],
      "execution_count": 66,
      "outputs": [
        {
          "output_type": "stream",
          "text": [
            "New best param combination found! Acc:0.799015839241663, num_factors:5, regularizer:1e-12, lin_reg:1e-12\n",
            "New best param combination found! Acc:0.8013901292282629, num_factors:5, regularizer:1e-12, lin_reg:3.3598182862837877e-10\n",
            "New best param combination found! Acc:0.8052935527375045, num_factors:5, regularizer:1e-12, lin_reg:6.158482110660254e-09\n",
            "New best param combination found! Acc:0.8069884387427662, num_factors:5, regularizer:1e-12, lin_reg:4.832930238571752e-07\n",
            "New best param combination found! Acc:0.8073263287593931, num_factors:5, regularizer:3.3598182862837877e-10, lin_reg:4.281332398719396e-12\n",
            "New best param combination found! Acc:0.8085123951967157, num_factors:5, regularizer:3.3598182862837877e-10, lin_reg:2.6366508987303555e-08\n",
            "New best param combination found! Acc:0.8085156740068872, num_factors:5, regularizer:2.6366508987303555e-08, lin_reg:7.847599703514623e-11\n",
            "New best param combination found! Acc:0.809872669995522, num_factors:5, regularizer:2.06913808111479e-06, lin_reg:1.8329807108324375e-11\n",
            "New best param combination found! Acc:0.8134310418764459, num_factors:5, regularizer:8.858667904100815e-06, lin_reg:4.281332398719396e-12\n",
            "New best param combination found! Acc:0.8156361280012977, num_factors:5, regularizer:3.792690190732246e-05, lin_reg:1.8329807108324375e-11\n",
            "New best param combination found! Acc:0.8192001083733046, num_factors:5, regularizer:3.792690190732246e-05, lin_reg:7.847599703514623e-11\n",
            "New best param combination found! Acc:0.8200481122250437, num_factors:5, regularizer:3.792690190732246e-05, lin_reg:1.4384498882876659e-09\n",
            "New best param combination found! Acc:0.8210636805334451, num_factors:5, regularizer:0.00016237767391887175, lin_reg:1e-12\n",
            "New best param combination found! Acc:0.8259842254716957, num_factors:5, regularizer:0.00016237767391887175, lin_reg:1.8329807108324375e-11\n",
            "New best param combination found! Acc:0.8319230998216499, num_factors:5, regularizer:0.0006951927961775591, lin_reg:1.8329807108324375e-11\n",
            "New best param combination found! Acc:0.833105024604019, num_factors:5, regularizer:0.0006951927961775591, lin_reg:8.858667904100815e-06\n",
            "New best param combination found! Acc:0.8331088211210597, num_factors:10, regularizer:0.0006951927961775591, lin_reg:7.847599703514623e-11\n",
            "New best param combination found! Acc:0.8337871896886598, num_factors:20, regularizer:0.0006951927961775591, lin_reg:1e-12\n"
          ],
          "name": "stdout"
        }
      ]
    },
    {
      "cell_type": "markdown",
      "metadata": {
        "id": "ZXRJI_OWcB3y",
        "colab_type": "text"
      },
      "source": [
        "## Best params"
      ]
    },
    {
      "cell_type": "code",
      "metadata": {
        "id": "OW8QQi8jcBGA",
        "colab_type": "code",
        "colab": {}
      },
      "source": [
        "# best_factor = 20\n",
        "# best_regulariz = 0.0006951927961775591\n",
        "# best_lin_regulariz = 1e-12"
      ],
      "execution_count": 0,
      "outputs": []
    },
    {
      "cell_type": "code",
      "metadata": {
        "id": "PDQJBGnpEL_o",
        "colab_type": "code",
        "colab": {
          "base_uri": "https://localhost:8080/",
          "height": 918
        },
        "outputId": "a07ca2d0-4f35-43f7-b092-d89aa1e07fe1"
      },
      "source": [
        "X_train = tc.SFrame(X_train_scored)\n",
        "model = tc.recommender.factorization_recommender.create(X_train, 'test_cas', 'species', target='score', max_iterations=1000, \\\n",
        "                                                                  num_factors = best_factor, regularization=best_regulariz, linear_regularization=best_lin_regulariz, solver=\"sgd\", verbose=True, binary_target=True)"
      ],
      "execution_count": 67,
      "outputs": [
        {
          "output_type": "display_data",
          "data": {
            "text/html": [
              "<pre>Preparing data set.</pre>"
            ],
            "text/plain": [
              "Preparing data set."
            ]
          },
          "metadata": {
            "tags": []
          }
        },
        {
          "output_type": "display_data",
          "data": {
            "text/html": [
              "<pre>    Data has 5896 observations with 2089 users and 364 items.</pre>"
            ],
            "text/plain": [
              "    Data has 5896 observations with 2089 users and 364 items."
            ]
          },
          "metadata": {
            "tags": []
          }
        },
        {
          "output_type": "display_data",
          "data": {
            "text/html": [
              "<pre>    Data prepared in: 0.014222s</pre>"
            ],
            "text/plain": [
              "    Data prepared in: 0.014222s"
            ]
          },
          "metadata": {
            "tags": []
          }
        },
        {
          "output_type": "display_data",
          "data": {
            "text/html": [
              "<pre>Training factorization_recommender for recommendations.</pre>"
            ],
            "text/plain": [
              "Training factorization_recommender for recommendations."
            ]
          },
          "metadata": {
            "tags": []
          }
        },
        {
          "output_type": "display_data",
          "data": {
            "text/html": [
              "<pre>+--------------------------------+--------------------------------------------------+----------+</pre>"
            ],
            "text/plain": [
              "+--------------------------------+--------------------------------------------------+----------+"
            ]
          },
          "metadata": {
            "tags": []
          }
        },
        {
          "output_type": "display_data",
          "data": {
            "text/html": [
              "<pre>| Parameter                      | Description                                      | Value    |</pre>"
            ],
            "text/plain": [
              "| Parameter                      | Description                                      | Value    |"
            ]
          },
          "metadata": {
            "tags": []
          }
        },
        {
          "output_type": "display_data",
          "data": {
            "text/html": [
              "<pre>+--------------------------------+--------------------------------------------------+----------+</pre>"
            ],
            "text/plain": [
              "+--------------------------------+--------------------------------------------------+----------+"
            ]
          },
          "metadata": {
            "tags": []
          }
        },
        {
          "output_type": "display_data",
          "data": {
            "text/html": [
              "<pre>| num_factors                    | Factor Dimension                                 | 20       |</pre>"
            ],
            "text/plain": [
              "| num_factors                    | Factor Dimension                                 | 20       |"
            ]
          },
          "metadata": {
            "tags": []
          }
        },
        {
          "output_type": "display_data",
          "data": {
            "text/html": [
              "<pre>| regularization                 | L2 Regularization on Factors                     | 0.000695 |</pre>"
            ],
            "text/plain": [
              "| regularization                 | L2 Regularization on Factors                     | 0.000695 |"
            ]
          },
          "metadata": {
            "tags": []
          }
        },
        {
          "output_type": "display_data",
          "data": {
            "text/html": [
              "<pre>| solver                         | Solver used for training                         | sgd      |</pre>"
            ],
            "text/plain": [
              "| solver                         | Solver used for training                         | sgd      |"
            ]
          },
          "metadata": {
            "tags": []
          }
        },
        {
          "output_type": "display_data",
          "data": {
            "text/html": [
              "<pre>| linear_regularization          | L2 Regularization on Linear Coefficients         | 1e-12    |</pre>"
            ],
            "text/plain": [
              "| linear_regularization          | L2 Regularization on Linear Coefficients         | 1e-12    |"
            ]
          },
          "metadata": {
            "tags": []
          }
        },
        {
          "output_type": "display_data",
          "data": {
            "text/html": [
              "<pre>| binary_target                  | Assume Binary Targets                            | True     |</pre>"
            ],
            "text/plain": [
              "| binary_target                  | Assume Binary Targets                            | True     |"
            ]
          },
          "metadata": {
            "tags": []
          }
        },
        {
          "output_type": "display_data",
          "data": {
            "text/html": [
              "<pre>| max_iterations                 | Maximum Number of Iterations                     | 1000     |</pre>"
            ],
            "text/plain": [
              "| max_iterations                 | Maximum Number of Iterations                     | 1000     |"
            ]
          },
          "metadata": {
            "tags": []
          }
        },
        {
          "output_type": "display_data",
          "data": {
            "text/html": [
              "<pre>+--------------------------------+--------------------------------------------------+----------+</pre>"
            ],
            "text/plain": [
              "+--------------------------------+--------------------------------------------------+----------+"
            ]
          },
          "metadata": {
            "tags": []
          }
        },
        {
          "output_type": "display_data",
          "data": {
            "text/html": [
              "<pre>  Optimizing model using SGD; tuning step size.</pre>"
            ],
            "text/plain": [
              "  Optimizing model using SGD; tuning step size."
            ]
          },
          "metadata": {
            "tags": []
          }
        },
        {
          "output_type": "display_data",
          "data": {
            "text/html": [
              "<pre>  Using 5896 / 5896 points for tuning the step size.</pre>"
            ],
            "text/plain": [
              "  Using 5896 / 5896 points for tuning the step size."
            ]
          },
          "metadata": {
            "tags": []
          }
        },
        {
          "output_type": "display_data",
          "data": {
            "text/html": [
              "<pre>+---------+-------------------+------------------------------------------+</pre>"
            ],
            "text/plain": [
              "+---------+-------------------+------------------------------------------+"
            ]
          },
          "metadata": {
            "tags": []
          }
        },
        {
          "output_type": "display_data",
          "data": {
            "text/html": [
              "<pre>| Attempt | Initial Step Size | Estimated Objective Value                |</pre>"
            ],
            "text/plain": [
              "| Attempt | Initial Step Size | Estimated Objective Value                |"
            ]
          },
          "metadata": {
            "tags": []
          }
        },
        {
          "output_type": "display_data",
          "data": {
            "text/html": [
              "<pre>+---------+-------------------+------------------------------------------+</pre>"
            ],
            "text/plain": [
              "+---------+-------------------+------------------------------------------+"
            ]
          },
          "metadata": {
            "tags": []
          }
        },
        {
          "output_type": "display_data",
          "data": {
            "text/html": [
              "<pre>| 0       | 17.8645           | Not Viable                               |</pre>"
            ],
            "text/plain": [
              "| 0       | 17.8645           | Not Viable                               |"
            ]
          },
          "metadata": {
            "tags": []
          }
        },
        {
          "output_type": "display_data",
          "data": {
            "text/html": [
              "<pre>| 1       | 4.46614           | 0.501824                                 |</pre>"
            ],
            "text/plain": [
              "| 1       | 4.46614           | 0.501824                                 |"
            ]
          },
          "metadata": {
            "tags": []
          }
        },
        {
          "output_type": "display_data",
          "data": {
            "text/html": [
              "<pre>| 2       | 2.23307           | 0.534785                                 |</pre>"
            ],
            "text/plain": [
              "| 2       | 2.23307           | 0.534785                                 |"
            ]
          },
          "metadata": {
            "tags": []
          }
        },
        {
          "output_type": "display_data",
          "data": {
            "text/html": [
              "<pre>| 3       | 1.11653           | Not Viable                               |</pre>"
            ],
            "text/plain": [
              "| 3       | 1.11653           | Not Viable                               |"
            ]
          },
          "metadata": {
            "tags": []
          }
        },
        {
          "output_type": "display_data",
          "data": {
            "text/html": [
              "<pre>| 4       | 0.279134          | 0.391267                                 |</pre>"
            ],
            "text/plain": [
              "| 4       | 0.279134          | 0.391267                                 |"
            ]
          },
          "metadata": {
            "tags": []
          }
        },
        {
          "output_type": "display_data",
          "data": {
            "text/html": [
              "<pre>| 5       | 0.139567          | 0.414094                                 |</pre>"
            ],
            "text/plain": [
              "| 5       | 0.139567          | 0.414094                                 |"
            ]
          },
          "metadata": {
            "tags": []
          }
        },
        {
          "output_type": "display_data",
          "data": {
            "text/html": [
              "<pre>| 6       | 0.0697834         | 0.478875                                 |</pre>"
            ],
            "text/plain": [
              "| 6       | 0.0697834         | 0.478875                                 |"
            ]
          },
          "metadata": {
            "tags": []
          }
        },
        {
          "output_type": "display_data",
          "data": {
            "text/html": [
              "<pre>| 7       | 0.0348917         | 0.528089                                 |</pre>"
            ],
            "text/plain": [
              "| 7       | 0.0348917         | 0.528089                                 |"
            ]
          },
          "metadata": {
            "tags": []
          }
        },
        {
          "output_type": "display_data",
          "data": {
            "text/html": [
              "<pre>+---------+-------------------+------------------------------------------+</pre>"
            ],
            "text/plain": [
              "+---------+-------------------+------------------------------------------+"
            ]
          },
          "metadata": {
            "tags": []
          }
        },
        {
          "output_type": "display_data",
          "data": {
            "text/html": [
              "<pre>| Final   | 0.279134          | 0.391267                                 |</pre>"
            ],
            "text/plain": [
              "| Final   | 0.279134          | 0.391267                                 |"
            ]
          },
          "metadata": {
            "tags": []
          }
        },
        {
          "output_type": "display_data",
          "data": {
            "text/html": [
              "<pre>+---------+-------------------+------------------------------------------+</pre>"
            ],
            "text/plain": [
              "+---------+-------------------+------------------------------------------+"
            ]
          },
          "metadata": {
            "tags": []
          }
        },
        {
          "output_type": "display_data",
          "data": {
            "text/html": [
              "<pre>Starting Optimization.</pre>"
            ],
            "text/plain": [
              "Starting Optimization."
            ]
          },
          "metadata": {
            "tags": []
          }
        },
        {
          "output_type": "display_data",
          "data": {
            "text/html": [
              "<pre>+---------+--------------+-------------------+-----------------------------------+-------------+</pre>"
            ],
            "text/plain": [
              "+---------+--------------+-------------------+-----------------------------------+-------------+"
            ]
          },
          "metadata": {
            "tags": []
          }
        },
        {
          "output_type": "display_data",
          "data": {
            "text/html": [
              "<pre>| Iter.   | Elapsed Time | Approx. Objective | Approx. Training Predictive Error | Step Size   |</pre>"
            ],
            "text/plain": [
              "| Iter.   | Elapsed Time | Approx. Objective | Approx. Training Predictive Error | Step Size   |"
            ]
          },
          "metadata": {
            "tags": []
          }
        },
        {
          "output_type": "display_data",
          "data": {
            "text/html": [
              "<pre>+---------+--------------+-------------------+-----------------------------------+-------------+</pre>"
            ],
            "text/plain": [
              "+---------+--------------+-------------------+-----------------------------------+-------------+"
            ]
          },
          "metadata": {
            "tags": []
          }
        },
        {
          "output_type": "display_data",
          "data": {
            "text/html": [
              "<pre>| Initial | 157us        | 0.650742          | 0.650742                          |             |</pre>"
            ],
            "text/plain": [
              "| Initial | 157us        | 0.650742          | 0.650742                          |             |"
            ]
          },
          "metadata": {
            "tags": []
          }
        },
        {
          "output_type": "display_data",
          "data": {
            "text/html": [
              "<pre>+---------+--------------+-------------------+-----------------------------------+-------------+</pre>"
            ],
            "text/plain": [
              "+---------+--------------+-------------------+-----------------------------------+-------------+"
            ]
          },
          "metadata": {
            "tags": []
          }
        },
        {
          "output_type": "display_data",
          "data": {
            "text/html": [
              "<pre>| 1       | 13.024ms     | 0.549576          | 0.547223                          | 0.279134    |</pre>"
            ],
            "text/plain": [
              "| 1       | 13.024ms     | 0.549576          | 0.547223                          | 0.279134    |"
            ]
          },
          "metadata": {
            "tags": []
          }
        },
        {
          "output_type": "display_data",
          "data": {
            "text/html": [
              "<pre>| 2       | 20.033ms     | 0.44182           | 0.434223                          | 0.130185    |</pre>"
            ],
            "text/plain": [
              "| 2       | 20.033ms     | 0.44182           | 0.434223                          | 0.130185    |"
            ]
          },
          "metadata": {
            "tags": []
          }
        },
        {
          "output_type": "display_data",
          "data": {
            "text/html": [
              "<pre>| 3       | 28.225ms     | 0.413307          | 0.392711                          | 0.084888    |</pre>"
            ],
            "text/plain": [
              "| 3       | 28.225ms     | 0.413307          | 0.392711                          | 0.084888    |"
            ]
          },
          "metadata": {
            "tags": []
          }
        },
        {
          "output_type": "display_data",
          "data": {
            "text/html": [
              "<pre>| 4       | 53.148ms     | 0.397768          | 0.359283                          | 0.0629759   |</pre>"
            ],
            "text/plain": [
              "| 4       | 53.148ms     | 0.397768          | 0.359283                          | 0.0629759   |"
            ]
          },
          "metadata": {
            "tags": []
          }
        },
        {
          "output_type": "display_data",
          "data": {
            "text/html": [
              "<pre>| 5       | 67.228ms     | 0.387921          | 0.332713                          | 0.0500552   |</pre>"
            ],
            "text/plain": [
              "| 5       | 67.228ms     | 0.387921          | 0.332713                          | 0.0500552   |"
            ]
          },
          "metadata": {
            "tags": []
          }
        },
        {
          "output_type": "display_data",
          "data": {
            "text/html": [
              "<pre>| 10      | 98.598ms     | 0.369043          | 0.275913                          | 0.0247083   |</pre>"
            ],
            "text/plain": [
              "| 10      | 98.598ms     | 0.369043          | 0.275913                          | 0.0247083   |"
            ]
          },
          "metadata": {
            "tags": []
          }
        },
        {
          "output_type": "display_data",
          "data": {
            "text/html": [
              "<pre>| 50      | 325.744ms    | 0.342577          | 0.240256                          | 0.00489173  |</pre>"
            ],
            "text/plain": [
              "| 50      | 325.744ms    | 0.342577          | 0.240256                          | 0.00489173  |"
            ]
          },
          "metadata": {
            "tags": []
          }
        },
        {
          "output_type": "display_data",
          "data": {
            "text/html": [
              "<pre>| 100     | 597.667ms    | 0.332251          | 0.23362                           | 0.00242829  |</pre>"
            ],
            "text/plain": [
              "| 100     | 597.667ms    | 0.332251          | 0.23362                           | 0.00242829  |"
            ]
          },
          "metadata": {
            "tags": []
          }
        },
        {
          "output_type": "display_data",
          "data": {
            "text/html": [
              "<pre>| 250     | 1.41s        | 0.320251          | 0.226707                          | 0.000974051 |</pre>"
            ],
            "text/plain": [
              "| 250     | 1.41s        | 0.320251          | 0.226707                          | 0.000974051 |"
            ]
          },
          "metadata": {
            "tags": []
          }
        },
        {
          "output_type": "display_data",
          "data": {
            "text/html": [
              "<pre>| 500     | 2.79s        | 0.312113          | 0.222243                          | 0.000487483 |</pre>"
            ],
            "text/plain": [
              "| 500     | 2.79s        | 0.312113          | 0.222243                          | 0.000487483 |"
            ]
          },
          "metadata": {
            "tags": []
          }
        },
        {
          "output_type": "display_data",
          "data": {
            "text/html": [
              "<pre>| 750     | 4.13s        | 0.307681          | 0.21987                           | 0.00032509  |</pre>"
            ],
            "text/plain": [
              "| 750     | 4.13s        | 0.307681          | 0.21987                           | 0.00032509  |"
            ]
          },
          "metadata": {
            "tags": []
          }
        },
        {
          "output_type": "display_data",
          "data": {
            "text/html": [
              "<pre>| 1000    | 5.56s        | 0.304662          | 0.218273                          | 0.000243856 |</pre>"
            ],
            "text/plain": [
              "| 1000    | 5.56s        | 0.304662          | 0.218273                          | 0.000243856 |"
            ]
          },
          "metadata": {
            "tags": []
          }
        },
        {
          "output_type": "display_data",
          "data": {
            "text/html": [
              "<pre>+---------+--------------+-------------------+-----------------------------------+-------------+</pre>"
            ],
            "text/plain": [
              "+---------+--------------+-------------------+-----------------------------------+-------------+"
            ]
          },
          "metadata": {
            "tags": []
          }
        },
        {
          "output_type": "display_data",
          "data": {
            "text/html": [
              "<pre>Optimization Complete: Maximum number of passes through the data reached.</pre>"
            ],
            "text/plain": [
              "Optimization Complete: Maximum number of passes through the data reached."
            ]
          },
          "metadata": {
            "tags": []
          }
        },
        {
          "output_type": "display_data",
          "data": {
            "text/html": [
              "<pre>Computing final objective value and training Predictive Error.</pre>"
            ],
            "text/plain": [
              "Computing final objective value and training Predictive Error."
            ]
          },
          "metadata": {
            "tags": []
          }
        },
        {
          "output_type": "display_data",
          "data": {
            "text/html": [
              "<pre>       Final objective value: 0.304694</pre>"
            ],
            "text/plain": [
              "       Final objective value: 0.304694"
            ]
          },
          "metadata": {
            "tags": []
          }
        },
        {
          "output_type": "display_data",
          "data": {
            "text/html": [
              "<pre>       Final training Predictive Error: 0.218306</pre>"
            ],
            "text/plain": [
              "       Final training Predictive Error: 0.218306"
            ]
          },
          "metadata": {
            "tags": []
          }
        }
      ]
    },
    {
      "cell_type": "code",
      "metadata": {
        "id": "u1zpSH3BEgnh",
        "colab_type": "code",
        "colab": {
          "base_uri": "https://localhost:8080/",
          "height": 34
        },
        "outputId": "592e3c81-2880-4bd7-bb22-a8cc5fd4588a"
      },
      "source": [
        "X_test = tc.SFrame(X_test_scored)\n",
        "model.evaluate_rmse(X_test, 'score')['rmse_overall']"
      ],
      "execution_count": 68,
      "outputs": [
        {
          "output_type": "execute_result",
          "data": {
            "text/plain": [
              "0.3396389303055233"
            ]
          },
          "metadata": {
            "tags": []
          },
          "execution_count": 68
        }
      ]
    },
    {
      "cell_type": "code",
      "metadata": {
        "id": "zUMKGQljElHI",
        "colab_type": "code",
        "colab": {
          "base_uri": "https://localhost:8080/",
          "height": 34
        },
        "outputId": "cdb91845-c0f7-4ace-8870-ae855e95a0d1"
      },
      "source": [
        "X_test_predict = model.predict(X_test)\n",
        "X_test_predict = np.where(X_test_predict.to_numpy()>=0.5, 1, 0)\n",
        "accuracy_score(X_test_scored.score.values, X_test_predict)"
      ],
      "execution_count": 69,
      "outputs": [
        {
          "output_type": "execute_result",
          "data": {
            "text/plain": [
              "0.8495179063360881"
            ]
          },
          "metadata": {
            "tags": []
          },
          "execution_count": 69
        }
      ]
    }
  ]
}