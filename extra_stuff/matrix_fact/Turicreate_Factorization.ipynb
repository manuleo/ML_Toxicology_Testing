{
 "cells": [
  {
   "cell_type": "code",
   "execution_count": null,
   "metadata": {
    "colab": {
     "base_uri": "https://localhost:8080/",
     "height": 1000
    },
    "colab_type": "code",
    "id": "AkFRqOyf_Ok0",
    "outputId": "309171ec-38d9-450e-b9e8-5c44a8a60ea6"
   },
   "outputs": [
    {
     "name": "stdout",
     "output_type": "stream",
     "text": [
      "Collecting turicreate==5.4\n",
      "\u001b[?25l  Downloading https://files.pythonhosted.org/packages/4f/ef/1847a704548ad4cbcabe09b3882181c190f5b696da8b2d082521c33ec187/turicreate-5.4-cp36-cp36m-manylinux1_x86_64.whl (87.4MB)\n",
      "\u001b[K     |████████████████████████████████| 87.4MB 97kB/s \n",
      "\u001b[?25hRequirement already satisfied: pandas>=0.19.0 in /usr/local/lib/python3.6/dist-packages (from turicreate==5.4) (0.25.3)\n",
      "Requirement already satisfied: numpy in /usr/local/lib/python3.6/dist-packages (from turicreate==5.4) (1.17.4)\n",
      "Collecting coremltools==2.1.0\n",
      "\u001b[?25l  Downloading https://files.pythonhosted.org/packages/b9/9d/7ec5a2480c6afce4fcb99de1650b7abfd1457b2ef1de5ce39bf7bee8a8ae/coremltools-2.1.0-cp36-none-manylinux1_x86_64.whl (2.7MB)\n",
      "\u001b[K     |████████████████████████████████| 2.7MB 53.3MB/s \n",
      "\u001b[?25hRequirement already satisfied: decorator>=4.0.9 in /usr/local/lib/python3.6/dist-packages (from turicreate==5.4) (4.4.1)\n",
      "Requirement already satisfied: requests>=2.9.1 in /usr/local/lib/python3.6/dist-packages (from turicreate==5.4) (2.21.0)\n",
      "Collecting resampy==0.2.1\n",
      "\u001b[?25l  Downloading https://files.pythonhosted.org/packages/14/b6/66a06d85474190b50aee1a6c09cdc95bb405ac47338b27e9b21409da1760/resampy-0.2.1.tar.gz (322kB)\n",
      "\u001b[K     |████████████████████████████████| 327kB 65.3MB/s \n",
      "\u001b[?25hRequirement already satisfied: scipy>=0.14.0 in /usr/local/lib/python3.6/dist-packages (from turicreate==5.4) (1.3.3)\n",
      "Requirement already satisfied: pillow>=3.3.0 in /usr/local/lib/python3.6/dist-packages (from turicreate==5.4) (4.3.0)\n",
      "Requirement already satisfied: six>=1.10.0 in /usr/local/lib/python3.6/dist-packages (from turicreate==5.4) (1.12.0)\n",
      "Collecting mxnet<1.2.0,>=1.1.0\n",
      "\u001b[?25l  Downloading https://files.pythonhosted.org/packages/96/98/c9877e100c3d1ac92263bfaba7bb8a49294e099046592040a2ff8620ac61/mxnet-1.1.0.post0-py2.py3-none-manylinux1_x86_64.whl (23.8MB)\n",
      "\u001b[K     |████████████████████████████████| 23.8MB 168kB/s \n",
      "\u001b[?25hRequirement already satisfied: prettytable==0.7.2 in /usr/local/lib/python3.6/dist-packages (from turicreate==5.4) (0.7.2)\n",
      "Requirement already satisfied: python-dateutil>=2.6.1 in /usr/local/lib/python3.6/dist-packages (from pandas>=0.19.0->turicreate==5.4) (2.6.1)\n",
      "Requirement already satisfied: pytz>=2017.2 in /usr/local/lib/python3.6/dist-packages (from pandas>=0.19.0->turicreate==5.4) (2018.9)\n",
      "Requirement already satisfied: protobuf>=3.1.0 in /usr/local/lib/python3.6/dist-packages (from coremltools==2.1.0->turicreate==5.4) (3.10.0)\n",
      "Requirement already satisfied: idna<2.9,>=2.5 in /usr/local/lib/python3.6/dist-packages (from requests>=2.9.1->turicreate==5.4) (2.8)\n",
      "Requirement already satisfied: certifi>=2017.4.17 in /usr/local/lib/python3.6/dist-packages (from requests>=2.9.1->turicreate==5.4) (2019.9.11)\n",
      "Requirement already satisfied: chardet<3.1.0,>=3.0.2 in /usr/local/lib/python3.6/dist-packages (from requests>=2.9.1->turicreate==5.4) (3.0.4)\n",
      "Requirement already satisfied: urllib3<1.25,>=1.21.1 in /usr/local/lib/python3.6/dist-packages (from requests>=2.9.1->turicreate==5.4) (1.24.3)\n",
      "Requirement already satisfied: numba>=0.32 in /usr/local/lib/python3.6/dist-packages (from resampy==0.2.1->turicreate==5.4) (0.40.1)\n",
      "Requirement already satisfied: olefile in /usr/local/lib/python3.6/dist-packages (from pillow>=3.3.0->turicreate==5.4) (0.46)\n",
      "Collecting graphviz<0.9.0,>=0.8.1\n",
      "  Downloading https://files.pythonhosted.org/packages/53/39/4ab213673844e0c004bed8a0781a0721a3f6bb23eb8854ee75c236428892/graphviz-0.8.4-py2.py3-none-any.whl\n",
      "Requirement already satisfied: setuptools in /usr/local/lib/python3.6/dist-packages (from protobuf>=3.1.0->coremltools==2.1.0->turicreate==5.4) (42.0.1)\n",
      "Requirement already satisfied: llvmlite>=0.25.0dev0 in /usr/local/lib/python3.6/dist-packages (from numba>=0.32->resampy==0.2.1->turicreate==5.4) (0.30.0)\n",
      "Building wheels for collected packages: resampy\n",
      "  Building wheel for resampy (setup.py) ... \u001b[?25l\u001b[?25hdone\n",
      "  Created wheel for resampy: filename=resampy-0.2.1-cp36-none-any.whl size=320847 sha256=2c637f4ee02ab23c6f899d20af726825b32e06bf96c36105e1d00c468544d5a0\n",
      "  Stored in directory: /root/.cache/pip/wheels/ff/4f/ed/2e6c676c23efe5394bb40ade50662e90eb46e29b48324c5f9b\n",
      "Successfully built resampy\n",
      "\u001b[31mERROR: mxnet 1.1.0.post0 has requirement numpy<1.15.0,>=1.8.2, but you'll have numpy 1.17.4 which is incompatible.\u001b[0m\n",
      "\u001b[31mERROR: mxnet 1.1.0.post0 has requirement requests<2.19.0,>=2.18.4, but you'll have requests 2.21.0 which is incompatible.\u001b[0m\n",
      "Installing collected packages: coremltools, resampy, graphviz, mxnet, turicreate\n",
      "  Found existing installation: resampy 0.2.2\n",
      "    Uninstalling resampy-0.2.2:\n",
      "      Successfully uninstalled resampy-0.2.2\n",
      "  Found existing installation: graphviz 0.10.1\n",
      "    Uninstalling graphviz-0.10.1:\n",
      "      Successfully uninstalled graphviz-0.10.1\n",
      "Successfully installed coremltools-2.1.0 graphviz-0.8.4 mxnet-1.1.0.post0 resampy-0.2.1 turicreate-5.4\n",
      "Uninstalling mxnet-1.1.0.post0:\n",
      "  Successfully uninstalled mxnet-1.1.0.post0\n",
      "Collecting mxnet-cu100==1.4.0.post0\n",
      "\u001b[?25l  Downloading https://files.pythonhosted.org/packages/ae/36/40b6d201b46495513f7a7fa25fe8b7d85b3602a22efba119e8146d5f1601/mxnet_cu100-1.4.0.post0-py2.py3-none-manylinux1_x86_64.whl (487.9MB)\n",
      "\u001b[K     |████████████████████████████████| 487.9MB 34kB/s \n",
      "\u001b[?25hRequirement already satisfied: graphviz<0.9.0,>=0.8.1 in /usr/local/lib/python3.6/dist-packages (from mxnet-cu100==1.4.0.post0) (0.8.4)\n",
      "Collecting numpy<1.15.0,>=1.8.2\n",
      "\u001b[?25l  Downloading https://files.pythonhosted.org/packages/e5/c4/395ebb218053ba44d64935b3729bc88241ec279915e72100c5979db10945/numpy-1.14.6-cp36-cp36m-manylinux1_x86_64.whl (13.8MB)\n",
      "\u001b[K     |████████████████████████████████| 13.8MB 27.9MB/s \n",
      "\u001b[?25hRequirement already satisfied: requests>=2.20.0 in /usr/local/lib/python3.6/dist-packages (from mxnet-cu100==1.4.0.post0) (2.21.0)\n",
      "Requirement already satisfied: certifi>=2017.4.17 in /usr/local/lib/python3.6/dist-packages (from requests>=2.20.0->mxnet-cu100==1.4.0.post0) (2019.9.11)\n",
      "Requirement already satisfied: urllib3<1.25,>=1.21.1 in /usr/local/lib/python3.6/dist-packages (from requests>=2.20.0->mxnet-cu100==1.4.0.post0) (1.24.3)\n",
      "Requirement already satisfied: idna<2.9,>=2.5 in /usr/local/lib/python3.6/dist-packages (from requests>=2.20.0->mxnet-cu100==1.4.0.post0) (2.8)\n",
      "Requirement already satisfied: chardet<3.1.0,>=3.0.2 in /usr/local/lib/python3.6/dist-packages (from requests>=2.20.0->mxnet-cu100==1.4.0.post0) (3.0.4)\n",
      "\u001b[31mERROR: turicreate 5.4 requires mxnet<1.2.0,>=1.1.0, which is not installed.\u001b[0m\n",
      "\u001b[31mERROR: tensorflow 1.15.0 has requirement numpy<2.0,>=1.16.0, but you'll have numpy 1.14.6 which is incompatible.\u001b[0m\n",
      "\u001b[31mERROR: spacy 2.1.9 has requirement numpy>=1.15.0, but you'll have numpy 1.14.6 which is incompatible.\u001b[0m\n",
      "\u001b[31mERROR: imgaug 0.2.9 has requirement numpy>=1.15.0, but you'll have numpy 1.14.6 which is incompatible.\u001b[0m\n",
      "\u001b[31mERROR: fastai 1.0.59 has requirement numpy>=1.15, but you'll have numpy 1.14.6 which is incompatible.\u001b[0m\n",
      "\u001b[31mERROR: datascience 0.10.6 has requirement folium==0.2.1, but you'll have folium 0.8.3 which is incompatible.\u001b[0m\n",
      "\u001b[31mERROR: cvxpy 1.0.25 has requirement numpy>=1.15, but you'll have numpy 1.14.6 which is incompatible.\u001b[0m\n",
      "\u001b[31mERROR: blis 0.2.4 has requirement numpy>=1.15.0, but you'll have numpy 1.14.6 which is incompatible.\u001b[0m\n",
      "\u001b[31mERROR: albumentations 0.1.12 has requirement imgaug<0.2.7,>=0.2.5, but you'll have imgaug 0.2.9 which is incompatible.\u001b[0m\n",
      "Installing collected packages: numpy, mxnet-cu100\n",
      "  Found existing installation: numpy 1.17.4\n",
      "    Uninstalling numpy-1.17.4:\n",
      "      Successfully uninstalled numpy-1.17.4\n",
      "Successfully installed mxnet-cu100-1.4.0.post0 numpy-1.14.6\n"
     ]
    },
    {
     "data": {
      "application/vnd.colab-display-data+json": {
       "pip_warning": {
        "packages": [
         "numpy"
        ]
       }
      }
     },
     "metadata": {
      "tags": []
     },
     "output_type": "display_data"
    }
   ],
   "source": [
    "!pip install turicreate==5.4\n",
    "# The wrong version of MXNET will be installed\n",
    "!pip uninstall -y mxnet\n",
    "# Install CUDA10-compatible version of mxnet \n",
    "!pip install mxnet-cu100==1.4.0.post0"
   ]
  },
  {
   "cell_type": "code",
   "execution_count": null,
   "metadata": {
    "colab": {
     "base_uri": "https://localhost:8080/",
     "height": 122
    },
    "colab_type": "code",
    "id": "ED2h82k8_asW",
    "outputId": "97f377f0-3d8f-4d40-82e7-bcaafe2b24ed"
   },
   "outputs": [
    {
     "name": "stdout",
     "output_type": "stream",
     "text": [
      "Go to this URL in a browser: https://accounts.google.com/o/oauth2/auth?client_id=947318989803-6bn6qk8qdgf4n4g3pfee6491hc0brc4i.apps.googleusercontent.com&redirect_uri=urn%3aietf%3awg%3aoauth%3a2.0%3aoob&response_type=code&scope=email%20https%3a%2f%2fwww.googleapis.com%2fauth%2fdocs.test%20https%3a%2f%2fwww.googleapis.com%2fauth%2fdrive%20https%3a%2f%2fwww.googleapis.com%2fauth%2fdrive.photos.readonly%20https%3a%2f%2fwww.googleapis.com%2fauth%2fpeopleapi.readonly\n",
      "\n",
      "Enter your authorization code:\n",
      "··········\n",
      "Mounted at /content/drive\n"
     ]
    }
   ],
   "source": [
    "import os.path\n",
    "from google.colab import drive\n",
    "\n",
    "# mount Google Drive to /content/drive/My Drive/\n",
    "if os.path.isdir(\"/content/drive/My Drive\"):\n",
    "  print(\"Google Drive already mounted\")\n",
    "else:\n",
    "  drive.mount('/content/drive')"
   ]
  },
  {
   "cell_type": "code",
   "execution_count": null,
   "metadata": {
    "colab": {
     "base_uri": "https://localhost:8080/",
     "height": 136
    },
    "colab_type": "code",
    "id": "RWlgWw4r_yi-",
    "outputId": "87b9ac9c-03a3-4e4e-8c51-850ffc5a8675"
   },
   "outputs": [
    {
     "name": "stdout",
     "output_type": "stream",
     "text": [
      "WARNING: You are using MXNet 1.4.0 which may result in breaking behavior.\n",
      "         To fix this, please install the currently recommended version:\n",
      "\n",
      "             pip uninstall -y mxnet && pip install mxnet==1.1.0\n",
      "\n",
      "         If you want to use a CUDA GPU, then change 'mxnet' to 'mxnet-cu90' (adjust 'cu90' depending on your CUDA version):\n",
      "\n"
     ]
    }
   ],
   "source": [
    "import mxnet as mx\n",
    "import turicreate as tc"
   ]
  },
  {
   "cell_type": "code",
   "execution_count": null,
   "metadata": {
    "colab": {},
    "colab_type": "code",
    "id": "oAZZJuxN_zZ6"
   },
   "outputs": [],
   "source": [
    "# Use all GPUs (default)\n",
    "tc.config.set_num_gpus(-1)\n",
    "\n",
    "# Use only 1 GPU\n",
    "#tc.config.set_num_gpus(1)\n",
    "\n",
    "# Use CPU\n",
    "#tc.config.set_num_gpus(0)"
   ]
  },
  {
   "cell_type": "code",
   "execution_count": null,
   "metadata": {
    "colab": {},
    "colab_type": "code",
    "id": "QcyNZnMt_1at"
   },
   "outputs": [],
   "source": [
    "import pandas as pd\n",
    "import numpy as np\n",
    "import matplotlib.pyplot as plt\n",
    "import seaborn as sns\n",
    "import re\n",
    "from sklearn.preprocessing import StandardScaler\n",
    "from sklearn.preprocessing import MinMaxScaler\n",
    "from sklearn.model_selection import KFold\n",
    "from sklearn.metrics import mean_squared_error\n",
    "from math import sqrt\n",
    "import pickle"
   ]
  },
  {
   "cell_type": "code",
   "execution_count": null,
   "metadata": {
    "colab": {},
    "colab_type": "code",
    "id": "Bpw_AWUUAunX"
   },
   "outputs": [],
   "source": [
    "from sklearn.model_selection import train_test_split\n",
    "from sklearn.neighbors import KNeighborsClassifier\n",
    "from sklearn.metrics import accuracy_score\n",
    "from sklearn.ensemble import RandomForestClassifier\n",
    "from sklearn.ensemble import GradientBoostingClassifier\n",
    "from sklearn.model_selection import GridSearchCV\n",
    "from sklearn.preprocessing import OrdinalEncoder\n",
    "from scipy.stats import boxcox"
   ]
  },
  {
   "cell_type": "markdown",
   "metadata": {
    "colab_type": "text",
    "id": "FBynGtTwRW7-"
   },
   "source": [
    "# Data loading"
   ]
  },
  {
   "cell_type": "code",
   "execution_count": null,
   "metadata": {
    "colab": {
     "base_uri": "https://localhost:8080/",
     "height": 204
    },
    "colab_type": "code",
    "id": "GlilIFX4BBxP",
    "outputId": "ee6e0d02-8199-4bc3-dab6-62343f9e3c81"
   },
   "outputs": [
    {
     "data": {
      "text/html": [
       "<div>\n",
       "<style scoped>\n",
       "    .dataframe tbody tr th:only-of-type {\n",
       "        vertical-align: middle;\n",
       "    }\n",
       "\n",
       "    .dataframe tbody tr th {\n",
       "        vertical-align: top;\n",
       "    }\n",
       "\n",
       "    .dataframe thead th {\n",
       "        text-align: right;\n",
       "    }\n",
       "</style>\n",
       "<table border=\"1\" class=\"dataframe\">\n",
       "  <thead>\n",
       "    <tr style=\"text-align: right;\">\n",
       "      <th></th>\n",
       "      <th>test_cas</th>\n",
       "      <th>exposure_type</th>\n",
       "      <th>obs_duration_mean</th>\n",
       "      <th>conc1_type</th>\n",
       "      <th>conc1_mean</th>\n",
       "      <th>class</th>\n",
       "      <th>tax_order</th>\n",
       "      <th>family</th>\n",
       "      <th>genus</th>\n",
       "      <th>species</th>\n",
       "      <th>organism_lifestage</th>\n",
       "      <th>organism_characteristics</th>\n",
       "      <th>ecotox_group</th>\n",
       "    </tr>\n",
       "  </thead>\n",
       "  <tbody>\n",
       "    <tr>\n",
       "      <th>0</th>\n",
       "      <td>10108642</td>\n",
       "      <td>S</td>\n",
       "      <td>48.0</td>\n",
       "      <td>T</td>\n",
       "      <td>46.900000</td>\n",
       "      <td>Actinopterygii</td>\n",
       "      <td>Cypriniformes</td>\n",
       "      <td>Cyprinidae</td>\n",
       "      <td>Carassius</td>\n",
       "      <td>auratus</td>\n",
       "      <td>NR</td>\n",
       "      <td>1.93 (0.82-4.15) G</td>\n",
       "      <td>Fish,Standard Test Species,U.S. Exotic/Nuisanc...</td>\n",
       "    </tr>\n",
       "    <tr>\n",
       "      <th>1</th>\n",
       "      <td>88302</td>\n",
       "      <td>S</td>\n",
       "      <td>6.0</td>\n",
       "      <td>A</td>\n",
       "      <td>2.920000</td>\n",
       "      <td>Actinopterygii</td>\n",
       "      <td>Salmoniformes</td>\n",
       "      <td>Salmonidae</td>\n",
       "      <td>Oncorhynchus</td>\n",
       "      <td>mykiss</td>\n",
       "      <td>FI</td>\n",
       "      <td>NR</td>\n",
       "      <td>Fish,Standard Test Species,U.S. Exotic/Nuisanc...</td>\n",
       "    </tr>\n",
       "    <tr>\n",
       "      <th>2</th>\n",
       "      <td>1397940</td>\n",
       "      <td>S</td>\n",
       "      <td>96.0</td>\n",
       "      <td>A</td>\n",
       "      <td>0.000063</td>\n",
       "      <td>Actinopterygii</td>\n",
       "      <td>Perciformes</td>\n",
       "      <td>Centrarchidae</td>\n",
       "      <td>Micropterus</td>\n",
       "      <td>salmoides</td>\n",
       "      <td>NR</td>\n",
       "      <td>20.5G</td>\n",
       "      <td>Fish</td>\n",
       "    </tr>\n",
       "    <tr>\n",
       "      <th>3</th>\n",
       "      <td>25474413</td>\n",
       "      <td>S</td>\n",
       "      <td>96.0</td>\n",
       "      <td>A</td>\n",
       "      <td>0.012000</td>\n",
       "      <td>Actinopterygii</td>\n",
       "      <td>Perciformes</td>\n",
       "      <td>Centrarchidae</td>\n",
       "      <td>Lepomis</td>\n",
       "      <td>macrochirus</td>\n",
       "      <td>NR</td>\n",
       "      <td>1G</td>\n",
       "      <td>Fish,Standard Test Species</td>\n",
       "    </tr>\n",
       "    <tr>\n",
       "      <th>4</th>\n",
       "      <td>540727</td>\n",
       "      <td>F</td>\n",
       "      <td>36.0</td>\n",
       "      <td>T</td>\n",
       "      <td>144.000000</td>\n",
       "      <td>Actinopterygii</td>\n",
       "      <td>Salmoniformes</td>\n",
       "      <td>Salmonidae</td>\n",
       "      <td>Oncorhynchus</td>\n",
       "      <td>mykiss</td>\n",
       "      <td>JV</td>\n",
       "      <td>0.62 G</td>\n",
       "      <td>Fish,Standard Test Species,U.S. Exotic/Nuisanc...</td>\n",
       "    </tr>\n",
       "  </tbody>\n",
       "</table>\n",
       "</div>"
      ],
      "text/plain": [
       "   test_cas  ...                                       ecotox_group\n",
       "0  10108642  ...  Fish,Standard Test Species,U.S. Exotic/Nuisanc...\n",
       "1     88302  ...  Fish,Standard Test Species,U.S. Exotic/Nuisanc...\n",
       "2   1397940  ...                                               Fish\n",
       "3  25474413  ...                         Fish,Standard Test Species\n",
       "4    540727  ...  Fish,Standard Test Species,U.S. Exotic/Nuisanc...\n",
       "\n",
       "[5 rows x 13 columns]"
      ]
     },
     "execution_count": 154,
     "metadata": {
      "tags": []
     },
     "output_type": "execute_result"
    }
   ],
   "source": [
    "base_db = pd.read_csv(\"/content/drive/My Drive/Colab Notebooks/data/ML_Project/base_db.csv\").drop(columns=\"Unnamed: 0\")\n",
    "base_db.head()"
   ]
  },
  {
   "cell_type": "code",
   "execution_count": null,
   "metadata": {
    "colab": {
     "base_uri": "https://localhost:8080/",
     "height": 204
    },
    "colab_type": "code",
    "id": "XF2TroEGBwSC",
    "outputId": "607ac136-668f-4d4a-e47f-278a59eadef8"
   },
   "outputs": [
    {
     "data": {
      "text/html": [
       "<div>\n",
       "<style scoped>\n",
       "    .dataframe tbody tr th:only-of-type {\n",
       "        vertical-align: middle;\n",
       "    }\n",
       "\n",
       "    .dataframe tbody tr th {\n",
       "        vertical-align: top;\n",
       "    }\n",
       "\n",
       "    .dataframe thead th {\n",
       "        text-align: right;\n",
       "    }\n",
       "</style>\n",
       "<table border=\"1\" class=\"dataframe\">\n",
       "  <thead>\n",
       "    <tr style=\"text-align: right;\">\n",
       "      <th></th>\n",
       "      <th>test_cas</th>\n",
       "      <th>species</th>\n",
       "      <th>conc1_mean</th>\n",
       "      <th>obs_duration_mean</th>\n",
       "    </tr>\n",
       "  </thead>\n",
       "  <tbody>\n",
       "    <tr>\n",
       "      <th>0</th>\n",
       "      <td>10108642</td>\n",
       "      <td>auratus</td>\n",
       "      <td>46.900000</td>\n",
       "      <td>48.0</td>\n",
       "    </tr>\n",
       "    <tr>\n",
       "      <th>1</th>\n",
       "      <td>88302</td>\n",
       "      <td>mykiss</td>\n",
       "      <td>2.920000</td>\n",
       "      <td>6.0</td>\n",
       "    </tr>\n",
       "    <tr>\n",
       "      <th>2</th>\n",
       "      <td>1397940</td>\n",
       "      <td>salmoides</td>\n",
       "      <td>0.000063</td>\n",
       "      <td>96.0</td>\n",
       "    </tr>\n",
       "    <tr>\n",
       "      <th>3</th>\n",
       "      <td>25474413</td>\n",
       "      <td>macrochirus</td>\n",
       "      <td>0.012000</td>\n",
       "      <td>96.0</td>\n",
       "    </tr>\n",
       "    <tr>\n",
       "      <th>4</th>\n",
       "      <td>540727</td>\n",
       "      <td>mykiss</td>\n",
       "      <td>144.000000</td>\n",
       "      <td>36.0</td>\n",
       "    </tr>\n",
       "  </tbody>\n",
       "</table>\n",
       "</div>"
      ],
      "text/plain": [
       "   test_cas      species  conc1_mean  obs_duration_mean\n",
       "0  10108642      auratus   46.900000               48.0\n",
       "1     88302       mykiss    2.920000                6.0\n",
       "2   1397940    salmoides    0.000063               96.0\n",
       "3  25474413  macrochirus    0.012000               96.0\n",
       "4    540727       mykiss  144.000000               36.0"
      ]
     },
     "execution_count": 155,
     "metadata": {
      "tags": []
     },
     "output_type": "execute_result"
    }
   ],
   "source": [
    "X_original = base_db.copy()\n",
    "X_original = X_original[[\"test_cas\", \"species\", \"conc1_mean\", \"obs_duration_mean\"]]\n",
    "X_original.head()"
   ]
  },
  {
   "cell_type": "code",
   "execution_count": null,
   "metadata": {
    "colab": {},
    "colab_type": "code",
    "id": "NOl5A921CUt9"
   },
   "outputs": [],
   "source": [
    "X_original = X_original[X_original.obs_duration_mean==96]"
   ]
  },
  {
   "cell_type": "code",
   "execution_count": null,
   "metadata": {
    "colab": {
     "base_uri": "https://localhost:8080/",
     "height": 279
    },
    "colab_type": "code",
    "id": "YyTx2k1nCVwF",
    "outputId": "97ef922b-d0cd-4492-b852-d33858cd3dbd"
   },
   "outputs": [
    {
     "data": {
      "image/png": "[encoded data removed]",
      "text/plain": [
       "<Figure size 432x288 with 1 Axes>"
      ]
     },
     "metadata": {
      "tags": []
     },
     "output_type": "display_data"
    }
   ],
   "source": [
    "X_original = X_original.groupby(by=[\"test_cas\", \"species\"]).agg(\"median\").reset_index()\n",
    "X_original[\"score\"] = 1/X_original.conc1_mean\n",
    "\n",
    "enc = OrdinalEncoder(dtype=int)\n",
    "enc.fit(X_original[[\"test_cas\", \"species\"]])\n",
    "X_original[[\"test_cas\", \"species\"]] = enc.transform(X_original[[\"test_cas\", \"species\"]])\n",
    "X_fact = X_original.drop(columns=[\"conc1_mean\", \"obs_duration_mean\"]).reset_index(drop=True)\n",
    "\n",
    "X_fact_scored = X_fact.copy()\n",
    "X_fact_scored.score = X_fact_scored.score.apply(lambda x: np.log(x))\n",
    "\n",
    "# plotting the distribution of conc inside this case\n",
    "X_fact_scored.score.hist(bins=100)\n",
    "#plt.yscale('log')\n",
    "plt.xlabel(\"score\")\n",
    "plt.ylabel(\"Count\");"
   ]
  },
  {
   "cell_type": "markdown",
   "metadata": {
    "colab_type": "text",
    "id": "Juu0yWAXRRh_"
   },
   "source": [
    "# Basic tests"
   ]
  },
  {
   "cell_type": "markdown",
   "metadata": {
    "colab_type": "text",
    "id": "_ps26dL1RUvb"
   },
   "source": []
  },
  {
   "cell_type": "code",
   "execution_count": null,
   "metadata": {
    "colab": {},
    "colab_type": "code",
    "id": "bQz3DUnkMFb9"
   },
   "outputs": [],
   "source": [
    "minmax = MinMaxScaler((1, 10))\n",
    "minmax.fit(X_fact_scored[[\"score\"]])\n",
    "X_fact_scored[[\"score\"]] = minmax.transform(X_fact_scored[[\"score\"]])"
   ]
  },
  {
   "cell_type": "code",
   "execution_count": null,
   "metadata": {
    "colab": {
     "base_uri": "https://localhost:8080/",
     "height": 279
    },
    "colab_type": "code",
    "id": "2Psp7--dB-cN",
    "outputId": "28edcdb1-1eb8-4607-f682-8e3290ce49dc"
   },
   "outputs": [
    {
     "data": {
      "text/html": [
       "<div style=\"max-height:1000px;max-width:1500px;overflow:auto;\"><table frame=\"box\" rules=\"cols\">\n",
       "    <tr>\n",
       "        <th style=\"padding-left: 1em; padding-right: 1em; text-align: center\">test_cas</th>\n",
       "        <th style=\"padding-left: 1em; padding-right: 1em; text-align: center\">species</th>\n",
       "        <th style=\"padding-left: 1em; padding-right: 1em; text-align: center\">score</th>\n",
       "    </tr>\n",
       "    <tr>\n",
       "        <td style=\"padding-left: 1em; padding-right: 1em; text-align: center; vertical-align: top\">0</td>\n",
       "        <td style=\"padding-left: 1em; padding-right: 1em; text-align: center; vertical-align: top\">3</td>\n",
       "        <td style=\"padding-left: 1em; padding-right: 1em; text-align: center; vertical-align: top\">3.73776068951641</td>\n",
       "    </tr>\n",
       "    <tr>\n",
       "        <td style=\"padding-left: 1em; padding-right: 1em; text-align: center; vertical-align: top\">0</td>\n",
       "        <td style=\"padding-left: 1em; padding-right: 1em; text-align: center; vertical-align: top\">71</td>\n",
       "        <td style=\"padding-left: 1em; padding-right: 1em; text-align: center; vertical-align: top\">3.9409040271072886</td>\n",
       "    </tr>\n",
       "    <tr>\n",
       "        <td style=\"padding-left: 1em; padding-right: 1em; text-align: center; vertical-align: top\">0</td>\n",
       "        <td style=\"padding-left: 1em; padding-right: 1em; text-align: center; vertical-align: top\">82</td>\n",
       "        <td style=\"padding-left: 1em; padding-right: 1em; text-align: center; vertical-align: top\">3.5470584567157486</td>\n",
       "    </tr>\n",
       "    <tr>\n",
       "        <td style=\"padding-left: 1em; padding-right: 1em; text-align: center; vertical-align: top\">0</td>\n",
       "        <td style=\"padding-left: 1em; padding-right: 1em; text-align: center; vertical-align: top\">131</td>\n",
       "        <td style=\"padding-left: 1em; padding-right: 1em; text-align: center; vertical-align: top\">3.7821664371731405</td>\n",
       "    </tr>\n",
       "    <tr>\n",
       "        <td style=\"padding-left: 1em; padding-right: 1em; text-align: center; vertical-align: top\">0</td>\n",
       "        <td style=\"padding-left: 1em; padding-right: 1em; text-align: center; vertical-align: top\">167</td>\n",
       "        <td style=\"padding-left: 1em; padding-right: 1em; text-align: center; vertical-align: top\">3.8158482108284737</td>\n",
       "    </tr>\n",
       "    <tr>\n",
       "        <td style=\"padding-left: 1em; padding-right: 1em; text-align: center; vertical-align: top\">0</td>\n",
       "        <td style=\"padding-left: 1em; padding-right: 1em; text-align: center; vertical-align: top\">188</td>\n",
       "        <td style=\"padding-left: 1em; padding-right: 1em; text-align: center; vertical-align: top\">4.336227075933329</td>\n",
       "    </tr>\n",
       "    <tr>\n",
       "        <td style=\"padding-left: 1em; padding-right: 1em; text-align: center; vertical-align: top\">0</td>\n",
       "        <td style=\"padding-left: 1em; padding-right: 1em; text-align: center; vertical-align: top\">220</td>\n",
       "        <td style=\"padding-left: 1em; padding-right: 1em; text-align: center; vertical-align: top\">4.62287915355913</td>\n",
       "    </tr>\n",
       "    <tr>\n",
       "        <td style=\"padding-left: 1em; padding-right: 1em; text-align: center; vertical-align: top\">0</td>\n",
       "        <td style=\"padding-left: 1em; padding-right: 1em; text-align: center; vertical-align: top\">267</td>\n",
       "        <td style=\"padding-left: 1em; padding-right: 1em; text-align: center; vertical-align: top\">3.695395497824532</td>\n",
       "    </tr>\n",
       "    <tr>\n",
       "        <td style=\"padding-left: 1em; padding-right: 1em; text-align: center; vertical-align: top\">0</td>\n",
       "        <td style=\"padding-left: 1em; padding-right: 1em; text-align: center; vertical-align: top\">278</td>\n",
       "        <td style=\"padding-left: 1em; padding-right: 1em; text-align: center; vertical-align: top\">3.66428473194256</td>\n",
       "    </tr>\n",
       "    <tr>\n",
       "        <td style=\"padding-left: 1em; padding-right: 1em; text-align: center; vertical-align: top\">0</td>\n",
       "        <td style=\"padding-left: 1em; padding-right: 1em; text-align: center; vertical-align: top\">316</td>\n",
       "        <td style=\"padding-left: 1em; padding-right: 1em; text-align: center; vertical-align: top\">4.300170308995456</td>\n",
       "    </tr>\n",
       "</table>\n",
       "[8800 rows x 3 columns]<br/>Note: Only the head of the SFrame is printed.<br/>You can use print_rows(num_rows=m, num_columns=n) to print more rows and columns.\n",
       "</div>"
      ],
      "text/plain": [
       "Columns:\n",
       "\ttest_cas\tint\n",
       "\tspecies\tint\n",
       "\tscore\tfloat\n",
       "\n",
       "Rows: 8800\n",
       "\n",
       "Data:\n",
       "+----------+---------+--------------------+\n",
       "| test_cas | species |       score        |\n",
       "+----------+---------+--------------------+\n",
       "|    0     |    3    |  3.73776068951641  |\n",
       "|    0     |    71   | 3.9409040271072886 |\n",
       "|    0     |    82   | 3.5470584567157486 |\n",
       "|    0     |   131   | 3.7821664371731405 |\n",
       "|    0     |   167   | 3.8158482108284737 |\n",
       "|    0     |   188   | 4.336227075933329  |\n",
       "|    0     |   220   |  4.62287915355913  |\n",
       "|    0     |   267   | 3.695395497824532  |\n",
       "|    0     |   278   |  3.66428473194256  |\n",
       "|    0     |   316   | 4.300170308995456  |\n",
       "+----------+---------+--------------------+\n",
       "[8800 rows x 3 columns]\n",
       "Note: Only the head of the SFrame is printed.\n",
       "You can use print_rows(num_rows=m, num_columns=n) to print more rows and columns."
      ]
     },
     "execution_count": 125,
     "metadata": {
      "tags": []
     },
     "output_type": "execute_result"
    }
   ],
   "source": [
    "X = tc.SFrame(X_fact_scored)\n",
    "X"
   ]
  },
  {
   "cell_type": "code",
   "execution_count": null,
   "metadata": {
    "colab": {},
    "colab_type": "code",
    "id": "AniN0qQLC8cz"
   },
   "outputs": [],
   "source": [
    "X_train, X_test = tc.recommender.util.random_split_by_user(X, 'test_cas', 'species', max_num_users=1000, item_test_proportion=0.3)"
   ]
  },
  {
   "cell_type": "code",
   "execution_count": null,
   "metadata": {
    "colab": {
     "base_uri": "https://localhost:8080/",
     "height": 279
    },
    "colab_type": "code",
    "id": "7cGeXw-oDFxw",
    "outputId": "0d5c13c1-719c-4f44-e811-d95467d56329"
   },
   "outputs": [
    {
     "data": {
      "text/html": [
       "<div style=\"max-height:1000px;max-width:1500px;overflow:auto;\"><table frame=\"box\" rules=\"cols\">\n",
       "    <tr>\n",
       "        <th style=\"padding-left: 1em; padding-right: 1em; text-align: center\">test_cas</th>\n",
       "        <th style=\"padding-left: 1em; padding-right: 1em; text-align: center\">species</th>\n",
       "        <th style=\"padding-left: 1em; padding-right: 1em; text-align: center\">score</th>\n",
       "    </tr>\n",
       "    <tr>\n",
       "        <td style=\"padding-left: 1em; padding-right: 1em; text-align: center; vertical-align: top\">0</td>\n",
       "        <td style=\"padding-left: 1em; padding-right: 1em; text-align: center; vertical-align: top\">3</td>\n",
       "        <td style=\"padding-left: 1em; padding-right: 1em; text-align: center; vertical-align: top\">3.73776068951641</td>\n",
       "    </tr>\n",
       "    <tr>\n",
       "        <td style=\"padding-left: 1em; padding-right: 1em; text-align: center; vertical-align: top\">0</td>\n",
       "        <td style=\"padding-left: 1em; padding-right: 1em; text-align: center; vertical-align: top\">71</td>\n",
       "        <td style=\"padding-left: 1em; padding-right: 1em; text-align: center; vertical-align: top\">3.9409040271072886</td>\n",
       "    </tr>\n",
       "    <tr>\n",
       "        <td style=\"padding-left: 1em; padding-right: 1em; text-align: center; vertical-align: top\">0</td>\n",
       "        <td style=\"padding-left: 1em; padding-right: 1em; text-align: center; vertical-align: top\">82</td>\n",
       "        <td style=\"padding-left: 1em; padding-right: 1em; text-align: center; vertical-align: top\">3.5470584567157486</td>\n",
       "    </tr>\n",
       "    <tr>\n",
       "        <td style=\"padding-left: 1em; padding-right: 1em; text-align: center; vertical-align: top\">0</td>\n",
       "        <td style=\"padding-left: 1em; padding-right: 1em; text-align: center; vertical-align: top\">131</td>\n",
       "        <td style=\"padding-left: 1em; padding-right: 1em; text-align: center; vertical-align: top\">3.7821664371731405</td>\n",
       "    </tr>\n",
       "    <tr>\n",
       "        <td style=\"padding-left: 1em; padding-right: 1em; text-align: center; vertical-align: top\">0</td>\n",
       "        <td style=\"padding-left: 1em; padding-right: 1em; text-align: center; vertical-align: top\">167</td>\n",
       "        <td style=\"padding-left: 1em; padding-right: 1em; text-align: center; vertical-align: top\">3.8158482108284737</td>\n",
       "    </tr>\n",
       "    <tr>\n",
       "        <td style=\"padding-left: 1em; padding-right: 1em; text-align: center; vertical-align: top\">0</td>\n",
       "        <td style=\"padding-left: 1em; padding-right: 1em; text-align: center; vertical-align: top\">188</td>\n",
       "        <td style=\"padding-left: 1em; padding-right: 1em; text-align: center; vertical-align: top\">4.336227075933329</td>\n",
       "    </tr>\n",
       "    <tr>\n",
       "        <td style=\"padding-left: 1em; padding-right: 1em; text-align: center; vertical-align: top\">0</td>\n",
       "        <td style=\"padding-left: 1em; padding-right: 1em; text-align: center; vertical-align: top\">220</td>\n",
       "        <td style=\"padding-left: 1em; padding-right: 1em; text-align: center; vertical-align: top\">4.62287915355913</td>\n",
       "    </tr>\n",
       "    <tr>\n",
       "        <td style=\"padding-left: 1em; padding-right: 1em; text-align: center; vertical-align: top\">0</td>\n",
       "        <td style=\"padding-left: 1em; padding-right: 1em; text-align: center; vertical-align: top\">267</td>\n",
       "        <td style=\"padding-left: 1em; padding-right: 1em; text-align: center; vertical-align: top\">3.695395497824532</td>\n",
       "    </tr>\n",
       "    <tr>\n",
       "        <td style=\"padding-left: 1em; padding-right: 1em; text-align: center; vertical-align: top\">0</td>\n",
       "        <td style=\"padding-left: 1em; padding-right: 1em; text-align: center; vertical-align: top\">278</td>\n",
       "        <td style=\"padding-left: 1em; padding-right: 1em; text-align: center; vertical-align: top\">3.66428473194256</td>\n",
       "    </tr>\n",
       "    <tr>\n",
       "        <td style=\"padding-left: 1em; padding-right: 1em; text-align: center; vertical-align: top\">0</td>\n",
       "        <td style=\"padding-left: 1em; padding-right: 1em; text-align: center; vertical-align: top\">316</td>\n",
       "        <td style=\"padding-left: 1em; padding-right: 1em; text-align: center; vertical-align: top\">4.300170308995456</td>\n",
       "    </tr>\n",
       "</table>\n",
       "[7835 rows x 3 columns]<br/>Note: Only the head of the SFrame is printed.<br/>You can use print_rows(num_rows=m, num_columns=n) to print more rows and columns.\n",
       "</div>"
      ],
      "text/plain": [
       "Columns:\n",
       "\ttest_cas\tint\n",
       "\tspecies\tint\n",
       "\tscore\tfloat\n",
       "\n",
       "Rows: 7835\n",
       "\n",
       "Data:\n",
       "+----------+---------+--------------------+\n",
       "| test_cas | species |       score        |\n",
       "+----------+---------+--------------------+\n",
       "|    0     |    3    |  3.73776068951641  |\n",
       "|    0     |    71   | 3.9409040271072886 |\n",
       "|    0     |    82   | 3.5470584567157486 |\n",
       "|    0     |   131   | 3.7821664371731405 |\n",
       "|    0     |   167   | 3.8158482108284737 |\n",
       "|    0     |   188   | 4.336227075933329  |\n",
       "|    0     |   220   |  4.62287915355913  |\n",
       "|    0     |   267   | 3.695395497824532  |\n",
       "|    0     |   278   |  3.66428473194256  |\n",
       "|    0     |   316   | 4.300170308995456  |\n",
       "+----------+---------+--------------------+\n",
       "[7835 rows x 3 columns]\n",
       "Note: Only the head of the SFrame is printed.\n",
       "You can use print_rows(num_rows=m, num_columns=n) to print more rows and columns."
      ]
     },
     "execution_count": 49,
     "metadata": {
      "tags": []
     },
     "output_type": "execute_result"
    }
   ],
   "source": [
    "X_train"
   ]
  },
  {
   "cell_type": "code",
   "execution_count": null,
   "metadata": {
    "colab": {
     "base_uri": "https://localhost:8080/",
     "height": 833
    },
    "colab_type": "code",
    "id": "ZwLXWiD5DFq8",
    "outputId": "3e7c28f6-0f5a-4263-e1f9-4bd403bed6e5"
   },
   "outputs": [
    {
     "data": {
      "text/html": [
       "<pre>Preparing data set.</pre>"
      ],
      "text/plain": [
       "Preparing data set."
      ]
     },
     "metadata": {
      "tags": []
     },
     "output_type": "display_data"
    },
    {
     "data": {
      "text/html": [
       "<pre>    Data has 7835 observations with 2434 users and 398 items.</pre>"
      ],
      "text/plain": [
       "    Data has 7835 observations with 2434 users and 398 items."
      ]
     },
     "metadata": {
      "tags": []
     },
     "output_type": "display_data"
    },
    {
     "data": {
      "text/html": [
       "<pre>    Data prepared in: 0.018125s</pre>"
      ],
      "text/plain": [
       "    Data prepared in: 0.018125s"
      ]
     },
     "metadata": {
      "tags": []
     },
     "output_type": "display_data"
    },
    {
     "data": {
      "text/html": [
       "<pre>Training factorization_recommender for recommendations.</pre>"
      ],
      "text/plain": [
       "Training factorization_recommender for recommendations."
      ]
     },
     "metadata": {
      "tags": []
     },
     "output_type": "display_data"
    },
    {
     "data": {
      "text/html": [
       "<pre>+--------------------------------+--------------------------------------------------+----------+</pre>"
      ],
      "text/plain": [
       "+--------------------------------+--------------------------------------------------+----------+"
      ]
     },
     "metadata": {
      "tags": []
     },
     "output_type": "display_data"
    },
    {
     "data": {
      "text/html": [
       "<pre>| Parameter                      | Description                                      | Value    |</pre>"
      ],
      "text/plain": [
       "| Parameter                      | Description                                      | Value    |"
      ]
     },
     "metadata": {
      "tags": []
     },
     "output_type": "display_data"
    },
    {
     "data": {
      "text/html": [
       "<pre>+--------------------------------+--------------------------------------------------+----------+</pre>"
      ],
      "text/plain": [
       "+--------------------------------+--------------------------------------------------+----------+"
      ]
     },
     "metadata": {
      "tags": []
     },
     "output_type": "display_data"
    },
    {
     "data": {
      "text/html": [
       "<pre>| num_factors                    | Factor Dimension                                 | 8        |</pre>"
      ],
      "text/plain": [
       "| num_factors                    | Factor Dimension                                 | 8        |"
      ]
     },
     "metadata": {
      "tags": []
     },
     "output_type": "display_data"
    },
    {
     "data": {
      "text/html": [
       "<pre>| regularization                 | L2 Regularization on Factors                     | 1e-08    |</pre>"
      ],
      "text/plain": [
       "| regularization                 | L2 Regularization on Factors                     | 1e-08    |"
      ]
     },
     "metadata": {
      "tags": []
     },
     "output_type": "display_data"
    },
    {
     "data": {
      "text/html": [
       "<pre>| solver                         | Solver used for training                         | sgd      |</pre>"
      ],
      "text/plain": [
       "| solver                         | Solver used for training                         | sgd      |"
      ]
     },
     "metadata": {
      "tags": []
     },
     "output_type": "display_data"
    },
    {
     "data": {
      "text/html": [
       "<pre>| linear_regularization          | L2 Regularization on Linear Coefficients         | 1e-10    |</pre>"
      ],
      "text/plain": [
       "| linear_regularization          | L2 Regularization on Linear Coefficients         | 1e-10    |"
      ]
     },
     "metadata": {
      "tags": []
     },
     "output_type": "display_data"
    },
    {
     "data": {
      "text/html": [
       "<pre>| max_iterations                 | Maximum Number of Iterations                     | 1000     |</pre>"
      ],
      "text/plain": [
       "| max_iterations                 | Maximum Number of Iterations                     | 1000     |"
      ]
     },
     "metadata": {
      "tags": []
     },
     "output_type": "display_data"
    },
    {
     "data": {
      "text/html": [
       "<pre>+--------------------------------+--------------------------------------------------+----------+</pre>"
      ],
      "text/plain": [
       "+--------------------------------+--------------------------------------------------+----------+"
      ]
     },
     "metadata": {
      "tags": []
     },
     "output_type": "display_data"
    },
    {
     "data": {
      "text/html": [
       "<pre>  Optimizing model using SGD; tuning step size.</pre>"
      ],
      "text/plain": [
       "  Optimizing model using SGD; tuning step size."
      ]
     },
     "metadata": {
      "tags": []
     },
     "output_type": "display_data"
    },
    {
     "data": {
      "text/html": [
       "<pre>  Using 7835 / 7835 points for tuning the step size.</pre>"
      ],
      "text/plain": [
       "  Using 7835 / 7835 points for tuning the step size."
      ]
     },
     "metadata": {
      "tags": []
     },
     "output_type": "display_data"
    },
    {
     "data": {
      "text/html": [
       "<pre>+---------+-------------------+------------------------------------------+</pre>"
      ],
      "text/plain": [
       "+---------+-------------------+------------------------------------------+"
      ]
     },
     "metadata": {
      "tags": []
     },
     "output_type": "display_data"
    },
    {
     "data": {
      "text/html": [
       "<pre>| Attempt | Initial Step Size | Estimated Objective Value                |</pre>"
      ],
      "text/plain": [
       "| Attempt | Initial Step Size | Estimated Objective Value                |"
      ]
     },
     "metadata": {
      "tags": []
     },
     "output_type": "display_data"
    },
    {
     "data": {
      "text/html": [
       "<pre>+---------+-------------------+------------------------------------------+</pre>"
      ],
      "text/plain": [
       "+---------+-------------------+------------------------------------------+"
      ]
     },
     "metadata": {
      "tags": []
     },
     "output_type": "display_data"
    },
    {
     "data": {
      "text/html": [
       "<pre>| 0       | 25                | Not Viable                               |</pre>"
      ],
      "text/plain": [
       "| 0       | 25                | Not Viable                               |"
      ]
     },
     "metadata": {
      "tags": []
     },
     "output_type": "display_data"
    },
    {
     "data": {
      "text/html": [
       "<pre>| 1       | 6.25              | Not Viable                               |</pre>"
      ],
      "text/plain": [
       "| 1       | 6.25              | Not Viable                               |"
      ]
     },
     "metadata": {
      "tags": []
     },
     "output_type": "display_data"
    },
    {
     "data": {
      "text/html": [
       "<pre>| 2       | 1.5625            | Not Viable                               |</pre>"
      ],
      "text/plain": [
       "| 2       | 1.5625            | Not Viable                               |"
      ]
     },
     "metadata": {
      "tags": []
     },
     "output_type": "display_data"
    },
    {
     "data": {
      "text/html": [
       "<pre>| 3       | 0.390625          | Not Viable                               |</pre>"
      ],
      "text/plain": [
       "| 3       | 0.390625          | Not Viable                               |"
      ]
     },
     "metadata": {
      "tags": []
     },
     "output_type": "display_data"
    },
    {
     "data": {
      "text/html": [
       "<pre>| 4       | 0.0976562         | 0.181266                                 |</pre>"
      ],
      "text/plain": [
       "| 4       | 0.0976562         | 0.181266                                 |"
      ]
     },
     "metadata": {
      "tags": []
     },
     "output_type": "display_data"
    },
    {
     "data": {
      "text/html": [
       "<pre>| 5       | 0.0488281         | 0.386393                                 |</pre>"
      ],
      "text/plain": [
       "| 5       | 0.0488281         | 0.386393                                 |"
      ]
     },
     "metadata": {
      "tags": []
     },
     "output_type": "display_data"
    },
    {
     "data": {
      "text/html": [
       "<pre>+---------+-------------------+------------------------------------------+</pre>"
      ],
      "text/plain": [
       "+---------+-------------------+------------------------------------------+"
      ]
     },
     "metadata": {
      "tags": []
     },
     "output_type": "display_data"
    },
    {
     "data": {
      "text/html": [
       "<pre>| Final   | 0.0976562         | 0.181266                                 |</pre>"
      ],
      "text/plain": [
       "| Final   | 0.0976562         | 0.181266                                 |"
      ]
     },
     "metadata": {
      "tags": []
     },
     "output_type": "display_data"
    },
    {
     "data": {
      "text/html": [
       "<pre>+---------+-------------------+------------------------------------------+</pre>"
      ],
      "text/plain": [
       "+---------+-------------------+------------------------------------------+"
      ]
     },
     "metadata": {
      "tags": []
     },
     "output_type": "display_data"
    },
    {
     "data": {
      "text/html": [
       "<pre>Starting Optimization.</pre>"
      ],
      "text/plain": [
       "Starting Optimization."
      ]
     },
     "metadata": {
      "tags": []
     },
     "output_type": "display_data"
    },
    {
     "data": {
      "text/html": [
       "<pre>+---------+--------------+-------------------+-----------------------+-------------+</pre>"
      ],
      "text/plain": [
       "+---------+--------------+-------------------+-----------------------+-------------+"
      ]
     },
     "metadata": {
      "tags": []
     },
     "output_type": "display_data"
    },
    {
     "data": {
      "text/html": [
       "<pre>| Iter.   | Elapsed Time | Approx. Objective | Approx. Training RMSE | Step Size   |</pre>"
      ],
      "text/plain": [
       "| Iter.   | Elapsed Time | Approx. Objective | Approx. Training RMSE | Step Size   |"
      ]
     },
     "metadata": {
      "tags": []
     },
     "output_type": "display_data"
    },
    {
     "data": {
      "text/html": [
       "<pre>+---------+--------------+-------------------+-----------------------+-------------+</pre>"
      ],
      "text/plain": [
       "+---------+--------------+-------------------+-----------------------+-------------+"
      ]
     },
     "metadata": {
      "tags": []
     },
     "output_type": "display_data"
    },
    {
     "data": {
      "text/html": [
       "<pre>| Initial | 51us         | 1.4636            | 1.2098                |             |</pre>"
      ],
      "text/plain": [
       "| Initial | 51us         | 1.4636            | 1.2098                |             |"
      ]
     },
     "metadata": {
      "tags": []
     },
     "output_type": "display_data"
    },
    {
     "data": {
      "text/html": [
       "<pre>+---------+--------------+-------------------+-----------------------+-------------+</pre>"
      ],
      "text/plain": [
       "+---------+--------------+-------------------+-----------------------+-------------+"
      ]
     },
     "metadata": {
      "tags": []
     },
     "output_type": "display_data"
    },
    {
     "data": {
      "text/html": [
       "<pre>| 1       | 13.092ms     | 0.83559           | 0.914103              | 0.0976562   |</pre>"
      ],
      "text/plain": [
       "| 1       | 13.092ms     | 0.83559           | 0.914103              | 0.0976562   |"
      ]
     },
     "metadata": {
      "tags": []
     },
     "output_type": "display_data"
    },
    {
     "data": {
      "text/html": [
       "<pre>| 2       | 20.461ms     | 0.397365          | 0.630366              | 0.0580668   |</pre>"
      ],
      "text/plain": [
       "| 2       | 20.461ms     | 0.397365          | 0.630366              | 0.0580668   |"
      ]
     },
     "metadata": {
      "tags": []
     },
     "output_type": "display_data"
    },
    {
     "data": {
      "text/html": [
       "<pre>| 3       | 32.557ms     | 0.259348          | 0.50926               | 0.042841    |</pre>"
      ],
      "text/plain": [
       "| 3       | 32.557ms     | 0.259348          | 0.50926               | 0.042841    |"
      ]
     },
     "metadata": {
      "tags": []
     },
     "output_type": "display_data"
    },
    {
     "data": {
      "text/html": [
       "<pre>| 4       | 42.383ms     | 0.217002          | 0.465833              | 0.0345267   |</pre>"
      ],
      "text/plain": [
       "| 4       | 42.383ms     | 0.217002          | 0.465833              | 0.0345267   |"
      ]
     },
     "metadata": {
      "tags": []
     },
     "output_type": "display_data"
    },
    {
     "data": {
      "text/html": [
       "<pre>| 5       | 52.986ms     | 0.197514          | 0.444424              | 0.029206    |</pre>"
      ],
      "text/plain": [
       "| 5       | 52.986ms     | 0.197514          | 0.444424              | 0.029206    |"
      ]
     },
     "metadata": {
      "tags": []
     },
     "output_type": "display_data"
    },
    {
     "data": {
      "text/html": [
       "<pre>| 10      | 90.458ms     | 0.164391          | 0.40545               | 0.017366    |</pre>"
      ],
      "text/plain": [
       "| 10      | 90.458ms     | 0.164391          | 0.40545               | 0.017366    |"
      ]
     },
     "metadata": {
      "tags": []
     },
     "output_type": "display_data"
    },
    {
     "data": {
      "text/html": [
       "<pre>| 50      | 368.971ms    | 0.0703287         | 0.265188              | 0.00519365  |</pre>"
      ],
      "text/plain": [
       "| 50      | 368.971ms    | 0.0703287         | 0.265188              | 0.00519365  |"
      ]
     },
     "metadata": {
      "tags": []
     },
     "output_type": "display_data"
    },
    {
     "data": {
      "text/html": [
       "<pre>| 100     | 740.933ms    | 0.0398358         | 0.199577              | 0.00308816  |</pre>"
      ],
      "text/plain": [
       "| 100     | 740.933ms    | 0.0398358         | 0.199577              | 0.00308816  |"
      ]
     },
     "metadata": {
      "tags": []
     },
     "output_type": "display_data"
    },
    {
     "data": {
      "text/html": [
       "<pre>| 500     | 3.52s        | 0.0153239         | 0.123761              | 0.000923576 |</pre>"
      ],
      "text/plain": [
       "| 500     | 3.52s        | 0.0153239         | 0.123761              | 0.000923576 |"
      ]
     },
     "metadata": {
      "tags": []
     },
     "output_type": "display_data"
    },
    {
     "data": {
      "text/html": [
       "<pre>| 998     | 6.94s        | 0.0121865         | 0.110358              | 0.000549987 |</pre>"
      ],
      "text/plain": [
       "| 998     | 6.94s        | 0.0121865         | 0.110358              | 0.000549987 |"
      ]
     },
     "metadata": {
      "tags": []
     },
     "output_type": "display_data"
    },
    {
     "data": {
      "text/html": [
       "<pre>+---------+--------------+-------------------+-----------------------+-------------+</pre>"
      ],
      "text/plain": [
       "+---------+--------------+-------------------+-----------------------+-------------+"
      ]
     },
     "metadata": {
      "tags": []
     },
     "output_type": "display_data"
    },
    {
     "data": {
      "text/html": [
       "<pre>Optimization Complete: Convergence on objective within bounds.</pre>"
      ],
      "text/plain": [
       "Optimization Complete: Convergence on objective within bounds."
      ]
     },
     "metadata": {
      "tags": []
     },
     "output_type": "display_data"
    },
    {
     "data": {
      "text/html": [
       "<pre>Computing final objective value and training RMSE.</pre>"
      ],
      "text/plain": [
       "Computing final objective value and training RMSE."
      ]
     },
     "metadata": {
      "tags": []
     },
     "output_type": "display_data"
    },
    {
     "data": {
      "text/html": [
       "<pre>       Final objective value: 0.012105</pre>"
      ],
      "text/plain": [
       "       Final objective value: 0.012105"
      ]
     },
     "metadata": {
      "tags": []
     },
     "output_type": "display_data"
    },
    {
     "data": {
      "text/html": [
       "<pre>       Final training RMSE: 0.109987</pre>"
      ],
      "text/plain": [
       "       Final training RMSE: 0.109987"
      ]
     },
     "metadata": {
      "tags": []
     },
     "output_type": "display_data"
    }
   ],
   "source": [
    "model = tc.recommender.factorization_recommender.create(X_train, 'test_cas', 'species', target='score', max_iterations=1000)"
   ]
  },
  {
   "cell_type": "code",
   "execution_count": null,
   "metadata": {
    "colab": {
     "base_uri": "https://localhost:8080/",
     "height": 34
    },
    "colab_type": "code",
    "id": "FUShhXfuR2Vr",
    "outputId": "07e216b6-c303-46ee-fea8-7342e1b46aed"
   },
   "outputs": [
    {
     "data": {
      "text/plain": [
       "0.7715130785386505"
      ]
     },
     "execution_count": 90,
     "metadata": {
      "tags": []
     },
     "output_type": "execute_result"
    }
   ],
   "source": [
    "model.evaluate_rmse(X_test, 'score')['rmse_overall']"
   ]
  },
  {
   "cell_type": "code",
   "execution_count": null,
   "metadata": {
    "colab": {
     "base_uri": "https://localhost:8080/",
     "height": 88
    },
    "colab_type": "code",
    "id": "mxjKFBO2KCJ1",
    "outputId": "4193eade-30d4-4298-f29c-900e6fa3fa04"
   },
   "outputs": [
    {
     "data": {
      "text/plain": [
       "dtype: float\n",
       "Rows: 965\n",
       "[3.9160337816464166, 4.810775741516278, 4.851452663122342, 4.800073250709699, 5.136536418973134, 4.870240822015927, 5.054302647291348, 4.583175576804803, 4.784727163194344, 4.910451225517915, 4.243887159554885, 4.564487978397534, 3.6400225307332734, 4.025586410938428, 5.004235103307889, 3.6812742497312287, 4.776622958062814, 4.71658716308944, 4.780518106697724, 5.318326353608296, 4.8092863630043725, 4.953789934097455, 5.2340459297882775, 5.316194548784421, 4.268355853437112, 5.349353767512963, 4.951050944207833, 5.984901465057061, 4.450408197520898, 6.068476713775323, 5.054538309155629, 5.8887144695507745, 5.2965687583672265, 4.583175576804803, 4.583175576804803, 4.809798817663119, 3.427967346786187, 2.3084558616863946, 4.47715834486358, 4.583175576804803, 2.344780720351861, 4.451930380939172, 4.490950531839059, 3.320861391304658, 1.9813415180432061, 1.722489870666192, 2.614134855149911, 3.90797293889396, 2.641703463672326, 4.356294668792413, 4.359837449668572, 4.583175576804803, 4.395766645018608, 4.490360445855782, 6.213685638784097, 6.740722842096017, 6.850924372021706, 4.912390447734521, 6.660138867376969, 5.304455376743005, 6.825762189506219, 6.441973365424798, 4.6991270552860955, 4.583175576804803, 4.022306121467278, 4.078741408466027, 4.146713770507501, 3.5224639545666436, 4.583175576804803, 3.3057800005661706, 3.5623349412816028, 5.541167057632134, 3.5213785539852838, 4.68663225281112, 4.061626039026902, 5.20701525318496, 3.794155455707238, 4.708778895019219, 4.4036320741759996, 4.92389575350158, 4.586492932914422, 4.569960690616296, 3.7782566915737847, 5.528404242871926, 7.079977847217248, 6.083333596168683, 6.955999202607797, 7.359870858071969, 5.9684974919544915, 7.028141999198721, 7.012482069014237, 5.074420071719811, 6.345899141906426, 7.078674621461556, 6.814034863887952, 4.026614225982354, 4.144545860170052, 5.369684375404046, 6.0512830685364465, 6.0989791225182275, ... ]"
      ]
     },
     "execution_count": 72,
     "metadata": {
      "tags": []
     },
     "output_type": "execute_result"
    }
   ],
   "source": [
    "X_test_predict = model.predict(X_test)\n",
    "X_test_predict"
   ]
  },
  {
   "cell_type": "code",
   "execution_count": null,
   "metadata": {
    "colab": {
     "base_uri": "https://localhost:8080/",
     "height": 88
    },
    "colab_type": "code",
    "id": "hxewePCqLqre",
    "outputId": "cb421be7-161a-4316-80b6-1ae44de23837"
   },
   "outputs": [
    {
     "data": {
      "text/plain": [
       "dtype: float\n",
       "Rows: 965\n",
       "[3.71626758495354, 4.45549735579243, 4.861233688970261, 4.727108359310469, 5.572018639025107, 5.273694832287757, 4.5535430209347885, 2.5027354353987956, 5.036524220827172, 5.775076917686039, 4.600363913668467, 4.965734703737563, 4.266381541200065, 4.654808501629203, 4.956879441190712, 4.450320105134525, 4.993581238075765, 5.166557125864623, 5.235907823589456, 5.247264999137658, 5.214287122531501, 5.050353766222792, 5.700322802919587, 5.631881209127953, 4.243680925710945, 5.371740497430115, 4.977659640076738, 5.766804779035413, 5.045258541101527, 5.4960485352872945, 5.233681871255022, 6.230675477833476, 5.440271437693488, 4.064561728252011, 1.8756731074574153, 4.734026104103338, 4.00123480775986, 2.2862341623835247, 4.673447179116967, 3.82898732990682, 3.078339290633779, 2.9570743290547123, 3.2123947476071573, 3.564850492171681, 2.1415850693601715, 1.9401126142228828, 2.2930021621420305, 3.9733015857270875, 2.8515207310119606, 3.9733015857270875, 4.243680925710945, 4.119604005209464, 3.8680266936852665, 3.3817558398275036, 6.880741984590253, 6.105450695860738, 5.9211135659574925, 5.99371607028477, 6.5248328003897305, 5.711679978467789, 6.120451123142934, 7.738349994716072, 5.864088698793018, 3.82898732990682, 3.6320760969919537, 4.1153242573741045, 3.5357012811675466, 3.7321940198446075, 2.62204056653626, 3.5804349111128815, 3.82898732990682, 5.339811149360042, 6.5015803153271206, 6.826600431108613, 4.4226010119641375, 3.4734615264981605, 4.218648194470499, 4.867867660083732, 4.2323237501627435, 3.71626758495354, 3.8381568065712477, 4.025630666290978, 4.176733731899841, 5.858312614432099, 6.44426681208506, 7.624791689640851, 6.47664917522592, 7.205110340256054, 4.903163916833932, 7.627595091722514, 7.031597025266424, 4.972787692533926, 5.700322802919587, 7.16037671031072, 7.197227515529309, 5.432149716433908, 5.2566363680780634, 5.747233042125004, 6.143117081191763, 5.463678101447381, ... ]"
      ]
     },
     "execution_count": 74,
     "metadata": {
      "tags": []
     },
     "output_type": "execute_result"
    }
   ],
   "source": [
    "X_test_score = X_test.select_column(\"score\")\n",
    "X_test_score"
   ]
  },
  {
   "cell_type": "code",
   "execution_count": null,
   "metadata": {
    "colab": {
     "base_uri": "https://localhost:8080/",
     "height": 34
    },
    "colab_type": "code",
    "id": "mLH9suOeL4oV",
    "outputId": "83a2cdcf-097a-4de1-90f8-1c5ec514ecf9"
   },
   "outputs": [
    {
     "data": {
      "text/plain": [
       "0.7715130785386507"
      ]
     },
     "execution_count": 75,
     "metadata": {
      "tags": []
     },
     "output_type": "execute_result"
    }
   ],
   "source": [
    "tc.evaluation.rmse(X_test_score, X_test_predict)"
   ]
  },
  {
   "cell_type": "code",
   "execution_count": null,
   "metadata": {
    "colab": {},
    "colab_type": "code",
    "id": "M9XOO1rWN0d_"
   },
   "outputs": [],
   "source": [
    "X_test_predict_conc = minmax.inverse_transform(X_test_predict.to_numpy().reshape(-1, 1))\n",
    "X_test_predict_conc = np.exp(X_test_predict_conc)    \n",
    "X_test_predict_conc = 1/X_test_predict_conc"
   ]
  },
  {
   "cell_type": "code",
   "execution_count": null,
   "metadata": {
    "colab": {},
    "colab_type": "code",
    "id": "AuCJGvJkOurK"
   },
   "outputs": [],
   "source": [
    "X_test_conc = minmax.inverse_transform(X_test_score.to_numpy().reshape(-1, 1))\n",
    "X_test_conc = np.exp(X_test_conc)    \n",
    "X_test_conc = 1/X_test_conc"
   ]
  },
  {
   "cell_type": "code",
   "execution_count": null,
   "metadata": {
    "colab": {
     "base_uri": "https://localhost:8080/",
     "height": 34
    },
    "colab_type": "code",
    "id": "LD_AZz_SO8sf",
    "outputId": "bd35c1ec-9b52-4cab-e93f-67caeef3ec86"
   },
   "outputs": [
    {
     "data": {
      "text/plain": [
       "3437.5215768480975"
      ]
     },
     "execution_count": 87,
     "metadata": {
      "tags": []
     },
     "output_type": "execute_result"
    }
   ],
   "source": [
    "sqrt(mean_squared_error(X_test_conc, X_test_predict_conc))"
   ]
  },
  {
   "cell_type": "markdown",
   "metadata": {
    "colab_type": "text",
    "id": "jAcH4OmgRcl-"
   },
   "source": [
    "# Implementing CV"
   ]
  },
  {
   "cell_type": "code",
   "execution_count": null,
   "metadata": {
    "colab": {},
    "colab_type": "code",
    "id": "sBHtCSytYt3G"
   },
   "outputs": [],
   "source": [
    "X_train_original, X_test_original, X_train_scored, X_test_scored = train_test_split(X_original, X_fact_scored, test_size=0.33)"
   ]
  },
  {
   "cell_type": "code",
   "execution_count": null,
   "metadata": {
    "colab": {},
    "colab_type": "code",
    "id": "LOYfVdmba6fV"
   },
   "outputs": [],
   "source": [
    "X_train_original = X_train_original.reset_index(drop=True)\n",
    "X_test_original = X_test_original.reset_index(drop=True)\n",
    "X_train_scored = X_train_scored.reset_index(drop=True)\n",
    "X_test_scored = X_test_scored.reset_index(drop=True)"
   ]
  },
  {
   "cell_type": "code",
   "execution_count": null,
   "metadata": {
    "colab": {
     "base_uri": "https://localhost:8080/",
     "height": 1000
    },
    "colab_type": "code",
    "id": "mZNYxBCpax-n",
    "outputId": "7b1381e8-964f-4cf7-e686-cbb819f1e19e"
   },
   "outputs": [
    {
     "name": "stdout",
     "output_type": "stream",
     "text": [
      "New best param combination found! Rmse:0.4169126203830466, num_factors:10, regularizer:1e-12, lin_reg:1e-12\n",
      "New best param combination found! Rmse:0.4104402772096032, num_factors:10, regularizer:1e-12, lin_reg:2.1544346900318868e-11\n",
      "New best param combination found! Rmse:0.409606695792151, num_factors:10, regularizer:1e-12, lin_reg:4.641588833612773e-06\n",
      "New best param combination found! Rmse:0.39463293521413423, num_factors:10, regularizer:1e-12, lin_reg:0.0001\n",
      "New best param combination found! Rmse:0.3942202721593308, num_factors:10, regularizer:4.641588833612773e-06, lin_reg:0.0001\n",
      "New best param combination found! Rmse:0.3938525846307431, num_factors:10, regularizer:0.0021544346900318778, lin_reg:2.1544346900318868e-11\n",
      "New best param combination found! Rmse:0.413360473331761, num_factors:10, regularizer:1e-12, lin_reg:1e-12\n",
      "New best param combination found! Rmse:0.40304832540592433, num_factors:10, regularizer:1e-12, lin_reg:2.1544346900318868e-11\n",
      "New best param combination found! Rmse:0.4008399462880606, num_factors:10, regularizer:1e-12, lin_reg:4.6415888336127727e-10\n",
      "New best param combination found! Rmse:0.3914259761874747, num_factors:10, regularizer:1e-12, lin_reg:0.0001\n",
      "New best param combination found! Rmse:0.38656538801429075, num_factors:10, regularizer:1e-08, lin_reg:0.0001\n",
      "New best param combination found! Rmse:0.38623774554422097, num_factors:10, regularizer:0.0021544346900318778, lin_reg:1e-08\n",
      "New best param combination found! Rmse:0.40455926580227725, num_factors:10, regularizer:1e-12, lin_reg:1e-12\n",
      "New best param combination found! Rmse:0.4036157751878062, num_factors:10, regularizer:1e-12, lin_reg:2.1544346900318868e-11\n",
      "New best param combination found! Rmse:0.38918552115724186, num_factors:10, regularizer:1e-12, lin_reg:0.0001\n",
      "New best param combination found! Rmse:0.38879554976816394, num_factors:10, regularizer:2.1544346900318868e-11, lin_reg:0.0001\n",
      "New best param combination found! Rmse:0.3861304274404091, num_factors:10, regularizer:4.6415888336127727e-10, lin_reg:0.0001\n",
      "New best param combination found! Rmse:0.3765929013139618, num_factors:10, regularizer:2.1544346900318822e-07, lin_reg:0.0001\n",
      "Scale: 5, avg_rmse: 0.3684205022293215\n",
      "New best scale found: 5\n",
      "New best rmse 0.3684205022293215\n",
      "New best param combination found! Rmse:0.5184498082372618, num_factors:10, regularizer:1e-12, lin_reg:1e-12\n",
      "New best param combination found! Rmse:0.5131998070348605, num_factors:10, regularizer:1e-12, lin_reg:1e-08\n",
      "New best param combination found! Rmse:0.49703139958060194, num_factors:10, regularizer:1e-12, lin_reg:0.0001\n",
      "New best param combination found! Rmse:0.49395750885927686, num_factors:10, regularizer:4.6415888336127727e-10, lin_reg:0.0001\n",
      "New best param combination found! Rmse:0.4840493303698458, num_factors:10, regularizer:0.0021544346900318778, lin_reg:1e-12\n",
      "New best param combination found! Rmse:0.48325072982057593, num_factors:10, regularizer:0.0021544346900318778, lin_reg:0.0001\n",
      "New best param combination found! Rmse:0.5343512493816618, num_factors:10, regularizer:1e-12, lin_reg:1e-12\n",
      "New best param combination found! Rmse:0.525818815421707, num_factors:10, regularizer:1e-12, lin_reg:2.1544346900318868e-11\n",
      "New best param combination found! Rmse:0.525143916087509, num_factors:10, regularizer:1e-12, lin_reg:4.6415888336127727e-10\n",
      "New best param combination found! Rmse:0.5173591891452985, num_factors:10, regularizer:1e-12, lin_reg:1e-08\n",
      "New best param combination found! Rmse:0.5020463361582965, num_factors:10, regularizer:1e-12, lin_reg:0.0001\n",
      "New best param combination found! Rmse:0.5006102972421775, num_factors:10, regularizer:4.6415888336127727e-10, lin_reg:0.0001\n",
      "New best param combination found! Rmse:0.48505984113782036, num_factors:10, regularizer:0.0021544346900318778, lin_reg:1e-12\n",
      "New best param combination found! Rmse:0.5238635246909453, num_factors:10, regularizer:1e-12, lin_reg:1e-12\n",
      "New best param combination found! Rmse:0.5119384628652616, num_factors:10, regularizer:1e-12, lin_reg:2.1544346900318868e-11\n",
      "New best param combination found! Rmse:0.5058557488039196, num_factors:10, regularizer:1e-12, lin_reg:1e-08\n",
      "New best param combination found! Rmse:0.5039483865134572, num_factors:10, regularizer:4.6415888336127727e-10, lin_reg:1e-08\n",
      "New best param combination found! Rmse:0.49278713241553107, num_factors:10, regularizer:1e-08, lin_reg:0.0001\n",
      "New best param combination found! Rmse:0.48582789062382653, num_factors:10, regularizer:0.0021544346900318778, lin_reg:4.6415888336127727e-10\n",
      "Scale: 6, avg_rmse: 0.4586492711699483\n",
      "New best param combination found! Rmse:0.634587356102097, num_factors:10, regularizer:1e-12, lin_reg:1e-12\n",
      "New best param combination found! Rmse:0.6329012174612049, num_factors:10, regularizer:1e-12, lin_reg:2.1544346900318868e-11\n",
      "New best param combination found! Rmse:0.621787289960832, num_factors:10, regularizer:1e-12, lin_reg:4.6415888336127727e-10\n",
      "New best param combination found! Rmse:0.6208746747660406, num_factors:10, regularizer:2.1544346900318868e-11, lin_reg:1e-08\n",
      "New best param combination found! Rmse:0.617509094402403, num_factors:10, regularizer:4.6415888336127727e-10, lin_reg:1e-12\n",
      "New best param combination found! Rmse:0.6162184349470691, num_factors:10, regularizer:0.0001, lin_reg:2.1544346900318822e-07\n",
      "New best param combination found! Rmse:0.5925558470197754, num_factors:10, regularizer:0.0021544346900318778, lin_reg:1e-12\n",
      "New best param combination found! Rmse:0.5880301324583157, num_factors:10, regularizer:0.0021544346900318778, lin_reg:4.6415888336127727e-10\n",
      "New best param combination found! Rmse:0.5856959678916803, num_factors:10, regularizer:0.0021544346900318778, lin_reg:1e-08\n",
      "New best param combination found! Rmse:0.582043229952405, num_factors:10, regularizer:0.0021544346900318778, lin_reg:2.1544346900318822e-07\n",
      "New best param combination found! Rmse:0.5788072495881251, num_factors:10, regularizer:0.0021544346900318778, lin_reg:0.0001\n",
      "New best param combination found! Rmse:0.6437330706427163, num_factors:10, regularizer:1e-12, lin_reg:1e-12\n",
      "New best param combination found! Rmse:0.6409533850144014, num_factors:10, regularizer:1e-12, lin_reg:2.1544346900318868e-11\n",
      "New best param combination found! Rmse:0.6397912266537152, num_factors:10, regularizer:1e-12, lin_reg:1e-08\n",
      "New best param combination found! Rmse:0.6354514630955522, num_factors:10, regularizer:1e-12, lin_reg:2.1544346900318822e-07\n",
      "New best param combination found! Rmse:0.6327654683653131, num_factors:10, regularizer:2.1544346900318868e-11, lin_reg:2.1544346900318822e-07\n",
      "New best param combination found! Rmse:0.6309654964238626, num_factors:10, regularizer:2.1544346900318868e-11, lin_reg:4.641588833612773e-06\n",
      "New best param combination found! Rmse:0.6277151106877623, num_factors:10, regularizer:2.1544346900318822e-07, lin_reg:1e-12\n",
      "New best param combination found! Rmse:0.62522705884692, num_factors:10, regularizer:2.1544346900318822e-07, lin_reg:2.1544346900318868e-11\n",
      "New best param combination found! Rmse:0.603276949689382, num_factors:10, regularizer:0.0021544346900318778, lin_reg:1e-12\n",
      "New best param combination found! Rmse:0.6014791392971541, num_factors:10, regularizer:0.0021544346900318778, lin_reg:2.1544346900318868e-11\n",
      "New best param combination found! Rmse:0.5958583481355652, num_factors:10, regularizer:0.0021544346900318778, lin_reg:4.6415888336127727e-10\n",
      "New best param combination found! Rmse:0.6411707020087148, num_factors:10, regularizer:1e-12, lin_reg:1e-12\n",
      "New best param combination found! Rmse:0.629246121505421, num_factors:10, regularizer:1e-12, lin_reg:2.1544346900318868e-11\n",
      "New best param combination found! Rmse:0.6219175963366861, num_factors:10, regularizer:1e-12, lin_reg:4.6415888336127727e-10\n",
      "New best param combination found! Rmse:0.6159400498542827, num_factors:10, regularizer:1e-12, lin_reg:4.641588833612773e-06\n",
      "New best param combination found! Rmse:0.612318746244266, num_factors:10, regularizer:1e-08, lin_reg:2.1544346900318822e-07\n",
      "New best param combination found! Rmse:0.5857502100467226, num_factors:10, regularizer:0.0021544346900318778, lin_reg:1e-12\n",
      "New best param combination found! Rmse:0.5807874684611858, num_factors:10, regularizer:0.0021544346900318778, lin_reg:2.1544346900318868e-11\n",
      "Scale: 7, avg_rmse: 0.5449754152884446\n",
      "New best param combination found! Rmse:0.709313914851939, num_factors:10, regularizer:1e-12, lin_reg:1e-12\n",
      "New best param combination found! Rmse:0.7074008162993644, num_factors:10, regularizer:0.0001, lin_reg:1e-12\n",
      "New best param combination found! Rmse:0.6967717976297925, num_factors:10, regularizer:0.0001, lin_reg:2.1544346900318868e-11\n",
      "New best param combination found! Rmse:0.6753044894480523, num_factors:10, regularizer:0.0021544346900318778, lin_reg:1e-12\n",
      "New best param combination found! Rmse:0.6752538952211365, num_factors:10, regularizer:0.0021544346900318778, lin_reg:4.6415888336127727e-10\n",
      "New best param combination found! Rmse:0.741946772561766, num_factors:10, regularizer:1e-12, lin_reg:1e-12\n",
      "New best param combination found! Rmse:0.7404717301653966, num_factors:10, regularizer:2.1544346900318868e-11, lin_reg:1e-12\n",
      "New best param combination found! Rmse:0.7326324440685271, num_factors:10, regularizer:4.6415888336127727e-10, lin_reg:1e-12\n",
      "New best param combination found! Rmse:0.7309692780714311, num_factors:10, regularizer:2.1544346900318822e-07, lin_reg:4.6415888336127727e-10\n",
      "New best param combination found! Rmse:0.7252141978082588, num_factors:10, regularizer:0.0001, lin_reg:1e-12\n",
      "New best param combination found! Rmse:0.724999959455177, num_factors:10, regularizer:0.0001, lin_reg:2.1544346900318822e-07\n",
      "New best param combination found! Rmse:0.705127527598744, num_factors:10, regularizer:0.0021544346900318778, lin_reg:1e-12\n",
      "New best param combination found! Rmse:0.6968201534274671, num_factors:10, regularizer:0.0021544346900318778, lin_reg:2.1544346900318868e-11\n",
      "New best param combination found! Rmse:0.6870992847788595, num_factors:10, regularizer:0.0021544346900318778, lin_reg:2.1544346900318822e-07\n",
      "New best param combination found! Rmse:0.7198695084067106, num_factors:10, regularizer:1e-12, lin_reg:1e-12\n",
      "New best param combination found! Rmse:0.7133901279654881, num_factors:10, regularizer:1e-12, lin_reg:2.1544346900318868e-11\n",
      "New best param combination found! Rmse:0.7086337845850638, num_factors:10, regularizer:1e-12, lin_reg:1e-08\n",
      "New best param combination found! Rmse:0.6979937398858378, num_factors:10, regularizer:1e-12, lin_reg:2.1544346900318822e-07\n",
      "New best param combination found! Rmse:0.6923804582396823, num_factors:10, regularizer:0.0001, lin_reg:1e-12\n",
      "New best param combination found! Rmse:0.6605509332290015, num_factors:10, regularizer:0.0021544346900318778, lin_reg:1e-12\n",
      "Scale: 8, avg_rmse: 0.6471491667495909\n",
      "New best param combination found! Rmse:0.8241606352127931, num_factors:10, regularizer:1e-12, lin_reg:1e-12\n",
      "New best param combination found! Rmse:0.807422995774318, num_factors:10, regularizer:1e-12, lin_reg:2.1544346900318868e-11\n",
      "New best param combination found! Rmse:0.794014541137877, num_factors:10, regularizer:2.1544346900318868e-11, lin_reg:2.1544346900318822e-07\n",
      "New best param combination found! Rmse:0.7877094415259792, num_factors:10, regularizer:1e-08, lin_reg:4.6415888336127727e-10\n",
      "New best param combination found! Rmse:0.7837723131242941, num_factors:10, regularizer:0.0001, lin_reg:2.1544346900318868e-11\n",
      "New best param combination found! Rmse:0.780740582481955, num_factors:10, regularizer:0.0021544346900318778, lin_reg:1e-12\n",
      "New best param combination found! Rmse:0.77131595149747, num_factors:10, regularizer:0.0021544346900318778, lin_reg:4.6415888336127727e-10\n",
      "New best param combination found! Rmse:0.766454063164332, num_factors:10, regularizer:0.0021544346900318778, lin_reg:0.0001\n",
      "New best param combination found! Rmse:0.82677513064732, num_factors:10, regularizer:1e-12, lin_reg:1e-12\n",
      "New best param combination found! Rmse:0.8222009381107444, num_factors:10, regularizer:1e-12, lin_reg:1e-08\n",
      "New best param combination found! Rmse:0.8043992490939279, num_factors:10, regularizer:1e-12, lin_reg:4.641588833612773e-06\n",
      "New best param combination found! Rmse:0.7979812760733912, num_factors:10, regularizer:2.1544346900318868e-11, lin_reg:4.6415888336127727e-10\n",
      "New best param combination found! Rmse:0.7955865596085571, num_factors:10, regularizer:2.1544346900318822e-07, lin_reg:1e-12\n",
      "New best param combination found! Rmse:0.787327725781835, num_factors:10, regularizer:4.641588833612773e-06, lin_reg:1e-08\n",
      "New best param combination found! Rmse:0.7837093218851789, num_factors:10, regularizer:0.0001, lin_reg:2.1544346900318868e-11\n",
      "New best param combination found! Rmse:0.8142220245962951, num_factors:10, regularizer:1e-12, lin_reg:1e-12\n",
      "New best param combination found! Rmse:0.8091112675574005, num_factors:10, regularizer:1e-12, lin_reg:2.1544346900318868e-11\n",
      "New best param combination found! Rmse:0.7967124311882126, num_factors:10, regularizer:1e-12, lin_reg:1e-08\n",
      "New best param combination found! Rmse:0.7898535075154122, num_factors:10, regularizer:1e-12, lin_reg:4.641588833612773e-06\n",
      "New best param combination found! Rmse:0.7814401416140234, num_factors:10, regularizer:2.1544346900318868e-11, lin_reg:1e-12\n",
      "New best param combination found! Rmse:0.7783784903565998, num_factors:10, regularizer:4.6415888336127727e-10, lin_reg:2.1544346900318822e-07\n",
      "New best param combination found! Rmse:0.7755152396841377, num_factors:10, regularizer:0.0021544346900318778, lin_reg:2.1544346900318868e-11\n",
      "Scale: 9, avg_rmse: 0.7525039252566007\n",
      "New best param combination found! Rmse:0.8968794859296024, num_factors:10, regularizer:1e-12, lin_reg:1e-12\n",
      "New best param combination found! Rmse:0.896210271432378, num_factors:10, regularizer:1e-12, lin_reg:4.641588833612773e-06\n",
      "New best param combination found! Rmse:0.8931325016229517, num_factors:10, regularizer:1e-12, lin_reg:0.0001\n",
      "New best param combination found! Rmse:0.8915215569318585, num_factors:10, regularizer:2.1544346900318868e-11, lin_reg:2.1544346900318822e-07\n",
      "New best param combination found! Rmse:0.8902250288744611, num_factors:10, regularizer:4.641588833612773e-06, lin_reg:4.641588833612773e-06\n",
      "New best param combination found! Rmse:0.8771755218309342, num_factors:10, regularizer:0.0021544346900318778, lin_reg:1e-12\n",
      "New best param combination found! Rmse:0.8755901433258316, num_factors:10, regularizer:0.0021544346900318778, lin_reg:1e-08\n",
      "New best param combination found! Rmse:0.8815551658851793, num_factors:10, regularizer:1e-12, lin_reg:1e-12\n",
      "New best param combination found! Rmse:0.8749563524808356, num_factors:10, regularizer:1e-12, lin_reg:0.0001\n",
      "New best param combination found! Rmse:0.8671097571707517, num_factors:10, regularizer:1e-08, lin_reg:1e-08\n",
      "New best param combination found! Rmse:0.8669734031704056, num_factors:10, regularizer:0.0021544346900318778, lin_reg:1e-12\n",
      "New best param combination found! Rmse:0.8549590769623782, num_factors:10, regularizer:0.0021544346900318778, lin_reg:4.6415888336127727e-10\n",
      "New best param combination found! Rmse:0.9034473190928375, num_factors:10, regularizer:1e-12, lin_reg:1e-12\n",
      "New best param combination found! Rmse:0.9024979592781267, num_factors:10, regularizer:1e-12, lin_reg:1e-08\n",
      "New best param combination found! Rmse:0.889723877642004, num_factors:10, regularizer:4.641588833612773e-06, lin_reg:1e-12\n",
      "New best param combination found! Rmse:0.8754365444177692, num_factors:10, regularizer:0.0021544346900318778, lin_reg:1e-12\n",
      "Scale: 10, avg_rmse: 0.8355179875602032\n",
      "New best param combination found! Rmse:0.9997773499938433, num_factors:10, regularizer:1e-12, lin_reg:1e-12\n",
      "New best param combination found! Rmse:0.9904190782357118, num_factors:10, regularizer:1e-12, lin_reg:4.6415888336127727e-10\n",
      "New best param combination found! Rmse:0.987717846161735, num_factors:10, regularizer:2.1544346900318868e-11, lin_reg:1e-12\n",
      "New best param combination found! Rmse:0.9822585740967446, num_factors:10, regularizer:2.1544346900318868e-11, lin_reg:4.6415888336127727e-10\n",
      "New best param combination found! Rmse:0.9770233105798152, num_factors:10, regularizer:0.0021544346900318778, lin_reg:2.1544346900318868e-11\n",
      "New best param combination found! Rmse:0.9591069540556306, num_factors:10, regularizer:0.0021544346900318778, lin_reg:4.6415888336127727e-10\n",
      "New best param combination found! Rmse:1.0239604669458857, num_factors:10, regularizer:1e-12, lin_reg:1e-12\n",
      "New best param combination found! Rmse:1.0233759585277635, num_factors:10, regularizer:1e-12, lin_reg:2.1544346900318868e-11\n",
      "New best param combination found! Rmse:1.0031671169430918, num_factors:10, regularizer:1e-12, lin_reg:4.6415888336127727e-10\n",
      "New best param combination found! Rmse:0.9915830251795786, num_factors:10, regularizer:0.0021544346900318778, lin_reg:1e-12\n",
      "New best param combination found! Rmse:0.9836249072259532, num_factors:10, regularizer:0.0021544346900318778, lin_reg:2.1544346900318868e-11\n",
      "New best param combination found! Rmse:1.0129985727794522, num_factors:10, regularizer:1e-12, lin_reg:1e-12\n",
      "New best param combination found! Rmse:1.0031869541124196, num_factors:10, regularizer:1e-12, lin_reg:2.1544346900318868e-11\n",
      "New best param combination found! Rmse:1.0027710027185637, num_factors:10, regularizer:1e-12, lin_reg:4.641588833612773e-06\n",
      "New best param combination found! Rmse:1.0021385289115206, num_factors:10, regularizer:2.1544346900318868e-11, lin_reg:4.6415888336127727e-10\n",
      "New best param combination found! Rmse:0.9946386106019659, num_factors:10, regularizer:2.1544346900318868e-11, lin_reg:4.641588833612773e-06\n",
      "New best param combination found! Rmse:0.9866445969674107, num_factors:10, regularizer:4.6415888336127727e-10, lin_reg:2.1544346900318822e-07\n",
      "New best param combination found! Rmse:0.9854330028397508, num_factors:10, regularizer:1e-08, lin_reg:4.641588833612773e-06\n",
      "New best param combination found! Rmse:0.9816906028564732, num_factors:10, regularizer:0.0021544346900318778, lin_reg:1e-12\n",
      "New best param combination found! Rmse:0.9734237115018948, num_factors:10, regularizer:0.0021544346900318778, lin_reg:4.6415888336127727e-10\n",
      "New best param combination found! Rmse:0.9711811682656233, num_factors:10, regularizer:0.0021544346900318778, lin_reg:1e-08\n",
      "Scale: 11, avg_rmse: 0.9274314658864141\n",
      "New best param combination found! Rmse:1.1434557815906243, num_factors:10, regularizer:1e-12, lin_reg:1e-12\n",
      "New best param combination found! Rmse:1.1314256583784321, num_factors:10, regularizer:1e-12, lin_reg:2.1544346900318868e-11\n",
      "New best param combination found! Rmse:1.1306048206500623, num_factors:10, regularizer:1e-12, lin_reg:4.6415888336127727e-10\n",
      "New best param combination found! Rmse:1.1304860338659022, num_factors:10, regularizer:1e-12, lin_reg:1e-08\n",
      "New best param combination found! Rmse:1.1274736653131667, num_factors:10, regularizer:1e-12, lin_reg:4.641588833612773e-06\n",
      "New best param combination found! Rmse:1.1231141788922858, num_factors:10, regularizer:1e-12, lin_reg:0.0001\n",
      "New best param combination found! Rmse:1.1198945607715738, num_factors:10, regularizer:0.0001, lin_reg:1e-12\n",
      "New best param combination found! Rmse:1.1156714915276515, num_factors:10, regularizer:0.0001, lin_reg:1e-08\n",
      "New best param combination found! Rmse:1.106029093103414, num_factors:10, regularizer:0.0021544346900318778, lin_reg:1e-12\n",
      "New best param combination found! Rmse:1.0932992075414243, num_factors:10, regularizer:0.0021544346900318778, lin_reg:2.1544346900318868e-11\n",
      "New best param combination found! Rmse:1.0907046972216932, num_factors:10, regularizer:0.0021544346900318778, lin_reg:2.1544346900318822e-07\n",
      "New best param combination found! Rmse:1.1365213873874465, num_factors:10, regularizer:1e-12, lin_reg:1e-12\n",
      "New best param combination found! Rmse:1.1239551606633025, num_factors:10, regularizer:1e-12, lin_reg:4.6415888336127727e-10\n",
      "New best param combination found! Rmse:1.1228838225165065, num_factors:10, regularizer:4.6415888336127727e-10, lin_reg:1e-12\n",
      "New best param combination found! Rmse:1.1182729554651683, num_factors:10, regularizer:4.641588833612773e-06, lin_reg:0.0001\n",
      "New best param combination found! Rmse:1.1027298508238663, num_factors:10, regularizer:0.0021544346900318778, lin_reg:1e-12\n",
      "New best param combination found! Rmse:1.101216132224544, num_factors:10, regularizer:0.0021544346900318778, lin_reg:4.641588833612773e-06\n",
      "New best param combination found! Rmse:1.1006924532653408, num_factors:10, regularizer:0.0021544346900318778, lin_reg:0.0001\n",
      "New best param combination found! Rmse:1.0807494588425663, num_factors:10, regularizer:1e-12, lin_reg:1e-12\n",
      "New best param combination found! Rmse:1.0768729673786703, num_factors:10, regularizer:4.6415888336127727e-10, lin_reg:1e-12\n",
      "New best param combination found! Rmse:1.0685355371685084, num_factors:10, regularizer:1e-08, lin_reg:4.6415888336127727e-10\n",
      "New best param combination found! Rmse:1.06301039782344, num_factors:10, regularizer:0.0001, lin_reg:2.1544346900318868e-11\n",
      "New best param combination found! Rmse:1.056250161306527, num_factors:10, regularizer:0.0021544346900318778, lin_reg:1e-12\n",
      "New best param combination found! Rmse:1.0549285534403037, num_factors:10, regularizer:0.0021544346900318778, lin_reg:4.641588833612773e-06\n",
      "Scale: 12, avg_rmse: 1.001972064932016\n",
      "New best param combination found! Rmse:1.2137123302216877, num_factors:10, regularizer:1e-12, lin_reg:1e-12\n",
      "New best param combination found! Rmse:1.2118596279770673, num_factors:10, regularizer:1e-12, lin_reg:2.1544346900318868e-11\n",
      "New best param combination found! Rmse:1.208003215643186, num_factors:10, regularizer:1e-12, lin_reg:4.6415888336127727e-10\n",
      "New best param combination found! Rmse:1.2001778992172005, num_factors:10, regularizer:1e-12, lin_reg:0.0001\n",
      "New best param combination found! Rmse:1.1985409108419385, num_factors:10, regularizer:2.1544346900318868e-11, lin_reg:1e-12\n",
      "New best param combination found! Rmse:1.1953304189932936, num_factors:10, regularizer:4.6415888336127727e-10, lin_reg:1e-12\n",
      "New best param combination found! Rmse:1.1919345209908145, num_factors:10, regularizer:2.1544346900318822e-07, lin_reg:1e-12\n",
      "New best param combination found! Rmse:1.169820741749075, num_factors:10, regularizer:0.0021544346900318778, lin_reg:1e-12\n",
      "New best param combination found! Rmse:1.1629981861303202, num_factors:10, regularizer:0.0021544346900318778, lin_reg:4.6415888336127727e-10\n",
      "New best param combination found! Rmse:1.1615676693916333, num_factors:10, regularizer:0.0021544346900318778, lin_reg:2.1544346900318822e-07\n",
      "New best param combination found! Rmse:1.2101493236080172, num_factors:10, regularizer:1e-12, lin_reg:1e-12\n",
      "New best param combination found! Rmse:1.2072949613778903, num_factors:10, regularizer:1e-12, lin_reg:1e-08\n",
      "New best param combination found! Rmse:1.2053938794836367, num_factors:10, regularizer:2.1544346900318822e-07, lin_reg:4.6415888336127727e-10\n",
      "New best param combination found! Rmse:1.1994226450543566, num_factors:10, regularizer:0.0001, lin_reg:4.6415888336127727e-10\n",
      "New best param combination found! Rmse:1.1691796838147075, num_factors:10, regularizer:0.0021544346900318778, lin_reg:1e-12\n",
      "New best param combination found! Rmse:1.2780913336415927, num_factors:10, regularizer:1e-12, lin_reg:1e-12\n",
      "New best param combination found! Rmse:1.2747165809562195, num_factors:10, regularizer:1e-12, lin_reg:2.1544346900318868e-11\n",
      "New best param combination found! Rmse:1.2606366425381599, num_factors:10, regularizer:1e-12, lin_reg:4.6415888336127727e-10\n",
      "New best param combination found! Rmse:1.2540259574650294, num_factors:10, regularizer:1e-12, lin_reg:1e-08\n",
      "New best param combination found! Rmse:1.2349489471480306, num_factors:10, regularizer:4.6415888336127727e-10, lin_reg:1e-12\n",
      "New best param combination found! Rmse:1.2317351479744334, num_factors:10, regularizer:0.0001, lin_reg:4.641588833612773e-06\n",
      "New best param combination found! Rmse:1.2127066280280825, num_factors:10, regularizer:0.0021544346900318778, lin_reg:1e-12\n",
      "New best param combination found! Rmse:1.2020843670418369, num_factors:10, regularizer:0.0021544346900318778, lin_reg:0.0001\n",
      "Scale: 13, avg_rmse: 1.1208204109728934\n",
      "New best param combination found! Rmse:1.3121248445961966, num_factors:10, regularizer:1e-12, lin_reg:1e-12\n",
      "New best param combination found! Rmse:1.3105176674412806, num_factors:10, regularizer:4.6415888336127727e-10, lin_reg:1e-12\n",
      "New best param combination found! Rmse:1.3056681758889124, num_factors:10, regularizer:4.641588833612773e-06, lin_reg:2.1544346900318822e-07\n",
      "New best param combination found! Rmse:1.267132030659809, num_factors:10, regularizer:0.0021544346900318778, lin_reg:1e-12\n",
      "New best param combination found! Rmse:1.2652578077590313, num_factors:10, regularizer:0.0021544346900318778, lin_reg:2.1544346900318822e-07\n",
      "New best param combination found! Rmse:1.342246271924019, num_factors:10, regularizer:1e-12, lin_reg:1e-12\n",
      "New best param combination found! Rmse:1.3312479162952235, num_factors:10, regularizer:1e-12, lin_reg:2.1544346900318868e-11\n",
      "New best param combination found! Rmse:1.3298747277533396, num_factors:10, regularizer:1e-12, lin_reg:1e-08\n",
      "New best param combination found! Rmse:1.3266845910010812, num_factors:10, regularizer:1e-08, lin_reg:0.0001\n",
      "New best param combination found! Rmse:1.2992207736722452, num_factors:10, regularizer:0.0021544346900318778, lin_reg:1e-12\n",
      "New best param combination found! Rmse:1.2891157407994527, num_factors:10, regularizer:0.0021544346900318778, lin_reg:2.1544346900318868e-11\n",
      "New best param combination found! Rmse:1.2804642508116704, num_factors:10, regularizer:0.0021544346900318778, lin_reg:1e-08\n",
      "New best param combination found! Rmse:1.3379528353238619, num_factors:10, regularizer:1e-12, lin_reg:1e-12\n",
      "New best param combination found! Rmse:1.3324988572146244, num_factors:10, regularizer:1e-12, lin_reg:4.6415888336127727e-10\n",
      "New best param combination found! Rmse:1.285775487841003, num_factors:10, regularizer:0.0021544346900318778, lin_reg:1e-12\n",
      "Scale: 14, avg_rmse: 1.196669326685811\n",
      "New best param combination found! Rmse:1.4841634056629056, num_factors:10, regularizer:1e-12, lin_reg:1e-12\n",
      "New best param combination found! Rmse:1.4705489622481818, num_factors:10, regularizer:1e-12, lin_reg:2.1544346900318868e-11\n",
      "New best param combination found! Rmse:1.4434945073568188, num_factors:10, regularizer:1e-12, lin_reg:4.6415888336127727e-10\n",
      "New best param combination found! Rmse:1.4427242332803882, num_factors:10, regularizer:1e-12, lin_reg:4.641588833612773e-06\n",
      "New best param combination found! Rmse:1.4206332779073083, num_factors:10, regularizer:2.1544346900318868e-11, lin_reg:2.1544346900318868e-11\n",
      "New best param combination found! Rmse:1.420078923940194, num_factors:10, regularizer:1e-08, lin_reg:4.6415888336127727e-10\n",
      "New best param combination found! Rmse:1.4114734398937323, num_factors:10, regularizer:0.0021544346900318778, lin_reg:1e-12\n",
      "New best param combination found! Rmse:1.3712610936947993, num_factors:10, regularizer:0.0021544346900318778, lin_reg:4.6415888336127727e-10\n",
      "New best param combination found! Rmse:1.4398933769271345, num_factors:10, regularizer:1e-12, lin_reg:1e-12\n",
      "New best param combination found! Rmse:1.4356508924698679, num_factors:10, regularizer:1e-12, lin_reg:2.1544346900318868e-11\n",
      "New best param combination found! Rmse:1.4321313502440038, num_factors:10, regularizer:1e-12, lin_reg:4.6415888336127727e-10\n",
      "New best param combination found! Rmse:1.4185064313195506, num_factors:10, regularizer:1e-12, lin_reg:2.1544346900318822e-07\n",
      "New best param combination found! Rmse:1.394854644899451, num_factors:10, regularizer:0.0021544346900318778, lin_reg:1e-12\n",
      "New best param combination found! Rmse:1.3779895114239524, num_factors:10, regularizer:0.0021544346900318778, lin_reg:4.6415888336127727e-10\n",
      "New best param combination found! Rmse:1.4543223016219233, num_factors:10, regularizer:1e-12, lin_reg:1e-12\n",
      "New best param combination found! Rmse:1.4113099093581383, num_factors:10, regularizer:1e-12, lin_reg:2.1544346900318868e-11\n",
      "New best param combination found! Rmse:1.3938821424124843, num_factors:10, regularizer:0.0021544346900318778, lin_reg:1e-12\n",
      "New best param combination found! Rmse:1.3726477853287047, num_factors:10, regularizer:0.0021544346900318778, lin_reg:2.1544346900318868e-11\n",
      "New best param combination found! Rmse:1.3619015978981899, num_factors:10, regularizer:0.0021544346900318778, lin_reg:4.6415888336127727e-10\n",
      "Scale: 15, avg_rmse: 1.3093450626322467\n"
     ]
    }
   ],
   "source": [
    "factors = range(10, 211, 20)\n",
    "regularizs = np.logspace(-12, 0, 10)\n",
    "lin_regularizs = np.logspace(-12, 0, 10)\n",
    "best_rmse, best_scale, best_params = cv_scale(X_train_original, X_train_scored, factors, regularizs, lin_regularizs, max_scale=15, min_scale=5, step_size= 1, params_sample=False)\n",
    "pickle.dump(best_rmse, open(\"/content/drive/My Drive/Colab Notebooks/data/ML_Project/best_rmse.pkl\", \"wb\" ) )\n",
    "pickle.dump(best_scale, open(\"/content/drive/My Drive/Colab Notebooks/data/ML_Project/best_scale.pkl\", \"wb\" ) )\n",
    "pickle.dump(best_params, open(\"/content/drive/My Drive/Colab Notebooks/data/ML_Project/best_params.pkl\", \"wb\" ) )"
   ]
  },
  {
   "cell_type": "code",
   "execution_count": null,
   "metadata": {
    "colab": {},
    "colab_type": "code",
    "id": "8wQloCzlRcHa"
   },
   "outputs": [],
   "source": [
    "def cv_scale(X_real, X_real_scored, list_factors, list_regulariz, list_lin_regulariz, min_scale = 10, max_scale = 50, step_size=10, cv = 3, params_sample=True):\n",
    "    best_scale = 0\n",
    "    best_rmse = np.inf\n",
    "    best_params = []\n",
    "    best_model = None\n",
    "    cas = X_real.test_cas.max()\n",
    "    species = X_real.species.max()\n",
    "    \n",
    "    for scale in range(min_scale, max_scale+1, step_size):\n",
    "        \n",
    "        X_real_score = X_real_scored.copy()\n",
    "\n",
    "        # MinMax scale score\n",
    "        minmax = MinMaxScaler((1, scale))\n",
    "        minmax.fit(X_real_score[[\"score\"]])\n",
    "        X_real_score[[\"score\"]] = minmax.transform(X_real_score[[\"score\"]])\n",
    "        \n",
    "        kf = KFold(n_splits=cv, shuffle=True)\n",
    "        \n",
    "        rmses = []\n",
    "        params = []\n",
    "        \n",
    "        for train_index, test_index in kf.split(X_real_score):\n",
    "            model, param = cv_fact(X_real_score.loc[train_index].reset_index(drop=True), factors=list_factors, regularizs=list_regulariz, lin_regulars = list_lin_regulariz, cv=cv, params_samples=params_sample)\n",
    "            params.append(param)\n",
    "\n",
    "            # rmse\n",
    "            X_test = tc.SFrame(X_real_score.loc[test_index])\n",
    "            rmses.append(model.evaluate_rmse(X_test, 'score')['rmse_overall'])\n",
    "        \n",
    "        avg_rmse = np.mean(rmses)\n",
    "        print(\"Scale: {}, avg_rmse: {}\".format(scale, avg_rmse))\n",
    "        if (avg_rmse < best_rmse):\n",
    "            print(\"New best scale found:\", scale)\n",
    "            print(\"New best rmse\", avg_rmse)\n",
    "            best_rmse = avg_rmse\n",
    "            best_scale = scale\n",
    "            best_params = params\n",
    "          \n",
    "    return best_rmse, best_scale, best_params"
   ]
  },
  {
   "cell_type": "code",
   "execution_count": null,
   "metadata": {
    "colab": {},
    "colab_type": "code",
    "id": "7Nwvry9cPjFr"
   },
   "outputs": [],
   "source": [
    "def cv_fact(X_train_scored, factors, regularizs, lin_regulars,  cv = 3, verbose=True, params_samples = True, num_samples = 5):\n",
    "  best_factor = 0\n",
    "  best_regulariz = 0\n",
    "  best_lin_regulariz = 0\n",
    "  best_rmse = np.inf\n",
    "  best_model = None\n",
    "\n",
    "  if params_samples:\n",
    "    factors = np.random.choice(factors, num_samples)\n",
    "    regularizs = np.random.choice(regularizs, num_samples)\n",
    "    lin_regulars = np.random.choice(lin_regulars, num_samples)\n",
    "    \n",
    "  for factor in factors:\n",
    "    for regulariz in regularizs:\n",
    "      for lin_regular in lin_regulars:\n",
    "        rmses = []\n",
    "        kf2 = KFold(n_splits=cv, shuffle=True)\n",
    "\n",
    "        for train_ind, test_ind in kf2.split(X_train_scored):\n",
    "          train = tc.SFrame(X_train_scored.loc[train_ind])\n",
    "          test = tc.SFrame(X_train_scored.loc[test_ind])\n",
    "\n",
    "          model = tc.recommender.factorization_recommender.create(train, 'test_cas', 'species', target='score', max_iterations=100, \\\n",
    "                                                                  num_factors = factor, regularization=regulariz, linear_regularization=lin_regular, solver=\"sgd\", verbose=False)\n",
    "          rmses.append(model.evaluate_rmse(test, 'score')['rmse_overall'])\n",
    "\n",
    "        rmses_avg = np.mean(rmses)\n",
    "        if (rmses_avg < best_rmse):\n",
    "          if verbose:\n",
    "            print(\"New best param combination found! Rmse:{}, num_factors:{}, regularizer:{}, lin_reg:{}\".format(rmses_avg, factor, regulariz, lin_regular))     \n",
    "          best_rmse = rmses_avg\n",
    "          best_lin_regulariz = lin_regular\n",
    "          best_regulariz = regulariz\n",
    "          best_factor = factor\n",
    "          best_model = tc.recommender.factorization_recommender.create(tc.SFrame(X_train_scored), 'test_cas', 'species', target='score', max_iterations=100, \\\n",
    "                                                                       num_factors = best_factor, regularization=best_regulariz, linear_regularization=best_lin_regulariz, solver=\"sgd\", verbose=False)\n",
    "    \n",
    "    return best_model, {\"best_lin_regulariz\": best_lin_regulariz, \"best_regulariz\": best_regulariz, \"best_factor\":best_factor}\n"
   ]
  },
  {
   "cell_type": "markdown",
   "metadata": {
    "colab_type": "text",
    "id": "U-5BLeM5ODV9"
   },
   "source": [
    "# FIRST BEST COMBINATION FOUND\n",
    "scale = 10, n_factors = 10, regularization = 0.004832930238571752, linear_regularization = 0.0001"
   ]
  },
  {
   "cell_type": "code",
   "execution_count": null,
   "metadata": {
    "colab": {
     "base_uri": "https://localhost:8080/",
     "height": 850
    },
    "colab_type": "code",
    "id": "Ba-q2mHPQEPV",
    "outputId": "402c9868-f24b-4055-950f-e547a12bb89a"
   },
   "outputs": [
    {
     "data": {
      "text/html": [
       "<pre>Preparing data set.</pre>"
      ],
      "text/plain": [
       "Preparing data set."
      ]
     },
     "metadata": {
      "tags": []
     },
     "output_type": "display_data"
    },
    {
     "data": {
      "text/html": [
       "<pre>    Data has 5896 observations with 2108 users and 359 items.</pre>"
      ],
      "text/plain": [
       "    Data has 5896 observations with 2108 users and 359 items."
      ]
     },
     "metadata": {
      "tags": []
     },
     "output_type": "display_data"
    },
    {
     "data": {
      "text/html": [
       "<pre>    Data prepared in: 0.011358s</pre>"
      ],
      "text/plain": [
       "    Data prepared in: 0.011358s"
      ]
     },
     "metadata": {
      "tags": []
     },
     "output_type": "display_data"
    },
    {
     "data": {
      "text/html": [
       "<pre>Training factorization_recommender for recommendations.</pre>"
      ],
      "text/plain": [
       "Training factorization_recommender for recommendations."
      ]
     },
     "metadata": {
      "tags": []
     },
     "output_type": "display_data"
    },
    {
     "data": {
      "text/html": [
       "<pre>+--------------------------------+--------------------------------------------------+----------+</pre>"
      ],
      "text/plain": [
       "+--------------------------------+--------------------------------------------------+----------+"
      ]
     },
     "metadata": {
      "tags": []
     },
     "output_type": "display_data"
    },
    {
     "data": {
      "text/html": [
       "<pre>| Parameter                      | Description                                      | Value    |</pre>"
      ],
      "text/plain": [
       "| Parameter                      | Description                                      | Value    |"
      ]
     },
     "metadata": {
      "tags": []
     },
     "output_type": "display_data"
    },
    {
     "data": {
      "text/html": [
       "<pre>+--------------------------------+--------------------------------------------------+----------+</pre>"
      ],
      "text/plain": [
       "+--------------------------------+--------------------------------------------------+----------+"
      ]
     },
     "metadata": {
      "tags": []
     },
     "output_type": "display_data"
    },
    {
     "data": {
      "text/html": [
       "<pre>| num_factors                    | Factor Dimension                                 | 10       |</pre>"
      ],
      "text/plain": [
       "| num_factors                    | Factor Dimension                                 | 10       |"
      ]
     },
     "metadata": {
      "tags": []
     },
     "output_type": "display_data"
    },
    {
     "data": {
      "text/html": [
       "<pre>| regularization                 | L2 Regularization on Factors                     |          |</pre>"
      ],
      "text/plain": [
       "| regularization                 | L2 Regularization on Factors                     |          |"
      ]
     },
     "metadata": {
      "tags": []
     },
     "output_type": "display_data"
    },
    {
     "data": {
      "text/html": [
       "<pre>| solver                         | Solver used for training                         | sgd      |</pre>"
      ],
      "text/plain": [
       "| solver                         | Solver used for training                         | sgd      |"
      ]
     },
     "metadata": {
      "tags": []
     },
     "output_type": "display_data"
    },
    {
     "data": {
      "text/html": [
       "<pre>| linear_regularization          | L2 Regularization on Linear Coefficients         | 0.0001   |</pre>"
      ],
      "text/plain": [
       "| linear_regularization          | L2 Regularization on Linear Coefficients         | 0.0001   |"
      ]
     },
     "metadata": {
      "tags": []
     },
     "output_type": "display_data"
    },
    {
     "data": {
      "text/html": [
       "<pre>| max_iterations                 | Maximum Number of Iterations                     | 1000     |</pre>"
      ],
      "text/plain": [
       "| max_iterations                 | Maximum Number of Iterations                     | 1000     |"
      ]
     },
     "metadata": {
      "tags": []
     },
     "output_type": "display_data"
    },
    {
     "data": {
      "text/html": [
       "<pre>+--------------------------------+--------------------------------------------------+----------+</pre>"
      ],
      "text/plain": [
       "+--------------------------------+--------------------------------------------------+----------+"
      ]
     },
     "metadata": {
      "tags": []
     },
     "output_type": "display_data"
    },
    {
     "data": {
      "text/html": [
       "<pre>  Optimizing model using SGD; tuning step size.</pre>"
      ],
      "text/plain": [
       "  Optimizing model using SGD; tuning step size."
      ]
     },
     "metadata": {
      "tags": []
     },
     "output_type": "display_data"
    },
    {
     "data": {
      "text/html": [
       "<pre>  Using 5896 / 5896 points for tuning the step size.</pre>"
      ],
      "text/plain": [
       "  Using 5896 / 5896 points for tuning the step size."
      ]
     },
     "metadata": {
      "tags": []
     },
     "output_type": "display_data"
    },
    {
     "data": {
      "text/html": [
       "<pre>+---------+-------------------+------------------------------------------+</pre>"
      ],
      "text/plain": [
       "+---------+-------------------+------------------------------------------+"
      ]
     },
     "metadata": {
      "tags": []
     },
     "output_type": "display_data"
    },
    {
     "data": {
      "text/html": [
       "<pre>| Attempt | Initial Step Size | Estimated Objective Value                |</pre>"
      ],
      "text/plain": [
       "| Attempt | Initial Step Size | Estimated Objective Value                |"
      ]
     },
     "metadata": {
      "tags": []
     },
     "output_type": "display_data"
    },
    {
     "data": {
      "text/html": [
       "<pre>+---------+-------------------+------------------------------------------+</pre>"
      ],
      "text/plain": [
       "+---------+-------------------+------------------------------------------+"
      ]
     },
     "metadata": {
      "tags": []
     },
     "output_type": "display_data"
    },
    {
     "data": {
      "text/html": [
       "<pre>| 0       | 2.56973           | Not Viable                               |</pre>"
      ],
      "text/plain": [
       "| 0       | 2.56973           | Not Viable                               |"
      ]
     },
     "metadata": {
      "tags": []
     },
     "output_type": "display_data"
    },
    {
     "data": {
      "text/html": [
       "<pre>| 1       | 0.642431          | Not Viable                               |</pre>"
      ],
      "text/plain": [
       "| 1       | 0.642431          | Not Viable                               |"
      ]
     },
     "metadata": {
      "tags": []
     },
     "output_type": "display_data"
    },
    {
     "data": {
      "text/html": [
       "<pre>| 2       | 0.160608          | Not Viable                               |</pre>"
      ],
      "text/plain": [
       "| 2       | 0.160608          | Not Viable                               |"
      ]
     },
     "metadata": {
      "tags": []
     },
     "output_type": "display_data"
    },
    {
     "data": {
      "text/html": [
       "<pre>| 3       | 0.040152          | 0.609855                                 |</pre>"
      ],
      "text/plain": [
       "| 3       | 0.040152          | 0.609855                                 |"
      ]
     },
     "metadata": {
      "tags": []
     },
     "output_type": "display_data"
    },
    {
     "data": {
      "text/html": [
       "<pre>| 4       | 0.020076          | 0.736208                                 |</pre>"
      ],
      "text/plain": [
       "| 4       | 0.020076          | 0.736208                                 |"
      ]
     },
     "metadata": {
      "tags": []
     },
     "output_type": "display_data"
    },
    {
     "data": {
      "text/html": [
       "<pre>| 5       | 0.010038          | 0.921987                                 |</pre>"
      ],
      "text/plain": [
       "| 5       | 0.010038          | 0.921987                                 |"
      ]
     },
     "metadata": {
      "tags": []
     },
     "output_type": "display_data"
    },
    {
     "data": {
      "text/html": [
       "<pre>| 6       | 0.005019          | 1.11561                                  |</pre>"
      ],
      "text/plain": [
       "| 6       | 0.005019          | 1.11561                                  |"
      ]
     },
     "metadata": {
      "tags": []
     },
     "output_type": "display_data"
    },
    {
     "data": {
      "text/html": [
       "<pre>+---------+-------------------+------------------------------------------+</pre>"
      ],
      "text/plain": [
       "+---------+-------------------+------------------------------------------+"
      ]
     },
     "metadata": {
      "tags": []
     },
     "output_type": "display_data"
    },
    {
     "data": {
      "text/html": [
       "<pre>| Final   | 0.040152          | 0.609855                                 |</pre>"
      ],
      "text/plain": [
       "| Final   | 0.040152          | 0.609855                                 |"
      ]
     },
     "metadata": {
      "tags": []
     },
     "output_type": "display_data"
    },
    {
     "data": {
      "text/html": [
       "<pre>+---------+-------------------+------------------------------------------+</pre>"
      ],
      "text/plain": [
       "+---------+-------------------+------------------------------------------+"
      ]
     },
     "metadata": {
      "tags": []
     },
     "output_type": "display_data"
    },
    {
     "data": {
      "text/html": [
       "<pre>Starting Optimization.</pre>"
      ],
      "text/plain": [
       "Starting Optimization."
      ]
     },
     "metadata": {
      "tags": []
     },
     "output_type": "display_data"
    },
    {
     "data": {
      "text/html": [
       "<pre>+---------+--------------+-------------------+-----------------------+-------------+</pre>"
      ],
      "text/plain": [
       "+---------+--------------+-------------------+-----------------------+-------------+"
      ]
     },
     "metadata": {
      "tags": []
     },
     "output_type": "display_data"
    },
    {
     "data": {
      "text/html": [
       "<pre>| Iter.   | Elapsed Time | Approx. Objective | Approx. Training RMSE | Step Size   |</pre>"
      ],
      "text/plain": [
       "| Iter.   | Elapsed Time | Approx. Objective | Approx. Training RMSE | Step Size   |"
      ]
     },
     "metadata": {
      "tags": []
     },
     "output_type": "display_data"
    },
    {
     "data": {
      "text/html": [
       "<pre>+---------+--------------+-------------------+-----------------------+-------------+</pre>"
      ],
      "text/plain": [
       "+---------+--------------+-------------------+-----------------------+-------------+"
      ]
     },
     "metadata": {
      "tags": []
     },
     "output_type": "display_data"
    },
    {
     "data": {
      "text/html": [
       "<pre>| Initial | 71us         | 1.69607           | 1.30233               |             |</pre>"
      ],
      "text/plain": [
       "| Initial | 71us         | 1.69607           | 1.30233               |             |"
      ]
     },
     "metadata": {
      "tags": []
     },
     "output_type": "display_data"
    },
    {
     "data": {
      "text/html": [
       "<pre>+---------+--------------+-------------------+-----------------------+-------------+</pre>"
      ],
      "text/plain": [
       "+---------+--------------+-------------------+-----------------------+-------------+"
      ]
     },
     "metadata": {
      "tags": []
     },
     "output_type": "display_data"
    },
    {
     "data": {
      "text/html": [
       "<pre>| 1       | 22.112ms     | 1.20305           | 1.08865               | 0.040152    |</pre>"
      ],
      "text/plain": [
       "| 1       | 22.112ms     | 1.20305           | 1.08865               | 0.040152    |"
      ]
     },
     "metadata": {
      "tags": []
     },
     "output_type": "display_data"
    },
    {
     "data": {
      "text/html": [
       "<pre>| 2       | 29.383ms     | 0.800605          | 0.879854              | 0.0187265   |</pre>"
      ],
      "text/plain": [
       "| 2       | 29.383ms     | 0.800605          | 0.879854              | 0.0187265   |"
      ]
     },
     "metadata": {
      "tags": []
     },
     "output_type": "display_data"
    },
    {
     "data": {
      "text/html": [
       "<pre>| 3       | 33.874ms     | 0.707921          | 0.822059              | 0.0122107   |</pre>"
      ],
      "text/plain": [
       "| 3       | 33.874ms     | 0.707921          | 0.822059              | 0.0122107   |"
      ]
     },
     "metadata": {
      "tags": []
     },
     "output_type": "display_data"
    },
    {
     "data": {
      "text/html": [
       "<pre>| 4       | 38.708ms     | 0.661791          | 0.790833              | 0.00905877  |</pre>"
      ],
      "text/plain": [
       "| 4       | 38.708ms     | 0.661791          | 0.790833              | 0.00905877  |"
      ]
     },
     "metadata": {
      "tags": []
     },
     "output_type": "display_data"
    },
    {
     "data": {
      "text/html": [
       "<pre>| 5       | 44.347ms     | 0.633349          | 0.770425              | 0.00720019  |</pre>"
      ],
      "text/plain": [
       "| 5       | 44.347ms     | 0.633349          | 0.770425              | 0.00720019  |"
      ]
     },
     "metadata": {
      "tags": []
     },
     "output_type": "display_data"
    },
    {
     "data": {
      "text/html": [
       "<pre>| 10      | 76.505ms     | 0.568101          | 0.719022              | 0.00355417  |</pre>"
      ],
      "text/plain": [
       "| 10      | 76.505ms     | 0.568101          | 0.719022              | 0.00355417  |"
      ]
     },
     "metadata": {
      "tags": []
     },
     "output_type": "display_data"
    },
    {
     "data": {
      "text/html": [
       "<pre>| 50      | 313.881ms    | 0.488374          | 0.636257              | 0.000703651 |</pre>"
      ],
      "text/plain": [
       "| 50      | 313.881ms    | 0.488374          | 0.636257              | 0.000703651 |"
      ]
     },
     "metadata": {
      "tags": []
     },
     "output_type": "display_data"
    },
    {
     "data": {
      "text/html": [
       "<pre>| 100     | 597.847ms    | 0.471013          | 0.608897              | 0.000351382 |</pre>"
      ],
      "text/plain": [
       "| 100     | 597.847ms    | 0.471013          | 0.608897              | 0.000351382 |"
      ]
     },
     "metadata": {
      "tags": []
     },
     "output_type": "display_data"
    },
    {
     "data": {
      "text/html": [
       "<pre>| 500     | 2.90s        | 0.44952           | 0.560087              | 7.02055e-05 |</pre>"
      ],
      "text/plain": [
       "| 500     | 2.90s        | 0.44952           | 0.560087              | 7.02055e-05 |"
      ]
     },
     "metadata": {
      "tags": []
     },
     "output_type": "display_data"
    },
    {
     "data": {
      "text/html": [
       "<pre>| 1000    | 5.79s        | 0.443598          | 0.545246              | 3.50984e-05 |</pre>"
      ],
      "text/plain": [
       "| 1000    | 5.79s        | 0.443598          | 0.545246              | 3.50984e-05 |"
      ]
     },
     "metadata": {
      "tags": []
     },
     "output_type": "display_data"
    },
    {
     "data": {
      "text/html": [
       "<pre>+---------+--------------+-------------------+-----------------------+-------------+</pre>"
      ],
      "text/plain": [
       "+---------+--------------+-------------------+-----------------------+-------------+"
      ]
     },
     "metadata": {
      "tags": []
     },
     "output_type": "display_data"
    },
    {
     "data": {
      "text/html": [
       "<pre>Optimization Complete: Maximum number of passes through the data reached.</pre>"
      ],
      "text/plain": [
       "Optimization Complete: Maximum number of passes through the data reached."
      ]
     },
     "metadata": {
      "tags": []
     },
     "output_type": "display_data"
    },
    {
     "data": {
      "text/html": [
       "<pre>Computing final objective value and training RMSE.</pre>"
      ],
      "text/plain": [
       "Computing final objective value and training RMSE."
      ]
     },
     "metadata": {
      "tags": []
     },
     "output_type": "display_data"
    },
    {
     "data": {
      "text/html": [
       "<pre>       Final objective value: 0.443586</pre>"
      ],
      "text/plain": [
       "       Final objective value: 0.443586"
      ]
     },
     "metadata": {
      "tags": []
     },
     "output_type": "display_data"
    },
    {
     "data": {
      "text/html": [
       "<pre>       Final training RMSE: 0.545236</pre>"
      ],
      "text/plain": [
       "       Final training RMSE: 0.545236"
      ]
     },
     "metadata": {
      "tags": []
     },
     "output_type": "display_data"
    }
   ],
   "source": [
    "X_test_sc = X_test_scored.copy()\n",
    "X_train_sc = X_train_scored.copy()\n",
    "\n",
    "minmax = MinMaxScaler((1, 10))\n",
    "minmax.fit(X_train_sc[[\"score\"]])\n",
    "X_train_sc[[\"score\"]] = minmax.transform(X_train_sc[[\"score\"]])\n",
    "\n",
    "minmax = MinMaxScaler((1, 10))\n",
    "minmax.fit(X_test_sc[[\"score\"]])\n",
    "X_test_sc[[\"score\"]] = minmax.transform(X_test_sc[[\"score\"]])\n",
    "\n",
    "model_test = tc.recommender.factorization_recommender.create(tc.SFrame(X_train_sc), 'test_cas', 'species', target='score', max_iterations=1000, \\\n",
    "                                                                       num_factors = 10, regularization=0.004832930238571752, linear_regularization=0.0001, solver=\"sgd\", verbose=True)"
   ]
  },
  {
   "cell_type": "code",
   "execution_count": null,
   "metadata": {
    "colab": {
     "base_uri": "https://localhost:8080/",
     "height": 34
    },
    "colab_type": "code",
    "id": "9j3aabdxQDmy",
    "outputId": "1347960a-8385-4649-c2f9-062222011a49"
   },
   "outputs": [
    {
     "data": {
      "text/plain": [
       "1.3001746524419617"
      ]
     },
     "execution_count": 213,
     "metadata": {
      "tags": []
     },
     "output_type": "execute_result"
    }
   ],
   "source": [
    "model_test.evaluate_rmse(tc.SFrame(X_test_sc), 'score')['rmse_overall']"
   ]
  },
  {
   "cell_type": "code",
   "execution_count": null,
   "metadata": {
    "colab": {
     "base_uri": "https://localhost:8080/",
     "height": 88
    },
    "colab_type": "code",
    "id": "zuHqipofPjTj",
    "outputId": "41373afa-5527-46ed-9114-5a8494162a6b"
   },
   "outputs": [
    {
     "data": {
      "text/plain": [
       "dtype: float\n",
       "Rows: 2904\n",
       "[5.25252735687006, 6.0330847772931255, 4.159944846771892, 3.023420791018153, 3.920323422928205, 4.339025579735035, 4.371124115183348, 3.568584648317638, 4.087877791717047, 3.5772852817482734, 4.369570481238653, 4.4589162882113405, 4.466447230770583, 4.599436120937908, 5.710984158664515, 5.385204711143316, 4.288250854813824, 4.092007843392067, 3.573442671091626, 5.181174621502733, 4.346300643279547, 4.858710381369902, 7.1309491623689345, 5.849946659400458, 4.162141185595984, 3.6889795741082443, 4.162141185595984, 4.162141185595984, 4.153522333854354, 3.844772293574507, 4.628836914351424, 7.561170410706992, 3.4071271944487043, 5.938466321917232, 3.8433553472315642, 5.775562447255807, 4.795569146154022, 4.303671066060061, 3.6749974541818764, 4.873148584271958, 4.4589162882113405, 6.8215804989378475, 4.466447230770583, 3.546540510251517, 4.162141185595984, 4.463106995383142, 3.3538798314913683, 4.091922976680663, 3.336548477077641, 4.162141185595984, 5.334215327857392, 3.898769946645344, 6.528436725282673, 4.4589162882113405, 4.260395687328283, 4.399595361545081, 4.682123270227904, 4.817876345470878, 4.178033102645869, 3.9790417866244487, 4.198330585692175, 3.908403498171693, 4.187694359912867, 4.237932455136771, 5.510194813709105, 4.70666342929023, 5.163611400865348, 4.380125475923861, 5.441230372023866, 3.4909020948909264, 4.162141185595984, 4.4708309884810395, 5.032829773023123, 5.266314152970309, 5.30785950984152, 4.9436152082418365, 6.885955187019291, 4.951970674439663, 4.090730310614318, 5.282226259405589, 5.745692748918528, 4.162141185595984, 4.512192784168447, 3.7996696180127136, 4.515061667763958, 3.8612345646762796, 7.117877452117837, 4.371124115183348, 5.908470307877152, 4.065453974884789, 3.5336416814754292, 4.351095763990698, 4.388830091971768, 3.7565172748801805, 4.612369411035771, 5.7664381924479775, 3.86199734324343, 3.683930661871428, 4.087877791717047, 5.04202682186603, ... ]"
      ]
     },
     "execution_count": 214,
     "metadata": {
      "tags": []
     },
     "output_type": "execute_result"
    }
   ],
   "source": [
    "X_test_predict = model_test.predict(tc.SFrame(X_test_sc))\n",
    "X_test_predict"
   ]
  },
  {
   "cell_type": "code",
   "execution_count": null,
   "metadata": {
    "colab": {},
    "colab_type": "code",
    "id": "YTUf--FOIdNe"
   },
   "outputs": [],
   "source": [
    "X_test_predict_conc = minmax.inverse_transform(X_test_predict.to_numpy().reshape(-1, 1))\n",
    "X_test_predict_conc = np.exp(X_test_predict_conc)    \n",
    "X_test_predict_conc = 1/X_test_predict_conc"
   ]
  },
  {
   "cell_type": "code",
   "execution_count": null,
   "metadata": {
    "colab": {
     "base_uri": "https://localhost:8080/",
     "height": 34
    },
    "colab_type": "code",
    "id": "Gc3loq8PPjZp",
    "outputId": "13029964-4213-4122-cbcc-78b621b0b466"
   },
   "outputs": [
    {
     "data": {
      "text/plain": [
       "10117.949822486742"
      ]
     },
     "execution_count": 216,
     "metadata": {
      "tags": []
     },
     "output_type": "execute_result"
    }
   ],
   "source": [
    "sqrt(mean_squared_error(X_test_original.conc1_mean.values, X_test_predict_conc))"
   ]
  },
  {
   "cell_type": "code",
   "execution_count": null,
   "metadata": {
    "colab": {},
    "colab_type": "code",
    "id": "ocpzB_J1I_Bz"
   },
   "outputs": [],
   "source": [
    "def compute_absolute_intervals(X_real, X_pred_conc, pred_target=\"conc1_mean\"):\n",
    "    X_intervals = X_real.copy()\n",
    "    intervals = np.zeros(X_intervals.index.size)\n",
    "    prediction = np.zeros(X_intervals.index.size)\n",
    "    \n",
    "    for i, row in X_intervals.iterrows():\n",
    "        prediction[i] =  X_pred_conc[i]\n",
    "        intervals[i] = np.abs(row[pred_target] - prediction[i])\n",
    "        \n",
    "    X_intervals[\"prediction\"] = prediction   \n",
    "    X_intervals[\"intervals\"] = intervals\n",
    "    return X_intervals"
   ]
  },
  {
   "cell_type": "code",
   "execution_count": null,
   "metadata": {
    "colab": {
     "base_uri": "https://localhost:8080/",
     "height": 204
    },
    "colab_type": "code",
    "id": "UA5VxJ2uJL8H",
    "outputId": "94f6ebb6-d876-49c1-d865-7c52403d00d4"
   },
   "outputs": [
    {
     "data": {
      "text/html": [
       "<div>\n",
       "<style scoped>\n",
       "    .dataframe tbody tr th:only-of-type {\n",
       "        vertical-align: middle;\n",
       "    }\n",
       "\n",
       "    .dataframe tbody tr th {\n",
       "        vertical-align: top;\n",
       "    }\n",
       "\n",
       "    .dataframe thead th {\n",
       "        text-align: right;\n",
       "    }\n",
       "</style>\n",
       "<table border=\"1\" class=\"dataframe\">\n",
       "  <thead>\n",
       "    <tr style=\"text-align: right;\">\n",
       "      <th></th>\n",
       "      <th>test_cas</th>\n",
       "      <th>species</th>\n",
       "      <th>conc1_mean</th>\n",
       "      <th>obs_duration_mean</th>\n",
       "      <th>score</th>\n",
       "      <th>prediction</th>\n",
       "      <th>intervals</th>\n",
       "    </tr>\n",
       "  </thead>\n",
       "  <tbody>\n",
       "    <tr>\n",
       "      <th>0</th>\n",
       "      <td>70</td>\n",
       "      <td>294</td>\n",
       "      <td>0.80</td>\n",
       "      <td>96.0</td>\n",
       "      <td>1.250000</td>\n",
       "      <td>8.156882</td>\n",
       "      <td>7.356882</td>\n",
       "    </tr>\n",
       "    <tr>\n",
       "      <th>1</th>\n",
       "      <td>104</td>\n",
       "      <td>138</td>\n",
       "      <td>0.29</td>\n",
       "      <td>96.0</td>\n",
       "      <td>3.448276</td>\n",
       "      <td>1.092866</td>\n",
       "      <td>0.802866</td>\n",
       "    </tr>\n",
       "    <tr>\n",
       "      <th>2</th>\n",
       "      <td>1551</td>\n",
       "      <td>72</td>\n",
       "      <td>7.80</td>\n",
       "      <td>96.0</td>\n",
       "      <td>0.128205</td>\n",
       "      <td>135.970072</td>\n",
       "      <td>128.170072</td>\n",
       "    </tr>\n",
       "    <tr>\n",
       "      <th>3</th>\n",
       "      <td>810</td>\n",
       "      <td>319</td>\n",
       "      <td>2267.00</td>\n",
       "      <td>96.0</td>\n",
       "      <td>0.000441</td>\n",
       "      <td>2538.082225</td>\n",
       "      <td>271.082225</td>\n",
       "    </tr>\n",
       "    <tr>\n",
       "      <th>4</th>\n",
       "      <td>583</td>\n",
       "      <td>395</td>\n",
       "      <td>910.00</td>\n",
       "      <td>96.0</td>\n",
       "      <td>0.001099</td>\n",
       "      <td>252.017336</td>\n",
       "      <td>657.982664</td>\n",
       "    </tr>\n",
       "  </tbody>\n",
       "</table>\n",
       "</div>"
      ],
      "text/plain": [
       "   test_cas  species  conc1_mean  ...     score   prediction   intervals\n",
       "0        70      294        0.80  ...  1.250000     8.156882    7.356882\n",
       "1       104      138        0.29  ...  3.448276     1.092866    0.802866\n",
       "2      1551       72        7.80  ...  0.128205   135.970072  128.170072\n",
       "3       810      319     2267.00  ...  0.000441  2538.082225  271.082225\n",
       "4       583      395      910.00  ...  0.001099   252.017336  657.982664\n",
       "\n",
       "[5 rows x 7 columns]"
      ]
     },
     "execution_count": 218,
     "metadata": {
      "tags": []
     },
     "output_type": "execute_result"
    }
   ],
   "source": [
    "X_intervals = compute_absolute_intervals(X_test_original, X_test_predict_conc)\n",
    "X_intervals.head()"
   ]
  },
  {
   "cell_type": "code",
   "execution_count": null,
   "metadata": {
    "colab": {
     "base_uri": "https://localhost:8080/",
     "height": 282
    },
    "colab_type": "code",
    "id": "tH9oNlYQJXch",
    "outputId": "f0ded381-3d37-4536-e219-f2180d629169"
   },
   "outputs": [
    {
     "data": {
      "text/plain": [
       "<matplotlib.axes._subplots.AxesSubplot at 0x7fbd6ad174e0>"
      ]
     },
     "execution_count": 177,
     "metadata": {
      "tags": []
     },
     "output_type": "execute_result"
    },
    {
     "data": {
      "image/png": "[encoded data removed]",
      "text/plain": [
       "<Figure size 432x288 with 1 Axes>"
      ]
     },
     "metadata": {
      "tags": []
     },
     "output_type": "display_data"
    }
   ],
   "source": [
    "X_intervals.intervals.hist()"
   ]
  },
  {
   "cell_type": "code",
   "execution_count": null,
   "metadata": {
    "colab": {
     "base_uri": "https://localhost:8080/",
     "height": 419
    },
    "colab_type": "code",
    "id": "Qs_LU8hkJbHv",
    "outputId": "4ae94343-a85a-4f53-8596-77e2e2066b3f"
   },
   "outputs": [
    {
     "data": {
      "text/html": [
       "<div>\n",
       "<style scoped>\n",
       "    .dataframe tbody tr th:only-of-type {\n",
       "        vertical-align: middle;\n",
       "    }\n",
       "\n",
       "    .dataframe tbody tr th {\n",
       "        vertical-align: top;\n",
       "    }\n",
       "\n",
       "    .dataframe thead th {\n",
       "        text-align: right;\n",
       "    }\n",
       "</style>\n",
       "<table border=\"1\" class=\"dataframe\">\n",
       "  <thead>\n",
       "    <tr style=\"text-align: right;\">\n",
       "      <th></th>\n",
       "      <th>test_cas</th>\n",
       "      <th>species</th>\n",
       "      <th>conc1_mean</th>\n",
       "      <th>obs_duration_mean</th>\n",
       "      <th>score</th>\n",
       "      <th>prediction</th>\n",
       "      <th>intervals</th>\n",
       "    </tr>\n",
       "  </thead>\n",
       "  <tbody>\n",
       "    <tr>\n",
       "      <th>4</th>\n",
       "      <td>583</td>\n",
       "      <td>395</td>\n",
       "      <td>910.0</td>\n",
       "      <td>96.0</td>\n",
       "      <td>0.001099</td>\n",
       "      <td>1978.023551</td>\n",
       "      <td>1068.023551</td>\n",
       "    </tr>\n",
       "    <tr>\n",
       "      <th>18</th>\n",
       "      <td>444</td>\n",
       "      <td>44</td>\n",
       "      <td>720.0</td>\n",
       "      <td>96.0</td>\n",
       "      <td>0.001389</td>\n",
       "      <td>1742.417771</td>\n",
       "      <td>1022.417771</td>\n",
       "    </tr>\n",
       "    <tr>\n",
       "      <th>27</th>\n",
       "      <td>464</td>\n",
       "      <td>316</td>\n",
       "      <td>855.0</td>\n",
       "      <td>96.0</td>\n",
       "      <td>0.001170</td>\n",
       "      <td>2001.831335</td>\n",
       "      <td>1146.831335</td>\n",
       "    </tr>\n",
       "    <tr>\n",
       "      <th>49</th>\n",
       "      <td>1371</td>\n",
       "      <td>316</td>\n",
       "      <td>14100.0</td>\n",
       "      <td>96.0</td>\n",
       "      <td>0.000071</td>\n",
       "      <td>22680.563909</td>\n",
       "      <td>8580.563909</td>\n",
       "    </tr>\n",
       "    <tr>\n",
       "      <th>59</th>\n",
       "      <td>921</td>\n",
       "      <td>316</td>\n",
       "      <td>801.0</td>\n",
       "      <td>96.0</td>\n",
       "      <td>0.001248</td>\n",
       "      <td>1855.770691</td>\n",
       "      <td>1054.770691</td>\n",
       "    </tr>\n",
       "    <tr>\n",
       "      <th>...</th>\n",
       "      <td>...</td>\n",
       "      <td>...</td>\n",
       "      <td>...</td>\n",
       "      <td>...</td>\n",
       "      <td>...</td>\n",
       "      <td>...</td>\n",
       "      <td>...</td>\n",
       "    </tr>\n",
       "    <tr>\n",
       "      <th>2787</th>\n",
       "      <td>2049</td>\n",
       "      <td>74</td>\n",
       "      <td>10000.0</td>\n",
       "      <td>96.0</td>\n",
       "      <td>0.000100</td>\n",
       "      <td>15661.490095</td>\n",
       "      <td>5661.490095</td>\n",
       "    </tr>\n",
       "    <tr>\n",
       "      <th>2830</th>\n",
       "      <td>418</td>\n",
       "      <td>7</td>\n",
       "      <td>8000.0</td>\n",
       "      <td>96.0</td>\n",
       "      <td>0.000125</td>\n",
       "      <td>14665.623628</td>\n",
       "      <td>6665.623628</td>\n",
       "    </tr>\n",
       "    <tr>\n",
       "      <th>2841</th>\n",
       "      <td>1494</td>\n",
       "      <td>220</td>\n",
       "      <td>9000.0</td>\n",
       "      <td>96.0</td>\n",
       "      <td>0.000111</td>\n",
       "      <td>15009.266397</td>\n",
       "      <td>6009.266397</td>\n",
       "    </tr>\n",
       "    <tr>\n",
       "      <th>2862</th>\n",
       "      <td>126</td>\n",
       "      <td>316</td>\n",
       "      <td>6410.0</td>\n",
       "      <td>96.0</td>\n",
       "      <td>0.000156</td>\n",
       "      <td>11494.356127</td>\n",
       "      <td>5084.356127</td>\n",
       "    </tr>\n",
       "    <tr>\n",
       "      <th>2876</th>\n",
       "      <td>2317</td>\n",
       "      <td>220</td>\n",
       "      <td>1500.0</td>\n",
       "      <td>96.0</td>\n",
       "      <td>0.000667</td>\n",
       "      <td>3360.999936</td>\n",
       "      <td>1860.999936</td>\n",
       "    </tr>\n",
       "  </tbody>\n",
       "</table>\n",
       "<p>160 rows × 7 columns</p>\n",
       "</div>"
      ],
      "text/plain": [
       "      test_cas  species  conc1_mean  ...     score    prediction    intervals\n",
       "4          583      395       910.0  ...  0.001099   1978.023551  1068.023551\n",
       "18         444       44       720.0  ...  0.001389   1742.417771  1022.417771\n",
       "27         464      316       855.0  ...  0.001170   2001.831335  1146.831335\n",
       "49        1371      316     14100.0  ...  0.000071  22680.563909  8580.563909\n",
       "59         921      316       801.0  ...  0.001248   1855.770691  1054.770691\n",
       "...        ...      ...         ...  ...       ...           ...          ...\n",
       "2787      2049       74     10000.0  ...  0.000100  15661.490095  5661.490095\n",
       "2830       418        7      8000.0  ...  0.000125  14665.623628  6665.623628\n",
       "2841      1494      220      9000.0  ...  0.000111  15009.266397  6009.266397\n",
       "2862       126      316      6410.0  ...  0.000156  11494.356127  5084.356127\n",
       "2876      2317      220      1500.0  ...  0.000667   3360.999936  1860.999936\n",
       "\n",
       "[160 rows x 7 columns]"
      ]
     },
     "execution_count": 179,
     "metadata": {
      "tags": []
     },
     "output_type": "execute_result"
    }
   ],
   "source": [
    "X_intervals[X_intervals.intervals > 1000]"
   ]
  },
  {
   "cell_type": "markdown",
   "metadata": {
    "colab_type": "text",
    "id": "LFqQAZtce0dP"
   },
   "source": [
    "# FIRST BEST COMBINATION FOUND\n",
    "scale = 5, best_params = [{'best_factor': 10,\n",
    "  'best_lin_regulariz': 2.1544346900318868e-11,\n",
    "  'best_regulariz': 0.0021544346900318778},\n",
    " {'best_factor': 10,\n",
    "  'best_lin_regulariz': 1e-08,\n",
    "  'best_regulariz': 0.0021544346900318778},\n",
    " {'best_factor': 10,\n",
    "  'best_lin_regulariz': 0.0001,\n",
    "  'best_regulariz': 2.1544346900318822e-07}]"
   ]
  },
  {
   "cell_type": "code",
   "execution_count": null,
   "metadata": {
    "colab": {
     "base_uri": "https://localhost:8080/",
     "height": 170
    },
    "colab_type": "code",
    "id": "zQHGZC9fNeVR",
    "outputId": "a6e6f225-2c53-4403-eb7c-9476d73360a4"
   },
   "outputs": [
    {
     "data": {
      "text/plain": [
       "[{'best_factor': 10,\n",
       "  'best_lin_regulariz': 2.1544346900318868e-11,\n",
       "  'best_regulariz': 0.0021544346900318778},\n",
       " {'best_factor': 10,\n",
       "  'best_lin_regulariz': 1e-08,\n",
       "  'best_regulariz': 0.0021544346900318778},\n",
       " {'best_factor': 10,\n",
       "  'best_lin_regulariz': 0.0001,\n",
       "  'best_regulariz': 2.1544346900318822e-07}]"
      ]
     },
     "execution_count": 205,
     "metadata": {
      "tags": []
     },
     "output_type": "execute_result"
    }
   ],
   "source": [
    "best_params"
   ]
  },
  {
   "cell_type": "code",
   "execution_count": null,
   "metadata": {
    "colab": {
     "base_uri": "https://localhost:8080/",
     "height": 850
    },
    "colab_type": "code",
    "id": "yhE8LLYZhjRE",
    "outputId": "efaa9e51-f920-4d78-cfd7-72b034fab7c0"
   },
   "outputs": [
    {
     "data": {
      "text/html": [
       "<pre>Preparing data set.</pre>"
      ],
      "text/plain": [
       "Preparing data set."
      ]
     },
     "metadata": {
      "tags": []
     },
     "output_type": "display_data"
    },
    {
     "data": {
      "text/html": [
       "<pre>    Data has 5896 observations with 2108 users and 359 items.</pre>"
      ],
      "text/plain": [
       "    Data has 5896 observations with 2108 users and 359 items."
      ]
     },
     "metadata": {
      "tags": []
     },
     "output_type": "display_data"
    },
    {
     "data": {
      "text/html": [
       "<pre>    Data prepared in: 0.011115s</pre>"
      ],
      "text/plain": [
       "    Data prepared in: 0.011115s"
      ]
     },
     "metadata": {
      "tags": []
     },
     "output_type": "display_data"
    },
    {
     "data": {
      "text/html": [
       "<pre>Training factorization_recommender for recommendations.</pre>"
      ],
      "text/plain": [
       "Training factorization_recommender for recommendations."
      ]
     },
     "metadata": {
      "tags": []
     },
     "output_type": "display_data"
    },
    {
     "data": {
      "text/html": [
       "<pre>+--------------------------------+--------------------------------------------------+----------+</pre>"
      ],
      "text/plain": [
       "+--------------------------------+--------------------------------------------------+----------+"
      ]
     },
     "metadata": {
      "tags": []
     },
     "output_type": "display_data"
    },
    {
     "data": {
      "text/html": [
       "<pre>| Parameter                      | Description                                      | Value    |</pre>"
      ],
      "text/plain": [
       "| Parameter                      | Description                                      | Value    |"
      ]
     },
     "metadata": {
      "tags": []
     },
     "output_type": "display_data"
    },
    {
     "data": {
      "text/html": [
       "<pre>+--------------------------------+--------------------------------------------------+----------+</pre>"
      ],
      "text/plain": [
       "+--------------------------------+--------------------------------------------------+----------+"
      ]
     },
     "metadata": {
      "tags": []
     },
     "output_type": "display_data"
    },
    {
     "data": {
      "text/html": [
       "<pre>| num_factors                    | Factor Dimension                                 | 10       |</pre>"
      ],
      "text/plain": [
       "| num_factors                    | Factor Dimension                                 | 10       |"
      ]
     },
     "metadata": {
      "tags": []
     },
     "output_type": "display_data"
    },
    {
     "data": {
      "text/html": [
       "<pre>| regularization                 | L2 Regularization on Factors                     |          |</pre>"
      ],
      "text/plain": [
       "| regularization                 | L2 Regularization on Factors                     |          |"
      ]
     },
     "metadata": {
      "tags": []
     },
     "output_type": "display_data"
    },
    {
     "data": {
      "text/html": [
       "<pre>| solver                         | Solver used for training                         | sgd      |</pre>"
      ],
      "text/plain": [
       "| solver                         | Solver used for training                         | sgd      |"
      ]
     },
     "metadata": {
      "tags": []
     },
     "output_type": "display_data"
    },
    {
     "data": {
      "text/html": [
       "<pre>| linear_regularization          | L2 Regularization on Linear Coefficients         | 2.15e-11 |</pre>"
      ],
      "text/plain": [
       "| linear_regularization          | L2 Regularization on Linear Coefficients         | 2.15e-11 |"
      ]
     },
     "metadata": {
      "tags": []
     },
     "output_type": "display_data"
    },
    {
     "data": {
      "text/html": [
       "<pre>| max_iterations                 | Maximum Number of Iterations                     | 1000     |</pre>"
      ],
      "text/plain": [
       "| max_iterations                 | Maximum Number of Iterations                     | 1000     |"
      ]
     },
     "metadata": {
      "tags": []
     },
     "output_type": "display_data"
    },
    {
     "data": {
      "text/html": [
       "<pre>+--------------------------------+--------------------------------------------------+----------+</pre>"
      ],
      "text/plain": [
       "+--------------------------------+--------------------------------------------------+----------+"
      ]
     },
     "metadata": {
      "tags": []
     },
     "output_type": "display_data"
    },
    {
     "data": {
      "text/html": [
       "<pre>  Optimizing model using SGD; tuning step size.</pre>"
      ],
      "text/plain": [
       "  Optimizing model using SGD; tuning step size."
      ]
     },
     "metadata": {
      "tags": []
     },
     "output_type": "display_data"
    },
    {
     "data": {
      "text/html": [
       "<pre>  Using 5896 / 5896 points for tuning the step size.</pre>"
      ],
      "text/plain": [
       "  Using 5896 / 5896 points for tuning the step size."
      ]
     },
     "metadata": {
      "tags": []
     },
     "output_type": "display_data"
    },
    {
     "data": {
      "text/html": [
       "<pre>+---------+-------------------+------------------------------------------+</pre>"
      ],
      "text/plain": [
       "+---------+-------------------+------------------------------------------+"
      ]
     },
     "metadata": {
      "tags": []
     },
     "output_type": "display_data"
    },
    {
     "data": {
      "text/html": [
       "<pre>| Attempt | Initial Step Size | Estimated Objective Value                |</pre>"
      ],
      "text/plain": [
       "| Attempt | Initial Step Size | Estimated Objective Value                |"
      ]
     },
     "metadata": {
      "tags": []
     },
     "output_type": "display_data"
    },
    {
     "data": {
      "text/html": [
       "<pre>+---------+-------------------+------------------------------------------+</pre>"
      ],
      "text/plain": [
       "+---------+-------------------+------------------------------------------+"
      ]
     },
     "metadata": {
      "tags": []
     },
     "output_type": "display_data"
    },
    {
     "data": {
      "text/html": [
       "<pre>| 0       | 5.76453           | Not Viable                               |</pre>"
      ],
      "text/plain": [
       "| 0       | 5.76453           | Not Viable                               |"
      ]
     },
     "metadata": {
      "tags": []
     },
     "output_type": "display_data"
    },
    {
     "data": {
      "text/html": [
       "<pre>| 1       | 1.44113           | Not Viable                               |</pre>"
      ],
      "text/plain": [
       "| 1       | 1.44113           | Not Viable                               |"
      ]
     },
     "metadata": {
      "tags": []
     },
     "output_type": "display_data"
    },
    {
     "data": {
      "text/html": [
       "<pre>| 2       | 0.360283          | Not Viable                               |</pre>"
      ],
      "text/plain": [
       "| 2       | 0.360283          | Not Viable                               |"
      ]
     },
     "metadata": {
      "tags": []
     },
     "output_type": "display_data"
    },
    {
     "data": {
      "text/html": [
       "<pre>| 3       | 0.0900708         | 0.0709072                                |</pre>"
      ],
      "text/plain": [
       "| 3       | 0.0900708         | 0.0709072                                |"
      ]
     },
     "metadata": {
      "tags": []
     },
     "output_type": "display_data"
    },
    {
     "data": {
      "text/html": [
       "<pre>| 4       | 0.0450354         | 0.0946184                                |</pre>"
      ],
      "text/plain": [
       "| 4       | 0.0450354         | 0.0946184                                |"
      ]
     },
     "metadata": {
      "tags": []
     },
     "output_type": "display_data"
    },
    {
     "data": {
      "text/html": [
       "<pre>| 5       | 0.0225177         | 0.131762                                 |</pre>"
      ],
      "text/plain": [
       "| 5       | 0.0225177         | 0.131762                                 |"
      ]
     },
     "metadata": {
      "tags": []
     },
     "output_type": "display_data"
    },
    {
     "data": {
      "text/html": [
       "<pre>| 6       | 0.0112588         | 0.17232                                  |</pre>"
      ],
      "text/plain": [
       "| 6       | 0.0112588         | 0.17232                                  |"
      ]
     },
     "metadata": {
      "tags": []
     },
     "output_type": "display_data"
    },
    {
     "data": {
      "text/html": [
       "<pre>+---------+-------------------+------------------------------------------+</pre>"
      ],
      "text/plain": [
       "+---------+-------------------+------------------------------------------+"
      ]
     },
     "metadata": {
      "tags": []
     },
     "output_type": "display_data"
    },
    {
     "data": {
      "text/html": [
       "<pre>| Final   | 0.0900708         | 0.0709072                                |</pre>"
      ],
      "text/plain": [
       "| Final   | 0.0900708         | 0.0709072                                |"
      ]
     },
     "metadata": {
      "tags": []
     },
     "output_type": "display_data"
    },
    {
     "data": {
      "text/html": [
       "<pre>+---------+-------------------+------------------------------------------+</pre>"
      ],
      "text/plain": [
       "+---------+-------------------+------------------------------------------+"
      ]
     },
     "metadata": {
      "tags": []
     },
     "output_type": "display_data"
    },
    {
     "data": {
      "text/html": [
       "<pre>Starting Optimization.</pre>"
      ],
      "text/plain": [
       "Starting Optimization."
      ]
     },
     "metadata": {
      "tags": []
     },
     "output_type": "display_data"
    },
    {
     "data": {
      "text/html": [
       "<pre>+---------+--------------+-------------------+-----------------------+-------------+</pre>"
      ],
      "text/plain": [
       "+---------+--------------+-------------------+-----------------------+-------------+"
      ]
     },
     "metadata": {
      "tags": []
     },
     "output_type": "display_data"
    },
    {
     "data": {
      "text/html": [
       "<pre>| Iter.   | Elapsed Time | Approx. Objective | Approx. Training RMSE | Step Size   |</pre>"
      ],
      "text/plain": [
       "| Iter.   | Elapsed Time | Approx. Objective | Approx. Training RMSE | Step Size   |"
      ]
     },
     "metadata": {
      "tags": []
     },
     "output_type": "display_data"
    },
    {
     "data": {
      "text/html": [
       "<pre>+---------+--------------+-------------------+-----------------------+-------------+</pre>"
      ],
      "text/plain": [
       "+---------+--------------+-------------------+-----------------------+-------------+"
      ]
     },
     "metadata": {
      "tags": []
     },
     "output_type": "display_data"
    },
    {
     "data": {
      "text/html": [
       "<pre>| Initial | 73us         | 0.335026          | 0.578814              |             |</pre>"
      ],
      "text/plain": [
       "| Initial | 73us         | 0.335026          | 0.578814              |             |"
      ]
     },
     "metadata": {
      "tags": []
     },
     "output_type": "display_data"
    },
    {
     "data": {
      "text/html": [
       "<pre>+---------+--------------+-------------------+-----------------------+-------------+</pre>"
      ],
      "text/plain": [
       "+---------+--------------+-------------------+-----------------------+-------------+"
      ]
     },
     "metadata": {
      "tags": []
     },
     "output_type": "display_data"
    },
    {
     "data": {
      "text/html": [
       "<pre>| 1       | 13.218ms     | 0.211822          | 0.460238              | 0.0900708   |</pre>"
      ],
      "text/plain": [
       "| 1       | 13.218ms     | 0.211822          | 0.460238              | 0.0900708   |"
      ]
     },
     "metadata": {
      "tags": []
     },
     "output_type": "display_data"
    },
    {
     "data": {
      "text/html": [
       "<pre>| 2       | 23.965ms     | 0.10946           | 0.330844              | 0.0420081   |</pre>"
      ],
      "text/plain": [
       "| 2       | 23.965ms     | 0.10946           | 0.330844              | 0.0420081   |"
      ]
     },
     "metadata": {
      "tags": []
     },
     "output_type": "display_data"
    },
    {
     "data": {
      "text/html": [
       "<pre>| 3       | 27.964ms     | 0.0899232         | 0.299868              | 0.0273917   |</pre>"
      ],
      "text/plain": [
       "| 3       | 27.964ms     | 0.0899232         | 0.299868              | 0.0273917   |"
      ]
     },
     "metadata": {
      "tags": []
     },
     "output_type": "display_data"
    },
    {
     "data": {
      "text/html": [
       "<pre>| 4       | 35.492ms     | 0.0804164         | 0.283573              | 0.0203211   |</pre>"
      ],
      "text/plain": [
       "| 4       | 35.492ms     | 0.0804164         | 0.283573              | 0.0203211   |"
      ]
     },
     "metadata": {
      "tags": []
     },
     "output_type": "display_data"
    },
    {
     "data": {
      "text/html": [
       "<pre>| 5       | 42.133ms     | 0.0748571         | 0.273595              | 0.0161518   |</pre>"
      ],
      "text/plain": [
       "| 5       | 42.133ms     | 0.0748571         | 0.273595              | 0.0161518   |"
      ]
     },
     "metadata": {
      "tags": []
     },
     "output_type": "display_data"
    },
    {
     "data": {
      "text/html": [
       "<pre>| 10      | 68.734ms     | 0.0629312         | 0.250854              | 0.00797287  |</pre>"
      ],
      "text/plain": [
       "| 10      | 68.734ms     | 0.0629312         | 0.250854              | 0.00797287  |"
      ]
     },
     "metadata": {
      "tags": []
     },
     "output_type": "display_data"
    },
    {
     "data": {
      "text/html": [
       "<pre>| 50      | 288.622ms    | 0.0487196         | 0.220718              | 0.00157846  |</pre>"
      ],
      "text/plain": [
       "| 50      | 288.622ms    | 0.0487196         | 0.220718              | 0.00157846  |"
      ]
     },
     "metadata": {
      "tags": []
     },
     "output_type": "display_data"
    },
    {
     "data": {
      "text/html": [
       "<pre>| 100     | 571.412ms    | 0.0453467         | 0.212941              | 0.000788237 |</pre>"
      ],
      "text/plain": [
       "| 100     | 571.412ms    | 0.0453467         | 0.212941              | 0.000788237 |"
      ]
     },
     "metadata": {
      "tags": []
     },
     "output_type": "display_data"
    },
    {
     "data": {
      "text/html": [
       "<pre>| 500     | 2.84s        | 0.0403949         | 0.200982              | 0.000157488 |</pre>"
      ],
      "text/plain": [
       "| 500     | 2.84s        | 0.0403949         | 0.200982              | 0.000157488 |"
      ]
     },
     "metadata": {
      "tags": []
     },
     "output_type": "display_data"
    },
    {
     "data": {
      "text/html": [
       "<pre>| 614     | 3.49s        | 0.0399523         | 0.199878              | 0.000128242 |</pre>"
      ],
      "text/plain": [
       "| 614     | 3.49s        | 0.0399523         | 0.199878              | 0.000128242 |"
      ]
     },
     "metadata": {
      "tags": []
     },
     "output_type": "display_data"
    },
    {
     "data": {
      "text/html": [
       "<pre>+---------+--------------+-------------------+-----------------------+-------------+</pre>"
      ],
      "text/plain": [
       "+---------+--------------+-------------------+-----------------------+-------------+"
      ]
     },
     "metadata": {
      "tags": []
     },
     "output_type": "display_data"
    },
    {
     "data": {
      "text/html": [
       "<pre>Optimization Complete: Convergence on objective within bounds.</pre>"
      ],
      "text/plain": [
       "Optimization Complete: Convergence on objective within bounds."
      ]
     },
     "metadata": {
      "tags": []
     },
     "output_type": "display_data"
    },
    {
     "data": {
      "text/html": [
       "<pre>Computing final objective value and training RMSE.</pre>"
      ],
      "text/plain": [
       "Computing final objective value and training RMSE."
      ]
     },
     "metadata": {
      "tags": []
     },
     "output_type": "display_data"
    },
    {
     "data": {
      "text/html": [
       "<pre>       Final objective value: 0.0399303</pre>"
      ],
      "text/plain": [
       "       Final objective value: 0.0399303"
      ]
     },
     "metadata": {
      "tags": []
     },
     "output_type": "display_data"
    },
    {
     "data": {
      "text/html": [
       "<pre>       Final training RMSE: 0.199823</pre>"
      ],
      "text/plain": [
       "       Final training RMSE: 0.199823"
      ]
     },
     "metadata": {
      "tags": []
     },
     "output_type": "display_data"
    }
   ],
   "source": [
    "X_test_sc = X_test_scored.copy()\n",
    "X_train_sc = X_train_scored.copy()\n",
    "\n",
    "minmax = MinMaxScaler((1, 5))\n",
    "minmax.fit(X_train_sc[[\"score\"]])\n",
    "X_train_sc[[\"score\"]] = minmax.transform(X_train_sc[[\"score\"]])\n",
    "\n",
    "minmax = MinMaxScaler((1, 5))\n",
    "minmax.fit(X_test_sc[[\"score\"]])\n",
    "X_test_sc[[\"score\"]] = minmax.transform(X_test_sc[[\"score\"]])\n",
    "\n",
    "model_test = tc.recommender.factorization_recommender.create(tc.SFrame(X_train_sc), 'test_cas', 'species', target='score', max_iterations=1000, \\\n",
    "                                                                       num_factors = 10, regularization=0.0021544346900318778, linear_regularization=2.1544346900318868e-11, solver=\"sgd\", verbose=True)"
   ]
  },
  {
   "cell_type": "code",
   "execution_count": null,
   "metadata": {
    "colab": {
     "base_uri": "https://localhost:8080/",
     "height": 34
    },
    "colab_type": "code",
    "id": "mMTu4ua0hx3_",
    "outputId": "3c8a8ea9-765e-4011-e19a-847cd65289e8"
   },
   "outputs": [
    {
     "data": {
      "text/plain": [
       "0.5610883041591249"
      ]
     },
     "execution_count": 225,
     "metadata": {
      "tags": []
     },
     "output_type": "execute_result"
    }
   ],
   "source": [
    "model_test.evaluate_rmse(tc.SFrame(X_test_sc), 'score')['rmse_overall']"
   ]
  },
  {
   "cell_type": "code",
   "execution_count": null,
   "metadata": {
    "colab": {
     "base_uri": "https://localhost:8080/",
     "height": 88
    },
    "colab_type": "code",
    "id": "Y7rpQ9yjh8Gf",
    "outputId": "5cee4592-148b-4435-d316-e291b4ef9eac"
   },
   "outputs": [
    {
     "data": {
      "text/plain": [
       "dtype: float\n",
       "Rows: 2904\n",
       "[2.9195034845434287, 3.266156184956364, 2.3611241867758133, 1.6044036625689126, 2.275789453186795, 2.466074143073565, 2.4856443017586067, 2.111793257395368, 2.359067423628171, 2.1542916652169444, 2.5145106899974383, 2.533834329233964, 2.509174032495816, 2.5607520140572384, 3.1240857906019763, 3.3695670138193576, 2.4058036833827803, 2.381695335397637, 1.982446919393324, 2.8640639580363634, 2.4696540370448425, 2.6758172865965926, 3.768743933576838, 3.48426780894601, 2.415248392508824, 2.1045070308744362, 2.415248392508824, 2.415248392508824, 2.3616943446886567, 2.239184864856656, 2.586345306441618, 3.9560453261735287, 1.962683386529188, 3.2192800414159692, 2.2571492151423134, 3.1691503532236482, 2.663841177701599, 2.5363449918002012, 2.0459626949963243, 2.7536302540466124, 2.533834329233964, 3.5981925772436854, 2.509174032495816, 1.961907488490747, 2.415248392508824, 2.567272471397312, 2.0097729383946565, 2.3834558302303024, 1.9825248706776368, 2.415248392508824, 2.951305827029581, 2.2142823809882892, 3.4999164008468777, 2.533834329233964, 2.4659438084812235, 2.5590613870048124, 2.677342664714383, 2.671375007820027, 2.4097647506853215, 2.279273600458341, 2.381176074362264, 2.2640080698858136, 2.336276856058556, 2.43180821685632, 2.980191917023506, 2.679693547707311, 2.851999970846061, 2.504449535150473, 2.9661094947272724, 1.9295637291085042, 2.415248392508824, 2.5740164875849083, 2.839228777573903, 3.0649887383958805, 2.9075428294465184, 2.7429808021075535, 3.7173203168914797, 2.8859267029385998, 2.3728295490215623, 2.806699177130801, 3.318952522183958, 2.415248392508824, 2.535762984477823, 2.069950073932722, 2.552108223141158, 2.2689988188769754, 3.73567323527638, 2.4856443017586067, 3.495956676386856, 2.26799321026952, 2.1453520427031303, 2.483022550226195, 2.549777331837641, 2.1888668499461468, 2.6949772629700086, 3.1863040947302417, 2.181601373202428, 2.184562112370936, 2.359067423628171, 2.904015983730455, ... ]"
      ]
     },
     "execution_count": 226,
     "metadata": {
      "tags": []
     },
     "output_type": "execute_result"
    }
   ],
   "source": [
    "X_test_predict = model_test.predict(tc.SFrame(X_test_sc))\n",
    "X_test_predict"
   ]
  },
  {
   "cell_type": "code",
   "execution_count": null,
   "metadata": {
    "colab": {
     "base_uri": "https://localhost:8080/",
     "height": 419
    },
    "colab_type": "code",
    "id": "0Px9w4c_iu9W",
    "outputId": "0d6f8354-1003-4824-9cea-86e755bd785d"
   },
   "outputs": [
    {
     "data": {
      "text/html": [
       "<div>\n",
       "<style scoped>\n",
       "    .dataframe tbody tr th:only-of-type {\n",
       "        vertical-align: middle;\n",
       "    }\n",
       "\n",
       "    .dataframe tbody tr th {\n",
       "        vertical-align: top;\n",
       "    }\n",
       "\n",
       "    .dataframe thead th {\n",
       "        text-align: right;\n",
       "    }\n",
       "</style>\n",
       "<table border=\"1\" class=\"dataframe\">\n",
       "  <thead>\n",
       "    <tr style=\"text-align: right;\">\n",
       "      <th></th>\n",
       "      <th>test_cas</th>\n",
       "      <th>species</th>\n",
       "      <th>score</th>\n",
       "    </tr>\n",
       "  </thead>\n",
       "  <tbody>\n",
       "    <tr>\n",
       "      <th>0</th>\n",
       "      <td>70</td>\n",
       "      <td>294</td>\n",
       "      <td>3.290765</td>\n",
       "    </tr>\n",
       "    <tr>\n",
       "      <th>1</th>\n",
       "      <td>104</td>\n",
       "      <td>138</td>\n",
       "      <td>3.465897</td>\n",
       "    </tr>\n",
       "    <tr>\n",
       "      <th>2</th>\n",
       "      <td>1551</td>\n",
       "      <td>72</td>\n",
       "      <td>2.897733</td>\n",
       "    </tr>\n",
       "    <tr>\n",
       "      <th>3</th>\n",
       "      <td>810</td>\n",
       "      <td>319</td>\n",
       "      <td>1.918792</td>\n",
       "    </tr>\n",
       "    <tr>\n",
       "      <th>4</th>\n",
       "      <td>583</td>\n",
       "      <td>395</td>\n",
       "      <td>2.076326</td>\n",
       "    </tr>\n",
       "    <tr>\n",
       "      <th>...</th>\n",
       "      <td>...</td>\n",
       "      <td>...</td>\n",
       "      <td>...</td>\n",
       "    </tr>\n",
       "    <tr>\n",
       "      <th>2899</th>\n",
       "      <td>820</td>\n",
       "      <td>220</td>\n",
       "      <td>3.462946</td>\n",
       "    </tr>\n",
       "    <tr>\n",
       "      <th>2900</th>\n",
       "      <td>230</td>\n",
       "      <td>174</td>\n",
       "      <td>2.923584</td>\n",
       "    </tr>\n",
       "    <tr>\n",
       "      <th>2901</th>\n",
       "      <td>1713</td>\n",
       "      <td>220</td>\n",
       "      <td>4.363339</td>\n",
       "    </tr>\n",
       "    <tr>\n",
       "      <th>2902</th>\n",
       "      <td>1213</td>\n",
       "      <td>316</td>\n",
       "      <td>2.854852</td>\n",
       "    </tr>\n",
       "    <tr>\n",
       "      <th>2903</th>\n",
       "      <td>574</td>\n",
       "      <td>331</td>\n",
       "      <td>2.564759</td>\n",
       "    </tr>\n",
       "  </tbody>\n",
       "</table>\n",
       "<p>2904 rows × 3 columns</p>\n",
       "</div>"
      ],
      "text/plain": [
       "      test_cas  species     score\n",
       "0           70      294  3.290765\n",
       "1          104      138  3.465897\n",
       "2         1551       72  2.897733\n",
       "3          810      319  1.918792\n",
       "4          583      395  2.076326\n",
       "...        ...      ...       ...\n",
       "2899       820      220  3.462946\n",
       "2900       230      174  2.923584\n",
       "2901      1713      220  4.363339\n",
       "2902      1213      316  2.854852\n",
       "2903       574      331  2.564759\n",
       "\n",
       "[2904 rows x 3 columns]"
      ]
     },
     "execution_count": 230,
     "metadata": {
      "tags": []
     },
     "output_type": "execute_result"
    }
   ],
   "source": [
    "X_test_sc"
   ]
  },
  {
   "cell_type": "code",
   "execution_count": null,
   "metadata": {
    "colab": {},
    "colab_type": "code",
    "id": "f1yr3HHHijUN"
   },
   "outputs": [],
   "source": [
    "X_test_predict_conc = minmax.inverse_transform(X_test_predict.to_numpy().reshape(-1, 1))\n",
    "X_test_predict_conc = np.exp(X_test_predict_conc)    \n",
    "X_test_predict_conc = 1/X_test_predict_conc"
   ]
  },
  {
   "cell_type": "code",
   "execution_count": null,
   "metadata": {
    "colab": {
     "base_uri": "https://localhost:8080/",
     "height": 34
    },
    "colab_type": "code",
    "id": "j33vYUxgimz7",
    "outputId": "8fab15d4-7986-470b-91f7-a0e9e9b74421"
   },
   "outputs": [
    {
     "data": {
      "text/plain": [
       "10949.70164859497"
      ]
     },
     "execution_count": 228,
     "metadata": {
      "tags": []
     },
     "output_type": "execute_result"
    }
   ],
   "source": [
    "sqrt(mean_squared_error(X_test_original.conc1_mean.values, X_test_predict_conc))"
   ]
  },
  {
   "cell_type": "code",
   "execution_count": null,
   "metadata": {
    "colab": {
     "base_uri": "https://localhost:8080/",
     "height": 204
    },
    "colab_type": "code",
    "id": "J5yX17rkirG5",
    "outputId": "2c0cba67-5079-46a7-885d-87c266f999ac"
   },
   "outputs": [
    {
     "data": {
      "text/html": [
       "<div>\n",
       "<style scoped>\n",
       "    .dataframe tbody tr th:only-of-type {\n",
       "        vertical-align: middle;\n",
       "    }\n",
       "\n",
       "    .dataframe tbody tr th {\n",
       "        vertical-align: top;\n",
       "    }\n",
       "\n",
       "    .dataframe thead th {\n",
       "        text-align: right;\n",
       "    }\n",
       "</style>\n",
       "<table border=\"1\" class=\"dataframe\">\n",
       "  <thead>\n",
       "    <tr style=\"text-align: right;\">\n",
       "      <th></th>\n",
       "      <th>test_cas</th>\n",
       "      <th>species</th>\n",
       "      <th>conc1_mean</th>\n",
       "      <th>obs_duration_mean</th>\n",
       "      <th>score</th>\n",
       "      <th>prediction</th>\n",
       "      <th>intervals</th>\n",
       "    </tr>\n",
       "  </thead>\n",
       "  <tbody>\n",
       "    <tr>\n",
       "      <th>0</th>\n",
       "      <td>70</td>\n",
       "      <td>294</td>\n",
       "      <td>0.80</td>\n",
       "      <td>96.0</td>\n",
       "      <td>1.250000</td>\n",
       "      <td>6.875650</td>\n",
       "      <td>6.075650</td>\n",
       "    </tr>\n",
       "    <tr>\n",
       "      <th>1</th>\n",
       "      <td>104</td>\n",
       "      <td>138</td>\n",
       "      <td>0.29</td>\n",
       "      <td>96.0</td>\n",
       "      <td>3.448276</td>\n",
       "      <td>0.922603</td>\n",
       "      <td>0.632603</td>\n",
       "    </tr>\n",
       "    <tr>\n",
       "      <th>2</th>\n",
       "      <td>1551</td>\n",
       "      <td>72</td>\n",
       "      <td>7.80</td>\n",
       "      <td>96.0</td>\n",
       "      <td>0.128205</td>\n",
       "      <td>174.739263</td>\n",
       "      <td>166.939263</td>\n",
       "    </tr>\n",
       "    <tr>\n",
       "      <th>3</th>\n",
       "      <td>810</td>\n",
       "      <td>319</td>\n",
       "      <td>2267.00</td>\n",
       "      <td>96.0</td>\n",
       "      <td>0.000441</td>\n",
       "      <td>14014.024103</td>\n",
       "      <td>11747.024103</td>\n",
       "    </tr>\n",
       "    <tr>\n",
       "      <th>4</th>\n",
       "      <td>583</td>\n",
       "      <td>395</td>\n",
       "      <td>910.00</td>\n",
       "      <td>96.0</td>\n",
       "      <td>0.001099</td>\n",
       "      <td>286.498536</td>\n",
       "      <td>623.501464</td>\n",
       "    </tr>\n",
       "  </tbody>\n",
       "</table>\n",
       "</div>"
      ],
      "text/plain": [
       "   test_cas  species  conc1_mean  ...     score    prediction     intervals\n",
       "0        70      294        0.80  ...  1.250000      6.875650      6.075650\n",
       "1       104      138        0.29  ...  3.448276      0.922603      0.632603\n",
       "2      1551       72        7.80  ...  0.128205    174.739263    166.939263\n",
       "3       810      319     2267.00  ...  0.000441  14014.024103  11747.024103\n",
       "4       583      395      910.00  ...  0.001099    286.498536    623.501464\n",
       "\n",
       "[5 rows x 7 columns]"
      ]
     },
     "execution_count": 229,
     "metadata": {
      "tags": []
     },
     "output_type": "execute_result"
    }
   ],
   "source": [
    "X_intervals = compute_absolute_intervals(X_test_original, X_test_predict_conc)\n",
    "X_intervals.head()"
   ]
  }
 ],
 "metadata": {
  "accelerator": "GPU",
  "colab": {
   "collapsed_sections": [],
   "name": "Tox_Factorization",
   "provenance": []
  },
  "kernelspec": {
   "display_name": "Python 3",
   "language": "python",
   "name": "python3"
  },
  "language_info": {
   "codemirror_mode": {
    "name": "ipython",
    "version": 3
   },
   "file_extension": ".py",
   "mimetype": "text/x-python",
   "name": "python",
   "nbconvert_exporter": "python",
   "pygments_lexer": "ipython3",
   "version": "3.7.4"
  }
 },
 "nbformat": 4,
 "nbformat_minor": 4
}
