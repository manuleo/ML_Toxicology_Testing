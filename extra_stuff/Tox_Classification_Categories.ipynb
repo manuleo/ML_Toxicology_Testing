{
 "cells": [
  {
   "cell_type": "code",
   "execution_count": null,
   "metadata": {
    "colab": {
     "base_uri": "https://localhost:8080/",
     "height": 1000
    },
    "colab_type": "code",
    "id": "AkFRqOyf_Ok0",
    "outputId": "cc968914-0144-4cb3-8ab8-b7596dfceba0"
   },
   "outputs": [
    {
     "name": "stdout",
     "output_type": "stream",
     "text": [
      "Collecting turicreate==5.4\n",
      "\u001b[?25l  Downloading https://files.pythonhosted.org/packages/4f/ef/1847a704548ad4cbcabe09b3882181c190f5b696da8b2d082521c33ec187/turicreate-5.4-cp36-cp36m-manylinux1_x86_64.whl (87.4MB)\n",
      "\u001b[K     |████████████████████████████████| 87.4MB 136kB/s \n",
      "\u001b[?25hRequirement already satisfied: pillow>=3.3.0 in /usr/local/lib/python3.6/dist-packages (from turicreate==5.4) (4.3.0)\n",
      "Requirement already satisfied: requests>=2.9.1 in /usr/local/lib/python3.6/dist-packages (from turicreate==5.4) (2.21.0)\n",
      "Requirement already satisfied: six>=1.10.0 in /usr/local/lib/python3.6/dist-packages (from turicreate==5.4) (1.12.0)\n",
      "Requirement already satisfied: prettytable==0.7.2 in /usr/local/lib/python3.6/dist-packages (from turicreate==5.4) (0.7.2)\n",
      "Collecting coremltools==2.1.0\n",
      "\u001b[?25l  Downloading https://files.pythonhosted.org/packages/b9/9d/7ec5a2480c6afce4fcb99de1650b7abfd1457b2ef1de5ce39bf7bee8a8ae/coremltools-2.1.0-cp36-none-manylinux1_x86_64.whl (2.7MB)\n",
      "\u001b[K     |████████████████████████████████| 2.7MB 26.6MB/s \n",
      "\u001b[?25hRequirement already satisfied: numpy in /usr/local/lib/python3.6/dist-packages (from turicreate==5.4) (1.17.4)\n",
      "Requirement already satisfied: decorator>=4.0.9 in /usr/local/lib/python3.6/dist-packages (from turicreate==5.4) (4.4.1)\n",
      "Collecting mxnet<1.2.0,>=1.1.0\n",
      "\u001b[?25l  Downloading https://files.pythonhosted.org/packages/96/98/c9877e100c3d1ac92263bfaba7bb8a49294e099046592040a2ff8620ac61/mxnet-1.1.0.post0-py2.py3-none-manylinux1_x86_64.whl (23.8MB)\n",
      "\u001b[K     |████████████████████████████████| 23.8MB 41.0MB/s \n",
      "\u001b[?25hCollecting resampy==0.2.1\n",
      "\u001b[?25l  Downloading https://files.pythonhosted.org/packages/14/b6/66a06d85474190b50aee1a6c09cdc95bb405ac47338b27e9b21409da1760/resampy-0.2.1.tar.gz (322kB)\n",
      "\u001b[K     |████████████████████████████████| 327kB 47.9MB/s \n",
      "\u001b[?25hRequirement already satisfied: pandas>=0.19.0 in /usr/local/lib/python3.6/dist-packages (from turicreate==5.4) (0.25.3)\n",
      "Requirement already satisfied: scipy>=0.14.0 in /usr/local/lib/python3.6/dist-packages (from turicreate==5.4) (1.3.3)\n",
      "Requirement already satisfied: olefile in /usr/local/lib/python3.6/dist-packages (from pillow>=3.3.0->turicreate==5.4) (0.46)\n",
      "Requirement already satisfied: urllib3<1.25,>=1.21.1 in /usr/local/lib/python3.6/dist-packages (from requests>=2.9.1->turicreate==5.4) (1.24.3)\n",
      "Requirement already satisfied: idna<2.9,>=2.5 in /usr/local/lib/python3.6/dist-packages (from requests>=2.9.1->turicreate==5.4) (2.8)\n",
      "Requirement already satisfied: chardet<3.1.0,>=3.0.2 in /usr/local/lib/python3.6/dist-packages (from requests>=2.9.1->turicreate==5.4) (3.0.4)\n",
      "Requirement already satisfied: certifi>=2017.4.17 in /usr/local/lib/python3.6/dist-packages (from requests>=2.9.1->turicreate==5.4) (2019.11.28)\n",
      "Requirement already satisfied: protobuf>=3.1.0 in /usr/local/lib/python3.6/dist-packages (from coremltools==2.1.0->turicreate==5.4) (3.10.0)\n",
      "Collecting graphviz<0.9.0,>=0.8.1\n",
      "  Downloading https://files.pythonhosted.org/packages/53/39/4ab213673844e0c004bed8a0781a0721a3f6bb23eb8854ee75c236428892/graphviz-0.8.4-py2.py3-none-any.whl\n",
      "Requirement already satisfied: numba>=0.32 in /usr/local/lib/python3.6/dist-packages (from resampy==0.2.1->turicreate==5.4) (0.40.1)\n",
      "Requirement already satisfied: pytz>=2017.2 in /usr/local/lib/python3.6/dist-packages (from pandas>=0.19.0->turicreate==5.4) (2018.9)\n",
      "Requirement already satisfied: python-dateutil>=2.6.1 in /usr/local/lib/python3.6/dist-packages (from pandas>=0.19.0->turicreate==5.4) (2.6.1)\n",
      "Requirement already satisfied: setuptools in /usr/local/lib/python3.6/dist-packages (from protobuf>=3.1.0->coremltools==2.1.0->turicreate==5.4) (42.0.2)\n",
      "Requirement already satisfied: llvmlite>=0.25.0dev0 in /usr/local/lib/python3.6/dist-packages (from numba>=0.32->resampy==0.2.1->turicreate==5.4) (0.30.0)\n",
      "Building wheels for collected packages: resampy\n",
      "  Building wheel for resampy (setup.py) ... \u001b[?25l\u001b[?25hdone\n",
      "  Created wheel for resampy: filename=resampy-0.2.1-cp36-none-any.whl size=320847 sha256=0758dde750ff9fa00f63ade44e16687089a53dc37c46b3f9dac9e14dce2a762d\n",
      "  Stored in directory: /root/.cache/pip/wheels/ff/4f/ed/2e6c676c23efe5394bb40ade50662e90eb46e29b48324c5f9b\n",
      "Successfully built resampy\n",
      "\u001b[31mERROR: mxnet 1.1.0.post0 has requirement numpy<1.15.0,>=1.8.2, but you'll have numpy 1.17.4 which is incompatible.\u001b[0m\n",
      "\u001b[31mERROR: mxnet 1.1.0.post0 has requirement requests<2.19.0,>=2.18.4, but you'll have requests 2.21.0 which is incompatible.\u001b[0m\n",
      "Installing collected packages: coremltools, graphviz, mxnet, resampy, turicreate\n",
      "  Found existing installation: graphviz 0.10.1\n",
      "    Uninstalling graphviz-0.10.1:\n",
      "      Successfully uninstalled graphviz-0.10.1\n",
      "  Found existing installation: resampy 0.2.2\n",
      "    Uninstalling resampy-0.2.2:\n",
      "      Successfully uninstalled resampy-0.2.2\n",
      "Successfully installed coremltools-2.1.0 graphviz-0.8.4 mxnet-1.1.0.post0 resampy-0.2.1 turicreate-5.4\n",
      "Uninstalling mxnet-1.1.0.post0:\n",
      "  Successfully uninstalled mxnet-1.1.0.post0\n",
      "Collecting mxnet-cu100==1.4.0.post0\n",
      "\u001b[?25l  Downloading https://files.pythonhosted.org/packages/ae/36/40b6d201b46495513f7a7fa25fe8b7d85b3602a22efba119e8146d5f1601/mxnet_cu100-1.4.0.post0-py2.py3-none-manylinux1_x86_64.whl (487.9MB)\n",
      "\u001b[K     |████████████████████████████████| 487.9MB 36kB/s \n",
      "\u001b[?25hRequirement already satisfied: requests>=2.20.0 in /usr/local/lib/python3.6/dist-packages (from mxnet-cu100==1.4.0.post0) (2.21.0)\n",
      "Requirement already satisfied: graphviz<0.9.0,>=0.8.1 in /usr/local/lib/python3.6/dist-packages (from mxnet-cu100==1.4.0.post0) (0.8.4)\n",
      "Collecting numpy<1.15.0,>=1.8.2\n",
      "\u001b[?25l  Downloading https://files.pythonhosted.org/packages/e5/c4/395ebb218053ba44d64935b3729bc88241ec279915e72100c5979db10945/numpy-1.14.6-cp36-cp36m-manylinux1_x86_64.whl (13.8MB)\n",
      "\u001b[K     |████████████████████████████████| 13.8MB 28.2MB/s \n",
      "\u001b[?25hRequirement already satisfied: certifi>=2017.4.17 in /usr/local/lib/python3.6/dist-packages (from requests>=2.20.0->mxnet-cu100==1.4.0.post0) (2019.11.28)\n",
      "Requirement already satisfied: idna<2.9,>=2.5 in /usr/local/lib/python3.6/dist-packages (from requests>=2.20.0->mxnet-cu100==1.4.0.post0) (2.8)\n",
      "Requirement already satisfied: urllib3<1.25,>=1.21.1 in /usr/local/lib/python3.6/dist-packages (from requests>=2.20.0->mxnet-cu100==1.4.0.post0) (1.24.3)\n",
      "Requirement already satisfied: chardet<3.1.0,>=3.0.2 in /usr/local/lib/python3.6/dist-packages (from requests>=2.20.0->mxnet-cu100==1.4.0.post0) (3.0.4)\n",
      "\u001b[31mERROR: turicreate 5.4 requires mxnet<1.2.0,>=1.1.0, which is not installed.\u001b[0m\n",
      "\u001b[31mERROR: tensorflow 1.15.0 has requirement numpy<2.0,>=1.16.0, but you'll have numpy 1.14.6 which is incompatible.\u001b[0m\n",
      "\u001b[31mERROR: spacy 2.1.9 has requirement numpy>=1.15.0, but you'll have numpy 1.14.6 which is incompatible.\u001b[0m\n",
      "\u001b[31mERROR: imgaug 0.2.9 has requirement numpy>=1.15.0, but you'll have numpy 1.14.6 which is incompatible.\u001b[0m\n",
      "\u001b[31mERROR: fastai 1.0.59 has requirement numpy>=1.15, but you'll have numpy 1.14.6 which is incompatible.\u001b[0m\n",
      "\u001b[31mERROR: datascience 0.10.6 has requirement folium==0.2.1, but you'll have folium 0.8.3 which is incompatible.\u001b[0m\n",
      "\u001b[31mERROR: cvxpy 1.0.25 has requirement numpy>=1.15, but you'll have numpy 1.14.6 which is incompatible.\u001b[0m\n",
      "\u001b[31mERROR: blis 0.2.4 has requirement numpy>=1.15.0, but you'll have numpy 1.14.6 which is incompatible.\u001b[0m\n",
      "\u001b[31mERROR: albumentations 0.1.12 has requirement imgaug<0.2.7,>=0.2.5, but you'll have imgaug 0.2.9 which is incompatible.\u001b[0m\n",
      "Installing collected packages: numpy, mxnet-cu100\n",
      "  Found existing installation: numpy 1.17.4\n",
      "    Uninstalling numpy-1.17.4:\n",
      "      Successfully uninstalled numpy-1.17.4\n",
      "Successfully installed mxnet-cu100-1.4.0.post0 numpy-1.14.6\n"
     ]
    },
    {
     "data": {
      "application/vnd.colab-display-data+json": {
       "pip_warning": {
        "packages": [
         "numpy"
        ]
       }
      }
     },
     "metadata": {
      "tags": []
     },
     "output_type": "display_data"
    }
   ],
   "source": [
    "!pip install turicreate==5.4\n",
    "# The wrong version of MXNET will be installed\n",
    "!pip uninstall -y mxnet\n",
    "# Install CUDA10-compatible version of mxnet \n",
    "!pip install mxnet-cu100==1.4.0.post0"
   ]
  },
  {
   "cell_type": "code",
   "execution_count": null,
   "metadata": {
    "colab": {
     "base_uri": "https://localhost:8080/",
     "height": 34
    },
    "colab_type": "code",
    "id": "ED2h82k8_asW",
    "outputId": "41f36798-40c2-4449-b519-5ebb9ad594dd"
   },
   "outputs": [
    {
     "name": "stdout",
     "output_type": "stream",
     "text": [
      "Google Drive already mounted\n"
     ]
    }
   ],
   "source": [
    "import os.path\n",
    "from google.colab import drive\n",
    "\n",
    "# mount Google Drive to /content/drive/My Drive/\n",
    "if os.path.isdir(\"/content/drive/My Drive\"):\n",
    "  print(\"Google Drive already mounted\")\n",
    "else:\n",
    "  drive.mount('/content/drive')"
   ]
  },
  {
   "cell_type": "code",
   "execution_count": null,
   "metadata": {
    "colab": {
     "base_uri": "https://localhost:8080/",
     "height": 136
    },
    "colab_type": "code",
    "id": "RWlgWw4r_yi-",
    "outputId": "8befc359-8dc4-41e7-f55f-d48e36e08f49"
   },
   "outputs": [
    {
     "name": "stdout",
     "output_type": "stream",
     "text": [
      "WARNING: You are using MXNet 1.4.0 which may result in breaking behavior.\n",
      "         To fix this, please install the currently recommended version:\n",
      "\n",
      "             pip uninstall -y mxnet && pip install mxnet==1.1.0\n",
      "\n",
      "         If you want to use a CUDA GPU, then change 'mxnet' to 'mxnet-cu90' (adjust 'cu90' depending on your CUDA version):\n",
      "\n"
     ]
    }
   ],
   "source": [
    "import mxnet as mx\n",
    "import turicreate as tc"
   ]
  },
  {
   "cell_type": "code",
   "execution_count": null,
   "metadata": {
    "colab": {},
    "colab_type": "code",
    "id": "oAZZJuxN_zZ6"
   },
   "outputs": [],
   "source": [
    "# Use all GPUs (default)\n",
    "tc.config.set_num_gpus(-1)\n",
    "\n",
    "# Use only 1 GPU\n",
    "#tc.config.set_num_gpus(1)\n",
    "\n",
    "# Use CPU\n",
    "#tc.config.set_num_gpus(0)"
   ]
  },
  {
   "cell_type": "code",
   "execution_count": null,
   "metadata": {
    "colab": {},
    "colab_type": "code",
    "id": "QcyNZnMt_1at"
   },
   "outputs": [],
   "source": [
    "import pandas as pd\n",
    "import numpy as np\n",
    "import matplotlib.pyplot as plt\n",
    "import seaborn as sns\n",
    "import re\n",
    "from sklearn.preprocessing import StandardScaler\n",
    "from sklearn.preprocessing import MinMaxScaler\n",
    "from sklearn.model_selection import KFold\n",
    "from sklearn.metrics import mean_squared_error\n",
    "from math import sqrt\n",
    "import pickle"
   ]
  },
  {
   "cell_type": "code",
   "execution_count": null,
   "metadata": {
    "colab": {},
    "colab_type": "code",
    "id": "Bpw_AWUUAunX"
   },
   "outputs": [],
   "source": [
    "from sklearn.model_selection import train_test_split\n",
    "from sklearn.neighbors import KNeighborsClassifier\n",
    "from sklearn.metrics import accuracy_score\n",
    "from sklearn.ensemble import RandomForestClassifier\n",
    "from sklearn.ensemble import GradientBoostingClassifier\n",
    "from sklearn.model_selection import GridSearchCV\n",
    "from sklearn.preprocessing import OrdinalEncoder\n",
    "from sklearn.preprocessing import LabelEncoder\n",
    "from scipy.stats import boxcox"
   ]
  },
  {
   "cell_type": "code",
   "execution_count": null,
   "metadata": {
    "colab": {},
    "colab_type": "code",
    "id": "pD8BC4F__kqY"
   },
   "outputs": [],
   "source": [
    "np.random.seed(13)"
   ]
  },
  {
   "cell_type": "markdown",
   "metadata": {
    "colab_type": "text",
    "id": "FBynGtTwRW7-"
   },
   "source": [
    "# Data loading"
   ]
  },
  {
   "cell_type": "code",
   "execution_count": null,
   "metadata": {
    "colab": {
     "base_uri": "https://localhost:8080/",
     "height": 309
    },
    "colab_type": "code",
    "id": "GlilIFX4BBxP",
    "outputId": "675f8c7f-e3a3-46a6-9534-c707d5f6345f"
   },
   "outputs": [
    {
     "data": {
      "text/html": [
       "<div>\n",
       "<style scoped>\n",
       "    .dataframe tbody tr th:only-of-type {\n",
       "        vertical-align: middle;\n",
       "    }\n",
       "\n",
       "    .dataframe tbody tr th {\n",
       "        vertical-align: top;\n",
       "    }\n",
       "\n",
       "    .dataframe thead th {\n",
       "        text-align: right;\n",
       "    }\n",
       "</style>\n",
       "<table border=\"1\" class=\"dataframe\">\n",
       "  <thead>\n",
       "    <tr style=\"text-align: right;\">\n",
       "      <th></th>\n",
       "      <th>test_cas</th>\n",
       "      <th>exposure_type</th>\n",
       "      <th>obs_duration_mean</th>\n",
       "      <th>conc1_type</th>\n",
       "      <th>conc1_mean</th>\n",
       "      <th>class</th>\n",
       "      <th>tax_order</th>\n",
       "      <th>family</th>\n",
       "      <th>genus</th>\n",
       "      <th>species</th>\n",
       "      <th>atom_number</th>\n",
       "      <th>alone_atom_number</th>\n",
       "      <th>tripleBond</th>\n",
       "      <th>doubleBond</th>\n",
       "      <th>bonds_number</th>\n",
       "      <th>ring_numer</th>\n",
       "      <th>Mol</th>\n",
       "      <th>MorganDensity</th>\n",
       "      <th>LogP</th>\n",
       "    </tr>\n",
       "  </thead>\n",
       "  <tbody>\n",
       "    <tr>\n",
       "      <th>0</th>\n",
       "      <td>10108-64-2</td>\n",
       "      <td>S</td>\n",
       "      <td>48.0</td>\n",
       "      <td>T</td>\n",
       "      <td>46.900</td>\n",
       "      <td>Actinopterygii</td>\n",
       "      <td>Cypriniformes</td>\n",
       "      <td>Cyprinidae</td>\n",
       "      <td>Carassius</td>\n",
       "      <td>auratus</td>\n",
       "      <td>0.273831</td>\n",
       "      <td>3</td>\n",
       "      <td>0</td>\n",
       "      <td>0</td>\n",
       "      <td>0.0</td>\n",
       "      <td>0.0</td>\n",
       "      <td>0.096146</td>\n",
       "      <td>0.666667</td>\n",
       "      <td>-5.9945</td>\n",
       "    </tr>\n",
       "    <tr>\n",
       "      <th>1</th>\n",
       "      <td>10108-64-2</td>\n",
       "      <td>S</td>\n",
       "      <td>24.0</td>\n",
       "      <td>T</td>\n",
       "      <td>200.000</td>\n",
       "      <td>Actinopterygii</td>\n",
       "      <td>Cyprinodontiformes</td>\n",
       "      <td>Cyprinodontidae</td>\n",
       "      <td>Fundulus</td>\n",
       "      <td>heteroclitus</td>\n",
       "      <td>0.273831</td>\n",
       "      <td>3</td>\n",
       "      <td>0</td>\n",
       "      <td>0</td>\n",
       "      <td>0.0</td>\n",
       "      <td>0.0</td>\n",
       "      <td>0.096146</td>\n",
       "      <td>0.666667</td>\n",
       "      <td>-5.9945</td>\n",
       "    </tr>\n",
       "    <tr>\n",
       "      <th>2</th>\n",
       "      <td>10108-64-2</td>\n",
       "      <td>F</td>\n",
       "      <td>96.0</td>\n",
       "      <td>T</td>\n",
       "      <td>0.001</td>\n",
       "      <td>Actinopterygii</td>\n",
       "      <td>Salmoniformes</td>\n",
       "      <td>Salmonidae</td>\n",
       "      <td>Oncorhynchus</td>\n",
       "      <td>mykiss</td>\n",
       "      <td>0.273831</td>\n",
       "      <td>3</td>\n",
       "      <td>0</td>\n",
       "      <td>0</td>\n",
       "      <td>0.0</td>\n",
       "      <td>0.0</td>\n",
       "      <td>0.096146</td>\n",
       "      <td>0.666667</td>\n",
       "      <td>-5.9945</td>\n",
       "    </tr>\n",
       "    <tr>\n",
       "      <th>3</th>\n",
       "      <td>10108-64-2</td>\n",
       "      <td>S</td>\n",
       "      <td>96.0</td>\n",
       "      <td>T</td>\n",
       "      <td>15.900</td>\n",
       "      <td>Actinopterygii</td>\n",
       "      <td>Cyprinodontiformes</td>\n",
       "      <td>Cyprinodontidae</td>\n",
       "      <td>Cyprinodon</td>\n",
       "      <td>variegatus</td>\n",
       "      <td>0.273831</td>\n",
       "      <td>3</td>\n",
       "      <td>0</td>\n",
       "      <td>0</td>\n",
       "      <td>0.0</td>\n",
       "      <td>0.0</td>\n",
       "      <td>0.096146</td>\n",
       "      <td>0.666667</td>\n",
       "      <td>-5.9945</td>\n",
       "    </tr>\n",
       "    <tr>\n",
       "      <th>4</th>\n",
       "      <td>10108-64-2</td>\n",
       "      <td>F</td>\n",
       "      <td>694.0</td>\n",
       "      <td>T</td>\n",
       "      <td>0.030</td>\n",
       "      <td>Actinopterygii</td>\n",
       "      <td>Salmoniformes</td>\n",
       "      <td>Salmonidae</td>\n",
       "      <td>Oncorhynchus</td>\n",
       "      <td>mykiss</td>\n",
       "      <td>0.273831</td>\n",
       "      <td>3</td>\n",
       "      <td>0</td>\n",
       "      <td>0</td>\n",
       "      <td>0.0</td>\n",
       "      <td>0.0</td>\n",
       "      <td>0.096146</td>\n",
       "      <td>0.666667</td>\n",
       "      <td>-5.9945</td>\n",
       "    </tr>\n",
       "  </tbody>\n",
       "</table>\n",
       "</div>"
      ],
      "text/plain": [
       "     test_cas exposure_type  obs_duration_mean  ...       Mol  MorganDensity    LogP\n",
       "0  10108-64-2             S               48.0  ...  0.096146       0.666667 -5.9945\n",
       "1  10108-64-2             S               24.0  ...  0.096146       0.666667 -5.9945\n",
       "2  10108-64-2             F               96.0  ...  0.096146       0.666667 -5.9945\n",
       "3  10108-64-2             S               96.0  ...  0.096146       0.666667 -5.9945\n",
       "4  10108-64-2             F              694.0  ...  0.096146       0.666667 -5.9945\n",
       "\n",
       "[5 rows x 19 columns]"
      ]
     },
     "execution_count": 6,
     "metadata": {
      "tags": []
     },
     "output_type": "execute_result"
    }
   ],
   "source": [
    "base_db = pd.read_csv(\"/content/drive/My Drive/Colab Notebooks/data/ML_Project/use_db_sabato14.csv\")\n",
    "base_db.head()"
   ]
  },
  {
   "cell_type": "code",
   "execution_count": null,
   "metadata": {
    "colab": {},
    "colab_type": "code",
    "id": "h1xqbOoXFKw_"
   },
   "outputs": [],
   "source": [
    "base_db96 = base_db[base_db.obs_duration_mean.isin([24, 48, 72, 96])]"
   ]
  },
  {
   "cell_type": "code",
   "execution_count": null,
   "metadata": {
    "colab": {
     "base_uri": "https://localhost:8080/",
     "height": 204
    },
    "colab_type": "code",
    "id": "XF2TroEGBwSC",
    "outputId": "57f1922f-f798-4995-a1ed-8d8f341f29aa"
   },
   "outputs": [
    {
     "data": {
      "text/html": [
       "<div>\n",
       "<style scoped>\n",
       "    .dataframe tbody tr th:only-of-type {\n",
       "        vertical-align: middle;\n",
       "    }\n",
       "\n",
       "    .dataframe tbody tr th {\n",
       "        vertical-align: top;\n",
       "    }\n",
       "\n",
       "    .dataframe thead th {\n",
       "        text-align: right;\n",
       "    }\n",
       "</style>\n",
       "<table border=\"1\" class=\"dataframe\">\n",
       "  <thead>\n",
       "    <tr style=\"text-align: right;\">\n",
       "      <th></th>\n",
       "      <th>test_cas</th>\n",
       "      <th>species</th>\n",
       "      <th>conc1_mean</th>\n",
       "      <th>exposure_type</th>\n",
       "      <th>conc1_type</th>\n",
       "      <th>obs_duration_mean</th>\n",
       "    </tr>\n",
       "  </thead>\n",
       "  <tbody>\n",
       "    <tr>\n",
       "      <th>0</th>\n",
       "      <td>10108-64-2</td>\n",
       "      <td>auratus</td>\n",
       "      <td>46.900</td>\n",
       "      <td>S</td>\n",
       "      <td>T</td>\n",
       "      <td>48.0</td>\n",
       "    </tr>\n",
       "    <tr>\n",
       "      <th>1</th>\n",
       "      <td>10108-64-2</td>\n",
       "      <td>heteroclitus</td>\n",
       "      <td>200.000</td>\n",
       "      <td>S</td>\n",
       "      <td>T</td>\n",
       "      <td>24.0</td>\n",
       "    </tr>\n",
       "    <tr>\n",
       "      <th>2</th>\n",
       "      <td>10108-64-2</td>\n",
       "      <td>mykiss</td>\n",
       "      <td>0.001</td>\n",
       "      <td>F</td>\n",
       "      <td>T</td>\n",
       "      <td>96.0</td>\n",
       "    </tr>\n",
       "    <tr>\n",
       "      <th>3</th>\n",
       "      <td>10108-64-2</td>\n",
       "      <td>variegatus</td>\n",
       "      <td>15.900</td>\n",
       "      <td>S</td>\n",
       "      <td>T</td>\n",
       "      <td>96.0</td>\n",
       "    </tr>\n",
       "    <tr>\n",
       "      <th>4</th>\n",
       "      <td>10108-64-2</td>\n",
       "      <td>niloticus</td>\n",
       "      <td>19.919</td>\n",
       "      <td>R</td>\n",
       "      <td>T</td>\n",
       "      <td>96.0</td>\n",
       "    </tr>\n",
       "  </tbody>\n",
       "</table>\n",
       "</div>"
      ],
      "text/plain": [
       "     test_cas       species  ...  conc1_type obs_duration_mean\n",
       "0  10108-64-2       auratus  ...           T              48.0\n",
       "1  10108-64-2  heteroclitus  ...           T              24.0\n",
       "2  10108-64-2        mykiss  ...           T              96.0\n",
       "3  10108-64-2    variegatus  ...           T              96.0\n",
       "4  10108-64-2     niloticus  ...           T              96.0\n",
       "\n",
       "[5 rows x 6 columns]"
      ]
     },
     "execution_count": 8,
     "metadata": {
      "tags": []
     },
     "output_type": "execute_result"
    }
   ],
   "source": [
    "X_original = base_db96.copy()\n",
    "X_original = X_original[[\"test_cas\", \"species\", \"conc1_mean\", \"exposure_type\", \"conc1_type\", \"obs_duration_mean\"]].reset_index(drop=True)\n",
    "X_original.head()"
   ]
  },
  {
   "cell_type": "code",
   "execution_count": null,
   "metadata": {
    "colab": {
     "base_uri": "https://localhost:8080/",
     "height": 204
    },
    "colab_type": "code",
    "id": "OgnwrHItFFN1",
    "outputId": "9bc83042-e650-4c6e-a01c-e442a2701b50"
   },
   "outputs": [
    {
     "data": {
      "text/html": [
       "<div>\n",
       "<style scoped>\n",
       "    .dataframe tbody tr th:only-of-type {\n",
       "        vertical-align: middle;\n",
       "    }\n",
       "\n",
       "    .dataframe tbody tr th {\n",
       "        vertical-align: top;\n",
       "    }\n",
       "\n",
       "    .dataframe thead th {\n",
       "        text-align: right;\n",
       "    }\n",
       "</style>\n",
       "<table border=\"1\" class=\"dataframe\">\n",
       "  <thead>\n",
       "    <tr style=\"text-align: right;\">\n",
       "      <th></th>\n",
       "      <th>species</th>\n",
       "      <th>class</th>\n",
       "      <th>tax_order</th>\n",
       "      <th>family</th>\n",
       "      <th>genus</th>\n",
       "    </tr>\n",
       "  </thead>\n",
       "  <tbody>\n",
       "    <tr>\n",
       "      <th>0</th>\n",
       "      <td>auratus</td>\n",
       "      <td>Actinopterygii</td>\n",
       "      <td>Cypriniformes</td>\n",
       "      <td>Cyprinidae</td>\n",
       "      <td>Carassius</td>\n",
       "    </tr>\n",
       "    <tr>\n",
       "      <th>1</th>\n",
       "      <td>heteroclitus</td>\n",
       "      <td>Actinopterygii</td>\n",
       "      <td>Cyprinodontiformes</td>\n",
       "      <td>Cyprinodontidae</td>\n",
       "      <td>Fundulus</td>\n",
       "    </tr>\n",
       "    <tr>\n",
       "      <th>2</th>\n",
       "      <td>mykiss</td>\n",
       "      <td>Actinopterygii</td>\n",
       "      <td>Salmoniformes</td>\n",
       "      <td>Salmonidae</td>\n",
       "      <td>Oncorhynchus</td>\n",
       "    </tr>\n",
       "    <tr>\n",
       "      <th>3</th>\n",
       "      <td>variegatus</td>\n",
       "      <td>Actinopterygii</td>\n",
       "      <td>Cyprinodontiformes</td>\n",
       "      <td>Cyprinodontidae</td>\n",
       "      <td>Cyprinodon</td>\n",
       "    </tr>\n",
       "    <tr>\n",
       "      <th>4</th>\n",
       "      <td>niloticus</td>\n",
       "      <td>Actinopterygii</td>\n",
       "      <td>Perciformes</td>\n",
       "      <td>Cichlidae</td>\n",
       "      <td>Oreochromis</td>\n",
       "    </tr>\n",
       "  </tbody>\n",
       "</table>\n",
       "</div>"
      ],
      "text/plain": [
       "        species           class  ...           family         genus\n",
       "0       auratus  Actinopterygii  ...       Cyprinidae     Carassius\n",
       "1  heteroclitus  Actinopterygii  ...  Cyprinodontidae      Fundulus\n",
       "2        mykiss  Actinopterygii  ...       Salmonidae  Oncorhynchus\n",
       "3    variegatus  Actinopterygii  ...  Cyprinodontidae    Cyprinodon\n",
       "4     niloticus  Actinopterygii  ...        Cichlidae   Oreochromis\n",
       "\n",
       "[5 rows x 5 columns]"
      ]
     },
     "execution_count": 9,
     "metadata": {
      "tags": []
     },
     "output_type": "execute_result"
    }
   ],
   "source": [
    "X_side_species = base_db96.copy()\n",
    "X_side_species = X_side_species[[\"species\", \"class\", \"tax_order\", \"family\", \"genus\"]]\n",
    "X_side_species = X_side_species.drop_duplicates(subset=\"species\").reset_index(drop=True)\n",
    "X_side_species.head()"
   ]
  },
  {
   "cell_type": "code",
   "execution_count": null,
   "metadata": {
    "colab": {
     "base_uri": "https://localhost:8080/",
     "height": 204
    },
    "colab_type": "code",
    "id": "XlMieM_tIOIs",
    "outputId": "093b9707-f637-4927-9dfc-638623e90336"
   },
   "outputs": [
    {
     "data": {
      "text/html": [
       "<div>\n",
       "<style scoped>\n",
       "    .dataframe tbody tr th:only-of-type {\n",
       "        vertical-align: middle;\n",
       "    }\n",
       "\n",
       "    .dataframe tbody tr th {\n",
       "        vertical-align: top;\n",
       "    }\n",
       "\n",
       "    .dataframe thead th {\n",
       "        text-align: right;\n",
       "    }\n",
       "</style>\n",
       "<table border=\"1\" class=\"dataframe\">\n",
       "  <thead>\n",
       "    <tr style=\"text-align: right;\">\n",
       "      <th></th>\n",
       "      <th>test_cas</th>\n",
       "      <th>alone_atom_number</th>\n",
       "      <th>tripleBond</th>\n",
       "      <th>doubleBond</th>\n",
       "      <th>ring_numer</th>\n",
       "    </tr>\n",
       "  </thead>\n",
       "  <tbody>\n",
       "    <tr>\n",
       "      <th>0</th>\n",
       "      <td>10108-64-2</td>\n",
       "      <td>3</td>\n",
       "      <td>0</td>\n",
       "      <td>0</td>\n",
       "      <td>0.0</td>\n",
       "    </tr>\n",
       "    <tr>\n",
       "      <th>1</th>\n",
       "      <td>88-30-2</td>\n",
       "      <td>2</td>\n",
       "      <td>0</td>\n",
       "      <td>1</td>\n",
       "      <td>1.0</td>\n",
       "    </tr>\n",
       "    <tr>\n",
       "      <th>2</th>\n",
       "      <td>1397-94-0</td>\n",
       "      <td>5</td>\n",
       "      <td>0</td>\n",
       "      <td>5</td>\n",
       "      <td>2.0</td>\n",
       "    </tr>\n",
       "    <tr>\n",
       "      <th>3</th>\n",
       "      <td>540-72-7</td>\n",
       "      <td>2</td>\n",
       "      <td>1</td>\n",
       "      <td>0</td>\n",
       "      <td>0.0</td>\n",
       "    </tr>\n",
       "    <tr>\n",
       "      <th>4</th>\n",
       "      <td>72-43-5</td>\n",
       "      <td>0</td>\n",
       "      <td>0</td>\n",
       "      <td>0</td>\n",
       "      <td>2.0</td>\n",
       "    </tr>\n",
       "  </tbody>\n",
       "</table>\n",
       "</div>"
      ],
      "text/plain": [
       "     test_cas  alone_atom_number  tripleBond  doubleBond  ring_numer\n",
       "0  10108-64-2                  3           0           0         0.0\n",
       "1     88-30-2                  2           0           1         1.0\n",
       "2   1397-94-0                  5           0           5         2.0\n",
       "3    540-72-7                  2           1           0         0.0\n",
       "4     72-43-5                  0           0           0         2.0"
      ]
     },
     "execution_count": 10,
     "metadata": {
      "tags": []
     },
     "output_type": "execute_result"
    }
   ],
   "source": [
    "X_side_cas = base_db96.copy()\n",
    "X_side_cas = X_side_cas[[\"test_cas\", \"alone_atom_number\", \"tripleBond\", \"doubleBond\", \"ring_numer\"]]\n",
    "X_side_cas = X_side_cas.drop_duplicates(subset=\"test_cas\").reset_index(drop=True)\n",
    "X_side_cas = X_side_cas.dropna()\n",
    "X_side_cas.head()"
   ]
  },
  {
   "cell_type": "code",
   "execution_count": null,
   "metadata": {
    "colab": {
     "base_uri": "https://localhost:8080/",
     "height": 34
    },
    "colab_type": "code",
    "id": "6511-aqor8qp",
    "outputId": "fcdbd493-2886-46f6-8513-d62cc283e80f"
   },
   "outputs": [
    {
     "data": {
      "text/plain": [
       "45775"
      ]
     },
     "execution_count": 11,
     "metadata": {
      "tags": []
     },
     "output_type": "execute_result"
    }
   ],
   "source": [
    "X_original.index.size"
   ]
  },
  {
   "cell_type": "code",
   "execution_count": null,
   "metadata": {
    "colab": {},
    "colab_type": "code",
    "id": "YyTx2k1nCVwF"
   },
   "outputs": [],
   "source": [
    "X_original = X_original.groupby(by=[\"test_cas\", \"species\", \"conc1_type\", \"exposure_type\", \"obs_duration_mean\"]).agg(\"median\").reset_index()\n",
    "X_original[\"score\"] = np.where(X_original.conc1_mean > 1, 1, 0)"
   ]
  },
  {
   "cell_type": "code",
   "execution_count": null,
   "metadata": {
    "colab": {
     "base_uri": "https://localhost:8080/",
     "height": 34
    },
    "colab_type": "code",
    "id": "pYVEIYTYQ5BM",
    "outputId": "23441a83-3ba0-49f2-a1d7-6fe712831eba"
   },
   "outputs": [
    {
     "data": {
      "text/plain": [
       "23332"
      ]
     },
     "execution_count": 13,
     "metadata": {
      "tags": []
     },
     "output_type": "execute_result"
    }
   ],
   "source": [
    "X_original.index.size"
   ]
  },
  {
   "cell_type": "code",
   "execution_count": null,
   "metadata": {
    "colab": {},
    "colab_type": "code",
    "id": "HpTfXUIFPuqD"
   },
   "outputs": [],
   "source": [
    "enc_species = OrdinalEncoder(dtype=int)\n",
    "enc_species.fit(X_original.species.values.reshape(-1, 1))\n",
    "enc_cas = OrdinalEncoder(dtype=int)\n",
    "enc_cas.fit(X_original.test_cas.values.reshape(-1,1))\n",
    "\n",
    "X_original[\"species\"] = enc_species.transform(X_original.species.values.reshape(-1,1))\n",
    "X_original[\"test_cas\"] = enc_cas.transform(X_original.test_cas.values.reshape(-1,1))\n",
    "X_side_species[\"species\"] = enc_species.transform(X_side_species.species.values.reshape(-1,1))\n",
    "X_side_cas[\"test_cas\"] = enc_cas.transform(X_side_cas.test_cas.values.reshape(-1,1))\n",
    "\n",
    "X_fact = X_original.drop(columns=[\"conc1_mean\"]).reset_index(drop=True)"
   ]
  },
  {
   "cell_type": "code",
   "execution_count": null,
   "metadata": {
    "colab": {
     "base_uri": "https://localhost:8080/",
     "height": 279
    },
    "colab_type": "code",
    "id": "zjhV3QpYXqu-",
    "outputId": "36f03bbe-33b5-411a-c022-ab0ad5f67ca4"
   },
   "outputs": [
    {
     "data": {
      "image/png": "[encoded data removed]",
      "text/plain": [
       "<Figure size 432x288 with 1 Axes>"
      ]
     },
     "metadata": {
      "tags": []
     },
     "output_type": "display_data"
    }
   ],
   "source": [
    "X_fact_scored = X_fact.copy()\n",
    "#X_fact_scored.score = X_fact_scored.score.apply(lambda x: np.log(x))\n",
    "\n",
    "# plotting the distribution of conc inside this case\n",
    "X_fact_scored.score.hist(bins=100)\n",
    "#plt.yscale('log')\n",
    "plt.xlabel(\"score\")\n",
    "plt.ylabel(\"Count\");"
   ]
  },
  {
   "cell_type": "markdown",
   "metadata": {
    "colab_type": "text",
    "id": "Juu0yWAXRRh_"
   },
   "source": [
    "# Basic tests"
   ]
  },
  {
   "cell_type": "code",
   "execution_count": null,
   "metadata": {
    "colab": {
     "base_uri": "https://localhost:8080/",
     "height": 279
    },
    "colab_type": "code",
    "id": "2Psp7--dB-cN",
    "outputId": "74016b44-60f2-4746-fb10-16089138bd08"
   },
   "outputs": [
    {
     "data": {
      "text/html": [
       "<div style=\"max-height:1000px;max-width:1500px;overflow:auto;\"><table frame=\"box\" rules=\"cols\">\n",
       "    <tr>\n",
       "        <th style=\"padding-left: 1em; padding-right: 1em; text-align: center\">test_cas</th>\n",
       "        <th style=\"padding-left: 1em; padding-right: 1em; text-align: center\">species</th>\n",
       "        <th style=\"padding-left: 1em; padding-right: 1em; text-align: center\">conc1_type</th>\n",
       "        <th style=\"padding-left: 1em; padding-right: 1em; text-align: center\">exposure_type</th>\n",
       "        <th style=\"padding-left: 1em; padding-right: 1em; text-align: center\">obs_duration_mean</th>\n",
       "        <th style=\"padding-left: 1em; padding-right: 1em; text-align: center\">score</th>\n",
       "    </tr>\n",
       "    <tr>\n",
       "        <td style=\"padding-left: 1em; padding-right: 1em; text-align: center; vertical-align: top\">0</td>\n",
       "        <td style=\"padding-left: 1em; padding-right: 1em; text-align: center; vertical-align: top\">378</td>\n",
       "        <td style=\"padding-left: 1em; padding-right: 1em; text-align: center; vertical-align: top\">F</td>\n",
       "        <td style=\"padding-left: 1em; padding-right: 1em; text-align: center; vertical-align: top\">F</td>\n",
       "        <td style=\"padding-left: 1em; padding-right: 1em; text-align: center; vertical-align: top\">48.0</td>\n",
       "        <td style=\"padding-left: 1em; padding-right: 1em; text-align: center; vertical-align: top\">1</td>\n",
       "    </tr>\n",
       "    <tr>\n",
       "        <td style=\"padding-left: 1em; padding-right: 1em; text-align: center; vertical-align: top\">0</td>\n",
       "        <td style=\"padding-left: 1em; padding-right: 1em; text-align: center; vertical-align: top\">378</td>\n",
       "        <td style=\"padding-left: 1em; padding-right: 1em; text-align: center; vertical-align: top\">F</td>\n",
       "        <td style=\"padding-left: 1em; padding-right: 1em; text-align: center; vertical-align: top\">F</td>\n",
       "        <td style=\"padding-left: 1em; padding-right: 1em; text-align: center; vertical-align: top\">96.0</td>\n",
       "        <td style=\"padding-left: 1em; padding-right: 1em; text-align: center; vertical-align: top\">1</td>\n",
       "    </tr>\n",
       "    <tr>\n",
       "        <td style=\"padding-left: 1em; padding-right: 1em; text-align: center; vertical-align: top\">1</td>\n",
       "        <td style=\"padding-left: 1em; padding-right: 1em; text-align: center; vertical-align: top\">217</td>\n",
       "        <td style=\"padding-left: 1em; padding-right: 1em; text-align: center; vertical-align: top\">F</td>\n",
       "        <td style=\"padding-left: 1em; padding-right: 1em; text-align: center; vertical-align: top\">AQUA</td>\n",
       "        <td style=\"padding-left: 1em; padding-right: 1em; text-align: center; vertical-align: top\">48.0</td>\n",
       "        <td style=\"padding-left: 1em; padding-right: 1em; text-align: center; vertical-align: top\">1</td>\n",
       "    </tr>\n",
       "    <tr>\n",
       "        <td style=\"padding-left: 1em; padding-right: 1em; text-align: center; vertical-align: top\">1</td>\n",
       "        <td style=\"padding-left: 1em; padding-right: 1em; text-align: center; vertical-align: top\">236</td>\n",
       "        <td style=\"padding-left: 1em; padding-right: 1em; text-align: center; vertical-align: top\">A</td>\n",
       "        <td style=\"padding-left: 1em; padding-right: 1em; text-align: center; vertical-align: top\">S</td>\n",
       "        <td style=\"padding-left: 1em; padding-right: 1em; text-align: center; vertical-align: top\">24.0</td>\n",
       "        <td style=\"padding-left: 1em; padding-right: 1em; text-align: center; vertical-align: top\">1</td>\n",
       "    </tr>\n",
       "    <tr>\n",
       "        <td style=\"padding-left: 1em; padding-right: 1em; text-align: center; vertical-align: top\">1</td>\n",
       "        <td style=\"padding-left: 1em; padding-right: 1em; text-align: center; vertical-align: top\">236</td>\n",
       "        <td style=\"padding-left: 1em; padding-right: 1em; text-align: center; vertical-align: top\">A</td>\n",
       "        <td style=\"padding-left: 1em; padding-right: 1em; text-align: center; vertical-align: top\">S</td>\n",
       "        <td style=\"padding-left: 1em; padding-right: 1em; text-align: center; vertical-align: top\">48.0</td>\n",
       "        <td style=\"padding-left: 1em; padding-right: 1em; text-align: center; vertical-align: top\">1</td>\n",
       "    </tr>\n",
       "    <tr>\n",
       "        <td style=\"padding-left: 1em; padding-right: 1em; text-align: center; vertical-align: top\">1</td>\n",
       "        <td style=\"padding-left: 1em; padding-right: 1em; text-align: center; vertical-align: top\">256</td>\n",
       "        <td style=\"padding-left: 1em; padding-right: 1em; text-align: center; vertical-align: top\">A</td>\n",
       "        <td style=\"padding-left: 1em; padding-right: 1em; text-align: center; vertical-align: top\">S</td>\n",
       "        <td style=\"padding-left: 1em; padding-right: 1em; text-align: center; vertical-align: top\">24.0</td>\n",
       "        <td style=\"padding-left: 1em; padding-right: 1em; text-align: center; vertical-align: top\">1</td>\n",
       "    </tr>\n",
       "    <tr>\n",
       "        <td style=\"padding-left: 1em; padding-right: 1em; text-align: center; vertical-align: top\">1</td>\n",
       "        <td style=\"padding-left: 1em; padding-right: 1em; text-align: center; vertical-align: top\">256</td>\n",
       "        <td style=\"padding-left: 1em; padding-right: 1em; text-align: center; vertical-align: top\">A</td>\n",
       "        <td style=\"padding-left: 1em; padding-right: 1em; text-align: center; vertical-align: top\">S</td>\n",
       "        <td style=\"padding-left: 1em; padding-right: 1em; text-align: center; vertical-align: top\">48.0</td>\n",
       "        <td style=\"padding-left: 1em; padding-right: 1em; text-align: center; vertical-align: top\">1</td>\n",
       "    </tr>\n",
       "    <tr>\n",
       "        <td style=\"padding-left: 1em; padding-right: 1em; text-align: center; vertical-align: top\">1</td>\n",
       "        <td style=\"padding-left: 1em; padding-right: 1em; text-align: center; vertical-align: top\">256</td>\n",
       "        <td style=\"padding-left: 1em; padding-right: 1em; text-align: center; vertical-align: top\">A</td>\n",
       "        <td style=\"padding-left: 1em; padding-right: 1em; text-align: center; vertical-align: top\">S</td>\n",
       "        <td style=\"padding-left: 1em; padding-right: 1em; text-align: center; vertical-align: top\">96.0</td>\n",
       "        <td style=\"padding-left: 1em; padding-right: 1em; text-align: center; vertical-align: top\">1</td>\n",
       "    </tr>\n",
       "    <tr>\n",
       "        <td style=\"padding-left: 1em; padding-right: 1em; text-align: center; vertical-align: top\">1</td>\n",
       "        <td style=\"padding-left: 1em; padding-right: 1em; text-align: center; vertical-align: top\">306</td>\n",
       "        <td style=\"padding-left: 1em; padding-right: 1em; text-align: center; vertical-align: top\">A</td>\n",
       "        <td style=\"padding-left: 1em; padding-right: 1em; text-align: center; vertical-align: top\">S</td>\n",
       "        <td style=\"padding-left: 1em; padding-right: 1em; text-align: center; vertical-align: top\">24.0</td>\n",
       "        <td style=\"padding-left: 1em; padding-right: 1em; text-align: center; vertical-align: top\">1</td>\n",
       "    </tr>\n",
       "    <tr>\n",
       "        <td style=\"padding-left: 1em; padding-right: 1em; text-align: center; vertical-align: top\">1</td>\n",
       "        <td style=\"padding-left: 1em; padding-right: 1em; text-align: center; vertical-align: top\">306</td>\n",
       "        <td style=\"padding-left: 1em; padding-right: 1em; text-align: center; vertical-align: top\">A</td>\n",
       "        <td style=\"padding-left: 1em; padding-right: 1em; text-align: center; vertical-align: top\">S</td>\n",
       "        <td style=\"padding-left: 1em; padding-right: 1em; text-align: center; vertical-align: top\">48.0</td>\n",
       "        <td style=\"padding-left: 1em; padding-right: 1em; text-align: center; vertical-align: top\">1</td>\n",
       "    </tr>\n",
       "</table>\n",
       "[23332 rows x 6 columns]<br/>Note: Only the head of the SFrame is printed.<br/>You can use print_rows(num_rows=m, num_columns=n) to print more rows and columns.\n",
       "</div>"
      ],
      "text/plain": [
       "Columns:\n",
       "\ttest_cas\tint\n",
       "\tspecies\tint\n",
       "\tconc1_type\tstr\n",
       "\texposure_type\tstr\n",
       "\tobs_duration_mean\tfloat\n",
       "\tscore\tint\n",
       "\n",
       "Rows: 23332\n",
       "\n",
       "Data:\n",
       "+----------+---------+------------+---------------+-------------------+-------+\n",
       "| test_cas | species | conc1_type | exposure_type | obs_duration_mean | score |\n",
       "+----------+---------+------------+---------------+-------------------+-------+\n",
       "|    0     |   378   |     F      |       F       |        48.0       |   1   |\n",
       "|    0     |   378   |     F      |       F       |        96.0       |   1   |\n",
       "|    1     |   217   |     F      |      AQUA     |        48.0       |   1   |\n",
       "|    1     |   236   |     A      |       S       |        24.0       |   1   |\n",
       "|    1     |   236   |     A      |       S       |        48.0       |   1   |\n",
       "|    1     |   256   |     A      |       S       |        24.0       |   1   |\n",
       "|    1     |   256   |     A      |       S       |        48.0       |   1   |\n",
       "|    1     |   256   |     A      |       S       |        96.0       |   1   |\n",
       "|    1     |   306   |     A      |       S       |        24.0       |   1   |\n",
       "|    1     |   306   |     A      |       S       |        48.0       |   1   |\n",
       "+----------+---------+------------+---------------+-------------------+-------+\n",
       "[23332 rows x 6 columns]\n",
       "Note: Only the head of the SFrame is printed.\n",
       "You can use print_rows(num_rows=m, num_columns=n) to print more rows and columns."
      ]
     },
     "execution_count": 16,
     "metadata": {
      "tags": []
     },
     "output_type": "execute_result"
    }
   ],
   "source": [
    "X = tc.SFrame(X_fact_scored)\n",
    "X"
   ]
  },
  {
   "cell_type": "code",
   "execution_count": null,
   "metadata": {
    "colab": {
     "base_uri": "https://localhost:8080/",
     "height": 279
    },
    "colab_type": "code",
    "id": "Wcosp9z_Slqe",
    "outputId": "185b60a4-729a-4444-e90f-49ef5169dbf7"
   },
   "outputs": [
    {
     "data": {
      "text/html": [
       "<div style=\"max-height:1000px;max-width:1500px;overflow:auto;\"><table frame=\"box\" rules=\"cols\">\n",
       "    <tr>\n",
       "        <th style=\"padding-left: 1em; padding-right: 1em; text-align: center\">test_cas</th>\n",
       "        <th style=\"padding-left: 1em; padding-right: 1em; text-align: center\">alone_atom_number</th>\n",
       "        <th style=\"padding-left: 1em; padding-right: 1em; text-align: center\">tripleBond</th>\n",
       "        <th style=\"padding-left: 1em; padding-right: 1em; text-align: center\">doubleBond</th>\n",
       "        <th style=\"padding-left: 1em; padding-right: 1em; text-align: center\">ring_numer</th>\n",
       "    </tr>\n",
       "    <tr>\n",
       "        <td style=\"padding-left: 1em; padding-right: 1em; text-align: center; vertical-align: top\">52</td>\n",
       "        <td style=\"padding-left: 1em; padding-right: 1em; text-align: center; vertical-align: top\">3</td>\n",
       "        <td style=\"padding-left: 1em; padding-right: 1em; text-align: center; vertical-align: top\">0</td>\n",
       "        <td style=\"padding-left: 1em; padding-right: 1em; text-align: center; vertical-align: top\">0</td>\n",
       "        <td style=\"padding-left: 1em; padding-right: 1em; text-align: center; vertical-align: top\">0.0</td>\n",
       "    </tr>\n",
       "    <tr>\n",
       "        <td style=\"padding-left: 1em; padding-right: 1em; text-align: center; vertical-align: top\">2424</td>\n",
       "        <td style=\"padding-left: 1em; padding-right: 1em; text-align: center; vertical-align: top\">2</td>\n",
       "        <td style=\"padding-left: 1em; padding-right: 1em; text-align: center; vertical-align: top\">0</td>\n",
       "        <td style=\"padding-left: 1em; padding-right: 1em; text-align: center; vertical-align: top\">1</td>\n",
       "        <td style=\"padding-left: 1em; padding-right: 1em; text-align: center; vertical-align: top\">1.0</td>\n",
       "    </tr>\n",
       "    <tr>\n",
       "        <td style=\"padding-left: 1em; padding-right: 1em; text-align: center; vertical-align: top\">642</td>\n",
       "        <td style=\"padding-left: 1em; padding-right: 1em; text-align: center; vertical-align: top\">5</td>\n",
       "        <td style=\"padding-left: 1em; padding-right: 1em; text-align: center; vertical-align: top\">0</td>\n",
       "        <td style=\"padding-left: 1em; padding-right: 1em; text-align: center; vertical-align: top\">5</td>\n",
       "        <td style=\"padding-left: 1em; padding-right: 1em; text-align: center; vertical-align: top\">2.0</td>\n",
       "    </tr>\n",
       "    <tr>\n",
       "        <td style=\"padding-left: 1em; padding-right: 1em; text-align: center; vertical-align: top\">1583</td>\n",
       "        <td style=\"padding-left: 1em; padding-right: 1em; text-align: center; vertical-align: top\">2</td>\n",
       "        <td style=\"padding-left: 1em; padding-right: 1em; text-align: center; vertical-align: top\">1</td>\n",
       "        <td style=\"padding-left: 1em; padding-right: 1em; text-align: center; vertical-align: top\">0</td>\n",
       "        <td style=\"padding-left: 1em; padding-right: 1em; text-align: center; vertical-align: top\">0.0</td>\n",
       "    </tr>\n",
       "    <tr>\n",
       "        <td style=\"padding-left: 1em; padding-right: 1em; text-align: center; vertical-align: top\">2020</td>\n",
       "        <td style=\"padding-left: 1em; padding-right: 1em; text-align: center; vertical-align: top\">0</td>\n",
       "        <td style=\"padding-left: 1em; padding-right: 1em; text-align: center; vertical-align: top\">0</td>\n",
       "        <td style=\"padding-left: 1em; padding-right: 1em; text-align: center; vertical-align: top\">0</td>\n",
       "        <td style=\"padding-left: 1em; padding-right: 1em; text-align: center; vertical-align: top\">2.0</td>\n",
       "    </tr>\n",
       "    <tr>\n",
       "        <td style=\"padding-left: 1em; padding-right: 1em; text-align: center; vertical-align: top\">1178</td>\n",
       "        <td style=\"padding-left: 1em; padding-right: 1em; text-align: center; vertical-align: top\">1</td>\n",
       "        <td style=\"padding-left: 1em; padding-right: 1em; text-align: center; vertical-align: top\">0</td>\n",
       "        <td style=\"padding-left: 1em; padding-right: 1em; text-align: center; vertical-align: top\">1</td>\n",
       "        <td style=\"padding-left: 1em; padding-right: 1em; text-align: center; vertical-align: top\">1.0</td>\n",
       "    </tr>\n",
       "    <tr>\n",
       "        <td style=\"padding-left: 1em; padding-right: 1em; text-align: center; vertical-align: top\">908</td>\n",
       "        <td style=\"padding-left: 1em; padding-right: 1em; text-align: center; vertical-align: top\">0</td>\n",
       "        <td style=\"padding-left: 1em; padding-right: 1em; text-align: center; vertical-align: top\">0</td>\n",
       "        <td style=\"padding-left: 1em; padding-right: 1em; text-align: center; vertical-align: top\">4</td>\n",
       "        <td style=\"padding-left: 1em; padding-right: 1em; text-align: center; vertical-align: top\">0.0</td>\n",
       "    </tr>\n",
       "    <tr>\n",
       "        <td style=\"padding-left: 1em; padding-right: 1em; text-align: center; vertical-align: top\">2192</td>\n",
       "        <td style=\"padding-left: 1em; padding-right: 1em; text-align: center; vertical-align: top\">5</td>\n",
       "        <td style=\"padding-left: 1em; padding-right: 1em; text-align: center; vertical-align: top\">0</td>\n",
       "        <td style=\"padding-left: 1em; padding-right: 1em; text-align: center; vertical-align: top\">2</td>\n",
       "        <td style=\"padding-left: 1em; padding-right: 1em; text-align: center; vertical-align: top\">0.0</td>\n",
       "    </tr>\n",
       "    <tr>\n",
       "        <td style=\"padding-left: 1em; padding-right: 1em; text-align: center; vertical-align: top\">2200</td>\n",
       "        <td style=\"padding-left: 1em; padding-right: 1em; text-align: center; vertical-align: top\">4</td>\n",
       "        <td style=\"padding-left: 1em; padding-right: 1em; text-align: center; vertical-align: top\">0</td>\n",
       "        <td style=\"padding-left: 1em; padding-right: 1em; text-align: center; vertical-align: top\">2</td>\n",
       "        <td style=\"padding-left: 1em; padding-right: 1em; text-align: center; vertical-align: top\">0.0</td>\n",
       "    </tr>\n",
       "    <tr>\n",
       "        <td style=\"padding-left: 1em; padding-right: 1em; text-align: center; vertical-align: top\">2412</td>\n",
       "        <td style=\"padding-left: 1em; padding-right: 1em; text-align: center; vertical-align: top\">0</td>\n",
       "        <td style=\"padding-left: 1em; padding-right: 1em; text-align: center; vertical-align: top\">0</td>\n",
       "        <td style=\"padding-left: 1em; padding-right: 1em; text-align: center; vertical-align: top\">0</td>\n",
       "        <td style=\"padding-left: 1em; padding-right: 1em; text-align: center; vertical-align: top\">1.0</td>\n",
       "    </tr>\n",
       "</table>\n",
       "[2621 rows x 5 columns]<br/>Note: Only the head of the SFrame is printed.<br/>You can use print_rows(num_rows=m, num_columns=n) to print more rows and columns.\n",
       "</div>"
      ],
      "text/plain": [
       "Columns:\n",
       "\ttest_cas\tint\n",
       "\talone_atom_number\tint\n",
       "\ttripleBond\tint\n",
       "\tdoubleBond\tint\n",
       "\tring_numer\tfloat\n",
       "\n",
       "Rows: 2621\n",
       "\n",
       "Data:\n",
       "+----------+-------------------+------------+------------+------------+\n",
       "| test_cas | alone_atom_number | tripleBond | doubleBond | ring_numer |\n",
       "+----------+-------------------+------------+------------+------------+\n",
       "|    52    |         3         |     0      |     0      |    0.0     |\n",
       "|   2424   |         2         |     0      |     1      |    1.0     |\n",
       "|   642    |         5         |     0      |     5      |    2.0     |\n",
       "|   1583   |         2         |     1      |     0      |    0.0     |\n",
       "|   2020   |         0         |     0      |     0      |    2.0     |\n",
       "|   1178   |         1         |     0      |     1      |    1.0     |\n",
       "|   908    |         0         |     0      |     4      |    0.0     |\n",
       "|   2192   |         5         |     0      |     2      |    0.0     |\n",
       "|   2200   |         4         |     0      |     2      |    0.0     |\n",
       "|   2412   |         0         |     0      |     0      |    1.0     |\n",
       "+----------+-------------------+------------+------------+------------+\n",
       "[2621 rows x 5 columns]\n",
       "Note: Only the head of the SFrame is printed.\n",
       "You can use print_rows(num_rows=m, num_columns=n) to print more rows and columns."
      ]
     },
     "execution_count": 17,
     "metadata": {
      "tags": []
     },
     "output_type": "execute_result"
    }
   ],
   "source": [
    "X_cas = tc.SFrame(X_side_cas)\n",
    "X_cas"
   ]
  },
  {
   "cell_type": "code",
   "execution_count": null,
   "metadata": {
    "colab": {
     "base_uri": "https://localhost:8080/",
     "height": 279
    },
    "colab_type": "code",
    "id": "_kOmwr1QSuBc",
    "outputId": "07c3e928-8b60-4425-fdb9-fb61ce734da3"
   },
   "outputs": [
    {
     "data": {
      "text/html": [
       "<div style=\"max-height:1000px;max-width:1500px;overflow:auto;\"><table frame=\"box\" rules=\"cols\">\n",
       "    <tr>\n",
       "        <th style=\"padding-left: 1em; padding-right: 1em; text-align: center\">species</th>\n",
       "        <th style=\"padding-left: 1em; padding-right: 1em; text-align: center\">class</th>\n",
       "        <th style=\"padding-left: 1em; padding-right: 1em; text-align: center\">tax_order</th>\n",
       "        <th style=\"padding-left: 1em; padding-right: 1em; text-align: center\">family</th>\n",
       "        <th style=\"padding-left: 1em; padding-right: 1em; text-align: center\">genus</th>\n",
       "    </tr>\n",
       "    <tr>\n",
       "        <td style=\"padding-left: 1em; padding-right: 1em; text-align: center; vertical-align: top\">39</td>\n",
       "        <td style=\"padding-left: 1em; padding-right: 1em; text-align: center; vertical-align: top\">Actinopterygii</td>\n",
       "        <td style=\"padding-left: 1em; padding-right: 1em; text-align: center; vertical-align: top\">Cypriniformes</td>\n",
       "        <td style=\"padding-left: 1em; padding-right: 1em; text-align: center; vertical-align: top\">Cyprinidae</td>\n",
       "        <td style=\"padding-left: 1em; padding-right: 1em; text-align: center; vertical-align: top\">Carassius</td>\n",
       "    </tr>\n",
       "    <tr>\n",
       "        <td style=\"padding-left: 1em; padding-right: 1em; text-align: center; vertical-align: top\">203</td>\n",
       "        <td style=\"padding-left: 1em; padding-right: 1em; text-align: center; vertical-align: top\">Actinopterygii</td>\n",
       "        <td style=\"padding-left: 1em; padding-right: 1em; text-align: center; vertical-align: top\">Cyprinodontiformes</td>\n",
       "        <td style=\"padding-left: 1em; padding-right: 1em; text-align: center; vertical-align: top\">Cyprinodontidae</td>\n",
       "        <td style=\"padding-left: 1em; padding-right: 1em; text-align: center; vertical-align: top\">Fundulus</td>\n",
       "    </tr>\n",
       "    <tr>\n",
       "        <td style=\"padding-left: 1em; padding-right: 1em; text-align: center; vertical-align: top\">306</td>\n",
       "        <td style=\"padding-left: 1em; padding-right: 1em; text-align: center; vertical-align: top\">Actinopterygii</td>\n",
       "        <td style=\"padding-left: 1em; padding-right: 1em; text-align: center; vertical-align: top\">Salmoniformes</td>\n",
       "        <td style=\"padding-left: 1em; padding-right: 1em; text-align: center; vertical-align: top\">Salmonidae</td>\n",
       "        <td style=\"padding-left: 1em; padding-right: 1em; text-align: center; vertical-align: top\">Oncorhynchus</td>\n",
       "    </tr>\n",
       "    <tr>\n",
       "        <td style=\"padding-left: 1em; padding-right: 1em; text-align: center; vertical-align: top\">460</td>\n",
       "        <td style=\"padding-left: 1em; padding-right: 1em; text-align: center; vertical-align: top\">Actinopterygii</td>\n",
       "        <td style=\"padding-left: 1em; padding-right: 1em; text-align: center; vertical-align: top\">Cyprinodontiformes</td>\n",
       "        <td style=\"padding-left: 1em; padding-right: 1em; text-align: center; vertical-align: top\">Cyprinodontidae</td>\n",
       "        <td style=\"padding-left: 1em; padding-right: 1em; text-align: center; vertical-align: top\">Cyprinodon</td>\n",
       "    </tr>\n",
       "    <tr>\n",
       "        <td style=\"padding-left: 1em; padding-right: 1em; text-align: center; vertical-align: top\">320</td>\n",
       "        <td style=\"padding-left: 1em; padding-right: 1em; text-align: center; vertical-align: top\">Actinopterygii</td>\n",
       "        <td style=\"padding-left: 1em; padding-right: 1em; text-align: center; vertical-align: top\">Perciformes</td>\n",
       "        <td style=\"padding-left: 1em; padding-right: 1em; text-align: center; vertical-align: top\">Cichlidae</td>\n",
       "        <td style=\"padding-left: 1em; padding-right: 1em; text-align: center; vertical-align: top\">Oreochromis</td>\n",
       "    </tr>\n",
       "    <tr>\n",
       "        <td style=\"padding-left: 1em; padding-right: 1em; text-align: center; vertical-align: top\">220</td>\n",
       "        <td style=\"padding-left: 1em; padding-right: 1em; text-align: center; vertical-align: top\">Actinopterygii</td>\n",
       "        <td style=\"padding-left: 1em; padding-right: 1em; text-align: center; vertical-align: top\">Anguilliformes</td>\n",
       "        <td style=\"padding-left: 1em; padding-right: 1em; text-align: center; vertical-align: top\">Anguillidae</td>\n",
       "        <td style=\"padding-left: 1em; padding-right: 1em; text-align: center; vertical-align: top\">Anguilla</td>\n",
       "    </tr>\n",
       "    <tr>\n",
       "        <td style=\"padding-left: 1em; padding-right: 1em; text-align: center; vertical-align: top\">109</td>\n",
       "        <td style=\"padding-left: 1em; padding-right: 1em; text-align: center; vertical-align: top\">Actinopterygii</td>\n",
       "        <td style=\"padding-left: 1em; padding-right: 1em; text-align: center; vertical-align: top\">Salmoniformes</td>\n",
       "        <td style=\"padding-left: 1em; padding-right: 1em; text-align: center; vertical-align: top\">Salmonidae</td>\n",
       "        <td style=\"padding-left: 1em; padding-right: 1em; text-align: center; vertical-align: top\">Salvelinus</td>\n",
       "    </tr>\n",
       "    <tr>\n",
       "        <td style=\"padding-left: 1em; padding-right: 1em; text-align: center; vertical-align: top\">92</td>\n",
       "        <td style=\"padding-left: 1em; padding-right: 1em; text-align: center; vertical-align: top\">Actinopterygii</td>\n",
       "        <td style=\"padding-left: 1em; padding-right: 1em; text-align: center; vertical-align: top\">Cypriniformes</td>\n",
       "        <td style=\"padding-left: 1em; padding-right: 1em; text-align: center; vertical-align: top\">Cyprinidae</td>\n",
       "        <td style=\"padding-left: 1em; padding-right: 1em; text-align: center; vertical-align: top\">Gibelion</td>\n",
       "    </tr>\n",
       "    <tr>\n",
       "        <td style=\"padding-left: 1em; padding-right: 1em; text-align: center; vertical-align: top\">168</td>\n",
       "        <td style=\"padding-left: 1em; padding-right: 1em; text-align: center; vertical-align: top\">Actinopterygii</td>\n",
       "        <td style=\"padding-left: 1em; padding-right: 1em; text-align: center; vertical-align: top\">Cypriniformes</td>\n",
       "        <td style=\"padding-left: 1em; padding-right: 1em; text-align: center; vertical-align: top\">Cyprinidae</td>\n",
       "        <td style=\"padding-left: 1em; padding-right: 1em; text-align: center; vertical-align: top\">Nothobranchius</td>\n",
       "    </tr>\n",
       "    <tr>\n",
       "        <td style=\"padding-left: 1em; padding-right: 1em; text-align: center; vertical-align: top\">2</td>\n",
       "        <td style=\"padding-left: 1em; padding-right: 1em; text-align: center; vertical-align: top\">Actinopterygii</td>\n",
       "        <td style=\"padding-left: 1em; padding-right: 1em; text-align: center; vertical-align: top\">Perciformes</td>\n",
       "        <td style=\"padding-left: 1em; padding-right: 1em; text-align: center; vertical-align: top\">Labridae</td>\n",
       "        <td style=\"padding-left: 1em; padding-right: 1em; text-align: center; vertical-align: top\">Tautogolabrus</td>\n",
       "    </tr>\n",
       "</table>\n",
       "[475 rows x 5 columns]<br/>Note: Only the head of the SFrame is printed.<br/>You can use print_rows(num_rows=m, num_columns=n) to print more rows and columns.\n",
       "</div>"
      ],
      "text/plain": [
       "Columns:\n",
       "\tspecies\tint\n",
       "\tclass\tstr\n",
       "\ttax_order\tstr\n",
       "\tfamily\tstr\n",
       "\tgenus\tstr\n",
       "\n",
       "Rows: 475\n",
       "\n",
       "Data:\n",
       "+---------+----------------+--------------------+-----------------+\n",
       "| species |     class      |     tax_order      |      family     |\n",
       "+---------+----------------+--------------------+-----------------+\n",
       "|    39   | Actinopterygii |   Cypriniformes    |    Cyprinidae   |\n",
       "|   203   | Actinopterygii | Cyprinodontiformes | Cyprinodontidae |\n",
       "|   306   | Actinopterygii |   Salmoniformes    |    Salmonidae   |\n",
       "|   460   | Actinopterygii | Cyprinodontiformes | Cyprinodontidae |\n",
       "|   320   | Actinopterygii |    Perciformes     |    Cichlidae    |\n",
       "|   220   | Actinopterygii |   Anguilliformes   |   Anguillidae   |\n",
       "|   109   | Actinopterygii |   Salmoniformes    |    Salmonidae   |\n",
       "|    92   | Actinopterygii |   Cypriniformes    |    Cyprinidae   |\n",
       "|   168   | Actinopterygii |   Cypriniformes    |    Cyprinidae   |\n",
       "|    2    | Actinopterygii |    Perciformes     |     Labridae    |\n",
       "+---------+----------------+--------------------+-----------------+\n",
       "+----------------+\n",
       "|     genus      |\n",
       "+----------------+\n",
       "|   Carassius    |\n",
       "|    Fundulus    |\n",
       "|  Oncorhynchus  |\n",
       "|   Cyprinodon   |\n",
       "|  Oreochromis   |\n",
       "|    Anguilla    |\n",
       "|   Salvelinus   |\n",
       "|    Gibelion    |\n",
       "| Nothobranchius |\n",
       "| Tautogolabrus  |\n",
       "+----------------+\n",
       "[475 rows x 5 columns]\n",
       "Note: Only the head of the SFrame is printed.\n",
       "You can use print_rows(num_rows=m, num_columns=n) to print more rows and columns."
      ]
     },
     "execution_count": 18,
     "metadata": {
      "tags": []
     },
     "output_type": "execute_result"
    }
   ],
   "source": [
    "X_species = tc.SFrame(X_side_species)\n",
    "X_species"
   ]
  },
  {
   "cell_type": "code",
   "execution_count": null,
   "metadata": {
    "colab": {},
    "colab_type": "code",
    "id": "AniN0qQLC8cz"
   },
   "outputs": [],
   "source": [
    "X_train_scored, X_test_scored = train_test_split(X_fact_scored, test_size=0.33, shuffle=True, random_state=13)\n",
    "X_train, X_test = tc.SFrame(X_train_scored), tc.SFrame(X_test_scored)"
   ]
  },
  {
   "cell_type": "code",
   "execution_count": null,
   "metadata": {
    "colab": {
     "base_uri": "https://localhost:8080/",
     "height": 279
    },
    "colab_type": "code",
    "id": "7cGeXw-oDFxw",
    "outputId": "b2eb2e1d-c907-41de-ac66-bc94f8064907"
   },
   "outputs": [
    {
     "data": {
      "text/html": [
       "<div style=\"max-height:1000px;max-width:1500px;overflow:auto;\"><table frame=\"box\" rules=\"cols\">\n",
       "    <tr>\n",
       "        <th style=\"padding-left: 1em; padding-right: 1em; text-align: center\">test_cas</th>\n",
       "        <th style=\"padding-left: 1em; padding-right: 1em; text-align: center\">species</th>\n",
       "        <th style=\"padding-left: 1em; padding-right: 1em; text-align: center\">conc1_type</th>\n",
       "        <th style=\"padding-left: 1em; padding-right: 1em; text-align: center\">exposure_type</th>\n",
       "        <th style=\"padding-left: 1em; padding-right: 1em; text-align: center\">obs_duration_mean</th>\n",
       "        <th style=\"padding-left: 1em; padding-right: 1em; text-align: center\">score</th>\n",
       "    </tr>\n",
       "    <tr>\n",
       "        <td style=\"padding-left: 1em; padding-right: 1em; text-align: center; vertical-align: top\">939</td>\n",
       "        <td style=\"padding-left: 1em; padding-right: 1em; text-align: center; vertical-align: top\">306</td>\n",
       "        <td style=\"padding-left: 1em; padding-right: 1em; text-align: center; vertical-align: top\">A</td>\n",
       "        <td style=\"padding-left: 1em; padding-right: 1em; text-align: center; vertical-align: top\">S</td>\n",
       "        <td style=\"padding-left: 1em; padding-right: 1em; text-align: center; vertical-align: top\">24.0</td>\n",
       "        <td style=\"padding-left: 1em; padding-right: 1em; text-align: center; vertical-align: top\">0</td>\n",
       "    </tr>\n",
       "    <tr>\n",
       "        <td style=\"padding-left: 1em; padding-right: 1em; text-align: center; vertical-align: top\">97</td>\n",
       "        <td style=\"padding-left: 1em; padding-right: 1em; text-align: center; vertical-align: top\">358</td>\n",
       "        <td style=\"padding-left: 1em; padding-right: 1em; text-align: center; vertical-align: top\">A</td>\n",
       "        <td style=\"padding-left: 1em; padding-right: 1em; text-align: center; vertical-align: top\">S</td>\n",
       "        <td style=\"padding-left: 1em; padding-right: 1em; text-align: center; vertical-align: top\">48.0</td>\n",
       "        <td style=\"padding-left: 1em; padding-right: 1em; text-align: center; vertical-align: top\">0</td>\n",
       "    </tr>\n",
       "    <tr>\n",
       "        <td style=\"padding-left: 1em; padding-right: 1em; text-align: center; vertical-align: top\">1523</td>\n",
       "        <td style=\"padding-left: 1em; padding-right: 1em; text-align: center; vertical-align: top\">256</td>\n",
       "        <td style=\"padding-left: 1em; padding-right: 1em; text-align: center; vertical-align: top\">F</td>\n",
       "        <td style=\"padding-left: 1em; padding-right: 1em; text-align: center; vertical-align: top\">AQUA</td>\n",
       "        <td style=\"padding-left: 1em; padding-right: 1em; text-align: center; vertical-align: top\">48.0</td>\n",
       "        <td style=\"padding-left: 1em; padding-right: 1em; text-align: center; vertical-align: top\">1</td>\n",
       "    </tr>\n",
       "    <tr>\n",
       "        <td style=\"padding-left: 1em; padding-right: 1em; text-align: center; vertical-align: top\">521</td>\n",
       "        <td style=\"padding-left: 1em; padding-right: 1em; text-align: center; vertical-align: top\">297</td>\n",
       "        <td style=\"padding-left: 1em; padding-right: 1em; text-align: center; vertical-align: top\">F</td>\n",
       "        <td style=\"padding-left: 1em; padding-right: 1em; text-align: center; vertical-align: top\">AQUA</td>\n",
       "        <td style=\"padding-left: 1em; padding-right: 1em; text-align: center; vertical-align: top\">48.0</td>\n",
       "        <td style=\"padding-left: 1em; padding-right: 1em; text-align: center; vertical-align: top\">0</td>\n",
       "    </tr>\n",
       "    <tr>\n",
       "        <td style=\"padding-left: 1em; padding-right: 1em; text-align: center; vertical-align: top\">379</td>\n",
       "        <td style=\"padding-left: 1em; padding-right: 1em; text-align: center; vertical-align: top\">256</td>\n",
       "        <td style=\"padding-left: 1em; padding-right: 1em; text-align: center; vertical-align: top\">A</td>\n",
       "        <td style=\"padding-left: 1em; padding-right: 1em; text-align: center; vertical-align: top\">S</td>\n",
       "        <td style=\"padding-left: 1em; padding-right: 1em; text-align: center; vertical-align: top\">24.0</td>\n",
       "        <td style=\"padding-left: 1em; padding-right: 1em; text-align: center; vertical-align: top\">1</td>\n",
       "    </tr>\n",
       "    <tr>\n",
       "        <td style=\"padding-left: 1em; padding-right: 1em; text-align: center; vertical-align: top\">415</td>\n",
       "        <td style=\"padding-left: 1em; padding-right: 1em; text-align: center; vertical-align: top\">256</td>\n",
       "        <td style=\"padding-left: 1em; padding-right: 1em; text-align: center; vertical-align: top\">A</td>\n",
       "        <td style=\"padding-left: 1em; padding-right: 1em; text-align: center; vertical-align: top\">S</td>\n",
       "        <td style=\"padding-left: 1em; padding-right: 1em; text-align: center; vertical-align: top\">24.0</td>\n",
       "        <td style=\"padding-left: 1em; padding-right: 1em; text-align: center; vertical-align: top\">1</td>\n",
       "    </tr>\n",
       "    <tr>\n",
       "        <td style=\"padding-left: 1em; padding-right: 1em; text-align: center; vertical-align: top\">1649</td>\n",
       "        <td style=\"padding-left: 1em; padding-right: 1em; text-align: center; vertical-align: top\">378</td>\n",
       "        <td style=\"padding-left: 1em; padding-right: 1em; text-align: center; vertical-align: top\">A</td>\n",
       "        <td style=\"padding-left: 1em; padding-right: 1em; text-align: center; vertical-align: top\">S</td>\n",
       "        <td style=\"padding-left: 1em; padding-right: 1em; text-align: center; vertical-align: top\">48.0</td>\n",
       "        <td style=\"padding-left: 1em; padding-right: 1em; text-align: center; vertical-align: top\">1</td>\n",
       "    </tr>\n",
       "    <tr>\n",
       "        <td style=\"padding-left: 1em; padding-right: 1em; text-align: center; vertical-align: top\">908</td>\n",
       "        <td style=\"padding-left: 1em; padding-right: 1em; text-align: center; vertical-align: top\">392</td>\n",
       "        <td style=\"padding-left: 1em; padding-right: 1em; text-align: center; vertical-align: top\">F</td>\n",
       "        <td style=\"padding-left: 1em; padding-right: 1em; text-align: center; vertical-align: top\">AQUA</td>\n",
       "        <td style=\"padding-left: 1em; padding-right: 1em; text-align: center; vertical-align: top\">24.0</td>\n",
       "        <td style=\"padding-left: 1em; padding-right: 1em; text-align: center; vertical-align: top\">0</td>\n",
       "    </tr>\n",
       "    <tr>\n",
       "        <td style=\"padding-left: 1em; padding-right: 1em; text-align: center; vertical-align: top\">1178</td>\n",
       "        <td style=\"padding-left: 1em; padding-right: 1em; text-align: center; vertical-align: top\">379</td>\n",
       "        <td style=\"padding-left: 1em; padding-right: 1em; text-align: center; vertical-align: top\">A</td>\n",
       "        <td style=\"padding-left: 1em; padding-right: 1em; text-align: center; vertical-align: top\">AQUA</td>\n",
       "        <td style=\"padding-left: 1em; padding-right: 1em; text-align: center; vertical-align: top\">96.0</td>\n",
       "        <td style=\"padding-left: 1em; padding-right: 1em; text-align: center; vertical-align: top\">0</td>\n",
       "    </tr>\n",
       "    <tr>\n",
       "        <td style=\"padding-left: 1em; padding-right: 1em; text-align: center; vertical-align: top\">820</td>\n",
       "        <td style=\"padding-left: 1em; padding-right: 1em; text-align: center; vertical-align: top\">236</td>\n",
       "        <td style=\"padding-left: 1em; padding-right: 1em; text-align: center; vertical-align: top\">F</td>\n",
       "        <td style=\"padding-left: 1em; padding-right: 1em; text-align: center; vertical-align: top\">S</td>\n",
       "        <td style=\"padding-left: 1em; padding-right: 1em; text-align: center; vertical-align: top\">48.0</td>\n",
       "        <td style=\"padding-left: 1em; padding-right: 1em; text-align: center; vertical-align: top\">0</td>\n",
       "    </tr>\n",
       "</table>\n",
       "[15632 rows x 6 columns]<br/>Note: Only the head of the SFrame is printed.<br/>You can use print_rows(num_rows=m, num_columns=n) to print more rows and columns.\n",
       "</div>"
      ],
      "text/plain": [
       "Columns:\n",
       "\ttest_cas\tint\n",
       "\tspecies\tint\n",
       "\tconc1_type\tstr\n",
       "\texposure_type\tstr\n",
       "\tobs_duration_mean\tfloat\n",
       "\tscore\tint\n",
       "\n",
       "Rows: 15632\n",
       "\n",
       "Data:\n",
       "+----------+---------+------------+---------------+-------------------+-------+\n",
       "| test_cas | species | conc1_type | exposure_type | obs_duration_mean | score |\n",
       "+----------+---------+------------+---------------+-------------------+-------+\n",
       "|   939    |   306   |     A      |       S       |        24.0       |   0   |\n",
       "|    97    |   358   |     A      |       S       |        48.0       |   0   |\n",
       "|   1523   |   256   |     F      |      AQUA     |        48.0       |   1   |\n",
       "|   521    |   297   |     F      |      AQUA     |        48.0       |   0   |\n",
       "|   379    |   256   |     A      |       S       |        24.0       |   1   |\n",
       "|   415    |   256   |     A      |       S       |        24.0       |   1   |\n",
       "|   1649   |   378   |     A      |       S       |        48.0       |   1   |\n",
       "|   908    |   392   |     F      |      AQUA     |        24.0       |   0   |\n",
       "|   1178   |   379   |     A      |      AQUA     |        96.0       |   0   |\n",
       "|   820    |   236   |     F      |       S       |        48.0       |   0   |\n",
       "+----------+---------+------------+---------------+-------------------+-------+\n",
       "[15632 rows x 6 columns]\n",
       "Note: Only the head of the SFrame is printed.\n",
       "You can use print_rows(num_rows=m, num_columns=n) to print more rows and columns."
      ]
     },
     "execution_count": 20,
     "metadata": {
      "tags": []
     },
     "output_type": "execute_result"
    }
   ],
   "source": [
    "X_train"
   ]
  },
  {
   "cell_type": "code",
   "execution_count": null,
   "metadata": {
    "colab": {
     "base_uri": "https://localhost:8080/",
     "height": 279
    },
    "colab_type": "code",
    "id": "VmxUzsFlWlzy",
    "outputId": "114401e9-2eb3-478a-b30a-612ca128455a"
   },
   "outputs": [
    {
     "data": {
      "text/html": [
       "<div style=\"max-height:1000px;max-width:1500px;overflow:auto;\"><table frame=\"box\" rules=\"cols\">\n",
       "    <tr>\n",
       "        <th style=\"padding-left: 1em; padding-right: 1em; text-align: center\">test_cas</th>\n",
       "        <th style=\"padding-left: 1em; padding-right: 1em; text-align: center\">species</th>\n",
       "        <th style=\"padding-left: 1em; padding-right: 1em; text-align: center\">conc1_type</th>\n",
       "        <th style=\"padding-left: 1em; padding-right: 1em; text-align: center\">exposure_type</th>\n",
       "        <th style=\"padding-left: 1em; padding-right: 1em; text-align: center\">obs_duration_mean</th>\n",
       "        <th style=\"padding-left: 1em; padding-right: 1em; text-align: center\">score</th>\n",
       "    </tr>\n",
       "    <tr>\n",
       "        <td style=\"padding-left: 1em; padding-right: 1em; text-align: center; vertical-align: top\">57</td>\n",
       "        <td style=\"padding-left: 1em; padding-right: 1em; text-align: center; vertical-align: top\">222</td>\n",
       "        <td style=\"padding-left: 1em; padding-right: 1em; text-align: center; vertical-align: top\">T</td>\n",
       "        <td style=\"padding-left: 1em; padding-right: 1em; text-align: center; vertical-align: top\">S</td>\n",
       "        <td style=\"padding-left: 1em; padding-right: 1em; text-align: center; vertical-align: top\">96.0</td>\n",
       "        <td style=\"padding-left: 1em; padding-right: 1em; text-align: center; vertical-align: top\">1</td>\n",
       "    </tr>\n",
       "    <tr>\n",
       "        <td style=\"padding-left: 1em; padding-right: 1em; text-align: center; vertical-align: top\">1256</td>\n",
       "        <td style=\"padding-left: 1em; padding-right: 1em; text-align: center; vertical-align: top\">447</td>\n",
       "        <td style=\"padding-left: 1em; padding-right: 1em; text-align: center; vertical-align: top\">F</td>\n",
       "        <td style=\"padding-left: 1em; padding-right: 1em; text-align: center; vertical-align: top\">S</td>\n",
       "        <td style=\"padding-left: 1em; padding-right: 1em; text-align: center; vertical-align: top\">24.0</td>\n",
       "        <td style=\"padding-left: 1em; padding-right: 1em; text-align: center; vertical-align: top\">1</td>\n",
       "    </tr>\n",
       "    <tr>\n",
       "        <td style=\"padding-left: 1em; padding-right: 1em; text-align: center; vertical-align: top\">1120</td>\n",
       "        <td style=\"padding-left: 1em; padding-right: 1em; text-align: center; vertical-align: top\">10</td>\n",
       "        <td style=\"padding-left: 1em; padding-right: 1em; text-align: center; vertical-align: top\">F</td>\n",
       "        <td style=\"padding-left: 1em; padding-right: 1em; text-align: center; vertical-align: top\">S</td>\n",
       "        <td style=\"padding-left: 1em; padding-right: 1em; text-align: center; vertical-align: top\">48.0</td>\n",
       "        <td style=\"padding-left: 1em; padding-right: 1em; text-align: center; vertical-align: top\">1</td>\n",
       "    </tr>\n",
       "    <tr>\n",
       "        <td style=\"padding-left: 1em; padding-right: 1em; text-align: center; vertical-align: top\">2521</td>\n",
       "        <td style=\"padding-left: 1em; padding-right: 1em; text-align: center; vertical-align: top\">364</td>\n",
       "        <td style=\"padding-left: 1em; padding-right: 1em; text-align: center; vertical-align: top\">F</td>\n",
       "        <td style=\"padding-left: 1em; padding-right: 1em; text-align: center; vertical-align: top\">S</td>\n",
       "        <td style=\"padding-left: 1em; padding-right: 1em; text-align: center; vertical-align: top\">48.0</td>\n",
       "        <td style=\"padding-left: 1em; padding-right: 1em; text-align: center; vertical-align: top\">1</td>\n",
       "    </tr>\n",
       "    <tr>\n",
       "        <td style=\"padding-left: 1em; padding-right: 1em; text-align: center; vertical-align: top\">939</td>\n",
       "        <td style=\"padding-left: 1em; padding-right: 1em; text-align: center; vertical-align: top\">460</td>\n",
       "        <td style=\"padding-left: 1em; padding-right: 1em; text-align: center; vertical-align: top\">A</td>\n",
       "        <td style=\"padding-left: 1em; padding-right: 1em; text-align: center; vertical-align: top\">S</td>\n",
       "        <td style=\"padding-left: 1em; padding-right: 1em; text-align: center; vertical-align: top\">96.0</td>\n",
       "        <td style=\"padding-left: 1em; padding-right: 1em; text-align: center; vertical-align: top\">0</td>\n",
       "    </tr>\n",
       "    <tr>\n",
       "        <td style=\"padding-left: 1em; padding-right: 1em; text-align: center; vertical-align: top\">931</td>\n",
       "        <td style=\"padding-left: 1em; padding-right: 1em; text-align: center; vertical-align: top\">53</td>\n",
       "        <td style=\"padding-left: 1em; padding-right: 1em; text-align: center; vertical-align: top\">A</td>\n",
       "        <td style=\"padding-left: 1em; padding-right: 1em; text-align: center; vertical-align: top\">R</td>\n",
       "        <td style=\"padding-left: 1em; padding-right: 1em; text-align: center; vertical-align: top\">96.0</td>\n",
       "        <td style=\"padding-left: 1em; padding-right: 1em; text-align: center; vertical-align: top\">0</td>\n",
       "    </tr>\n",
       "    <tr>\n",
       "        <td style=\"padding-left: 1em; padding-right: 1em; text-align: center; vertical-align: top\">735</td>\n",
       "        <td style=\"padding-left: 1em; padding-right: 1em; text-align: center; vertical-align: top\">256</td>\n",
       "        <td style=\"padding-left: 1em; padding-right: 1em; text-align: center; vertical-align: top\">F</td>\n",
       "        <td style=\"padding-left: 1em; padding-right: 1em; text-align: center; vertical-align: top\">S</td>\n",
       "        <td style=\"padding-left: 1em; padding-right: 1em; text-align: center; vertical-align: top\">24.0</td>\n",
       "        <td style=\"padding-left: 1em; padding-right: 1em; text-align: center; vertical-align: top\">1</td>\n",
       "    </tr>\n",
       "    <tr>\n",
       "        <td style=\"padding-left: 1em; padding-right: 1em; text-align: center; vertical-align: top\">589</td>\n",
       "        <td style=\"padding-left: 1em; padding-right: 1em; text-align: center; vertical-align: top\">367</td>\n",
       "        <td style=\"padding-left: 1em; padding-right: 1em; text-align: center; vertical-align: top\">T</td>\n",
       "        <td style=\"padding-left: 1em; padding-right: 1em; text-align: center; vertical-align: top\">AQUA</td>\n",
       "        <td style=\"padding-left: 1em; padding-right: 1em; text-align: center; vertical-align: top\">96.0</td>\n",
       "        <td style=\"padding-left: 1em; padding-right: 1em; text-align: center; vertical-align: top\">1</td>\n",
       "    </tr>\n",
       "    <tr>\n",
       "        <td style=\"padding-left: 1em; padding-right: 1em; text-align: center; vertical-align: top\">776</td>\n",
       "        <td style=\"padding-left: 1em; padding-right: 1em; text-align: center; vertical-align: top\">117</td>\n",
       "        <td style=\"padding-left: 1em; padding-right: 1em; text-align: center; vertical-align: top\">F</td>\n",
       "        <td style=\"padding-left: 1em; padding-right: 1em; text-align: center; vertical-align: top\">S</td>\n",
       "        <td style=\"padding-left: 1em; padding-right: 1em; text-align: center; vertical-align: top\">48.0</td>\n",
       "        <td style=\"padding-left: 1em; padding-right: 1em; text-align: center; vertical-align: top\">0</td>\n",
       "    </tr>\n",
       "    <tr>\n",
       "        <td style=\"padding-left: 1em; padding-right: 1em; text-align: center; vertical-align: top\">1222</td>\n",
       "        <td style=\"padding-left: 1em; padding-right: 1em; text-align: center; vertical-align: top\">383</td>\n",
       "        <td style=\"padding-left: 1em; padding-right: 1em; text-align: center; vertical-align: top\">F</td>\n",
       "        <td style=\"padding-left: 1em; padding-right: 1em; text-align: center; vertical-align: top\">S</td>\n",
       "        <td style=\"padding-left: 1em; padding-right: 1em; text-align: center; vertical-align: top\">96.0</td>\n",
       "        <td style=\"padding-left: 1em; padding-right: 1em; text-align: center; vertical-align: top\">0</td>\n",
       "    </tr>\n",
       "</table>\n",
       "[7700 rows x 6 columns]<br/>Note: Only the head of the SFrame is printed.<br/>You can use print_rows(num_rows=m, num_columns=n) to print more rows and columns.\n",
       "</div>"
      ],
      "text/plain": [
       "Columns:\n",
       "\ttest_cas\tint\n",
       "\tspecies\tint\n",
       "\tconc1_type\tstr\n",
       "\texposure_type\tstr\n",
       "\tobs_duration_mean\tfloat\n",
       "\tscore\tint\n",
       "\n",
       "Rows: 7700\n",
       "\n",
       "Data:\n",
       "+----------+---------+------------+---------------+-------------------+-------+\n",
       "| test_cas | species | conc1_type | exposure_type | obs_duration_mean | score |\n",
       "+----------+---------+------------+---------------+-------------------+-------+\n",
       "|    57    |   222   |     T      |       S       |        96.0       |   1   |\n",
       "|   1256   |   447   |     F      |       S       |        24.0       |   1   |\n",
       "|   1120   |    10   |     F      |       S       |        48.0       |   1   |\n",
       "|   2521   |   364   |     F      |       S       |        48.0       |   1   |\n",
       "|   939    |   460   |     A      |       S       |        96.0       |   0   |\n",
       "|   931    |    53   |     A      |       R       |        96.0       |   0   |\n",
       "|   735    |   256   |     F      |       S       |        24.0       |   1   |\n",
       "|   589    |   367   |     T      |      AQUA     |        96.0       |   1   |\n",
       "|   776    |   117   |     F      |       S       |        48.0       |   0   |\n",
       "|   1222   |   383   |     F      |       S       |        96.0       |   0   |\n",
       "+----------+---------+------------+---------------+-------------------+-------+\n",
       "[7700 rows x 6 columns]\n",
       "Note: Only the head of the SFrame is printed.\n",
       "You can use print_rows(num_rows=m, num_columns=n) to print more rows and columns."
      ]
     },
     "execution_count": 21,
     "metadata": {
      "tags": []
     },
     "output_type": "execute_result"
    }
   ],
   "source": [
    "X_test"
   ]
  },
  {
   "cell_type": "code",
   "execution_count": null,
   "metadata": {
    "colab": {
     "base_uri": "https://localhost:8080/",
     "height": 1000
    },
    "colab_type": "code",
    "id": "ZwLXWiD5DFq8",
    "outputId": "80c594d7-4bd2-4fd1-e85e-2edcb974c712"
   },
   "outputs": [
    {
     "data": {
      "text/html": [
       "<pre>Preparing data set.</pre>"
      ],
      "text/plain": [
       "Preparing data set."
      ]
     },
     "metadata": {
      "tags": []
     },
     "output_type": "display_data"
    },
    {
     "data": {
      "text/html": [
       "<pre>    Data has 15632 observations with 2621 users and 475 items.</pre>"
      ],
      "text/plain": [
       "    Data has 15632 observations with 2621 users and 475 items."
      ]
     },
     "metadata": {
      "tags": []
     },
     "output_type": "display_data"
    },
    {
     "data": {
      "text/html": [
       "<pre>    Data prepared in: 0.061801s</pre>"
      ],
      "text/plain": [
       "    Data prepared in: 0.061801s"
      ]
     },
     "metadata": {
      "tags": []
     },
     "output_type": "display_data"
    },
    {
     "data": {
      "text/html": [
       "<pre>Training factorization_recommender for recommendations.</pre>"
      ],
      "text/plain": [
       "Training factorization_recommender for recommendations."
      ]
     },
     "metadata": {
      "tags": []
     },
     "output_type": "display_data"
    },
    {
     "data": {
      "text/html": [
       "<pre>+--------------------------------+--------------------------------------------------+----------+</pre>"
      ],
      "text/plain": [
       "+--------------------------------+--------------------------------------------------+----------+"
      ]
     },
     "metadata": {
      "tags": []
     },
     "output_type": "display_data"
    },
    {
     "data": {
      "text/html": [
       "<pre>| Parameter                      | Description                                      | Value    |</pre>"
      ],
      "text/plain": [
       "| Parameter                      | Description                                      | Value    |"
      ]
     },
     "metadata": {
      "tags": []
     },
     "output_type": "display_data"
    },
    {
     "data": {
      "text/html": [
       "<pre>+--------------------------------+--------------------------------------------------+----------+</pre>"
      ],
      "text/plain": [
       "+--------------------------------+--------------------------------------------------+----------+"
      ]
     },
     "metadata": {
      "tags": []
     },
     "output_type": "display_data"
    },
    {
     "data": {
      "text/html": [
       "<pre>| num_factors                    | Factor Dimension                                 | 8        |</pre>"
      ],
      "text/plain": [
       "| num_factors                    | Factor Dimension                                 | 8        |"
      ]
     },
     "metadata": {
      "tags": []
     },
     "output_type": "display_data"
    },
    {
     "data": {
      "text/html": [
       "<pre>| regularization                 | L2 Regularization on Factors                     | 1e-08    |</pre>"
      ],
      "text/plain": [
       "| regularization                 | L2 Regularization on Factors                     | 1e-08    |"
      ]
     },
     "metadata": {
      "tags": []
     },
     "output_type": "display_data"
    },
    {
     "data": {
      "text/html": [
       "<pre>| solver                         | Solver used for training                         | sgd      |</pre>"
      ],
      "text/plain": [
       "| solver                         | Solver used for training                         | sgd      |"
      ]
     },
     "metadata": {
      "tags": []
     },
     "output_type": "display_data"
    },
    {
     "data": {
      "text/html": [
       "<pre>| linear_regularization          | L2 Regularization on Linear Coefficients         | 1e-10    |</pre>"
      ],
      "text/plain": [
       "| linear_regularization          | L2 Regularization on Linear Coefficients         | 1e-10    |"
      ]
     },
     "metadata": {
      "tags": []
     },
     "output_type": "display_data"
    },
    {
     "data": {
      "text/html": [
       "<pre>| binary_target                  | Assume Binary Targets                            | True     |</pre>"
      ],
      "text/plain": [
       "| binary_target                  | Assume Binary Targets                            | True     |"
      ]
     },
     "metadata": {
      "tags": []
     },
     "output_type": "display_data"
    },
    {
     "data": {
      "text/html": [
       "<pre>| side_data_factorization        | Assign Factors for Side Data                     | True     |</pre>"
      ],
      "text/plain": [
       "| side_data_factorization        | Assign Factors for Side Data                     | True     |"
      ]
     },
     "metadata": {
      "tags": []
     },
     "output_type": "display_data"
    },
    {
     "data": {
      "text/html": [
       "<pre>| max_iterations                 | Maximum Number of Iterations                     | 10000    |</pre>"
      ],
      "text/plain": [
       "| max_iterations                 | Maximum Number of Iterations                     | 10000    |"
      ]
     },
     "metadata": {
      "tags": []
     },
     "output_type": "display_data"
    },
    {
     "data": {
      "text/html": [
       "<pre>+--------------------------------+--------------------------------------------------+----------+</pre>"
      ],
      "text/plain": [
       "+--------------------------------+--------------------------------------------------+----------+"
      ]
     },
     "metadata": {
      "tags": []
     },
     "output_type": "display_data"
    },
    {
     "data": {
      "text/html": [
       "<pre>  Optimizing model using SGD; tuning step size.</pre>"
      ],
      "text/plain": [
       "  Optimizing model using SGD; tuning step size."
      ]
     },
     "metadata": {
      "tags": []
     },
     "output_type": "display_data"
    },
    {
     "data": {
      "text/html": [
       "<pre>  Using 10000 / 15632 points for tuning the step size.</pre>"
      ],
      "text/plain": [
       "  Using 10000 / 15632 points for tuning the step size."
      ]
     },
     "metadata": {
      "tags": []
     },
     "output_type": "display_data"
    },
    {
     "data": {
      "text/html": [
       "<pre>+---------+-------------------+------------------------------------------+</pre>"
      ],
      "text/plain": [
       "+---------+-------------------+------------------------------------------+"
      ]
     },
     "metadata": {
      "tags": []
     },
     "output_type": "display_data"
    },
    {
     "data": {
      "text/html": [
       "<pre>| Attempt | Initial Step Size | Estimated Objective Value                |</pre>"
      ],
      "text/plain": [
       "| Attempt | Initial Step Size | Estimated Objective Value                |"
      ]
     },
     "metadata": {
      "tags": []
     },
     "output_type": "display_data"
    },
    {
     "data": {
      "text/html": [
       "<pre>+---------+-------------------+------------------------------------------+</pre>"
      ],
      "text/plain": [
       "+---------+-------------------+------------------------------------------+"
      ]
     },
     "metadata": {
      "tags": []
     },
     "output_type": "display_data"
    },
    {
     "data": {
      "text/html": [
       "<pre>| 0       | 3.84615           | Not Viable                               |</pre>"
      ],
      "text/plain": [
       "| 0       | 3.84615           | Not Viable                               |"
      ]
     },
     "metadata": {
      "tags": []
     },
     "output_type": "display_data"
    },
    {
     "data": {
      "text/html": [
       "<pre>| 1       | 0.961538          | Not Viable                               |</pre>"
      ],
      "text/plain": [
       "| 1       | 0.961538          | Not Viable                               |"
      ]
     },
     "metadata": {
      "tags": []
     },
     "output_type": "display_data"
    },
    {
     "data": {
      "text/html": [
       "<pre>| 2       | 0.240385          | Not Viable                               |</pre>"
      ],
      "text/plain": [
       "| 2       | 0.240385          | Not Viable                               |"
      ]
     },
     "metadata": {
      "tags": []
     },
     "output_type": "display_data"
    },
    {
     "data": {
      "text/html": [
       "<pre>| 3       | 0.0600962         | No Decrease (35.8555 >= 0.656595)        |</pre>"
      ],
      "text/plain": [
       "| 3       | 0.0600962         | No Decrease (35.8555 >= 0.656595)        |"
      ]
     },
     "metadata": {
      "tags": []
     },
     "output_type": "display_data"
    },
    {
     "data": {
      "text/html": [
       "<pre>| 4       | 0.015024          | 0.49577                                  |</pre>"
      ],
      "text/plain": [
       "| 4       | 0.015024          | 0.49577                                  |"
      ]
     },
     "metadata": {
      "tags": []
     },
     "output_type": "display_data"
    },
    {
     "data": {
      "text/html": [
       "<pre>| 5       | 0.00751202        | 0.53044                                  |</pre>"
      ],
      "text/plain": [
       "| 5       | 0.00751202        | 0.53044                                  |"
      ]
     },
     "metadata": {
      "tags": []
     },
     "output_type": "display_data"
    },
    {
     "data": {
      "text/html": [
       "<pre>| 6       | 0.00375601        | 0.552995                                 |</pre>"
      ],
      "text/plain": [
       "| 6       | 0.00375601        | 0.552995                                 |"
      ]
     },
     "metadata": {
      "tags": []
     },
     "output_type": "display_data"
    },
    {
     "data": {
      "text/html": [
       "<pre>| 7       | 0.001878          | 0.571902                                 |</pre>"
      ],
      "text/plain": [
       "| 7       | 0.001878          | 0.571902                                 |"
      ]
     },
     "metadata": {
      "tags": []
     },
     "output_type": "display_data"
    },
    {
     "data": {
      "text/html": [
       "<pre>+---------+-------------------+------------------------------------------+</pre>"
      ],
      "text/plain": [
       "+---------+-------------------+------------------------------------------+"
      ]
     },
     "metadata": {
      "tags": []
     },
     "output_type": "display_data"
    },
    {
     "data": {
      "text/html": [
       "<pre>| Final   | 0.015024          | 0.49577                                  |</pre>"
      ],
      "text/plain": [
       "| Final   | 0.015024          | 0.49577                                  |"
      ]
     },
     "metadata": {
      "tags": []
     },
     "output_type": "display_data"
    },
    {
     "data": {
      "text/html": [
       "<pre>+---------+-------------------+------------------------------------------+</pre>"
      ],
      "text/plain": [
       "+---------+-------------------+------------------------------------------+"
      ]
     },
     "metadata": {
      "tags": []
     },
     "output_type": "display_data"
    },
    {
     "data": {
      "text/html": [
       "<pre>Starting Optimization.</pre>"
      ],
      "text/plain": [
       "Starting Optimization."
      ]
     },
     "metadata": {
      "tags": []
     },
     "output_type": "display_data"
    },
    {
     "data": {
      "text/html": [
       "<pre>+---------+--------------+-------------------+-----------------------------------+-------------+</pre>"
      ],
      "text/plain": [
       "+---------+--------------+-------------------+-----------------------------------+-------------+"
      ]
     },
     "metadata": {
      "tags": []
     },
     "output_type": "display_data"
    },
    {
     "data": {
      "text/html": [
       "<pre>| Iter.   | Elapsed Time | Approx. Objective | Approx. Training Predictive Error | Step Size   |</pre>"
      ],
      "text/plain": [
       "| Iter.   | Elapsed Time | Approx. Objective | Approx. Training Predictive Error | Step Size   |"
      ]
     },
     "metadata": {
      "tags": []
     },
     "output_type": "display_data"
    },
    {
     "data": {
      "text/html": [
       "<pre>+---------+--------------+-------------------+-----------------------------------+-------------+</pre>"
      ],
      "text/plain": [
       "+---------+--------------+-------------------+-----------------------------------+-------------+"
      ]
     },
     "metadata": {
      "tags": []
     },
     "output_type": "display_data"
    },
    {
     "data": {
      "text/html": [
       "<pre>| Initial | 88us         | 0.658487          | 0.658487                          |             |</pre>"
      ],
      "text/plain": [
       "| Initial | 88us         | 0.658487          | 0.658487                          |             |"
      ]
     },
     "metadata": {
      "tags": []
     },
     "output_type": "display_data"
    },
    {
     "data": {
      "text/html": [
       "<pre>+---------+--------------+-------------------+-----------------------------------+-------------+</pre>"
      ],
      "text/plain": [
       "+---------+--------------+-------------------+-----------------------------------+-------------+"
      ]
     },
     "metadata": {
      "tags": []
     },
     "output_type": "display_data"
    },
    {
     "data": {
      "text/html": [
       "<pre>| 1       | 45.144ms     | 0.530854          | 0.530854                          | 0.015024    |</pre>"
      ],
      "text/plain": [
       "| 1       | 45.144ms     | 0.530854          | 0.530854                          | 0.015024    |"
      ]
     },
     "metadata": {
      "tags": []
     },
     "output_type": "display_data"
    },
    {
     "data": {
      "text/html": [
       "<pre>| 2       | 73.412ms     | 0.50595           | 0.50595                           | 0.00893335  |</pre>"
      ],
      "text/plain": [
       "| 2       | 73.412ms     | 0.50595           | 0.50595                           | 0.00893335  |"
      ]
     },
     "metadata": {
      "tags": []
     },
     "output_type": "display_data"
    },
    {
     "data": {
      "text/html": [
       "<pre>| 3       | 97.297ms     | 0.484918          | 0.484918                          | 0.00659092  |</pre>"
      ],
      "text/plain": [
       "| 3       | 97.297ms     | 0.484918          | 0.484918                          | 0.00659092  |"
      ]
     },
     "metadata": {
      "tags": []
     },
     "output_type": "display_data"
    },
    {
     "data": {
      "text/html": [
       "<pre>| 4       | 122.183ms    | 0.519546          | 0.519546                          | 0.0053118   |</pre>"
      ],
      "text/plain": [
       "| 4       | 122.183ms    | 0.519546          | 0.519546                          | 0.0053118   |"
      ]
     },
     "metadata": {
      "tags": []
     },
     "output_type": "display_data"
    },
    {
     "data": {
      "text/html": [
       "<pre>| 5       | 145.912ms    | 0.578964          | 0.578964                          | 0.00377835  |</pre>"
      ],
      "text/plain": [
       "| 5       | 145.912ms    | 0.578964          | 0.578964                          | 0.00377835  |"
      ]
     },
     "metadata": {
      "tags": []
     },
     "output_type": "display_data"
    },
    {
     "data": {
      "text/html": [
       "<pre>| 10      | 269.696ms    | 0.754007          | 0.754007                          | 0.000188917 |</pre>"
      ],
      "text/plain": [
       "| 10      | 269.696ms    | 0.754007          | 0.754007                          | 0.000188917 |"
      ]
     },
     "metadata": {
      "tags": []
     },
     "output_type": "display_data"
    },
    {
     "data": {
      "text/html": [
       "<pre>| 19      | 510.91ms     | DIVERGED          | DIVERGED                          | 7.33942e-06 |</pre>"
      ],
      "text/plain": [
       "| 19      | 510.91ms     | DIVERGED          | DIVERGED                          | 7.33942e-06 |"
      ]
     },
     "metadata": {
      "tags": []
     },
     "output_type": "display_data"
    },
    {
     "data": {
      "text/html": [
       "<pre>| RESET   | 526.784ms    | 0.658454          | 0.658454                          |             |</pre>"
      ],
      "text/plain": [
       "| RESET   | 526.784ms    | 0.658454          | 0.658454                          |             |"
      ]
     },
     "metadata": {
      "tags": []
     },
     "output_type": "display_data"
    },
    {
     "data": {
      "text/html": [
       "<pre>| 31      | 1.28s        | 0.652217          | 0.652217                          | 2.79325e-07 |</pre>"
      ],
      "text/plain": [
       "| 31      | 1.28s        | 0.652217          | 0.652217                          | 2.79325e-07 |"
      ]
     },
     "metadata": {
      "tags": []
     },
     "output_type": "display_data"
    },
    {
     "data": {
      "text/html": [
       "<pre>| 81      | 2.53s        | 0.649837          | 0.649837                          | 1.35915e-07 |</pre>"
      ],
      "text/plain": [
       "| 81      | 2.53s        | 0.649837          | 0.649837                          | 1.35915e-07 |"
      ]
     },
     "metadata": {
      "tags": []
     },
     "output_type": "display_data"
    },
    {
     "data": {
      "text/html": [
       "<pre>| 231     | 6.13s        | 0.646717          | 0.646717                          | 6.19331e-08 |</pre>"
      ],
      "text/plain": [
       "| 231     | 6.13s        | 0.646717          | 0.646717                          | 6.19331e-08 |"
      ]
     },
     "metadata": {
      "tags": []
     },
     "output_type": "display_data"
    },
    {
     "data": {
      "text/html": [
       "<pre>| 481     | 12.14s       | 0.644461          | 0.644461                          | 3.57292e-08 |</pre>"
      ],
      "text/plain": [
       "| 481     | 12.14s       | 0.644461          | 0.644461                          | 3.57292e-08 |"
      ]
     },
     "metadata": {
      "tags": []
     },
     "output_type": "display_data"
    },
    {
     "data": {
      "text/html": [
       "<pre>| 731     | 18.11s       | 0.643097          | 0.643097                          | 2.61032e-08 |</pre>"
      ],
      "text/plain": [
       "| 731     | 18.11s       | 0.643097          | 0.643097                          | 2.61032e-08 |"
      ]
     },
     "metadata": {
      "tags": []
     },
     "output_type": "display_data"
    },
    {
     "data": {
      "text/html": [
       "<pre>| 981     | 24.07s       | 0.642047          | 0.642047                          | 2.09353e-08 |</pre>"
      ],
      "text/plain": [
       "| 981     | 24.07s       | 0.642047          | 0.642047                          | 2.09353e-08 |"
      ]
     },
     "metadata": {
      "tags": []
     },
     "output_type": "display_data"
    },
    {
     "data": {
      "text/html": [
       "<pre>| 1231    | 30.05s       | 0.640961          | 0.640961                          | 1.76579e-08 |</pre>"
      ],
      "text/plain": [
       "| 1231    | 30.05s       | 0.640961          | 0.640961                          | 1.76579e-08 |"
      ]
     },
     "metadata": {
      "tags": []
     },
     "output_type": "display_data"
    },
    {
     "data": {
      "text/html": [
       "<pre>| 1353    | 32.95s       | 0.64034           | 0.64034                           | 1.64497e-08 |</pre>"
      ],
      "text/plain": [
       "| 1353    | 32.95s       | 0.64034           | 0.64034                           | 1.64497e-08 |"
      ]
     },
     "metadata": {
      "tags": []
     },
     "output_type": "display_data"
    },
    {
     "data": {
      "text/html": [
       "<pre>+---------+--------------+-------------------+-----------------------------------+-------------+</pre>"
      ],
      "text/plain": [
       "+---------+--------------+-------------------+-----------------------------------+-------------+"
      ]
     },
     "metadata": {
      "tags": []
     },
     "output_type": "display_data"
    },
    {
     "data": {
      "text/html": [
       "<pre>Optimization Complete: Convergence on objective within bounds.</pre>"
      ],
      "text/plain": [
       "Optimization Complete: Convergence on objective within bounds."
      ]
     },
     "metadata": {
      "tags": []
     },
     "output_type": "display_data"
    },
    {
     "data": {
      "text/html": [
       "<pre>Computing final objective value and training Predictive Error.</pre>"
      ],
      "text/plain": [
       "Computing final objective value and training Predictive Error."
      ]
     },
     "metadata": {
      "tags": []
     },
     "output_type": "display_data"
    },
    {
     "data": {
      "text/html": [
       "<pre>       Final objective value: 0.64034</pre>"
      ],
      "text/plain": [
       "       Final objective value: 0.64034"
      ]
     },
     "metadata": {
      "tags": []
     },
     "output_type": "display_data"
    },
    {
     "data": {
      "text/html": [
       "<pre>       Final training Predictive Error: 0.64034</pre>"
      ],
      "text/plain": [
       "       Final training Predictive Error: 0.64034"
      ]
     },
     "metadata": {
      "tags": []
     },
     "output_type": "display_data"
    }
   ],
   "source": [
    "model = tc.recommender.factorization_recommender.create(X_train, 'test_cas', 'species', target='score', user_data=X_cas, solver=\"sgd\", item_data=X_species, max_iterations=10000, binary_target=True)"
   ]
  },
  {
   "cell_type": "code",
   "execution_count": null,
   "metadata": {
    "colab": {
     "base_uri": "https://localhost:8080/",
     "height": 88
    },
    "colab_type": "code",
    "id": "uE-5GQhYsqi7",
    "outputId": "3c3b4140-fe0f-4e8f-d170-860e810a26de"
   },
   "outputs": [
    {
     "data": {
      "text/plain": [
       "dtype: float\n",
       "Rows: 15632\n",
       "[0.622997575040689, 0.6476014906235918, 0.581247395075723, 0.6626832677694716, 0.6454880808224518, 0.6476621506363276, 0.6599519556606889, 0.6608503424843561, 0.6442266145438841, 0.6745082996146037, 0.6692642885937524, 0.6345430531811587, 0.606561109365841, 0.6457786864897148, 0.6686427156427693, 0.6684883232414839, 0.6365069932701287, 0.6223705948408765, 0.5896254861783496, 0.6500777658053388, 0.6747991732091125, 0.5539673951094262, 0.6804007941775895, 0.6832967298462996, 0.6640965805950679, 0.6700004838505909, 0.6302405833884991, 0.6794791200017436, 0.669842418536611, 0.6515422991600143, 0.6494983833515621, 0.6397510430368911, 0.6885214209046471, 0.6693302277055379, 0.6646547078129795, 0.584355501570471, 0.6009127875968759, 0.6846022723544339, 0.6795956749318574, 0.6593135127615308, 0.6622480357761956, 0.6016003189393953, 0.6607263619299792, 0.6770922240263069, 0.6666185006082385, 0.6450232887055418, 0.666852638954072, 0.6373968118741783, 0.6657362930516744, 0.6700271263681056, 0.6827436117248115, 0.6286232014856011, 0.6733588049460434, 0.6523553007205729, 0.6512453499313211, 0.6748893539761395, 0.642453396044842, 0.6741990192370481, 0.6687906711956665, 0.6510621595575454, 0.6879193993828203, 0.6771668325922622, 0.6216615700667675, 0.646356168314977, 0.6860623074508297, 0.6489069571689867, 0.6734980279413866, 0.653828780211124, 0.647056246209409, 0.6672115746503708, 0.6583273147048124, 0.6470720473069624, 0.6397502754107545, 0.6063803018788244, 0.6664214040171639, 0.6312259004565769, 0.6798165884553, 0.6261025454149544, 0.6547618426026864, 0.606172146855989, 0.67924723624333, 0.6655696685185124, 0.6736901002774792, 0.6602415836925253, 0.6580867226073202, 0.6780537100655221, 0.6885499511818269, 0.6672520609995335, 0.6673355733171833, 0.6750289097031225, 0.6658992920599506, 0.6805527793494227, 0.6015634836939755, 0.6136596713702712, 0.6644510965560196, 0.6529679456634834, 0.6451523145193664, 0.6827664200949911, 0.633108691342142, 0.6108502466518556, ... ]"
      ]
     },
     "execution_count": 23,
     "metadata": {
      "tags": []
     },
     "output_type": "execute_result"
    }
   ],
   "source": [
    "X_train_predict = model.predict(X_train)\n",
    "X_train_predict"
   ]
  },
  {
   "cell_type": "code",
   "execution_count": null,
   "metadata": {
    "colab": {
     "base_uri": "https://localhost:8080/",
     "height": 34
    },
    "colab_type": "code",
    "id": "Jj5hzNjZssZt",
    "outputId": "29d46244-70f3-4fbb-8181-dac3b57c5b72"
   },
   "outputs": [
    {
     "data": {
      "text/plain": [
       "0.6320368474923235"
      ]
     },
     "execution_count": 24,
     "metadata": {
      "tags": []
     },
     "output_type": "execute_result"
    }
   ],
   "source": [
    "X_train_predict = np.where(X_train_predict.to_numpy()>=0.5, 1, 0)\n",
    "accuracy_score(X_train.select_column('score').to_numpy(), X_train_predict)"
   ]
  },
  {
   "cell_type": "code",
   "execution_count": null,
   "metadata": {
    "colab": {
     "base_uri": "https://localhost:8080/",
     "height": 88
    },
    "colab_type": "code",
    "id": "mxjKFBO2KCJ1",
    "outputId": "b16cecbe-2e99-4e39-e601-c42214c8caa7"
   },
   "outputs": [
    {
     "data": {
      "text/plain": [
       "dtype: float\n",
       "Rows: 7700\n",
       "[0.6695717956213498, 0.6492619231463219, 0.6641372357127668, 0.6688280166838767, 0.6253682271535524, 0.5781146919259906, 0.6278662902332693, 0.6721735800157895, 0.6246653147699173, 0.5799340133328149, 0.6802011563799427, 0.6669782132679366, 0.648078063690177, 0.6562363690918218, 0.6613426446463022, 0.627988421234042, 0.6082750186285626, 0.6501032300302851, 0.634831525839198, 0.6438845677155323, 0.6226215217639413, 0.6374907524796602, 0.6787420053107558, 0.6860603282600541, 0.6780848957947627, 0.6668718364794433, 0.6560172195626399, 0.6143365844469733, 0.6591773138639456, 0.6174028840213709, 0.6792537070068897, 0.6564423190407158, 0.6542046930716963, 0.6461596016099522, 0.6792026647330798, 0.652218603826207, 0.6577040894476807, 0.6570955826937862, 0.5851665990856348, 0.6480711271525362, 0.6214235686238587, 0.6867701234654577, 0.659187003302426, 0.6759056882311427, 0.5885454541193531, 0.673678525732155, 0.6111704827073262, 0.5992150571460293, 0.6529045909799126, 0.6292881887110205, 0.617208560921997, 0.6068958737120723, 0.6628690110390052, 0.6064587820322113, 0.6262399623477277, 0.6437107212019297, 0.6321875847788264, 0.6494982460001918, 0.634277403925356, 0.6841625021855186, 0.6807902666817378, 0.6394676156690168, 0.6622468787102628, 0.5627102366452968, 0.6606281746941886, 0.6487426722285236, 0.6114251431525658, 0.6065532414574788, 0.6105940480217239, 0.6869253746691564, 0.6257153483455639, 0.6683853248002265, 0.642700713933348, 0.6719951022773877, 0.6253884956811478, 0.6559614759325666, 0.6677201950879125, 0.5983358351285744, 0.6438969295379822, 0.6672514055167349, 0.6406259908523322, 0.6222691819018433, 0.6521511530516042, 0.6872213465387956, 0.59450660313597, 0.6311645477402607, 0.6769218360012049, 0.6810619632481774, 0.5869315111076273, 0.6818423192725643, 0.6665203206886358, 0.6559547219918918, 0.6074028809357143, 0.681575407651963, 0.6474738410830614, 0.6447317442816372, 0.637996974650499, 0.6537640534358261, 0.6625346049458433, 0.6438322957776523, ... ]"
      ]
     },
     "execution_count": 25,
     "metadata": {
      "tags": []
     },
     "output_type": "execute_result"
    }
   ],
   "source": [
    "X_test_predict = model.predict(X_test)\n",
    "X_test_predict"
   ]
  },
  {
   "cell_type": "code",
   "execution_count": null,
   "metadata": {
    "colab": {
     "base_uri": "https://localhost:8080/",
     "height": 88
    },
    "colab_type": "code",
    "id": "hxewePCqLqre",
    "outputId": "9c75496a-4284-40fe-fd1b-090fb8e8b568"
   },
   "outputs": [
    {
     "data": {
      "text/plain": [
       "dtype: int\n",
       "Rows: 7700\n",
       "[1, 1, 1, 1, 0, 0, 1, 1, 0, 0, 1, 1, 1, 1, 1, 0, 0, 1, 0, 1, 1, 1, 1, 1, 1, 1, 0, 1, 1, 0, 1, 1, 1, 0, 0, 0, 1, 1, 0, 1, 0, 1, 1, 1, 0, 1, 1, 1, 1, 0, 0, 1, 1, 0, 1, 0, 0, 1, 1, 1, 1, 0, 1, 0, 1, 1, 0, 1, 1, 1, 1, 0, 0, 1, 1, 1, 1, 1, 1, 0, 1, 1, 1, 1, 0, 1, 1, 1, 0, 0, 1, 1, 0, 0, 1, 1, 1, 1, 1, 1, ... ]"
      ]
     },
     "execution_count": 26,
     "metadata": {
      "tags": []
     },
     "output_type": "execute_result"
    }
   ],
   "source": [
    "X_test_score = X_test.select_column(\"score\")\n",
    "X_test_score"
   ]
  },
  {
   "cell_type": "code",
   "execution_count": null,
   "metadata": {
    "colab": {
     "base_uri": "https://localhost:8080/",
     "height": 34
    },
    "colab_type": "code",
    "id": "mLH9suOeL4oV",
    "outputId": "6430c547-37d5-425b-9305-0905598a6dc5"
   },
   "outputs": [
    {
     "data": {
      "text/plain": [
       "0.6331168831168831"
      ]
     },
     "execution_count": 27,
     "metadata": {
      "tags": []
     },
     "output_type": "execute_result"
    }
   ],
   "source": [
    "X_test_predict = np.where(X_test_predict.to_numpy()>=0.5, 1, 0)\n",
    "accuracy_score(X_test_score.to_numpy(), X_test_predict)"
   ]
  },
  {
   "cell_type": "markdown",
   "metadata": {
    "colab_type": "text",
    "id": "Hwjca24jscaG"
   },
   "source": [
    "## Finding best set of features"
   ]
  },
  {
   "cell_type": "code",
   "execution_count": null,
   "metadata": {
    "colab": {
     "base_uri": "https://localhost:8080/",
     "height": 272
    },
    "colab_type": "code",
    "id": "8NhDRMBPsS0P",
    "outputId": "7d735540-2570-4b5e-df7c-c55dc1090953"
   },
   "outputs": [
    {
     "name": "stdout",
     "output_type": "stream",
     "text": [
      "Starting k = 0\n",
      "Best combination found! RMSE: 0.29450498744156034, features: ['test_cas', 'species']\n",
      "Starting k = 1\n",
      "Best combination found! RMSE: 0.28959237754888445, features: ['test_cas', 'species', 'class']\n",
      "Starting k = 2\n",
      "Best combination found! RMSE: 0.27363356779146514, features: ['test_cas', 'species', 'class', 'tax_order']\n",
      "Best combination found! RMSE: 0.2677608604211085, features: ['test_cas', 'species', 'class', 'family']\n",
      "Starting k = 3\n",
      "Best combination found! RMSE: 0.2665269072888898, features: ['test_cas', 'species', 'class', 'family', 'genus']\n",
      "Starting k = 4\n",
      "Best combination found! RMSE: 0.266101375198106, features: ['test_cas', 'tripleBond', 'species', 'class', 'tax_order', 'genus']\n",
      "Starting k = 5\n",
      "Starting k = 6\n",
      "Starting k = 7\n",
      "Starting k = 8\n"
     ]
    }
   ],
   "source": [
    "import itertools\n",
    "\n",
    "best_rmse = np.inf\n",
    "best_comb = []\n",
    "\n",
    "X_train, X_test = tc.SFrame(X_train_scored), tc.SFrame(X_test_scored)\n",
    "\n",
    "poss_side = np.array([\"class\", \"tax_order\", \"family\", \"genus\"] + [\"alone_atom_number\", \"tripleBond\", \"doubleBond\", \"ring_numer\"])\n",
    "for k in range(0, 9):\n",
    "  print(\"Starting k =\",k)\n",
    "  poss_comb = list(itertools.combinations(range(0,8),k))\n",
    "  for c in poss_comb:\n",
    "    side_cas = [\"test_cas\"]\n",
    "    side_spec = [\"species\"]\n",
    "    no_cas = False\n",
    "    no_spec = False\n",
    "    for i in list(c):\n",
    "      if i in range(0, 4):\n",
    "        side_spec.append(poss_side[i])\n",
    "      else:\n",
    "        side_cas.append(poss_side[i])\n",
    "    if (len(side_cas)==1):\n",
    "      no_cas = True\n",
    "    if (len(side_spec)==1):\n",
    "      no_spec = True\n",
    "    \n",
    "    X_side_species = base_db96.copy()\n",
    "    X_side_species = X_side_species[side_spec]\n",
    "    X_side_species = X_side_species.drop_duplicates(subset=\"species\").reset_index(drop=True)\n",
    "\n",
    "    X_side_cas = base_db96.copy()\n",
    "    X_side_cas = X_side_cas[side_cas]\n",
    "    X_side_cas = X_side_cas.drop_duplicates(subset=\"test_cas\").reset_index(drop=True)\n",
    "    X_side_cas = X_side_cas.dropna()\n",
    "\n",
    "    X_side_species[\"species\"] = enc_species.transform(X_side_species.species.values.reshape(-1,1))\n",
    "    X_side_cas[\"test_cas\"] = enc_cas.transform(X_side_cas.test_cas.values.reshape(-1,1))\n",
    "\n",
    "    X_species = tc.SFrame(X_side_species)\n",
    "    X_cas = tc.SFrame(X_side_cas)\n",
    "\n",
    "    if (no_cas==True and no_spec==True):\n",
    "      model = tc.recommender.factorization_recommender.create(X_train, user_id='test_cas', item_id='species', target='score', solver=\"sgd\", max_iterations=1000, verbose=False, binary_target=True)\n",
    "    elif(no_cas==True and no_spec==False):\n",
    "      model = tc.recommender.factorization_recommender.create(X_train, user_id='test_cas', item_id='species', target='score', item_data=X_species, solver=\"sgd\", max_iterations=1000, verbose=False, binary_target=True)\n",
    "    elif(no_cas==False and no_spec==True):\n",
    "      model = tc.recommender.factorization_recommender.create(X_train, user_id='test_cas', item_id='species', target='score', user_data=X_cas, solver=\"sgd\", max_iterations=1000, verbose=False, binary_target=True)\n",
    "    else:\n",
    "      model = tc.recommender.factorization_recommender.create(X_train, user_id='test_cas', item_id='species', target='score', item_data=X_species, user_data=X_cas, solver=\"sgd\", max_iterations=1000, verbose=False, binary_target=True)\n",
    "\n",
    "    rmse = model.evaluate_rmse(X_test, 'score')['rmse_overall']\n",
    "\n",
    "    if rmse<best_rmse:\n",
    "      best_rmse = rmse\n",
    "      best_comb = side_cas + side_spec\n",
    "      print(\"Best combination found! RMSE: {}, features: {}\".format(best_rmse, best_comb))\n",
    "      "
   ]
  },
  {
   "cell_type": "code",
   "execution_count": null,
   "metadata": {
    "colab": {},
    "colab_type": "code",
    "id": "Oiwppabl4eft"
   },
   "outputs": [],
   "source": [
    "best_comb = ['test_cas', 'tripleBond', 'species', 'class', 'tax_order', 'genus']"
   ]
  },
  {
   "cell_type": "code",
   "execution_count": null,
   "metadata": {
    "colab": {},
    "colab_type": "code",
    "id": "6_GX7GLV4h8G"
   },
   "outputs": [],
   "source": [
    "X_side_cas = base_db96.copy()\n",
    "X_side_cas = X_side_cas[['test_cas', 'tripleBond']]\n",
    "X_side_cas = X_side_cas.drop_duplicates(subset=\"test_cas\").reset_index(drop=True)\n",
    "X_side_cas = X_side_cas.dropna()\n",
    "X_side_cas[\"test_cas\"] = enc_cas.transform(X_side_cas.test_cas.values.reshape(-1,1))\n",
    "X_cas = tc.SFrame(X_side_cas)\n",
    "\n",
    "X_side_species = base_db96.copy()\n",
    "X_side_species = X_side_species[['species', 'class', 'tax_order', 'genus']]\n",
    "X_side_species = X_side_species.drop_duplicates(subset=\"species\").reset_index(drop=True)\n",
    "X_side_species[\"species\"] = enc_species.transform(X_side_species.species.values.reshape(-1,1))\n",
    "X_species = tc.SFrame(X_side_species)"
   ]
  },
  {
   "cell_type": "code",
   "execution_count": null,
   "metadata": {
    "colab": {
     "base_uri": "https://localhost:8080/",
     "height": 850
    },
    "colab_type": "code",
    "id": "86RQsANy4meR",
    "outputId": "6bd4b291-4f45-4baa-b850-bba0d653c3a2"
   },
   "outputs": [
    {
     "data": {
      "text/html": [
       "<pre>Preparing data set.</pre>"
      ],
      "text/plain": [
       "Preparing data set."
      ]
     },
     "metadata": {
      "tags": []
     },
     "output_type": "display_data"
    },
    {
     "data": {
      "text/html": [
       "<pre>    Data has 15632 observations with 2621 users and 475 items.</pre>"
      ],
      "text/plain": [
       "    Data has 15632 observations with 2621 users and 475 items."
      ]
     },
     "metadata": {
      "tags": []
     },
     "output_type": "display_data"
    },
    {
     "data": {
      "text/html": [
       "<pre>    Data prepared in: 0.043926s</pre>"
      ],
      "text/plain": [
       "    Data prepared in: 0.043926s"
      ]
     },
     "metadata": {
      "tags": []
     },
     "output_type": "display_data"
    },
    {
     "data": {
      "text/html": [
       "<pre>Training factorization_recommender for recommendations.</pre>"
      ],
      "text/plain": [
       "Training factorization_recommender for recommendations."
      ]
     },
     "metadata": {
      "tags": []
     },
     "output_type": "display_data"
    },
    {
     "data": {
      "text/html": [
       "<pre>+--------------------------------+--------------------------------------------------+----------+</pre>"
      ],
      "text/plain": [
       "+--------------------------------+--------------------------------------------------+----------+"
      ]
     },
     "metadata": {
      "tags": []
     },
     "output_type": "display_data"
    },
    {
     "data": {
      "text/html": [
       "<pre>| Parameter                      | Description                                      | Value    |</pre>"
      ],
      "text/plain": [
       "| Parameter                      | Description                                      | Value    |"
      ]
     },
     "metadata": {
      "tags": []
     },
     "output_type": "display_data"
    },
    {
     "data": {
      "text/html": [
       "<pre>+--------------------------------+--------------------------------------------------+----------+</pre>"
      ],
      "text/plain": [
       "+--------------------------------+--------------------------------------------------+----------+"
      ]
     },
     "metadata": {
      "tags": []
     },
     "output_type": "display_data"
    },
    {
     "data": {
      "text/html": [
       "<pre>| num_factors                    | Factor Dimension                                 | 8        |</pre>"
      ],
      "text/plain": [
       "| num_factors                    | Factor Dimension                                 | 8        |"
      ]
     },
     "metadata": {
      "tags": []
     },
     "output_type": "display_data"
    },
    {
     "data": {
      "text/html": [
       "<pre>| regularization                 | L2 Regularization on Factors                     | 1e-08    |</pre>"
      ],
      "text/plain": [
       "| regularization                 | L2 Regularization on Factors                     | 1e-08    |"
      ]
     },
     "metadata": {
      "tags": []
     },
     "output_type": "display_data"
    },
    {
     "data": {
      "text/html": [
       "<pre>| solver                         | Solver used for training                         | sgd      |</pre>"
      ],
      "text/plain": [
       "| solver                         | Solver used for training                         | sgd      |"
      ]
     },
     "metadata": {
      "tags": []
     },
     "output_type": "display_data"
    },
    {
     "data": {
      "text/html": [
       "<pre>| linear_regularization          | L2 Regularization on Linear Coefficients         | 1e-10    |</pre>"
      ],
      "text/plain": [
       "| linear_regularization          | L2 Regularization on Linear Coefficients         | 1e-10    |"
      ]
     },
     "metadata": {
      "tags": []
     },
     "output_type": "display_data"
    },
    {
     "data": {
      "text/html": [
       "<pre>| binary_target                  | Assume Binary Targets                            | True     |</pre>"
      ],
      "text/plain": [
       "| binary_target                  | Assume Binary Targets                            | True     |"
      ]
     },
     "metadata": {
      "tags": []
     },
     "output_type": "display_data"
    },
    {
     "data": {
      "text/html": [
       "<pre>| side_data_factorization        | Assign Factors for Side Data                     | True     |</pre>"
      ],
      "text/plain": [
       "| side_data_factorization        | Assign Factors for Side Data                     | True     |"
      ]
     },
     "metadata": {
      "tags": []
     },
     "output_type": "display_data"
    },
    {
     "data": {
      "text/html": [
       "<pre>| max_iterations                 | Maximum Number of Iterations                     | 1000     |</pre>"
      ],
      "text/plain": [
       "| max_iterations                 | Maximum Number of Iterations                     | 1000     |"
      ]
     },
     "metadata": {
      "tags": []
     },
     "output_type": "display_data"
    },
    {
     "data": {
      "text/html": [
       "<pre>+--------------------------------+--------------------------------------------------+----------+</pre>"
      ],
      "text/plain": [
       "+--------------------------------+--------------------------------------------------+----------+"
      ]
     },
     "metadata": {
      "tags": []
     },
     "output_type": "display_data"
    },
    {
     "data": {
      "text/html": [
       "<pre>  Optimizing model using SGD; tuning step size.</pre>"
      ],
      "text/plain": [
       "  Optimizing model using SGD; tuning step size."
      ]
     },
     "metadata": {
      "tags": []
     },
     "output_type": "display_data"
    },
    {
     "data": {
      "text/html": [
       "<pre>  Using 10000 / 15632 points for tuning the step size.</pre>"
      ],
      "text/plain": [
       "  Using 10000 / 15632 points for tuning the step size."
      ]
     },
     "metadata": {
      "tags": []
     },
     "output_type": "display_data"
    },
    {
     "data": {
      "text/html": [
       "<pre>+---------+-------------------+------------------------------------------+</pre>"
      ],
      "text/plain": [
       "+---------+-------------------+------------------------------------------+"
      ]
     },
     "metadata": {
      "tags": []
     },
     "output_type": "display_data"
    },
    {
     "data": {
      "text/html": [
       "<pre>| Attempt | Initial Step Size | Estimated Objective Value                |</pre>"
      ],
      "text/plain": [
       "| Attempt | Initial Step Size | Estimated Objective Value                |"
      ]
     },
     "metadata": {
      "tags": []
     },
     "output_type": "display_data"
    },
    {
     "data": {
      "text/html": [
       "<pre>+---------+-------------------+------------------------------------------+</pre>"
      ],
      "text/plain": [
       "+---------+-------------------+------------------------------------------+"
      ]
     },
     "metadata": {
      "tags": []
     },
     "output_type": "display_data"
    },
    {
     "data": {
      "text/html": [
       "<pre>| 0       | 5.55556           | Not Viable                               |</pre>"
      ],
      "text/plain": [
       "| 0       | 5.55556           | Not Viable                               |"
      ]
     },
     "metadata": {
      "tags": []
     },
     "output_type": "display_data"
    },
    {
     "data": {
      "text/html": [
       "<pre>| 1       | 1.38889           | Not Viable                               |</pre>"
      ],
      "text/plain": [
       "| 1       | 1.38889           | Not Viable                               |"
      ]
     },
     "metadata": {
      "tags": []
     },
     "output_type": "display_data"
    },
    {
     "data": {
      "text/html": [
       "<pre>| 2       | 0.347222          | Not Viable                               |</pre>"
      ],
      "text/plain": [
       "| 2       | 0.347222          | Not Viable                               |"
      ]
     },
     "metadata": {
      "tags": []
     },
     "output_type": "display_data"
    },
    {
     "data": {
      "text/html": [
       "<pre>| 3       | 0.0868056         | 0.265352                                 |</pre>"
      ],
      "text/plain": [
       "| 3       | 0.0868056         | 0.265352                                 |"
      ]
     },
     "metadata": {
      "tags": []
     },
     "output_type": "display_data"
    },
    {
     "data": {
      "text/html": [
       "<pre>| 4       | 0.0434028         | No Decrease (0.693612 >= 0.656608)       |</pre>"
      ],
      "text/plain": [
       "| 4       | 0.0434028         | No Decrease (0.693612 >= 0.656608)       |"
      ]
     },
     "metadata": {
      "tags": []
     },
     "output_type": "display_data"
    },
    {
     "data": {
      "text/html": [
       "<pre>| 5       | 0.0108507         | 0.533255                                 |</pre>"
      ],
      "text/plain": [
       "| 5       | 0.0108507         | 0.533255                                 |"
      ]
     },
     "metadata": {
      "tags": []
     },
     "output_type": "display_data"
    },
    {
     "data": {
      "text/html": [
       "<pre>+---------+-------------------+------------------------------------------+</pre>"
      ],
      "text/plain": [
       "+---------+-------------------+------------------------------------------+"
      ]
     },
     "metadata": {
      "tags": []
     },
     "output_type": "display_data"
    },
    {
     "data": {
      "text/html": [
       "<pre>| Final   | 0.0868056         | 0.265352                                 |</pre>"
      ],
      "text/plain": [
       "| Final   | 0.0868056         | 0.265352                                 |"
      ]
     },
     "metadata": {
      "tags": []
     },
     "output_type": "display_data"
    },
    {
     "data": {
      "text/html": [
       "<pre>+---------+-------------------+------------------------------------------+</pre>"
      ],
      "text/plain": [
       "+---------+-------------------+------------------------------------------+"
      ]
     },
     "metadata": {
      "tags": []
     },
     "output_type": "display_data"
    },
    {
     "data": {
      "text/html": [
       "<pre>Starting Optimization.</pre>"
      ],
      "text/plain": [
       "Starting Optimization."
      ]
     },
     "metadata": {
      "tags": []
     },
     "output_type": "display_data"
    },
    {
     "data": {
      "text/html": [
       "<pre>+---------+--------------+-------------------+-----------------------------------+-------------+</pre>"
      ],
      "text/plain": [
       "+---------+--------------+-------------------+-----------------------------------+-------------+"
      ]
     },
     "metadata": {
      "tags": []
     },
     "output_type": "display_data"
    },
    {
     "data": {
      "text/html": [
       "<pre>| Iter.   | Elapsed Time | Approx. Objective | Approx. Training Predictive Error | Step Size   |</pre>"
      ],
      "text/plain": [
       "| Iter.   | Elapsed Time | Approx. Objective | Approx. Training Predictive Error | Step Size   |"
      ]
     },
     "metadata": {
      "tags": []
     },
     "output_type": "display_data"
    },
    {
     "data": {
      "text/html": [
       "<pre>+---------+--------------+-------------------+-----------------------------------+-------------+</pre>"
      ],
      "text/plain": [
       "+---------+--------------+-------------------+-----------------------------------+-------------+"
      ]
     },
     "metadata": {
      "tags": []
     },
     "output_type": "display_data"
    },
    {
     "data": {
      "text/html": [
       "<pre>| Initial | 49us         | 0.658496          | 0.658496                          |             |</pre>"
      ],
      "text/plain": [
       "| Initial | 49us         | 0.658496          | 0.658496                          |             |"
      ]
     },
     "metadata": {
      "tags": []
     },
     "output_type": "display_data"
    },
    {
     "data": {
      "text/html": [
       "<pre>+---------+--------------+-------------------+-----------------------------------+-------------+</pre>"
      ],
      "text/plain": [
       "+---------+--------------+-------------------+-----------------------------------+-------------+"
      ]
     },
     "metadata": {
      "tags": []
     },
     "output_type": "display_data"
    },
    {
     "data": {
      "text/html": [
       "<pre>| 1       | 36.256ms     | 0.515419          | 0.515416                          | 0.0868056   |</pre>"
      ],
      "text/plain": [
       "| 1       | 36.256ms     | 0.515419          | 0.515416                          | 0.0868056   |"
      ]
     },
     "metadata": {
      "tags": []
     },
     "output_type": "display_data"
    },
    {
     "data": {
      "text/html": [
       "<pre>| 2       | 59.321ms     | 0.396741          | 0.396738                          | 0.0516149   |</pre>"
      ],
      "text/plain": [
       "| 2       | 59.321ms     | 0.396741          | 0.396738                          | 0.0516149   |"
      ]
     },
     "metadata": {
      "tags": []
     },
     "output_type": "display_data"
    },
    {
     "data": {
      "text/html": [
       "<pre>| 3       | 83.896ms     | 0.336349          | 0.336346                          | 0.0380808   |</pre>"
      ],
      "text/plain": [
       "| 3       | 83.896ms     | 0.336349          | 0.336346                          | 0.0380808   |"
      ]
     },
     "metadata": {
      "tags": []
     },
     "output_type": "display_data"
    },
    {
     "data": {
      "text/html": [
       "<pre>| 4       | 114.777ms    | 0.294111          | 0.294107                          | 0.0306904   |</pre>"
      ],
      "text/plain": [
       "| 4       | 114.777ms    | 0.294111          | 0.294107                          | 0.0306904   |"
      ]
     },
     "metadata": {
      "tags": []
     },
     "output_type": "display_data"
    },
    {
     "data": {
      "text/html": [
       "<pre>| 5       | 143.494ms    | 0.268667          | 0.268663                          | 0.0259609   |</pre>"
      ],
      "text/plain": [
       "| 5       | 143.494ms    | 0.268667          | 0.268663                          | 0.0259609   |"
      ]
     },
     "metadata": {
      "tags": []
     },
     "output_type": "display_data"
    },
    {
     "data": {
      "text/html": [
       "<pre>| 10      | 250.499ms    | 0.191806          | 0.191799                          | 0.0154365   |</pre>"
      ],
      "text/plain": [
       "| 10      | 250.499ms    | 0.191806          | 0.191799                          | 0.0154365   |"
      ]
     },
     "metadata": {
      "tags": []
     },
     "output_type": "display_data"
    },
    {
     "data": {
      "text/html": [
       "<pre>| 50      | 1.05s        | 0.0847037         | 0.0846887                         | 0.00461658  |</pre>"
      ],
      "text/plain": [
       "| 50      | 1.05s        | 0.0847037         | 0.0846887                         | 0.00461658  |"
      ]
     },
     "metadata": {
      "tags": []
     },
     "output_type": "display_data"
    },
    {
     "data": {
      "text/html": [
       "<pre>| 100     | 2.05s        | 0.0626766         | 0.0626597                         | 0.000171565 |</pre>"
      ],
      "text/plain": [
       "| 100     | 2.05s        | 0.0626766         | 0.0626597                         | 0.000171565 |"
      ]
     },
     "metadata": {
      "tags": []
     },
     "output_type": "display_data"
    },
    {
     "data": {
      "text/html": [
       "<pre>| 132     | 2.71s        | 0.06198           | 0.0619631                         | 1.23138e-05 |</pre>"
      ],
      "text/plain": [
       "| 132     | 2.71s        | 0.06198           | 0.0619631                         | 1.23138e-05 |"
      ]
     },
     "metadata": {
      "tags": []
     },
     "output_type": "display_data"
    },
    {
     "data": {
      "text/html": [
       "<pre>+---------+--------------+-------------------+-----------------------------------+-------------+</pre>"
      ],
      "text/plain": [
       "+---------+--------------+-------------------+-----------------------------------+-------------+"
      ]
     },
     "metadata": {
      "tags": []
     },
     "output_type": "display_data"
    },
    {
     "data": {
      "text/html": [
       "<pre>Optimization Complete: Convergence on objective within bounds.</pre>"
      ],
      "text/plain": [
       "Optimization Complete: Convergence on objective within bounds."
      ]
     },
     "metadata": {
      "tags": []
     },
     "output_type": "display_data"
    },
    {
     "data": {
      "text/html": [
       "<pre>Computing final objective value and training Predictive Error.</pre>"
      ],
      "text/plain": [
       "Computing final objective value and training Predictive Error."
      ]
     },
     "metadata": {
      "tags": []
     },
     "output_type": "display_data"
    },
    {
     "data": {
      "text/html": [
       "<pre>       Final objective value: 0.0619435</pre>"
      ],
      "text/plain": [
       "       Final objective value: 0.0619435"
      ]
     },
     "metadata": {
      "tags": []
     },
     "output_type": "display_data"
    },
    {
     "data": {
      "text/html": [
       "<pre>       Final training Predictive Error: 0.0619266</pre>"
      ],
      "text/plain": [
       "       Final training Predictive Error: 0.0619266"
      ]
     },
     "metadata": {
      "tags": []
     },
     "output_type": "display_data"
    }
   ],
   "source": [
    "X_train, X_test = tc.SFrame(X_train_scored), tc.SFrame(X_test_scored)\n",
    "\n",
    "model = tc.recommender.factorization_recommender.create(X_train, user_id='test_cas', item_id='species', target='score', user_data=X_cas, item_data=X_species, solver=\"sgd\", max_iterations=1000, verbose=True, binary_target=True)"
   ]
  },
  {
   "cell_type": "code",
   "execution_count": null,
   "metadata": {
    "colab": {
     "base_uri": "https://localhost:8080/",
     "height": 34
    },
    "colab_type": "code",
    "id": "6QidoIuY4q45",
    "outputId": "7f03008a-9ca2-4a7b-b411-944405ef7d7e"
   },
   "outputs": [
    {
     "data": {
      "text/plain": [
       "0.12697740184482492"
      ]
     },
     "execution_count": 30,
     "metadata": {
      "tags": []
     },
     "output_type": "execute_result"
    }
   ],
   "source": [
    "model.evaluate_rmse(X_train, 'score')['rmse_overall']"
   ]
  },
  {
   "cell_type": "code",
   "execution_count": null,
   "metadata": {
    "colab": {
     "base_uri": "https://localhost:8080/",
     "height": 34
    },
    "colab_type": "code",
    "id": "agw-xp3t4tHR",
    "outputId": "491158c4-1c29-4bbf-afdd-01b63c77f0d0"
   },
   "outputs": [
    {
     "data": {
      "text/plain": [
       "0.9815762538382804"
      ]
     },
     "execution_count": 32,
     "metadata": {
      "tags": []
     },
     "output_type": "execute_result"
    }
   ],
   "source": [
    "X_train_predict = model.predict(X_train)\n",
    "X_train_score = X_train.select_column(\"score\")\n",
    "X_train_predict = np.where(X_train_predict.to_numpy()>=0.5, 1, 0)\n",
    "accuracy_score(X_train_score.to_numpy(), X_train_predict)"
   ]
  },
  {
   "cell_type": "code",
   "execution_count": null,
   "metadata": {
    "colab": {
     "base_uri": "https://localhost:8080/",
     "height": 34
    },
    "colab_type": "code",
    "id": "4Snv56Mk40a2",
    "outputId": "395dae0c-3bb0-43a0-88ae-b9d0cf3f910c"
   },
   "outputs": [
    {
     "data": {
      "text/plain": [
       "0.27091323172704734"
      ]
     },
     "execution_count": 33,
     "metadata": {
      "tags": []
     },
     "output_type": "execute_result"
    }
   ],
   "source": [
    "model.evaluate_rmse(X_test, 'score')['rmse_overall']"
   ]
  },
  {
   "cell_type": "code",
   "execution_count": null,
   "metadata": {
    "colab": {
     "base_uri": "https://localhost:8080/",
     "height": 34
    },
    "colab_type": "code",
    "id": "4H3srRUC41kL",
    "outputId": "c8aef29c-e656-4fdc-bc20-28d377daea26"
   },
   "outputs": [
    {
     "data": {
      "text/plain": [
       "0.9115584415584416"
      ]
     },
     "execution_count": 34,
     "metadata": {
      "tags": []
     },
     "output_type": "execute_result"
    }
   ],
   "source": [
    "X_test_predict = model.predict(X_test)\n",
    "X_test_score = X_test.select_column(\"score\")\n",
    "X_test_predict = np.where(X_test_predict.to_numpy()>=0.5, 1, 0)\n",
    "accuracy_score(X_test_score.to_numpy(), X_test_predict)"
   ]
  },
  {
   "cell_type": "markdown",
   "metadata": {
    "colab_type": "text",
    "id": "jAcH4OmgRcl-"
   },
   "source": [
    "# Implementing CV"
   ]
  },
  {
   "cell_type": "code",
   "execution_count": null,
   "metadata": {
    "colab": {},
    "colab_type": "code",
    "id": "sBHtCSytYt3G"
   },
   "outputs": [],
   "source": [
    "X_train_original, X_test_original, X_train_scored, X_test_scored = train_test_split(X_original, X_fact_scored, test_size=0.33)"
   ]
  },
  {
   "cell_type": "code",
   "execution_count": null,
   "metadata": {
    "colab": {},
    "colab_type": "code",
    "id": "LOYfVdmba6fV"
   },
   "outputs": [],
   "source": [
    "X_train_original = X_train_original.reset_index(drop=True)\n",
    "X_test_original = X_test_original.reset_index(drop=True)\n",
    "X_train_scored = X_train_scored.reset_index(drop=True)\n",
    "X_test_scored = X_test_scored.reset_index(drop=True)"
   ]
  },
  {
   "cell_type": "code",
   "execution_count": null,
   "metadata": {
    "colab": {
     "base_uri": "https://localhost:8080/",
     "height": 544
    },
    "colab_type": "code",
    "id": "kTyvF7N_aS-7",
    "outputId": "d5e16da2-b423-4c45-b096-86b3c35676a1"
   },
   "outputs": [
    {
     "name": "stdout",
     "output_type": "stream",
     "text": [
      "New best param combination found! RMSE:0.36682714300000246, Acc:0.7975935668346636, num_factors:1, regularizer:1e-12, lin_reg:1e-12\n",
      "New best param combination found! RMSE:0.3586232514368021, Acc:0.7984263934025088, num_factors:1, regularizer:1e-12, lin_reg:5.455594781168515e-10\n",
      "New best param combination found! RMSE:0.34123674999231596, Acc:0.8220288839753201, num_factors:1, regularizer:1e-12, lin_reg:1.2742749857031347e-08\n",
      "New best param combination found! RMSE:0.3084791836529726, Acc:0.8552984710599766, num_factors:1, regularizer:4.832930238571752e-12, lin_reg:2.976351441631319e-07\n",
      "New best param combination found! RMSE:0.30296793993458027, Acc:0.8553578341401679, num_factors:1, regularizer:2.976351441631319e-07, lin_reg:6.158482110660267e-08\n",
      "New best param combination found! RMSE:0.2791507907036466, Acc:0.8721852967902315, num_factors:2, regularizer:1e-12, lin_reg:1e-12\n",
      "New best param combination found! RMSE:0.27257437366302617, Acc:0.8799896571957078, num_factors:2, regularizer:1e-12, lin_reg:1.1288378916846884e-10\n",
      "New best param combination found! RMSE:0.2666818840646061, Acc:0.8861309919110282, num_factors:2, regularizer:2.3357214690901212e-11, lin_reg:0.0007847599703514623\n",
      "New best param combination found! RMSE:0.26442383230530425, Acc:0.884275757529995, num_factors:3, regularizer:1e-12, lin_reg:0.0007847599703514623\n",
      "New best param combination found! RMSE:0.26127269569679495, Acc:0.8872823901110807, num_factors:3, regularizer:4.832930238571752e-12, lin_reg:2.6366508987303554e-09\n",
      "New best param combination found! RMSE:0.25977513498710963, Acc:0.8862591596864401, num_factors:3, regularizer:5.455594781168515e-10, lin_reg:4.832930238571752e-12\n",
      "New best param combination found! RMSE:0.2579728813313402, Acc:0.8874745128574784, num_factors:3, regularizer:2.976351441631319e-07, lin_reg:1.2742749857031347e-08\n",
      "New best param combination found! RMSE:0.2575586631452019, Acc:0.8838283551221008, num_factors:4, regularizer:1e-12, lin_reg:4.832930238571752e-12\n",
      "New best param combination found! RMSE:0.2547771350486661, Acc:0.8882418374536959, num_factors:4, regularizer:1e-12, lin_reg:6.158482110660267e-08\n",
      "New best param combination found! RMSE:0.2543678686104211, Acc:0.8880498129295612, num_factors:4, regularizer:2.3357214690901212e-11, lin_reg:0.00016237767391887243\n",
      "New best param combination found! RMSE:0.2500299833873344, Acc:0.8889454403568022, num_factors:5, regularizer:1e-12, lin_reg:1.1288378916846884e-10\n",
      "New best param combination found! RMSE:0.24791936380033397, Acc:0.8884346232003687, num_factors:5, regularizer:1e-12, lin_reg:1.2742749857031347e-08\n",
      "New best param combination found! RMSE:0.24760779700304544, Acc:0.8901609040278863, num_factors:5, regularizer:1e-12, lin_reg:1.438449888287663e-06\n",
      "New best param combination found! RMSE:0.24625640546887814, Acc:0.8906727402402983, num_factors:5, regularizer:1.2742749857031347e-08, lin_reg:1.1288378916846884e-10\n",
      "New best param combination found! RMSE:0.2455729676270404, Acc:0.8899051332550748, num_factors:6, regularizer:1e-12, lin_reg:2.3357214690901212e-11\n",
      "New best param combination found! RMSE:0.24486277301355075, Acc:0.8888818046081711, num_factors:6, regularizer:1e-12, lin_reg:5.455594781168515e-10\n",
      "New best param combination found! RMSE:0.2442256907308943, Acc:0.8902890718032981, num_factors:6, regularizer:4.832930238571752e-12, lin_reg:5.455594781168515e-10\n",
      "New best param combination found! RMSE:0.24363412756820688, Acc:0.8884337637555676, num_factors:6, regularizer:4.832930238571752e-12, lin_reg:2.6366508987303554e-09\n",
      "New best param combination found! RMSE:0.2434575969228655, Acc:0.8905448916872412, num_factors:6, regularizer:4.832930238571752e-12, lin_reg:2.976351441631319e-07\n",
      "New best param combination found! RMSE:0.24235499626408738, Acc:0.8908648138755644, num_factors:6, regularizer:5.455594781168515e-10, lin_reg:0.00016237767391887243\n",
      "New best param combination found! RMSE:0.2413298383275193, Acc:0.8895862915116443, num_factors:6, regularizer:6.158482110660267e-08, lin_reg:0.00016237767391887243\n",
      "New best param combination found! RMSE:0.2412585564286033, Acc:0.8897771128130573, num_factors:6, regularizer:1.438449888287663e-06, lin_reg:6.158482110660267e-08\n",
      "New best param combination found! RMSE:0.24116210075353303, Acc:0.8892655467118686, num_factors:7, regularizer:1e-12, lin_reg:1.2742749857031347e-08\n",
      "New best param combination found! RMSE:0.24061152029039357, Acc:0.8883699561179763, num_factors:7, regularizer:1e-12, lin_reg:2.976351441631319e-07\n",
      "New best param combination found! RMSE:0.23818807014199214, Acc:0.8903529408298039, num_factors:7, regularizer:1e-12, lin_reg:0.00016237767391887243\n",
      "New best param combination found! RMSE:0.237211828077722, Acc:0.8901608426389719, num_factors:7, regularizer:6.158482110660267e-08, lin_reg:0.0007847599703514623\n"
     ]
    }
   ],
   "source": [
    "factors = list(range(1, 15, 1))\n",
    "regularizs = np.logspace(-12, 1, 20)\n",
    "lin_regularizs = np.logspace(-12, 1, 20)\n",
    "best_acc, best_lin_regulariz, best_regulariz, best_factor = cv_fact_class(X_train_scored, X_cas, X_species, factors, regularizs, lin_regularizs, cv = 3, verbose=True, params_samples = False)\n",
    "# pickle.dump(best_acc, open(\"/content/drive/My Drive/Colab Notebooks/data/ML_Project/best_acc_class_cat.pkl\", \"wb\" ) )\n",
    "# pickle.dump(best_lin_regulariz, open(\"/content/drive/My Drive/Colab Notebooks/data/ML_Project/best_lin_reg_class_cat.pkl\", \"wb\" ) )\n",
    "# pickle.dump(best_regulariz, open(\"/content/drive/My Drive/Colab Notebooks/data/ML_Project/best_regulariz_class_cat.pkl\", \"wb\" ) )\n",
    "# pickle.dump(best_factor, open(\"/content/drive/My Drive/Colab Notebooks/data/ML_Project/best_factor_class_cat.pkl\", \"wb\" ) )"
   ]
  },
  {
   "cell_type": "code",
   "execution_count": null,
   "metadata": {
    "colab": {
     "base_uri": "https://localhost:8080/",
     "height": 153
    },
    "colab_type": "code",
    "id": "HI5rg7_IBIac",
    "outputId": "28d3fb01-970e-416c-d19e-a1b72009f128"
   },
   "outputs": [
    {
     "name": "stdout",
     "output_type": "stream",
     "text": [
      "New best param combination found! RMSE:0.3019561857087426, Acc:0.88318746713391, num_factors:7, regularizer:1e-12, lin_reg:1e-12\n",
      "New best param combination found! RMSE:0.29788795292614484, Acc:0.8797331620337067, num_factors:7, regularizer:1e-12, lin_reg:2.395026619987481e-12\n",
      "New best param combination found! RMSE:0.29498621854786805, Acc:0.8843398966677237, num_factors:7, regularizer:1e-12, lin_reg:7.880462815669904e-11\n",
      "New best param combination found! RMSE:0.2933349858879905, Acc:0.8894568959579452, num_factors:7, regularizer:1e-12, lin_reg:4.5203536563602404e-10\n",
      "New best param combination found! RMSE:0.29213007934474744, Acc:0.8865793765415524, num_factors:7, regularizer:1e-12, lin_reg:1.610262027560939e-05\n",
      "New best param combination found! RMSE:0.2902314739294729, Acc:0.8884983203379141, num_factors:7, regularizer:5.736152510448681e-12, lin_reg:6.210169418915603e-09\n",
      "New best param combination found! RMSE:0.28997464077599405, Acc:0.8870264720048747, num_factors:7, regularizer:1.887391822135092e-10, lin_reg:1.373823795883261e-11\n",
      "New best param combination found! RMSE:0.2892642369767022, Acc:0.888689829195168, num_factors:7, regularizer:8.531678524172797e-08, lin_reg:6.723357536499335e-06\n"
     ]
    }
   ],
   "source": [
    "factors = list(range(7, 15, 1))\n",
    "regularizs = np.logspace(-12, -1, 30)\n",
    "lin_regularizs = np.logspace(-12, -1, 30)\n",
    "best_acc, best_lin_regulariz, best_regulariz, best_factor = cv_fact_class(X_train_scored, X_cas, X_species, factors, regularizs, lin_regularizs, cv = 3, verbose=True, params_samples = False)\n",
    "# pickle.dump(best_acc, open(\"/content/drive/My Drive/Colab Notebooks/data/ML_Project/best_acc_class_cat.pkl\", \"wb\" ) )\n",
    "# pickle.dump(best_lin_regulariz, open(\"/content/drive/My Drive/Colab Notebooks/data/ML_Project/best_lin_reg_class_cat.pkl\", \"wb\" ) )\n",
    "# pickle.dump(best_regulariz, open(\"/content/drive/My Drive/Colab Notebooks/data/ML_Project/best_regulariz_class_cat.pkl\", \"wb\" ) )\n",
    "# pickle.dump(best_factor, open(\"/content/drive/My Drive/Colab Notebooks/data/ML_Project/best_factor_class_cat.pkl\", \"wb\" ) )"
   ]
  },
  {
   "cell_type": "code",
   "execution_count": null,
   "metadata": {
    "colab": {
     "base_uri": "https://localhost:8080/",
     "height": 187
    },
    "colab_type": "code",
    "id": "RyJd1we-zMjN",
    "outputId": "3aca44b3-6f4b-43bf-a637-99b09ee135fe"
   },
   "outputs": [
    {
     "name": "stdout",
     "output_type": "stream",
     "text": [
      "New best param combination found! Acc:0.79752919441906, num_factors:1, regularizer:1e-12, lin_reg:1e-12\n",
      "New best param combination found! Acc:0.8079580045803497, num_factors:1, regularizer:1e-12, lin_reg:3.3598182862837877e-10\n",
      "New best param combination found! Acc:0.8123097910530076, num_factors:1, regularizer:1e-12, lin_reg:8.858667904100815e-06\n",
      "New best param combination found! Acc:0.8134591265855375, num_factors:1, regularizer:3.3598182862837877e-10, lin_reg:1e-12\n",
      "New best param combination found! Acc:0.8135233639455294, num_factors:1, regularizer:1.4384498882876659e-09, lin_reg:3.792690190732246e-05\n",
      "New best param combination found! Acc:0.8142906025972666, num_factors:1, regularizer:0.002976351441631313, lin_reg:1e-12\n",
      "New best param combination found! Acc:0.8200486494868562, num_factors:1, regularizer:0.002976351441631313, lin_reg:4.281332398719396e-12\n",
      "New best param combination found! Acc:0.8274695870109897, num_factors:1, regularizer:0.002976351441631313, lin_reg:1.8329807108324375e-11\n",
      "New best param combination found! Acc:0.8300281050727748, num_factors:1, regularizer:0.012742749857031322, lin_reg:1e-12\n",
      "New best param combination found! Acc:0.8311792699949526, num_factors:1, regularizer:0.012742749857031322, lin_reg:1.1288378916846883e-07\n"
     ]
    }
   ],
   "source": [
    "factors = list(range(1, 51, 5))\n",
    "regularizs = np.logspace(-12, 0, 20)\n",
    "lin_regularizs = np.logspace(-12, 0, 20)\n",
    "best_acc, best_lin_regulariz, best_regulariz, best_factor = cv_fact_class(X_train_scored, X_cas, X_species, factors, regularizs, lin_regularizs, cv = 3, verbose=True, params_samples = False)\n",
    "# pickle.dump(best_acc, open(\"/content/drive/My Drive/Colab Notebooks/data/ML_Project/best_acc_class_cat.pkl\", \"wb\" ) )\n",
    "# pickle.dump(best_lin_regulariz, open(\"/content/drive/My Drive/Colab Notebooks/data/ML_Project/best_lin_reg_class_cat.pkl\", \"wb\" ) )\n",
    "# pickle.dump(best_regulariz, open(\"/content/drive/My Drive/Colab Notebooks/data/ML_Project/best_regulariz_class_cat.pkl\", \"wb\" ) )\n",
    "# pickle.dump(best_factor, open(\"/content/drive/My Drive/Colab Notebooks/data/ML_Project/best_factor_class_cat.pkl\", \"wb\" ) )"
   ]
  },
  {
   "cell_type": "code",
   "execution_count": null,
   "metadata": {
    "colab": {},
    "colab_type": "code",
    "id": "8wQloCzlRcHa"
   },
   "outputs": [],
   "source": [
    "def cv_fact_class(X_scored, X_cas, X_species, factors, regularizs, lin_regulars,  cv = 3, verbose=True, params_samples = True, num_samples = 5):\n",
    "  best_factor = 0\n",
    "  best_regulariz = 0\n",
    "  best_lin_regulariz = 0\n",
    "  best_acc = 0\n",
    "  best_rmse = np.inf\n",
    "  np.random.seed(13)\n",
    "\n",
    "  if params_samples:\n",
    "    factors = np.random.choice(factors, num_samples)\n",
    "    regularizs = np.random.choice(regularizs, num_samples)\n",
    "    lin_regulars = np.random.choice(lin_regulars, num_samples)\n",
    "    \n",
    "  for factor in factors:\n",
    "    for regulariz in regularizs:\n",
    "      for lin_regular in lin_regulars:\n",
    "        accs = []\n",
    "        rmses = []\n",
    "        kf2 = KFold(n_splits=cv, shuffle=True)\n",
    "\n",
    "        for train_ind, test_ind in kf2.split(X_scored):\n",
    "          train = tc.SFrame(X_scored.loc[train_ind])\n",
    "          test = tc.SFrame(X_scored.loc[test_ind])\n",
    "\n",
    "          model = tc.recommender.factorization_recommender.create(train, 'test_cas', 'species', target='score', max_iterations=1000, \\\n",
    "                                                                  num_factors = factor, regularization=regulariz, linear_regularization=lin_regular, solver=\"sgd\", verbose=False, binary_target=True, user_data=X_cas, item_data=X_species)\n",
    "          \n",
    "          X_test_predict = model.predict(test)\n",
    "          X_test_predict = np.where(X_test_predict.to_numpy()>=0.5, 1, 0)\n",
    "          acc = accuracy_score(X_scored.loc[test_ind].score.values, X_test_predict)\n",
    "          rmse = model.evaluate_rmse(X_test, 'score')['rmse_overall']\n",
    "          accs.append(acc)\n",
    "          rmses.append(rmse)\n",
    "        \n",
    "        acc_avg = np.mean(accs)\n",
    "        rmse_avg = np.mean(rmses)\n",
    "\n",
    "        if (rmse_avg < best_rmse):\n",
    "          if verbose:\n",
    "            print(\"New best param combination found! RMSE:{}, Acc:{}, num_factors:{}, regularizer:{}, lin_reg:{}\".format(rmse_avg, acc_avg, factor, regulariz, lin_regular))     \n",
    "          best_acc = acc_avg\n",
    "          best_rmse = rmse_avg\n",
    "          best_lin_regulariz = lin_regular\n",
    "          best_regulariz = regulariz\n",
    "          best_factor = factor\n",
    "    \n",
    "  return best_acc, best_lin_regulariz, best_regulariz, best_factor\n"
   ]
  },
  {
   "cell_type": "code",
   "execution_count": null,
   "metadata": {
    "colab": {},
    "colab_type": "code",
    "id": "HWZR2Jq19Lr9"
   },
   "outputs": [],
   "source": [
    "best_factor = 7\n",
    "best_regulariz = 0.012742749857031322\n",
    "best_lin_regulariz = 1.1288378916846883e-07"
   ]
  },
  {
   "cell_type": "code",
   "execution_count": null,
   "metadata": {
    "colab": {
     "base_uri": "https://localhost:8080/",
     "height": 833
    },
    "colab_type": "code",
    "id": "UkKu_V2pgfKs",
    "outputId": "6554c8b1-9a09-4608-e7b8-909e2aaa1934"
   },
   "outputs": [
    {
     "data": {
      "text/html": [
       "<pre>Preparing data set.</pre>"
      ],
      "text/plain": [
       "Preparing data set."
      ]
     },
     "metadata": {
      "tags": []
     },
     "output_type": "display_data"
    },
    {
     "data": {
      "text/html": [
       "<pre>    Data has 15632 observations with 2621 users and 475 items.</pre>"
      ],
      "text/plain": [
       "    Data has 15632 observations with 2621 users and 475 items."
      ]
     },
     "metadata": {
      "tags": []
     },
     "output_type": "display_data"
    },
    {
     "data": {
      "text/html": [
       "<pre>    Data prepared in: 0.048027s</pre>"
      ],
      "text/plain": [
       "    Data prepared in: 0.048027s"
      ]
     },
     "metadata": {
      "tags": []
     },
     "output_type": "display_data"
    },
    {
     "data": {
      "text/html": [
       "<pre>Training factorization_recommender for recommendations.</pre>"
      ],
      "text/plain": [
       "Training factorization_recommender for recommendations."
      ]
     },
     "metadata": {
      "tags": []
     },
     "output_type": "display_data"
    },
    {
     "data": {
      "text/html": [
       "<pre>+--------------------------------+--------------------------------------------------+----------+</pre>"
      ],
      "text/plain": [
       "+--------------------------------+--------------------------------------------------+----------+"
      ]
     },
     "metadata": {
      "tags": []
     },
     "output_type": "display_data"
    },
    {
     "data": {
      "text/html": [
       "<pre>| Parameter                      | Description                                      | Value    |</pre>"
      ],
      "text/plain": [
       "| Parameter                      | Description                                      | Value    |"
      ]
     },
     "metadata": {
      "tags": []
     },
     "output_type": "display_data"
    },
    {
     "data": {
      "text/html": [
       "<pre>+--------------------------------+--------------------------------------------------+----------+</pre>"
      ],
      "text/plain": [
       "+--------------------------------+--------------------------------------------------+----------+"
      ]
     },
     "metadata": {
      "tags": []
     },
     "output_type": "display_data"
    },
    {
     "data": {
      "text/html": [
       "<pre>| num_factors                    | Factor Dimension                                 | 7        |</pre>"
      ],
      "text/plain": [
       "| num_factors                    | Factor Dimension                                 | 7        |"
      ]
     },
     "metadata": {
      "tags": []
     },
     "output_type": "display_data"
    },
    {
     "data": {
      "text/html": [
       "<pre>| regularization                 | L2 Regularization on Factors                     |          |</pre>"
      ],
      "text/plain": [
       "| regularization                 | L2 Regularization on Factors                     |          |"
      ]
     },
     "metadata": {
      "tags": []
     },
     "output_type": "display_data"
    },
    {
     "data": {
      "text/html": [
       "<pre>| solver                         | Solver used for training                         | sgd      |</pre>"
      ],
      "text/plain": [
       "| solver                         | Solver used for training                         | sgd      |"
      ]
     },
     "metadata": {
      "tags": []
     },
     "output_type": "display_data"
    },
    {
     "data": {
      "text/html": [
       "<pre>| linear_regularization          | L2 Regularization on Linear Coefficients         | 1.13e-07 |</pre>"
      ],
      "text/plain": [
       "| linear_regularization          | L2 Regularization on Linear Coefficients         | 1.13e-07 |"
      ]
     },
     "metadata": {
      "tags": []
     },
     "output_type": "display_data"
    },
    {
     "data": {
      "text/html": [
       "<pre>| binary_target                  | Assume Binary Targets                            | True     |</pre>"
      ],
      "text/plain": [
       "| binary_target                  | Assume Binary Targets                            | True     |"
      ]
     },
     "metadata": {
      "tags": []
     },
     "output_type": "display_data"
    },
    {
     "data": {
      "text/html": [
       "<pre>| side_data_factorization        | Assign Factors for Side Data                     | True     |</pre>"
      ],
      "text/plain": [
       "| side_data_factorization        | Assign Factors for Side Data                     | True     |"
      ]
     },
     "metadata": {
      "tags": []
     },
     "output_type": "display_data"
    },
    {
     "data": {
      "text/html": [
       "<pre>| max_iterations                 | Maximum Number of Iterations                     | 1000     |</pre>"
      ],
      "text/plain": [
       "| max_iterations                 | Maximum Number of Iterations                     | 1000     |"
      ]
     },
     "metadata": {
      "tags": []
     },
     "output_type": "display_data"
    },
    {
     "data": {
      "text/html": [
       "<pre>+--------------------------------+--------------------------------------------------+----------+</pre>"
      ],
      "text/plain": [
       "+--------------------------------+--------------------------------------------------+----------+"
      ]
     },
     "metadata": {
      "tags": []
     },
     "output_type": "display_data"
    },
    {
     "data": {
      "text/html": [
       "<pre>  Optimizing model using SGD; tuning step size.</pre>"
      ],
      "text/plain": [
       "  Optimizing model using SGD; tuning step size."
      ]
     },
     "metadata": {
      "tags": []
     },
     "output_type": "display_data"
    },
    {
     "data": {
      "text/html": [
       "<pre>  Using 10000 / 15632 points for tuning the step size.</pre>"
      ],
      "text/plain": [
       "  Using 10000 / 15632 points for tuning the step size."
      ]
     },
     "metadata": {
      "tags": []
     },
     "output_type": "display_data"
    },
    {
     "data": {
      "text/html": [
       "<pre>+---------+-------------------+------------------------------------------+</pre>"
      ],
      "text/plain": [
       "+---------+-------------------+------------------------------------------+"
      ]
     },
     "metadata": {
      "tags": []
     },
     "output_type": "display_data"
    },
    {
     "data": {
      "text/html": [
       "<pre>| Attempt | Initial Step Size | Estimated Objective Value                |</pre>"
      ],
      "text/plain": [
       "| Attempt | Initial Step Size | Estimated Objective Value                |"
      ]
     },
     "metadata": {
      "tags": []
     },
     "output_type": "display_data"
    },
    {
     "data": {
      "text/html": [
       "<pre>+---------+-------------------+------------------------------------------+</pre>"
      ],
      "text/plain": [
       "+---------+-------------------+------------------------------------------+"
      ]
     },
     "metadata": {
      "tags": []
     },
     "output_type": "display_data"
    },
    {
     "data": {
      "text/html": [
       "<pre>| 0       | 0.369033          | Not Viable                               |</pre>"
      ],
      "text/plain": [
       "| 0       | 0.369033          | Not Viable                               |"
      ]
     },
     "metadata": {
      "tags": []
     },
     "output_type": "display_data"
    },
    {
     "data": {
      "text/html": [
       "<pre>| 1       | 0.0922582         | 0.453288                                 |</pre>"
      ],
      "text/plain": [
       "| 1       | 0.0922582         | 0.453288                                 |"
      ]
     },
     "metadata": {
      "tags": []
     },
     "output_type": "display_data"
    },
    {
     "data": {
      "text/html": [
       "<pre>| 2       | 0.0461291         | 0.539472                                 |</pre>"
      ],
      "text/plain": [
       "| 2       | 0.0461291         | 0.539472                                 |"
      ]
     },
     "metadata": {
      "tags": []
     },
     "output_type": "display_data"
    },
    {
     "data": {
      "text/html": [
       "<pre>| 3       | 0.0230645         | 0.525701                                 |</pre>"
      ],
      "text/plain": [
       "| 3       | 0.0230645         | 0.525701                                 |"
      ]
     },
     "metadata": {
      "tags": []
     },
     "output_type": "display_data"
    },
    {
     "data": {
      "text/html": [
       "<pre>| 4       | 0.0115323         | 0.552894                                 |</pre>"
      ],
      "text/plain": [
       "| 4       | 0.0115323         | 0.552894                                 |"
      ]
     },
     "metadata": {
      "tags": []
     },
     "output_type": "display_data"
    },
    {
     "data": {
      "text/html": [
       "<pre>+---------+-------------------+------------------------------------------+</pre>"
      ],
      "text/plain": [
       "+---------+-------------------+------------------------------------------+"
      ]
     },
     "metadata": {
      "tags": []
     },
     "output_type": "display_data"
    },
    {
     "data": {
      "text/html": [
       "<pre>| Final   | 0.0922582         | 0.453288                                 |</pre>"
      ],
      "text/plain": [
       "| Final   | 0.0922582         | 0.453288                                 |"
      ]
     },
     "metadata": {
      "tags": []
     },
     "output_type": "display_data"
    },
    {
     "data": {
      "text/html": [
       "<pre>+---------+-------------------+------------------------------------------+</pre>"
      ],
      "text/plain": [
       "+---------+-------------------+------------------------------------------+"
      ]
     },
     "metadata": {
      "tags": []
     },
     "output_type": "display_data"
    },
    {
     "data": {
      "text/html": [
       "<pre>Starting Optimization.</pre>"
      ],
      "text/plain": [
       "Starting Optimization."
      ]
     },
     "metadata": {
      "tags": []
     },
     "output_type": "display_data"
    },
    {
     "data": {
      "text/html": [
       "<pre>+---------+--------------+-------------------+-----------------------------------+-------------+</pre>"
      ],
      "text/plain": [
       "+---------+--------------+-------------------+-----------------------------------+-------------+"
      ]
     },
     "metadata": {
      "tags": []
     },
     "output_type": "display_data"
    },
    {
     "data": {
      "text/html": [
       "<pre>| Iter.   | Elapsed Time | Approx. Objective | Approx. Training Predictive Error | Step Size   |</pre>"
      ],
      "text/plain": [
       "| Iter.   | Elapsed Time | Approx. Objective | Approx. Training Predictive Error | Step Size   |"
      ]
     },
     "metadata": {
      "tags": []
     },
     "output_type": "display_data"
    },
    {
     "data": {
      "text/html": [
       "<pre>+---------+--------------+-------------------+-----------------------------------+-------------+</pre>"
      ],
      "text/plain": [
       "+---------+--------------+-------------------+-----------------------------------+-------------+"
      ]
     },
     "metadata": {
      "tags": []
     },
     "output_type": "display_data"
    },
    {
     "data": {
      "text/html": [
       "<pre>| Initial | 222us        | 0.658497          | 0.658496                          |             |</pre>"
      ],
      "text/plain": [
       "| Initial | 222us        | 0.658497          | 0.658496                          |             |"
      ]
     },
     "metadata": {
      "tags": []
     },
     "output_type": "display_data"
    },
    {
     "data": {
      "text/html": [
       "<pre>+---------+--------------+-------------------+-----------------------------------+-------------+</pre>"
      ],
      "text/plain": [
       "+---------+--------------+-------------------+-----------------------------------+-------------+"
      ]
     },
     "metadata": {
      "tags": []
     },
     "output_type": "display_data"
    },
    {
     "data": {
      "text/html": [
       "<pre>| 1       | 44.618ms     | 0.681753          | 0.52685                           | 0.0922582   |</pre>"
      ],
      "text/plain": [
       "| 1       | 44.618ms     | 0.681753          | 0.52685                           | 0.0922582   |"
      ]
     },
     "metadata": {
      "tags": []
     },
     "output_type": "display_data"
    },
    {
     "data": {
      "text/html": [
       "<pre>| 2       | 77.36ms      | 0.500099          | 0.44595                           | 0.00476114  |</pre>"
      ],
      "text/plain": [
       "| 2       | 77.36ms      | 0.500099          | 0.44595                           | 0.00476114  |"
      ]
     },
     "metadata": {
      "tags": []
     },
     "output_type": "display_data"
    },
    {
     "data": {
      "text/html": [
       "<pre>| 3       | 111.466ms    | 0.463033          | 0.422424                          | 0.00244362  |</pre>"
      ],
      "text/plain": [
       "| 3       | 111.466ms    | 0.463033          | 0.422424                          | 0.00244362  |"
      ]
     },
     "metadata": {
      "tags": []
     },
     "output_type": "display_data"
    },
    {
     "data": {
      "text/html": [
       "<pre>| 4       | 145.472ms    | 0.459377          | 0.418793                          | 0.00163807  |</pre>"
      ],
      "text/plain": [
       "| 4       | 145.472ms    | 0.459377          | 0.418793                          | 0.00163807  |"
      ]
     },
     "metadata": {
      "tags": []
     },
     "output_type": "display_data"
    },
    {
     "data": {
      "text/html": [
       "<pre>| 5       | 178.136ms    | 0.451355          | 0.416804                          | 0.00123507  |</pre>"
      ],
      "text/plain": [
       "| 5       | 178.136ms    | 0.451355          | 0.416804                          | 0.00123507  |"
      ]
     },
     "metadata": {
      "tags": []
     },
     "output_type": "display_data"
    },
    {
     "data": {
      "text/html": [
       "<pre>| 10      | 330.595ms    | 0.444755          | 0.411136                          | 0.000551137 |</pre>"
      ],
      "text/plain": [
       "| 10      | 330.595ms    | 0.444755          | 0.411136                          | 0.000551137 |"
      ]
     },
     "metadata": {
      "tags": []
     },
     "output_type": "display_data"
    },
    {
     "data": {
      "text/html": [
       "<pre>| 50      | 1.59s        | 0.432081          | 0.404313                          | 2.1556e-05  |</pre>"
      ],
      "text/plain": [
       "| 50      | 1.59s        | 0.432081          | 0.404313                          | 2.1556e-05  |"
      ]
     },
     "metadata": {
      "tags": []
     },
     "output_type": "display_data"
    },
    {
     "data": {
      "text/html": [
       "<pre>| 100     | 3.11s        | 0.431316          | 0.40388                           | 3.20431e-06 |</pre>"
      ],
      "text/plain": [
       "| 100     | 3.11s        | 0.431316          | 0.40388                           | 3.20431e-06 |"
      ]
     },
     "metadata": {
      "tags": []
     },
     "output_type": "display_data"
    },
    {
     "data": {
      "text/html": [
       "<pre>| 110     | 3.42s        | 0.431277          | 0.403858                          | 2.50861e-06 |</pre>"
      ],
      "text/plain": [
       "| 110     | 3.42s        | 0.431277          | 0.403858                          | 2.50861e-06 |"
      ]
     },
     "metadata": {
      "tags": []
     },
     "output_type": "display_data"
    },
    {
     "data": {
      "text/html": [
       "<pre>+---------+--------------+-------------------+-----------------------------------+-------------+</pre>"
      ],
      "text/plain": [
       "+---------+--------------+-------------------+-----------------------------------+-------------+"
      ]
     },
     "metadata": {
      "tags": []
     },
     "output_type": "display_data"
    },
    {
     "data": {
      "text/html": [
       "<pre>Optimization Complete: Convergence on objective within bounds.</pre>"
      ],
      "text/plain": [
       "Optimization Complete: Convergence on objective within bounds."
      ]
     },
     "metadata": {
      "tags": []
     },
     "output_type": "display_data"
    },
    {
     "data": {
      "text/html": [
       "<pre>Computing final objective value and training Predictive Error.</pre>"
      ],
      "text/plain": [
       "Computing final objective value and training Predictive Error."
      ]
     },
     "metadata": {
      "tags": []
     },
     "output_type": "display_data"
    },
    {
     "data": {
      "text/html": [
       "<pre>       Final objective value: 0.43128</pre>"
      ],
      "text/plain": [
       "       Final objective value: 0.43128"
      ]
     },
     "metadata": {
      "tags": []
     },
     "output_type": "display_data"
    },
    {
     "data": {
      "text/html": [
       "<pre>       Final training Predictive Error: 0.40386</pre>"
      ],
      "text/plain": [
       "       Final training Predictive Error: 0.40386"
      ]
     },
     "metadata": {
      "tags": []
     },
     "output_type": "display_data"
    }
   ],
   "source": [
    "X_train, X_test = tc.SFrame(X_train_scored), tc.SFrame(X_test_scored)\n",
    "\n",
    "model = tc.recommender.factorization_recommender.create(X_train, user_id='test_cas', item_id='species', target='score', user_data=X_cas, item_data=X_species, solver=\"sgd\", max_iterations=1000, verbose=True, binary_target=True,\\\n",
    "                                                        num_factors=best_factor, regularization=best_regulariz, linear_regularization=best_lin_regulariz)"
   ]
  },
  {
   "cell_type": "code",
   "execution_count": null,
   "metadata": {
    "colab": {
     "base_uri": "https://localhost:8080/",
     "height": 34
    },
    "colab_type": "code",
    "id": "9j3aabdxQDmy",
    "outputId": "c800745d-622e-4b53-dfc6-1984c269afa4"
   },
   "outputs": [
    {
     "data": {
      "text/plain": [
       "0.3595002492594436"
      ]
     },
     "execution_count": 51,
     "metadata": {
      "tags": []
     },
     "output_type": "execute_result"
    }
   ],
   "source": [
    "model_test.evaluate_rmse(tc.SFrame(X_test_sc), 'score')['rmse_overall']"
   ]
  },
  {
   "cell_type": "code",
   "execution_count": null,
   "metadata": {
    "colab": {
     "base_uri": "https://localhost:8080/",
     "height": 88
    },
    "colab_type": "code",
    "id": "zuHqipofPjTj",
    "outputId": "37404268-ef7b-4577-9afa-c6e6f01d4012"
   },
   "outputs": [
    {
     "data": {
      "text/plain": [
       "dtype: float\n",
       "Rows: 7700\n",
       "[0.8592305008191438, 0.632156900440124, 0.8754358222268596, 0.9006166887525895, 0.431353634693737, 0.731679445888778, 0.7155138513645887, 0.808632734213072, 0.3312239636636498, 0.10251256296777748, 0.7399940872097318, 0.8581706689768952, 0.6602484228365514, 0.8872814366029363, 0.8361542535762623, 0.8132042295524919, 0.12331214145069266, 0.45367682067508575, 0.8089710912549444, 0.7949842215699139, 0.9666676618567526, 0.6849566928897497, 0.6011764259636545, 0.9462810469128009, 0.9072577124061832, 0.9441227633168894, 0.49812614300471947, 0.6125689668870193, 0.8440412112791789, 0.542017079472772, 0.6586392490468915, 0.5651847642642228, 0.76191538708631, 0.4427139120787785, 0.7214996307106853, 0.1591587251933669, 0.7901314126847088, 0.8122407452001399, 0.16033534214993425, 0.8393482388032704, 0.19195097311868192, 0.9259481778436081, 0.8771863073560706, 0.8914568994146459, 0.08422851105425636, 0.7631207449926822, 0.5975129213199716, 0.8983033869309663, 0.6899531997417999, 0.06941641629454734, 0.26506305203648206, 0.6702465508718605, 0.44306240401240105, 0.30759604555768394, 0.48514973630579983, 0.3618035423497984, 0.7459200243789289, 0.7127669336699171, 0.8704875849830155, 0.7348508008774868, 0.716943947590524, 0.6459068138210132, 0.8194689886240734, 0.12935516856441648, 0.7405446644812453, 0.6625968706787212, 0.2021489024980356, 0.7238682222644209, 0.36413802980175264, 0.9230381345221506, 0.778111324176094, 0.542112569561517, 0.8431573916600043, 0.757512970592787, 0.8057165778366666, 0.937503965038025, 0.7300748382499083, 0.8507069362511134, 0.584189673266926, 0.5992102060930077, 0.7676173131704669, 0.969176100638523, 0.8802175259201399, 0.6408265383167551, 0.08167363307914863, 0.6962390319406592, 0.8289419132945108, 0.7665825546452291, 0.5648812489471344, 0.7607018630497776, 0.8131825506295394, 0.7198648154648436, 0.263919726891449, 0.7544326485737409, 0.5625756008960573, 0.5810656449508171, 0.9047932903424021, 0.43333101225111786, 0.8362890164891911, 0.7471528772117416, ... ]"
      ]
     },
     "execution_count": 52,
     "metadata": {
      "tags": []
     },
     "output_type": "execute_result"
    }
   ],
   "source": [
    "X_test_predict = model_test.predict(tc.SFrame(X_test_sc))\n",
    "X_test_predict"
   ]
  },
  {
   "cell_type": "code",
   "execution_count": null,
   "metadata": {
    "colab": {
     "base_uri": "https://localhost:8080/",
     "height": 34
    },
    "colab_type": "code",
    "id": "Q9UvRWqVmO1R",
    "outputId": "762af677-a870-43c5-fa32-870e347c3d83"
   },
   "outputs": [
    {
     "data": {
      "text/plain": [
       "0.8318181818181818"
      ]
     },
     "execution_count": 53,
     "metadata": {
      "tags": []
     },
     "output_type": "execute_result"
    }
   ],
   "source": [
    "X_test_predict = np.where(X_test_predict.to_numpy()>=0.5, 1, 0)\n",
    "accuracy_score(X_test_sc.score, X_test_predict)"
   ]
  },
  {
   "cell_type": "code",
   "execution_count": null,
   "metadata": {
    "colab": {},
    "colab_type": "code",
    "id": "5-IBlYfD1pch"
   },
   "outputs": [],
   "source": []
  }
 ],
 "metadata": {
  "accelerator": "GPU",
  "colab": {
   "collapsed_sections": [],
   "name": "Tox_Classification_Categories",
   "provenance": []
  },
  "kernelspec": {
   "display_name": "Python 3",
   "language": "python",
   "name": "python3"
  },
  "language_info": {
   "codemirror_mode": {
    "name": "ipython",
    "version": 3
   },
   "file_extension": ".py",
   "mimetype": "text/x-python",
   "name": "python",
   "nbconvert_exporter": "python",
   "pygments_lexer": "ipython3",
   "version": "3.7.4"
  }
 },
 "nbformat": 4,
 "nbformat_minor": 4
}
