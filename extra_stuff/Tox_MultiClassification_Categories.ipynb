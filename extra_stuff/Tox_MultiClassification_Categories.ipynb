{
 "cells": [
  {
   "cell_type": "code",
   "execution_count": null,
   "metadata": {
    "colab": {
     "base_uri": "https://localhost:8080/",
     "height": 1000
    },
    "colab_type": "code",
    "id": "AkFRqOyf_Ok0",
    "outputId": "f7cf890b-3309-4e0a-f34c-f9e18c4aea14"
   },
   "outputs": [
    {
     "name": "stdout",
     "output_type": "stream",
     "text": [
      "Collecting turicreate==5.4\n",
      "\u001b[?25l  Downloading https://files.pythonhosted.org/packages/4f/ef/1847a704548ad4cbcabe09b3882181c190f5b696da8b2d082521c33ec187/turicreate-5.4-cp36-cp36m-manylinux1_x86_64.whl (87.4MB)\n",
      "\u001b[K     |████████████████████████████████| 87.4MB 119kB/s \n",
      "\u001b[?25hRequirement already satisfied: six>=1.10.0 in /usr/local/lib/python3.6/dist-packages (from turicreate==5.4) (1.12.0)\n",
      "Collecting resampy==0.2.1\n",
      "\u001b[?25l  Downloading https://files.pythonhosted.org/packages/14/b6/66a06d85474190b50aee1a6c09cdc95bb405ac47338b27e9b21409da1760/resampy-0.2.1.tar.gz (322kB)\n",
      "\u001b[K     |████████████████████████████████| 327kB 45.3MB/s \n",
      "\u001b[?25hRequirement already satisfied: scipy>=0.14.0 in /usr/local/lib/python3.6/dist-packages (from turicreate==5.4) (1.3.3)\n",
      "Requirement already satisfied: numpy in /usr/local/lib/python3.6/dist-packages (from turicreate==5.4) (1.17.4)\n",
      "Requirement already satisfied: prettytable==0.7.2 in /usr/local/lib/python3.6/dist-packages (from turicreate==5.4) (0.7.2)\n",
      "Collecting mxnet<1.2.0,>=1.1.0\n",
      "\u001b[?25l  Downloading https://files.pythonhosted.org/packages/96/98/c9877e100c3d1ac92263bfaba7bb8a49294e099046592040a2ff8620ac61/mxnet-1.1.0.post0-py2.py3-none-manylinux1_x86_64.whl (23.8MB)\n",
      "\u001b[K     |████████████████████████████████| 23.8MB 53.8MB/s \n",
      "\u001b[?25hCollecting coremltools==2.1.0\n",
      "\u001b[?25l  Downloading https://files.pythonhosted.org/packages/b9/9d/7ec5a2480c6afce4fcb99de1650b7abfd1457b2ef1de5ce39bf7bee8a8ae/coremltools-2.1.0-cp36-none-manylinux1_x86_64.whl (2.7MB)\n",
      "\u001b[K     |████████████████████████████████| 2.7MB 37.2MB/s \n",
      "\u001b[?25hRequirement already satisfied: pandas>=0.19.0 in /usr/local/lib/python3.6/dist-packages (from turicreate==5.4) (0.25.3)\n",
      "Requirement already satisfied: pillow>=3.3.0 in /usr/local/lib/python3.6/dist-packages (from turicreate==5.4) (4.3.0)\n",
      "Requirement already satisfied: decorator>=4.0.9 in /usr/local/lib/python3.6/dist-packages (from turicreate==5.4) (4.4.1)\n",
      "Requirement already satisfied: requests>=2.9.1 in /usr/local/lib/python3.6/dist-packages (from turicreate==5.4) (2.21.0)\n",
      "Requirement already satisfied: numba>=0.32 in /usr/local/lib/python3.6/dist-packages (from resampy==0.2.1->turicreate==5.4) (0.40.1)\n",
      "Collecting graphviz<0.9.0,>=0.8.1\n",
      "  Downloading https://files.pythonhosted.org/packages/53/39/4ab213673844e0c004bed8a0781a0721a3f6bb23eb8854ee75c236428892/graphviz-0.8.4-py2.py3-none-any.whl\n",
      "Requirement already satisfied: protobuf>=3.1.0 in /usr/local/lib/python3.6/dist-packages (from coremltools==2.1.0->turicreate==5.4) (3.10.0)\n",
      "Requirement already satisfied: python-dateutil>=2.6.1 in /usr/local/lib/python3.6/dist-packages (from pandas>=0.19.0->turicreate==5.4) (2.6.1)\n",
      "Requirement already satisfied: pytz>=2017.2 in /usr/local/lib/python3.6/dist-packages (from pandas>=0.19.0->turicreate==5.4) (2018.9)\n",
      "Requirement already satisfied: olefile in /usr/local/lib/python3.6/dist-packages (from pillow>=3.3.0->turicreate==5.4) (0.46)\n",
      "Requirement already satisfied: chardet<3.1.0,>=3.0.2 in /usr/local/lib/python3.6/dist-packages (from requests>=2.9.1->turicreate==5.4) (3.0.4)\n",
      "Requirement already satisfied: urllib3<1.25,>=1.21.1 in /usr/local/lib/python3.6/dist-packages (from requests>=2.9.1->turicreate==5.4) (1.24.3)\n",
      "Requirement already satisfied: idna<2.9,>=2.5 in /usr/local/lib/python3.6/dist-packages (from requests>=2.9.1->turicreate==5.4) (2.8)\n",
      "Requirement already satisfied: certifi>=2017.4.17 in /usr/local/lib/python3.6/dist-packages (from requests>=2.9.1->turicreate==5.4) (2019.11.28)\n",
      "Requirement already satisfied: llvmlite>=0.25.0dev0 in /usr/local/lib/python3.6/dist-packages (from numba>=0.32->resampy==0.2.1->turicreate==5.4) (0.30.0)\n",
      "Requirement already satisfied: setuptools in /usr/local/lib/python3.6/dist-packages (from protobuf>=3.1.0->coremltools==2.1.0->turicreate==5.4) (42.0.2)\n",
      "Building wheels for collected packages: resampy\n",
      "  Building wheel for resampy (setup.py) ... \u001b[?25l\u001b[?25hdone\n",
      "  Created wheel for resampy: filename=resampy-0.2.1-cp36-none-any.whl size=320847 sha256=e9af5aa62b481f7f775fb83f45a3dfdbf6032a132ea6166e137b8a685d8a256b\n",
      "  Stored in directory: /root/.cache/pip/wheels/ff/4f/ed/2e6c676c23efe5394bb40ade50662e90eb46e29b48324c5f9b\n",
      "Successfully built resampy\n",
      "\u001b[31mERROR: mxnet 1.1.0.post0 has requirement numpy<1.15.0,>=1.8.2, but you'll have numpy 1.17.4 which is incompatible.\u001b[0m\n",
      "\u001b[31mERROR: mxnet 1.1.0.post0 has requirement requests<2.19.0,>=2.18.4, but you'll have requests 2.21.0 which is incompatible.\u001b[0m\n",
      "Installing collected packages: resampy, graphviz, mxnet, coremltools, turicreate\n",
      "  Found existing installation: resampy 0.2.2\n",
      "    Uninstalling resampy-0.2.2:\n",
      "      Successfully uninstalled resampy-0.2.2\n",
      "  Found existing installation: graphviz 0.10.1\n",
      "    Uninstalling graphviz-0.10.1:\n",
      "      Successfully uninstalled graphviz-0.10.1\n",
      "Successfully installed coremltools-2.1.0 graphviz-0.8.4 mxnet-1.1.0.post0 resampy-0.2.1 turicreate-5.4\n",
      "Uninstalling mxnet-1.1.0.post0:\n",
      "  Successfully uninstalled mxnet-1.1.0.post0\n",
      "Collecting mxnet-cu100==1.4.0.post0\n",
      "\u001b[?25l  Downloading https://files.pythonhosted.org/packages/ae/36/40b6d201b46495513f7a7fa25fe8b7d85b3602a22efba119e8146d5f1601/mxnet_cu100-1.4.0.post0-py2.py3-none-manylinux1_x86_64.whl (487.9MB)\n",
      "\u001b[K     |████████████████████████████████| 487.9MB 34kB/s \n",
      "\u001b[?25hCollecting numpy<1.15.0,>=1.8.2\n",
      "\u001b[?25l  Downloading https://files.pythonhosted.org/packages/e5/c4/395ebb218053ba44d64935b3729bc88241ec279915e72100c5979db10945/numpy-1.14.6-cp36-cp36m-manylinux1_x86_64.whl (13.8MB)\n",
      "\u001b[K     |████████████████████████████████| 13.8MB 39.1MB/s \n",
      "\u001b[?25hRequirement already satisfied: graphviz<0.9.0,>=0.8.1 in /usr/local/lib/python3.6/dist-packages (from mxnet-cu100==1.4.0.post0) (0.8.4)\n",
      "Requirement already satisfied: requests>=2.20.0 in /usr/local/lib/python3.6/dist-packages (from mxnet-cu100==1.4.0.post0) (2.21.0)\n",
      "Requirement already satisfied: urllib3<1.25,>=1.21.1 in /usr/local/lib/python3.6/dist-packages (from requests>=2.20.0->mxnet-cu100==1.4.0.post0) (1.24.3)\n",
      "Requirement already satisfied: certifi>=2017.4.17 in /usr/local/lib/python3.6/dist-packages (from requests>=2.20.0->mxnet-cu100==1.4.0.post0) (2019.11.28)\n",
      "Requirement already satisfied: chardet<3.1.0,>=3.0.2 in /usr/local/lib/python3.6/dist-packages (from requests>=2.20.0->mxnet-cu100==1.4.0.post0) (3.0.4)\n",
      "Requirement already satisfied: idna<2.9,>=2.5 in /usr/local/lib/python3.6/dist-packages (from requests>=2.20.0->mxnet-cu100==1.4.0.post0) (2.8)\n",
      "\u001b[31mERROR: turicreate 5.4 requires mxnet<1.2.0,>=1.1.0, which is not installed.\u001b[0m\n",
      "\u001b[31mERROR: tensorflow 1.15.0 has requirement numpy<2.0,>=1.16.0, but you'll have numpy 1.14.6 which is incompatible.\u001b[0m\n",
      "\u001b[31mERROR: spacy 2.1.9 has requirement numpy>=1.15.0, but you'll have numpy 1.14.6 which is incompatible.\u001b[0m\n",
      "\u001b[31mERROR: imgaug 0.2.9 has requirement numpy>=1.15.0, but you'll have numpy 1.14.6 which is incompatible.\u001b[0m\n",
      "\u001b[31mERROR: fastai 1.0.59 has requirement numpy>=1.15, but you'll have numpy 1.14.6 which is incompatible.\u001b[0m\n",
      "\u001b[31mERROR: datascience 0.10.6 has requirement folium==0.2.1, but you'll have folium 0.8.3 which is incompatible.\u001b[0m\n",
      "\u001b[31mERROR: cvxpy 1.0.25 has requirement numpy>=1.15, but you'll have numpy 1.14.6 which is incompatible.\u001b[0m\n",
      "\u001b[31mERROR: blis 0.2.4 has requirement numpy>=1.15.0, but you'll have numpy 1.14.6 which is incompatible.\u001b[0m\n",
      "\u001b[31mERROR: albumentations 0.1.12 has requirement imgaug<0.2.7,>=0.2.5, but you'll have imgaug 0.2.9 which is incompatible.\u001b[0m\n",
      "Installing collected packages: numpy, mxnet-cu100\n",
      "  Found existing installation: numpy 1.17.4\n",
      "    Uninstalling numpy-1.17.4:\n",
      "      Successfully uninstalled numpy-1.17.4\n",
      "Successfully installed mxnet-cu100-1.4.0.post0 numpy-1.14.6\n"
     ]
    },
    {
     "data": {
      "application/vnd.colab-display-data+json": {
       "pip_warning": {
        "packages": [
         "numpy"
        ]
       }
      }
     },
     "metadata": {
      "tags": []
     },
     "output_type": "display_data"
    }
   ],
   "source": [
    "!pip install turicreate==5.4\n",
    "# The wrong version of MXNET will be installed\n",
    "!pip uninstall -y mxnet\n",
    "# Install CUDA10-compatible version of mxnet \n",
    "!pip install mxnet-cu100==1.4.0.post0"
   ]
  },
  {
   "cell_type": "code",
   "execution_count": null,
   "metadata": {
    "colab": {
     "base_uri": "https://localhost:8080/",
     "height": 122
    },
    "colab_type": "code",
    "id": "ED2h82k8_asW",
    "outputId": "8ea474ae-b143-40eb-aa58-5f29aee27ba8"
   },
   "outputs": [
    {
     "name": "stdout",
     "output_type": "stream",
     "text": [
      "Go to this URL in a browser: https://accounts.google.com/o/oauth2/auth?client_id=947318989803-6bn6qk8qdgf4n4g3pfee6491hc0brc4i.apps.googleusercontent.com&redirect_uri=urn%3aietf%3awg%3aoauth%3a2.0%3aoob&response_type=code&scope=email%20https%3a%2f%2fwww.googleapis.com%2fauth%2fdocs.test%20https%3a%2f%2fwww.googleapis.com%2fauth%2fdrive%20https%3a%2f%2fwww.googleapis.com%2fauth%2fdrive.photos.readonly%20https%3a%2f%2fwww.googleapis.com%2fauth%2fpeopleapi.readonly\n",
      "\n",
      "Enter your authorization code:\n",
      "··········\n",
      "Mounted at /content/drive\n"
     ]
    }
   ],
   "source": [
    "import os.path\n",
    "from google.colab import drive\n",
    "\n",
    "# mount Google Drive to /content/drive/My Drive/\n",
    "if os.path.isdir(\"/content/drive/My Drive\"):\n",
    "  print(\"Google Drive already mounted\")\n",
    "else:\n",
    "  drive.mount('/content/drive')"
   ]
  },
  {
   "cell_type": "code",
   "execution_count": null,
   "metadata": {
    "colab": {
     "base_uri": "https://localhost:8080/",
     "height": 136
    },
    "colab_type": "code",
    "id": "RWlgWw4r_yi-",
    "outputId": "c529489b-349d-453f-9dca-c7092a3dd66b"
   },
   "outputs": [
    {
     "name": "stdout",
     "output_type": "stream",
     "text": [
      "WARNING: You are using MXNet 1.4.0 which may result in breaking behavior.\n",
      "         To fix this, please install the currently recommended version:\n",
      "\n",
      "             pip uninstall -y mxnet && pip install mxnet==1.1.0\n",
      "\n",
      "         If you want to use a CUDA GPU, then change 'mxnet' to 'mxnet-cu90' (adjust 'cu90' depending on your CUDA version):\n",
      "\n"
     ]
    }
   ],
   "source": [
    "import mxnet as mx\n",
    "import turicreate as tc"
   ]
  },
  {
   "cell_type": "code",
   "execution_count": null,
   "metadata": {
    "colab": {},
    "colab_type": "code",
    "id": "oAZZJuxN_zZ6"
   },
   "outputs": [],
   "source": [
    "# Use all GPUs (default)\n",
    "tc.config.set_num_gpus(-1)\n",
    "\n",
    "# Use only 1 GPU\n",
    "#tc.config.set_num_gpus(1)\n",
    "\n",
    "# Use CPU\n",
    "#tc.config.set_num_gpus(0)"
   ]
  },
  {
   "cell_type": "code",
   "execution_count": 1,
   "metadata": {
    "colab": {},
    "colab_type": "code",
    "id": "QcyNZnMt_1at"
   },
   "outputs": [],
   "source": [
    "import pandas as pd\n",
    "import numpy as np\n",
    "import matplotlib.pyplot as plt\n",
    "import seaborn as sns\n",
    "import re\n",
    "from sklearn.preprocessing import StandardScaler\n",
    "from sklearn.preprocessing import MinMaxScaler\n",
    "from sklearn.model_selection import KFold\n",
    "from sklearn.metrics import mean_squared_error\n",
    "from math import sqrt\n",
    "import pickle"
   ]
  },
  {
   "cell_type": "code",
   "execution_count": 2,
   "metadata": {
    "colab": {},
    "colab_type": "code",
    "id": "Bpw_AWUUAunX"
   },
   "outputs": [],
   "source": [
    "from sklearn.model_selection import train_test_split\n",
    "from sklearn.neighbors import KNeighborsClassifier\n",
    "from sklearn.metrics import accuracy_score\n",
    "from sklearn.ensemble import RandomForestClassifier\n",
    "from sklearn.ensemble import GradientBoostingClassifier\n",
    "from sklearn.model_selection import GridSearchCV\n",
    "from sklearn.preprocessing import OrdinalEncoder\n",
    "from sklearn.preprocessing import LabelEncoder\n",
    "from scipy.stats import boxcox"
   ]
  },
  {
   "cell_type": "code",
   "execution_count": null,
   "metadata": {
    "colab": {},
    "colab_type": "code",
    "id": "YDgLQSOJJqW8"
   },
   "outputs": [],
   "source": [
    "np.random.seed(13)"
   ]
  },
  {
   "cell_type": "markdown",
   "metadata": {
    "colab_type": "text",
    "id": "FBynGtTwRW7-"
   },
   "source": [
    "# Data loading"
   ]
  },
  {
   "cell_type": "code",
   "execution_count": 3,
   "metadata": {
    "colab": {
     "base_uri": "https://localhost:8080/",
     "height": 309
    },
    "colab_type": "code",
    "id": "GlilIFX4BBxP",
    "outputId": "11a63fce-915e-4c7d-d5e7-98912d663141"
   },
   "outputs": [
    {
     "data": {
      "text/html": [
       "<div>\n",
       "<style scoped>\n",
       "    .dataframe tbody tr th:only-of-type {\n",
       "        vertical-align: middle;\n",
       "    }\n",
       "\n",
       "    .dataframe tbody tr th {\n",
       "        vertical-align: top;\n",
       "    }\n",
       "\n",
       "    .dataframe thead th {\n",
       "        text-align: right;\n",
       "    }\n",
       "</style>\n",
       "<table border=\"1\" class=\"dataframe\">\n",
       "  <thead>\n",
       "    <tr style=\"text-align: right;\">\n",
       "      <th></th>\n",
       "      <th>test_cas</th>\n",
       "      <th>exposure_type</th>\n",
       "      <th>obs_duration_mean</th>\n",
       "      <th>conc1_type</th>\n",
       "      <th>conc1_mean</th>\n",
       "      <th>class</th>\n",
       "      <th>tax_order</th>\n",
       "      <th>family</th>\n",
       "      <th>genus</th>\n",
       "      <th>species</th>\n",
       "      <th>atom_number</th>\n",
       "      <th>alone_atom_number</th>\n",
       "      <th>tripleBond</th>\n",
       "      <th>doubleBond</th>\n",
       "      <th>bonds_number</th>\n",
       "      <th>ring_numer</th>\n",
       "      <th>Mol</th>\n",
       "      <th>MorganDensity</th>\n",
       "      <th>LogP</th>\n",
       "    </tr>\n",
       "  </thead>\n",
       "  <tbody>\n",
       "    <tr>\n",
       "      <td>0</td>\n",
       "      <td>10108-64-2</td>\n",
       "      <td>S</td>\n",
       "      <td>48.0</td>\n",
       "      <td>T</td>\n",
       "      <td>46.900</td>\n",
       "      <td>Actinopterygii</td>\n",
       "      <td>Cypriniformes</td>\n",
       "      <td>Cyprinidae</td>\n",
       "      <td>Carassius</td>\n",
       "      <td>auratus</td>\n",
       "      <td>0.273831</td>\n",
       "      <td>3</td>\n",
       "      <td>0</td>\n",
       "      <td>0</td>\n",
       "      <td>0.0</td>\n",
       "      <td>0.0</td>\n",
       "      <td>0.096146</td>\n",
       "      <td>0.666667</td>\n",
       "      <td>-5.9945</td>\n",
       "    </tr>\n",
       "    <tr>\n",
       "      <td>1</td>\n",
       "      <td>10108-64-2</td>\n",
       "      <td>S</td>\n",
       "      <td>24.0</td>\n",
       "      <td>T</td>\n",
       "      <td>200.000</td>\n",
       "      <td>Actinopterygii</td>\n",
       "      <td>Cyprinodontiformes</td>\n",
       "      <td>Cyprinodontidae</td>\n",
       "      <td>Fundulus</td>\n",
       "      <td>heteroclitus</td>\n",
       "      <td>0.273831</td>\n",
       "      <td>3</td>\n",
       "      <td>0</td>\n",
       "      <td>0</td>\n",
       "      <td>0.0</td>\n",
       "      <td>0.0</td>\n",
       "      <td>0.096146</td>\n",
       "      <td>0.666667</td>\n",
       "      <td>-5.9945</td>\n",
       "    </tr>\n",
       "    <tr>\n",
       "      <td>2</td>\n",
       "      <td>10108-64-2</td>\n",
       "      <td>F</td>\n",
       "      <td>96.0</td>\n",
       "      <td>T</td>\n",
       "      <td>0.001</td>\n",
       "      <td>Actinopterygii</td>\n",
       "      <td>Salmoniformes</td>\n",
       "      <td>Salmonidae</td>\n",
       "      <td>Oncorhynchus</td>\n",
       "      <td>mykiss</td>\n",
       "      <td>0.273831</td>\n",
       "      <td>3</td>\n",
       "      <td>0</td>\n",
       "      <td>0</td>\n",
       "      <td>0.0</td>\n",
       "      <td>0.0</td>\n",
       "      <td>0.096146</td>\n",
       "      <td>0.666667</td>\n",
       "      <td>-5.9945</td>\n",
       "    </tr>\n",
       "    <tr>\n",
       "      <td>3</td>\n",
       "      <td>10108-64-2</td>\n",
       "      <td>S</td>\n",
       "      <td>96.0</td>\n",
       "      <td>T</td>\n",
       "      <td>15.900</td>\n",
       "      <td>Actinopterygii</td>\n",
       "      <td>Cyprinodontiformes</td>\n",
       "      <td>Cyprinodontidae</td>\n",
       "      <td>Cyprinodon</td>\n",
       "      <td>variegatus</td>\n",
       "      <td>0.273831</td>\n",
       "      <td>3</td>\n",
       "      <td>0</td>\n",
       "      <td>0</td>\n",
       "      <td>0.0</td>\n",
       "      <td>0.0</td>\n",
       "      <td>0.096146</td>\n",
       "      <td>0.666667</td>\n",
       "      <td>-5.9945</td>\n",
       "    </tr>\n",
       "    <tr>\n",
       "      <td>4</td>\n",
       "      <td>10108-64-2</td>\n",
       "      <td>F</td>\n",
       "      <td>694.0</td>\n",
       "      <td>T</td>\n",
       "      <td>0.030</td>\n",
       "      <td>Actinopterygii</td>\n",
       "      <td>Salmoniformes</td>\n",
       "      <td>Salmonidae</td>\n",
       "      <td>Oncorhynchus</td>\n",
       "      <td>mykiss</td>\n",
       "      <td>0.273831</td>\n",
       "      <td>3</td>\n",
       "      <td>0</td>\n",
       "      <td>0</td>\n",
       "      <td>0.0</td>\n",
       "      <td>0.0</td>\n",
       "      <td>0.096146</td>\n",
       "      <td>0.666667</td>\n",
       "      <td>-5.9945</td>\n",
       "    </tr>\n",
       "  </tbody>\n",
       "</table>\n",
       "</div>"
      ],
      "text/plain": [
       "     test_cas exposure_type  obs_duration_mean conc1_type  conc1_mean  \\\n",
       "0  10108-64-2             S               48.0          T      46.900   \n",
       "1  10108-64-2             S               24.0          T     200.000   \n",
       "2  10108-64-2             F               96.0          T       0.001   \n",
       "3  10108-64-2             S               96.0          T      15.900   \n",
       "4  10108-64-2             F              694.0          T       0.030   \n",
       "\n",
       "            class           tax_order           family         genus  \\\n",
       "0  Actinopterygii       Cypriniformes       Cyprinidae     Carassius   \n",
       "1  Actinopterygii  Cyprinodontiformes  Cyprinodontidae      Fundulus   \n",
       "2  Actinopterygii       Salmoniformes       Salmonidae  Oncorhynchus   \n",
       "3  Actinopterygii  Cyprinodontiformes  Cyprinodontidae    Cyprinodon   \n",
       "4  Actinopterygii       Salmoniformes       Salmonidae  Oncorhynchus   \n",
       "\n",
       "        species  atom_number  alone_atom_number  tripleBond  doubleBond  \\\n",
       "0       auratus     0.273831                  3           0           0   \n",
       "1  heteroclitus     0.273831                  3           0           0   \n",
       "2        mykiss     0.273831                  3           0           0   \n",
       "3    variegatus     0.273831                  3           0           0   \n",
       "4        mykiss     0.273831                  3           0           0   \n",
       "\n",
       "   bonds_number  ring_numer       Mol  MorganDensity    LogP  \n",
       "0           0.0         0.0  0.096146       0.666667 -5.9945  \n",
       "1           0.0         0.0  0.096146       0.666667 -5.9945  \n",
       "2           0.0         0.0  0.096146       0.666667 -5.9945  \n",
       "3           0.0         0.0  0.096146       0.666667 -5.9945  \n",
       "4           0.0         0.0  0.096146       0.666667 -5.9945  "
      ]
     },
     "execution_count": 3,
     "metadata": {},
     "output_type": "execute_result"
    }
   ],
   "source": [
    "base_db = pd.read_csv(\"use_db_sabato14.csv\")\n",
    "base_db.head()"
   ]
  },
  {
   "cell_type": "code",
   "execution_count": 4,
   "metadata": {
    "colab": {},
    "colab_type": "code",
    "id": "h1xqbOoXFKw_"
   },
   "outputs": [],
   "source": [
    "base_db96 = base_db[base_db.obs_duration_mean.isin([24, 48, 72, 96])]"
   ]
  },
  {
   "cell_type": "code",
   "execution_count": 5,
   "metadata": {
    "colab": {
     "base_uri": "https://localhost:8080/",
     "height": 204
    },
    "colab_type": "code",
    "id": "XF2TroEGBwSC",
    "outputId": "adca6845-1af3-4be7-9a8b-a95fc13af784"
   },
   "outputs": [
    {
     "data": {
      "text/html": [
       "<div>\n",
       "<style scoped>\n",
       "    .dataframe tbody tr th:only-of-type {\n",
       "        vertical-align: middle;\n",
       "    }\n",
       "\n",
       "    .dataframe tbody tr th {\n",
       "        vertical-align: top;\n",
       "    }\n",
       "\n",
       "    .dataframe thead th {\n",
       "        text-align: right;\n",
       "    }\n",
       "</style>\n",
       "<table border=\"1\" class=\"dataframe\">\n",
       "  <thead>\n",
       "    <tr style=\"text-align: right;\">\n",
       "      <th></th>\n",
       "      <th>test_cas</th>\n",
       "      <th>species</th>\n",
       "      <th>conc1_mean</th>\n",
       "      <th>exposure_type</th>\n",
       "      <th>conc1_type</th>\n",
       "      <th>obs_duration_mean</th>\n",
       "    </tr>\n",
       "  </thead>\n",
       "  <tbody>\n",
       "    <tr>\n",
       "      <td>0</td>\n",
       "      <td>10108-64-2</td>\n",
       "      <td>auratus</td>\n",
       "      <td>46.900</td>\n",
       "      <td>S</td>\n",
       "      <td>T</td>\n",
       "      <td>48.0</td>\n",
       "    </tr>\n",
       "    <tr>\n",
       "      <td>1</td>\n",
       "      <td>10108-64-2</td>\n",
       "      <td>heteroclitus</td>\n",
       "      <td>200.000</td>\n",
       "      <td>S</td>\n",
       "      <td>T</td>\n",
       "      <td>24.0</td>\n",
       "    </tr>\n",
       "    <tr>\n",
       "      <td>2</td>\n",
       "      <td>10108-64-2</td>\n",
       "      <td>mykiss</td>\n",
       "      <td>0.001</td>\n",
       "      <td>F</td>\n",
       "      <td>T</td>\n",
       "      <td>96.0</td>\n",
       "    </tr>\n",
       "    <tr>\n",
       "      <td>3</td>\n",
       "      <td>10108-64-2</td>\n",
       "      <td>variegatus</td>\n",
       "      <td>15.900</td>\n",
       "      <td>S</td>\n",
       "      <td>T</td>\n",
       "      <td>96.0</td>\n",
       "    </tr>\n",
       "    <tr>\n",
       "      <td>4</td>\n",
       "      <td>10108-64-2</td>\n",
       "      <td>niloticus</td>\n",
       "      <td>19.919</td>\n",
       "      <td>R</td>\n",
       "      <td>T</td>\n",
       "      <td>96.0</td>\n",
       "    </tr>\n",
       "  </tbody>\n",
       "</table>\n",
       "</div>"
      ],
      "text/plain": [
       "     test_cas       species  conc1_mean exposure_type conc1_type  \\\n",
       "0  10108-64-2       auratus      46.900             S          T   \n",
       "1  10108-64-2  heteroclitus     200.000             S          T   \n",
       "2  10108-64-2        mykiss       0.001             F          T   \n",
       "3  10108-64-2    variegatus      15.900             S          T   \n",
       "4  10108-64-2     niloticus      19.919             R          T   \n",
       "\n",
       "   obs_duration_mean  \n",
       "0               48.0  \n",
       "1               24.0  \n",
       "2               96.0  \n",
       "3               96.0  \n",
       "4               96.0  "
      ]
     },
     "execution_count": 5,
     "metadata": {},
     "output_type": "execute_result"
    }
   ],
   "source": [
    "X_original = base_db96.copy()\n",
    "X_original = X_original[[\"test_cas\", \"species\", \"conc1_mean\", \"exposure_type\", \"conc1_type\", \"obs_duration_mean\"]].reset_index(drop=True)\n",
    "X_original.head()"
   ]
  },
  {
   "cell_type": "code",
   "execution_count": 6,
   "metadata": {
    "colab": {
     "base_uri": "https://localhost:8080/",
     "height": 204
    },
    "colab_type": "code",
    "id": "OgnwrHItFFN1",
    "outputId": "01739e3d-3010-4dc8-c3ff-a3aab0c558d3"
   },
   "outputs": [
    {
     "data": {
      "text/html": [
       "<div>\n",
       "<style scoped>\n",
       "    .dataframe tbody tr th:only-of-type {\n",
       "        vertical-align: middle;\n",
       "    }\n",
       "\n",
       "    .dataframe tbody tr th {\n",
       "        vertical-align: top;\n",
       "    }\n",
       "\n",
       "    .dataframe thead th {\n",
       "        text-align: right;\n",
       "    }\n",
       "</style>\n",
       "<table border=\"1\" class=\"dataframe\">\n",
       "  <thead>\n",
       "    <tr style=\"text-align: right;\">\n",
       "      <th></th>\n",
       "      <th>species</th>\n",
       "      <th>class</th>\n",
       "      <th>tax_order</th>\n",
       "      <th>family</th>\n",
       "      <th>genus</th>\n",
       "    </tr>\n",
       "  </thead>\n",
       "  <tbody>\n",
       "    <tr>\n",
       "      <td>0</td>\n",
       "      <td>auratus</td>\n",
       "      <td>Actinopterygii</td>\n",
       "      <td>Cypriniformes</td>\n",
       "      <td>Cyprinidae</td>\n",
       "      <td>Carassius</td>\n",
       "    </tr>\n",
       "    <tr>\n",
       "      <td>1</td>\n",
       "      <td>heteroclitus</td>\n",
       "      <td>Actinopterygii</td>\n",
       "      <td>Cyprinodontiformes</td>\n",
       "      <td>Cyprinodontidae</td>\n",
       "      <td>Fundulus</td>\n",
       "    </tr>\n",
       "    <tr>\n",
       "      <td>2</td>\n",
       "      <td>mykiss</td>\n",
       "      <td>Actinopterygii</td>\n",
       "      <td>Salmoniformes</td>\n",
       "      <td>Salmonidae</td>\n",
       "      <td>Oncorhynchus</td>\n",
       "    </tr>\n",
       "    <tr>\n",
       "      <td>3</td>\n",
       "      <td>variegatus</td>\n",
       "      <td>Actinopterygii</td>\n",
       "      <td>Cyprinodontiformes</td>\n",
       "      <td>Cyprinodontidae</td>\n",
       "      <td>Cyprinodon</td>\n",
       "    </tr>\n",
       "    <tr>\n",
       "      <td>4</td>\n",
       "      <td>niloticus</td>\n",
       "      <td>Actinopterygii</td>\n",
       "      <td>Perciformes</td>\n",
       "      <td>Cichlidae</td>\n",
       "      <td>Oreochromis</td>\n",
       "    </tr>\n",
       "  </tbody>\n",
       "</table>\n",
       "</div>"
      ],
      "text/plain": [
       "        species           class           tax_order           family  \\\n",
       "0       auratus  Actinopterygii       Cypriniformes       Cyprinidae   \n",
       "1  heteroclitus  Actinopterygii  Cyprinodontiformes  Cyprinodontidae   \n",
       "2        mykiss  Actinopterygii       Salmoniformes       Salmonidae   \n",
       "3    variegatus  Actinopterygii  Cyprinodontiformes  Cyprinodontidae   \n",
       "4     niloticus  Actinopterygii         Perciformes        Cichlidae   \n",
       "\n",
       "          genus  \n",
       "0     Carassius  \n",
       "1      Fundulus  \n",
       "2  Oncorhynchus  \n",
       "3    Cyprinodon  \n",
       "4   Oreochromis  "
      ]
     },
     "execution_count": 6,
     "metadata": {},
     "output_type": "execute_result"
    }
   ],
   "source": [
    "X_side_species = base_db96.copy()\n",
    "X_side_species = X_side_species[[\"species\", \"class\", \"tax_order\", \"family\", \"genus\"]]\n",
    "X_side_species = X_side_species.drop_duplicates(subset=\"species\").reset_index(drop=True)\n",
    "X_side_species.head()"
   ]
  },
  {
   "cell_type": "code",
   "execution_count": 7,
   "metadata": {
    "colab": {
     "base_uri": "https://localhost:8080/",
     "height": 204
    },
    "colab_type": "code",
    "id": "XlMieM_tIOIs",
    "outputId": "85de6a8d-5ef6-4e3b-f61e-371357743634"
   },
   "outputs": [
    {
     "data": {
      "text/html": [
       "<div>\n",
       "<style scoped>\n",
       "    .dataframe tbody tr th:only-of-type {\n",
       "        vertical-align: middle;\n",
       "    }\n",
       "\n",
       "    .dataframe tbody tr th {\n",
       "        vertical-align: top;\n",
       "    }\n",
       "\n",
       "    .dataframe thead th {\n",
       "        text-align: right;\n",
       "    }\n",
       "</style>\n",
       "<table border=\"1\" class=\"dataframe\">\n",
       "  <thead>\n",
       "    <tr style=\"text-align: right;\">\n",
       "      <th></th>\n",
       "      <th>test_cas</th>\n",
       "      <th>alone_atom_number</th>\n",
       "      <th>tripleBond</th>\n",
       "      <th>doubleBond</th>\n",
       "      <th>ring_numer</th>\n",
       "    </tr>\n",
       "  </thead>\n",
       "  <tbody>\n",
       "    <tr>\n",
       "      <td>0</td>\n",
       "      <td>10108-64-2</td>\n",
       "      <td>3</td>\n",
       "      <td>0</td>\n",
       "      <td>0</td>\n",
       "      <td>0.0</td>\n",
       "    </tr>\n",
       "    <tr>\n",
       "      <td>1</td>\n",
       "      <td>88-30-2</td>\n",
       "      <td>2</td>\n",
       "      <td>0</td>\n",
       "      <td>1</td>\n",
       "      <td>1.0</td>\n",
       "    </tr>\n",
       "    <tr>\n",
       "      <td>2</td>\n",
       "      <td>1397-94-0</td>\n",
       "      <td>5</td>\n",
       "      <td>0</td>\n",
       "      <td>5</td>\n",
       "      <td>2.0</td>\n",
       "    </tr>\n",
       "    <tr>\n",
       "      <td>3</td>\n",
       "      <td>540-72-7</td>\n",
       "      <td>2</td>\n",
       "      <td>1</td>\n",
       "      <td>0</td>\n",
       "      <td>0.0</td>\n",
       "    </tr>\n",
       "    <tr>\n",
       "      <td>4</td>\n",
       "      <td>72-43-5</td>\n",
       "      <td>0</td>\n",
       "      <td>0</td>\n",
       "      <td>0</td>\n",
       "      <td>2.0</td>\n",
       "    </tr>\n",
       "  </tbody>\n",
       "</table>\n",
       "</div>"
      ],
      "text/plain": [
       "     test_cas  alone_atom_number  tripleBond  doubleBond  ring_numer\n",
       "0  10108-64-2                  3           0           0         0.0\n",
       "1     88-30-2                  2           0           1         1.0\n",
       "2   1397-94-0                  5           0           5         2.0\n",
       "3    540-72-7                  2           1           0         0.0\n",
       "4     72-43-5                  0           0           0         2.0"
      ]
     },
     "execution_count": 7,
     "metadata": {},
     "output_type": "execute_result"
    }
   ],
   "source": [
    "X_side_cas = base_db96.copy()\n",
    "X_side_cas = X_side_cas[[\"test_cas\", \"alone_atom_number\", \"tripleBond\", \"doubleBond\", \"ring_numer\"]]\n",
    "X_side_cas = X_side_cas.drop_duplicates(subset=\"test_cas\").reset_index(drop=True)\n",
    "X_side_cas = X_side_cas.dropna()\n",
    "X_side_cas.head()"
   ]
  },
  {
   "cell_type": "code",
   "execution_count": 8,
   "metadata": {
    "colab": {
     "base_uri": "https://localhost:8080/",
     "height": 34
    },
    "colab_type": "code",
    "id": "6511-aqor8qp",
    "outputId": "1cc39c16-23bf-4d42-d724-c666e57dd97b"
   },
   "outputs": [
    {
     "data": {
      "text/plain": [
       "45775"
      ]
     },
     "execution_count": 8,
     "metadata": {},
     "output_type": "execute_result"
    }
   ],
   "source": [
    "X_original.index.size"
   ]
  },
  {
   "cell_type": "code",
   "execution_count": 9,
   "metadata": {
    "colab": {},
    "colab_type": "code",
    "id": "4nORVQgI2Kqv"
   },
   "outputs": [],
   "source": [
    "def scores_cat(x):\n",
    "    if (x < 10**-1):\n",
    "        return 5\n",
    "    # elif ((x>=10**-2) and (x<10**-1)):\n",
    "    #     return 6\n",
    "    elif ((x>=10**-1) and (x<10**0)):\n",
    "        return 4\n",
    "    elif ((x>=10**0) and (x<10**1)):\n",
    "        return 3\n",
    "    elif ((x>=10**1) and (x<10**2)):\n",
    "        return 2\n",
    "    # elif ((x>=10**2) and (x<10**3)):\n",
    "    #     return 2\n",
    "    else:\n",
    "        return 1"
   ]
  },
  {
   "cell_type": "code",
   "execution_count": 10,
   "metadata": {
    "colab": {},
    "colab_type": "code",
    "id": "YyTx2k1nCVwF"
   },
   "outputs": [],
   "source": [
    "X_original = X_original.groupby(by=[\"test_cas\", \"species\", \"conc1_type\", \"exposure_type\", \"obs_duration_mean\"]).agg(\"median\").reset_index()\n",
    "X_original[\"score\"] = X_original.conc1_mean.apply(lambda x: scores_cat(x))"
   ]
  },
  {
   "cell_type": "code",
   "execution_count": 11,
   "metadata": {
    "colab": {
     "base_uri": "https://localhost:8080/",
     "height": 34
    },
    "colab_type": "code",
    "id": "pYVEIYTYQ5BM",
    "outputId": "4063420d-1955-447f-f8c9-671a21b77dae"
   },
   "outputs": [
    {
     "data": {
      "text/plain": [
       "23332"
      ]
     },
     "execution_count": 11,
     "metadata": {},
     "output_type": "execute_result"
    }
   ],
   "source": [
    "X_original.index.size"
   ]
  },
  {
   "cell_type": "code",
   "execution_count": 12,
   "metadata": {
    "colab": {},
    "colab_type": "code",
    "id": "HpTfXUIFPuqD"
   },
   "outputs": [],
   "source": [
    "enc_species = OrdinalEncoder(dtype=int)\n",
    "enc_species.fit(X_original.species.values.reshape(-1, 1))\n",
    "enc_cas = OrdinalEncoder(dtype=int)\n",
    "enc_cas.fit(X_original.test_cas.values.reshape(-1,1))\n",
    "\n",
    "X_original[\"species\"] = enc_species.transform(X_original.species.values.reshape(-1,1))\n",
    "X_original[\"test_cas\"] = enc_cas.transform(X_original.test_cas.values.reshape(-1,1))\n",
    "X_side_species[\"species\"] = enc_species.transform(X_side_species.species.values.reshape(-1,1))\n",
    "X_side_cas[\"test_cas\"] = enc_cas.transform(X_side_cas.test_cas.values.reshape(-1,1))\n",
    "\n",
    "X_fact = X_original.drop(columns=[\"conc1_mean\"]).reset_index(drop=True)"
   ]
  },
  {
   "cell_type": "code",
   "execution_count": 13,
   "metadata": {
    "colab": {
     "base_uri": "https://localhost:8080/",
     "height": 279
    },
    "colab_type": "code",
    "id": "zjhV3QpYXqu-",
    "outputId": "a457d2f6-6742-47b3-aa76-451625da7eae"
   },
   "outputs": [
    {
     "data": {
      "image/png": "[encoded data removed]",
      "text/plain": [
       "<Figure size 432x288 with 1 Axes>"
      ]
     },
     "metadata": {
      "needs_background": "light"
     },
     "output_type": "display_data"
    }
   ],
   "source": [
    "X_fact_scored = X_fact.copy()\n",
    "#X_fact_scored.score = X_fact_scored.score.apply(lambda x: np.log(x))\n",
    "\n",
    "# plotting the distribution of conc inside this case\n",
    "X_fact_scored.score.hist(bins=100)\n",
    "#plt.yscale('log')\n",
    "plt.xlabel(\"score\")\n",
    "plt.ylabel(\"Count\");"
   ]
  },
  {
   "cell_type": "markdown",
   "metadata": {
    "colab_type": "text",
    "id": "Juu0yWAXRRh_"
   },
   "source": [
    "# Basic tests"
   ]
  },
  {
   "cell_type": "code",
   "execution_count": null,
   "metadata": {
    "colab": {},
    "colab_type": "code",
    "id": "quIiiSwUDbaF"
   },
   "outputs": [],
   "source": [
    "X_train_scored, X_test_scored = train_test_split(X_fact_scored, test_size=0.33, shuffle=True, random_state=13)\n",
    "X_train_scored = X_train_scored.reset_index(drop=True)\n",
    "X_test_scored = X_test_scored.reset_index(drop=True)"
   ]
  },
  {
   "cell_type": "code",
   "execution_count": null,
   "metadata": {
    "colab": {
     "base_uri": "https://localhost:8080/",
     "height": 279
    },
    "colab_type": "code",
    "id": "2Psp7--dB-cN",
    "outputId": "66615d01-5c01-43f3-8fdc-15e2cd609d1b"
   },
   "outputs": [
    {
     "data": {
      "text/html": [
       "<div style=\"max-height:1000px;max-width:1500px;overflow:auto;\"><table frame=\"box\" rules=\"cols\">\n",
       "    <tr>\n",
       "        <th style=\"padding-left: 1em; padding-right: 1em; text-align: center\">test_cas</th>\n",
       "        <th style=\"padding-left: 1em; padding-right: 1em; text-align: center\">species</th>\n",
       "        <th style=\"padding-left: 1em; padding-right: 1em; text-align: center\">conc1_type</th>\n",
       "        <th style=\"padding-left: 1em; padding-right: 1em; text-align: center\">exposure_type</th>\n",
       "        <th style=\"padding-left: 1em; padding-right: 1em; text-align: center\">obs_duration_mean</th>\n",
       "        <th style=\"padding-left: 1em; padding-right: 1em; text-align: center\">score</th>\n",
       "    </tr>\n",
       "    <tr>\n",
       "        <td style=\"padding-left: 1em; padding-right: 1em; text-align: center; vertical-align: top\">0</td>\n",
       "        <td style=\"padding-left: 1em; padding-right: 1em; text-align: center; vertical-align: top\">378</td>\n",
       "        <td style=\"padding-left: 1em; padding-right: 1em; text-align: center; vertical-align: top\">F</td>\n",
       "        <td style=\"padding-left: 1em; padding-right: 1em; text-align: center; vertical-align: top\">F</td>\n",
       "        <td style=\"padding-left: 1em; padding-right: 1em; text-align: center; vertical-align: top\">48.0</td>\n",
       "        <td style=\"padding-left: 1em; padding-right: 1em; text-align: center; vertical-align: top\">2</td>\n",
       "    </tr>\n",
       "    <tr>\n",
       "        <td style=\"padding-left: 1em; padding-right: 1em; text-align: center; vertical-align: top\">0</td>\n",
       "        <td style=\"padding-left: 1em; padding-right: 1em; text-align: center; vertical-align: top\">378</td>\n",
       "        <td style=\"padding-left: 1em; padding-right: 1em; text-align: center; vertical-align: top\">F</td>\n",
       "        <td style=\"padding-left: 1em; padding-right: 1em; text-align: center; vertical-align: top\">F</td>\n",
       "        <td style=\"padding-left: 1em; padding-right: 1em; text-align: center; vertical-align: top\">96.0</td>\n",
       "        <td style=\"padding-left: 1em; padding-right: 1em; text-align: center; vertical-align: top\">2</td>\n",
       "    </tr>\n",
       "    <tr>\n",
       "        <td style=\"padding-left: 1em; padding-right: 1em; text-align: center; vertical-align: top\">1</td>\n",
       "        <td style=\"padding-left: 1em; padding-right: 1em; text-align: center; vertical-align: top\">217</td>\n",
       "        <td style=\"padding-left: 1em; padding-right: 1em; text-align: center; vertical-align: top\">F</td>\n",
       "        <td style=\"padding-left: 1em; padding-right: 1em; text-align: center; vertical-align: top\">AQUA</td>\n",
       "        <td style=\"padding-left: 1em; padding-right: 1em; text-align: center; vertical-align: top\">48.0</td>\n",
       "        <td style=\"padding-left: 1em; padding-right: 1em; text-align: center; vertical-align: top\">2</td>\n",
       "    </tr>\n",
       "    <tr>\n",
       "        <td style=\"padding-left: 1em; padding-right: 1em; text-align: center; vertical-align: top\">1</td>\n",
       "        <td style=\"padding-left: 1em; padding-right: 1em; text-align: center; vertical-align: top\">236</td>\n",
       "        <td style=\"padding-left: 1em; padding-right: 1em; text-align: center; vertical-align: top\">A</td>\n",
       "        <td style=\"padding-left: 1em; padding-right: 1em; text-align: center; vertical-align: top\">S</td>\n",
       "        <td style=\"padding-left: 1em; padding-right: 1em; text-align: center; vertical-align: top\">24.0</td>\n",
       "        <td style=\"padding-left: 1em; padding-right: 1em; text-align: center; vertical-align: top\">2</td>\n",
       "    </tr>\n",
       "    <tr>\n",
       "        <td style=\"padding-left: 1em; padding-right: 1em; text-align: center; vertical-align: top\">1</td>\n",
       "        <td style=\"padding-left: 1em; padding-right: 1em; text-align: center; vertical-align: top\">236</td>\n",
       "        <td style=\"padding-left: 1em; padding-right: 1em; text-align: center; vertical-align: top\">A</td>\n",
       "        <td style=\"padding-left: 1em; padding-right: 1em; text-align: center; vertical-align: top\">S</td>\n",
       "        <td style=\"padding-left: 1em; padding-right: 1em; text-align: center; vertical-align: top\">48.0</td>\n",
       "        <td style=\"padding-left: 1em; padding-right: 1em; text-align: center; vertical-align: top\">2</td>\n",
       "    </tr>\n",
       "    <tr>\n",
       "        <td style=\"padding-left: 1em; padding-right: 1em; text-align: center; vertical-align: top\">1</td>\n",
       "        <td style=\"padding-left: 1em; padding-right: 1em; text-align: center; vertical-align: top\">256</td>\n",
       "        <td style=\"padding-left: 1em; padding-right: 1em; text-align: center; vertical-align: top\">A</td>\n",
       "        <td style=\"padding-left: 1em; padding-right: 1em; text-align: center; vertical-align: top\">S</td>\n",
       "        <td style=\"padding-left: 1em; padding-right: 1em; text-align: center; vertical-align: top\">24.0</td>\n",
       "        <td style=\"padding-left: 1em; padding-right: 1em; text-align: center; vertical-align: top\">1</td>\n",
       "    </tr>\n",
       "    <tr>\n",
       "        <td style=\"padding-left: 1em; padding-right: 1em; text-align: center; vertical-align: top\">1</td>\n",
       "        <td style=\"padding-left: 1em; padding-right: 1em; text-align: center; vertical-align: top\">256</td>\n",
       "        <td style=\"padding-left: 1em; padding-right: 1em; text-align: center; vertical-align: top\">A</td>\n",
       "        <td style=\"padding-left: 1em; padding-right: 1em; text-align: center; vertical-align: top\">S</td>\n",
       "        <td style=\"padding-left: 1em; padding-right: 1em; text-align: center; vertical-align: top\">48.0</td>\n",
       "        <td style=\"padding-left: 1em; padding-right: 1em; text-align: center; vertical-align: top\">1</td>\n",
       "    </tr>\n",
       "    <tr>\n",
       "        <td style=\"padding-left: 1em; padding-right: 1em; text-align: center; vertical-align: top\">1</td>\n",
       "        <td style=\"padding-left: 1em; padding-right: 1em; text-align: center; vertical-align: top\">256</td>\n",
       "        <td style=\"padding-left: 1em; padding-right: 1em; text-align: center; vertical-align: top\">A</td>\n",
       "        <td style=\"padding-left: 1em; padding-right: 1em; text-align: center; vertical-align: top\">S</td>\n",
       "        <td style=\"padding-left: 1em; padding-right: 1em; text-align: center; vertical-align: top\">96.0</td>\n",
       "        <td style=\"padding-left: 1em; padding-right: 1em; text-align: center; vertical-align: top\">2</td>\n",
       "    </tr>\n",
       "    <tr>\n",
       "        <td style=\"padding-left: 1em; padding-right: 1em; text-align: center; vertical-align: top\">1</td>\n",
       "        <td style=\"padding-left: 1em; padding-right: 1em; text-align: center; vertical-align: top\">306</td>\n",
       "        <td style=\"padding-left: 1em; padding-right: 1em; text-align: center; vertical-align: top\">A</td>\n",
       "        <td style=\"padding-left: 1em; padding-right: 1em; text-align: center; vertical-align: top\">S</td>\n",
       "        <td style=\"padding-left: 1em; padding-right: 1em; text-align: center; vertical-align: top\">24.0</td>\n",
       "        <td style=\"padding-left: 1em; padding-right: 1em; text-align: center; vertical-align: top\">2</td>\n",
       "    </tr>\n",
       "    <tr>\n",
       "        <td style=\"padding-left: 1em; padding-right: 1em; text-align: center; vertical-align: top\">1</td>\n",
       "        <td style=\"padding-left: 1em; padding-right: 1em; text-align: center; vertical-align: top\">306</td>\n",
       "        <td style=\"padding-left: 1em; padding-right: 1em; text-align: center; vertical-align: top\">A</td>\n",
       "        <td style=\"padding-left: 1em; padding-right: 1em; text-align: center; vertical-align: top\">S</td>\n",
       "        <td style=\"padding-left: 1em; padding-right: 1em; text-align: center; vertical-align: top\">48.0</td>\n",
       "        <td style=\"padding-left: 1em; padding-right: 1em; text-align: center; vertical-align: top\">2</td>\n",
       "    </tr>\n",
       "</table>\n",
       "[23332 rows x 6 columns]<br/>Note: Only the head of the SFrame is printed.<br/>You can use print_rows(num_rows=m, num_columns=n) to print more rows and columns.\n",
       "</div>"
      ],
      "text/plain": [
       "Columns:\n",
       "\ttest_cas\tint\n",
       "\tspecies\tint\n",
       "\tconc1_type\tstr\n",
       "\texposure_type\tstr\n",
       "\tobs_duration_mean\tfloat\n",
       "\tscore\tint\n",
       "\n",
       "Rows: 23332\n",
       "\n",
       "Data:\n",
       "+----------+---------+------------+---------------+-------------------+-------+\n",
       "| test_cas | species | conc1_type | exposure_type | obs_duration_mean | score |\n",
       "+----------+---------+------------+---------------+-------------------+-------+\n",
       "|    0     |   378   |     F      |       F       |        48.0       |   2   |\n",
       "|    0     |   378   |     F      |       F       |        96.0       |   2   |\n",
       "|    1     |   217   |     F      |      AQUA     |        48.0       |   2   |\n",
       "|    1     |   236   |     A      |       S       |        24.0       |   2   |\n",
       "|    1     |   236   |     A      |       S       |        48.0       |   2   |\n",
       "|    1     |   256   |     A      |       S       |        24.0       |   1   |\n",
       "|    1     |   256   |     A      |       S       |        48.0       |   1   |\n",
       "|    1     |   256   |     A      |       S       |        96.0       |   2   |\n",
       "|    1     |   306   |     A      |       S       |        24.0       |   2   |\n",
       "|    1     |   306   |     A      |       S       |        48.0       |   2   |\n",
       "+----------+---------+------------+---------------+-------------------+-------+\n",
       "[23332 rows x 6 columns]\n",
       "Note: Only the head of the SFrame is printed.\n",
       "You can use print_rows(num_rows=m, num_columns=n) to print more rows and columns."
      ]
     },
     "execution_count": 40,
     "metadata": {
      "tags": []
     },
     "output_type": "execute_result"
    }
   ],
   "source": [
    "X = tc.SFrame(X_fact_scored)\n",
    "X"
   ]
  },
  {
   "cell_type": "code",
   "execution_count": null,
   "metadata": {
    "colab": {
     "base_uri": "https://localhost:8080/",
     "height": 279
    },
    "colab_type": "code",
    "id": "Wcosp9z_Slqe",
    "outputId": "2520306b-8080-48bb-eee1-cb1d7ee32b46"
   },
   "outputs": [
    {
     "data": {
      "text/html": [
       "<div style=\"max-height:1000px;max-width:1500px;overflow:auto;\"><table frame=\"box\" rules=\"cols\">\n",
       "    <tr>\n",
       "        <th style=\"padding-left: 1em; padding-right: 1em; text-align: center\">test_cas</th>\n",
       "        <th style=\"padding-left: 1em; padding-right: 1em; text-align: center\">tripleBond</th>\n",
       "    </tr>\n",
       "    <tr>\n",
       "        <td style=\"padding-left: 1em; padding-right: 1em; text-align: center; vertical-align: top\">52</td>\n",
       "        <td style=\"padding-left: 1em; padding-right: 1em; text-align: center; vertical-align: top\">0</td>\n",
       "    </tr>\n",
       "    <tr>\n",
       "        <td style=\"padding-left: 1em; padding-right: 1em; text-align: center; vertical-align: top\">2424</td>\n",
       "        <td style=\"padding-left: 1em; padding-right: 1em; text-align: center; vertical-align: top\">0</td>\n",
       "    </tr>\n",
       "    <tr>\n",
       "        <td style=\"padding-left: 1em; padding-right: 1em; text-align: center; vertical-align: top\">642</td>\n",
       "        <td style=\"padding-left: 1em; padding-right: 1em; text-align: center; vertical-align: top\">0</td>\n",
       "    </tr>\n",
       "    <tr>\n",
       "        <td style=\"padding-left: 1em; padding-right: 1em; text-align: center; vertical-align: top\">1583</td>\n",
       "        <td style=\"padding-left: 1em; padding-right: 1em; text-align: center; vertical-align: top\">1</td>\n",
       "    </tr>\n",
       "    <tr>\n",
       "        <td style=\"padding-left: 1em; padding-right: 1em; text-align: center; vertical-align: top\">2020</td>\n",
       "        <td style=\"padding-left: 1em; padding-right: 1em; text-align: center; vertical-align: top\">0</td>\n",
       "    </tr>\n",
       "    <tr>\n",
       "        <td style=\"padding-left: 1em; padding-right: 1em; text-align: center; vertical-align: top\">1178</td>\n",
       "        <td style=\"padding-left: 1em; padding-right: 1em; text-align: center; vertical-align: top\">0</td>\n",
       "    </tr>\n",
       "    <tr>\n",
       "        <td style=\"padding-left: 1em; padding-right: 1em; text-align: center; vertical-align: top\">908</td>\n",
       "        <td style=\"padding-left: 1em; padding-right: 1em; text-align: center; vertical-align: top\">0</td>\n",
       "    </tr>\n",
       "    <tr>\n",
       "        <td style=\"padding-left: 1em; padding-right: 1em; text-align: center; vertical-align: top\">2192</td>\n",
       "        <td style=\"padding-left: 1em; padding-right: 1em; text-align: center; vertical-align: top\">0</td>\n",
       "    </tr>\n",
       "    <tr>\n",
       "        <td style=\"padding-left: 1em; padding-right: 1em; text-align: center; vertical-align: top\">2200</td>\n",
       "        <td style=\"padding-left: 1em; padding-right: 1em; text-align: center; vertical-align: top\">0</td>\n",
       "    </tr>\n",
       "    <tr>\n",
       "        <td style=\"padding-left: 1em; padding-right: 1em; text-align: center; vertical-align: top\">2412</td>\n",
       "        <td style=\"padding-left: 1em; padding-right: 1em; text-align: center; vertical-align: top\">0</td>\n",
       "    </tr>\n",
       "</table>\n",
       "[2621 rows x 2 columns]<br/>Note: Only the head of the SFrame is printed.<br/>You can use print_rows(num_rows=m, num_columns=n) to print more rows and columns.\n",
       "</div>"
      ],
      "text/plain": [
       "Columns:\n",
       "\ttest_cas\tint\n",
       "\ttripleBond\tint\n",
       "\n",
       "Rows: 2621\n",
       "\n",
       "Data:\n",
       "+----------+------------+\n",
       "| test_cas | tripleBond |\n",
       "+----------+------------+\n",
       "|    52    |     0      |\n",
       "|   2424   |     0      |\n",
       "|   642    |     0      |\n",
       "|   1583   |     1      |\n",
       "|   2020   |     0      |\n",
       "|   1178   |     0      |\n",
       "|   908    |     0      |\n",
       "|   2192   |     0      |\n",
       "|   2200   |     0      |\n",
       "|   2412   |     0      |\n",
       "+----------+------------+\n",
       "[2621 rows x 2 columns]\n",
       "Note: Only the head of the SFrame is printed.\n",
       "You can use print_rows(num_rows=m, num_columns=n) to print more rows and columns."
      ]
     },
     "execution_count": 41,
     "metadata": {
      "tags": []
     },
     "output_type": "execute_result"
    }
   ],
   "source": [
    "X_cas = tc.SFrame(X_side_cas)\n",
    "X_cas"
   ]
  },
  {
   "cell_type": "code",
   "execution_count": null,
   "metadata": {
    "colab": {
     "base_uri": "https://localhost:8080/",
     "height": 279
    },
    "colab_type": "code",
    "id": "_kOmwr1QSuBc",
    "outputId": "664ee091-3562-4931-9c9e-521cdcb05f0a"
   },
   "outputs": [
    {
     "data": {
      "text/html": [
       "<div style=\"max-height:1000px;max-width:1500px;overflow:auto;\"><table frame=\"box\" rules=\"cols\">\n",
       "    <tr>\n",
       "        <th style=\"padding-left: 1em; padding-right: 1em; text-align: center\">species</th>\n",
       "        <th style=\"padding-left: 1em; padding-right: 1em; text-align: center\">class</th>\n",
       "        <th style=\"padding-left: 1em; padding-right: 1em; text-align: center\">tax_order</th>\n",
       "        <th style=\"padding-left: 1em; padding-right: 1em; text-align: center\">family</th>\n",
       "        <th style=\"padding-left: 1em; padding-right: 1em; text-align: center\">genus</th>\n",
       "    </tr>\n",
       "    <tr>\n",
       "        <td style=\"padding-left: 1em; padding-right: 1em; text-align: center; vertical-align: top\">39</td>\n",
       "        <td style=\"padding-left: 1em; padding-right: 1em; text-align: center; vertical-align: top\">Actinopterygii</td>\n",
       "        <td style=\"padding-left: 1em; padding-right: 1em; text-align: center; vertical-align: top\">Cypriniformes</td>\n",
       "        <td style=\"padding-left: 1em; padding-right: 1em; text-align: center; vertical-align: top\">Cyprinidae</td>\n",
       "        <td style=\"padding-left: 1em; padding-right: 1em; text-align: center; vertical-align: top\">Carassius</td>\n",
       "    </tr>\n",
       "    <tr>\n",
       "        <td style=\"padding-left: 1em; padding-right: 1em; text-align: center; vertical-align: top\">203</td>\n",
       "        <td style=\"padding-left: 1em; padding-right: 1em; text-align: center; vertical-align: top\">Actinopterygii</td>\n",
       "        <td style=\"padding-left: 1em; padding-right: 1em; text-align: center; vertical-align: top\">Cyprinodontiformes</td>\n",
       "        <td style=\"padding-left: 1em; padding-right: 1em; text-align: center; vertical-align: top\">Cyprinodontidae</td>\n",
       "        <td style=\"padding-left: 1em; padding-right: 1em; text-align: center; vertical-align: top\">Fundulus</td>\n",
       "    </tr>\n",
       "    <tr>\n",
       "        <td style=\"padding-left: 1em; padding-right: 1em; text-align: center; vertical-align: top\">306</td>\n",
       "        <td style=\"padding-left: 1em; padding-right: 1em; text-align: center; vertical-align: top\">Actinopterygii</td>\n",
       "        <td style=\"padding-left: 1em; padding-right: 1em; text-align: center; vertical-align: top\">Salmoniformes</td>\n",
       "        <td style=\"padding-left: 1em; padding-right: 1em; text-align: center; vertical-align: top\">Salmonidae</td>\n",
       "        <td style=\"padding-left: 1em; padding-right: 1em; text-align: center; vertical-align: top\">Oncorhynchus</td>\n",
       "    </tr>\n",
       "    <tr>\n",
       "        <td style=\"padding-left: 1em; padding-right: 1em; text-align: center; vertical-align: top\">460</td>\n",
       "        <td style=\"padding-left: 1em; padding-right: 1em; text-align: center; vertical-align: top\">Actinopterygii</td>\n",
       "        <td style=\"padding-left: 1em; padding-right: 1em; text-align: center; vertical-align: top\">Cyprinodontiformes</td>\n",
       "        <td style=\"padding-left: 1em; padding-right: 1em; text-align: center; vertical-align: top\">Cyprinodontidae</td>\n",
       "        <td style=\"padding-left: 1em; padding-right: 1em; text-align: center; vertical-align: top\">Cyprinodon</td>\n",
       "    </tr>\n",
       "    <tr>\n",
       "        <td style=\"padding-left: 1em; padding-right: 1em; text-align: center; vertical-align: top\">320</td>\n",
       "        <td style=\"padding-left: 1em; padding-right: 1em; text-align: center; vertical-align: top\">Actinopterygii</td>\n",
       "        <td style=\"padding-left: 1em; padding-right: 1em; text-align: center; vertical-align: top\">Perciformes</td>\n",
       "        <td style=\"padding-left: 1em; padding-right: 1em; text-align: center; vertical-align: top\">Cichlidae</td>\n",
       "        <td style=\"padding-left: 1em; padding-right: 1em; text-align: center; vertical-align: top\">Oreochromis</td>\n",
       "    </tr>\n",
       "    <tr>\n",
       "        <td style=\"padding-left: 1em; padding-right: 1em; text-align: center; vertical-align: top\">220</td>\n",
       "        <td style=\"padding-left: 1em; padding-right: 1em; text-align: center; vertical-align: top\">Actinopterygii</td>\n",
       "        <td style=\"padding-left: 1em; padding-right: 1em; text-align: center; vertical-align: top\">Anguilliformes</td>\n",
       "        <td style=\"padding-left: 1em; padding-right: 1em; text-align: center; vertical-align: top\">Anguillidae</td>\n",
       "        <td style=\"padding-left: 1em; padding-right: 1em; text-align: center; vertical-align: top\">Anguilla</td>\n",
       "    </tr>\n",
       "    <tr>\n",
       "        <td style=\"padding-left: 1em; padding-right: 1em; text-align: center; vertical-align: top\">109</td>\n",
       "        <td style=\"padding-left: 1em; padding-right: 1em; text-align: center; vertical-align: top\">Actinopterygii</td>\n",
       "        <td style=\"padding-left: 1em; padding-right: 1em; text-align: center; vertical-align: top\">Salmoniformes</td>\n",
       "        <td style=\"padding-left: 1em; padding-right: 1em; text-align: center; vertical-align: top\">Salmonidae</td>\n",
       "        <td style=\"padding-left: 1em; padding-right: 1em; text-align: center; vertical-align: top\">Salvelinus</td>\n",
       "    </tr>\n",
       "    <tr>\n",
       "        <td style=\"padding-left: 1em; padding-right: 1em; text-align: center; vertical-align: top\">92</td>\n",
       "        <td style=\"padding-left: 1em; padding-right: 1em; text-align: center; vertical-align: top\">Actinopterygii</td>\n",
       "        <td style=\"padding-left: 1em; padding-right: 1em; text-align: center; vertical-align: top\">Cypriniformes</td>\n",
       "        <td style=\"padding-left: 1em; padding-right: 1em; text-align: center; vertical-align: top\">Cyprinidae</td>\n",
       "        <td style=\"padding-left: 1em; padding-right: 1em; text-align: center; vertical-align: top\">Gibelion</td>\n",
       "    </tr>\n",
       "    <tr>\n",
       "        <td style=\"padding-left: 1em; padding-right: 1em; text-align: center; vertical-align: top\">168</td>\n",
       "        <td style=\"padding-left: 1em; padding-right: 1em; text-align: center; vertical-align: top\">Actinopterygii</td>\n",
       "        <td style=\"padding-left: 1em; padding-right: 1em; text-align: center; vertical-align: top\">Cypriniformes</td>\n",
       "        <td style=\"padding-left: 1em; padding-right: 1em; text-align: center; vertical-align: top\">Cyprinidae</td>\n",
       "        <td style=\"padding-left: 1em; padding-right: 1em; text-align: center; vertical-align: top\">Nothobranchius</td>\n",
       "    </tr>\n",
       "    <tr>\n",
       "        <td style=\"padding-left: 1em; padding-right: 1em; text-align: center; vertical-align: top\">2</td>\n",
       "        <td style=\"padding-left: 1em; padding-right: 1em; text-align: center; vertical-align: top\">Actinopterygii</td>\n",
       "        <td style=\"padding-left: 1em; padding-right: 1em; text-align: center; vertical-align: top\">Perciformes</td>\n",
       "        <td style=\"padding-left: 1em; padding-right: 1em; text-align: center; vertical-align: top\">Labridae</td>\n",
       "        <td style=\"padding-left: 1em; padding-right: 1em; text-align: center; vertical-align: top\">Tautogolabrus</td>\n",
       "    </tr>\n",
       "</table>\n",
       "[475 rows x 5 columns]<br/>Note: Only the head of the SFrame is printed.<br/>You can use print_rows(num_rows=m, num_columns=n) to print more rows and columns.\n",
       "</div>"
      ],
      "text/plain": [
       "Columns:\n",
       "\tspecies\tint\n",
       "\tclass\tstr\n",
       "\ttax_order\tstr\n",
       "\tfamily\tstr\n",
       "\tgenus\tstr\n",
       "\n",
       "Rows: 475\n",
       "\n",
       "Data:\n",
       "+---------+----------------+--------------------+-----------------+\n",
       "| species |     class      |     tax_order      |      family     |\n",
       "+---------+----------------+--------------------+-----------------+\n",
       "|    39   | Actinopterygii |   Cypriniformes    |    Cyprinidae   |\n",
       "|   203   | Actinopterygii | Cyprinodontiformes | Cyprinodontidae |\n",
       "|   306   | Actinopterygii |   Salmoniformes    |    Salmonidae   |\n",
       "|   460   | Actinopterygii | Cyprinodontiformes | Cyprinodontidae |\n",
       "|   320   | Actinopterygii |    Perciformes     |    Cichlidae    |\n",
       "|   220   | Actinopterygii |   Anguilliformes   |   Anguillidae   |\n",
       "|   109   | Actinopterygii |   Salmoniformes    |    Salmonidae   |\n",
       "|    92   | Actinopterygii |   Cypriniformes    |    Cyprinidae   |\n",
       "|   168   | Actinopterygii |   Cypriniformes    |    Cyprinidae   |\n",
       "|    2    | Actinopterygii |    Perciformes     |     Labridae    |\n",
       "+---------+----------------+--------------------+-----------------+\n",
       "+----------------+\n",
       "|     genus      |\n",
       "+----------------+\n",
       "|   Carassius    |\n",
       "|    Fundulus    |\n",
       "|  Oncorhynchus  |\n",
       "|   Cyprinodon   |\n",
       "|  Oreochromis   |\n",
       "|    Anguilla    |\n",
       "|   Salvelinus   |\n",
       "|    Gibelion    |\n",
       "| Nothobranchius |\n",
       "| Tautogolabrus  |\n",
       "+----------------+\n",
       "[475 rows x 5 columns]\n",
       "Note: Only the head of the SFrame is printed.\n",
       "You can use print_rows(num_rows=m, num_columns=n) to print more rows and columns."
      ]
     },
     "execution_count": 42,
     "metadata": {
      "tags": []
     },
     "output_type": "execute_result"
    }
   ],
   "source": [
    "X_species = tc.SFrame(X_side_species)\n",
    "X_species"
   ]
  },
  {
   "cell_type": "code",
   "execution_count": null,
   "metadata": {
    "colab": {},
    "colab_type": "code",
    "id": "AniN0qQLC8cz"
   },
   "outputs": [],
   "source": [
    "X_train, X_test = tc.SFrame(X_train_scored), tc.SFrame(X_test_scored)"
   ]
  },
  {
   "cell_type": "code",
   "execution_count": null,
   "metadata": {
    "colab": {
     "base_uri": "https://localhost:8080/",
     "height": 279
    },
    "colab_type": "code",
    "id": "7cGeXw-oDFxw",
    "outputId": "b8f9b551-5dbf-442a-9294-e93d65c25798"
   },
   "outputs": [
    {
     "data": {
      "text/html": [
       "<div style=\"max-height:1000px;max-width:1500px;overflow:auto;\"><table frame=\"box\" rules=\"cols\">\n",
       "    <tr>\n",
       "        <th style=\"padding-left: 1em; padding-right: 1em; text-align: center\">test_cas</th>\n",
       "        <th style=\"padding-left: 1em; padding-right: 1em; text-align: center\">species</th>\n",
       "        <th style=\"padding-left: 1em; padding-right: 1em; text-align: center\">conc1_type</th>\n",
       "        <th style=\"padding-left: 1em; padding-right: 1em; text-align: center\">exposure_type</th>\n",
       "        <th style=\"padding-left: 1em; padding-right: 1em; text-align: center\">obs_duration_mean</th>\n",
       "        <th style=\"padding-left: 1em; padding-right: 1em; text-align: center\">score</th>\n",
       "    </tr>\n",
       "    <tr>\n",
       "        <td style=\"padding-left: 1em; padding-right: 1em; text-align: center; vertical-align: top\">939</td>\n",
       "        <td style=\"padding-left: 1em; padding-right: 1em; text-align: center; vertical-align: top\">306</td>\n",
       "        <td style=\"padding-left: 1em; padding-right: 1em; text-align: center; vertical-align: top\">A</td>\n",
       "        <td style=\"padding-left: 1em; padding-right: 1em; text-align: center; vertical-align: top\">S</td>\n",
       "        <td style=\"padding-left: 1em; padding-right: 1em; text-align: center; vertical-align: top\">24.0</td>\n",
       "        <td style=\"padding-left: 1em; padding-right: 1em; text-align: center; vertical-align: top\">4</td>\n",
       "    </tr>\n",
       "    <tr>\n",
       "        <td style=\"padding-left: 1em; padding-right: 1em; text-align: center; vertical-align: top\">97</td>\n",
       "        <td style=\"padding-left: 1em; padding-right: 1em; text-align: center; vertical-align: top\">358</td>\n",
       "        <td style=\"padding-left: 1em; padding-right: 1em; text-align: center; vertical-align: top\">A</td>\n",
       "        <td style=\"padding-left: 1em; padding-right: 1em; text-align: center; vertical-align: top\">S</td>\n",
       "        <td style=\"padding-left: 1em; padding-right: 1em; text-align: center; vertical-align: top\">48.0</td>\n",
       "        <td style=\"padding-left: 1em; padding-right: 1em; text-align: center; vertical-align: top\">4</td>\n",
       "    </tr>\n",
       "    <tr>\n",
       "        <td style=\"padding-left: 1em; padding-right: 1em; text-align: center; vertical-align: top\">1523</td>\n",
       "        <td style=\"padding-left: 1em; padding-right: 1em; text-align: center; vertical-align: top\">256</td>\n",
       "        <td style=\"padding-left: 1em; padding-right: 1em; text-align: center; vertical-align: top\">F</td>\n",
       "        <td style=\"padding-left: 1em; padding-right: 1em; text-align: center; vertical-align: top\">AQUA</td>\n",
       "        <td style=\"padding-left: 1em; padding-right: 1em; text-align: center; vertical-align: top\">48.0</td>\n",
       "        <td style=\"padding-left: 1em; padding-right: 1em; text-align: center; vertical-align: top\">1</td>\n",
       "    </tr>\n",
       "    <tr>\n",
       "        <td style=\"padding-left: 1em; padding-right: 1em; text-align: center; vertical-align: top\">521</td>\n",
       "        <td style=\"padding-left: 1em; padding-right: 1em; text-align: center; vertical-align: top\">297</td>\n",
       "        <td style=\"padding-left: 1em; padding-right: 1em; text-align: center; vertical-align: top\">F</td>\n",
       "        <td style=\"padding-left: 1em; padding-right: 1em; text-align: center; vertical-align: top\">AQUA</td>\n",
       "        <td style=\"padding-left: 1em; padding-right: 1em; text-align: center; vertical-align: top\">48.0</td>\n",
       "        <td style=\"padding-left: 1em; padding-right: 1em; text-align: center; vertical-align: top\">4</td>\n",
       "    </tr>\n",
       "    <tr>\n",
       "        <td style=\"padding-left: 1em; padding-right: 1em; text-align: center; vertical-align: top\">379</td>\n",
       "        <td style=\"padding-left: 1em; padding-right: 1em; text-align: center; vertical-align: top\">256</td>\n",
       "        <td style=\"padding-left: 1em; padding-right: 1em; text-align: center; vertical-align: top\">A</td>\n",
       "        <td style=\"padding-left: 1em; padding-right: 1em; text-align: center; vertical-align: top\">S</td>\n",
       "        <td style=\"padding-left: 1em; padding-right: 1em; text-align: center; vertical-align: top\">24.0</td>\n",
       "        <td style=\"padding-left: 1em; padding-right: 1em; text-align: center; vertical-align: top\">3</td>\n",
       "    </tr>\n",
       "    <tr>\n",
       "        <td style=\"padding-left: 1em; padding-right: 1em; text-align: center; vertical-align: top\">415</td>\n",
       "        <td style=\"padding-left: 1em; padding-right: 1em; text-align: center; vertical-align: top\">256</td>\n",
       "        <td style=\"padding-left: 1em; padding-right: 1em; text-align: center; vertical-align: top\">A</td>\n",
       "        <td style=\"padding-left: 1em; padding-right: 1em; text-align: center; vertical-align: top\">S</td>\n",
       "        <td style=\"padding-left: 1em; padding-right: 1em; text-align: center; vertical-align: top\">24.0</td>\n",
       "        <td style=\"padding-left: 1em; padding-right: 1em; text-align: center; vertical-align: top\">3</td>\n",
       "    </tr>\n",
       "    <tr>\n",
       "        <td style=\"padding-left: 1em; padding-right: 1em; text-align: center; vertical-align: top\">1649</td>\n",
       "        <td style=\"padding-left: 1em; padding-right: 1em; text-align: center; vertical-align: top\">378</td>\n",
       "        <td style=\"padding-left: 1em; padding-right: 1em; text-align: center; vertical-align: top\">A</td>\n",
       "        <td style=\"padding-left: 1em; padding-right: 1em; text-align: center; vertical-align: top\">S</td>\n",
       "        <td style=\"padding-left: 1em; padding-right: 1em; text-align: center; vertical-align: top\">48.0</td>\n",
       "        <td style=\"padding-left: 1em; padding-right: 1em; text-align: center; vertical-align: top\">3</td>\n",
       "    </tr>\n",
       "    <tr>\n",
       "        <td style=\"padding-left: 1em; padding-right: 1em; text-align: center; vertical-align: top\">908</td>\n",
       "        <td style=\"padding-left: 1em; padding-right: 1em; text-align: center; vertical-align: top\">392</td>\n",
       "        <td style=\"padding-left: 1em; padding-right: 1em; text-align: center; vertical-align: top\">F</td>\n",
       "        <td style=\"padding-left: 1em; padding-right: 1em; text-align: center; vertical-align: top\">AQUA</td>\n",
       "        <td style=\"padding-left: 1em; padding-right: 1em; text-align: center; vertical-align: top\">24.0</td>\n",
       "        <td style=\"padding-left: 1em; padding-right: 1em; text-align: center; vertical-align: top\">4</td>\n",
       "    </tr>\n",
       "    <tr>\n",
       "        <td style=\"padding-left: 1em; padding-right: 1em; text-align: center; vertical-align: top\">1178</td>\n",
       "        <td style=\"padding-left: 1em; padding-right: 1em; text-align: center; vertical-align: top\">379</td>\n",
       "        <td style=\"padding-left: 1em; padding-right: 1em; text-align: center; vertical-align: top\">A</td>\n",
       "        <td style=\"padding-left: 1em; padding-right: 1em; text-align: center; vertical-align: top\">AQUA</td>\n",
       "        <td style=\"padding-left: 1em; padding-right: 1em; text-align: center; vertical-align: top\">96.0</td>\n",
       "        <td style=\"padding-left: 1em; padding-right: 1em; text-align: center; vertical-align: top\">5</td>\n",
       "    </tr>\n",
       "    <tr>\n",
       "        <td style=\"padding-left: 1em; padding-right: 1em; text-align: center; vertical-align: top\">820</td>\n",
       "        <td style=\"padding-left: 1em; padding-right: 1em; text-align: center; vertical-align: top\">236</td>\n",
       "        <td style=\"padding-left: 1em; padding-right: 1em; text-align: center; vertical-align: top\">F</td>\n",
       "        <td style=\"padding-left: 1em; padding-right: 1em; text-align: center; vertical-align: top\">S</td>\n",
       "        <td style=\"padding-left: 1em; padding-right: 1em; text-align: center; vertical-align: top\">48.0</td>\n",
       "        <td style=\"padding-left: 1em; padding-right: 1em; text-align: center; vertical-align: top\">4</td>\n",
       "    </tr>\n",
       "</table>\n",
       "[15632 rows x 6 columns]<br/>Note: Only the head of the SFrame is printed.<br/>You can use print_rows(num_rows=m, num_columns=n) to print more rows and columns.\n",
       "</div>"
      ],
      "text/plain": [
       "Columns:\n",
       "\ttest_cas\tint\n",
       "\tspecies\tint\n",
       "\tconc1_type\tstr\n",
       "\texposure_type\tstr\n",
       "\tobs_duration_mean\tfloat\n",
       "\tscore\tint\n",
       "\n",
       "Rows: 15632\n",
       "\n",
       "Data:\n",
       "+----------+---------+------------+---------------+-------------------+-------+\n",
       "| test_cas | species | conc1_type | exposure_type | obs_duration_mean | score |\n",
       "+----------+---------+------------+---------------+-------------------+-------+\n",
       "|   939    |   306   |     A      |       S       |        24.0       |   4   |\n",
       "|    97    |   358   |     A      |       S       |        48.0       |   4   |\n",
       "|   1523   |   256   |     F      |      AQUA     |        48.0       |   1   |\n",
       "|   521    |   297   |     F      |      AQUA     |        48.0       |   4   |\n",
       "|   379    |   256   |     A      |       S       |        24.0       |   3   |\n",
       "|   415    |   256   |     A      |       S       |        24.0       |   3   |\n",
       "|   1649   |   378   |     A      |       S       |        48.0       |   3   |\n",
       "|   908    |   392   |     F      |      AQUA     |        24.0       |   4   |\n",
       "|   1178   |   379   |     A      |      AQUA     |        96.0       |   5   |\n",
       "|   820    |   236   |     F      |       S       |        48.0       |   4   |\n",
       "+----------+---------+------------+---------------+-------------------+-------+\n",
       "[15632 rows x 6 columns]\n",
       "Note: Only the head of the SFrame is printed.\n",
       "You can use print_rows(num_rows=m, num_columns=n) to print more rows and columns."
      ]
     },
     "execution_count": 44,
     "metadata": {
      "tags": []
     },
     "output_type": "execute_result"
    }
   ],
   "source": [
    "X_train"
   ]
  },
  {
   "cell_type": "code",
   "execution_count": null,
   "metadata": {
    "colab": {
     "base_uri": "https://localhost:8080/",
     "height": 279
    },
    "colab_type": "code",
    "id": "VmxUzsFlWlzy",
    "outputId": "e9506449-cd5a-43bc-e290-9a6649000a80"
   },
   "outputs": [
    {
     "data": {
      "text/html": [
       "<div style=\"max-height:1000px;max-width:1500px;overflow:auto;\"><table frame=\"box\" rules=\"cols\">\n",
       "    <tr>\n",
       "        <th style=\"padding-left: 1em; padding-right: 1em; text-align: center\">test_cas</th>\n",
       "        <th style=\"padding-left: 1em; padding-right: 1em; text-align: center\">species</th>\n",
       "        <th style=\"padding-left: 1em; padding-right: 1em; text-align: center\">conc1_type</th>\n",
       "        <th style=\"padding-left: 1em; padding-right: 1em; text-align: center\">exposure_type</th>\n",
       "        <th style=\"padding-left: 1em; padding-right: 1em; text-align: center\">obs_duration_mean</th>\n",
       "        <th style=\"padding-left: 1em; padding-right: 1em; text-align: center\">score</th>\n",
       "    </tr>\n",
       "    <tr>\n",
       "        <td style=\"padding-left: 1em; padding-right: 1em; text-align: center; vertical-align: top\">57</td>\n",
       "        <td style=\"padding-left: 1em; padding-right: 1em; text-align: center; vertical-align: top\">222</td>\n",
       "        <td style=\"padding-left: 1em; padding-right: 1em; text-align: center; vertical-align: top\">T</td>\n",
       "        <td style=\"padding-left: 1em; padding-right: 1em; text-align: center; vertical-align: top\">S</td>\n",
       "        <td style=\"padding-left: 1em; padding-right: 1em; text-align: center; vertical-align: top\">96.0</td>\n",
       "        <td style=\"padding-left: 1em; padding-right: 1em; text-align: center; vertical-align: top\">2</td>\n",
       "    </tr>\n",
       "    <tr>\n",
       "        <td style=\"padding-left: 1em; padding-right: 1em; text-align: center; vertical-align: top\">1256</td>\n",
       "        <td style=\"padding-left: 1em; padding-right: 1em; text-align: center; vertical-align: top\">447</td>\n",
       "        <td style=\"padding-left: 1em; padding-right: 1em; text-align: center; vertical-align: top\">F</td>\n",
       "        <td style=\"padding-left: 1em; padding-right: 1em; text-align: center; vertical-align: top\">S</td>\n",
       "        <td style=\"padding-left: 1em; padding-right: 1em; text-align: center; vertical-align: top\">24.0</td>\n",
       "        <td style=\"padding-left: 1em; padding-right: 1em; text-align: center; vertical-align: top\">3</td>\n",
       "    </tr>\n",
       "    <tr>\n",
       "        <td style=\"padding-left: 1em; padding-right: 1em; text-align: center; vertical-align: top\">1120</td>\n",
       "        <td style=\"padding-left: 1em; padding-right: 1em; text-align: center; vertical-align: top\">10</td>\n",
       "        <td style=\"padding-left: 1em; padding-right: 1em; text-align: center; vertical-align: top\">F</td>\n",
       "        <td style=\"padding-left: 1em; padding-right: 1em; text-align: center; vertical-align: top\">S</td>\n",
       "        <td style=\"padding-left: 1em; padding-right: 1em; text-align: center; vertical-align: top\">48.0</td>\n",
       "        <td style=\"padding-left: 1em; padding-right: 1em; text-align: center; vertical-align: top\">2</td>\n",
       "    </tr>\n",
       "    <tr>\n",
       "        <td style=\"padding-left: 1em; padding-right: 1em; text-align: center; vertical-align: top\">2521</td>\n",
       "        <td style=\"padding-left: 1em; padding-right: 1em; text-align: center; vertical-align: top\">364</td>\n",
       "        <td style=\"padding-left: 1em; padding-right: 1em; text-align: center; vertical-align: top\">F</td>\n",
       "        <td style=\"padding-left: 1em; padding-right: 1em; text-align: center; vertical-align: top\">S</td>\n",
       "        <td style=\"padding-left: 1em; padding-right: 1em; text-align: center; vertical-align: top\">48.0</td>\n",
       "        <td style=\"padding-left: 1em; padding-right: 1em; text-align: center; vertical-align: top\">2</td>\n",
       "    </tr>\n",
       "    <tr>\n",
       "        <td style=\"padding-left: 1em; padding-right: 1em; text-align: center; vertical-align: top\">939</td>\n",
       "        <td style=\"padding-left: 1em; padding-right: 1em; text-align: center; vertical-align: top\">460</td>\n",
       "        <td style=\"padding-left: 1em; padding-right: 1em; text-align: center; vertical-align: top\">A</td>\n",
       "        <td style=\"padding-left: 1em; padding-right: 1em; text-align: center; vertical-align: top\">S</td>\n",
       "        <td style=\"padding-left: 1em; padding-right: 1em; text-align: center; vertical-align: top\">96.0</td>\n",
       "        <td style=\"padding-left: 1em; padding-right: 1em; text-align: center; vertical-align: top\">4</td>\n",
       "    </tr>\n",
       "    <tr>\n",
       "        <td style=\"padding-left: 1em; padding-right: 1em; text-align: center; vertical-align: top\">931</td>\n",
       "        <td style=\"padding-left: 1em; padding-right: 1em; text-align: center; vertical-align: top\">53</td>\n",
       "        <td style=\"padding-left: 1em; padding-right: 1em; text-align: center; vertical-align: top\">A</td>\n",
       "        <td style=\"padding-left: 1em; padding-right: 1em; text-align: center; vertical-align: top\">R</td>\n",
       "        <td style=\"padding-left: 1em; padding-right: 1em; text-align: center; vertical-align: top\">96.0</td>\n",
       "        <td style=\"padding-left: 1em; padding-right: 1em; text-align: center; vertical-align: top\">5</td>\n",
       "    </tr>\n",
       "    <tr>\n",
       "        <td style=\"padding-left: 1em; padding-right: 1em; text-align: center; vertical-align: top\">735</td>\n",
       "        <td style=\"padding-left: 1em; padding-right: 1em; text-align: center; vertical-align: top\">256</td>\n",
       "        <td style=\"padding-left: 1em; padding-right: 1em; text-align: center; vertical-align: top\">F</td>\n",
       "        <td style=\"padding-left: 1em; padding-right: 1em; text-align: center; vertical-align: top\">S</td>\n",
       "        <td style=\"padding-left: 1em; padding-right: 1em; text-align: center; vertical-align: top\">24.0</td>\n",
       "        <td style=\"padding-left: 1em; padding-right: 1em; text-align: center; vertical-align: top\">3</td>\n",
       "    </tr>\n",
       "    <tr>\n",
       "        <td style=\"padding-left: 1em; padding-right: 1em; text-align: center; vertical-align: top\">589</td>\n",
       "        <td style=\"padding-left: 1em; padding-right: 1em; text-align: center; vertical-align: top\">367</td>\n",
       "        <td style=\"padding-left: 1em; padding-right: 1em; text-align: center; vertical-align: top\">T</td>\n",
       "        <td style=\"padding-left: 1em; padding-right: 1em; text-align: center; vertical-align: top\">AQUA</td>\n",
       "        <td style=\"padding-left: 1em; padding-right: 1em; text-align: center; vertical-align: top\">96.0</td>\n",
       "        <td style=\"padding-left: 1em; padding-right: 1em; text-align: center; vertical-align: top\">2</td>\n",
       "    </tr>\n",
       "    <tr>\n",
       "        <td style=\"padding-left: 1em; padding-right: 1em; text-align: center; vertical-align: top\">776</td>\n",
       "        <td style=\"padding-left: 1em; padding-right: 1em; text-align: center; vertical-align: top\">117</td>\n",
       "        <td style=\"padding-left: 1em; padding-right: 1em; text-align: center; vertical-align: top\">F</td>\n",
       "        <td style=\"padding-left: 1em; padding-right: 1em; text-align: center; vertical-align: top\">S</td>\n",
       "        <td style=\"padding-left: 1em; padding-right: 1em; text-align: center; vertical-align: top\">48.0</td>\n",
       "        <td style=\"padding-left: 1em; padding-right: 1em; text-align: center; vertical-align: top\">4</td>\n",
       "    </tr>\n",
       "    <tr>\n",
       "        <td style=\"padding-left: 1em; padding-right: 1em; text-align: center; vertical-align: top\">1222</td>\n",
       "        <td style=\"padding-left: 1em; padding-right: 1em; text-align: center; vertical-align: top\">383</td>\n",
       "        <td style=\"padding-left: 1em; padding-right: 1em; text-align: center; vertical-align: top\">F</td>\n",
       "        <td style=\"padding-left: 1em; padding-right: 1em; text-align: center; vertical-align: top\">S</td>\n",
       "        <td style=\"padding-left: 1em; padding-right: 1em; text-align: center; vertical-align: top\">96.0</td>\n",
       "        <td style=\"padding-left: 1em; padding-right: 1em; text-align: center; vertical-align: top\">5</td>\n",
       "    </tr>\n",
       "</table>\n",
       "[7700 rows x 6 columns]<br/>Note: Only the head of the SFrame is printed.<br/>You can use print_rows(num_rows=m, num_columns=n) to print more rows and columns.\n",
       "</div>"
      ],
      "text/plain": [
       "Columns:\n",
       "\ttest_cas\tint\n",
       "\tspecies\tint\n",
       "\tconc1_type\tstr\n",
       "\texposure_type\tstr\n",
       "\tobs_duration_mean\tfloat\n",
       "\tscore\tint\n",
       "\n",
       "Rows: 7700\n",
       "\n",
       "Data:\n",
       "+----------+---------+------------+---------------+-------------------+-------+\n",
       "| test_cas | species | conc1_type | exposure_type | obs_duration_mean | score |\n",
       "+----------+---------+------------+---------------+-------------------+-------+\n",
       "|    57    |   222   |     T      |       S       |        96.0       |   2   |\n",
       "|   1256   |   447   |     F      |       S       |        24.0       |   3   |\n",
       "|   1120   |    10   |     F      |       S       |        48.0       |   2   |\n",
       "|   2521   |   364   |     F      |       S       |        48.0       |   2   |\n",
       "|   939    |   460   |     A      |       S       |        96.0       |   4   |\n",
       "|   931    |    53   |     A      |       R       |        96.0       |   5   |\n",
       "|   735    |   256   |     F      |       S       |        24.0       |   3   |\n",
       "|   589    |   367   |     T      |      AQUA     |        96.0       |   2   |\n",
       "|   776    |   117   |     F      |       S       |        48.0       |   4   |\n",
       "|   1222   |   383   |     F      |       S       |        96.0       |   5   |\n",
       "+----------+---------+------------+---------------+-------------------+-------+\n",
       "[7700 rows x 6 columns]\n",
       "Note: Only the head of the SFrame is printed.\n",
       "You can use print_rows(num_rows=m, num_columns=n) to print more rows and columns."
      ]
     },
     "execution_count": 45,
     "metadata": {
      "tags": []
     },
     "output_type": "execute_result"
    }
   ],
   "source": [
    "X_test"
   ]
  },
  {
   "cell_type": "code",
   "execution_count": null,
   "metadata": {
    "colab": {
     "base_uri": "https://localhost:8080/",
     "height": 867
    },
    "colab_type": "code",
    "id": "ZwLXWiD5DFq8",
    "outputId": "69ce3385-ffda-430c-b2d1-0d4b8e661a08"
   },
   "outputs": [
    {
     "data": {
      "text/html": [
       "<pre>Preparing data set.</pre>"
      ],
      "text/plain": [
       "Preparing data set."
      ]
     },
     "metadata": {
      "tags": []
     },
     "output_type": "display_data"
    },
    {
     "data": {
      "text/html": [
       "<pre>    Data has 15632 observations with 2306 users and 428 items.</pre>"
      ],
      "text/plain": [
       "    Data has 15632 observations with 2306 users and 428 items."
      ]
     },
     "metadata": {
      "tags": []
     },
     "output_type": "display_data"
    },
    {
     "data": {
      "text/html": [
       "<pre>    Data prepared in: 0.058673s</pre>"
      ],
      "text/plain": [
       "    Data prepared in: 0.058673s"
      ]
     },
     "metadata": {
      "tags": []
     },
     "output_type": "display_data"
    },
    {
     "data": {
      "text/html": [
       "<pre>Training factorization_recommender for recommendations.</pre>"
      ],
      "text/plain": [
       "Training factorization_recommender for recommendations."
      ]
     },
     "metadata": {
      "tags": []
     },
     "output_type": "display_data"
    },
    {
     "data": {
      "text/html": [
       "<pre>+--------------------------------+--------------------------------------------------+----------+</pre>"
      ],
      "text/plain": [
       "+--------------------------------+--------------------------------------------------+----------+"
      ]
     },
     "metadata": {
      "tags": []
     },
     "output_type": "display_data"
    },
    {
     "data": {
      "text/html": [
       "<pre>| Parameter                      | Description                                      | Value    |</pre>"
      ],
      "text/plain": [
       "| Parameter                      | Description                                      | Value    |"
      ]
     },
     "metadata": {
      "tags": []
     },
     "output_type": "display_data"
    },
    {
     "data": {
      "text/html": [
       "<pre>+--------------------------------+--------------------------------------------------+----------+</pre>"
      ],
      "text/plain": [
       "+--------------------------------+--------------------------------------------------+----------+"
      ]
     },
     "metadata": {
      "tags": []
     },
     "output_type": "display_data"
    },
    {
     "data": {
      "text/html": [
       "<pre>| num_factors                    | Factor Dimension                                 | 10       |</pre>"
      ],
      "text/plain": [
       "| num_factors                    | Factor Dimension                                 | 10       |"
      ]
     },
     "metadata": {
      "tags": []
     },
     "output_type": "display_data"
    },
    {
     "data": {
      "text/html": [
       "<pre>| regularization                 | L2 Regularization on Factors                     | 1e-08    |</pre>"
      ],
      "text/plain": [
       "| regularization                 | L2 Regularization on Factors                     | 1e-08    |"
      ]
     },
     "metadata": {
      "tags": []
     },
     "output_type": "display_data"
    },
    {
     "data": {
      "text/html": [
       "<pre>| solver                         | Solver used for training                         | sgd      |</pre>"
      ],
      "text/plain": [
       "| solver                         | Solver used for training                         | sgd      |"
      ]
     },
     "metadata": {
      "tags": []
     },
     "output_type": "display_data"
    },
    {
     "data": {
      "text/html": [
       "<pre>| linear_regularization          | L2 Regularization on Linear Coefficients         | 1e-10    |</pre>"
      ],
      "text/plain": [
       "| linear_regularization          | L2 Regularization on Linear Coefficients         | 1e-10    |"
      ]
     },
     "metadata": {
      "tags": []
     },
     "output_type": "display_data"
    },
    {
     "data": {
      "text/html": [
       "<pre>| max_iterations                 | Maximum Number of Iterations                     | 10000    |</pre>"
      ],
      "text/plain": [
       "| max_iterations                 | Maximum Number of Iterations                     | 10000    |"
      ]
     },
     "metadata": {
      "tags": []
     },
     "output_type": "display_data"
    },
    {
     "data": {
      "text/html": [
       "<pre>+--------------------------------+--------------------------------------------------+----------+</pre>"
      ],
      "text/plain": [
       "+--------------------------------+--------------------------------------------------+----------+"
      ]
     },
     "metadata": {
      "tags": []
     },
     "output_type": "display_data"
    },
    {
     "data": {
      "text/html": [
       "<pre>  Optimizing model using SGD; tuning step size.</pre>"
      ],
      "text/plain": [
       "  Optimizing model using SGD; tuning step size."
      ]
     },
     "metadata": {
      "tags": []
     },
     "output_type": "display_data"
    },
    {
     "data": {
      "text/html": [
       "<pre>  Using 10000 / 15632 points for tuning the step size.</pre>"
      ],
      "text/plain": [
       "  Using 10000 / 15632 points for tuning the step size."
      ]
     },
     "metadata": {
      "tags": []
     },
     "output_type": "display_data"
    },
    {
     "data": {
      "text/html": [
       "<pre>+---------+-------------------+------------------------------------------+</pre>"
      ],
      "text/plain": [
       "+---------+-------------------+------------------------------------------+"
      ]
     },
     "metadata": {
      "tags": []
     },
     "output_type": "display_data"
    },
    {
     "data": {
      "text/html": [
       "<pre>| Attempt | Initial Step Size | Estimated Objective Value                |</pre>"
      ],
      "text/plain": [
       "| Attempt | Initial Step Size | Estimated Objective Value                |"
      ]
     },
     "metadata": {
      "tags": []
     },
     "output_type": "display_data"
    },
    {
     "data": {
      "text/html": [
       "<pre>+---------+-------------------+------------------------------------------+</pre>"
      ],
      "text/plain": [
       "+---------+-------------------+------------------------------------------+"
      ]
     },
     "metadata": {
      "tags": []
     },
     "output_type": "display_data"
    },
    {
     "data": {
      "text/html": [
       "<pre>| 0       | 10                | Not Viable                               |</pre>"
      ],
      "text/plain": [
       "| 0       | 10                | Not Viable                               |"
      ]
     },
     "metadata": {
      "tags": []
     },
     "output_type": "display_data"
    },
    {
     "data": {
      "text/html": [
       "<pre>| 1       | 2.5               | Not Viable                               |</pre>"
      ],
      "text/plain": [
       "| 1       | 2.5               | Not Viable                               |"
      ]
     },
     "metadata": {
      "tags": []
     },
     "output_type": "display_data"
    },
    {
     "data": {
      "text/html": [
       "<pre>| 2       | 0.625             | Not Viable                               |</pre>"
      ],
      "text/plain": [
       "| 2       | 0.625             | Not Viable                               |"
      ]
     },
     "metadata": {
      "tags": []
     },
     "output_type": "display_data"
    },
    {
     "data": {
      "text/html": [
       "<pre>| 3       | 0.15625           | Not Viable                               |</pre>"
      ],
      "text/plain": [
       "| 3       | 0.15625           | Not Viable                               |"
      ]
     },
     "metadata": {
      "tags": []
     },
     "output_type": "display_data"
    },
    {
     "data": {
      "text/html": [
       "<pre>| 4       | 0.0390625         | Not Viable                               |</pre>"
      ],
      "text/plain": [
       "| 4       | 0.0390625         | Not Viable                               |"
      ]
     },
     "metadata": {
      "tags": []
     },
     "output_type": "display_data"
    },
    {
     "data": {
      "text/html": [
       "<pre>| 5       | 0.00976562        | 0.66937                                  |</pre>"
      ],
      "text/plain": [
       "| 5       | 0.00976562        | 0.66937                                  |"
      ]
     },
     "metadata": {
      "tags": []
     },
     "output_type": "display_data"
    },
    {
     "data": {
      "text/html": [
       "<pre>| 6       | 0.00488281        | 0.91849                                  |</pre>"
      ],
      "text/plain": [
       "| 6       | 0.00488281        | 0.91849                                  |"
      ]
     },
     "metadata": {
      "tags": []
     },
     "output_type": "display_data"
    },
    {
     "data": {
      "text/html": [
       "<pre>| 7       | 0.00244141        | 1.10146                                  |</pre>"
      ],
      "text/plain": [
       "| 7       | 0.00244141        | 1.10146                                  |"
      ]
     },
     "metadata": {
      "tags": []
     },
     "output_type": "display_data"
    },
    {
     "data": {
      "text/html": [
       "<pre>| 8       | 0.0012207         | 1.26989                                  |</pre>"
      ],
      "text/plain": [
       "| 8       | 0.0012207         | 1.26989                                  |"
      ]
     },
     "metadata": {
      "tags": []
     },
     "output_type": "display_data"
    },
    {
     "data": {
      "text/html": [
       "<pre>+---------+-------------------+------------------------------------------+</pre>"
      ],
      "text/plain": [
       "+---------+-------------------+------------------------------------------+"
      ]
     },
     "metadata": {
      "tags": []
     },
     "output_type": "display_data"
    },
    {
     "data": {
      "text/html": [
       "<pre>| Final   | 0.00976562        | 0.66937                                  |</pre>"
      ],
      "text/plain": [
       "| Final   | 0.00976562        | 0.66937                                  |"
      ]
     },
     "metadata": {
      "tags": []
     },
     "output_type": "display_data"
    },
    {
     "data": {
      "text/html": [
       "<pre>+---------+-------------------+------------------------------------------+</pre>"
      ],
      "text/plain": [
       "+---------+-------------------+------------------------------------------+"
      ]
     },
     "metadata": {
      "tags": []
     },
     "output_type": "display_data"
    },
    {
     "data": {
      "text/html": [
       "<pre>Starting Optimization.</pre>"
      ],
      "text/plain": [
       "Starting Optimization."
      ]
     },
     "metadata": {
      "tags": []
     },
     "output_type": "display_data"
    },
    {
     "data": {
      "text/html": [
       "<pre>+---------+--------------+-------------------+-----------------------+-------------+</pre>"
      ],
      "text/plain": [
       "+---------+--------------+-------------------+-----------------------+-------------+"
      ]
     },
     "metadata": {
      "tags": []
     },
     "output_type": "display_data"
    },
    {
     "data": {
      "text/html": [
       "<pre>| Iter.   | Elapsed Time | Approx. Objective | Approx. Training RMSE | Step Size   |</pre>"
      ],
      "text/plain": [
       "| Iter.   | Elapsed Time | Approx. Objective | Approx. Training RMSE | Step Size   |"
      ]
     },
     "metadata": {
      "tags": []
     },
     "output_type": "display_data"
    },
    {
     "data": {
      "text/html": [
       "<pre>+---------+--------------+-------------------+-----------------------+-------------+</pre>"
      ],
      "text/plain": [
       "+---------+--------------+-------------------+-----------------------+-------------+"
      ]
     },
     "metadata": {
      "tags": []
     },
     "output_type": "display_data"
    },
    {
     "data": {
      "text/html": [
       "<pre>| Initial | 59us         | 1.74471           | 1.32088               |             |</pre>"
      ],
      "text/plain": [
       "| Initial | 59us         | 1.74471           | 1.32088               |             |"
      ]
     },
     "metadata": {
      "tags": []
     },
     "output_type": "display_data"
    },
    {
     "data": {
      "text/html": [
       "<pre>+---------+--------------+-------------------+-----------------------+-------------+</pre>"
      ],
      "text/plain": [
       "+---------+--------------+-------------------+-----------------------+-------------+"
      ]
     },
     "metadata": {
      "tags": []
     },
     "output_type": "display_data"
    },
    {
     "data": {
      "text/html": [
       "<pre>| 1       | 39.755ms     | 1.14327           | 1.06924               | 0.00976562  |</pre>"
      ],
      "text/plain": [
       "| 1       | 39.755ms     | 1.14327           | 1.06924               | 0.00976562  |"
      ]
     },
     "metadata": {
      "tags": []
     },
     "output_type": "display_data"
    },
    {
     "data": {
      "text/html": [
       "<pre>| 2       | 60.637ms     | 0.919597          | 0.958956              | 0.00580668  |</pre>"
      ],
      "text/plain": [
       "| 2       | 60.637ms     | 0.919597          | 0.958956              | 0.00580668  |"
      ]
     },
     "metadata": {
      "tags": []
     },
     "output_type": "display_data"
    },
    {
     "data": {
      "text/html": [
       "<pre>| 3       | 81.997ms     | 0.701891          | 0.837789              | 0.0042841   |</pre>"
      ],
      "text/plain": [
       "| 3       | 81.997ms     | 0.701891          | 0.837789              | 0.0042841   |"
      ]
     },
     "metadata": {
      "tags": []
     },
     "output_type": "display_data"
    },
    {
     "data": {
      "text/html": [
       "<pre>| 4       | 104.841ms    | 0.587718          | 0.766627              | 0.00345267  |</pre>"
      ],
      "text/plain": [
       "| 4       | 104.841ms    | 0.587718          | 0.766627              | 0.00345267  |"
      ]
     },
     "metadata": {
      "tags": []
     },
     "output_type": "display_data"
    },
    {
     "data": {
      "text/html": [
       "<pre>| 5       | 130.246ms    | 0.521105          | 0.721876              | 0.0029206   |</pre>"
      ],
      "text/plain": [
       "| 5       | 130.246ms    | 0.521105          | 0.721876              | 0.0029206   |"
      ]
     },
     "metadata": {
      "tags": []
     },
     "output_type": "display_data"
    },
    {
     "data": {
      "text/html": [
       "<pre>| 10      | 233.789ms    | 0.373359          | 0.61103               | 0.0017366   |</pre>"
      ],
      "text/plain": [
       "| 10      | 233.789ms    | 0.373359          | 0.61103               | 0.0017366   |"
      ]
     },
     "metadata": {
      "tags": []
     },
     "output_type": "display_data"
    },
    {
     "data": {
      "text/html": [
       "<pre>| 50      | 1.09s        | 0.223279          | 0.472522              | 0.000308816 |</pre>"
      ],
      "text/plain": [
       "| 50      | 1.09s        | 0.223279          | 0.472522              | 0.000308816 |"
      ]
     },
     "metadata": {
      "tags": []
     },
     "output_type": "display_data"
    },
    {
     "data": {
      "text/html": [
       "<pre>| 100     | 2.16s        | 0.204259          | 0.451948              | 4.82525e-06 |</pre>"
      ],
      "text/plain": [
       "| 100     | 2.16s        | 0.204259          | 0.451948              | 4.82525e-06 |"
      ]
     },
     "metadata": {
      "tags": []
     },
     "output_type": "display_data"
    },
    {
     "data": {
      "text/html": [
       "<pre>| 114     | 2.47s        | 0.204018          | 0.451681              | 1.54631e-06 |</pre>"
      ],
      "text/plain": [
       "| 114     | 2.47s        | 0.204018          | 0.451681              | 1.54631e-06 |"
      ]
     },
     "metadata": {
      "tags": []
     },
     "output_type": "display_data"
    },
    {
     "data": {
      "text/html": [
       "<pre>+---------+--------------+-------------------+-----------------------+-------------+</pre>"
      ],
      "text/plain": [
       "+---------+--------------+-------------------+-----------------------+-------------+"
      ]
     },
     "metadata": {
      "tags": []
     },
     "output_type": "display_data"
    },
    {
     "data": {
      "text/html": [
       "<pre>Optimization Complete: Convergence on objective within bounds.</pre>"
      ],
      "text/plain": [
       "Optimization Complete: Convergence on objective within bounds."
      ]
     },
     "metadata": {
      "tags": []
     },
     "output_type": "display_data"
    },
    {
     "data": {
      "text/html": [
       "<pre>Computing final objective value and training RMSE.</pre>"
      ],
      "text/plain": [
       "Computing final objective value and training RMSE."
      ]
     },
     "metadata": {
      "tags": []
     },
     "output_type": "display_data"
    },
    {
     "data": {
      "text/html": [
       "<pre>       Final objective value: 0.203927</pre>"
      ],
      "text/plain": [
       "       Final objective value: 0.203927"
      ]
     },
     "metadata": {
      "tags": []
     },
     "output_type": "display_data"
    },
    {
     "data": {
      "text/html": [
       "<pre>       Final training RMSE: 0.45158</pre>"
      ],
      "text/plain": [
       "       Final training RMSE: 0.45158"
      ]
     },
     "metadata": {
      "tags": []
     },
     "output_type": "display_data"
    }
   ],
   "source": [
    "model = tc.recommender.factorization_recommender.create(X_train, user_id='test_cas', item_id='species', target='score', solver=\"sgd\", num_factors=10, max_iterations=10000)"
   ]
  },
  {
   "cell_type": "code",
   "execution_count": null,
   "metadata": {
    "colab": {
     "base_uri": "https://localhost:8080/",
     "height": 88
    },
    "colab_type": "code",
    "id": "uE-5GQhYsqi7",
    "outputId": "b5a54a66-5fb9-4a08-9238-c94d257e0941"
   },
   "outputs": [
    {
     "data": {
      "text/plain": [
       "dtype: float\n",
       "Rows: 15632\n",
       "[4.250712786476091, 4.0298412625137585, 1.0115409378353375, 3.924276072198512, 2.946261581639723, 2.9379470913214245, 2.7959483001772183, 4.49330118359156, 4.495090411625838, 3.5792133991066235, 1.0007834598645917, 0.9092055639726673, 4.848918085567688, 2.0214091181978935, 3.5799569130167717, 2.4591443954510246, 2.6483644671962017, 2.0032031383756417, 3.874272772692179, 3.4972028840557092, 4.233039280049538, 0.672982783637976, 2.878991717139246, 2.497688822114827, 5.007974745355582, 1.7406383479321483, 2.094553810219244, 1.4640799226630348, 2.1742135618273037, 3.0395028513315934, 2.747773334050538, 4.18699706033893, 1.6811327148619908, 2.8485223396224537, 4.904885621391272, 3.181404995390225, 4.896348628813388, 1.4741893593612927, 1.0180330766839543, 2.0108004171792286, 0.8581329971775762, 4.8629047913951435, 4.667160387748839, 0.8441766618294277, 3.904977080087141, 3.321025681356863, 2.2821579907480496, 0.9624858756009358, 3.4735842809304946, 3.8730888130617895, 1.7536430690661422, 2.3873503018394464, 0.9187369436249486, 2.950646994302036, 3.1122767009064907, 4.36308499670868, 4.969793081889824, 3.7384032715502995, 2.777536511087777, 1.0807385487956558, 1.0713013435090069, 2.9071389582231992, 4.585943432174658, 3.9028472170457595, 2.792787309402587, 4.040241033445076, 3.1638717685285824, 1.99012949468944, 2.8991381047768154, 3.0135404399139443, 2.990317959944681, 3.7634236231670135, 2.48323202284429, 2.7047375362590307, 3.1287871633116024, 3.597135685990528, 3.224078837448718, 2.0761895567402595, 2.6165449364585434, 4.714897771947121, 3.5293411799930388, 3.3298528619334453, 0.9250333249792806, 2.2769194065136467, 2.9946703721228856, 4.048207369307951, 2.2666001288694897, 3.6002653032765144, 3.4224586513666546, 2.6825716510638946, 4.143472980374457, 2.9852314141038674, 3.2397368267402404, 1.628781907866672, 3.6334676031247133, 4.196451548153521, 4.360440624527668, 3.5930348519626873, 4.353373355830075, 4.644299829028582, ... ]"
      ]
     },
     "execution_count": 47,
     "metadata": {
      "tags": []
     },
     "output_type": "execute_result"
    }
   ],
   "source": [
    "X_train_predict = model.predict(X_train)\n",
    "X_train_predict"
   ]
  },
  {
   "cell_type": "code",
   "execution_count": null,
   "metadata": {
    "colab": {
     "base_uri": "https://localhost:8080/",
     "height": 34
    },
    "colab_type": "code",
    "id": "8yrQFZW8BKi2",
    "outputId": "47948d8f-f63d-444f-e8ea-e21d05b9bc2e"
   },
   "outputs": [
    {
     "data": {
      "text/plain": [
       "0.4515802030885413"
      ]
     },
     "execution_count": 48,
     "metadata": {
      "tags": []
     },
     "output_type": "execute_result"
    }
   ],
   "source": [
    "model.evaluate_rmse(X_train, 'score')['rmse_overall']"
   ]
  },
  {
   "cell_type": "code",
   "execution_count": null,
   "metadata": {
    "colab": {
     "base_uri": "https://localhost:8080/",
     "height": 34
    },
    "colab_type": "code",
    "id": "Jj5hzNjZssZt",
    "outputId": "1944e410-da25-4070-8361-c0ef25103c54"
   },
   "outputs": [
    {
     "data": {
      "text/plain": [
       "0.7946519959058342"
      ]
     },
     "execution_count": 49,
     "metadata": {
      "tags": []
     },
     "output_type": "execute_result"
    }
   ],
   "source": [
    "X_train_predict = np.rint(X_train_predict.to_numpy())\n",
    "accuracy_score(X_train.select_column('score').to_numpy(), X_train_predict)"
   ]
  },
  {
   "cell_type": "code",
   "execution_count": null,
   "metadata": {
    "colab": {
     "base_uri": "https://localhost:8080/",
     "height": 34
    },
    "colab_type": "code",
    "id": "qIr5278M_5Ks",
    "outputId": "f46e7212-03b5-44e9-eced-0f79845b1051"
   },
   "outputs": [
    {
     "data": {
      "text/plain": [
       "0.711031009269565"
      ]
     },
     "execution_count": 50,
     "metadata": {
      "tags": []
     },
     "output_type": "execute_result"
    }
   ],
   "source": [
    "model.evaluate_rmse(X_test, 'score')['rmse_overall']"
   ]
  },
  {
   "cell_type": "code",
   "execution_count": null,
   "metadata": {
    "colab": {
     "base_uri": "https://localhost:8080/",
     "height": 88
    },
    "colab_type": "code",
    "id": "mxjKFBO2KCJ1",
    "outputId": "d0d1c9f6-df8f-46f7-d3cd-cd6b041e89e6"
   },
   "outputs": [
    {
     "data": {
      "text/plain": [
       "dtype: float\n",
       "Rows: 7700\n",
       "[2.8973478988036865, 2.648610491911844, 2.0920955125633496, 1.7647601399961728, 4.131510333739256, 4.338888356111979, 3.3092294155163327, 2.1394226528928035, 3.8126788024250287, 4.925355525337195, 3.0359602166814366, 1.8381311554852742, 2.132674106977915, 2.734644891344046, 2.353524015866255, 2.99429134712644, 3.888212273486901, 2.0904916763529533, 3.5911252243918934, 3.022461992363409, 2.540225457066657, 3.3531828705445283, 3.2234871793929356, 0.5944934782031792, 2.8160235366327324, 2.8349629376474637, 4.222789798538164, 4.431988977502064, 2.741850101063923, 3.7330672262711087, 2.815581339892918, 2.439552944759802, 3.0037190854773277, 4.424169981502032, 3.0518916804734486, 4.259682066388463, 1.5972821383280311, 2.6336187437400573, 5.3394919872507804, 2.2280699253306144, 4.490256918244099, 2.2308185413703674, 2.045120832185224, 1.9362991560641545, 5.573804402373766, 1.1699123323187581, 3.2873551027141863, 1.887009800992941, 3.0506808325872177, 4.785777737061457, 4.761774446481826, 3.3468533992991203, 2.6527030315474027, 4.830679373465514, 3.531124747939443, 4.783837713907436, 3.1465064842644948, 1.6645369097814313, 3.837225024263338, 2.3211519156042355, 2.1378286440316456, 3.0419357825461644, 1.183785018186048, 4.8510649834219235, 1.8864890780523769, 3.2419355215048054, 4.480437064193224, 3.0370548503780848, 4.437757630507425, 2.1919166116518536, 2.327977835798623, 3.1159630246684307, 3.516763263963198, 2.6044892013296836, 2.179642301659063, 1.9825864635798949, 2.9425342005137223, 0.1812500773472343, 3.0492797462744274, 3.8044791665152067, 2.7146458659712094, 2.372293984167313, 2.8209944755062812, 3.5480496926707783, 4.939055489026045, 1.5063105836734525, 1.6669958770498983, 3.758747750543093, 2.991448524989223, 3.2856377229318374, 1.2432935942355412, 3.2086825907454246, 4.432980524025893, 3.443941408418154, 3.0287575885877365, 4.027976834006571, 2.197184422634577, 3.3827609891546526, 1.6686570901814717, 3.153163388038041, ... ]"
      ]
     },
     "execution_count": 51,
     "metadata": {
      "tags": []
     },
     "output_type": "execute_result"
    }
   ],
   "source": [
    "X_test_predict = model.predict(X_test)\n",
    "X_test_predict"
   ]
  },
  {
   "cell_type": "code",
   "execution_count": null,
   "metadata": {
    "colab": {
     "base_uri": "https://localhost:8080/",
     "height": 88
    },
    "colab_type": "code",
    "id": "hxewePCqLqre",
    "outputId": "1b19b5af-5568-42a8-a130-130b6c38ef02"
   },
   "outputs": [
    {
     "data": {
      "text/plain": [
       "dtype: int\n",
       "Rows: 7700\n",
       "[2, 3, 2, 2, 4, 5, 3, 2, 4, 5, 3, 2, 3, 3, 1, 3, 4, 2, 5, 3, 3, 3, 3, 1, 1, 3, 4, 3, 3, 4, 3, 2, 2, 4, 4, 5, 2, 2, 5, 2, 5, 2, 1, 2, 5, 1, 3, 1, 2, 5, 5, 3, 3, 5, 2, 5, 4, 1, 2, 2, 2, 4, 2, 5, 2, 3, 4, 3, 3, 3, 1, 4, 4, 2, 2, 2, 3, 1, 3, 4, 3, 2, 3, 3, 5, 1, 1, 2, 4, 4, 1, 3, 4, 4, 1, 3, 2, 3, 1, 3, ... ]"
      ]
     },
     "execution_count": 52,
     "metadata": {
      "tags": []
     },
     "output_type": "execute_result"
    }
   ],
   "source": [
    "X_test_score = X_test.select_column(\"score\")\n",
    "X_test_score"
   ]
  },
  {
   "cell_type": "code",
   "execution_count": null,
   "metadata": {
    "colab": {
     "base_uri": "https://localhost:8080/",
     "height": 34
    },
    "colab_type": "code",
    "id": "mLH9suOeL4oV",
    "outputId": "82ab8c79-8655-46bb-fa51-55e22a7fcea9"
   },
   "outputs": [
    {
     "data": {
      "text/plain": [
       "0.6196103896103896"
      ]
     },
     "execution_count": 53,
     "metadata": {
      "tags": []
     },
     "output_type": "execute_result"
    }
   ],
   "source": [
    "X_test_predict = np.rint(X_test_predict.to_numpy())\n",
    "accuracy_score(X_test_score.to_numpy(), X_test_predict)"
   ]
  },
  {
   "cell_type": "markdown",
   "metadata": {
    "colab_type": "text",
    "id": "nQLtRn6a_ciV"
   },
   "source": [
    "# Finding the best combination of side features\n"
   ]
  },
  {
   "cell_type": "code",
   "execution_count": null,
   "metadata": {
    "colab": {
     "base_uri": "https://localhost:8080/",
     "height": 289
    },
    "colab_type": "code",
    "id": "YOmxx2Zx_hhX",
    "outputId": "19747b5b-351c-4091-ca6b-429335717a52"
   },
   "outputs": [
    {
     "name": "stdout",
     "output_type": "stream",
     "text": [
      "Starting k = 0\n",
      "Best combination found! RMSE: 0.7121948586377908, features: ['test_cas', 'species']\n",
      "Starting k = 1\n",
      "Best combination found! RMSE: 0.7054977521990814, features: ['test_cas', 'species', 'class']\n",
      "Best combination found! RMSE: 0.6967191505463495, features: ['test_cas', 'species', 'family']\n",
      "Starting k = 2\n",
      "Best combination found! RMSE: 0.6963385403772817, features: ['test_cas', 'species', 'class', 'tax_order']\n",
      "Best combination found! RMSE: 0.6592753426119187, features: ['test_cas', 'species', 'family', 'genus']\n",
      "Starting k = 3\n",
      "Starting k = 4\n",
      "Best combination found! RMSE: 0.6432618329251476, features: ['test_cas', 'species', 'class', 'tax_order', 'family', 'genus']\n",
      "Starting k = 5\n",
      "Best combination found! RMSE: 0.6395152415589758, features: ['test_cas', 'tripleBond', 'species', 'class', 'tax_order', 'family', 'genus']\n",
      "Starting k = 6\n",
      "Starting k = 7\n",
      "Starting k = 8\n"
     ]
    }
   ],
   "source": [
    "import itertools\n",
    "\n",
    "best_rmse = np.inf\n",
    "best_comb = []\n",
    "\n",
    "X_train, X_test = tc.SFrame(X_train_scored), tc.SFrame(X_test_scored)\n",
    "\n",
    "poss_side = np.array([\"class\", \"tax_order\", \"family\", \"genus\"] + [\"alone_atom_number\", \"tripleBond\", \"doubleBond\", \"ring_numer\"])\n",
    "for k in range(0, 9):\n",
    "  print(\"Starting k =\",k)\n",
    "  poss_comb = list(itertools.combinations(range(0,8),k))\n",
    "  for c in poss_comb:\n",
    "    side_cas = [\"test_cas\"]\n",
    "    side_spec = [\"species\"]\n",
    "    no_cas = False\n",
    "    no_spec = False\n",
    "    for i in list(c):\n",
    "      if i in range(0, 4):\n",
    "        side_spec.append(poss_side[i])\n",
    "      else:\n",
    "        side_cas.append(poss_side[i])\n",
    "    if (len(side_cas)==1):\n",
    "      no_cas = True\n",
    "    if (len(side_spec)==1):\n",
    "      no_spec = True\n",
    "    \n",
    "    X_side_species = base_db96.copy()\n",
    "    X_side_species = X_side_species[side_spec]\n",
    "    X_side_species = X_side_species.drop_duplicates(subset=\"species\").reset_index(drop=True)\n",
    "\n",
    "    X_side_cas = base_db96.copy()\n",
    "    X_side_cas = X_side_cas[side_cas]\n",
    "    X_side_cas = X_side_cas.drop_duplicates(subset=\"test_cas\").reset_index(drop=True)\n",
    "    X_side_cas = X_side_cas.dropna()\n",
    "\n",
    "    X_side_species[\"species\"] = enc_species.transform(X_side_species.species.values.reshape(-1,1))\n",
    "    X_side_cas[\"test_cas\"] = enc_cas.transform(X_side_cas.test_cas.values.reshape(-1,1))\n",
    "\n",
    "    X_species = tc.SFrame(X_side_species)\n",
    "    X_cas = tc.SFrame(X_side_cas)\n",
    "\n",
    "    if (no_cas==True and no_spec==True):\n",
    "      model = tc.recommender.factorization_recommender.create(X_train, user_id='test_cas', item_id='species', target='score', solver=\"sgd\", max_iterations=1000, verbose=False)\n",
    "    elif(no_cas==True and no_spec==False):\n",
    "      model = tc.recommender.factorization_recommender.create(X_train, user_id='test_cas', item_id='species', target='score', item_data=X_species, solver=\"sgd\", max_iterations=1000, verbose=False)\n",
    "    elif(no_cas==False and no_spec==True):\n",
    "      model = tc.recommender.factorization_recommender.create(X_train, user_id='test_cas', item_id='species', target='score', user_data=X_cas, solver=\"sgd\", max_iterations=1000, verbose=False)\n",
    "    else:\n",
    "      model = tc.recommender.factorization_recommender.create(X_train, user_id='test_cas', item_id='species', target='score', item_data=X_species, user_data=X_cas, solver=\"sgd\", max_iterations=1000, verbose=False)\n",
    "\n",
    "    rmse = model.evaluate_rmse(X_test, 'score')['rmse_overall']\n",
    "\n",
    "    if rmse<best_rmse:\n",
    "      best_rmse = rmse\n",
    "      best_comb = side_cas + side_spec\n",
    "      print(\"Best combination found! RMSE: {}, features: {}\".format(best_rmse, best_comb))"
   ]
  },
  {
   "cell_type": "code",
   "execution_count": null,
   "metadata": {
    "colab": {},
    "colab_type": "code",
    "id": "-cHnyKTyImTd"
   },
   "outputs": [],
   "source": [
    "best_comb = ['test_cas', 'tripleBond', 'species', 'class', 'tax_order', 'family', 'genus']"
   ]
  },
  {
   "cell_type": "code",
   "execution_count": null,
   "metadata": {
    "colab": {},
    "colab_type": "code",
    "id": "pdqXIyorIpfh"
   },
   "outputs": [],
   "source": [
    "X_side_cas = base_db96.copy()\n",
    "X_side_cas = X_side_cas[['test_cas', 'tripleBond']]\n",
    "X_side_cas = X_side_cas.drop_duplicates(subset=\"test_cas\").reset_index(drop=True)\n",
    "X_side_cas = X_side_cas.dropna()\n",
    "X_side_cas[\"test_cas\"] = enc_cas.transform(X_side_cas.test_cas.values.reshape(-1,1))\n",
    "X_cas = tc.SFrame(X_side_cas)\n",
    "\n",
    "X_side_species = base_db96.copy()\n",
    "X_side_species = X_side_species[['species', 'class', 'tax_order', 'family', 'genus']]\n",
    "X_side_species = X_side_species.drop_duplicates(subset=\"species\").reset_index(drop=True)\n",
    "X_side_species[\"species\"] = enc_species.transform(X_side_species.species.values.reshape(-1,1))\n",
    "X_species = tc.SFrame(X_side_species)"
   ]
  },
  {
   "cell_type": "code",
   "execution_count": null,
   "metadata": {
    "colab": {
     "base_uri": "https://localhost:8080/",
     "height": 850
    },
    "colab_type": "code",
    "id": "8PKHySb0I7NG",
    "outputId": "c442a030-dae8-4262-bb69-6edcf16da6a5"
   },
   "outputs": [
    {
     "data": {
      "text/html": [
       "<pre>Preparing data set.</pre>"
      ],
      "text/plain": [
       "Preparing data set."
      ]
     },
     "metadata": {
      "tags": []
     },
     "output_type": "display_data"
    },
    {
     "data": {
      "text/html": [
       "<pre>    Data has 15632 observations with 2621 users and 475 items.</pre>"
      ],
      "text/plain": [
       "    Data has 15632 observations with 2621 users and 475 items."
      ]
     },
     "metadata": {
      "tags": []
     },
     "output_type": "display_data"
    },
    {
     "data": {
      "text/html": [
       "<pre>    Data prepared in: 0.050077s</pre>"
      ],
      "text/plain": [
       "    Data prepared in: 0.050077s"
      ]
     },
     "metadata": {
      "tags": []
     },
     "output_type": "display_data"
    },
    {
     "data": {
      "text/html": [
       "<pre>Training factorization_recommender for recommendations.</pre>"
      ],
      "text/plain": [
       "Training factorization_recommender for recommendations."
      ]
     },
     "metadata": {
      "tags": []
     },
     "output_type": "display_data"
    },
    {
     "data": {
      "text/html": [
       "<pre>+--------------------------------+--------------------------------------------------+----------+</pre>"
      ],
      "text/plain": [
       "+--------------------------------+--------------------------------------------------+----------+"
      ]
     },
     "metadata": {
      "tags": []
     },
     "output_type": "display_data"
    },
    {
     "data": {
      "text/html": [
       "<pre>| Parameter                      | Description                                      | Value    |</pre>"
      ],
      "text/plain": [
       "| Parameter                      | Description                                      | Value    |"
      ]
     },
     "metadata": {
      "tags": []
     },
     "output_type": "display_data"
    },
    {
     "data": {
      "text/html": [
       "<pre>+--------------------------------+--------------------------------------------------+----------+</pre>"
      ],
      "text/plain": [
       "+--------------------------------+--------------------------------------------------+----------+"
      ]
     },
     "metadata": {
      "tags": []
     },
     "output_type": "display_data"
    },
    {
     "data": {
      "text/html": [
       "<pre>| num_factors                    | Factor Dimension                                 | 8        |</pre>"
      ],
      "text/plain": [
       "| num_factors                    | Factor Dimension                                 | 8        |"
      ]
     },
     "metadata": {
      "tags": []
     },
     "output_type": "display_data"
    },
    {
     "data": {
      "text/html": [
       "<pre>| regularization                 | L2 Regularization on Factors                     | 1e-08    |</pre>"
      ],
      "text/plain": [
       "| regularization                 | L2 Regularization on Factors                     | 1e-08    |"
      ]
     },
     "metadata": {
      "tags": []
     },
     "output_type": "display_data"
    },
    {
     "data": {
      "text/html": [
       "<pre>| solver                         | Solver used for training                         | sgd      |</pre>"
      ],
      "text/plain": [
       "| solver                         | Solver used for training                         | sgd      |"
      ]
     },
     "metadata": {
      "tags": []
     },
     "output_type": "display_data"
    },
    {
     "data": {
      "text/html": [
       "<pre>| linear_regularization          | L2 Regularization on Linear Coefficients         | 1e-10    |</pre>"
      ],
      "text/plain": [
       "| linear_regularization          | L2 Regularization on Linear Coefficients         | 1e-10    |"
      ]
     },
     "metadata": {
      "tags": []
     },
     "output_type": "display_data"
    },
    {
     "data": {
      "text/html": [
       "<pre>| side_data_factorization        | Assign Factors for Side Data                     | True     |</pre>"
      ],
      "text/plain": [
       "| side_data_factorization        | Assign Factors for Side Data                     | True     |"
      ]
     },
     "metadata": {
      "tags": []
     },
     "output_type": "display_data"
    },
    {
     "data": {
      "text/html": [
       "<pre>| max_iterations                 | Maximum Number of Iterations                     | 1000     |</pre>"
      ],
      "text/plain": [
       "| max_iterations                 | Maximum Number of Iterations                     | 1000     |"
      ]
     },
     "metadata": {
      "tags": []
     },
     "output_type": "display_data"
    },
    {
     "data": {
      "text/html": [
       "<pre>+--------------------------------+--------------------------------------------------+----------+</pre>"
      ],
      "text/plain": [
       "+--------------------------------+--------------------------------------------------+----------+"
      ]
     },
     "metadata": {
      "tags": []
     },
     "output_type": "display_data"
    },
    {
     "data": {
      "text/html": [
       "<pre>  Optimizing model using SGD; tuning step size.</pre>"
      ],
      "text/plain": [
       "  Optimizing model using SGD; tuning step size."
      ]
     },
     "metadata": {
      "tags": []
     },
     "output_type": "display_data"
    },
    {
     "data": {
      "text/html": [
       "<pre>  Using 10000 / 15632 points for tuning the step size.</pre>"
      ],
      "text/plain": [
       "  Using 10000 / 15632 points for tuning the step size."
      ]
     },
     "metadata": {
      "tags": []
     },
     "output_type": "display_data"
    },
    {
     "data": {
      "text/html": [
       "<pre>+---------+-------------------+------------------------------------------+</pre>"
      ],
      "text/plain": [
       "+---------+-------------------+------------------------------------------+"
      ]
     },
     "metadata": {
      "tags": []
     },
     "output_type": "display_data"
    },
    {
     "data": {
      "text/html": [
       "<pre>| Attempt | Initial Step Size | Estimated Objective Value                |</pre>"
      ],
      "text/plain": [
       "| Attempt | Initial Step Size | Estimated Objective Value                |"
      ]
     },
     "metadata": {
      "tags": []
     },
     "output_type": "display_data"
    },
    {
     "data": {
      "text/html": [
       "<pre>+---------+-------------------+------------------------------------------+</pre>"
      ],
      "text/plain": [
       "+---------+-------------------+------------------------------------------+"
      ]
     },
     "metadata": {
      "tags": []
     },
     "output_type": "display_data"
    },
    {
     "data": {
      "text/html": [
       "<pre>| 0       | 5                 | Not Viable                               |</pre>"
      ],
      "text/plain": [
       "| 0       | 5                 | Not Viable                               |"
      ]
     },
     "metadata": {
      "tags": []
     },
     "output_type": "display_data"
    },
    {
     "data": {
      "text/html": [
       "<pre>| 1       | 1.25              | Not Viable                               |</pre>"
      ],
      "text/plain": [
       "| 1       | 1.25              | Not Viable                               |"
      ]
     },
     "metadata": {
      "tags": []
     },
     "output_type": "display_data"
    },
    {
     "data": {
      "text/html": [
       "<pre>| 2       | 0.3125            | Not Viable                               |</pre>"
      ],
      "text/plain": [
       "| 2       | 0.3125            | Not Viable                               |"
      ]
     },
     "metadata": {
      "tags": []
     },
     "output_type": "display_data"
    },
    {
     "data": {
      "text/html": [
       "<pre>| 3       | 0.078125          | Not Viable                               |</pre>"
      ],
      "text/plain": [
       "| 3       | 0.078125          | Not Viable                               |"
      ]
     },
     "metadata": {
      "tags": []
     },
     "output_type": "display_data"
    },
    {
     "data": {
      "text/html": [
       "<pre>| 4       | 0.0195312         | 0.549242                                 |</pre>"
      ],
      "text/plain": [
       "| 4       | 0.0195312         | 0.549242                                 |"
      ]
     },
     "metadata": {
      "tags": []
     },
     "output_type": "display_data"
    },
    {
     "data": {
      "text/html": [
       "<pre>| 5       | 0.00976562        | 0.989281                                 |</pre>"
      ],
      "text/plain": [
       "| 5       | 0.00976562        | 0.989281                                 |"
      ]
     },
     "metadata": {
      "tags": []
     },
     "output_type": "display_data"
    },
    {
     "data": {
      "text/html": [
       "<pre>| 6       | 0.00488281        | 1.09897                                  |</pre>"
      ],
      "text/plain": [
       "| 6       | 0.00488281        | 1.09897                                  |"
      ]
     },
     "metadata": {
      "tags": []
     },
     "output_type": "display_data"
    },
    {
     "data": {
      "text/html": [
       "<pre>+---------+-------------------+------------------------------------------+</pre>"
      ],
      "text/plain": [
       "+---------+-------------------+------------------------------------------+"
      ]
     },
     "metadata": {
      "tags": []
     },
     "output_type": "display_data"
    },
    {
     "data": {
      "text/html": [
       "<pre>| Final   | 0.0195312         | 0.549242                                 |</pre>"
      ],
      "text/plain": [
       "| Final   | 0.0195312         | 0.549242                                 |"
      ]
     },
     "metadata": {
      "tags": []
     },
     "output_type": "display_data"
    },
    {
     "data": {
      "text/html": [
       "<pre>+---------+-------------------+------------------------------------------+</pre>"
      ],
      "text/plain": [
       "+---------+-------------------+------------------------------------------+"
      ]
     },
     "metadata": {
      "tags": []
     },
     "output_type": "display_data"
    },
    {
     "data": {
      "text/html": [
       "<pre>Starting Optimization.</pre>"
      ],
      "text/plain": [
       "Starting Optimization."
      ]
     },
     "metadata": {
      "tags": []
     },
     "output_type": "display_data"
    },
    {
     "data": {
      "text/html": [
       "<pre>+---------+--------------+-------------------+-----------------------+-------------+</pre>"
      ],
      "text/plain": [
       "+---------+--------------+-------------------+-----------------------+-------------+"
      ]
     },
     "metadata": {
      "tags": []
     },
     "output_type": "display_data"
    },
    {
     "data": {
      "text/html": [
       "<pre>| Iter.   | Elapsed Time | Approx. Objective | Approx. Training RMSE | Step Size   |</pre>"
      ],
      "text/plain": [
       "| Iter.   | Elapsed Time | Approx. Objective | Approx. Training RMSE | Step Size   |"
      ]
     },
     "metadata": {
      "tags": []
     },
     "output_type": "display_data"
    },
    {
     "data": {
      "text/html": [
       "<pre>+---------+--------------+-------------------+-----------------------+-------------+</pre>"
      ],
      "text/plain": [
       "+---------+--------------+-------------------+-----------------------+-------------+"
      ]
     },
     "metadata": {
      "tags": []
     },
     "output_type": "display_data"
    },
    {
     "data": {
      "text/html": [
       "<pre>| Initial | 109us        | 1.74498           | 1.32098               |             |</pre>"
      ],
      "text/plain": [
       "| Initial | 109us        | 1.74498           | 1.32098               |             |"
      ]
     },
     "metadata": {
      "tags": []
     },
     "output_type": "display_data"
    },
    {
     "data": {
      "text/html": [
       "<pre>+---------+--------------+-------------------+-----------------------+-------------+</pre>"
      ],
      "text/plain": [
       "+---------+--------------+-------------------+-----------------------+-------------+"
      ]
     },
     "metadata": {
      "tags": []
     },
     "output_type": "display_data"
    },
    {
     "data": {
      "text/html": [
       "<pre>| 1       | 39.664ms     | 1.12439           | 1.06037               | 0.0195312   |</pre>"
      ],
      "text/plain": [
       "| 1       | 39.664ms     | 1.12439           | 1.06037               | 0.0195312   |"
      ]
     },
     "metadata": {
      "tags": []
     },
     "output_type": "display_data"
    },
    {
     "data": {
      "text/html": [
       "<pre>| 2       | 64.705ms     | 0.747558          | 0.864614              | 0.0116134   |</pre>"
      ],
      "text/plain": [
       "| 2       | 64.705ms     | 0.747558          | 0.864614              | 0.0116134   |"
      ]
     },
     "metadata": {
      "tags": []
     },
     "output_type": "display_data"
    },
    {
     "data": {
      "text/html": [
       "<pre>| 3       | 87.03ms      | 0.612855          | 0.78285               | 0.00856819  |</pre>"
      ],
      "text/plain": [
       "| 3       | 87.03ms      | 0.612855          | 0.78285               | 0.00856819  |"
      ]
     },
     "metadata": {
      "tags": []
     },
     "output_type": "display_data"
    },
    {
     "data": {
      "text/html": [
       "<pre>| 4       | 108.653ms    | 0.548885          | 0.740867              | 0.00690534  |</pre>"
      ],
      "text/plain": [
       "| 4       | 108.653ms    | 0.548885          | 0.740867              | 0.00690534  |"
      ]
     },
     "metadata": {
      "tags": []
     },
     "output_type": "display_data"
    },
    {
     "data": {
      "text/html": [
       "<pre>| 5       | 134.104ms    | 0.498658          | 0.706157              | 0.00584121  |</pre>"
      ],
      "text/plain": [
       "| 5       | 134.104ms    | 0.498658          | 0.706157              | 0.00584121  |"
      ]
     },
     "metadata": {
      "tags": []
     },
     "output_type": "display_data"
    },
    {
     "data": {
      "text/html": [
       "<pre>| 10      | 241.365ms    | 0.355089          | 0.595892              | 0.0034732   |</pre>"
      ],
      "text/plain": [
       "| 10      | 241.365ms    | 0.355089          | 0.595892              | 0.0034732   |"
      ]
     },
     "metadata": {
      "tags": []
     },
     "output_type": "display_data"
    },
    {
     "data": {
      "text/html": [
       "<pre>| 50      | 1.09s        | 0.160674          | 0.400837              | 0.00103873  |</pre>"
      ],
      "text/plain": [
       "| 50      | 1.09s        | 0.160674          | 0.400837              | 0.00103873  |"
      ]
     },
     "metadata": {
      "tags": []
     },
     "output_type": "display_data"
    },
    {
     "data": {
      "text/html": [
       "<pre>| 100     | 2.19s        | 0.134902          | 0.367285              | 7.7204e-05  |</pre>"
      ],
      "text/plain": [
       "| 100     | 2.19s        | 0.134902          | 0.367285              | 7.7204e-05  |"
      ]
     },
     "metadata": {
      "tags": []
     },
     "output_type": "display_data"
    },
    {
     "data": {
      "text/html": [
       "<pre>| 132     | 2.86s        | 0.133593          | 0.365499              | 1.95911e-06 |</pre>"
      ],
      "text/plain": [
       "| 132     | 2.86s        | 0.133593          | 0.365499              | 1.95911e-06 |"
      ]
     },
     "metadata": {
      "tags": []
     },
     "output_type": "display_data"
    },
    {
     "data": {
      "text/html": [
       "<pre>+---------+--------------+-------------------+-----------------------+-------------+</pre>"
      ],
      "text/plain": [
       "+---------+--------------+-------------------+-----------------------+-------------+"
      ]
     },
     "metadata": {
      "tags": []
     },
     "output_type": "display_data"
    },
    {
     "data": {
      "text/html": [
       "<pre>Optimization Complete: Convergence on objective within bounds.</pre>"
      ],
      "text/plain": [
       "Optimization Complete: Convergence on objective within bounds."
      ]
     },
     "metadata": {
      "tags": []
     },
     "output_type": "display_data"
    },
    {
     "data": {
      "text/html": [
       "<pre>Computing final objective value and training RMSE.</pre>"
      ],
      "text/plain": [
       "Computing final objective value and training RMSE."
      ]
     },
     "metadata": {
      "tags": []
     },
     "output_type": "display_data"
    },
    {
     "data": {
      "text/html": [
       "<pre>       Final objective value: 0.133553</pre>"
      ],
      "text/plain": [
       "       Final objective value: 0.133553"
      ]
     },
     "metadata": {
      "tags": []
     },
     "output_type": "display_data"
    },
    {
     "data": {
      "text/html": [
       "<pre>       Final training RMSE: 0.365444</pre>"
      ],
      "text/plain": [
       "       Final training RMSE: 0.365444"
      ]
     },
     "metadata": {
      "tags": []
     },
     "output_type": "display_data"
    }
   ],
   "source": [
    "X_train, X_test = tc.SFrame(X_train_scored), tc.SFrame(X_test_scored)\n",
    "\n",
    "model = tc.recommender.factorization_recommender.create(X_train, user_id='test_cas', item_id='species', target='score', user_data=X_cas, item_data=X_species, solver=\"sgd\", max_iterations=1000, verbose=True)"
   ]
  },
  {
   "cell_type": "code",
   "execution_count": null,
   "metadata": {
    "colab": {
     "base_uri": "https://localhost:8080/",
     "height": 34
    },
    "colab_type": "code",
    "id": "EV2JlToEV4ya",
    "outputId": "40c971c3-9687-4ca8-b9f8-d5b10ad63125"
   },
   "outputs": [
    {
     "data": {
      "text/plain": [
       "0.3654442959702784"
      ]
     },
     "execution_count": 56,
     "metadata": {
      "tags": []
     },
     "output_type": "execute_result"
    }
   ],
   "source": [
    "model.evaluate_rmse(X_train, 'score')['rmse_overall']"
   ]
  },
  {
   "cell_type": "code",
   "execution_count": null,
   "metadata": {
    "colab": {
     "base_uri": "https://localhost:8080/",
     "height": 34
    },
    "colab_type": "code",
    "id": "mX131RHFV6_n",
    "outputId": "171d52ea-9958-47ee-95f3-8674e105c728"
   },
   "outputs": [
    {
     "data": {
      "text/plain": [
       "0.8585593654042989"
      ]
     },
     "execution_count": 57,
     "metadata": {
      "tags": []
     },
     "output_type": "execute_result"
    }
   ],
   "source": [
    "X_train_predict = model.predict(X_train)\n",
    "X_train_score = X_train.select_column(\"score\")\n",
    "X_train_predict = np.rint(X_train_predict.to_numpy())\n",
    "accuracy_score(X_train_score.to_numpy(), X_train_predict)"
   ]
  },
  {
   "cell_type": "code",
   "execution_count": null,
   "metadata": {
    "colab": {
     "base_uri": "https://localhost:8080/",
     "height": 34
    },
    "colab_type": "code",
    "id": "V98CychMJE-1",
    "outputId": "e07b7421-7e4d-4487-b5f8-220b46f5eef9"
   },
   "outputs": [
    {
     "data": {
      "text/plain": [
       "0.646253078379925"
      ]
     },
     "execution_count": 58,
     "metadata": {
      "tags": []
     },
     "output_type": "execute_result"
    }
   ],
   "source": [
    "model.evaluate_rmse(X_test, 'score')['rmse_overall']"
   ]
  },
  {
   "cell_type": "code",
   "execution_count": null,
   "metadata": {
    "colab": {
     "base_uri": "https://localhost:8080/",
     "height": 34
    },
    "colab_type": "code",
    "id": "0dOFswo5VbSL",
    "outputId": "6ce9a82c-a4dc-449d-dd56-9849d5e4f747"
   },
   "outputs": [
    {
     "data": {
      "text/plain": [
       "0.6651948051948052"
      ]
     },
     "execution_count": 59,
     "metadata": {
      "tags": []
     },
     "output_type": "execute_result"
    }
   ],
   "source": [
    "X_test_predict = model.predict(X_test)\n",
    "X_test_score = X_test.select_column(\"score\")\n",
    "X_test_predict = np.rint(X_test_predict.to_numpy())\n",
    "accuracy_score(X_test_score.to_numpy(), X_test_predict)"
   ]
  },
  {
   "cell_type": "markdown",
   "metadata": {
    "colab_type": "text",
    "id": "jAcH4OmgRcl-"
   },
   "source": [
    "# Implementing CV"
   ]
  },
  {
   "cell_type": "code",
   "execution_count": null,
   "metadata": {
    "colab": {
     "base_uri": "https://localhost:8080/",
     "height": 289
    },
    "colab_type": "code",
    "id": "kTyvF7N_aS-7",
    "outputId": "9c6d7b57-e268-4cc9-c55d-eb18e24c637a"
   },
   "outputs": [
    {
     "name": "stdout",
     "output_type": "stream",
     "text": [
      "New best param combination found! RMSE:0.7711455827211363, Acc:0.5599389327635459, num_factors:1, regularizer:1e-12, lin_reg:1e-12\n",
      "New best param combination found! RMSE:0.7353166972288382, Acc:0.5832921106773371, num_factors:1, regularizer:1e-12, lin_reg:1.1288378916846884e-10\n",
      "New best param combination found! RMSE:0.7134077787816664, Acc:0.6095830182547304, num_factors:1, regularizer:1e-12, lin_reg:5.455594781168515e-10\n",
      "New best param combination found! RMSE:0.7127685196197248, Acc:0.612333659062913, num_factors:2, regularizer:1e-12, lin_reg:6.158482110660267e-08\n",
      "New best param combination found! RMSE:0.7123499283052093, Acc:0.6070237021370586, num_factors:2, regularizer:1e-12, lin_reg:1.438449888287663e-06\n",
      "New best param combination found! RMSE:0.7084436032719514, Acc:0.6208418065382385, num_factors:2, regularizer:1e-12, lin_reg:6.951927961775606e-06\n",
      "New best param combination found! RMSE:0.7078715557464751, Acc:0.6140613641132439, num_factors:2, regularizer:5.455594781168515e-10, lin_reg:2.6366508987303554e-09\n",
      "New best param combination found! RMSE:0.7073770597873786, Acc:0.6175152640466124, num_factors:2, regularizer:5.455594781168515e-10, lin_reg:1.438449888287663e-06\n",
      "New best param combination found! RMSE:0.7064087570117823, Acc:0.6164918003440971, num_factors:2, regularizer:2.6366508987303554e-09, lin_reg:1e-12\n",
      "New best param combination found! RMSE:0.7058261393058993, Acc:0.6165562587041807, num_factors:2, regularizer:0.00016237767391887243, lin_reg:2.3357214690901212e-11\n",
      "New best param combination found! RMSE:0.7036898582948538, Acc:0.6170673091384888, num_factors:2, regularizer:0.00016237767391887243, lin_reg:6.158482110660267e-08\n",
      "New best param combination found! RMSE:0.7033698118940425, Acc:0.6238485127860217, num_factors:3, regularizer:2.3357214690901212e-11, lin_reg:1e-12\n",
      "New best param combination found! RMSE:0.7019491936064949, Acc:0.6180272598702018, num_factors:4, regularizer:4.832930238571752e-12, lin_reg:2.976351441631319e-07\n",
      "New best param combination found! RMSE:0.6988317293523827, Acc:0.6187308259399594, num_factors:4, regularizer:6.158482110660267e-08, lin_reg:5.455594781168515e-10\n",
      "New best param combination found! RMSE:0.6957304232785736, Acc:0.612268942869389, num_factors:5, regularizer:5.455594781168515e-10, lin_reg:5.455594781168515e-10\n",
      "New best param combination found! RMSE:0.6940813546642959, Acc:0.6254478536164149, num_factors:6, regularizer:0.00016237767391887243, lin_reg:6.158482110660267e-08\n"
     ]
    }
   ],
   "source": [
    "factors = list(range(1, 15))\n",
    "regularizs = np.logspace(-12, 1, 20)\n",
    "lin_regularizs = np.logspace(-12, 1, 20)\n",
    "best_acc, best_lin_regulariz, best_regulariz, best_factor = cv_fact_class(X_train_scored, X_cas, X_species, factors, regularizs, lin_regularizs, cv = 3, verbose=True, params_samples = False)\n",
    "# pickle.dump(best_acc, open(\"/content/drive/My Drive/Colab Notebooks/data/ML_Project/best_acc_class_cat.pkl\", \"wb\" ) )\n",
    "# pickle.dump(best_lin_regulariz, open(\"/content/drive/My Drive/Colab Notebooks/data/ML_Project/best_lin_reg_class_cat.pkl\", \"wb\" ) )\n",
    "# pickle.dump(best_regulariz, open(\"/content/drive/My Drive/Colab Notebooks/data/ML_Project/best_regulariz_class_cat.pkl\", \"wb\" ) )\n",
    "# pickle.dump(best_factor, open(\"/content/drive/My Drive/Colab Notebooks/data/ML_Project/best_factor_class_cat.pkl\", \"wb\" ) )"
   ]
  },
  {
   "cell_type": "code",
   "execution_count": null,
   "metadata": {
    "colab": {
     "base_uri": "https://localhost:8080/",
     "height": 170
    },
    "colab_type": "code",
    "id": "ndXt09quIIDO",
    "outputId": "4ebe7dc8-01b5-417d-cd10-925566e573de"
   },
   "outputs": [
    {
     "name": "stdout",
     "output_type": "stream",
     "text": [
      "New best param combination found! RMSE:0.8468606216734601, Acc:0.5658300094305649, num_factors:6, regularizer:1e-12, lin_reg:1e-12\n",
      "New best param combination found! RMSE:0.6996642969687591, Acc:0.6202028338841761, num_factors:6, regularizer:1e-12, lin_reg:2.3357214690901212e-11\n",
      "New best param combination found! RMSE:0.6992559652103253, Acc:0.621929470767397, num_factors:6, regularizer:1e-12, lin_reg:1.438449888287663e-06\n",
      "New best param combination found! RMSE:0.6984898078284033, Acc:0.6201379212461262, num_factors:6, regularizer:1e-12, lin_reg:6.951927961775606e-06\n",
      "New best param combination found! RMSE:0.6978567539556174, Acc:0.6303735159383425, num_factors:6, regularizer:1.2742749857031347e-08, lin_reg:1e-12\n",
      "New best param combination found! RMSE:0.697446979198194, Acc:0.6240400584766242, num_factors:6, regularizer:3.359818286283781e-05, lin_reg:2.3357214690901212e-11\n",
      "New best param combination found! RMSE:0.6974308945569594, Acc:0.6170677756942381, num_factors:6, regularizer:3.359818286283781e-05, lin_reg:0.00016237767391887243\n",
      "New best param combination found! RMSE:0.6921028008768003, Acc:0.6270470962245449, num_factors:6, regularizer:0.00016237767391887243, lin_reg:4.832930238571752e-12\n",
      "New best param combination found! RMSE:0.6895357909950391, Acc:0.627814948765426, num_factors:6, regularizer:0.00016237767391887243, lin_reg:1.438449888287663e-06\n"
     ]
    }
   ],
   "source": [
    "factors = list(range(6, 15))\n",
    "regularizs = np.logspace(-12, 1, 20)\n",
    "lin_regularizs = np.logspace(-12, 1, 20)\n",
    "best_acc, best_lin_regulariz, best_regulariz, best_factor = cv_fact_class(X_train_scored, X_cas, X_species, factors, regularizs, lin_regularizs, cv = 3, verbose=True, params_samples = False)\n",
    "# pickle.dump(best_acc, open(\"/content/drive/My Drive/Colab Notebooks/data/ML_Project/best_acc_class_cat.pkl\", \"wb\" ) )\n",
    "# pickle.dump(best_lin_regulariz, open(\"/content/drive/My Drive/Colab Notebooks/data/ML_Project/best_lin_reg_class_cat.pkl\", \"wb\" ) )\n",
    "# pickle.dump(best_regulariz, open(\"/content/drive/My Drive/Colab Notebooks/data/ML_Project/best_regulariz_class_cat.pkl\", \"wb\" ) )\n",
    "# pickle.dump(best_factor, open(\"/content/drive/My Drive/Colab Notebooks/data/ML_Project/best_factor_class_cat.pkl\", \"wb\" ) )"
   ]
  },
  {
   "cell_type": "code",
   "execution_count": null,
   "metadata": {
    "colab": {
     "base_uri": "https://localhost:8080/",
     "height": 119
    },
    "colab_type": "code",
    "id": "CWP-W6Njy3Nb",
    "outputId": "5e034005-af79-4856-99a2-0f629b7fc1ec"
   },
   "outputs": [
    {
     "name": "stdout",
     "output_type": "stream",
     "text": [
      "New best param combination found! Acc:0.38248370461962633, num_factors:1, regularizer:1e-12, lin_reg:1e-12\n",
      "New best param combination found! Acc:0.3907350990995106, num_factors:1, regularizer:1e-12, lin_reg:4.281332398719396e-12\n",
      "New best param combination found! Acc:0.40724375683949243, num_factors:1, regularizer:1e-12, lin_reg:1.1288378916846883e-07\n",
      "New best param combination found! Acc:0.40852468564885563, num_factors:1, regularizer:0.00016237767391887175, lin_reg:1e-12\n",
      "New best param combination found! Acc:0.4211882241820019, num_factors:1, regularizer:0.012742749857031322, lin_reg:1e-12\n",
      "New best param combination found! Acc:0.42201934413802783, num_factors:1, regularizer:0.012742749857031322, lin_reg:7.847599703514623e-11\n"
     ]
    }
   ],
   "source": [
    "factors = list(range(1, 11))\n",
    "regularizs = np.logspace(-12, 0, 20)\n",
    "lin_regularizs = np.logspace(-12, 0, 20)\n",
    "best_acc, best_lin_regulariz, best_regulariz, best_factor = cv_fact_class(X_train_scored, X_cas, X_species, factors, regularizs, lin_regularizs, cv = 3, verbose=True, params_samples = False)\n",
    "# pickle.dump(best_acc, open(\"/content/drive/My Drive/Colab Notebooks/data/ML_Project/best_acc_class_cat.pkl\", \"wb\" ) )\n",
    "# pickle.dump(best_lin_regulariz, open(\"/content/drive/My Drive/Colab Notebooks/data/ML_Project/best_lin_reg_class_cat.pkl\", \"wb\" ) )\n",
    "# pickle.dump(best_regulariz, open(\"/content/drive/My Drive/Colab Notebooks/data/ML_Project/best_regulariz_class_cat.pkl\", \"wb\" ) )\n",
    "# pickle.dump(best_factor, open(\"/content/drive/My Drive/Colab Notebooks/data/ML_Project/best_factor_class_cat.pkl\", \"wb\" ) )"
   ]
  },
  {
   "cell_type": "code",
   "execution_count": null,
   "metadata": {
    "colab": {},
    "colab_type": "code",
    "id": "8wQloCzlRcHa"
   },
   "outputs": [],
   "source": [
    "from sklearn.model_selection import KFold\n",
    "def cv_fact_class(X_scored, X_cas, X_species, factors, regularizs, lin_regulars,  cv = 3, verbose=True, params_samples = True, num_samples = 5):\n",
    "  best_factor = 0\n",
    "  best_regulariz = 0\n",
    "  best_lin_regulariz = 0\n",
    "  best_acc = 0\n",
    "  best_rmse = np.inf\n",
    "  np.random.seed(13)\n",
    "\n",
    "  if params_samples:\n",
    "    factors = np.random.choice(factors, num_samples)\n",
    "    regularizs = np.random.choice(regularizs, num_samples)\n",
    "    lin_regulars = np.random.choice(lin_regulars, num_samples)\n",
    "    \n",
    "  for factor in factors:\n",
    "    for regulariz in regularizs:\n",
    "      for lin_regular in lin_regulars:\n",
    "        accs = []\n",
    "        rmses = []\n",
    "        kf2 = KFold(n_splits=cv, shuffle=True)\n",
    "\n",
    "        for train_ind, test_ind in kf2.split(X_scored):\n",
    "          train = tc.SFrame(X_scored.loc[train_ind])\n",
    "          test = tc.SFrame(X_scored.loc[test_ind])\n",
    "\n",
    "          model = tc.recommender.factorization_recommender.create(train, 'test_cas', 'species', target='score', max_iterations=1000, \\\n",
    "                                                                  num_factors = factor, regularization=regulariz, linear_regularization=lin_regular, solver=\"sgd\", verbose=False, user_data=X_cas, item_data=X_species)\n",
    "          \n",
    "          X_test_predict = model.predict(test)\n",
    "          X_test_predict = np.rint(X_test_predict.to_numpy())\n",
    "          acc = accuracy_score(X_scored.loc[test_ind].score.values, X_test_predict)\n",
    "          rmse = model.evaluate_rmse(X_test, 'score')['rmse_overall']\n",
    "          accs.append(acc)\n",
    "          rmses.append(rmse)\n",
    "        \n",
    "        acc_avg = np.mean(accs)\n",
    "        rmse_avg = np.mean(rmses)\n",
    "\n",
    "        if (rmse_avg < best_rmse):\n",
    "          if verbose:\n",
    "            print(\"New best param combination found! RMSE:{}, Acc:{}, num_factors:{}, regularizer:{}, lin_reg:{}\".format(rmse_avg, acc_avg, factor, regulariz, lin_regular))     \n",
    "          best_acc = acc_avg\n",
    "          best_rmse = rmse_avg\n",
    "          best_lin_regulariz = lin_regular\n",
    "          best_regulariz = regulariz\n",
    "          best_factor = factor\n",
    "    \n",
    "  return best_acc, best_lin_regulariz, best_regulariz, best_factor\n"
   ]
  },
  {
   "cell_type": "code",
   "execution_count": null,
   "metadata": {
    "colab": {},
    "colab_type": "code",
    "id": "HWZR2Jq19Lr9"
   },
   "outputs": [],
   "source": [
    "best_factor = 1\n",
    "best_regulariz = 0.012742749857031322\n",
    "best_lin_regulariz = 7.847599703514623e-11"
   ]
  },
  {
   "cell_type": "code",
   "execution_count": null,
   "metadata": {
    "colab": {
     "base_uri": "https://localhost:8080/",
     "height": 935
    },
    "colab_type": "code",
    "id": "UkKu_V2pgfKs",
    "outputId": "4cdc538a-c4de-4059-d735-84adf38803f5"
   },
   "outputs": [
    {
     "data": {
      "text/html": [
       "<pre>Preparing data set.</pre>"
      ],
      "text/plain": [
       "Preparing data set."
      ]
     },
     "metadata": {
      "tags": []
     },
     "output_type": "display_data"
    },
    {
     "data": {
      "text/html": [
       "<pre>    Data has 15632 observations with 2621 users and 435 items.</pre>"
      ],
      "text/plain": [
       "    Data has 15632 observations with 2621 users and 435 items."
      ]
     },
     "metadata": {
      "tags": []
     },
     "output_type": "display_data"
    },
    {
     "data": {
      "text/html": [
       "<pre>    Data prepared in: 0.043746s</pre>"
      ],
      "text/plain": [
       "    Data prepared in: 0.043746s"
      ]
     },
     "metadata": {
      "tags": []
     },
     "output_type": "display_data"
    },
    {
     "data": {
      "text/html": [
       "<pre>Training factorization_recommender for recommendations.</pre>"
      ],
      "text/plain": [
       "Training factorization_recommender for recommendations."
      ]
     },
     "metadata": {
      "tags": []
     },
     "output_type": "display_data"
    },
    {
     "data": {
      "text/html": [
       "<pre>+--------------------------------+--------------------------------------------------+----------+</pre>"
      ],
      "text/plain": [
       "+--------------------------------+--------------------------------------------------+----------+"
      ]
     },
     "metadata": {
      "tags": []
     },
     "output_type": "display_data"
    },
    {
     "data": {
      "text/html": [
       "<pre>| Parameter                      | Description                                      | Value    |</pre>"
      ],
      "text/plain": [
       "| Parameter                      | Description                                      | Value    |"
      ]
     },
     "metadata": {
      "tags": []
     },
     "output_type": "display_data"
    },
    {
     "data": {
      "text/html": [
       "<pre>+--------------------------------+--------------------------------------------------+----------+</pre>"
      ],
      "text/plain": [
       "+--------------------------------+--------------------------------------------------+----------+"
      ]
     },
     "metadata": {
      "tags": []
     },
     "output_type": "display_data"
    },
    {
     "data": {
      "text/html": [
       "<pre>| num_factors                    | Factor Dimension                                 | 1        |</pre>"
      ],
      "text/plain": [
       "| num_factors                    | Factor Dimension                                 | 1        |"
      ]
     },
     "metadata": {
      "tags": []
     },
     "output_type": "display_data"
    },
    {
     "data": {
      "text/html": [
       "<pre>| regularization                 | L2 Regularization on Factors                     |          |</pre>"
      ],
      "text/plain": [
       "| regularization                 | L2 Regularization on Factors                     |          |"
      ]
     },
     "metadata": {
      "tags": []
     },
     "output_type": "display_data"
    },
    {
     "data": {
      "text/html": [
       "<pre>| solver                         | Solver used for training                         | sgd      |</pre>"
      ],
      "text/plain": [
       "| solver                         | Solver used for training                         | sgd      |"
      ]
     },
     "metadata": {
      "tags": []
     },
     "output_type": "display_data"
    },
    {
     "data": {
      "text/html": [
       "<pre>| linear_regularization          | L2 Regularization on Linear Coefficients         | 7.85e-11 |</pre>"
      ],
      "text/plain": [
       "| linear_regularization          | L2 Regularization on Linear Coefficients         | 7.85e-11 |"
      ]
     },
     "metadata": {
      "tags": []
     },
     "output_type": "display_data"
    },
    {
     "data": {
      "text/html": [
       "<pre>| side_data_factorization        | Assign Factors for Side Data                     | True     |</pre>"
      ],
      "text/plain": [
       "| side_data_factorization        | Assign Factors for Side Data                     | True     |"
      ]
     },
     "metadata": {
      "tags": []
     },
     "output_type": "display_data"
    },
    {
     "data": {
      "text/html": [
       "<pre>| max_iterations                 | Maximum Number of Iterations                     | 10000    |</pre>"
      ],
      "text/plain": [
       "| max_iterations                 | Maximum Number of Iterations                     | 10000    |"
      ]
     },
     "metadata": {
      "tags": []
     },
     "output_type": "display_data"
    },
    {
     "data": {
      "text/html": [
       "<pre>+--------------------------------+--------------------------------------------------+----------+</pre>"
      ],
      "text/plain": [
       "+--------------------------------+--------------------------------------------------+----------+"
      ]
     },
     "metadata": {
      "tags": []
     },
     "output_type": "display_data"
    },
    {
     "data": {
      "text/html": [
       "<pre>  Optimizing model using SGD; tuning step size.</pre>"
      ],
      "text/plain": [
       "  Optimizing model using SGD; tuning step size."
      ]
     },
     "metadata": {
      "tags": []
     },
     "output_type": "display_data"
    },
    {
     "data": {
      "text/html": [
       "<pre>  Using 10000 / 15632 points for tuning the step size.</pre>"
      ],
      "text/plain": [
       "  Using 10000 / 15632 points for tuning the step size."
      ]
     },
     "metadata": {
      "tags": []
     },
     "output_type": "display_data"
    },
    {
     "data": {
      "text/html": [
       "<pre>+---------+-------------------+------------------------------------------+</pre>"
      ],
      "text/plain": [
       "+---------+-------------------+------------------------------------------+"
      ]
     },
     "metadata": {
      "tags": []
     },
     "output_type": "display_data"
    },
    {
     "data": {
      "text/html": [
       "<pre>| Attempt | Initial Step Size | Estimated Objective Value                |</pre>"
      ],
      "text/plain": [
       "| Attempt | Initial Step Size | Estimated Objective Value                |"
      ]
     },
     "metadata": {
      "tags": []
     },
     "output_type": "display_data"
    },
    {
     "data": {
      "text/html": [
       "<pre>+---------+-------------------+------------------------------------------+</pre>"
      ],
      "text/plain": [
       "+---------+-------------------+------------------------------------------+"
      ]
     },
     "metadata": {
      "tags": []
     },
     "output_type": "display_data"
    },
    {
     "data": {
      "text/html": [
       "<pre>| 0       | 0.369033          | Not Viable                               |</pre>"
      ],
      "text/plain": [
       "| 0       | 0.369033          | Not Viable                               |"
      ]
     },
     "metadata": {
      "tags": []
     },
     "output_type": "display_data"
    },
    {
     "data": {
      "text/html": [
       "<pre>| 1       | 0.0922582         | Not Viable                               |</pre>"
      ],
      "text/plain": [
       "| 1       | 0.0922582         | Not Viable                               |"
      ]
     },
     "metadata": {
      "tags": []
     },
     "output_type": "display_data"
    },
    {
     "data": {
      "text/html": [
       "<pre>| 2       | 0.0230645         | Not Viable                               |</pre>"
      ],
      "text/plain": [
       "| 2       | 0.0230645         | Not Viable                               |"
      ]
     },
     "metadata": {
      "tags": []
     },
     "output_type": "display_data"
    },
    {
     "data": {
      "text/html": [
       "<pre>| 3       | 0.00576614        | 0.96013                                  |</pre>"
      ],
      "text/plain": [
       "| 3       | 0.00576614        | 0.96013                                  |"
      ]
     },
     "metadata": {
      "tags": []
     },
     "output_type": "display_data"
    },
    {
     "data": {
      "text/html": [
       "<pre>| 4       | 0.00288307        | 1.0282                                   |</pre>"
      ],
      "text/plain": [
       "| 4       | 0.00288307        | 1.0282                                   |"
      ]
     },
     "metadata": {
      "tags": []
     },
     "output_type": "display_data"
    },
    {
     "data": {
      "text/html": [
       "<pre>| 5       | 0.00144153        | 1.17148                                  |</pre>"
      ],
      "text/plain": [
       "| 5       | 0.00144153        | 1.17148                                  |"
      ]
     },
     "metadata": {
      "tags": []
     },
     "output_type": "display_data"
    },
    {
     "data": {
      "text/html": [
       "<pre>| 6       | 0.000720767       | 1.26799                                  |</pre>"
      ],
      "text/plain": [
       "| 6       | 0.000720767       | 1.26799                                  |"
      ]
     },
     "metadata": {
      "tags": []
     },
     "output_type": "display_data"
    },
    {
     "data": {
      "text/html": [
       "<pre>+---------+-------------------+------------------------------------------+</pre>"
      ],
      "text/plain": [
       "+---------+-------------------+------------------------------------------+"
      ]
     },
     "metadata": {
      "tags": []
     },
     "output_type": "display_data"
    },
    {
     "data": {
      "text/html": [
       "<pre>| Final   | 0.00576614        | 0.96013                                  |</pre>"
      ],
      "text/plain": [
       "| Final   | 0.00576614        | 0.96013                                  |"
      ]
     },
     "metadata": {
      "tags": []
     },
     "output_type": "display_data"
    },
    {
     "data": {
      "text/html": [
       "<pre>+---------+-------------------+------------------------------------------+</pre>"
      ],
      "text/plain": [
       "+---------+-------------------+------------------------------------------+"
      ]
     },
     "metadata": {
      "tags": []
     },
     "output_type": "display_data"
    },
    {
     "data": {
      "text/html": [
       "<pre>Starting Optimization.</pre>"
      ],
      "text/plain": [
       "Starting Optimization."
      ]
     },
     "metadata": {
      "tags": []
     },
     "output_type": "display_data"
    },
    {
     "data": {
      "text/html": [
       "<pre>+---------+--------------+-------------------+-----------------------+-------------+</pre>"
      ],
      "text/plain": [
       "+---------+--------------+-------------------+-----------------------+-------------+"
      ]
     },
     "metadata": {
      "tags": []
     },
     "output_type": "display_data"
    },
    {
     "data": {
      "text/html": [
       "<pre>| Iter.   | Elapsed Time | Approx. Objective | Approx. Training RMSE | Step Size   |</pre>"
      ],
      "text/plain": [
       "| Iter.   | Elapsed Time | Approx. Objective | Approx. Training RMSE | Step Size   |"
      ]
     },
     "metadata": {
      "tags": []
     },
     "output_type": "display_data"
    },
    {
     "data": {
      "text/html": [
       "<pre>+---------+--------------+-------------------+-----------------------+-------------+</pre>"
      ],
      "text/plain": [
       "+---------+--------------+-------------------+-----------------------+-------------+"
      ]
     },
     "metadata": {
      "tags": []
     },
     "output_type": "display_data"
    },
    {
     "data": {
      "text/html": [
       "<pre>| Initial | 56us         | 1.74509           | 1.32102               |             |</pre>"
      ],
      "text/plain": [
       "| Initial | 56us         | 1.74509           | 1.32102               |             |"
      ]
     },
     "metadata": {
      "tags": []
     },
     "output_type": "display_data"
    },
    {
     "data": {
      "text/html": [
       "<pre>+---------+--------------+-------------------+-----------------------+-------------+</pre>"
      ],
      "text/plain": [
       "+---------+--------------+-------------------+-----------------------+-------------+"
      ]
     },
     "metadata": {
      "tags": []
     },
     "output_type": "display_data"
    },
    {
     "data": {
      "text/html": [
       "<pre>| 1       | 53.06ms      | 1.17244           | 1.08279               | 0.00576614  |</pre>"
      ],
      "text/plain": [
       "| 1       | 53.06ms      | 1.17244           | 1.08279               | 0.00576614  |"
      ]
     },
     "metadata": {
      "tags": []
     },
     "output_type": "display_data"
    },
    {
     "data": {
      "text/html": [
       "<pre>| 2       | 80.127ms     | 0.951984          | 0.975676              | 0.00268369  |</pre>"
      ],
      "text/plain": [
       "| 2       | 80.127ms     | 0.951984          | 0.975676              | 0.00268369  |"
      ]
     },
     "metadata": {
      "tags": []
     },
     "output_type": "display_data"
    },
    {
     "data": {
      "text/html": [
       "<pre>| 3       | 107.442ms    | 0.894797          | 0.945858              | 0.00174882  |</pre>"
      ],
      "text/plain": [
       "| 3       | 107.442ms    | 0.894797          | 0.945858              | 0.00174882  |"
      ]
     },
     "metadata": {
      "tags": []
     },
     "output_type": "display_data"
    },
    {
     "data": {
      "text/html": [
       "<pre>| 4       | 131.712ms    | 0.854182          | 0.923945              | 0.001297    |</pre>"
      ],
      "text/plain": [
       "| 4       | 131.712ms    | 0.854182          | 0.923945              | 0.001297    |"
      ]
     },
     "metadata": {
      "tags": []
     },
     "output_type": "display_data"
    },
    {
     "data": {
      "text/html": [
       "<pre>| 5       | 155.586ms    | 0.820436          | 0.905284              | 0.00103071  |</pre>"
      ],
      "text/plain": [
       "| 5       | 155.586ms    | 0.820436          | 0.905284              | 0.00103071  |"
      ]
     },
     "metadata": {
      "tags": []
     },
     "output_type": "display_data"
    },
    {
     "data": {
      "text/html": [
       "<pre>| 10      | 272.982ms    | 0.791354          | 0.885605              | 0.000508601 |</pre>"
      ],
      "text/plain": [
       "| 10      | 272.982ms    | 0.791354          | 0.885605              | 0.000508601 |"
      ]
     },
     "metadata": {
      "tags": []
     },
     "output_type": "display_data"
    },
    {
     "data": {
      "text/html": [
       "<pre>| 50      | 1.21s        | 0.928103          | 0.949263              | 4.76324e-08 |</pre>"
      ],
      "text/plain": [
       "| 50      | 1.21s        | 0.928103          | 0.949263              | 4.76324e-08 |"
      ]
     },
     "metadata": {
      "tags": []
     },
     "output_type": "display_data"
    },
    {
     "data": {
      "text/html": [
       "<pre>| 100     | 2.39s        | 0.927167          | 0.948765              | 6.69642e-09 |</pre>"
      ],
      "text/plain": [
       "| 100     | 2.39s        | 0.927167          | 0.948765              | 6.69642e-09 |"
      ]
     },
     "metadata": {
      "tags": []
     },
     "output_type": "display_data"
    },
    {
     "data": {
      "text/html": [
       "<pre>| 250     | 6.01s        | 0.923672          | 0.94693               | 3.36812e-09 |</pre>"
      ],
      "text/plain": [
       "| 250     | 6.01s        | 0.923672          | 0.94693               | 3.36812e-09 |"
      ]
     },
     "metadata": {
      "tags": []
     },
     "output_type": "display_data"
    },
    {
     "data": {
      "text/html": [
       "<pre>| 500     | 11.87s       | 0.920468          | 0.945249              | 2.0027e-09  |</pre>"
      ],
      "text/plain": [
       "| 500     | 11.87s       | 0.920468          | 0.945249              | 2.0027e-09  |"
      ]
     },
     "metadata": {
      "tags": []
     },
     "output_type": "display_data"
    },
    {
     "data": {
      "text/html": [
       "<pre>| 750     | 17.67s       | 0.918558          | 0.944245              | 1.47756e-09 |</pre>"
      ],
      "text/plain": [
       "| 750     | 17.67s       | 0.918558          | 0.944245              | 1.47756e-09 |"
      ]
     },
     "metadata": {
      "tags": []
     },
     "output_type": "display_data"
    },
    {
     "data": {
      "text/html": [
       "<pre>| 1000    | 23.46s       | 0.917182          | 0.943521              | 1.19081e-09 |</pre>"
      ],
      "text/plain": [
       "| 1000    | 23.46s       | 0.917182          | 0.943521              | 1.19081e-09 |"
      ]
     },
     "metadata": {
      "tags": []
     },
     "output_type": "display_data"
    },
    {
     "data": {
      "text/html": [
       "<pre>| 1250    | 29.34s       | 0.916138          | 0.942972              | 1.0073e-09  |</pre>"
      ],
      "text/plain": [
       "| 1250    | 29.34s       | 0.916138          | 0.942972              | 1.0073e-09  |"
      ]
     },
     "metadata": {
      "tags": []
     },
     "output_type": "display_data"
    },
    {
     "data": {
      "text/html": [
       "<pre>| 1266    | 29.73s       | 0.91608           | 0.942941              | 9.97739e-10 |</pre>"
      ],
      "text/plain": [
       "| 1266    | 29.73s       | 0.91608           | 0.942941              | 9.97739e-10 |"
      ]
     },
     "metadata": {
      "tags": []
     },
     "output_type": "display_data"
    },
    {
     "data": {
      "text/html": [
       "<pre>+---------+--------------+-------------------+-----------------------+-------------+</pre>"
      ],
      "text/plain": [
       "+---------+--------------+-------------------+-----------------------+-------------+"
      ]
     },
     "metadata": {
      "tags": []
     },
     "output_type": "display_data"
    },
    {
     "data": {
      "text/html": [
       "<pre>Optimization Complete: Convergence on objective within bounds.</pre>"
      ],
      "text/plain": [
       "Optimization Complete: Convergence on objective within bounds."
      ]
     },
     "metadata": {
      "tags": []
     },
     "output_type": "display_data"
    },
    {
     "data": {
      "text/html": [
       "<pre>Computing final objective value and training RMSE.</pre>"
      ],
      "text/plain": [
       "Computing final objective value and training RMSE."
      ]
     },
     "metadata": {
      "tags": []
     },
     "output_type": "display_data"
    },
    {
     "data": {
      "text/html": [
       "<pre>       Final objective value: 0.916078</pre>"
      ],
      "text/plain": [
       "       Final objective value: 0.916078"
      ]
     },
     "metadata": {
      "tags": []
     },
     "output_type": "display_data"
    },
    {
     "data": {
      "text/html": [
       "<pre>       Final training RMSE: 0.94294</pre>"
      ],
      "text/plain": [
       "       Final training RMSE: 0.94294"
      ]
     },
     "metadata": {
      "tags": []
     },
     "output_type": "display_data"
    }
   ],
   "source": [
    "X_test_sc = X_test_scored.copy()\n",
    "X_train_sc = X_train_scored.copy()\n",
    "\n",
    "model_test = tc.recommender.factorization_recommender.create(tc.SFrame(X_train_sc), 'test_cas', 'species', target='score', max_iterations=10000, \\\n",
    "                                                                       num_factors = best_factor, regularization=best_regulariz, linear_regularization=best_lin_regulariz, solver=\"sgd\", verbose=True, user_data=X_cas)"
   ]
  },
  {
   "cell_type": "code",
   "execution_count": null,
   "metadata": {
    "colab": {
     "base_uri": "https://localhost:8080/",
     "height": 34
    },
    "colab_type": "code",
    "id": "9j3aabdxQDmy",
    "outputId": "c6f8064d-8ef7-4a40-cbb1-9a86f5bdda11"
   },
   "outputs": [
    {
     "data": {
      "text/plain": [
       "0.9808552435280209"
      ]
     },
     "execution_count": 45,
     "metadata": {
      "tags": []
     },
     "output_type": "execute_result"
    }
   ],
   "source": [
    "model_test.evaluate_rmse(tc.SFrame(X_test_sc), 'score')['rmse_overall']"
   ]
  },
  {
   "cell_type": "code",
   "execution_count": null,
   "metadata": {
    "colab": {
     "base_uri": "https://localhost:8080/",
     "height": 88
    },
    "colab_type": "code",
    "id": "zuHqipofPjTj",
    "outputId": "1ddaa9ee-7aee-4fb0-d661-fa9e54b64a34"
   },
   "outputs": [
    {
     "data": {
      "text/plain": [
       "dtype: float\n",
       "Rows: 7700\n",
       "[3.0970496265239738, 3.3960573393005973, 1.968141361533832, 3.464761677023855, 3.3424540639091602, 3.1131578336141703, 3.0614776321419557, 1.8869710651288627, 3.3750917577423825, 3.348315756652275, 2.6811273951920405, 4.708397130366861, 2.3846676811230303, 3.8383395543950622, 2.3084444093085543, 3.021791682677273, 2.379380135835587, 2.7574755046782613, 3.553352074005991, 4.972684793246647, 2.9553463439384418, 3.5241403125629858, 4.283270777271483, 2.282848261784363, 2.6951134707584368, 2.644605917310954, 3.1324506018749525, 2.7083608379422195, 1.7320208331716276, 15.089768315314362, 2.6476389688035873, 3.912035540511401, 2.8305392618760763, 3.6078206658205234, 2.784168892333097, 2.5774915215729415, 0.33401213177875866, 3.188659207962816, 2.792521413535763, 2.4056227392035527, 3.2496603601224434, 2.5781151084406604, 2.9924125150112033, 4.044452871693235, 2.640304531102014, 5.268167844634852, 3.5248705669751907, 2.397362282700184, 1.4784759430588965, 4.891305752083629, 4.647910235508246, 2.5688266104012203, 2.636152785202293, 3.3223264605592706, 3.9231080912022054, 2.4962006783355353, 2.5133187597238194, 2.288769043441735, 2.3241823509274275, 2.220013503666993, 2.2422918446092566, 1.9603961121127447, 2.6357939778568267, 2.7993979786155854, 3.547440095277549, 4.984743851133835, 2.430566159283844, 4.355325412464618, 2.7493915066865986, 2.5927693217346603, 2.971446249142391, 4.189783009933607, 1.9104933935617276, 2.73796036149403, 3.9340758873731794, 4.6510572578791916, 3.0067589334543903, 2.4186333068197956, 3.4585108280469656, 1.6694452543163425, 3.527641350669872, 4.189722510244249, 4.298111348186834, 1.52480613941413, 3.5632521107618182, 3.885660629829682, 4.423674862107364, 2.9689989560976318, 4.1052124239508005, 3.4445889132490324, 2.7523474807628308, 2.9995611435485197, 4.7691870681314095, 3.304580947728045, 4.7607981297038195, 3.1972837061496953, 4.379004762072705, 1.7734566017063664, 4.11448218017091, 3.405572350544644, ... ]"
      ]
     },
     "execution_count": 48,
     "metadata": {
      "tags": []
     },
     "output_type": "execute_result"
    }
   ],
   "source": [
    "X_test_predict = model_test.predict(tc.SFrame(X_test_sc))\n",
    "X_test_predict"
   ]
  },
  {
   "cell_type": "code",
   "execution_count": null,
   "metadata": {
    "colab": {
     "base_uri": "https://localhost:8080/",
     "height": 34
    },
    "colab_type": "code",
    "id": "Q9UvRWqVmO1R",
    "outputId": "8b1cd358-3967-46c3-8dd4-6f8157893d01"
   },
   "outputs": [
    {
     "data": {
      "text/plain": [
       "0.4048051948051948"
      ]
     },
     "execution_count": 49,
     "metadata": {
      "tags": []
     },
     "output_type": "execute_result"
    }
   ],
   "source": [
    "X_test_predict = np.rint(X_test_predict.to_numpy())\n",
    "accuracy_score(X_test_sc.score, X_test_predict)"
   ]
  },
  {
   "cell_type": "code",
   "execution_count": null,
   "metadata": {
    "colab": {},
    "colab_type": "code",
    "id": "EAaW3FZK0-YJ"
   },
   "outputs": [],
   "source": []
  }
 ],
 "metadata": {
  "accelerator": "GPU",
  "colab": {
   "collapsed_sections": [],
   "name": "Tox_MultiClassification_Categories",
   "provenance": []
  },
  "kernelspec": {
   "display_name": "Python 3",
   "language": "python",
   "name": "python3"
  },
  "language_info": {
   "codemirror_mode": {
    "name": "ipython",
    "version": 3
   },
   "file_extension": ".py",
   "mimetype": "text/x-python",
   "name": "python",
   "nbconvert_exporter": "python",
   "pygments_lexer": "ipython3",
   "version": "3.7.4"
  }
 },
 "nbformat": 4,
 "nbformat_minor": 4
}
