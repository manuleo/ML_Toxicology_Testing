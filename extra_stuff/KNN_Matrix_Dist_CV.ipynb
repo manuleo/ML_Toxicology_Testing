{
 "cells": [
  {
   "cell_type": "code",
   "execution_count": 1,
   "metadata": {
    "colab": {},
    "colab_type": "code",
    "id": "Itb9VYEJYvmJ"
   },
   "outputs": [],
   "source": [
    "import pandas as pd\n",
    "import numpy as np\n",
    "import matplotlib.pyplot as plt\n",
    "#import seaborn as sns\n",
    "import re\n",
    "from sklearn.preprocessing import StandardScaler\n",
    "from sklearn.preprocessing import MinMaxScaler\n",
    "from sklearn.model_selection import train_test_split\n",
    "from sklearn.preprocessing import OrdinalEncoder\n",
    "from sklearn.neighbors import KNeighborsClassifier\n",
    "from sklearn import linear_model\n",
    "from sklearn.metrics import accuracy_score\n",
    "from sklearn.ensemble import RandomForestClassifier\n",
    "from sklearn.metrics import accuracy_score\n",
    "from sklearn.ensemble import GradientBoostingClassifier\n",
    "from sklearn.model_selection import GridSearchCV"
   ]
  },
  {
   "cell_type": "markdown",
   "metadata": {
    "colab_type": "text",
    "id": "zXJFwMRRYvmb"
   },
   "source": [
    "Considering the possible effects connected to LC50. We need to filter on **Mortality Group**"
   ]
  },
  {
   "cell_type": "markdown",
   "metadata": {
    "colab_type": "text",
    "id": "pOu8N6dUYvmg"
   },
   "source": [
    "## Preprocessing on base_db"
   ]
  },
  {
   "cell_type": "code",
   "execution_count": 2,
   "metadata": {
    "colab": {
     "base_uri": "https://localhost:8080/",
     "height": 445
    },
    "colab_type": "code",
    "id": "Xsq7Q6kmYvmi",
    "outputId": "9dbad032-00a6-4767-e9d4-0b302aec01ad"
   },
   "outputs": [
    {
     "data": {
      "text/html": [
       "<div>\n",
       "<style scoped>\n",
       "    .dataframe tbody tr th:only-of-type {\n",
       "        vertical-align: middle;\n",
       "    }\n",
       "\n",
       "    .dataframe tbody tr th {\n",
       "        vertical-align: top;\n",
       "    }\n",
       "\n",
       "    .dataframe thead th {\n",
       "        text-align: right;\n",
       "    }\n",
       "</style>\n",
       "<table border=\"1\" class=\"dataframe\">\n",
       "  <thead>\n",
       "    <tr style=\"text-align: right;\">\n",
       "      <th></th>\n",
       "      <th>test_cas</th>\n",
       "      <th>exposure_type</th>\n",
       "      <th>obs_duration_mean</th>\n",
       "      <th>conc1_type</th>\n",
       "      <th>conc1_mean</th>\n",
       "      <th>class</th>\n",
       "      <th>tax_order</th>\n",
       "      <th>family</th>\n",
       "      <th>genus</th>\n",
       "      <th>species</th>\n",
       "      <th>atom_number</th>\n",
       "      <th>alone_atom_number</th>\n",
       "      <th>tripleBond</th>\n",
       "      <th>doubleBond</th>\n",
       "      <th>bonds_number</th>\n",
       "      <th>ring_numer</th>\n",
       "      <th>Mol</th>\n",
       "      <th>MorganDensity</th>\n",
       "      <th>LogP</th>\n",
       "    </tr>\n",
       "  </thead>\n",
       "  <tbody>\n",
       "    <tr>\n",
       "      <td>0</td>\n",
       "      <td>10108-64-2</td>\n",
       "      <td>S</td>\n",
       "      <td>48.0</td>\n",
       "      <td>T</td>\n",
       "      <td>46.900</td>\n",
       "      <td>Actinopterygii</td>\n",
       "      <td>Cypriniformes</td>\n",
       "      <td>Cyprinidae</td>\n",
       "      <td>Carassius</td>\n",
       "      <td>auratus</td>\n",
       "      <td>0.273831</td>\n",
       "      <td>3</td>\n",
       "      <td>0</td>\n",
       "      <td>0</td>\n",
       "      <td>0.0</td>\n",
       "      <td>0.0</td>\n",
       "      <td>0.096146</td>\n",
       "      <td>0.666667</td>\n",
       "      <td>-5.9945</td>\n",
       "    </tr>\n",
       "    <tr>\n",
       "      <td>1</td>\n",
       "      <td>10108-64-2</td>\n",
       "      <td>S</td>\n",
       "      <td>24.0</td>\n",
       "      <td>T</td>\n",
       "      <td>200.000</td>\n",
       "      <td>Actinopterygii</td>\n",
       "      <td>Cyprinodontiformes</td>\n",
       "      <td>Cyprinodontidae</td>\n",
       "      <td>Fundulus</td>\n",
       "      <td>heteroclitus</td>\n",
       "      <td>0.273831</td>\n",
       "      <td>3</td>\n",
       "      <td>0</td>\n",
       "      <td>0</td>\n",
       "      <td>0.0</td>\n",
       "      <td>0.0</td>\n",
       "      <td>0.096146</td>\n",
       "      <td>0.666667</td>\n",
       "      <td>-5.9945</td>\n",
       "    </tr>\n",
       "    <tr>\n",
       "      <td>2</td>\n",
       "      <td>10108-64-2</td>\n",
       "      <td>F</td>\n",
       "      <td>96.0</td>\n",
       "      <td>T</td>\n",
       "      <td>0.001</td>\n",
       "      <td>Actinopterygii</td>\n",
       "      <td>Salmoniformes</td>\n",
       "      <td>Salmonidae</td>\n",
       "      <td>Oncorhynchus</td>\n",
       "      <td>mykiss</td>\n",
       "      <td>0.273831</td>\n",
       "      <td>3</td>\n",
       "      <td>0</td>\n",
       "      <td>0</td>\n",
       "      <td>0.0</td>\n",
       "      <td>0.0</td>\n",
       "      <td>0.096146</td>\n",
       "      <td>0.666667</td>\n",
       "      <td>-5.9945</td>\n",
       "    </tr>\n",
       "    <tr>\n",
       "      <td>3</td>\n",
       "      <td>10108-64-2</td>\n",
       "      <td>S</td>\n",
       "      <td>96.0</td>\n",
       "      <td>T</td>\n",
       "      <td>15.900</td>\n",
       "      <td>Actinopterygii</td>\n",
       "      <td>Cyprinodontiformes</td>\n",
       "      <td>Cyprinodontidae</td>\n",
       "      <td>Cyprinodon</td>\n",
       "      <td>variegatus</td>\n",
       "      <td>0.273831</td>\n",
       "      <td>3</td>\n",
       "      <td>0</td>\n",
       "      <td>0</td>\n",
       "      <td>0.0</td>\n",
       "      <td>0.0</td>\n",
       "      <td>0.096146</td>\n",
       "      <td>0.666667</td>\n",
       "      <td>-5.9945</td>\n",
       "    </tr>\n",
       "    <tr>\n",
       "      <td>4</td>\n",
       "      <td>10108-64-2</td>\n",
       "      <td>F</td>\n",
       "      <td>694.0</td>\n",
       "      <td>T</td>\n",
       "      <td>0.030</td>\n",
       "      <td>Actinopterygii</td>\n",
       "      <td>Salmoniformes</td>\n",
       "      <td>Salmonidae</td>\n",
       "      <td>Oncorhynchus</td>\n",
       "      <td>mykiss</td>\n",
       "      <td>0.273831</td>\n",
       "      <td>3</td>\n",
       "      <td>0</td>\n",
       "      <td>0</td>\n",
       "      <td>0.0</td>\n",
       "      <td>0.0</td>\n",
       "      <td>0.096146</td>\n",
       "      <td>0.666667</td>\n",
       "      <td>-5.9945</td>\n",
       "    </tr>\n",
       "  </tbody>\n",
       "</table>\n",
       "</div>"
      ],
      "text/plain": [
       "     test_cas exposure_type  obs_duration_mean conc1_type  conc1_mean  \\\n",
       "0  10108-64-2             S               48.0          T      46.900   \n",
       "1  10108-64-2             S               24.0          T     200.000   \n",
       "2  10108-64-2             F               96.0          T       0.001   \n",
       "3  10108-64-2             S               96.0          T      15.900   \n",
       "4  10108-64-2             F              694.0          T       0.030   \n",
       "\n",
       "            class           tax_order           family         genus  \\\n",
       "0  Actinopterygii       Cypriniformes       Cyprinidae     Carassius   \n",
       "1  Actinopterygii  Cyprinodontiformes  Cyprinodontidae      Fundulus   \n",
       "2  Actinopterygii       Salmoniformes       Salmonidae  Oncorhynchus   \n",
       "3  Actinopterygii  Cyprinodontiformes  Cyprinodontidae    Cyprinodon   \n",
       "4  Actinopterygii       Salmoniformes       Salmonidae  Oncorhynchus   \n",
       "\n",
       "        species  atom_number  alone_atom_number  tripleBond  doubleBond  \\\n",
       "0       auratus     0.273831                  3           0           0   \n",
       "1  heteroclitus     0.273831                  3           0           0   \n",
       "2        mykiss     0.273831                  3           0           0   \n",
       "3    variegatus     0.273831                  3           0           0   \n",
       "4        mykiss     0.273831                  3           0           0   \n",
       "\n",
       "   bonds_number  ring_numer       Mol  MorganDensity    LogP  \n",
       "0           0.0         0.0  0.096146       0.666667 -5.9945  \n",
       "1           0.0         0.0  0.096146       0.666667 -5.9945  \n",
       "2           0.0         0.0  0.096146       0.666667 -5.9945  \n",
       "3           0.0         0.0  0.096146       0.666667 -5.9945  \n",
       "4           0.0         0.0  0.096146       0.666667 -5.9945  "
      ]
     },
     "execution_count": 2,
     "metadata": {},
     "output_type": "execute_result"
    }
   ],
   "source": [
    "base_db = pd.read_csv(\"use_db_sabato14.csv\")\n",
    "base_db.head()"
   ]
  },
  {
   "cell_type": "code",
   "execution_count": 3,
   "metadata": {
    "colab": {},
    "colab_type": "code",
    "id": "LspwbFiybwsY"
   },
   "outputs": [],
   "source": [
    "base_db = base_db[base_db.obs_duration_mean.isin([24, 48, 72, 96])]"
   ]
  },
  {
   "cell_type": "code",
   "execution_count": 4,
   "metadata": {
    "colab": {},
    "colab_type": "code",
    "id": "vRvdpOEIYvmo"
   },
   "outputs": [],
   "source": [
    "to_drop = base_db[base_db.bonds_number.isnull()].index"
   ]
  },
  {
   "cell_type": "code",
   "execution_count": 5,
   "metadata": {
    "colab": {},
    "colab_type": "code",
    "id": "NaY2mC7rYvmu"
   },
   "outputs": [],
   "source": [
    "base_db = base_db.drop(to_drop,axis=0)"
   ]
  },
  {
   "cell_type": "code",
   "execution_count": 6,
   "metadata": {
    "colab": {
     "base_uri": "https://localhost:8080/",
     "height": 34
    },
    "colab_type": "code",
    "id": "MlkaDmScb_qy",
    "outputId": "c4e05fac-d1dc-4e39-9b33-94272b478bba"
   },
   "outputs": [
    {
     "data": {
      "text/plain": [
       "45775"
      ]
     },
     "execution_count": 6,
     "metadata": {},
     "output_type": "execute_result"
    }
   ],
   "source": [
    "base_db.index.size"
   ]
  },
  {
   "cell_type": "code",
   "execution_count": 7,
   "metadata": {
    "colab": {
     "base_uri": "https://localhost:8080/",
     "height": 136
    },
    "colab_type": "code",
    "id": "1GTX-xVTYvm2",
    "outputId": "5492fb58-474e-45f0-e9e5-55a42d28929e"
   },
   "outputs": [
    {
     "data": {
      "text/plain": [
       "Index(['test_cas', 'exposure_type', 'obs_duration_mean', 'conc1_type',\n",
       "       'conc1_mean', 'class', 'tax_order', 'family', 'genus', 'species',\n",
       "       'atom_number', 'alone_atom_number', 'tripleBond', 'doubleBond',\n",
       "       'bonds_number', 'ring_numer', 'Mol', 'MorganDensity', 'LogP'],\n",
       "      dtype='object')"
      ]
     },
     "execution_count": 7,
     "metadata": {},
     "output_type": "execute_result"
    }
   ],
   "source": [
    "base_db.columns"
   ]
  },
  {
   "cell_type": "code",
   "execution_count": 8,
   "metadata": {
    "colab": {},
    "colab_type": "code",
    "id": "fK5CrxMfYvm9"
   },
   "outputs": [],
   "source": [
    "use_db = base_db.copy()\n",
    "use_db = use_db[['test_cas', 'exposure_type', 'obs_duration_mean', 'conc1_type',\n",
    "       'conc1_mean', 'class', 'tax_order', 'family', 'genus', 'species','atom_number', 'alone_atom_number', 'tripleBond',\n",
    "       'doubleBond', 'bonds_number', 'ring_numer',\n",
    "       'Mol', 'MorganDensity', 'LogP']]"
   ]
  },
  {
   "cell_type": "code",
   "execution_count": 9,
   "metadata": {
    "colab": {
     "base_uri": "https://localhost:8080/",
     "height": 34
    },
    "colab_type": "code",
    "id": "hH8ZVEr9YvnA",
    "outputId": "c599bc61-bf59-4ed8-dcf4-6d862bb75eda"
   },
   "outputs": [
    {
     "data": {
      "text/plain": [
       "45775"
      ]
     },
     "execution_count": 9,
     "metadata": {},
     "output_type": "execute_result"
    }
   ],
   "source": [
    "use_db.index.size"
   ]
  },
  {
   "cell_type": "markdown",
   "metadata": {
    "colab_type": "text",
    "id": "bvSLIAICaUfg"
   },
   "source": [
    "# Repeated experiments"
   ]
  },
  {
   "cell_type": "code",
   "execution_count": 10,
   "metadata": {},
   "outputs": [],
   "source": [
    "db_species = use_db[[\"species\", 'class', 'tax_order', 'family', 'genus']]"
   ]
  },
  {
   "cell_type": "code",
   "execution_count": 11,
   "metadata": {
    "colab": {
     "base_uri": "https://localhost:8080/",
     "height": 34
    },
    "colab_type": "code",
    "id": "OXz1gpp-aUKN",
    "outputId": "2fcd582e-4371-4f98-aa01-30086d1da04a"
   },
   "outputs": [
    {
     "data": {
      "text/plain": [
       "23332"
      ]
     },
     "execution_count": 11,
     "metadata": {},
     "output_type": "execute_result"
    }
   ],
   "source": [
    "use_db = use_db.groupby(by=[\"test_cas\", \"species\", \"conc1_type\", \"exposure_type\", \"obs_duration_mean\",]).agg(\"median\").reset_index()\n",
    "use_db.index.size"
   ]
  },
  {
   "cell_type": "code",
   "execution_count": 12,
   "metadata": {},
   "outputs": [],
   "source": [
    "db_species = db_species.groupby(\"species\").first()"
   ]
  },
  {
   "cell_type": "code",
   "execution_count": 13,
   "metadata": {},
   "outputs": [],
   "source": [
    "use_db = use_db.merge(db_species, on=\"species\")"
   ]
  },
  {
   "cell_type": "code",
   "execution_count": 14,
   "metadata": {},
   "outputs": [
    {
     "data": {
      "text/html": [
       "<div>\n",
       "<style scoped>\n",
       "    .dataframe tbody tr th:only-of-type {\n",
       "        vertical-align: middle;\n",
       "    }\n",
       "\n",
       "    .dataframe tbody tr th {\n",
       "        vertical-align: top;\n",
       "    }\n",
       "\n",
       "    .dataframe thead th {\n",
       "        text-align: right;\n",
       "    }\n",
       "</style>\n",
       "<table border=\"1\" class=\"dataframe\">\n",
       "  <thead>\n",
       "    <tr style=\"text-align: right;\">\n",
       "      <th></th>\n",
       "      <th>test_cas</th>\n",
       "      <th>species</th>\n",
       "      <th>conc1_type</th>\n",
       "      <th>exposure_type</th>\n",
       "      <th>obs_duration_mean</th>\n",
       "      <th>conc1_mean</th>\n",
       "      <th>atom_number</th>\n",
       "      <th>alone_atom_number</th>\n",
       "      <th>tripleBond</th>\n",
       "      <th>doubleBond</th>\n",
       "      <th>bonds_number</th>\n",
       "      <th>ring_numer</th>\n",
       "      <th>Mol</th>\n",
       "      <th>MorganDensity</th>\n",
       "      <th>LogP</th>\n",
       "      <th>class</th>\n",
       "      <th>tax_order</th>\n",
       "      <th>family</th>\n",
       "      <th>genus</th>\n",
       "    </tr>\n",
       "  </thead>\n",
       "  <tbody>\n",
       "    <tr>\n",
       "      <td>0</td>\n",
       "      <td>100-00-5</td>\n",
       "      <td>rerio</td>\n",
       "      <td>F</td>\n",
       "      <td>F</td>\n",
       "      <td>48.0</td>\n",
       "      <td>15.00</td>\n",
       "      <td>0.317908</td>\n",
       "      <td>2</td>\n",
       "      <td>0</td>\n",
       "      <td>1</td>\n",
       "      <td>0.488106</td>\n",
       "      <td>1.0</td>\n",
       "      <td>0.082505</td>\n",
       "      <td>1.300000</td>\n",
       "      <td>2.2482</td>\n",
       "      <td>Actinopterygii</td>\n",
       "      <td>Cypriniformes</td>\n",
       "      <td>Cyprinidae</td>\n",
       "      <td>Danio</td>\n",
       "    </tr>\n",
       "    <tr>\n",
       "      <td>1</td>\n",
       "      <td>100-00-5</td>\n",
       "      <td>rerio</td>\n",
       "      <td>F</td>\n",
       "      <td>F</td>\n",
       "      <td>96.0</td>\n",
       "      <td>15.00</td>\n",
       "      <td>0.317908</td>\n",
       "      <td>2</td>\n",
       "      <td>0</td>\n",
       "      <td>1</td>\n",
       "      <td>0.488106</td>\n",
       "      <td>1.0</td>\n",
       "      <td>0.082505</td>\n",
       "      <td>1.300000</td>\n",
       "      <td>2.2482</td>\n",
       "      <td>Actinopterygii</td>\n",
       "      <td>Cypriniformes</td>\n",
       "      <td>Cyprinidae</td>\n",
       "      <td>Danio</td>\n",
       "    </tr>\n",
       "    <tr>\n",
       "      <td>2</td>\n",
       "      <td>100-01-6</td>\n",
       "      <td>rerio</td>\n",
       "      <td>F</td>\n",
       "      <td>S</td>\n",
       "      <td>96.0</td>\n",
       "      <td>87.60</td>\n",
       "      <td>0.317908</td>\n",
       "      <td>2</td>\n",
       "      <td>0</td>\n",
       "      <td>1</td>\n",
       "      <td>0.488106</td>\n",
       "      <td>1.0</td>\n",
       "      <td>0.072092</td>\n",
       "      <td>1.300000</td>\n",
       "      <td>1.1770</td>\n",
       "      <td>Actinopterygii</td>\n",
       "      <td>Cypriniformes</td>\n",
       "      <td>Cyprinidae</td>\n",
       "      <td>Danio</td>\n",
       "    </tr>\n",
       "    <tr>\n",
       "      <td>3</td>\n",
       "      <td>100-02-7</td>\n",
       "      <td>rerio</td>\n",
       "      <td>F</td>\n",
       "      <td>AQUA</td>\n",
       "      <td>48.0</td>\n",
       "      <td>26.50</td>\n",
       "      <td>0.317908</td>\n",
       "      <td>2</td>\n",
       "      <td>0</td>\n",
       "      <td>1</td>\n",
       "      <td>0.488106</td>\n",
       "      <td>1.0</td>\n",
       "      <td>0.072622</td>\n",
       "      <td>1.300000</td>\n",
       "      <td>1.3004</td>\n",
       "      <td>Actinopterygii</td>\n",
       "      <td>Cypriniformes</td>\n",
       "      <td>Cyprinidae</td>\n",
       "      <td>Danio</td>\n",
       "    </tr>\n",
       "    <tr>\n",
       "      <td>4</td>\n",
       "      <td>100-44-7</td>\n",
       "      <td>rerio</td>\n",
       "      <td>F</td>\n",
       "      <td>S</td>\n",
       "      <td>96.0</td>\n",
       "      <td>4.00</td>\n",
       "      <td>0.217006</td>\n",
       "      <td>0</td>\n",
       "      <td>0</td>\n",
       "      <td>0</td>\n",
       "      <td>0.447258</td>\n",
       "      <td>1.0</td>\n",
       "      <td>0.065856</td>\n",
       "      <td>1.125000</td>\n",
       "      <td>2.4254</td>\n",
       "      <td>Actinopterygii</td>\n",
       "      <td>Cypriniformes</td>\n",
       "      <td>Cyprinidae</td>\n",
       "      <td>Danio</td>\n",
       "    </tr>\n",
       "    <tr>\n",
       "      <td>...</td>\n",
       "      <td>...</td>\n",
       "      <td>...</td>\n",
       "      <td>...</td>\n",
       "      <td>...</td>\n",
       "      <td>...</td>\n",
       "      <td>...</td>\n",
       "      <td>...</td>\n",
       "      <td>...</td>\n",
       "      <td>...</td>\n",
       "      <td>...</td>\n",
       "      <td>...</td>\n",
       "      <td>...</td>\n",
       "      <td>...</td>\n",
       "      <td>...</td>\n",
       "      <td>...</td>\n",
       "      <td>...</td>\n",
       "      <td>...</td>\n",
       "      <td>...</td>\n",
       "      <td>...</td>\n",
       "    </tr>\n",
       "    <tr>\n",
       "      <td>23327</td>\n",
       "      <td>94-75-7</td>\n",
       "      <td>boga</td>\n",
       "      <td>F</td>\n",
       "      <td>R</td>\n",
       "      <td>96.0</td>\n",
       "      <td>3.80</td>\n",
       "      <td>0.410746</td>\n",
       "      <td>0</td>\n",
       "      <td>0</td>\n",
       "      <td>1</td>\n",
       "      <td>0.537196</td>\n",
       "      <td>1.0</td>\n",
       "      <td>0.115790</td>\n",
       "      <td>1.461538</td>\n",
       "      <td>2.4568</td>\n",
       "      <td>Actinopterygii</td>\n",
       "      <td>Cypriniformes</td>\n",
       "      <td>Cyprinidae</td>\n",
       "      <td>Labeo</td>\n",
       "    </tr>\n",
       "    <tr>\n",
       "      <td>23328</td>\n",
       "      <td>94-75-7</td>\n",
       "      <td>neilgherriensis</td>\n",
       "      <td>F</td>\n",
       "      <td>R</td>\n",
       "      <td>24.0</td>\n",
       "      <td>7.80</td>\n",
       "      <td>0.410746</td>\n",
       "      <td>0</td>\n",
       "      <td>0</td>\n",
       "      <td>1</td>\n",
       "      <td>0.537196</td>\n",
       "      <td>1.0</td>\n",
       "      <td>0.115790</td>\n",
       "      <td>1.461538</td>\n",
       "      <td>2.4568</td>\n",
       "      <td>Actinopterygii</td>\n",
       "      <td>Cypriniformes</td>\n",
       "      <td>Cyprinidae</td>\n",
       "      <td>Rasbora</td>\n",
       "    </tr>\n",
       "    <tr>\n",
       "      <td>23329</td>\n",
       "      <td>94-75-7</td>\n",
       "      <td>neilgherriensis</td>\n",
       "      <td>F</td>\n",
       "      <td>R</td>\n",
       "      <td>48.0</td>\n",
       "      <td>6.80</td>\n",
       "      <td>0.410746</td>\n",
       "      <td>0</td>\n",
       "      <td>0</td>\n",
       "      <td>1</td>\n",
       "      <td>0.537196</td>\n",
       "      <td>1.0</td>\n",
       "      <td>0.115790</td>\n",
       "      <td>1.461538</td>\n",
       "      <td>2.4568</td>\n",
       "      <td>Actinopterygii</td>\n",
       "      <td>Cypriniformes</td>\n",
       "      <td>Cyprinidae</td>\n",
       "      <td>Rasbora</td>\n",
       "    </tr>\n",
       "    <tr>\n",
       "      <td>23330</td>\n",
       "      <td>94-75-7</td>\n",
       "      <td>neilgherriensis</td>\n",
       "      <td>F</td>\n",
       "      <td>R</td>\n",
       "      <td>96.0</td>\n",
       "      <td>5.60</td>\n",
       "      <td>0.410746</td>\n",
       "      <td>0</td>\n",
       "      <td>0</td>\n",
       "      <td>1</td>\n",
       "      <td>0.537196</td>\n",
       "      <td>1.0</td>\n",
       "      <td>0.115790</td>\n",
       "      <td>1.461538</td>\n",
       "      <td>2.4568</td>\n",
       "      <td>Actinopterygii</td>\n",
       "      <td>Cypriniformes</td>\n",
       "      <td>Cyprinidae</td>\n",
       "      <td>Rasbora</td>\n",
       "    </tr>\n",
       "    <tr>\n",
       "      <td>23331</td>\n",
       "      <td>95-76-1</td>\n",
       "      <td>pardalis</td>\n",
       "      <td>A</td>\n",
       "      <td>R</td>\n",
       "      <td>96.0</td>\n",
       "      <td>5.18</td>\n",
       "      <td>0.273831</td>\n",
       "      <td>0</td>\n",
       "      <td>0</td>\n",
       "      <td>0</td>\n",
       "      <td>0.468705</td>\n",
       "      <td>1.0</td>\n",
       "      <td>0.084882</td>\n",
       "      <td>1.111111</td>\n",
       "      <td>2.5756</td>\n",
       "      <td>Actinopterygii</td>\n",
       "      <td>Cyprinodontiformes</td>\n",
       "      <td>Goodeidae</td>\n",
       "      <td>Chapalichthys</td>\n",
       "    </tr>\n",
       "  </tbody>\n",
       "</table>\n",
       "<p>23332 rows × 19 columns</p>\n",
       "</div>"
      ],
      "text/plain": [
       "       test_cas          species conc1_type exposure_type  obs_duration_mean  \\\n",
       "0      100-00-5            rerio          F             F               48.0   \n",
       "1      100-00-5            rerio          F             F               96.0   \n",
       "2      100-01-6            rerio          F             S               96.0   \n",
       "3      100-02-7            rerio          F          AQUA               48.0   \n",
       "4      100-44-7            rerio          F             S               96.0   \n",
       "...         ...              ...        ...           ...                ...   \n",
       "23327   94-75-7             boga          F             R               96.0   \n",
       "23328   94-75-7  neilgherriensis          F             R               24.0   \n",
       "23329   94-75-7  neilgherriensis          F             R               48.0   \n",
       "23330   94-75-7  neilgherriensis          F             R               96.0   \n",
       "23331   95-76-1         pardalis          A             R               96.0   \n",
       "\n",
       "       conc1_mean  atom_number  alone_atom_number  tripleBond  doubleBond  \\\n",
       "0           15.00     0.317908                  2           0           1   \n",
       "1           15.00     0.317908                  2           0           1   \n",
       "2           87.60     0.317908                  2           0           1   \n",
       "3           26.50     0.317908                  2           0           1   \n",
       "4            4.00     0.217006                  0           0           0   \n",
       "...           ...          ...                ...         ...         ...   \n",
       "23327        3.80     0.410746                  0           0           1   \n",
       "23328        7.80     0.410746                  0           0           1   \n",
       "23329        6.80     0.410746                  0           0           1   \n",
       "23330        5.60     0.410746                  0           0           1   \n",
       "23331        5.18     0.273831                  0           0           0   \n",
       "\n",
       "       bonds_number  ring_numer       Mol  MorganDensity    LogP  \\\n",
       "0          0.488106         1.0  0.082505       1.300000  2.2482   \n",
       "1          0.488106         1.0  0.082505       1.300000  2.2482   \n",
       "2          0.488106         1.0  0.072092       1.300000  1.1770   \n",
       "3          0.488106         1.0  0.072622       1.300000  1.3004   \n",
       "4          0.447258         1.0  0.065856       1.125000  2.4254   \n",
       "...             ...         ...       ...            ...     ...   \n",
       "23327      0.537196         1.0  0.115790       1.461538  2.4568   \n",
       "23328      0.537196         1.0  0.115790       1.461538  2.4568   \n",
       "23329      0.537196         1.0  0.115790       1.461538  2.4568   \n",
       "23330      0.537196         1.0  0.115790       1.461538  2.4568   \n",
       "23331      0.468705         1.0  0.084882       1.111111  2.5756   \n",
       "\n",
       "                class           tax_order      family          genus  \n",
       "0      Actinopterygii       Cypriniformes  Cyprinidae          Danio  \n",
       "1      Actinopterygii       Cypriniformes  Cyprinidae          Danio  \n",
       "2      Actinopterygii       Cypriniformes  Cyprinidae          Danio  \n",
       "3      Actinopterygii       Cypriniformes  Cyprinidae          Danio  \n",
       "4      Actinopterygii       Cypriniformes  Cyprinidae          Danio  \n",
       "...               ...                 ...         ...            ...  \n",
       "23327  Actinopterygii       Cypriniformes  Cyprinidae          Labeo  \n",
       "23328  Actinopterygii       Cypriniformes  Cyprinidae        Rasbora  \n",
       "23329  Actinopterygii       Cypriniformes  Cyprinidae        Rasbora  \n",
       "23330  Actinopterygii       Cypriniformes  Cyprinidae        Rasbora  \n",
       "23331  Actinopterygii  Cyprinodontiformes   Goodeidae  Chapalichthys  \n",
       "\n",
       "[23332 rows x 19 columns]"
      ]
     },
     "execution_count": 14,
     "metadata": {},
     "output_type": "execute_result"
    }
   ],
   "source": [
    "use_db"
   ]
  },
  {
   "cell_type": "markdown",
   "metadata": {
    "colab_type": "text",
    "id": "PhKh42M1YvoI"
   },
   "source": [
    "### Simple classification with Smile Features\n",
    "Considering a threshold of 1mg/L of mortality"
   ]
  },
  {
   "cell_type": "code",
   "execution_count": 49,
   "metadata": {
    "colab": {},
    "colab_type": "code",
    "id": "tqgiTnDLYvoJ"
   },
   "outputs": [],
   "source": [
    "X = use_db.copy()\n",
    "X = X[[\n",
    " 'exposure_type',\n",
    " 'obs_duration_mean',\n",
    " 'conc1_type',\n",
    " 'species',\n",
    "    'class', 'tax_order', 'family', 'genus',\n",
    " 'atom_number', \n",
    "    'alone_atom_number', \n",
    "    'tripleBond',\n",
    "       'doubleBond',\n",
    " 'bonds_number',\n",
    "  'ring_numer',\n",
    "  'Mol', \n",
    "  'MorganDensity', 'LogP']]"
   ]
  },
  {
   "cell_type": "code",
   "execution_count": 50,
   "metadata": {
    "colab": {
     "base_uri": "https://localhost:8080/",
     "height": 34
    },
    "colab_type": "code",
    "id": "jSwA91UAYvoM",
    "outputId": "7351216f-36f0-496e-e819-074903e3a47c"
   },
   "outputs": [
    {
     "data": {
      "text/plain": [
       "array(['F', 'S', 'AQUA', 'R', 'E', 'SP', 'P', 'O', 'IP', 'FD'],\n",
       "      dtype=object)"
      ]
     },
     "execution_count": 50,
     "metadata": {},
     "output_type": "execute_result"
    }
   ],
   "source": [
    "X['exposure_type'].unique()"
   ]
  },
  {
   "cell_type": "code",
   "execution_count": 51,
   "metadata": {
    "colab": {
     "base_uri": "https://localhost:8080/",
     "height": 34
    },
    "colab_type": "code",
    "id": "XvZ0iFIGYvoN",
    "outputId": "82da3900-309a-4d12-de0e-89c3667390f1"
   },
   "outputs": [
    {
     "data": {
      "text/plain": [
       "array(['F', 'D', 'T', 'A', 'U', 'L'], dtype=object)"
      ]
     },
     "execution_count": 51,
     "metadata": {},
     "output_type": "execute_result"
    }
   ],
   "source": [
    "X['conc1_type'].unique()"
   ]
  },
  {
   "cell_type": "code",
   "execution_count": 52,
   "metadata": {
    "colab": {
     "base_uri": "https://localhost:8080/",
     "height": 34
    },
    "colab_type": "code",
    "id": "gyKuqaC4YvoQ",
    "outputId": "d82ccede-6281-4677-aa7a-07036fcf77de",
    "scrolled": true
   },
   "outputs": [
    {
     "data": {
      "text/plain": [
       "475"
      ]
     },
     "execution_count": 52,
     "metadata": {},
     "output_type": "execute_result"
    }
   ],
   "source": [
    "len(X['species'].unique())"
   ]
  },
  {
   "cell_type": "markdown",
   "metadata": {
    "colab_type": "text",
    "id": "KGv8CANPYvoR"
   },
   "source": [
    "For this  vaiables we decided to transform than by an OrdinalEncoder, in order to have all numnerical variables"
   ]
  },
  {
   "cell_type": "code",
   "execution_count": 53,
   "metadata": {
    "colab": {},
    "colab_type": "code",
    "id": "uU4VdHDnYvoS"
   },
   "outputs": [],
   "source": [
    "enc = OrdinalEncoder(dtype=int)\n",
    "enc.fit(X[[\"exposure_type\", \"conc1_type\",\"species\", 'class', 'tax_order', 'family', 'genus']])\n",
    "X[[\"exposure_type\", \"conc1_type\",\"species\",  'class', 'tax_order', 'family', 'genus']] = enc.transform(X[[\"exposure_type\", \"conc1_type\",\"species\",  'class', 'tax_order', 'family', 'genus']]) + 1"
   ]
  },
  {
   "cell_type": "code",
   "execution_count": 54,
   "metadata": {
    "colab": {
     "base_uri": "https://localhost:8080/",
     "height": 204
    },
    "colab_type": "code",
    "id": "Z-pqviGOYvoT",
    "outputId": "2e970480-4959-4783-b134-5c42b261a363"
   },
   "outputs": [
    {
     "data": {
      "text/html": [
       "<div>\n",
       "<style scoped>\n",
       "    .dataframe tbody tr th:only-of-type {\n",
       "        vertical-align: middle;\n",
       "    }\n",
       "\n",
       "    .dataframe tbody tr th {\n",
       "        vertical-align: top;\n",
       "    }\n",
       "\n",
       "    .dataframe thead th {\n",
       "        text-align: right;\n",
       "    }\n",
       "</style>\n",
       "<table border=\"1\" class=\"dataframe\">\n",
       "  <thead>\n",
       "    <tr style=\"text-align: right;\">\n",
       "      <th></th>\n",
       "      <th>exposure_type</th>\n",
       "      <th>obs_duration_mean</th>\n",
       "      <th>conc1_type</th>\n",
       "      <th>species</th>\n",
       "      <th>class</th>\n",
       "      <th>tax_order</th>\n",
       "      <th>family</th>\n",
       "      <th>genus</th>\n",
       "      <th>atom_number</th>\n",
       "      <th>alone_atom_number</th>\n",
       "      <th>tripleBond</th>\n",
       "      <th>doubleBond</th>\n",
       "      <th>bonds_number</th>\n",
       "      <th>ring_numer</th>\n",
       "      <th>Mol</th>\n",
       "      <th>MorganDensity</th>\n",
       "      <th>LogP</th>\n",
       "    </tr>\n",
       "  </thead>\n",
       "  <tbody>\n",
       "    <tr>\n",
       "      <td>0</td>\n",
       "      <td>3</td>\n",
       "      <td>48.0</td>\n",
       "      <td>3</td>\n",
       "      <td>379</td>\n",
       "      <td>1</td>\n",
       "      <td>10</td>\n",
       "      <td>35</td>\n",
       "      <td>80</td>\n",
       "      <td>0.317908</td>\n",
       "      <td>2</td>\n",
       "      <td>0</td>\n",
       "      <td>1</td>\n",
       "      <td>0.488106</td>\n",
       "      <td>1.0</td>\n",
       "      <td>0.082505</td>\n",
       "      <td>1.300</td>\n",
       "      <td>2.2482</td>\n",
       "    </tr>\n",
       "    <tr>\n",
       "      <td>1</td>\n",
       "      <td>3</td>\n",
       "      <td>96.0</td>\n",
       "      <td>3</td>\n",
       "      <td>379</td>\n",
       "      <td>1</td>\n",
       "      <td>10</td>\n",
       "      <td>35</td>\n",
       "      <td>80</td>\n",
       "      <td>0.317908</td>\n",
       "      <td>2</td>\n",
       "      <td>0</td>\n",
       "      <td>1</td>\n",
       "      <td>0.488106</td>\n",
       "      <td>1.0</td>\n",
       "      <td>0.082505</td>\n",
       "      <td>1.300</td>\n",
       "      <td>2.2482</td>\n",
       "    </tr>\n",
       "    <tr>\n",
       "      <td>2</td>\n",
       "      <td>9</td>\n",
       "      <td>96.0</td>\n",
       "      <td>3</td>\n",
       "      <td>379</td>\n",
       "      <td>1</td>\n",
       "      <td>10</td>\n",
       "      <td>35</td>\n",
       "      <td>80</td>\n",
       "      <td>0.317908</td>\n",
       "      <td>2</td>\n",
       "      <td>0</td>\n",
       "      <td>1</td>\n",
       "      <td>0.488106</td>\n",
       "      <td>1.0</td>\n",
       "      <td>0.072092</td>\n",
       "      <td>1.300</td>\n",
       "      <td>1.1770</td>\n",
       "    </tr>\n",
       "    <tr>\n",
       "      <td>3</td>\n",
       "      <td>1</td>\n",
       "      <td>48.0</td>\n",
       "      <td>3</td>\n",
       "      <td>379</td>\n",
       "      <td>1</td>\n",
       "      <td>10</td>\n",
       "      <td>35</td>\n",
       "      <td>80</td>\n",
       "      <td>0.317908</td>\n",
       "      <td>2</td>\n",
       "      <td>0</td>\n",
       "      <td>1</td>\n",
       "      <td>0.488106</td>\n",
       "      <td>1.0</td>\n",
       "      <td>0.072622</td>\n",
       "      <td>1.300</td>\n",
       "      <td>1.3004</td>\n",
       "    </tr>\n",
       "    <tr>\n",
       "      <td>4</td>\n",
       "      <td>9</td>\n",
       "      <td>96.0</td>\n",
       "      <td>3</td>\n",
       "      <td>379</td>\n",
       "      <td>1</td>\n",
       "      <td>10</td>\n",
       "      <td>35</td>\n",
       "      <td>80</td>\n",
       "      <td>0.217006</td>\n",
       "      <td>0</td>\n",
       "      <td>0</td>\n",
       "      <td>0</td>\n",
       "      <td>0.447258</td>\n",
       "      <td>1.0</td>\n",
       "      <td>0.065856</td>\n",
       "      <td>1.125</td>\n",
       "      <td>2.4254</td>\n",
       "    </tr>\n",
       "  </tbody>\n",
       "</table>\n",
       "</div>"
      ],
      "text/plain": [
       "   exposure_type  obs_duration_mean  conc1_type  species  class  tax_order  \\\n",
       "0              3               48.0           3      379      1         10   \n",
       "1              3               96.0           3      379      1         10   \n",
       "2              9               96.0           3      379      1         10   \n",
       "3              1               48.0           3      379      1         10   \n",
       "4              9               96.0           3      379      1         10   \n",
       "\n",
       "   family  genus  atom_number  alone_atom_number  tripleBond  doubleBond  \\\n",
       "0      35     80     0.317908                  2           0           1   \n",
       "1      35     80     0.317908                  2           0           1   \n",
       "2      35     80     0.317908                  2           0           1   \n",
       "3      35     80     0.317908                  2           0           1   \n",
       "4      35     80     0.217006                  0           0           0   \n",
       "\n",
       "   bonds_number  ring_numer       Mol  MorganDensity    LogP  \n",
       "0      0.488106         1.0  0.082505          1.300  2.2482  \n",
       "1      0.488106         1.0  0.082505          1.300  2.2482  \n",
       "2      0.488106         1.0  0.072092          1.300  1.1770  \n",
       "3      0.488106         1.0  0.072622          1.300  1.3004  \n",
       "4      0.447258         1.0  0.065856          1.125  2.4254  "
      ]
     },
     "execution_count": 54,
     "metadata": {},
     "output_type": "execute_result"
    }
   ],
   "source": [
    "X.head()"
   ]
  },
  {
   "cell_type": "markdown",
   "metadata": {
    "colab_type": "text",
    "id": "Do7vjkJ5YvoW"
   },
   "source": [
    "We also devide the label, in order to have a binary classification"
   ]
  },
  {
   "cell_type": "code",
   "execution_count": 55,
   "metadata": {
    "colab": {},
    "colab_type": "code",
    "id": "y-yYcPvKYvoX"
   },
   "outputs": [],
   "source": [
    "y = use_db[\"conc1_mean\"].copy().values\n",
    "y = np.where(y > 1, 1, 0)"
   ]
  },
  {
   "cell_type": "code",
   "execution_count": 56,
   "metadata": {
    "colab": {
     "base_uri": "https://localhost:8080/",
     "height": 34
    },
    "colab_type": "code",
    "id": "MtPM1bDIdEGI",
    "outputId": "01f2a7ca-91c7-401e-8cd7-8dbc13155588"
   },
   "outputs": [
    {
     "data": {
      "text/plain": [
       "23332"
      ]
     },
     "execution_count": 56,
     "metadata": {},
     "output_type": "execute_result"
    }
   ],
   "source": [
    "len(X)"
   ]
  },
  {
   "cell_type": "code",
   "execution_count": 57,
   "metadata": {
    "colab": {
     "base_uri": "https://localhost:8080/",
     "height": 34
    },
    "colab_type": "code",
    "id": "orkDIEtlYvoY",
    "outputId": "01aaafa6-d930-4ca8-d47b-eb87c45f696a"
   },
   "outputs": [
    {
     "name": "stdout",
     "output_type": "stream",
     "text": [
      "8566 14766\n"
     ]
    }
   ],
   "source": [
    "print(len(y[y==0]), len(y[y==1]))"
   ]
  },
  {
   "cell_type": "code",
   "execution_count": 58,
   "metadata": {
    "colab": {},
    "colab_type": "code",
    "id": "viBnVgnEYvoa"
   },
   "outputs": [],
   "source": [
    "X_train, X_test, y_train, y_test = train_test_split(X, y, test_size=0.33, random_state=42)"
   ]
  },
  {
   "cell_type": "markdown",
   "metadata": {
    "colab_type": "text",
    "id": "0xCICjY3Yvoc"
   },
   "source": [
    "## KNN"
   ]
  },
  {
   "cell_type": "markdown",
   "metadata": {
    "colab_type": "text",
    "id": "KwfKTpI7Yvod"
   },
   "source": [
    "We first implement a classification by a K Neighbors Classifier"
   ]
  },
  {
   "cell_type": "code",
   "execution_count": 83,
   "metadata": {
    "colab": {},
    "colab_type": "code",
    "id": "i913risRYvoe"
   },
   "outputs": [],
   "source": [
    "neigh = KNeighborsClassifier()\n",
    "neigh.fit(X_train, y_train.ravel())\n",
    "y_pred = neigh.predict(X_test)"
   ]
  },
  {
   "cell_type": "code",
   "execution_count": 84,
   "metadata": {
    "colab": {
     "base_uri": "https://localhost:8080/",
     "height": 34
    },
    "colab_type": "code",
    "id": "M2lfLDtbYvoh",
    "outputId": "113439ba-e6e6-4763-f9f8-d758cbb08250"
   },
   "outputs": [
    {
     "data": {
      "text/plain": [
       "0.7332467532467533"
      ]
     },
     "execution_count": 84,
     "metadata": {},
     "output_type": "execute_result"
    }
   ],
   "source": [
    "accuracy_score(y_test, y_pred)"
   ]
  },
  {
   "cell_type": "markdown",
   "metadata": {
    "colab_type": "text",
    "id": "bycmC74kYvq-"
   },
   "source": [
    "## FROM HERE WE USE THE DISTANCE MATRIX"
   ]
  },
  {
   "cell_type": "code",
   "execution_count": 59,
   "metadata": {
    "colab": {},
    "colab_type": "code",
    "id": "tpOX0WXHYvq_"
   },
   "outputs": [],
   "source": [
    "categorical = [\n",
    "'ring_numer',\n",
    "\"exposure_type\", \n",
    "\"conc1_type\",\"species\",\n",
    "'tripleBond',\n",
    "'obs_duration_mean',\n",
    "'doubleBond',\n",
    "'alone_atom_number',\n",
    "'class', 'tax_order', 'family', 'genus'\n",
    " ]"
   ]
  },
  {
   "cell_type": "code",
   "execution_count": 60,
   "metadata": {
    "colab": {},
    "colab_type": "code",
    "id": "1v6KBgApYvrA"
   },
   "outputs": [],
   "source": [
    "non_categorical =[\n",
    " 'atom_number',\n",
    " 'bonds_number',\n",
    " 'Mol',\n",
    " 'MorganDensity',\n",
    " 'LogP']"
   ]
  },
  {
   "cell_type": "code",
   "execution_count": 61,
   "metadata": {},
   "outputs": [
    {
     "data": {
      "text/plain": [
       "12"
      ]
     },
     "execution_count": 61,
     "metadata": {},
     "output_type": "execute_result"
    }
   ],
   "source": [
    "len(categorical)"
   ]
  },
  {
   "cell_type": "code",
   "execution_count": 62,
   "metadata": {},
   "outputs": [
    {
     "data": {
      "text/plain": [
       "17"
      ]
     },
     "execution_count": 62,
     "metadata": {},
     "output_type": "execute_result"
    }
   ],
   "source": [
    "len(categorical) + len(non_categorical)"
   ]
  },
  {
   "cell_type": "code",
   "execution_count": 63,
   "metadata": {
    "colab": {},
    "colab_type": "code",
    "id": "su5bX3P6YvrE"
   },
   "outputs": [],
   "source": [
    "X_try  =  X#.head(30000)\n",
    "y_try = y#[:30000]"
   ]
  },
  {
   "cell_type": "code",
   "execution_count": 64,
   "metadata": {
    "colab": {},
    "colab_type": "code",
    "id": "tEHtde97YvrF"
   },
   "outputs": [],
   "source": [
    "X_train, X_test, y_train, y_test = train_test_split(X_try, y_try, test_size=0.33, random_state=42)\n",
    "X_try = X_train.append(X_test)"
   ]
  },
  {
   "cell_type": "code",
   "execution_count": 65,
   "metadata": {
    "colab": {},
    "colab_type": "code",
    "id": "-94r4ytzYvrI"
   },
   "outputs": [],
   "source": [
    "import numpy as np\n",
    "from scipy.spatial.distance import hamming\n",
    "from scipy.spatial.distance import pdist\n",
    "from scipy.spatial.distance import squareform\n",
    "\n",
    "def new_distance_matrix(X, len_X_train, cat_features = [], num_features = [], alpha = 1):\n",
    "    ''' inputs: matrix X [num_samples, num_features], the list of the categorical features, the list of the numerical features, weight alpha\n",
    "        output: distance matrix\n",
    "    '''\n",
    "\n",
    "    # Training\n",
    "    X_cat = X[cat_features]\n",
    "    X_num = X[num_features]\n",
    "    dist_matr = alpha * squareform(pdist(X_cat, metric = \"hamming\"))\n",
    "    dist_matr += squareform(pdist(X_num, metric = \"euclidean\"))\n",
    "\n",
    "    dist_matr_train = dist_matr[:len_X_train,:len_X_train]\n",
    "    dist_matr_test = dist_matr[len_X_train:,:len_X_train]\n",
    "\n",
    "    return dist_matr_train, dist_matr_test\n"
   ]
  },
  {
   "cell_type": "code",
   "execution_count": 30,
   "metadata": {
    "colab": {},
    "colab_type": "code",
    "id": "AkmjAzipYvrK"
   },
   "outputs": [],
   "source": [
    "# len_X_train = len(X_train)\n",
    "# X_train_new, X_test_new = new_distance_matrix(X_try, len_X_train, categorical,non_categorical, alpha = 5)"
   ]
  },
  {
   "cell_type": "code",
   "execution_count": 28,
   "metadata": {
    "colab": {
     "base_uri": "https://localhost:8080/",
     "height": 34
    },
    "colab_type": "code",
    "id": "ivlJwkqyYvrN",
    "outputId": "abdc4adf-656e-4bcf-a7b1-5dacd3d32929"
   },
   "outputs": [
    {
     "data": {
      "text/plain": [
       "(15647, 15647)"
      ]
     },
     "execution_count": 28,
     "metadata": {},
     "output_type": "execute_result"
    }
   ],
   "source": [
    "X_train_new.shape"
   ]
  },
  {
   "cell_type": "code",
   "execution_count": 29,
   "metadata": {
    "colab": {
     "base_uri": "https://localhost:8080/",
     "height": 34
    },
    "colab_type": "code",
    "id": "HHtIJGaqYvrR",
    "outputId": "3ce2fe70-d7b3-47f9-8287-97b28707e0c5"
   },
   "outputs": [
    {
     "data": {
      "text/plain": [
       "(7708, 15647)"
      ]
     },
     "execution_count": 29,
     "metadata": {},
     "output_type": "execute_result"
    }
   ],
   "source": [
    "X_test_new.shape"
   ]
  },
  {
   "cell_type": "code",
   "execution_count": 30,
   "metadata": {
    "colab": {},
    "colab_type": "code",
    "id": "O30AmpDFYvrW"
   },
   "outputs": [],
   "source": [
    "neigh = KNeighborsClassifier(metric = 'precomputed')\n",
    "neigh.fit(X_train_new, y_train.ravel())\n",
    "y_pred = neigh.predict(X_test_new)"
   ]
  },
  {
   "cell_type": "code",
   "execution_count": 31,
   "metadata": {
    "colab": {
     "base_uri": "https://localhost:8080/",
     "height": 34
    },
    "colab_type": "code",
    "id": "pmoPshQqYvrb",
    "outputId": "a5ecce55-305d-4e50-fa9b-f7e3470b13c7"
   },
   "outputs": [
    {
     "data": {
      "text/plain": [
       "0.8609237156201349"
      ]
     },
     "execution_count": 31,
     "metadata": {},
     "output_type": "execute_result"
    }
   ],
   "source": [
    "accuracy_score(y_test, y_pred)"
   ]
  },
  {
   "cell_type": "markdown",
   "metadata": {},
   "source": [
    "## Best features analysis"
   ]
  },
  {
   "cell_type": "code",
   "execution_count": 31,
   "metadata": {},
   "outputs": [],
   "source": [
    "import numpy as np\n",
    "from scipy.spatial.distance import hamming\n",
    "from scipy.spatial.distance import pdist\n",
    "from scipy.spatial.distance import squareform\n",
    "\n",
    "def new_distance_matrix_selective(X, len_X_train, cat_features = [], num_features = [], alpha = 1):\n",
    "    ''' inputs: matrix X [num_samples, num_features], the list of the categorical features, the list of the numerical features, weight alpha\n",
    "        output: distance matrix\n",
    "    '''\n",
    "\n",
    "    # Training\n",
    "    X_cat = X[cat_features]\n",
    "    X_num = X[num_features]\n",
    "    \n",
    "    if (len(cat_features)!=0 and len(num_features)):\n",
    "        dist_matr = alpha * squareform(pdist(X_cat, metric = \"hamming\"))\n",
    "        dist_matr += squareform(pdist(X_num, metric = \"euclidean\"))\n",
    "    elif(len(cat_features)!=0):\n",
    "        dist_matr = alpha * squareform(pdist(X_cat, metric = \"hamming\"))\n",
    "    else:\n",
    "        dist_matr = squareform(pdist(X_num, metric = \"euclidean\"))\n",
    "\n",
    "    dist_matr_train = dist_matr[:len_X_train,:len_X_train]\n",
    "    dist_matr_test = dist_matr[len_X_train:,:len_X_train]\n",
    "\n",
    "    return dist_matr_train, dist_matr_test\n"
   ]
  },
  {
   "cell_type": "code",
   "execution_count": 32,
   "metadata": {},
   "outputs": [
    {
     "name": "stdout",
     "output_type": "stream",
     "text": [
      "Starting k = 1\n",
      "Best combination found! Acc: 0.814608199273482, features: cat: [], non_cat:['LogP']\n",
      "Starting k = 2\n",
      "Best combination found! Acc: 0.8319927348209653, features: cat: [], non_cat:['MorganDensity', 'LogP']\n",
      "Starting k = 3\n",
      "Best combination found! Acc: 0.8423715620134925, features: cat: [], non_cat:['Mol', 'MorganDensity', 'LogP']\n",
      "Starting k = 4\n",
      "Best combination found! Acc: 0.8458744161909704, features: cat: [], non_cat:['bonds_number', 'Mol', 'MorganDensity', 'LogP']\n",
      "Starting k = 5\n",
      "Best combination found! Acc: 0.8473015049299429, features: cat: [], non_cat:['atom_number', 'bonds_number', 'Mol', 'MorganDensity', 'LogP']\n",
      "Starting k = 6\n",
      "Starting k = 7\n",
      "Starting k = 8\n",
      "Starting k = 9\n",
      "Starting k = 10\n",
      "Starting k = 11\n",
      "Best combination found! Acc: 0.8484691229891023, features: cat: ['doubleBond', 'alone_atom_number', 'class', 'tax_order', 'family', 'genus'], non_cat:['atom_number', 'bonds_number', 'Mol', 'MorganDensity', 'LogP']\n",
      "Starting k = 12\n",
      "Best combination found! Acc: 0.8613129216398547, features: cat: ['obs_duration_mean', 'doubleBond', 'alone_atom_number', 'class', 'tax_order', 'family', 'genus'], non_cat:['atom_number', 'bonds_number', 'Mol', 'MorganDensity', 'LogP']\n",
      "Starting k = 13\n",
      "Best combination found! Acc: 0.8622210690192008, features: cat: ['tripleBond', 'obs_duration_mean', 'doubleBond', 'alone_atom_number', 'class', 'tax_order', 'family', 'genus'], non_cat:['atom_number', 'bonds_number', 'Mol', 'MorganDensity', 'LogP']\n",
      "Starting k = 14\n",
      "Starting k = 15\n",
      "Best combination found! Acc: 0.8661131292163985, features: cat: ['conc1_type', 'species', 'tripleBond', 'obs_duration_mean', 'doubleBond', 'alone_atom_number', 'class', 'tax_order', 'family', 'genus'], non_cat:['atom_number', 'bonds_number', 'Mol', 'MorganDensity', 'LogP']\n",
      "Starting k = 16\n",
      "Best combination found! Acc: 0.8698754540736897, features: cat: ['exposure_type', 'conc1_type', 'species', 'tripleBond', 'obs_duration_mean', 'doubleBond', 'alone_atom_number', 'class', 'tax_order', 'family', 'genus'], non_cat:['atom_number', 'bonds_number', 'Mol', 'MorganDensity', 'LogP']\n",
      "Starting k = 17\n",
      "Best combination found! Acc: 0.8755838090295797, features: cat: ['ring_numer', 'exposure_type', 'conc1_type', 'species', 'tripleBond', 'obs_duration_mean', 'doubleBond', 'alone_atom_number', 'class', 'tax_order', 'family', 'genus'], non_cat:['atom_number', 'bonds_number', 'Mol', 'MorganDensity', 'LogP']\n"
     ]
    }
   ],
   "source": [
    "import itertools\n",
    "np.random.seed(13)\n",
    "\n",
    "best_acc = 0\n",
    "best_comb = []\n",
    "best_cat = []\n",
    "best_non_cat = []\n",
    "\n",
    "poss_features = np.array(categorical + non_categorical)\n",
    "for k in range(1, 18):\n",
    "    print(\"Starting k =\",k)\n",
    "    poss_comb = list(itertools.combinations(range(0,17),k))\n",
    "    for c in poss_comb:\n",
    "        cat = []\n",
    "        non_cat = []\n",
    "    for i in list(c):\n",
    "        if i in range(0, 12):\n",
    "            cat.append(poss_features[i])\n",
    "        else:\n",
    "            non_cat.append(poss_features[i])\n",
    "\n",
    "    len_X_train = len(X_train)\n",
    "    X_train_new, X_test_new = new_distance_matrix_selective(X_try, len_X_train, cat,non_cat, alpha = 1)\n",
    "    \n",
    "    neigh = KNeighborsClassifier(metric = 'precomputed')\n",
    "    neigh.fit(X_train_new, y_train.ravel())\n",
    "    y_pred = neigh.predict(X_test_new)\n",
    "    \n",
    "    acc = accuracy_score(y_test, y_pred)\n",
    "\n",
    "    if acc>best_acc:\n",
    "        best_acc = acc\n",
    "        best_cat = cat\n",
    "        best_non_cat = non_cat\n",
    "        print(\"Best combination found! Acc: {}, features: cat: {}, non_cat:{}\".format(best_acc, best_cat, best_non_cat))\n",
    "    \n",
    "    del X_train_new, X_test_new"
   ]
  },
  {
   "cell_type": "markdown",
   "metadata": {
    "colab_type": "text",
    "id": "0SNGddLKiND3"
   },
   "source": [
    "## CV"
   ]
  },
  {
   "cell_type": "code",
   "execution_count": 66,
   "metadata": {
    "colab": {},
    "colab_type": "code",
    "id": "SuXzO0m9iMYB"
   },
   "outputs": [],
   "source": [
    "from sklearn.model_selection import KFold\n",
    "\n",
    "def cv_new_distance(X, y, cat_features = [], num_features = [], alphas = [], ks = [], leafs=[]):\n",
    "    np.random.seed(13)\n",
    "    best_accuracy = 0\n",
    "    best_alpha = 0\n",
    "    best_k = 0\n",
    "    best_leaf = 0\n",
    "    \n",
    "    X_cat = X[cat_features]\n",
    "    X_num = X[num_features]\n",
    "    dist_matr_num = squareform(pdist(X_num, metric = \"euclidean\"))\n",
    "\n",
    "\n",
    "    for alpha in alphas:\n",
    "        for k in ks:\n",
    "            for leaf in leafs:\n",
    "                \n",
    "                dist_matr = alpha * squareform(pdist(X_cat, metric = \"hamming\"))\n",
    "                dist_matr += dist_matr_num\n",
    "                dist_matr = pd.DataFrame(dist_matr)\n",
    "\n",
    "                kf = KFold(n_splits=5, shuffle=True)\n",
    "                accs = []\n",
    "                for train_index, test_index in kf.split(dist_matr):\n",
    "                    \n",
    "                    X_train = dist_matr.iloc[train_index, train_index]\n",
    "                    X_test = dist_matr.iloc[test_index, train_index]\n",
    "                    y_train = y[train_index]\n",
    "                    y_test = y[test_index]\n",
    "\n",
    "                    neigh = KNeighborsClassifier(metric = 'precomputed', n_neighbors=k, n_jobs=-2, leaf_size=leaf)\n",
    "                    neigh.fit(X_train, y_train.ravel())\n",
    "                    y_pred = neigh.predict(X_test)\n",
    "\n",
    "                    accs.append(accuracy_score(y_test, y_pred))\n",
    "\n",
    "                avg_acc = np.mean(accs)\n",
    "                if (avg_acc > best_accuracy):\n",
    "                    print(\"New best params found! alpha:{}, k:{}, leaf:{}, acc:{}\".format(alpha, k, leaf, avg_acc))\n",
    "                    best_alpha = alpha\n",
    "                    best_k = k\n",
    "                    best_accuracy = avg_acc\n",
    "                    best_leaf = leaf\n",
    "\n",
    "    return best_accuracy, best_alpha, best_k, best_leaf\n"
   ]
  },
  {
   "cell_type": "code",
   "execution_count": 67,
   "metadata": {
    "colab": {
     "base_uri": "https://localhost:8080/",
     "height": 476
    },
    "colab_type": "code",
    "id": "K7GzXh5Vva58",
    "outputId": "82555c21-da15-42f3-a2b3-c5ca1970fab1"
   },
   "outputs": [
    {
     "name": "stdout",
     "output_type": "stream",
     "text": [
      "New best params found! alpha:0.001, k:1, leaf:30, acc:0.8934877353477779\n",
      "New best params found! alpha:0.001, k:1, leaf:40, acc:0.8957908960018626\n",
      "New best params found! alpha:0.001, k:1, leaf:50, acc:0.8969423433366049\n",
      "New best params found! alpha:0.001, k:1, leaf:90, acc:0.8979019339331081\n",
      "New best params found! alpha:0.0016102620275609393, k:1, leaf:60, acc:0.8984773609253482\n"
     ]
    },
    {
     "ename": "KeyboardInterrupt",
     "evalue": "",
     "output_type": "error",
     "traceback": [
      "\u001b[1;31m---------------------------------------------------------------------------\u001b[0m",
      "\u001b[1;31mKeyboardInterrupt\u001b[0m                         Traceback (most recent call last)",
      "\u001b[1;32m<ipython-input-67-d0fd3cd51138>\u001b[0m in \u001b[0;36m<module>\u001b[1;34m\u001b[0m\n\u001b[0;32m      2\u001b[0m \u001b[0mks\u001b[0m \u001b[1;33m=\u001b[0m \u001b[0mrange\u001b[0m\u001b[1;33m(\u001b[0m\u001b[1;36m1\u001b[0m\u001b[1;33m,\u001b[0m \u001b[1;36m5\u001b[0m\u001b[1;33m)\u001b[0m\u001b[1;33m\u001b[0m\u001b[1;33m\u001b[0m\u001b[0m\n\u001b[0;32m      3\u001b[0m \u001b[0mleafs\u001b[0m \u001b[1;33m=\u001b[0m \u001b[0mrange\u001b[0m\u001b[1;33m(\u001b[0m\u001b[1;36m30\u001b[0m\u001b[1;33m,\u001b[0m \u001b[1;36m101\u001b[0m\u001b[1;33m,\u001b[0m \u001b[1;36m10\u001b[0m\u001b[1;33m)\u001b[0m\u001b[1;33m\u001b[0m\u001b[1;33m\u001b[0m\u001b[0m\n\u001b[1;32m----> 4\u001b[1;33m \u001b[0mbest_acc\u001b[0m\u001b[1;33m,\u001b[0m \u001b[0mbest_alpha\u001b[0m\u001b[1;33m,\u001b[0m \u001b[0mbest_k\u001b[0m\u001b[1;33m,\u001b[0m \u001b[0mbest_leaf\u001b[0m \u001b[1;33m=\u001b[0m \u001b[0mcv_new_distance\u001b[0m\u001b[1;33m(\u001b[0m\u001b[0mX_train\u001b[0m\u001b[1;33m,\u001b[0m \u001b[0my_train\u001b[0m\u001b[1;33m,\u001b[0m \u001b[0mcategorical\u001b[0m\u001b[1;33m,\u001b[0m \u001b[0mnon_categorical\u001b[0m\u001b[1;33m,\u001b[0m \u001b[0malphas\u001b[0m\u001b[1;33m,\u001b[0m \u001b[0mks\u001b[0m\u001b[1;33m,\u001b[0m \u001b[0mleafs\u001b[0m\u001b[1;33m)\u001b[0m\u001b[1;33m\u001b[0m\u001b[1;33m\u001b[0m\u001b[0m\n\u001b[0m",
      "\u001b[1;32m<ipython-input-66-224b418109ae>\u001b[0m in \u001b[0;36mcv_new_distance\u001b[1;34m(X, y, cat_features, num_features, alphas, ks, leafs)\u001b[0m\n\u001b[0;32m     17\u001b[0m             \u001b[1;32mfor\u001b[0m \u001b[0mleaf\u001b[0m \u001b[1;32min\u001b[0m \u001b[0mleafs\u001b[0m\u001b[1;33m:\u001b[0m\u001b[1;33m\u001b[0m\u001b[1;33m\u001b[0m\u001b[0m\n\u001b[0;32m     18\u001b[0m \u001b[1;33m\u001b[0m\u001b[0m\n\u001b[1;32m---> 19\u001b[1;33m                 \u001b[0mdist_matr\u001b[0m \u001b[1;33m=\u001b[0m \u001b[0malpha\u001b[0m \u001b[1;33m*\u001b[0m \u001b[0msquareform\u001b[0m\u001b[1;33m(\u001b[0m\u001b[0mpdist\u001b[0m\u001b[1;33m(\u001b[0m\u001b[0mX_cat\u001b[0m\u001b[1;33m,\u001b[0m \u001b[0mmetric\u001b[0m \u001b[1;33m=\u001b[0m \u001b[1;34m\"hamming\"\u001b[0m\u001b[1;33m)\u001b[0m\u001b[1;33m)\u001b[0m\u001b[1;33m\u001b[0m\u001b[1;33m\u001b[0m\u001b[0m\n\u001b[0m\u001b[0;32m     20\u001b[0m                 \u001b[0mdist_matr\u001b[0m \u001b[1;33m+=\u001b[0m \u001b[0mdist_matr_num\u001b[0m\u001b[1;33m\u001b[0m\u001b[1;33m\u001b[0m\u001b[0m\n\u001b[0;32m     21\u001b[0m                 \u001b[0mdist_matr\u001b[0m \u001b[1;33m=\u001b[0m \u001b[0mpd\u001b[0m\u001b[1;33m.\u001b[0m\u001b[0mDataFrame\u001b[0m\u001b[1;33m(\u001b[0m\u001b[0mdist_matr\u001b[0m\u001b[1;33m)\u001b[0m\u001b[1;33m\u001b[0m\u001b[1;33m\u001b[0m\u001b[0m\n",
      "\u001b[1;32m~\\Anaconda3\\envs\\ml\\lib\\site-packages\\scipy\\spatial\\distance.py\u001b[0m in \u001b[0;36mpdist\u001b[1;34m(X, metric, *args, **kwargs)\u001b[0m\n\u001b[0;32m   2064\u001b[0m             pdist_fn = getattr(_distance_wrap,\n\u001b[0;32m   2065\u001b[0m                                \"pdist_%s_%s_wrap\" % (metric_name, typ))\n\u001b[1;32m-> 2066\u001b[1;33m             \u001b[0mpdist_fn\u001b[0m\u001b[1;33m(\u001b[0m\u001b[0mX\u001b[0m\u001b[1;33m,\u001b[0m \u001b[0mdm\u001b[0m\u001b[1;33m,\u001b[0m \u001b[1;33m**\u001b[0m\u001b[0mkwargs\u001b[0m\u001b[1;33m)\u001b[0m\u001b[1;33m\u001b[0m\u001b[1;33m\u001b[0m\u001b[0m\n\u001b[0m\u001b[0;32m   2067\u001b[0m             \u001b[1;32mreturn\u001b[0m \u001b[0mdm\u001b[0m\u001b[1;33m\u001b[0m\u001b[1;33m\u001b[0m\u001b[0m\n\u001b[0;32m   2068\u001b[0m \u001b[1;33m\u001b[0m\u001b[0m\n",
      "\u001b[1;31mKeyboardInterrupt\u001b[0m: "
     ]
    }
   ],
   "source": [
    "alphas = np.logspace(-3, 0, 30)\n",
    "ks = range(1, 5)\n",
    "leafs = range(30, 101, 10)\n",
    "best_acc, best_alpha, best_k, best_leaf = cv_new_distance(X_train, y_train, categorical, non_categorical, alphas, ks, leafs)"
   ]
  },
  {
   "cell_type": "markdown",
   "metadata": {
    "colab_type": "text",
    "id": "dze_cpLgoTlj"
   },
   "source": [
    "# First test (No feature selection)"
   ]
  },
  {
   "cell_type": "code",
   "execution_count": 28,
   "metadata": {
    "colab": {},
    "colab_type": "code",
    "id": "CoidnMBf-dlf"
   },
   "outputs": [],
   "source": [
    "best_alpha = 0.3359818286283781"
   ]
  },
  {
   "cell_type": "code",
   "execution_count": 29,
   "metadata": {
    "colab": {},
    "colab_type": "code",
    "id": "JzL1JE9na1_W"
   },
   "outputs": [],
   "source": [
    "best_k = 3"
   ]
  },
  {
   "cell_type": "code",
   "execution_count": 30,
   "metadata": {
    "colab": {},
    "colab_type": "code",
    "id": "TUveZXTa-sOy"
   },
   "outputs": [],
   "source": [
    "best_leaf = 50"
   ]
  },
  {
   "cell_type": "code",
   "execution_count": 31,
   "metadata": {
    "colab": {},
    "colab_type": "code",
    "id": "s4Y5wnDT-64i"
   },
   "outputs": [],
   "source": [
    "len_X_train = len(X_train)\n",
    "X_train_new, X_test_new = new_distance_matrix(X_try, len_X_train, categorical,non_categorical, alpha = best_alpha)\n",
    "neigh = KNeighborsClassifier(metric = 'precomputed', n_neighbors=best_k, leaf_size=best_leaf)\n",
    "neigh.fit(X_train_new, y_train.ravel())\n",
    "y_pred = neigh.predict(X_test_new)"
   ]
  },
  {
   "cell_type": "code",
   "execution_count": 32,
   "metadata": {
    "colab": {
     "base_uri": "https://localhost:8080/",
     "height": 34
    },
    "colab_type": "code",
    "id": "hdOwZ_Yr_Jhz",
    "outputId": "7210190e-7515-4dc1-ab62-d31250c13049"
   },
   "outputs": [
    {
     "data": {
      "text/plain": [
       "0.8779220779220779"
      ]
     },
     "execution_count": 32,
     "metadata": {},
     "output_type": "execute_result"
    }
   ],
   "source": [
    "accuracy_score(y_test, y_pred)"
   ]
  },
  {
   "cell_type": "code",
   "execution_count": 33,
   "metadata": {},
   "outputs": [
    {
     "data": {
      "text/plain": [
       "0.3493965112560829"
      ]
     },
     "execution_count": 33,
     "metadata": {},
     "output_type": "execute_result"
    }
   ],
   "source": [
    "from math import sqrt\n",
    "from sklearn.metrics import mean_squared_error\n",
    "sqrt(mean_squared_error(y_test, y_pred))"
   ]
  },
  {
   "cell_type": "markdown",
   "metadata": {
    "colab_type": "text",
    "id": "bgq235cZuuDc"
   },
   "source": [
    "# Second test (all 17 features)"
   ]
  },
  {
   "cell_type": "code",
   "execution_count": 30,
   "metadata": {},
   "outputs": [],
   "source": [
    "# range used\n",
    "# alphas = np.logspace(-1, 2, 30)\n",
    "# ks = range(1, 5)\n",
    "# leafs = range(30, 101, 10)\n",
    "# best_acc, best_alpha, best_k, best_leaf = cv_new_distance(X_train, y_train, categorical, non_categorical, alphas, ks, leafs)"
   ]
  },
  {
   "cell_type": "code",
   "execution_count": 31,
   "metadata": {
    "colab": {
     "base_uri": "https://localhost:8080/",
     "height": 85
    },
    "colab_type": "code",
    "id": "qdqhKzujYvrj",
    "outputId": "5a5777bc-2255-468e-d4a4-c3dc9d2b9bff"
   },
   "outputs": [],
   "source": [
    "best_alpha = 0.0016102620275609393\n",
    "best_leaf = 70\n",
    "best_k = 1"
   ]
  },
  {
   "cell_type": "code",
   "execution_count": 34,
   "metadata": {
    "colab": {},
    "colab_type": "code",
    "id": "gPuH9lzAuSMf"
   },
   "outputs": [],
   "source": [
    "len_X_train = len(X_train)\n",
    "X_train_new, X_test_new = new_distance_matrix(X_try, len_X_train, categorical,non_categorical, alpha = best_alpha)\n",
    "neigh = KNeighborsClassifier(metric = 'precomputed', n_neighbors=best_k, leaf_size=best_leaf)\n",
    "neigh.fit(X_train_new, y_train.ravel())\n",
    "y_pred = neigh.predict(X_test_new)"
   ]
  },
  {
   "cell_type": "code",
   "execution_count": 35,
   "metadata": {
    "colab": {
     "base_uri": "https://localhost:8080/",
     "height": 34
    },
    "colab_type": "code",
    "id": "IKrOOxUbug3l",
    "outputId": "c7a53ca0-3f69-425f-89c0-8c4e7f3c984c"
   },
   "outputs": [
    {
     "data": {
      "text/plain": [
       "0.9002597402597402"
      ]
     },
     "execution_count": 35,
     "metadata": {},
     "output_type": "execute_result"
    }
   ],
   "source": [
    "accuracy_score(y_test, y_pred)"
   ]
  },
  {
   "cell_type": "code",
   "execution_count": null,
   "metadata": {},
   "outputs": [],
   "source": []
  }
 ],
 "metadata": {
  "colab": {
   "collapsed_sections": [
    "QUJxptrHYvoI",
    "EacKUDQ0YvpA",
    "7wWLbLF_Yvpv",
    "P5Nu0YFSYvqD",
    "K5RZmkuFYvqN",
    "opQauLFVYvqY"
   ],
   "machine_shape": "hm",
   "name": "Classification_with_KNN_Matrix_distance.ipynb",
   "provenance": []
  },
  "kernelspec": {
   "display_name": "Python [conda env:ml] *",
   "language": "python",
   "name": "conda-env-ml-py"
  },
  "language_info": {
   "codemirror_mode": {
    "name": "ipython",
    "version": 3
   },
   "file_extension": ".py",
   "mimetype": "text/x-python",
   "name": "python",
   "nbconvert_exporter": "python",
   "pygments_lexer": "ipython3",
   "version": "3.7.4"
  },
  "latex_envs": {
   "LaTeX_envs_menu_present": true,
   "autoclose": false,
   "autocomplete": true,
   "bibliofile": "biblio.bib",
   "cite_by": "apalike",
   "current_citInitial": 1,
   "eqLabelWithNumbers": true,
   "eqNumInitial": 1,
   "hotkeys": {
    "equation": "Ctrl-E",
    "itemize": "Ctrl-I"
   },
   "labels_anchors": false,
   "latex_user_defs": false,
   "report_style_numbering": false,
   "user_envs_cfg": false
  },
  "varInspector": {
   "cols": {
    "lenName": 16,
    "lenType": 16,
    "lenVar": 40
   },
   "kernels_config": {
    "python": {
     "delete_cmd_postfix": "",
     "delete_cmd_prefix": "del ",
     "library": "var_list.py",
     "varRefreshCmd": "print(var_dic_list())"
    },
    "r": {
     "delete_cmd_postfix": ") ",
     "delete_cmd_prefix": "rm(",
     "library": "var_list.r",
     "varRefreshCmd": "cat(var_dic_list()) "
    }
   },
   "types_to_exclude": [
    "module",
    "function",
    "builtin_function_or_method",
    "instance",
    "_Feature"
   ],
   "window_display": false
  }
 },
 "nbformat": 4,
 "nbformat_minor": 4
}
