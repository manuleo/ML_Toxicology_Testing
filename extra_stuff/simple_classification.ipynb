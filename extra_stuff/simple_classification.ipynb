{
 "cells": [
  {
   "cell_type": "code",
   "execution_count": 1,
   "metadata": {},
   "outputs": [],
   "source": [
    "import pandas as pd\n",
    "import numpy as np\n",
    "import matplotlib.pyplot as plt\n",
    "import seaborn as sns\n",
    "import re\n",
    "from sklearn.preprocessing import StandardScaler\n",
    "from sklearn.preprocessing import MinMaxScaler"
   ]
  },
  {
   "cell_type": "code",
   "execution_count": 2,
   "metadata": {},
   "outputs": [],
   "source": [
    "from sklearn.model_selection import train_test_split\n",
    "from sklearn.neighbors import KNeighborsClassifier\n",
    "from sklearn.metrics import accuracy_score\n",
    "from sklearn.ensemble import RandomForestClassifier\n",
    "from sklearn.ensemble import GradientBoostingClassifier\n",
    "from sklearn.model_selection import GridSearchCV\n",
    "from sklearn.linear_model import RidgeCV\n",
    "from sklearn.metrics import mean_squared_error\n",
    "from sklearn.preprocessing import OrdinalEncoder"
   ]
  },
  {
   "cell_type": "code",
   "execution_count": 3,
   "metadata": {},
   "outputs": [],
   "source": [
    "plt.rcParams['figure.figsize'] = (15, 8)"
   ]
  },
  {
   "cell_type": "code",
   "execution_count": 4,
   "metadata": {},
   "outputs": [
    {
     "data": {
      "text/html": [
       "<div>\n",
       "<style scoped>\n",
       "    .dataframe tbody tr th:only-of-type {\n",
       "        vertical-align: middle;\n",
       "    }\n",
       "\n",
       "    .dataframe tbody tr th {\n",
       "        vertical-align: top;\n",
       "    }\n",
       "\n",
       "    .dataframe thead th {\n",
       "        text-align: right;\n",
       "    }\n",
       "</style>\n",
       "<table border=\"1\" class=\"dataframe\">\n",
       "  <thead>\n",
       "    <tr style=\"text-align: right;\">\n",
       "      <th></th>\n",
       "      <th>test_cas</th>\n",
       "      <th>exposure_type</th>\n",
       "      <th>obs_duration_mean</th>\n",
       "      <th>conc1_type</th>\n",
       "      <th>conc1_mean</th>\n",
       "      <th>class</th>\n",
       "      <th>tax_order</th>\n",
       "      <th>family</th>\n",
       "      <th>genus</th>\n",
       "      <th>species</th>\n",
       "      <th>atom_number</th>\n",
       "      <th>alone_atom_number</th>\n",
       "      <th>tripleBond</th>\n",
       "      <th>doubleBond</th>\n",
       "      <th>bonds_number</th>\n",
       "      <th>ring_numer</th>\n",
       "      <th>Mol</th>\n",
       "      <th>MorganDensity</th>\n",
       "      <th>LogP</th>\n",
       "    </tr>\n",
       "  </thead>\n",
       "  <tbody>\n",
       "    <tr>\n",
       "      <td>0</td>\n",
       "      <td>10108-64-2</td>\n",
       "      <td>S</td>\n",
       "      <td>48.0</td>\n",
       "      <td>T</td>\n",
       "      <td>46.900</td>\n",
       "      <td>Actinopterygii</td>\n",
       "      <td>Cypriniformes</td>\n",
       "      <td>Cyprinidae</td>\n",
       "      <td>Carassius</td>\n",
       "      <td>auratus</td>\n",
       "      <td>0.273831</td>\n",
       "      <td>3</td>\n",
       "      <td>0</td>\n",
       "      <td>0</td>\n",
       "      <td>0.0</td>\n",
       "      <td>0.0</td>\n",
       "      <td>0.096146</td>\n",
       "      <td>0.666667</td>\n",
       "      <td>-5.9945</td>\n",
       "    </tr>\n",
       "    <tr>\n",
       "      <td>1</td>\n",
       "      <td>10108-64-2</td>\n",
       "      <td>S</td>\n",
       "      <td>24.0</td>\n",
       "      <td>T</td>\n",
       "      <td>200.000</td>\n",
       "      <td>Actinopterygii</td>\n",
       "      <td>Cyprinodontiformes</td>\n",
       "      <td>Cyprinodontidae</td>\n",
       "      <td>Fundulus</td>\n",
       "      <td>heteroclitus</td>\n",
       "      <td>0.273831</td>\n",
       "      <td>3</td>\n",
       "      <td>0</td>\n",
       "      <td>0</td>\n",
       "      <td>0.0</td>\n",
       "      <td>0.0</td>\n",
       "      <td>0.096146</td>\n",
       "      <td>0.666667</td>\n",
       "      <td>-5.9945</td>\n",
       "    </tr>\n",
       "    <tr>\n",
       "      <td>2</td>\n",
       "      <td>10108-64-2</td>\n",
       "      <td>F</td>\n",
       "      <td>96.0</td>\n",
       "      <td>T</td>\n",
       "      <td>0.001</td>\n",
       "      <td>Actinopterygii</td>\n",
       "      <td>Salmoniformes</td>\n",
       "      <td>Salmonidae</td>\n",
       "      <td>Oncorhynchus</td>\n",
       "      <td>mykiss</td>\n",
       "      <td>0.273831</td>\n",
       "      <td>3</td>\n",
       "      <td>0</td>\n",
       "      <td>0</td>\n",
       "      <td>0.0</td>\n",
       "      <td>0.0</td>\n",
       "      <td>0.096146</td>\n",
       "      <td>0.666667</td>\n",
       "      <td>-5.9945</td>\n",
       "    </tr>\n",
       "    <tr>\n",
       "      <td>3</td>\n",
       "      <td>10108-64-2</td>\n",
       "      <td>S</td>\n",
       "      <td>96.0</td>\n",
       "      <td>T</td>\n",
       "      <td>15.900</td>\n",
       "      <td>Actinopterygii</td>\n",
       "      <td>Cyprinodontiformes</td>\n",
       "      <td>Cyprinodontidae</td>\n",
       "      <td>Cyprinodon</td>\n",
       "      <td>variegatus</td>\n",
       "      <td>0.273831</td>\n",
       "      <td>3</td>\n",
       "      <td>0</td>\n",
       "      <td>0</td>\n",
       "      <td>0.0</td>\n",
       "      <td>0.0</td>\n",
       "      <td>0.096146</td>\n",
       "      <td>0.666667</td>\n",
       "      <td>-5.9945</td>\n",
       "    </tr>\n",
       "    <tr>\n",
       "      <td>4</td>\n",
       "      <td>10108-64-2</td>\n",
       "      <td>F</td>\n",
       "      <td>694.0</td>\n",
       "      <td>T</td>\n",
       "      <td>0.030</td>\n",
       "      <td>Actinopterygii</td>\n",
       "      <td>Salmoniformes</td>\n",
       "      <td>Salmonidae</td>\n",
       "      <td>Oncorhynchus</td>\n",
       "      <td>mykiss</td>\n",
       "      <td>0.273831</td>\n",
       "      <td>3</td>\n",
       "      <td>0</td>\n",
       "      <td>0</td>\n",
       "      <td>0.0</td>\n",
       "      <td>0.0</td>\n",
       "      <td>0.096146</td>\n",
       "      <td>0.666667</td>\n",
       "      <td>-5.9945</td>\n",
       "    </tr>\n",
       "  </tbody>\n",
       "</table>\n",
       "</div>"
      ],
      "text/plain": [
       "     test_cas exposure_type  obs_duration_mean conc1_type  conc1_mean  \\\n",
       "0  10108-64-2             S               48.0          T      46.900   \n",
       "1  10108-64-2             S               24.0          T     200.000   \n",
       "2  10108-64-2             F               96.0          T       0.001   \n",
       "3  10108-64-2             S               96.0          T      15.900   \n",
       "4  10108-64-2             F              694.0          T       0.030   \n",
       "\n",
       "            class           tax_order           family         genus  \\\n",
       "0  Actinopterygii       Cypriniformes       Cyprinidae     Carassius   \n",
       "1  Actinopterygii  Cyprinodontiformes  Cyprinodontidae      Fundulus   \n",
       "2  Actinopterygii       Salmoniformes       Salmonidae  Oncorhynchus   \n",
       "3  Actinopterygii  Cyprinodontiformes  Cyprinodontidae    Cyprinodon   \n",
       "4  Actinopterygii       Salmoniformes       Salmonidae  Oncorhynchus   \n",
       "\n",
       "        species  atom_number  alone_atom_number  tripleBond  doubleBond  \\\n",
       "0       auratus     0.273831                  3           0           0   \n",
       "1  heteroclitus     0.273831                  3           0           0   \n",
       "2        mykiss     0.273831                  3           0           0   \n",
       "3    variegatus     0.273831                  3           0           0   \n",
       "4        mykiss     0.273831                  3           0           0   \n",
       "\n",
       "   bonds_number  ring_numer       Mol  MorganDensity    LogP  \n",
       "0           0.0         0.0  0.096146       0.666667 -5.9945  \n",
       "1           0.0         0.0  0.096146       0.666667 -5.9945  \n",
       "2           0.0         0.0  0.096146       0.666667 -5.9945  \n",
       "3           0.0         0.0  0.096146       0.666667 -5.9945  \n",
       "4           0.0         0.0  0.096146       0.666667 -5.9945  "
      ]
     },
     "execution_count": 4,
     "metadata": {},
     "output_type": "execute_result"
    }
   ],
   "source": [
    "base_db = pd.read_csv(\"use_db_sabato14.csv\")\n",
    "base_db.head()"
   ]
  },
  {
   "cell_type": "markdown",
   "metadata": {},
   "source": [
    "## Simple classification \n",
    "Considering a threshold of 1mg/L of mortality"
   ]
  },
  {
   "cell_type": "code",
   "execution_count": 5,
   "metadata": {},
   "outputs": [
    {
     "data": {
      "text/html": [
       "<div>\n",
       "<style scoped>\n",
       "    .dataframe tbody tr th:only-of-type {\n",
       "        vertical-align: middle;\n",
       "    }\n",
       "\n",
       "    .dataframe tbody tr th {\n",
       "        vertical-align: top;\n",
       "    }\n",
       "\n",
       "    .dataframe thead th {\n",
       "        text-align: right;\n",
       "    }\n",
       "</style>\n",
       "<table border=\"1\" class=\"dataframe\">\n",
       "  <thead>\n",
       "    <tr style=\"text-align: right;\">\n",
       "      <th></th>\n",
       "      <th>test_cas</th>\n",
       "      <th>exposure_type</th>\n",
       "      <th>obs_duration_mean</th>\n",
       "      <th>conc1_type</th>\n",
       "      <th>conc1_mean</th>\n",
       "      <th>class</th>\n",
       "      <th>tax_order</th>\n",
       "      <th>family</th>\n",
       "      <th>genus</th>\n",
       "      <th>species</th>\n",
       "      <th>atom_number</th>\n",
       "      <th>alone_atom_number</th>\n",
       "      <th>tripleBond</th>\n",
       "      <th>doubleBond</th>\n",
       "      <th>bonds_number</th>\n",
       "      <th>ring_numer</th>\n",
       "      <th>Mol</th>\n",
       "      <th>MorganDensity</th>\n",
       "      <th>LogP</th>\n",
       "    </tr>\n",
       "  </thead>\n",
       "  <tbody>\n",
       "    <tr>\n",
       "      <td>0</td>\n",
       "      <td>10108-64-2</td>\n",
       "      <td>S</td>\n",
       "      <td>48.0</td>\n",
       "      <td>T</td>\n",
       "      <td>46.900</td>\n",
       "      <td>Actinopterygii</td>\n",
       "      <td>Cypriniformes</td>\n",
       "      <td>Cyprinidae</td>\n",
       "      <td>Carassius</td>\n",
       "      <td>auratus</td>\n",
       "      <td>0.273831</td>\n",
       "      <td>3</td>\n",
       "      <td>0</td>\n",
       "      <td>0</td>\n",
       "      <td>0.000000</td>\n",
       "      <td>0.0</td>\n",
       "      <td>0.096146</td>\n",
       "      <td>0.666667</td>\n",
       "      <td>-5.9945</td>\n",
       "    </tr>\n",
       "    <tr>\n",
       "      <td>1</td>\n",
       "      <td>10108-64-2</td>\n",
       "      <td>S</td>\n",
       "      <td>24.0</td>\n",
       "      <td>T</td>\n",
       "      <td>200.000</td>\n",
       "      <td>Actinopterygii</td>\n",
       "      <td>Cyprinodontiformes</td>\n",
       "      <td>Cyprinodontidae</td>\n",
       "      <td>Fundulus</td>\n",
       "      <td>heteroclitus</td>\n",
       "      <td>0.273831</td>\n",
       "      <td>3</td>\n",
       "      <td>0</td>\n",
       "      <td>0</td>\n",
       "      <td>0.000000</td>\n",
       "      <td>0.0</td>\n",
       "      <td>0.096146</td>\n",
       "      <td>0.666667</td>\n",
       "      <td>-5.9945</td>\n",
       "    </tr>\n",
       "    <tr>\n",
       "      <td>2</td>\n",
       "      <td>10108-64-2</td>\n",
       "      <td>F</td>\n",
       "      <td>96.0</td>\n",
       "      <td>T</td>\n",
       "      <td>0.001</td>\n",
       "      <td>Actinopterygii</td>\n",
       "      <td>Salmoniformes</td>\n",
       "      <td>Salmonidae</td>\n",
       "      <td>Oncorhynchus</td>\n",
       "      <td>mykiss</td>\n",
       "      <td>0.273831</td>\n",
       "      <td>3</td>\n",
       "      <td>0</td>\n",
       "      <td>0</td>\n",
       "      <td>0.000000</td>\n",
       "      <td>0.0</td>\n",
       "      <td>0.096146</td>\n",
       "      <td>0.666667</td>\n",
       "      <td>-5.9945</td>\n",
       "    </tr>\n",
       "    <tr>\n",
       "      <td>3</td>\n",
       "      <td>10108-64-2</td>\n",
       "      <td>S</td>\n",
       "      <td>96.0</td>\n",
       "      <td>T</td>\n",
       "      <td>15.900</td>\n",
       "      <td>Actinopterygii</td>\n",
       "      <td>Cyprinodontiformes</td>\n",
       "      <td>Cyprinodontidae</td>\n",
       "      <td>Cyprinodon</td>\n",
       "      <td>variegatus</td>\n",
       "      <td>0.273831</td>\n",
       "      <td>3</td>\n",
       "      <td>0</td>\n",
       "      <td>0</td>\n",
       "      <td>0.000000</td>\n",
       "      <td>0.0</td>\n",
       "      <td>0.096146</td>\n",
       "      <td>0.666667</td>\n",
       "      <td>-5.9945</td>\n",
       "    </tr>\n",
       "    <tr>\n",
       "      <td>4</td>\n",
       "      <td>10108-64-2</td>\n",
       "      <td>F</td>\n",
       "      <td>694.0</td>\n",
       "      <td>T</td>\n",
       "      <td>0.030</td>\n",
       "      <td>Actinopterygii</td>\n",
       "      <td>Salmoniformes</td>\n",
       "      <td>Salmonidae</td>\n",
       "      <td>Oncorhynchus</td>\n",
       "      <td>mykiss</td>\n",
       "      <td>0.273831</td>\n",
       "      <td>3</td>\n",
       "      <td>0</td>\n",
       "      <td>0</td>\n",
       "      <td>0.000000</td>\n",
       "      <td>0.0</td>\n",
       "      <td>0.096146</td>\n",
       "      <td>0.666667</td>\n",
       "      <td>-5.9945</td>\n",
       "    </tr>\n",
       "    <tr>\n",
       "      <td>...</td>\n",
       "      <td>...</td>\n",
       "      <td>...</td>\n",
       "      <td>...</td>\n",
       "      <td>...</td>\n",
       "      <td>...</td>\n",
       "      <td>...</td>\n",
       "      <td>...</td>\n",
       "      <td>...</td>\n",
       "      <td>...</td>\n",
       "      <td>...</td>\n",
       "      <td>...</td>\n",
       "      <td>...</td>\n",
       "      <td>...</td>\n",
       "      <td>...</td>\n",
       "      <td>...</td>\n",
       "      <td>...</td>\n",
       "      <td>...</td>\n",
       "      <td>...</td>\n",
       "      <td>...</td>\n",
       "    </tr>\n",
       "    <tr>\n",
       "      <td>53175</td>\n",
       "      <td>103-05-9</td>\n",
       "      <td>F</td>\n",
       "      <td>96.0</td>\n",
       "      <td>A</td>\n",
       "      <td>66.400</td>\n",
       "      <td>Actinopterygii</td>\n",
       "      <td>Cypriniformes</td>\n",
       "      <td>Cyprinidae</td>\n",
       "      <td>Pimephales</td>\n",
       "      <td>promelas</td>\n",
       "      <td>0.384370</td>\n",
       "      <td>0</td>\n",
       "      <td>0</td>\n",
       "      <td>0</td>\n",
       "      <td>0.522111</td>\n",
       "      <td>1.0</td>\n",
       "      <td>0.086066</td>\n",
       "      <td>1.166667</td>\n",
       "      <td>2.3901</td>\n",
       "    </tr>\n",
       "    <tr>\n",
       "      <td>53176</td>\n",
       "      <td>14008-58-3</td>\n",
       "      <td>AQUA</td>\n",
       "      <td>28.0</td>\n",
       "      <td>F</td>\n",
       "      <td>0.056</td>\n",
       "      <td>Actinopterygii</td>\n",
       "      <td>Cypriniformes</td>\n",
       "      <td>Cyprinidae</td>\n",
       "      <td>Notropis</td>\n",
       "      <td>sp.</td>\n",
       "      <td>0.473649</td>\n",
       "      <td>0</td>\n",
       "      <td>0</td>\n",
       "      <td>2</td>\n",
       "      <td>0.576717</td>\n",
       "      <td>1.0</td>\n",
       "      <td>0.115904</td>\n",
       "      <td>1.437500</td>\n",
       "      <td>1.3211</td>\n",
       "    </tr>\n",
       "    <tr>\n",
       "      <td>53177</td>\n",
       "      <td>52316-55-9</td>\n",
       "      <td>S</td>\n",
       "      <td>96.0</td>\n",
       "      <td>A</td>\n",
       "      <td>257.000</td>\n",
       "      <td>Actinopterygii</td>\n",
       "      <td>Perciformes</td>\n",
       "      <td>Centrarchidae</td>\n",
       "      <td>Lepomis</td>\n",
       "      <td>macrochirus</td>\n",
       "      <td>0.490837</td>\n",
       "      <td>2</td>\n",
       "      <td>0</td>\n",
       "      <td>2</td>\n",
       "      <td>0.609799</td>\n",
       "      <td>2.0</td>\n",
       "      <td>0.150327</td>\n",
       "      <td>1.368421</td>\n",
       "      <td>0.8126</td>\n",
       "    </tr>\n",
       "    <tr>\n",
       "      <td>53178</td>\n",
       "      <td>499-83-2</td>\n",
       "      <td>F</td>\n",
       "      <td>96.0</td>\n",
       "      <td>A</td>\n",
       "      <td>322.000</td>\n",
       "      <td>Actinopterygii</td>\n",
       "      <td>Cypriniformes</td>\n",
       "      <td>Cyprinidae</td>\n",
       "      <td>Pimephales</td>\n",
       "      <td>promelas</td>\n",
       "      <td>0.384370</td>\n",
       "      <td>0</td>\n",
       "      <td>0</td>\n",
       "      <td>2</td>\n",
       "      <td>0.522111</td>\n",
       "      <td>1.0</td>\n",
       "      <td>0.087591</td>\n",
       "      <td>1.083333</td>\n",
       "      <td>0.4780</td>\n",
       "    </tr>\n",
       "    <tr>\n",
       "      <td>53179</td>\n",
       "      <td>68-11-1</td>\n",
       "      <td>S</td>\n",
       "      <td>96.0</td>\n",
       "      <td>F</td>\n",
       "      <td>30.000</td>\n",
       "      <td>Actinopterygii</td>\n",
       "      <td>Cypriniformes</td>\n",
       "      <td>Cyprinidae</td>\n",
       "      <td>Pimephales</td>\n",
       "      <td>promelas</td>\n",
       "      <td>0.353921</td>\n",
       "      <td>0</td>\n",
       "      <td>0</td>\n",
       "      <td>1</td>\n",
       "      <td>0.327611</td>\n",
       "      <td>0.0</td>\n",
       "      <td>0.046996</td>\n",
       "      <td>2.000000</td>\n",
       "      <td>0.0008</td>\n",
       "    </tr>\n",
       "  </tbody>\n",
       "</table>\n",
       "<p>53180 rows × 19 columns</p>\n",
       "</div>"
      ],
      "text/plain": [
       "         test_cas exposure_type  obs_duration_mean conc1_type  conc1_mean  \\\n",
       "0      10108-64-2             S               48.0          T      46.900   \n",
       "1      10108-64-2             S               24.0          T     200.000   \n",
       "2      10108-64-2             F               96.0          T       0.001   \n",
       "3      10108-64-2             S               96.0          T      15.900   \n",
       "4      10108-64-2             F              694.0          T       0.030   \n",
       "...           ...           ...                ...        ...         ...   \n",
       "53175    103-05-9             F               96.0          A      66.400   \n",
       "53176  14008-58-3          AQUA               28.0          F       0.056   \n",
       "53177  52316-55-9             S               96.0          A     257.000   \n",
       "53178    499-83-2             F               96.0          A     322.000   \n",
       "53179     68-11-1             S               96.0          F      30.000   \n",
       "\n",
       "                class           tax_order           family         genus  \\\n",
       "0      Actinopterygii       Cypriniformes       Cyprinidae     Carassius   \n",
       "1      Actinopterygii  Cyprinodontiformes  Cyprinodontidae      Fundulus   \n",
       "2      Actinopterygii       Salmoniformes       Salmonidae  Oncorhynchus   \n",
       "3      Actinopterygii  Cyprinodontiformes  Cyprinodontidae    Cyprinodon   \n",
       "4      Actinopterygii       Salmoniformes       Salmonidae  Oncorhynchus   \n",
       "...               ...                 ...              ...           ...   \n",
       "53175  Actinopterygii       Cypriniformes       Cyprinidae    Pimephales   \n",
       "53176  Actinopterygii       Cypriniformes       Cyprinidae      Notropis   \n",
       "53177  Actinopterygii         Perciformes    Centrarchidae       Lepomis   \n",
       "53178  Actinopterygii       Cypriniformes       Cyprinidae    Pimephales   \n",
       "53179  Actinopterygii       Cypriniformes       Cyprinidae    Pimephales   \n",
       "\n",
       "            species  atom_number  alone_atom_number  tripleBond  doubleBond  \\\n",
       "0           auratus     0.273831                  3           0           0   \n",
       "1      heteroclitus     0.273831                  3           0           0   \n",
       "2            mykiss     0.273831                  3           0           0   \n",
       "3        variegatus     0.273831                  3           0           0   \n",
       "4            mykiss     0.273831                  3           0           0   \n",
       "...             ...          ...                ...         ...         ...   \n",
       "53175      promelas     0.384370                  0           0           0   \n",
       "53176           sp.     0.473649                  0           0           2   \n",
       "53177   macrochirus     0.490837                  2           0           2   \n",
       "53178      promelas     0.384370                  0           0           2   \n",
       "53179      promelas     0.353921                  0           0           1   \n",
       "\n",
       "       bonds_number  ring_numer       Mol  MorganDensity    LogP  \n",
       "0          0.000000         0.0  0.096146       0.666667 -5.9945  \n",
       "1          0.000000         0.0  0.096146       0.666667 -5.9945  \n",
       "2          0.000000         0.0  0.096146       0.666667 -5.9945  \n",
       "3          0.000000         0.0  0.096146       0.666667 -5.9945  \n",
       "4          0.000000         0.0  0.096146       0.666667 -5.9945  \n",
       "...             ...         ...       ...            ...     ...  \n",
       "53175      0.522111         1.0  0.086066       1.166667  2.3901  \n",
       "53176      0.576717         1.0  0.115904       1.437500  1.3211  \n",
       "53177      0.609799         2.0  0.150327       1.368421  0.8126  \n",
       "53178      0.522111         1.0  0.087591       1.083333  0.4780  \n",
       "53179      0.327611         0.0  0.046996       2.000000  0.0008  \n",
       "\n",
       "[53180 rows x 19 columns]"
      ]
     },
     "execution_count": 5,
     "metadata": {},
     "output_type": "execute_result"
    }
   ],
   "source": [
    "base_db"
   ]
  },
  {
   "cell_type": "code",
   "execution_count": 6,
   "metadata": {
    "colab": {},
    "colab_type": "code",
    "id": "LspwbFiybwsY"
   },
   "outputs": [],
   "source": [
    "base_db = base_db[base_db.obs_duration_mean.isin([24, 48, 72, 96])]"
   ]
  },
  {
   "cell_type": "code",
   "execution_count": 7,
   "metadata": {
    "colab": {},
    "colab_type": "code",
    "id": "vRvdpOEIYvmo"
   },
   "outputs": [],
   "source": [
    "to_drop = base_db[base_db.bonds_number.isnull()].index"
   ]
  },
  {
   "cell_type": "code",
   "execution_count": 8,
   "metadata": {
    "colab": {},
    "colab_type": "code",
    "id": "NaY2mC7rYvmu"
   },
   "outputs": [],
   "source": [
    "base_db = base_db.drop(to_drop,axis=0)"
   ]
  },
  {
   "cell_type": "code",
   "execution_count": 9,
   "metadata": {
    "colab": {
     "base_uri": "https://localhost:8080/",
     "height": 34
    },
    "colab_type": "code",
    "id": "MlkaDmScb_qy",
    "outputId": "c4e05fac-d1dc-4e39-9b33-94272b478bba"
   },
   "outputs": [
    {
     "data": {
      "text/plain": [
       "45775"
      ]
     },
     "execution_count": 9,
     "metadata": {},
     "output_type": "execute_result"
    }
   ],
   "source": [
    "base_db.index.size"
   ]
  },
  {
   "cell_type": "code",
   "execution_count": 10,
   "metadata": {
    "colab": {
     "base_uri": "https://localhost:8080/",
     "height": 136
    },
    "colab_type": "code",
    "id": "1GTX-xVTYvm2",
    "outputId": "5492fb58-474e-45f0-e9e5-55a42d28929e"
   },
   "outputs": [
    {
     "data": {
      "text/plain": [
       "Index(['test_cas', 'exposure_type', 'obs_duration_mean', 'conc1_type',\n",
       "       'conc1_mean', 'class', 'tax_order', 'family', 'genus', 'species',\n",
       "       'atom_number', 'alone_atom_number', 'tripleBond', 'doubleBond',\n",
       "       'bonds_number', 'ring_numer', 'Mol', 'MorganDensity', 'LogP'],\n",
       "      dtype='object')"
      ]
     },
     "execution_count": 10,
     "metadata": {},
     "output_type": "execute_result"
    }
   ],
   "source": [
    "base_db.columns"
   ]
  },
  {
   "cell_type": "code",
   "execution_count": 11,
   "metadata": {
    "colab": {},
    "colab_type": "code",
    "id": "fK5CrxMfYvm9"
   },
   "outputs": [],
   "source": [
    "use_db = base_db.copy()\n",
    "use_db = use_db[['test_cas', 'exposure_type', 'obs_duration_mean', 'conc1_type',\n",
    "       'conc1_mean', 'class', 'tax_order', 'family', 'genus', 'species','atom_number', 'alone_atom_number', 'tripleBond',\n",
    "       'doubleBond', 'bonds_number', 'ring_numer',\n",
    "       'Mol', 'MorganDensity', 'LogP']]"
   ]
  },
  {
   "cell_type": "code",
   "execution_count": 12,
   "metadata": {
    "colab": {
     "base_uri": "https://localhost:8080/",
     "height": 34
    },
    "colab_type": "code",
    "id": "hH8ZVEr9YvnA",
    "outputId": "c599bc61-bf59-4ed8-dcf4-6d862bb75eda"
   },
   "outputs": [
    {
     "data": {
      "text/plain": [
       "45775"
      ]
     },
     "execution_count": 12,
     "metadata": {},
     "output_type": "execute_result"
    }
   ],
   "source": [
    "use_db.index.size"
   ]
  },
  {
   "cell_type": "markdown",
   "metadata": {
    "colab_type": "text",
    "id": "bvSLIAICaUfg"
   },
   "source": [
    "# Repeated experiments"
   ]
  },
  {
   "cell_type": "code",
   "execution_count": 13,
   "metadata": {},
   "outputs": [],
   "source": [
    "db_species = use_db[[\"species\", 'class', 'tax_order', 'family', 'genus']]"
   ]
  },
  {
   "cell_type": "code",
   "execution_count": 14,
   "metadata": {
    "colab": {
     "base_uri": "https://localhost:8080/",
     "height": 34
    },
    "colab_type": "code",
    "id": "OXz1gpp-aUKN",
    "outputId": "2fcd582e-4371-4f98-aa01-30086d1da04a"
   },
   "outputs": [
    {
     "data": {
      "text/plain": [
       "23332"
      ]
     },
     "execution_count": 14,
     "metadata": {},
     "output_type": "execute_result"
    }
   ],
   "source": [
    "use_db = use_db.groupby(by=[\"test_cas\", \"species\", \"conc1_type\", \"exposure_type\", \"obs_duration_mean\",]).agg(\"median\").reset_index()\n",
    "use_db.index.size"
   ]
  },
  {
   "cell_type": "code",
   "execution_count": 15,
   "metadata": {},
   "outputs": [],
   "source": [
    "db_species = db_species.groupby(\"species\").first()"
   ]
  },
  {
   "cell_type": "code",
   "execution_count": 16,
   "metadata": {},
   "outputs": [],
   "source": [
    "use_db = use_db.merge(db_species, on=\"species\")"
   ]
  },
  {
   "cell_type": "markdown",
   "metadata": {},
   "source": [
    "# 1a\n",
    "let's simply try with a get dummies"
   ]
  },
  {
   "cell_type": "code",
   "execution_count": 18,
   "metadata": {},
   "outputs": [],
   "source": [
    "X = use_db.copy()\n",
    "X = X[[\n",
    " 'exposure_type',\n",
    " 'obs_duration_mean',\n",
    " 'conc1_type',\n",
    " 'species',\n",
    "    'class', 'tax_order', 'family', 'genus',\n",
    " 'atom_number', \n",
    "    'alone_atom_number', \n",
    "    'tripleBond',\n",
    "       'doubleBond',\n",
    " 'bonds_number',\n",
    "  'ring_numer',\n",
    "  'Mol', \n",
    "  'MorganDensity', 'LogP']]\n",
    "X = pd.get_dummies(X)"
   ]
  },
  {
   "cell_type": "code",
   "execution_count": 42,
   "metadata": {},
   "outputs": [
    {
     "data": {
      "text/html": [
       "<div>\n",
       "<style scoped>\n",
       "    .dataframe tbody tr th:only-of-type {\n",
       "        vertical-align: middle;\n",
       "    }\n",
       "\n",
       "    .dataframe tbody tr th {\n",
       "        vertical-align: top;\n",
       "    }\n",
       "\n",
       "    .dataframe thead th {\n",
       "        text-align: right;\n",
       "    }\n",
       "</style>\n",
       "<table border=\"1\" class=\"dataframe\">\n",
       "  <thead>\n",
       "    <tr style=\"text-align: right;\">\n",
       "      <th></th>\n",
       "      <th>obs_duration_mean</th>\n",
       "      <th>atom_number</th>\n",
       "      <th>alone_atom_number</th>\n",
       "      <th>tripleBond</th>\n",
       "      <th>doubleBond</th>\n",
       "      <th>bonds_number</th>\n",
       "      <th>ring_numer</th>\n",
       "      <th>Mol</th>\n",
       "      <th>MorganDensity</th>\n",
       "      <th>LogP</th>\n",
       "      <th>...</th>\n",
       "      <th>genus_Tribolodon</th>\n",
       "      <th>genus_Trichogaster</th>\n",
       "      <th>genus_Tridentiger</th>\n",
       "      <th>genus_Umbra</th>\n",
       "      <th>genus_Vimba</th>\n",
       "      <th>genus_Wallago</th>\n",
       "      <th>genus_Xiphophorus</th>\n",
       "      <th>genus_Xyrauchen</th>\n",
       "      <th>genus_Zacco</th>\n",
       "      <th>genus_Zosterisessor</th>\n",
       "    </tr>\n",
       "  </thead>\n",
       "  <tbody>\n",
       "    <tr>\n",
       "      <td>0</td>\n",
       "      <td>48.0</td>\n",
       "      <td>0.317908</td>\n",
       "      <td>2</td>\n",
       "      <td>0</td>\n",
       "      <td>1</td>\n",
       "      <td>0.488106</td>\n",
       "      <td>1.0</td>\n",
       "      <td>0.082505</td>\n",
       "      <td>1.300000</td>\n",
       "      <td>2.2482</td>\n",
       "      <td>...</td>\n",
       "      <td>0</td>\n",
       "      <td>0</td>\n",
       "      <td>0</td>\n",
       "      <td>0</td>\n",
       "      <td>0</td>\n",
       "      <td>0</td>\n",
       "      <td>0</td>\n",
       "      <td>0</td>\n",
       "      <td>0</td>\n",
       "      <td>0</td>\n",
       "    </tr>\n",
       "    <tr>\n",
       "      <td>1</td>\n",
       "      <td>96.0</td>\n",
       "      <td>0.317908</td>\n",
       "      <td>2</td>\n",
       "      <td>0</td>\n",
       "      <td>1</td>\n",
       "      <td>0.488106</td>\n",
       "      <td>1.0</td>\n",
       "      <td>0.082505</td>\n",
       "      <td>1.300000</td>\n",
       "      <td>2.2482</td>\n",
       "      <td>...</td>\n",
       "      <td>0</td>\n",
       "      <td>0</td>\n",
       "      <td>0</td>\n",
       "      <td>0</td>\n",
       "      <td>0</td>\n",
       "      <td>0</td>\n",
       "      <td>0</td>\n",
       "      <td>0</td>\n",
       "      <td>0</td>\n",
       "      <td>0</td>\n",
       "    </tr>\n",
       "    <tr>\n",
       "      <td>2</td>\n",
       "      <td>96.0</td>\n",
       "      <td>0.317908</td>\n",
       "      <td>2</td>\n",
       "      <td>0</td>\n",
       "      <td>1</td>\n",
       "      <td>0.488106</td>\n",
       "      <td>1.0</td>\n",
       "      <td>0.072092</td>\n",
       "      <td>1.300000</td>\n",
       "      <td>1.1770</td>\n",
       "      <td>...</td>\n",
       "      <td>0</td>\n",
       "      <td>0</td>\n",
       "      <td>0</td>\n",
       "      <td>0</td>\n",
       "      <td>0</td>\n",
       "      <td>0</td>\n",
       "      <td>0</td>\n",
       "      <td>0</td>\n",
       "      <td>0</td>\n",
       "      <td>0</td>\n",
       "    </tr>\n",
       "    <tr>\n",
       "      <td>3</td>\n",
       "      <td>48.0</td>\n",
       "      <td>0.317908</td>\n",
       "      <td>2</td>\n",
       "      <td>0</td>\n",
       "      <td>1</td>\n",
       "      <td>0.488106</td>\n",
       "      <td>1.0</td>\n",
       "      <td>0.072622</td>\n",
       "      <td>1.300000</td>\n",
       "      <td>1.3004</td>\n",
       "      <td>...</td>\n",
       "      <td>0</td>\n",
       "      <td>0</td>\n",
       "      <td>0</td>\n",
       "      <td>0</td>\n",
       "      <td>0</td>\n",
       "      <td>0</td>\n",
       "      <td>0</td>\n",
       "      <td>0</td>\n",
       "      <td>0</td>\n",
       "      <td>0</td>\n",
       "    </tr>\n",
       "    <tr>\n",
       "      <td>4</td>\n",
       "      <td>96.0</td>\n",
       "      <td>0.217006</td>\n",
       "      <td>0</td>\n",
       "      <td>0</td>\n",
       "      <td>0</td>\n",
       "      <td>0.447258</td>\n",
       "      <td>1.0</td>\n",
       "      <td>0.065856</td>\n",
       "      <td>1.125000</td>\n",
       "      <td>2.4254</td>\n",
       "      <td>...</td>\n",
       "      <td>0</td>\n",
       "      <td>0</td>\n",
       "      <td>0</td>\n",
       "      <td>0</td>\n",
       "      <td>0</td>\n",
       "      <td>0</td>\n",
       "      <td>0</td>\n",
       "      <td>0</td>\n",
       "      <td>0</td>\n",
       "      <td>0</td>\n",
       "    </tr>\n",
       "    <tr>\n",
       "      <td>...</td>\n",
       "      <td>...</td>\n",
       "      <td>...</td>\n",
       "      <td>...</td>\n",
       "      <td>...</td>\n",
       "      <td>...</td>\n",
       "      <td>...</td>\n",
       "      <td>...</td>\n",
       "      <td>...</td>\n",
       "      <td>...</td>\n",
       "      <td>...</td>\n",
       "      <td>...</td>\n",
       "      <td>...</td>\n",
       "      <td>...</td>\n",
       "      <td>...</td>\n",
       "      <td>...</td>\n",
       "      <td>...</td>\n",
       "      <td>...</td>\n",
       "      <td>...</td>\n",
       "      <td>...</td>\n",
       "      <td>...</td>\n",
       "      <td>...</td>\n",
       "    </tr>\n",
       "    <tr>\n",
       "      <td>23327</td>\n",
       "      <td>96.0</td>\n",
       "      <td>0.410746</td>\n",
       "      <td>0</td>\n",
       "      <td>0</td>\n",
       "      <td>1</td>\n",
       "      <td>0.537196</td>\n",
       "      <td>1.0</td>\n",
       "      <td>0.115790</td>\n",
       "      <td>1.461538</td>\n",
       "      <td>2.4568</td>\n",
       "      <td>...</td>\n",
       "      <td>0</td>\n",
       "      <td>0</td>\n",
       "      <td>0</td>\n",
       "      <td>0</td>\n",
       "      <td>0</td>\n",
       "      <td>0</td>\n",
       "      <td>0</td>\n",
       "      <td>0</td>\n",
       "      <td>0</td>\n",
       "      <td>0</td>\n",
       "    </tr>\n",
       "    <tr>\n",
       "      <td>23328</td>\n",
       "      <td>24.0</td>\n",
       "      <td>0.410746</td>\n",
       "      <td>0</td>\n",
       "      <td>0</td>\n",
       "      <td>1</td>\n",
       "      <td>0.537196</td>\n",
       "      <td>1.0</td>\n",
       "      <td>0.115790</td>\n",
       "      <td>1.461538</td>\n",
       "      <td>2.4568</td>\n",
       "      <td>...</td>\n",
       "      <td>0</td>\n",
       "      <td>0</td>\n",
       "      <td>0</td>\n",
       "      <td>0</td>\n",
       "      <td>0</td>\n",
       "      <td>0</td>\n",
       "      <td>0</td>\n",
       "      <td>0</td>\n",
       "      <td>0</td>\n",
       "      <td>0</td>\n",
       "    </tr>\n",
       "    <tr>\n",
       "      <td>23329</td>\n",
       "      <td>48.0</td>\n",
       "      <td>0.410746</td>\n",
       "      <td>0</td>\n",
       "      <td>0</td>\n",
       "      <td>1</td>\n",
       "      <td>0.537196</td>\n",
       "      <td>1.0</td>\n",
       "      <td>0.115790</td>\n",
       "      <td>1.461538</td>\n",
       "      <td>2.4568</td>\n",
       "      <td>...</td>\n",
       "      <td>0</td>\n",
       "      <td>0</td>\n",
       "      <td>0</td>\n",
       "      <td>0</td>\n",
       "      <td>0</td>\n",
       "      <td>0</td>\n",
       "      <td>0</td>\n",
       "      <td>0</td>\n",
       "      <td>0</td>\n",
       "      <td>0</td>\n",
       "    </tr>\n",
       "    <tr>\n",
       "      <td>23330</td>\n",
       "      <td>96.0</td>\n",
       "      <td>0.410746</td>\n",
       "      <td>0</td>\n",
       "      <td>0</td>\n",
       "      <td>1</td>\n",
       "      <td>0.537196</td>\n",
       "      <td>1.0</td>\n",
       "      <td>0.115790</td>\n",
       "      <td>1.461538</td>\n",
       "      <td>2.4568</td>\n",
       "      <td>...</td>\n",
       "      <td>0</td>\n",
       "      <td>0</td>\n",
       "      <td>0</td>\n",
       "      <td>0</td>\n",
       "      <td>0</td>\n",
       "      <td>0</td>\n",
       "      <td>0</td>\n",
       "      <td>0</td>\n",
       "      <td>0</td>\n",
       "      <td>0</td>\n",
       "    </tr>\n",
       "    <tr>\n",
       "      <td>23331</td>\n",
       "      <td>96.0</td>\n",
       "      <td>0.273831</td>\n",
       "      <td>0</td>\n",
       "      <td>0</td>\n",
       "      <td>0</td>\n",
       "      <td>0.468705</td>\n",
       "      <td>1.0</td>\n",
       "      <td>0.084882</td>\n",
       "      <td>1.111111</td>\n",
       "      <td>2.5756</td>\n",
       "      <td>...</td>\n",
       "      <td>0</td>\n",
       "      <td>0</td>\n",
       "      <td>0</td>\n",
       "      <td>0</td>\n",
       "      <td>0</td>\n",
       "      <td>0</td>\n",
       "      <td>0</td>\n",
       "      <td>0</td>\n",
       "      <td>0</td>\n",
       "      <td>0</td>\n",
       "    </tr>\n",
       "  </tbody>\n",
       "</table>\n",
       "<p>23332 rows × 899 columns</p>\n",
       "</div>"
      ],
      "text/plain": [
       "       obs_duration_mean  atom_number  alone_atom_number  tripleBond  \\\n",
       "0                   48.0     0.317908                  2           0   \n",
       "1                   96.0     0.317908                  2           0   \n",
       "2                   96.0     0.317908                  2           0   \n",
       "3                   48.0     0.317908                  2           0   \n",
       "4                   96.0     0.217006                  0           0   \n",
       "...                  ...          ...                ...         ...   \n",
       "23327               96.0     0.410746                  0           0   \n",
       "23328               24.0     0.410746                  0           0   \n",
       "23329               48.0     0.410746                  0           0   \n",
       "23330               96.0     0.410746                  0           0   \n",
       "23331               96.0     0.273831                  0           0   \n",
       "\n",
       "       doubleBond  bonds_number  ring_numer       Mol  MorganDensity    LogP  \\\n",
       "0               1      0.488106         1.0  0.082505       1.300000  2.2482   \n",
       "1               1      0.488106         1.0  0.082505       1.300000  2.2482   \n",
       "2               1      0.488106         1.0  0.072092       1.300000  1.1770   \n",
       "3               1      0.488106         1.0  0.072622       1.300000  1.3004   \n",
       "4               0      0.447258         1.0  0.065856       1.125000  2.4254   \n",
       "...           ...           ...         ...       ...            ...     ...   \n",
       "23327           1      0.537196         1.0  0.115790       1.461538  2.4568   \n",
       "23328           1      0.537196         1.0  0.115790       1.461538  2.4568   \n",
       "23329           1      0.537196         1.0  0.115790       1.461538  2.4568   \n",
       "23330           1      0.537196         1.0  0.115790       1.461538  2.4568   \n",
       "23331           0      0.468705         1.0  0.084882       1.111111  2.5756   \n",
       "\n",
       "       ...  genus_Tribolodon  genus_Trichogaster  genus_Tridentiger  \\\n",
       "0      ...                 0                   0                  0   \n",
       "1      ...                 0                   0                  0   \n",
       "2      ...                 0                   0                  0   \n",
       "3      ...                 0                   0                  0   \n",
       "4      ...                 0                   0                  0   \n",
       "...    ...               ...                 ...                ...   \n",
       "23327  ...                 0                   0                  0   \n",
       "23328  ...                 0                   0                  0   \n",
       "23329  ...                 0                   0                  0   \n",
       "23330  ...                 0                   0                  0   \n",
       "23331  ...                 0                   0                  0   \n",
       "\n",
       "       genus_Umbra  genus_Vimba  genus_Wallago  genus_Xiphophorus  \\\n",
       "0                0            0              0                  0   \n",
       "1                0            0              0                  0   \n",
       "2                0            0              0                  0   \n",
       "3                0            0              0                  0   \n",
       "4                0            0              0                  0   \n",
       "...            ...          ...            ...                ...   \n",
       "23327            0            0              0                  0   \n",
       "23328            0            0              0                  0   \n",
       "23329            0            0              0                  0   \n",
       "23330            0            0              0                  0   \n",
       "23331            0            0              0                  0   \n",
       "\n",
       "       genus_Xyrauchen  genus_Zacco  genus_Zosterisessor  \n",
       "0                    0            0                    0  \n",
       "1                    0            0                    0  \n",
       "2                    0            0                    0  \n",
       "3                    0            0                    0  \n",
       "4                    0            0                    0  \n",
       "...                ...          ...                  ...  \n",
       "23327                0            0                    0  \n",
       "23328                0            0                    0  \n",
       "23329                0            0                    0  \n",
       "23330                0            0                    0  \n",
       "23331                0            0                    0  \n",
       "\n",
       "[23332 rows x 899 columns]"
      ]
     },
     "execution_count": 42,
     "metadata": {},
     "output_type": "execute_result"
    }
   ],
   "source": [
    "X"
   ]
  },
  {
   "cell_type": "markdown",
   "metadata": {},
   "source": [
    "# 1b\n",
    "let's simply try with a get dummies but keeping only categorical values"
   ]
  },
  {
   "cell_type": "code",
   "execution_count": 15,
   "metadata": {},
   "outputs": [],
   "source": [
    "X = use_db.copy()\n",
    "X = X[[\n",
    " 'test_cas',\n",
    " 'exposure_type',\n",
    " 'conc1_type',\n",
    " 'species', \n",
    " 'genus']]\n",
    "X = pd.get_dummies(X)"
   ]
  },
  {
   "cell_type": "markdown",
   "metadata": {},
   "source": [
    "# 2\n",
    "let's try another specification (we have to specify the categorical columns)"
   ]
  },
  {
   "cell_type": "code",
   "execution_count": 8,
   "metadata": {},
   "outputs": [],
   "source": [
    "X = use_db.copy()\n",
    "X = X[[\n",
    " 'test_cas',\n",
    " 'exposure_type',\n",
    " 'obs_duration_mean',\n",
    " 'conc1_type',\n",
    " 'species', \n",
    " 'genus']]\n",
    "\n",
    "enc = OrdinalEncoder(dtype=int)\n",
    "enc.fit(X[['test_cas',\n",
    "             'exposure_type',\n",
    "             'conc1_type',\n",
    "             'species', \n",
    "             'genus']])\n",
    "X[['test_cas','exposure_type','conc1_type','species', 'genus']] = enc.transform(X[['test_cas','exposure_type','conc1_type','species','genus']]) + 1"
   ]
  },
  {
   "cell_type": "markdown",
   "metadata": {},
   "source": [
    "# 3\n",
    "and what about keeping only the categorical values?"
   ]
  },
  {
   "cell_type": "code",
   "execution_count": 20,
   "metadata": {},
   "outputs": [],
   "source": [
    "X = use_db.copy()\n",
    "X = X[['test_cas','exposure_type','conc1_type','species', 'genus']]\n",
    "\n",
    "enc = OrdinalEncoder(dtype=int)\n",
    "enc.fit(X[['test_cas',\n",
    "             'exposure_type',\n",
    "             'conc1_type',\n",
    "             'species', \n",
    "             'genus']])\n",
    "X[['test_cas','exposure_type','conc1_type','species', 'genus']] = enc.transform(X[['test_cas','exposure_type','conc1_type','species','genus']]) + 1"
   ]
  },
  {
   "cell_type": "markdown",
   "metadata": {},
   "source": [
    "Setting threshold"
   ]
  },
  {
   "cell_type": "code",
   "execution_count": 20,
   "metadata": {},
   "outputs": [],
   "source": [
    "y = use_db[[\"conc1_mean\"]].copy().values\n",
    "y = np.where(y > 1, 1, 0)"
   ]
  },
  {
   "cell_type": "markdown",
   "metadata": {},
   "source": [
    "Checking if the splitting is balanced:"
   ]
  },
  {
   "cell_type": "code",
   "execution_count": 21,
   "metadata": {},
   "outputs": [
    {
     "name": "stdout",
     "output_type": "stream",
     "text": [
      "8566 14766\n"
     ]
    }
   ],
   "source": [
    "print(len(y[y==0]), len(y[y==1]))"
   ]
  },
  {
   "cell_type": "code",
   "execution_count": 33,
   "metadata": {},
   "outputs": [],
   "source": [
    "def scores_cat(x):\n",
    "    if (x < 10**-1):\n",
    "        return 5\n",
    "    # elif ((x>=10**-2) and (x<10**-1)):\n",
    "    #     return 6\n",
    "    elif ((x>=10**-1) and (x<10**0)):\n",
    "        return 4\n",
    "    elif ((x>=10**0) and (x<10**1)):\n",
    "        return 3\n",
    "    elif ((x>=10**1) and (x<10**2)):\n",
    "        return 2\n",
    "    # elif ((x>=10**2) and (x<10**3)):\n",
    "    #     return 2\n",
    "    else:\n",
    "        return 1"
   ]
  },
  {
   "cell_type": "code",
   "execution_count": 34,
   "metadata": {},
   "outputs": [],
   "source": [
    "y = use_db[\"conc1_mean\"].copy().values\n",
    "y = pd.Series(y).apply(lambda x: scores_cat(x)).values"
   ]
  },
  {
   "cell_type": "markdown",
   "metadata": {},
   "source": [
    "### KNN"
   ]
  },
  {
   "cell_type": "code",
   "execution_count": 35,
   "metadata": {},
   "outputs": [],
   "source": [
    "X_train, X_test, y_train, y_test = train_test_split(\n",
    "                                        X, y, test_size=0.33, random_state=42)"
   ]
  },
  {
   "cell_type": "code",
   "execution_count": 23,
   "metadata": {},
   "outputs": [],
   "source": [
    "neigh = KNeighborsClassifier() #metric=\"hamming\"\n",
    "neigh.fit(X_train, y_train.ravel())\n",
    "y_pred = neigh.predict(X_test)"
   ]
  },
  {
   "cell_type": "code",
   "execution_count": 24,
   "metadata": {},
   "outputs": [
    {
     "data": {
      "text/plain": [
       "0.7912987012987013"
      ]
     },
     "execution_count": 24,
     "metadata": {},
     "output_type": "execute_result"
    }
   ],
   "source": [
    "accuracy_score(y_test, y_pred)"
   ]
  },
  {
   "cell_type": "markdown",
   "metadata": {},
   "source": [
    "### KNN multi"
   ]
  },
  {
   "cell_type": "code",
   "execution_count": 36,
   "metadata": {},
   "outputs": [],
   "source": [
    "X_train, X_test, y_train, y_test = train_test_split(\n",
    "                                        X, y, test_size=0.33, random_state=42)"
   ]
  },
  {
   "cell_type": "code",
   "execution_count": 37,
   "metadata": {},
   "outputs": [],
   "source": [
    "neigh = KNeighborsClassifier() #metric=\"hamming\"\n",
    "neigh.fit(X_train, y_train.ravel())\n",
    "y_pred = neigh.predict(X_test)"
   ]
  },
  {
   "cell_type": "code",
   "execution_count": 38,
   "metadata": {},
   "outputs": [
    {
     "data": {
      "text/plain": [
       "0.4737662337662338"
      ]
     },
     "execution_count": 38,
     "metadata": {},
     "output_type": "execute_result"
    }
   ],
   "source": [
    "accuracy_score(y_test, y_pred)"
   ]
  },
  {
   "cell_type": "markdown",
   "metadata": {},
   "source": [
    "### Random Forest"
   ]
  },
  {
   "cell_type": "code",
   "execution_count": 26,
   "metadata": {},
   "outputs": [
    {
     "name": "stderr",
     "output_type": "stream",
     "text": [
      "C:\\Users\\Manuel\\Anaconda3\\envs\\ml\\lib\\site-packages\\sklearn\\ensemble\\forest.py:245: FutureWarning: The default value of n_estimators will change from 10 in version 0.20 to 100 in 0.22.\n",
      "  \"10 in version 0.20 to 100 in 0.22.\", FutureWarning)\n"
     ]
    }
   ],
   "source": [
    "forest = RandomForestClassifier()\n",
    "forest.fit(X_train, y_train.ravel())\n",
    "y_pred = forest.predict(X_test)"
   ]
  },
  {
   "cell_type": "code",
   "execution_count": 27,
   "metadata": {},
   "outputs": [
    {
     "data": {
      "text/plain": [
       "0.8754545454545455"
      ]
     },
     "execution_count": 27,
     "metadata": {},
     "output_type": "execute_result"
    }
   ],
   "source": [
    "accuracy_score(y_test, y_pred)"
   ]
  },
  {
   "cell_type": "markdown",
   "metadata": {},
   "source": [
    "### Random Forest multi"
   ]
  },
  {
   "cell_type": "code",
   "execution_count": 39,
   "metadata": {},
   "outputs": [
    {
     "name": "stderr",
     "output_type": "stream",
     "text": [
      "C:\\Users\\Manuel\\Anaconda3\\envs\\ml\\lib\\site-packages\\sklearn\\ensemble\\forest.py:245: FutureWarning: The default value of n_estimators will change from 10 in version 0.20 to 100 in 0.22.\n",
      "  \"10 in version 0.20 to 100 in 0.22.\", FutureWarning)\n"
     ]
    }
   ],
   "source": [
    "forest = RandomForestClassifier()\n",
    "forest.fit(X_train, y_train.ravel())\n",
    "y_pred = forest.predict(X_test)"
   ]
  },
  {
   "cell_type": "code",
   "execution_count": 40,
   "metadata": {},
   "outputs": [
    {
     "data": {
      "text/plain": [
       "0.6768831168831169"
      ]
     },
     "execution_count": 40,
     "metadata": {},
     "output_type": "execute_result"
    }
   ],
   "source": [
    "accuracy_score(y_test, y_pred)"
   ]
  },
  {
   "cell_type": "markdown",
   "metadata": {},
   "source": [
    "## Logistic regression"
   ]
  },
  {
   "cell_type": "code",
   "execution_count": 32,
   "metadata": {},
   "outputs": [
    {
     "name": "stderr",
     "output_type": "stream",
     "text": [
      "C:\\Users\\Manuel\\Anaconda3\\envs\\ml\\lib\\site-packages\\sklearn\\linear_model\\logistic.py:432: FutureWarning: Default solver will be changed to 'lbfgs' in 0.22. Specify a solver to silence this warning.\n",
      "  FutureWarning)\n"
     ]
    },
    {
     "data": {
      "text/plain": [
       "0.7694805194805194"
      ]
     },
     "execution_count": 32,
     "metadata": {},
     "output_type": "execute_result"
    }
   ],
   "source": [
    "from sklearn.linear_model import LogisticRegression\n",
    "clf = LogisticRegression(random_state=13).fit(X_train, y_train.ravel())\n",
    "y_pred = clf.predict(X_test)\n",
    "accuracy_score(y_test, y_pred)"
   ]
  },
  {
   "cell_type": "markdown",
   "metadata": {},
   "source": [
    "## Logistic regression multi"
   ]
  },
  {
   "cell_type": "code",
   "execution_count": 41,
   "metadata": {},
   "outputs": [
    {
     "name": "stderr",
     "output_type": "stream",
     "text": [
      "C:\\Users\\Manuel\\Anaconda3\\envs\\ml\\lib\\site-packages\\sklearn\\linear_model\\logistic.py:432: FutureWarning: Default solver will be changed to 'lbfgs' in 0.22. Specify a solver to silence this warning.\n",
      "  FutureWarning)\n",
      "C:\\Users\\Manuel\\Anaconda3\\envs\\ml\\lib\\site-packages\\sklearn\\linear_model\\logistic.py:469: FutureWarning: Default multi_class will be changed to 'auto' in 0.22. Specify the multi_class option to silence this warning.\n",
      "  \"this warning.\", FutureWarning)\n"
     ]
    },
    {
     "data": {
      "text/plain": [
       "0.44805194805194803"
      ]
     },
     "execution_count": 41,
     "metadata": {},
     "output_type": "execute_result"
    }
   ],
   "source": [
    "from sklearn.linear_model import LogisticRegression\n",
    "clf = LogisticRegression(random_state=13).fit(X_train, y_train.ravel())\n",
    "y_pred = clf.predict(X_test)\n",
    "accuracy_score(y_test, y_pred)"
   ]
  },
  {
   "cell_type": "markdown",
   "metadata": {},
   "source": [
    "### CV on KNN (best result so far)"
   ]
  },
  {
   "cell_type": "code",
   "execution_count": 16,
   "metadata": {},
   "outputs": [
    {
     "name": "stdout",
     "output_type": "stream",
     "text": [
      "Fitting 5 folds for each of 14 candidates, totalling 70 fits\n"
     ]
    },
    {
     "name": "stderr",
     "output_type": "stream",
     "text": [
      "[Parallel(n_jobs=-2)]: Using backend LokyBackend with 7 concurrent workers.\n",
      "[Parallel(n_jobs=-2)]: Done  36 tasks      | elapsed:  1.0min\n",
      "[Parallel(n_jobs=-2)]: Done  70 out of  70 | elapsed:  1.7min finished\n"
     ]
    }
   ],
   "source": [
    "grid = GridSearchCV(neigh, param_grid={\"n_neighbors\": list(range(1, 15))}, scoring=\"accuracy\", cv=5, verbose=1, n_jobs=-2)\n",
    "grid.fit(X_train, y_train.ravel());"
   ]
  },
  {
   "cell_type": "code",
   "execution_count": 17,
   "metadata": {},
   "outputs": [
    {
     "data": {
      "text/plain": [
       "{'n_neighbors': 1}"
      ]
     },
     "execution_count": 17,
     "metadata": {},
     "output_type": "execute_result"
    }
   ],
   "source": [
    "grid.best_params_"
   ]
  },
  {
   "cell_type": "markdown",
   "metadata": {},
   "source": [
    "Best results is **k=1**"
   ]
  },
  {
   "cell_type": "code",
   "execution_count": 21,
   "metadata": {},
   "outputs": [
    {
     "data": {
      "text/plain": [
       "0.9015576816636356"
      ]
     },
     "execution_count": 21,
     "metadata": {},
     "output_type": "execute_result"
    }
   ],
   "source": [
    "grid.best_score_"
   ]
  },
  {
   "cell_type": "code",
   "execution_count": 22,
   "metadata": {},
   "outputs": [],
   "source": [
    "y_pred = grid.predict(X_test)"
   ]
  },
  {
   "cell_type": "code",
   "execution_count": 23,
   "metadata": {},
   "outputs": [
    {
     "data": {
      "text/plain": [
       "0.9041630993150684"
      ]
     },
     "execution_count": 23,
     "metadata": {},
     "output_type": "execute_result"
    }
   ],
   "source": [
    "accuracy_score(y_test, y_pred)"
   ]
  },
  {
   "cell_type": "markdown",
   "metadata": {},
   "source": [
    "#### 90% of accuracy with KNN, k=1, threshold 1 mg/L"
   ]
  },
  {
   "cell_type": "markdown",
   "metadata": {},
   "source": [
    "## Simple regression"
   ]
  },
  {
   "cell_type": "code",
   "execution_count": 24,
   "metadata": {},
   "outputs": [],
   "source": [
    "X = use_db.copy()"
   ]
  },
  {
   "cell_type": "code",
   "execution_count": 25,
   "metadata": {},
   "outputs": [],
   "source": [
    "X = X[[\n",
    " 'test_cas',\n",
    " 'exposure_type',\n",
    " 'obs_duration_mean',\n",
    " 'conc1_type',\n",
    " 'species', \n",
    " 'genus']]"
   ]
  },
  {
   "cell_type": "markdown",
   "metadata": {},
   "source": [
    "Categorical variables with get_dummies:"
   ]
  },
  {
   "cell_type": "code",
   "execution_count": 26,
   "metadata": {},
   "outputs": [],
   "source": [
    "X = pd.get_dummies(X)"
   ]
  },
  {
   "cell_type": "code",
   "execution_count": 27,
   "metadata": {},
   "outputs": [],
   "source": [
    "y = base_db[[\"conc1_mean\"]].copy()"
   ]
  },
  {
   "cell_type": "markdown",
   "metadata": {},
   "source": [
    "CV on ridge"
   ]
  },
  {
   "cell_type": "code",
   "execution_count": 43,
   "metadata": {},
   "outputs": [],
   "source": [
    "X_train, X_test, y_train, y_test = train_test_split(\n",
    "X, y, test_size=0.33, random_state=42)\n",
    "\n",
    "reg = RidgeCV(alphas=np.logspace(-6, 6, 13))\n",
    "reg.fit(X_train, y_train);"
   ]
  },
  {
   "cell_type": "code",
   "execution_count": 44,
   "metadata": {},
   "outputs": [
    {
     "data": {
      "text/plain": [
       "100.0"
      ]
     },
     "execution_count": 44,
     "metadata": {},
     "output_type": "execute_result"
    }
   ],
   "source": [
    "reg.alpha_"
   ]
  },
  {
   "cell_type": "code",
   "execution_count": 45,
   "metadata": {},
   "outputs": [],
   "source": [
    "y_pred = reg.predict(X_test)"
   ]
  },
  {
   "cell_type": "code",
   "execution_count": 46,
   "metadata": {},
   "outputs": [
    {
     "data": {
      "text/plain": [
       "221955983.9236199"
      ]
     },
     "execution_count": 46,
     "metadata": {},
     "output_type": "execute_result"
    }
   ],
   "source": [
    "mean_squared_error(y_test, y_pred)"
   ]
  },
  {
   "cell_type": "code",
   "execution_count": 47,
   "metadata": {},
   "outputs": [
    {
     "data": {
      "text/plain": [
       "282426813.18152875"
      ]
     },
     "execution_count": 47,
     "metadata": {},
     "output_type": "execute_result"
    }
   ],
   "source": [
    "y_pred_train = reg.predict(X_train)\n",
    "mean_squared_error(y_train, y_pred_train)"
   ]
  },
  {
   "cell_type": "markdown",
   "metadata": {},
   "source": [
    "As expected, **the loss is huge**"
   ]
  }
 ],
 "metadata": {
  "kernelspec": {
   "display_name": "Python 3",
   "language": "python",
   "name": "python3"
  },
  "language_info": {
   "codemirror_mode": {
    "name": "ipython",
    "version": 3
   },
   "file_extension": ".py",
   "mimetype": "text/x-python",
   "name": "python",
   "nbconvert_exporter": "python",
   "pygments_lexer": "ipython3",
   "version": "3.7.4"
  },
  "latex_envs": {
   "LaTeX_envs_menu_present": true,
   "autoclose": false,
   "autocomplete": true,
   "bibliofile": "biblio.bib",
   "cite_by": "apalike",
   "current_citInitial": 1,
   "eqLabelWithNumbers": true,
   "eqNumInitial": 1,
   "hotkeys": {
    "equation": "Ctrl-E",
    "itemize": "Ctrl-I"
   },
   "labels_anchors": false,
   "latex_user_defs": false,
   "report_style_numbering": false,
   "user_envs_cfg": false
  },
  "varInspector": {
   "cols": {
    "lenName": 16,
    "lenType": 16,
    "lenVar": 40
   },
   "kernels_config": {
    "python": {
     "delete_cmd_postfix": "",
     "delete_cmd_prefix": "del ",
     "library": "var_list.py",
     "varRefreshCmd": "print(var_dic_list())"
    },
    "r": {
     "delete_cmd_postfix": ") ",
     "delete_cmd_prefix": "rm(",
     "library": "var_list.r",
     "varRefreshCmd": "cat(var_dic_list()) "
    }
   },
   "types_to_exclude": [
    "module",
    "function",
    "builtin_function_or_method",
    "instance",
    "_Feature"
   ],
   "window_display": false
  }
 },
 "nbformat": 4,
 "nbformat_minor": 4
}
