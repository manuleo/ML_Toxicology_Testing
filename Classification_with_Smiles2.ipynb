{
 "cells": [
  {
   "cell_type": "code",
   "execution_count": 2,
   "metadata": {},
   "outputs": [],
   "source": [
    "import pandas as pd\n",
    "import numpy as np\n",
    "import matplotlib.pyplot as plt\n",
    "#import seaborn as sns\n",
    "import re\n",
    "from sklearn.preprocessing import StandardScaler\n",
    "from sklearn.preprocessing import MinMaxScaler\n",
    "from sklearn.model_selection import train_test_split\n",
    "from sklearn.preprocessing import OrdinalEncoder\n",
    "from sklearn.neighbors import KNeighborsClassifier\n",
    "from sklearn import linear_model\n",
    "from sklearn.metrics import accuracy_score\n",
    "from sklearn.ensemble import RandomForestClassifier\n",
    "from sklearn.metrics import accuracy_score\n",
    "from sklearn.ensemble import GradientBoostingClassifier\n",
    "from sklearn.model_selection import GridSearchCV"
   ]
  },
  {
   "cell_type": "markdown",
   "metadata": {},
   "source": [
    "Considering the possible effects connected to LC50. We need to filter on **Mortality Group**"
   ]
  },
  {
   "cell_type": "markdown",
   "metadata": {},
   "source": [
    "## Preprocessing on base_db"
   ]
  },
  {
   "cell_type": "code",
   "execution_count": 3,
   "metadata": {},
   "outputs": [],
   "source": [
    "base_db = pd.read_csv('output/base_db_smiles.csv')"
   ]
  },
  {
   "cell_type": "code",
   "execution_count": 4,
   "metadata": {},
   "outputs": [
    {
     "data": {
      "text/plain": [
       "Index(['Unnamed: 0', 'test_cas', 'exposure_type', 'obs_duration_mean',\n",
       "       'conc1_type', 'conc1_mean', 'class', 'tax_order', 'family', 'genus',\n",
       "       'species', 'organism_lifestage', 'organism_characteristics',\n",
       "       'ecotox_group', 'smiles', 'atom_number', 'bonds_number', 'ring_numer',\n",
       "       'Mol', 'MorganDensity', 'LogP'],\n",
       "      dtype='object')"
      ]
     },
     "execution_count": 4,
     "metadata": {},
     "output_type": "execute_result"
    }
   ],
   "source": [
    "base_db.columns"
   ]
  },
  {
   "cell_type": "code",
   "execution_count": 5,
   "metadata": {},
   "outputs": [],
   "source": [
    "use_db = base_db.copy()\n",
    "use_db = use_db[['test_cas', 'exposure_type', 'obs_duration_mean', 'conc1_type',\n",
    "       'conc1_mean', 'class', 'tax_order', 'family', 'genus', 'species','atom_number', 'bonds_number', 'ring_numer',\n",
    "       'Mol', 'MorganDensity', 'LogP']]"
   ]
  },
  {
   "cell_type": "code",
   "execution_count": 6,
   "metadata": {},
   "outputs": [
    {
     "data": {
      "text/html": [
       "<div>\n",
       "<style scoped>\n",
       "    .dataframe tbody tr th:only-of-type {\n",
       "        vertical-align: middle;\n",
       "    }\n",
       "\n",
       "    .dataframe tbody tr th {\n",
       "        vertical-align: top;\n",
       "    }\n",
       "\n",
       "    .dataframe thead th {\n",
       "        text-align: right;\n",
       "    }\n",
       "</style>\n",
       "<table border=\"1\" class=\"dataframe\">\n",
       "  <thead>\n",
       "    <tr style=\"text-align: right;\">\n",
       "      <th></th>\n",
       "      <th>obs_duration_mean</th>\n",
       "      <th>conc1_mean</th>\n",
       "      <th>atom_number</th>\n",
       "      <th>bonds_number</th>\n",
       "      <th>ring_numer</th>\n",
       "      <th>Mol</th>\n",
       "      <th>MorganDensity</th>\n",
       "      <th>LogP</th>\n",
       "    </tr>\n",
       "  </thead>\n",
       "  <tbody>\n",
       "    <tr>\n",
       "      <th>count</th>\n",
       "      <td>53180.000000</td>\n",
       "      <td>5.318000e+04</td>\n",
       "      <td>53180.000000</td>\n",
       "      <td>53180.000000</td>\n",
       "      <td>53180.000000</td>\n",
       "      <td>53180.000000</td>\n",
       "      <td>53180.000000</td>\n",
       "      <td>53180.000000</td>\n",
       "    </tr>\n",
       "    <tr>\n",
       "      <th>mean</th>\n",
       "      <td>62.448187</td>\n",
       "      <td>3.457718e+02</td>\n",
       "      <td>13.589921</td>\n",
       "      <td>13.224878</td>\n",
       "      <td>1.097499</td>\n",
       "      <td>244.474903</td>\n",
       "      <td>1.071260</td>\n",
       "      <td>1.278474</td>\n",
       "    </tr>\n",
       "    <tr>\n",
       "      <th>std</th>\n",
       "      <td>41.799142</td>\n",
       "      <td>6.721350e+03</td>\n",
       "      <td>9.188111</td>\n",
       "      <td>10.412063</td>\n",
       "      <td>1.358434</td>\n",
       "      <td>132.967880</td>\n",
       "      <td>0.323409</td>\n",
       "      <td>3.678951</td>\n",
       "    </tr>\n",
       "    <tr>\n",
       "      <th>min</th>\n",
       "      <td>0.125000</td>\n",
       "      <td>5.200000e-08</td>\n",
       "      <td>1.000000</td>\n",
       "      <td>0.000000</td>\n",
       "      <td>0.000000</td>\n",
       "      <td>9.012000</td>\n",
       "      <td>0.200000</td>\n",
       "      <td>-24.338100</td>\n",
       "    </tr>\n",
       "    <tr>\n",
       "      <th>25%</th>\n",
       "      <td>24.000000</td>\n",
       "      <td>1.790000e-01</td>\n",
       "      <td>6.000000</td>\n",
       "      <td>4.000000</td>\n",
       "      <td>0.000000</td>\n",
       "      <td>159.609000</td>\n",
       "      <td>0.842105</td>\n",
       "      <td>-0.784780</td>\n",
       "    </tr>\n",
       "    <tr>\n",
       "      <th>50%</th>\n",
       "      <td>48.000000</td>\n",
       "      <td>2.200000e+00</td>\n",
       "      <td>13.000000</td>\n",
       "      <td>13.000000</td>\n",
       "      <td>1.000000</td>\n",
       "      <td>228.679000</td>\n",
       "      <td>1.111111</td>\n",
       "      <td>2.121800</td>\n",
       "    </tr>\n",
       "    <tr>\n",
       "      <th>75%</th>\n",
       "      <td>96.000000</td>\n",
       "      <td>2.230000e+01</td>\n",
       "      <td>19.000000</td>\n",
       "      <td>19.000000</td>\n",
       "      <td>2.000000</td>\n",
       "      <td>326.437000</td>\n",
       "      <td>1.272727</td>\n",
       "      <td>3.689800</td>\n",
       "    </tr>\n",
       "    <tr>\n",
       "      <th>max</th>\n",
       "      <td>964.000000</td>\n",
       "      <td>9.860000e+05</td>\n",
       "      <td>123.000000</td>\n",
       "      <td>135.000000</td>\n",
       "      <td>14.000000</td>\n",
       "      <td>1736.185000</td>\n",
       "      <td>2.000000</td>\n",
       "      <td>13.789100</td>\n",
       "    </tr>\n",
       "  </tbody>\n",
       "</table>\n",
       "</div>"
      ],
      "text/plain": [
       "       obs_duration_mean    conc1_mean   atom_number  bonds_number  \\\n",
       "count       53180.000000  5.318000e+04  53180.000000  53180.000000   \n",
       "mean           62.448187  3.457718e+02     13.589921     13.224878   \n",
       "std            41.799142  6.721350e+03      9.188111     10.412063   \n",
       "min             0.125000  5.200000e-08      1.000000      0.000000   \n",
       "25%            24.000000  1.790000e-01      6.000000      4.000000   \n",
       "50%            48.000000  2.200000e+00     13.000000     13.000000   \n",
       "75%            96.000000  2.230000e+01     19.000000     19.000000   \n",
       "max           964.000000  9.860000e+05    123.000000    135.000000   \n",
       "\n",
       "         ring_numer           Mol  MorganDensity          LogP  \n",
       "count  53180.000000  53180.000000   53180.000000  53180.000000  \n",
       "mean       1.097499    244.474903       1.071260      1.278474  \n",
       "std        1.358434    132.967880       0.323409      3.678951  \n",
       "min        0.000000      9.012000       0.200000    -24.338100  \n",
       "25%        0.000000    159.609000       0.842105     -0.784780  \n",
       "50%        1.000000    228.679000       1.111111      2.121800  \n",
       "75%        2.000000    326.437000       1.272727      3.689800  \n",
       "max       14.000000   1736.185000       2.000000     13.789100  "
      ]
     },
     "execution_count": 6,
     "metadata": {},
     "output_type": "execute_result"
    }
   ],
   "source": [
    "use_db.describe()"
   ]
  },
  {
   "cell_type": "markdown",
   "metadata": {},
   "source": [
    "### obs_duration_mean/conc1_mean"
   ]
  },
  {
   "cell_type": "code",
   "execution_count": 7,
   "metadata": {},
   "outputs": [],
   "source": [
    "# logarithmic transformations\n",
    "use_db.obs_duration_mean = use_db.obs_duration_mean.apply(lambda x: np.log1p(x))\n",
    "#use_db.conc1_mean = use_db.conc1_mean.apply(lambda x: np.log1p(x)) #Not good result"
   ]
  },
  {
   "cell_type": "code",
   "execution_count": 8,
   "metadata": {},
   "outputs": [],
   "source": [
    "# MinMax scale\n",
    "minmax = MinMaxScaler()\n",
    "minmax.fit(use_db[[\"obs_duration_mean\"]])\n",
    "use_db[[\"obs_duration_mean\"]] = minmax.transform(use_db[[\"obs_duration_mean\"]])"
   ]
  },
  {
   "cell_type": "code",
   "execution_count": 9,
   "metadata": {},
   "outputs": [
    {
     "data": {
      "text/html": [
       "<div>\n",
       "<style scoped>\n",
       "    .dataframe tbody tr th:only-of-type {\n",
       "        vertical-align: middle;\n",
       "    }\n",
       "\n",
       "    .dataframe tbody tr th {\n",
       "        vertical-align: top;\n",
       "    }\n",
       "\n",
       "    .dataframe thead th {\n",
       "        text-align: right;\n",
       "    }\n",
       "</style>\n",
       "<table border=\"1\" class=\"dataframe\">\n",
       "  <thead>\n",
       "    <tr style=\"text-align: right;\">\n",
       "      <th></th>\n",
       "      <th>obs_duration_mean</th>\n",
       "      <th>conc1_mean</th>\n",
       "      <th>atom_number</th>\n",
       "      <th>bonds_number</th>\n",
       "      <th>ring_numer</th>\n",
       "      <th>Mol</th>\n",
       "      <th>MorganDensity</th>\n",
       "      <th>LogP</th>\n",
       "    </tr>\n",
       "  </thead>\n",
       "  <tbody>\n",
       "    <tr>\n",
       "      <th>count</th>\n",
       "      <td>53180.000000</td>\n",
       "      <td>5.318000e+04</td>\n",
       "      <td>53180.000000</td>\n",
       "      <td>53180.000000</td>\n",
       "      <td>53180.000000</td>\n",
       "      <td>53180.000000</td>\n",
       "      <td>53180.000000</td>\n",
       "      <td>53180.000000</td>\n",
       "    </tr>\n",
       "    <tr>\n",
       "      <th>mean</th>\n",
       "      <td>0.555602</td>\n",
       "      <td>3.457718e+02</td>\n",
       "      <td>13.589921</td>\n",
       "      <td>13.224878</td>\n",
       "      <td>1.097499</td>\n",
       "      <td>244.474903</td>\n",
       "      <td>1.071260</td>\n",
       "      <td>1.278474</td>\n",
       "    </tr>\n",
       "    <tr>\n",
       "      <th>std</th>\n",
       "      <td>0.130311</td>\n",
       "      <td>6.721350e+03</td>\n",
       "      <td>9.188111</td>\n",
       "      <td>10.412063</td>\n",
       "      <td>1.358434</td>\n",
       "      <td>132.967880</td>\n",
       "      <td>0.323409</td>\n",
       "      <td>3.678951</td>\n",
       "    </tr>\n",
       "    <tr>\n",
       "      <th>min</th>\n",
       "      <td>0.000000</td>\n",
       "      <td>5.200000e-08</td>\n",
       "      <td>1.000000</td>\n",
       "      <td>0.000000</td>\n",
       "      <td>0.000000</td>\n",
       "      <td>9.012000</td>\n",
       "      <td>0.200000</td>\n",
       "      <td>-24.338100</td>\n",
       "    </tr>\n",
       "    <tr>\n",
       "      <th>25%</th>\n",
       "      <td>0.459126</td>\n",
       "      <td>1.790000e-01</td>\n",
       "      <td>6.000000</td>\n",
       "      <td>4.000000</td>\n",
       "      <td>0.000000</td>\n",
       "      <td>159.609000</td>\n",
       "      <td>0.842105</td>\n",
       "      <td>-0.784780</td>\n",
       "    </tr>\n",
       "    <tr>\n",
       "      <th>50%</th>\n",
       "      <td>0.558757</td>\n",
       "      <td>2.200000e+00</td>\n",
       "      <td>13.000000</td>\n",
       "      <td>13.000000</td>\n",
       "      <td>1.000000</td>\n",
       "      <td>228.679000</td>\n",
       "      <td>1.111111</td>\n",
       "      <td>2.121800</td>\n",
       "    </tr>\n",
       "    <tr>\n",
       "      <th>75%</th>\n",
       "      <td>0.659861</td>\n",
       "      <td>2.230000e+01</td>\n",
       "      <td>19.000000</td>\n",
       "      <td>19.000000</td>\n",
       "      <td>2.000000</td>\n",
       "      <td>326.437000</td>\n",
       "      <td>1.272727</td>\n",
       "      <td>3.689800</td>\n",
       "    </tr>\n",
       "    <tr>\n",
       "      <th>max</th>\n",
       "      <td>1.000000</td>\n",
       "      <td>9.860000e+05</td>\n",
       "      <td>123.000000</td>\n",
       "      <td>135.000000</td>\n",
       "      <td>14.000000</td>\n",
       "      <td>1736.185000</td>\n",
       "      <td>2.000000</td>\n",
       "      <td>13.789100</td>\n",
       "    </tr>\n",
       "  </tbody>\n",
       "</table>\n",
       "</div>"
      ],
      "text/plain": [
       "       obs_duration_mean    conc1_mean   atom_number  bonds_number  \\\n",
       "count       53180.000000  5.318000e+04  53180.000000  53180.000000   \n",
       "mean            0.555602  3.457718e+02     13.589921     13.224878   \n",
       "std             0.130311  6.721350e+03      9.188111     10.412063   \n",
       "min             0.000000  5.200000e-08      1.000000      0.000000   \n",
       "25%             0.459126  1.790000e-01      6.000000      4.000000   \n",
       "50%             0.558757  2.200000e+00     13.000000     13.000000   \n",
       "75%             0.659861  2.230000e+01     19.000000     19.000000   \n",
       "max             1.000000  9.860000e+05    123.000000    135.000000   \n",
       "\n",
       "         ring_numer           Mol  MorganDensity          LogP  \n",
       "count  53180.000000  53180.000000   53180.000000  53180.000000  \n",
       "mean       1.097499    244.474903       1.071260      1.278474  \n",
       "std        1.358434    132.967880       0.323409      3.678951  \n",
       "min        0.000000      9.012000       0.200000    -24.338100  \n",
       "25%        0.000000    159.609000       0.842105     -0.784780  \n",
       "50%        1.000000    228.679000       1.111111      2.121800  \n",
       "75%        2.000000    326.437000       1.272727      3.689800  \n",
       "max       14.000000   1736.185000       2.000000     13.789100  "
      ]
     },
     "execution_count": 9,
     "metadata": {},
     "output_type": "execute_result"
    }
   ],
   "source": [
    "use_db.describe()"
   ]
  },
  {
   "cell_type": "code",
   "execution_count": 10,
   "metadata": {},
   "outputs": [],
   "source": [
    "# standardization\n",
    "scaler = StandardScaler()\n",
    "scaler.fit(use_db[[\"obs_duration_mean\"]])\n",
    "use_db[[\"obs_duration_mean\"]] = scaler.transform(use_db[[\"obs_duration_mean\"]])"
   ]
  },
  {
   "cell_type": "markdown",
   "metadata": {},
   "source": [
    "## Atom Number"
   ]
  },
  {
   "cell_type": "code",
   "execution_count": 11,
   "metadata": {},
   "outputs": [
    {
     "data": {
      "image/png": "[encoded data removed]",
      "text/plain": [
       "<Figure size 432x288 with 1 Axes>"
      ]
     },
     "metadata": {
      "needs_background": "light"
     },
     "output_type": "display_data"
    }
   ],
   "source": [
    "# plotted as before\n",
    "use_db.atom_number.hist(bins=100)\n",
    "plt.title(\"atom_number\")\n",
    "plt.xlabel(\"Value\")\n",
    "plt.ylabel(\"Counts\");"
   ]
  },
  {
   "cell_type": "markdown",
   "metadata": {},
   "source": [
    "We decided to scale by both a logarithmic transformations ans a MinMax scale"
   ]
  },
  {
   "cell_type": "code",
   "execution_count": 12,
   "metadata": {},
   "outputs": [],
   "source": [
    "# logarithmic transformations\n",
    "use_db.atom_number = use_db.atom_number.apply(lambda x: np.log1p(x))\n",
    "# MinMax scale\n",
    "minmax = MinMaxScaler()\n",
    "minmax.fit(use_db[[\"atom_number\"]])\n",
    "use_db[[\"atom_number\"]] = minmax.transform(use_db[[\"atom_number\"]])"
   ]
  },
  {
   "cell_type": "code",
   "execution_count": 13,
   "metadata": {},
   "outputs": [
    {
     "data": {
      "image/png": "[encoded data removed]",
      "text/plain": [
       "<Figure size 432x288 with 1 Axes>"
      ]
     },
     "metadata": {
      "needs_background": "light"
     },
     "output_type": "display_data"
    }
   ],
   "source": [
    "# plotted as before\n",
    "use_db.atom_number.hist(bins=30)\n",
    "plt.title(\"atom_number\")\n",
    "plt.xlabel(\"Value\")\n",
    "plt.ylabel(\"Counts\");"
   ]
  },
  {
   "cell_type": "markdown",
   "metadata": {},
   "source": [
    "## Bonds Number"
   ]
  },
  {
   "cell_type": "code",
   "execution_count": 14,
   "metadata": {},
   "outputs": [
    {
     "data": {
      "image/png": "[encoded data removed]",
      "text/plain": [
       "<Figure size 432x288 with 1 Axes>"
      ]
     },
     "metadata": {
      "needs_background": "light"
     },
     "output_type": "display_data"
    }
   ],
   "source": [
    "# plotted as before\n",
    "use_db.bonds_number.hist(bins=100)\n",
    "plt.yscale(\"log\")\n",
    "plt.title(\"bonds_number\")\n",
    "plt.xlabel(\"Value\")\n",
    "plt.ylabel(\"Counts\");"
   ]
  },
  {
   "cell_type": "markdown",
   "metadata": {},
   "source": [
    "We decided to scale by both a logarithmic transformations ans a MinMax scale"
   ]
  },
  {
   "cell_type": "code",
   "execution_count": 15,
   "metadata": {},
   "outputs": [],
   "source": [
    "# logarithmic transformations\n",
    "use_db.bonds_number = use_db.bonds_number.apply(lambda x: np.log1p(x))\n",
    "# MinMax scale\n",
    "minmax = MinMaxScaler()\n",
    "minmax.fit(use_db[[\"bonds_number\"]])\n",
    "use_db[[\"bonds_number\"]] = minmax.transform(use_db[[\"bonds_number\"]])"
   ]
  },
  {
   "cell_type": "code",
   "execution_count": 16,
   "metadata": {},
   "outputs": [
    {
     "data": {
      "image/png": "[encoded data removed]",
      "text/plain": [
       "<Figure size 432x288 with 1 Axes>"
      ]
     },
     "metadata": {
      "needs_background": "light"
     },
     "output_type": "display_data"
    }
   ],
   "source": [
    "use_db.bonds_number.hist(bins=100)\n",
    "plt.title(\"bonds_number\")\n",
    "plt.xlabel(\"Value\")\n",
    "plt.ylabel(\"Counts\");"
   ]
  },
  {
   "cell_type": "markdown",
   "metadata": {},
   "source": [
    "## Rings number"
   ]
  },
  {
   "cell_type": "code",
   "execution_count": 17,
   "metadata": {},
   "outputs": [
    {
     "data": {
      "image/png": "[encoded data removed]",
      "text/plain": [
       "<Figure size 432x288 with 1 Axes>"
      ]
     },
     "metadata": {
      "needs_background": "light"
     },
     "output_type": "display_data"
    }
   ],
   "source": [
    "# plotted as before\n",
    "use_db.ring_numer.hist(bins=100)\n",
    "#plt.yscale(\"log\")\n",
    "plt.title(\"ring_numer\")\n",
    "plt.xlabel(\"Value\")\n",
    "plt.ylabel(\"Counts\");"
   ]
  },
  {
   "cell_type": "markdown",
   "metadata": {},
   "source": [
    "We assume this as a categrical features and we don't change it"
   ]
  },
  {
   "cell_type": "markdown",
   "metadata": {},
   "source": [
    "## Mol"
   ]
  },
  {
   "cell_type": "code",
   "execution_count": 18,
   "metadata": {},
   "outputs": [
    {
     "data": {
      "image/png": "[encoded data removed]",
      "text/plain": [
       "<Figure size 432x288 with 1 Axes>"
      ]
     },
     "metadata": {
      "needs_background": "light"
     },
     "output_type": "display_data"
    }
   ],
   "source": [
    "# plotted as before\n",
    "use_db.Mol.hist(bins=100)\n",
    "plt.yscale(\"log\")\n",
    "plt.title(\"Mol\")\n",
    "plt.xlabel(\"Value\")\n",
    "plt.ylabel(\"Counts\");"
   ]
  },
  {
   "cell_type": "markdown",
   "metadata": {},
   "source": [
    "We only this to scale the range of this variable"
   ]
  },
  {
   "cell_type": "code",
   "execution_count": 19,
   "metadata": {},
   "outputs": [],
   "source": [
    "# MinMax scale\n",
    "minmax = MinMaxScaler()\n",
    "minmax.fit(use_db[[\"Mol\"]])\n",
    "use_db[[\"Mol\"]] = minmax.transform(use_db[[\"Mol\"]])"
   ]
  },
  {
   "cell_type": "code",
   "execution_count": 20,
   "metadata": {},
   "outputs": [
    {
     "data": {
      "image/png": "[encoded data removed]",
      "text/plain": [
       "<Figure size 432x288 with 1 Axes>"
      ]
     },
     "metadata": {
      "needs_background": "light"
     },
     "output_type": "display_data"
    }
   ],
   "source": [
    "# plotted as before\n",
    "use_db.Mol.hist(bins=100)\n",
    "plt.title(\"Mol\")\n",
    "plt.xlabel(\"Value\")\n",
    "plt.ylabel(\"Counts\");"
   ]
  },
  {
   "cell_type": "markdown",
   "metadata": {},
   "source": [
    "## Morgan Density"
   ]
  },
  {
   "cell_type": "code",
   "execution_count": 21,
   "metadata": {},
   "outputs": [
    {
     "data": {
      "image/png": "[encoded data removed]",
      "text/plain": [
       "<Figure size 432x288 with 1 Axes>"
      ]
     },
     "metadata": {
      "needs_background": "light"
     },
     "output_type": "display_data"
    }
   ],
   "source": [
    "# plotted as before\n",
    "use_db.MorganDensity.hist(bins=100)\n",
    "#plt.yscale(\"log\")\n",
    "plt.title(\"MorganDensity\")\n",
    "plt.xlabel(\"Value\")\n",
    "plt.ylabel(\"Counts\");"
   ]
  },
  {
   "cell_type": "markdown",
   "metadata": {},
   "source": [
    "We keeo this untouch"
   ]
  },
  {
   "cell_type": "markdown",
   "metadata": {},
   "source": [
    "## LogP"
   ]
  },
  {
   "cell_type": "code",
   "execution_count": 22,
   "metadata": {},
   "outputs": [
    {
     "data": {
      "image/png": "[encoded data removed]",
      "text/plain": [
       "<Figure size 432x288 with 1 Axes>"
      ]
     },
     "metadata": {
      "needs_background": "light"
     },
     "output_type": "display_data"
    }
   ],
   "source": [
    "# plotted as before\n",
    "use_db.LogP.hist(bins=100)\n",
    "plt.title(\"LogP\")\n",
    "plt.xlabel(\"Value\")\n",
    "plt.ylabel(\"Counts\");"
   ]
  },
  {
   "cell_type": "markdown",
   "metadata": {},
   "source": []
  },
  {
   "cell_type": "markdown",
   "metadata": {},
   "source": [
    "### categorical features  \n",
    "We will need to encode exposure_type, conc1_type, class, tax_order, family_genus, species. Not done now because we will encoding depending on the case"
   ]
  },
  {
   "cell_type": "markdown",
   "metadata": {},
   "source": [
    "### Simple classification with Smile Features\n",
    "Considering a threshold of 1mg/L of mortality"
   ]
  },
  {
   "cell_type": "code",
   "execution_count": 23,
   "metadata": {},
   "outputs": [],
   "source": [
    "X = use_db.copy()\n",
    "X = X[[\n",
    " 'exposure_type',\n",
    " 'obs_duration_mean',\n",
    " 'conc1_type',\n",
    " 'species',\n",
    " 'atom_number',\n",
    " 'bonds_number',\n",
    "  'ring_numer',\n",
    "  'Mol', \n",
    "  'MorganDensity', 'LogP']]"
   ]
  },
  {
   "cell_type": "code",
   "execution_count": 24,
   "metadata": {},
   "outputs": [
    {
     "data": {
      "text/plain": [
       "array(['S', 'F', 'R', 'AQUA', 'P', 'IP', 'E', 'SP', 'O', 'FD'],\n",
       "      dtype=object)"
      ]
     },
     "execution_count": 24,
     "metadata": {},
     "output_type": "execute_result"
    }
   ],
   "source": [
    "X['exposure_type'].unique()"
   ]
  },
  {
   "cell_type": "code",
   "execution_count": 25,
   "metadata": {},
   "outputs": [
    {
     "data": {
      "text/plain": [
       "array(['T', 'D', 'L', 'F', 'A', 'U'], dtype=object)"
      ]
     },
     "execution_count": 25,
     "metadata": {},
     "output_type": "execute_result"
    }
   ],
   "source": [
    "X['conc1_type'].unique()"
   ]
  },
  {
   "cell_type": "code",
   "execution_count": 26,
   "metadata": {
    "scrolled": true
   },
   "outputs": [
    {
     "data": {
      "text/plain": [
       "488"
      ]
     },
     "execution_count": 26,
     "metadata": {},
     "output_type": "execute_result"
    }
   ],
   "source": [
    "len(X['species'].unique())"
   ]
  },
  {
   "cell_type": "markdown",
   "metadata": {},
   "source": [
    "For this  vaiables we decided to transform than by an OrdinalEncoder, in order to have all numnerical variables"
   ]
  },
  {
   "cell_type": "code",
   "execution_count": 27,
   "metadata": {},
   "outputs": [],
   "source": [
    "enc = OrdinalEncoder(dtype=int)\n",
    "enc.fit(X[[\"exposure_type\", \"conc1_type\",\"species\"]])\n",
    "X[[\"exposure_type\", \"conc1_type\",\"species\"]] = enc.transform(X[[\"exposure_type\", \"conc1_type\",\"species\"]]) + 1"
   ]
  },
  {
   "cell_type": "code",
   "execution_count": 28,
   "metadata": {},
   "outputs": [
    {
     "data": {
      "text/html": [
       "<div>\n",
       "<style scoped>\n",
       "    .dataframe tbody tr th:only-of-type {\n",
       "        vertical-align: middle;\n",
       "    }\n",
       "\n",
       "    .dataframe tbody tr th {\n",
       "        vertical-align: top;\n",
       "    }\n",
       "\n",
       "    .dataframe thead th {\n",
       "        text-align: right;\n",
       "    }\n",
       "</style>\n",
       "<table border=\"1\" class=\"dataframe\">\n",
       "  <thead>\n",
       "    <tr style=\"text-align: right;\">\n",
       "      <th></th>\n",
       "      <th>exposure_type</th>\n",
       "      <th>obs_duration_mean</th>\n",
       "      <th>conc1_type</th>\n",
       "      <th>species</th>\n",
       "      <th>atom_number</th>\n",
       "      <th>bonds_number</th>\n",
       "      <th>ring_numer</th>\n",
       "      <th>Mol</th>\n",
       "      <th>MorganDensity</th>\n",
       "      <th>LogP</th>\n",
       "    </tr>\n",
       "  </thead>\n",
       "  <tbody>\n",
       "    <tr>\n",
       "      <th>0</th>\n",
       "      <td>9</td>\n",
       "      <td>0.024211</td>\n",
       "      <td>5</td>\n",
       "      <td>40</td>\n",
       "      <td>0.167949</td>\n",
       "      <td>0.0</td>\n",
       "      <td>0</td>\n",
       "      <td>0.10092</td>\n",
       "      <td>0.666667</td>\n",
       "      <td>-5.9945</td>\n",
       "    </tr>\n",
       "    <tr>\n",
       "      <th>1</th>\n",
       "      <td>9</td>\n",
       "      <td>-0.740360</td>\n",
       "      <td>5</td>\n",
       "      <td>208</td>\n",
       "      <td>0.167949</td>\n",
       "      <td>0.0</td>\n",
       "      <td>0</td>\n",
       "      <td>0.10092</td>\n",
       "      <td>0.666667</td>\n",
       "      <td>-5.9945</td>\n",
       "    </tr>\n",
       "    <tr>\n",
       "      <th>2</th>\n",
       "      <td>3</td>\n",
       "      <td>0.800083</td>\n",
       "      <td>5</td>\n",
       "      <td>312</td>\n",
       "      <td>0.167949</td>\n",
       "      <td>0.0</td>\n",
       "      <td>0</td>\n",
       "      <td>0.10092</td>\n",
       "      <td>0.666667</td>\n",
       "      <td>-5.9945</td>\n",
       "    </tr>\n",
       "    <tr>\n",
       "      <th>3</th>\n",
       "      <td>9</td>\n",
       "      <td>0.800083</td>\n",
       "      <td>5</td>\n",
       "      <td>474</td>\n",
       "      <td>0.167949</td>\n",
       "      <td>0.0</td>\n",
       "      <td>0</td>\n",
       "      <td>0.10092</td>\n",
       "      <td>0.666667</td>\n",
       "      <td>-5.9945</td>\n",
       "    </tr>\n",
       "    <tr>\n",
       "      <th>4</th>\n",
       "      <td>3</td>\n",
       "      <td>3.037407</td>\n",
       "      <td>5</td>\n",
       "      <td>312</td>\n",
       "      <td>0.167949</td>\n",
       "      <td>0.0</td>\n",
       "      <td>0</td>\n",
       "      <td>0.10092</td>\n",
       "      <td>0.666667</td>\n",
       "      <td>-5.9945</td>\n",
       "    </tr>\n",
       "  </tbody>\n",
       "</table>\n",
       "</div>"
      ],
      "text/plain": [
       "   exposure_type  obs_duration_mean  conc1_type  species  atom_number  \\\n",
       "0              9           0.024211           5       40     0.167949   \n",
       "1              9          -0.740360           5      208     0.167949   \n",
       "2              3           0.800083           5      312     0.167949   \n",
       "3              9           0.800083           5      474     0.167949   \n",
       "4              3           3.037407           5      312     0.167949   \n",
       "\n",
       "   bonds_number  ring_numer      Mol  MorganDensity    LogP  \n",
       "0           0.0           0  0.10092       0.666667 -5.9945  \n",
       "1           0.0           0  0.10092       0.666667 -5.9945  \n",
       "2           0.0           0  0.10092       0.666667 -5.9945  \n",
       "3           0.0           0  0.10092       0.666667 -5.9945  \n",
       "4           0.0           0  0.10092       0.666667 -5.9945  "
      ]
     },
     "execution_count": 28,
     "metadata": {},
     "output_type": "execute_result"
    }
   ],
   "source": [
    "X.head()"
   ]
  },
  {
   "cell_type": "markdown",
   "metadata": {},
   "source": [
    "We also devide the label, in order to have a binary classification"
   ]
  },
  {
   "cell_type": "code",
   "execution_count": 29,
   "metadata": {},
   "outputs": [],
   "source": [
    "y = base_db[[\"conc1_mean\"]].copy().values\n",
    "y = np.where(y > 1, 1, 0)"
   ]
  },
  {
   "cell_type": "code",
   "execution_count": 30,
   "metadata": {},
   "outputs": [
    {
     "name": "stdout",
     "output_type": "stream",
     "text": [
      "22224 30956\n"
     ]
    }
   ],
   "source": [
    "print(len(y[y==0]), len(y[y==1]))"
   ]
  },
  {
   "cell_type": "code",
   "execution_count": 31,
   "metadata": {},
   "outputs": [],
   "source": [
    "X_train, X_test, y_train, y_test = train_test_split(X, y, test_size=0.33, random_state=42)"
   ]
  },
  {
   "cell_type": "markdown",
   "metadata": {},
   "source": [
    "## KNN"
   ]
  },
  {
   "cell_type": "markdown",
   "metadata": {},
   "source": [
    "We first implement a classification by a K Neighbors Classifier"
   ]
  },
  {
   "cell_type": "code",
   "execution_count": 32,
   "metadata": {},
   "outputs": [],
   "source": [
    "neigh = KNeighborsClassifier()\n",
    "neigh.fit(X_train, y_train.ravel())\n",
    "y_pred = neigh.predict(X_test)"
   ]
  },
  {
   "cell_type": "code",
   "execution_count": 33,
   "metadata": {},
   "outputs": [
    {
     "data": {
      "text/plain": [
       "0.8392022792022792"
      ]
     },
     "execution_count": 33,
     "metadata": {},
     "output_type": "execute_result"
    }
   ],
   "source": [
    "accuracy_score(y_test, y_pred)"
   ]
  },
  {
   "cell_type": "markdown",
   "metadata": {},
   "source": [
    "0.84 is the accuracy on tis first model"
   ]
  },
  {
   "cell_type": "markdown",
   "metadata": {},
   "source": [
    "## Random Forest"
   ]
  },
  {
   "cell_type": "code",
   "execution_count": 34,
   "metadata": {},
   "outputs": [],
   "source": [
    "forest = RandomForestClassifier(n_estimators = 100)\n",
    "forest.fit(X_train, y_train.ravel())\n",
    "y_pred = forest.predict(X_test)"
   ]
  },
  {
   "cell_type": "code",
   "execution_count": 35,
   "metadata": {},
   "outputs": [
    {
     "data": {
      "text/plain": [
       "0.9133333333333333"
      ]
     },
     "execution_count": 35,
     "metadata": {},
     "output_type": "execute_result"
    }
   ],
   "source": [
    "accuracy_score(y_test, y_pred)"
   ]
  },
  {
   "cell_type": "markdown",
   "metadata": {},
   "source": [
    "This is the second model we have implemented, with an accurancy of the 0.91. which for the moment is not bad"
   ]
  },
  {
   "cell_type": "markdown",
   "metadata": {},
   "source": [
    "## Gradient Boosting"
   ]
  },
  {
   "cell_type": "code",
   "execution_count": 36,
   "metadata": {},
   "outputs": [],
   "source": [
    "grboost = GradientBoostingClassifier()\n",
    "grboost.fit(X_train, y_train.ravel())\n",
    "y_pred = grboost.predict(X_test)"
   ]
  },
  {
   "cell_type": "code",
   "execution_count": 37,
   "metadata": {},
   "outputs": [
    {
     "data": {
      "text/plain": [
       "0.8338461538461538"
      ]
     },
     "execution_count": 37,
     "metadata": {},
     "output_type": "execute_result"
    }
   ],
   "source": [
    "accuracy_score(y_test, y_pred)"
   ]
  },
  {
   "cell_type": "code",
   "execution_count": null,
   "metadata": {},
   "outputs": [],
   "source": [
    "# grid = GridSearchCV(forest, param_grid={\"n_estimators\": list(range(1, 500))}, scoring=\"accuracy\", cv=5)\n",
    "# grid.fit(X_train, y_train.ravel())"
   ]
  }
 ],
 "metadata": {
  "kernelspec": {
   "display_name": "Python 3",
   "language": "python",
   "name": "python3"
  },
  "language_info": {
   "codemirror_mode": {
    "name": "ipython",
    "version": 3
   },
   "file_extension": ".py",
   "mimetype": "text/x-python",
   "name": "python",
   "nbconvert_exporter": "python",
   "pygments_lexer": "ipython3",
   "version": "3.7.3"
  },
  "latex_envs": {
   "LaTeX_envs_menu_present": true,
   "autoclose": false,
   "autocomplete": true,
   "bibliofile": "biblio.bib",
   "cite_by": "apalike",
   "current_citInitial": 1,
   "eqLabelWithNumbers": true,
   "eqNumInitial": 1,
   "hotkeys": {
    "equation": "Ctrl-E",
    "itemize": "Ctrl-I"
   },
   "labels_anchors": false,
   "latex_user_defs": false,
   "report_style_numbering": false,
   "user_envs_cfg": false
  },
  "varInspector": {
   "cols": {
    "lenName": 16,
    "lenType": 16,
    "lenVar": 40
   },
   "kernels_config": {
    "python": {
     "delete_cmd_postfix": "",
     "delete_cmd_prefix": "del ",
     "library": "var_list.py",
     "varRefreshCmd": "print(var_dic_list())"
    },
    "r": {
     "delete_cmd_postfix": ") ",
     "delete_cmd_prefix": "rm(",
     "library": "var_list.r",
     "varRefreshCmd": "cat(var_dic_list()) "
    }
   },
   "types_to_exclude": [
    "module",
    "function",
    "builtin_function_or_method",
    "instance",
    "_Feature"
   ],
   "window_display": false
  }
 },
 "nbformat": 4,
 "nbformat_minor": 4
}
