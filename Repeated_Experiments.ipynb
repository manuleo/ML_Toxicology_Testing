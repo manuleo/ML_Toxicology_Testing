{
 "cells": [
  {
   "cell_type": "code",
   "execution_count": 3,
   "metadata": {},
   "outputs": [],
   "source": [
    "import pandas as pd\n",
    "import numpy as np\n",
    "import matplotlib.pyplot as plt\n",
    "import seaborn as sns\n",
    "import re\n",
    "from sklearn.preprocessing import StandardScaler\n",
    "from sklearn.preprocessing import MinMaxScaler"
   ]
  },
  {
   "cell_type": "code",
   "execution_count": 4,
   "metadata": {},
   "outputs": [],
   "source": [
    "from sklearn.model_selection import train_test_split\n",
    "from sklearn.neighbors import KNeighborsClassifier\n",
    "from sklearn.metrics import accuracy_score\n",
    "from sklearn.ensemble import RandomForestClassifier\n",
    "from sklearn.ensemble import GradientBoostingClassifier\n",
    "from sklearn.model_selection import GridSearchCV\n",
    "from sklearn.linear_model import RidgeCV\n",
    "from sklearn.metrics import mean_squared_error"
   ]
  },
  {
   "cell_type": "code",
   "execution_count": 5,
   "metadata": {},
   "outputs": [],
   "source": [
    "plt.rcParams['figure.figsize'] = (15, 8)"
   ]
  },
  {
   "cell_type": "code",
   "execution_count": 7,
   "metadata": {},
   "outputs": [],
   "source": [
    "base_db = pd.read_csv(\"use_db_sabato14.csv\")"
   ]
  },
  {
   "cell_type": "markdown",
   "metadata": {},
   "source": [
    "# Repeated experiments"
   ]
  },
  {
   "cell_type": "markdown",
   "metadata": {},
   "source": [
    "**Considering only the top case duration experiments**"
   ]
  },
  {
   "cell_type": "code",
   "execution_count": 8,
   "metadata": {},
   "outputs": [
    {
     "data": {
      "text/plain": [
       "96.0     22305\n",
       "24.0     11322\n",
       "48.0      9349\n",
       "72.0      2799\n",
       "6.0        892\n",
       "         ...  \n",
       "27.5         1\n",
       "167.5        1\n",
       "58.5         1\n",
       "70.8         1\n",
       "298.0        1\n",
       "Name: obs_duration_mean, Length: 262, dtype: int64"
      ]
     },
     "execution_count": 8,
     "metadata": {},
     "output_type": "execute_result"
    }
   ],
   "source": [
    "base_db.obs_duration_mean.value_counts()"
   ]
  },
  {
   "cell_type": "code",
   "execution_count": 9,
   "metadata": {},
   "outputs": [
    {
     "data": {
      "text/plain": [
       "45775"
      ]
     },
     "execution_count": 9,
     "metadata": {},
     "output_type": "execute_result"
    }
   ],
   "source": [
    "base_db = base_db[base_db.obs_duration_mean.isin([96, 24, 48, 72])]\n",
    "base_db.index.size"
   ]
  },
  {
   "cell_type": "code",
   "execution_count": 24,
   "metadata": {},
   "outputs": [
    {
     "data": {
      "text/html": [
       "<div>\n",
       "<style scoped>\n",
       "    .dataframe tbody tr th:only-of-type {\n",
       "        vertical-align: middle;\n",
       "    }\n",
       "\n",
       "    .dataframe tbody tr th {\n",
       "        vertical-align: top;\n",
       "    }\n",
       "\n",
       "    .dataframe thead th {\n",
       "        text-align: right;\n",
       "    }\n",
       "</style>\n",
       "<table border=\"1\" class=\"dataframe\">\n",
       "  <thead>\n",
       "    <tr style=\"text-align: right;\">\n",
       "      <th></th>\n",
       "      <th></th>\n",
       "      <th></th>\n",
       "      <th></th>\n",
       "      <th></th>\n",
       "      <th>Median</th>\n",
       "      <th>Count</th>\n",
       "      <th>Std</th>\n",
       "    </tr>\n",
       "    <tr>\n",
       "      <th>test_cas</th>\n",
       "      <th>species</th>\n",
       "      <th>obs_duration_mean</th>\n",
       "      <th>conc1_type</th>\n",
       "      <th>exposure_type</th>\n",
       "      <th></th>\n",
       "      <th></th>\n",
       "      <th></th>\n",
       "    </tr>\n",
       "  </thead>\n",
       "  <tbody>\n",
       "    <tr>\n",
       "      <td rowspan=\"2\" valign=\"top\">100-01-6</td>\n",
       "      <td rowspan=\"2\" valign=\"top\">promelas</td>\n",
       "      <td rowspan=\"2\" valign=\"top\">96.0</td>\n",
       "      <td rowspan=\"2\" valign=\"top\">A</td>\n",
       "      <td>F</td>\n",
       "      <td>125.000</td>\n",
       "      <td>2</td>\n",
       "      <td>0.000000</td>\n",
       "    </tr>\n",
       "    <tr>\n",
       "      <td>S</td>\n",
       "      <td>103.950</td>\n",
       "      <td>2</td>\n",
       "      <td>3.040559</td>\n",
       "    </tr>\n",
       "    <tr>\n",
       "      <td rowspan=\"3\" valign=\"top\">100-02-7</td>\n",
       "      <td>macrochirus</td>\n",
       "      <td>96.0</td>\n",
       "      <td>A</td>\n",
       "      <td>S</td>\n",
       "      <td>8.300</td>\n",
       "      <td>3</td>\n",
       "      <td>8.443341</td>\n",
       "    </tr>\n",
       "    <tr>\n",
       "      <td>mykiss</td>\n",
       "      <td>96.0</td>\n",
       "      <td>A</td>\n",
       "      <td>S</td>\n",
       "      <td>5.945</td>\n",
       "      <td>6</td>\n",
       "      <td>29.692050</td>\n",
       "    </tr>\n",
       "    <tr>\n",
       "      <td>promelas</td>\n",
       "      <td>96.0</td>\n",
       "      <td>A</td>\n",
       "      <td>F</td>\n",
       "      <td>41.000</td>\n",
       "      <td>9</td>\n",
       "      <td>12.575671</td>\n",
       "    </tr>\n",
       "    <tr>\n",
       "      <td>...</td>\n",
       "      <td>...</td>\n",
       "      <td>...</td>\n",
       "      <td>...</td>\n",
       "      <td>...</td>\n",
       "      <td>...</td>\n",
       "      <td>...</td>\n",
       "      <td>...</td>\n",
       "    </tr>\n",
       "    <tr>\n",
       "      <td>99-65-0</td>\n",
       "      <td>promelas</td>\n",
       "      <td>96.0</td>\n",
       "      <td>A</td>\n",
       "      <td>S</td>\n",
       "      <td>15.900</td>\n",
       "      <td>3</td>\n",
       "      <td>5.416949</td>\n",
       "    </tr>\n",
       "    <tr>\n",
       "      <td>99-97-8</td>\n",
       "      <td>promelas</td>\n",
       "      <td>96.0</td>\n",
       "      <td>A</td>\n",
       "      <td>F</td>\n",
       "      <td>49.000</td>\n",
       "      <td>2</td>\n",
       "      <td>4.242641</td>\n",
       "    </tr>\n",
       "    <tr>\n",
       "      <td>999-61-1</td>\n",
       "      <td>promelas</td>\n",
       "      <td>96.0</td>\n",
       "      <td>A</td>\n",
       "      <td>F</td>\n",
       "      <td>3.355</td>\n",
       "      <td>4</td>\n",
       "      <td>0.294449</td>\n",
       "    </tr>\n",
       "    <tr>\n",
       "      <td rowspan=\"2\" valign=\"top\">999-81-5</td>\n",
       "      <td>macrochirus</td>\n",
       "      <td>96.0</td>\n",
       "      <td>A</td>\n",
       "      <td>S</td>\n",
       "      <td>550.000</td>\n",
       "      <td>2</td>\n",
       "      <td>636.396103</td>\n",
       "    </tr>\n",
       "    <tr>\n",
       "      <td>mykiss</td>\n",
       "      <td>96.0</td>\n",
       "      <td>A</td>\n",
       "      <td>S</td>\n",
       "      <td>550.000</td>\n",
       "      <td>2</td>\n",
       "      <td>636.396103</td>\n",
       "    </tr>\n",
       "  </tbody>\n",
       "</table>\n",
       "<p>7236 rows × 3 columns</p>\n",
       "</div>"
      ],
      "text/plain": [
       "                                                                  Median  \\\n",
       "test_cas species     obs_duration_mean conc1_type exposure_type            \n",
       "100-01-6 promelas    96.0              A          F              125.000   \n",
       "                                                  S              103.950   \n",
       "100-02-7 macrochirus 96.0              A          S                8.300   \n",
       "         mykiss      96.0              A          S                5.945   \n",
       "         promelas    96.0              A          F               41.000   \n",
       "...                                                                  ...   \n",
       "99-65-0  promelas    96.0              A          S               15.900   \n",
       "99-97-8  promelas    96.0              A          F               49.000   \n",
       "999-61-1 promelas    96.0              A          F                3.355   \n",
       "999-81-5 macrochirus 96.0              A          S              550.000   \n",
       "         mykiss      96.0              A          S              550.000   \n",
       "\n",
       "                                                                 Count  \\\n",
       "test_cas species     obs_duration_mean conc1_type exposure_type          \n",
       "100-01-6 promelas    96.0              A          F                  2   \n",
       "                                                  S                  2   \n",
       "100-02-7 macrochirus 96.0              A          S                  3   \n",
       "         mykiss      96.0              A          S                  6   \n",
       "         promelas    96.0              A          F                  9   \n",
       "...                                                                ...   \n",
       "99-65-0  promelas    96.0              A          S                  3   \n",
       "99-97-8  promelas    96.0              A          F                  2   \n",
       "999-61-1 promelas    96.0              A          F                  4   \n",
       "999-81-5 macrochirus 96.0              A          S                  2   \n",
       "         mykiss      96.0              A          S                  2   \n",
       "\n",
       "                                                                        Std  \n",
       "test_cas species     obs_duration_mean conc1_type exposure_type              \n",
       "100-01-6 promelas    96.0              A          F                0.000000  \n",
       "                                                  S                3.040559  \n",
       "100-02-7 macrochirus 96.0              A          S                8.443341  \n",
       "         mykiss      96.0              A          S               29.692050  \n",
       "         promelas    96.0              A          F               12.575671  \n",
       "...                                                                     ...  \n",
       "99-65-0  promelas    96.0              A          S                5.416949  \n",
       "99-97-8  promelas    96.0              A          F                4.242641  \n",
       "999-61-1 promelas    96.0              A          F                0.294449  \n",
       "999-81-5 macrochirus 96.0              A          S              636.396103  \n",
       "         mykiss      96.0              A          S              636.396103  \n",
       "\n",
       "[7236 rows x 3 columns]"
      ]
     },
     "execution_count": 24,
     "metadata": {},
     "output_type": "execute_result"
    }
   ],
   "source": [
    "c_exp = base_db.groupby([\"test_cas\", \"species\", \"obs_duration_mean\", \"conc1_type\", \"exposure_type\"])\\\n",
    "                .agg(Median=('conc1_mean', 'median'), Count=('conc1_mean', 'count'), Std=('conc1_mean', \"std\"))\n",
    "c_exp = c_exp[c_exp.Count>1]\n",
    "c_exp"
   ]
  },
  {
   "cell_type": "code",
   "execution_count": 60,
   "metadata": {},
   "outputs": [
    {
     "data": {
      "text/plain": [
       "<matplotlib.axes._subplots.AxesSubplot at 0x1866814ab48>"
      ]
     },
     "execution_count": 60,
     "metadata": {},
     "output_type": "execute_result"
    },
    {
     "data": {
      "image/png": "[encoded data removed]",
      "text/plain": [
       "<Figure size 1080x576 with 1 Axes>"
      ]
     },
     "metadata": {
      "needs_background": "light"
     },
     "output_type": "display_data"
    }
   ],
   "source": [
    "c_exp.Count.value_counts().plot(kind=\"bar\")"
   ]
  },
  {
   "cell_type": "code",
   "execution_count": 95,
   "metadata": {},
   "outputs": [
    {
     "data": {
      "text/html": [
       "<div>\n",
       "<style scoped>\n",
       "    .dataframe tbody tr th:only-of-type {\n",
       "        vertical-align: middle;\n",
       "    }\n",
       "\n",
       "    .dataframe tbody tr th {\n",
       "        vertical-align: top;\n",
       "    }\n",
       "\n",
       "    .dataframe thead th {\n",
       "        text-align: right;\n",
       "    }\n",
       "</style>\n",
       "<table border=\"1\" class=\"dataframe\">\n",
       "  <thead>\n",
       "    <tr style=\"text-align: right;\">\n",
       "      <th></th>\n",
       "      <th></th>\n",
       "      <th></th>\n",
       "      <th></th>\n",
       "      <th></th>\n",
       "      <th>Median</th>\n",
       "      <th>Count</th>\n",
       "      <th>Std</th>\n",
       "    </tr>\n",
       "    <tr>\n",
       "      <th>test_cas</th>\n",
       "      <th>species</th>\n",
       "      <th>obs_duration_mean</th>\n",
       "      <th>conc1_type</th>\n",
       "      <th>exposure_type</th>\n",
       "      <th></th>\n",
       "      <th></th>\n",
       "      <th></th>\n",
       "    </tr>\n",
       "  </thead>\n",
       "  <tbody>\n",
       "    <tr>\n",
       "      <td rowspan=\"3\" valign=\"top\">100-42-5</td>\n",
       "      <td rowspan=\"3\" valign=\"top\">promelas</td>\n",
       "      <td>24.0</td>\n",
       "      <td>F</td>\n",
       "      <td>S</td>\n",
       "      <td>44.365</td>\n",
       "      <td>4</td>\n",
       "      <td>16.814637</td>\n",
       "    </tr>\n",
       "    <tr>\n",
       "      <td>48.0</td>\n",
       "      <td>F</td>\n",
       "      <td>S</td>\n",
       "      <td>42.790</td>\n",
       "      <td>4</td>\n",
       "      <td>16.473306</td>\n",
       "    </tr>\n",
       "    <tr>\n",
       "      <td>96.0</td>\n",
       "      <td>F</td>\n",
       "      <td>S</td>\n",
       "      <td>39.205</td>\n",
       "      <td>4</td>\n",
       "      <td>13.991927</td>\n",
       "    </tr>\n",
       "    <tr>\n",
       "      <td>100-52-7</td>\n",
       "      <td>promelas</td>\n",
       "      <td>96.0</td>\n",
       "      <td>A</td>\n",
       "      <td>F</td>\n",
       "      <td>12.600</td>\n",
       "      <td>4</td>\n",
       "      <td>4.670584</td>\n",
       "    </tr>\n",
       "    <tr>\n",
       "      <td>10025-91-9</td>\n",
       "      <td>promelas</td>\n",
       "      <td>96.0</td>\n",
       "      <td>T</td>\n",
       "      <td>S</td>\n",
       "      <td>14.400</td>\n",
       "      <td>4</td>\n",
       "      <td>3.364521</td>\n",
       "    </tr>\n",
       "    <tr>\n",
       "      <td>...</td>\n",
       "      <td>...</td>\n",
       "      <td>...</td>\n",
       "      <td>...</td>\n",
       "      <td>...</td>\n",
       "      <td>...</td>\n",
       "      <td>...</td>\n",
       "      <td>...</td>\n",
       "    </tr>\n",
       "    <tr>\n",
       "      <td>94-75-7</td>\n",
       "      <td>vittatus</td>\n",
       "      <td>96.0</td>\n",
       "      <td>A</td>\n",
       "      <td>S</td>\n",
       "      <td>1420.000</td>\n",
       "      <td>4</td>\n",
       "      <td>181.773669</td>\n",
       "    </tr>\n",
       "    <tr>\n",
       "      <td>95-51-2</td>\n",
       "      <td>promelas</td>\n",
       "      <td>96.0</td>\n",
       "      <td>A</td>\n",
       "      <td>F</td>\n",
       "      <td>5.665</td>\n",
       "      <td>4</td>\n",
       "      <td>0.299819</td>\n",
       "    </tr>\n",
       "    <tr>\n",
       "      <td rowspan=\"2\" valign=\"top\">95-76-1</td>\n",
       "      <td rowspan=\"2\" valign=\"top\">reticulata</td>\n",
       "      <td>48.0</td>\n",
       "      <td>A</td>\n",
       "      <td>AQUA</td>\n",
       "      <td>4.500</td>\n",
       "      <td>4</td>\n",
       "      <td>3.539156</td>\n",
       "    </tr>\n",
       "    <tr>\n",
       "      <td>96.0</td>\n",
       "      <td>A</td>\n",
       "      <td>AQUA</td>\n",
       "      <td>6.850</td>\n",
       "      <td>4</td>\n",
       "      <td>2.728247</td>\n",
       "    </tr>\n",
       "    <tr>\n",
       "      <td>999-61-1</td>\n",
       "      <td>promelas</td>\n",
       "      <td>96.0</td>\n",
       "      <td>A</td>\n",
       "      <td>F</td>\n",
       "      <td>3.355</td>\n",
       "      <td>4</td>\n",
       "      <td>0.294449</td>\n",
       "    </tr>\n",
       "  </tbody>\n",
       "</table>\n",
       "<p>661 rows × 3 columns</p>\n",
       "</div>"
      ],
      "text/plain": [
       "                                                                    Median  \\\n",
       "test_cas   species    obs_duration_mean conc1_type exposure_type             \n",
       "100-42-5   promelas   24.0              F          S                44.365   \n",
       "                      48.0              F          S                42.790   \n",
       "                      96.0              F          S                39.205   \n",
       "100-52-7   promelas   96.0              A          F                12.600   \n",
       "10025-91-9 promelas   96.0              T          S                14.400   \n",
       "...                                                                    ...   \n",
       "94-75-7    vittatus   96.0              A          S              1420.000   \n",
       "95-51-2    promelas   96.0              A          F                 5.665   \n",
       "95-76-1    reticulata 48.0              A          AQUA              4.500   \n",
       "                      96.0              A          AQUA              6.850   \n",
       "999-61-1   promelas   96.0              A          F                 3.355   \n",
       "\n",
       "                                                                  Count  \\\n",
       "test_cas   species    obs_duration_mean conc1_type exposure_type          \n",
       "100-42-5   promelas   24.0              F          S                  4   \n",
       "                      48.0              F          S                  4   \n",
       "                      96.0              F          S                  4   \n",
       "100-52-7   promelas   96.0              A          F                  4   \n",
       "10025-91-9 promelas   96.0              T          S                  4   \n",
       "...                                                                 ...   \n",
       "94-75-7    vittatus   96.0              A          S                  4   \n",
       "95-51-2    promelas   96.0              A          F                  4   \n",
       "95-76-1    reticulata 48.0              A          AQUA               4   \n",
       "                      96.0              A          AQUA               4   \n",
       "999-61-1   promelas   96.0              A          F                  4   \n",
       "\n",
       "                                                                         Std  \n",
       "test_cas   species    obs_duration_mean conc1_type exposure_type              \n",
       "100-42-5   promelas   24.0              F          S               16.814637  \n",
       "                      48.0              F          S               16.473306  \n",
       "                      96.0              F          S               13.991927  \n",
       "100-52-7   promelas   96.0              A          F                4.670584  \n",
       "10025-91-9 promelas   96.0              T          S                3.364521  \n",
       "...                                                                      ...  \n",
       "94-75-7    vittatus   96.0              A          S              181.773669  \n",
       "95-51-2    promelas   96.0              A          F                0.299819  \n",
       "95-76-1    reticulata 48.0              A          AQUA             3.539156  \n",
       "                      96.0              A          AQUA             2.728247  \n",
       "999-61-1   promelas   96.0              A          F                0.294449  \n",
       "\n",
       "[661 rows x 3 columns]"
      ]
     },
     "execution_count": 95,
     "metadata": {},
     "output_type": "execute_result"
    }
   ],
   "source": [
    "c_exp[c_exp.Count==4]"
   ]
  },
  {
   "cell_type": "code",
   "execution_count": 83,
   "metadata": {},
   "outputs": [
    {
     "data": {
      "text/plain": [
       "<matplotlib.collections.PathCollection at 0x1866c7da7c8>"
      ]
     },
     "execution_count": 83,
     "metadata": {},
     "output_type": "execute_result"
    },
    {
     "data": {
      "image/png": "[encoded data removed]",
      "text/plain": [
       "<Figure size 1080x576 with 1 Axes>"
      ]
     },
     "metadata": {
      "needs_background": "light"
     },
     "output_type": "display_data"
    }
   ],
   "source": [
    "plt.scatter(x=c_exp.Count, y=c_exp.Std)\n",
    "#plt.xlim(1.5, 10.5)\n",
    "#plt.ylim(-10,1000)"
   ]
  },
  {
   "cell_type": "code",
   "execution_count": 80,
   "metadata": {},
   "outputs": [
    {
     "data": {
      "text/plain": [
       "(-10, 1000)"
      ]
     },
     "execution_count": 80,
     "metadata": {},
     "output_type": "execute_result"
    },
    {
     "data": {
      "image/png": "[encoded data removed]",
      "text/plain": [
       "<Figure size 1080x576 with 1 Axes>"
      ]
     },
     "metadata": {
      "needs_background": "light"
     },
     "output_type": "display_data"
    }
   ],
   "source": [
    "plt.scatter(x=c_exp.Count, y=c_exp.Std)\n",
    "#plt.xlim(1.5, 10.5)\n",
    "plt.ylim(-10,1000)"
   ]
  },
  {
   "cell_type": "code",
   "execution_count": 91,
   "metadata": {},
   "outputs": [
    {
     "data": {
      "text/plain": [
       "<matplotlib.axes._subplots.AxesSubplot at 0x18670a0eb08>"
      ]
     },
     "execution_count": 91,
     "metadata": {},
     "output_type": "execute_result"
    },
    {
     "data": {
      "image/png": "[encoded data removed]",
      "text/plain": [
       "<Figure size 1080x576 with 1 Axes>"
      ]
     },
     "metadata": {
      "needs_background": "light"
     },
     "output_type": "display_data"
    }
   ],
   "source": [
    "c_exp.groupby(\"Count\").agg(Std=(\"Std\",\"mean\")).plot(kind=\"bar\")"
   ]
  },
  {
   "cell_type": "code",
   "execution_count": 52,
   "metadata": {},
   "outputs": [],
   "source": [
    "count_good = base_db.copy()\n",
    "count_good[\"killed\"] =  np.where(count_good['conc1_mean']>=1, 1, 0)\n",
    "count_good = count_good.groupby([\"test_cas\", \"species\", \"obs_duration_mean\", \"conc1_type\", \"exposure_type\"])\\\n",
    "                .agg(Median=('conc1_mean', 'median'), Count=('conc1_mean', 'count'), Std=('conc1_mean', \"std\"), tot_kill=('killed', 'sum'))\n",
    "#count_good = count_good[count_good.Count>1]\n",
    "count_good['acc'] = count_good.tot_kill/count_good.Count\n",
    "bad_exp = count_good[(count_good.acc<1) & (count_good.acc!=0)]"
   ]
  },
  {
   "cell_type": "code",
   "execution_count": 53,
   "metadata": {},
   "outputs": [
    {
     "data": {
      "text/html": [
       "<div>\n",
       "<style scoped>\n",
       "    .dataframe tbody tr th:only-of-type {\n",
       "        vertical-align: middle;\n",
       "    }\n",
       "\n",
       "    .dataframe tbody tr th {\n",
       "        vertical-align: top;\n",
       "    }\n",
       "\n",
       "    .dataframe thead th {\n",
       "        text-align: right;\n",
       "    }\n",
       "</style>\n",
       "<table border=\"1\" class=\"dataframe\">\n",
       "  <thead>\n",
       "    <tr style=\"text-align: right;\">\n",
       "      <th></th>\n",
       "      <th></th>\n",
       "      <th></th>\n",
       "      <th></th>\n",
       "      <th></th>\n",
       "      <th>Median</th>\n",
       "      <th>Count</th>\n",
       "      <th>Std</th>\n",
       "      <th>tot_kill</th>\n",
       "      <th>acc</th>\n",
       "    </tr>\n",
       "    <tr>\n",
       "      <th>test_cas</th>\n",
       "      <th>species</th>\n",
       "      <th>obs_duration_mean</th>\n",
       "      <th>conc1_type</th>\n",
       "      <th>exposure_type</th>\n",
       "      <th></th>\n",
       "      <th></th>\n",
       "      <th></th>\n",
       "      <th></th>\n",
       "      <th></th>\n",
       "    </tr>\n",
       "  </thead>\n",
       "  <tbody>\n",
       "    <tr>\n",
       "      <td rowspan=\"5\" valign=\"top\">10099-74-8</td>\n",
       "      <td>arcticus</td>\n",
       "      <td>96.0</td>\n",
       "      <td>T</td>\n",
       "      <td>S</td>\n",
       "      <td>6.850</td>\n",
       "      <td>6</td>\n",
       "      <td>17.192512</td>\n",
       "      <td>5</td>\n",
       "      <td>0.833333</td>\n",
       "    </tr>\n",
       "    <tr>\n",
       "      <td rowspan=\"2\" valign=\"top\">carpio</td>\n",
       "      <td rowspan=\"2\" valign=\"top\">96.0</td>\n",
       "      <td>D</td>\n",
       "      <td>S</td>\n",
       "      <td>1.405</td>\n",
       "      <td>14</td>\n",
       "      <td>0.798423</td>\n",
       "      <td>10</td>\n",
       "      <td>0.714286</td>\n",
       "    </tr>\n",
       "    <tr>\n",
       "      <td>T</td>\n",
       "      <td>R</td>\n",
       "      <td>0.620</td>\n",
       "      <td>4</td>\n",
       "      <td>0.467126</td>\n",
       "      <td>1</td>\n",
       "      <td>0.250000</td>\n",
       "    </tr>\n",
       "    <tr>\n",
       "      <td>catla</td>\n",
       "      <td>96.0</td>\n",
       "      <td>D</td>\n",
       "      <td>S</td>\n",
       "      <td>1.115</td>\n",
       "      <td>14</td>\n",
       "      <td>0.575500</td>\n",
       "      <td>9</td>\n",
       "      <td>0.642857</td>\n",
       "    </tr>\n",
       "    <tr>\n",
       "      <td>mykiss</td>\n",
       "      <td>96.0</td>\n",
       "      <td>D</td>\n",
       "      <td>S</td>\n",
       "      <td>1.380</td>\n",
       "      <td>7</td>\n",
       "      <td>0.417481</td>\n",
       "      <td>6</td>\n",
       "      <td>0.857143</td>\n",
       "    </tr>\n",
       "    <tr>\n",
       "      <td>...</td>\n",
       "      <td>...</td>\n",
       "      <td>...</td>\n",
       "      <td>...</td>\n",
       "      <td>...</td>\n",
       "      <td>...</td>\n",
       "      <td>...</td>\n",
       "      <td>...</td>\n",
       "      <td>...</td>\n",
       "      <td>...</td>\n",
       "    </tr>\n",
       "    <tr>\n",
       "      <td rowspan=\"2\" valign=\"top\">96300-97-9</td>\n",
       "      <td rowspan=\"2\" valign=\"top\">mykiss</td>\n",
       "      <td rowspan=\"2\" valign=\"top\">96.0</td>\n",
       "      <td>A</td>\n",
       "      <td>S</td>\n",
       "      <td>1.500</td>\n",
       "      <td>9</td>\n",
       "      <td>0.766975</td>\n",
       "      <td>6</td>\n",
       "      <td>0.666667</td>\n",
       "    </tr>\n",
       "    <tr>\n",
       "      <td>F</td>\n",
       "      <td>S</td>\n",
       "      <td>2.700</td>\n",
       "      <td>2</td>\n",
       "      <td>2.545584</td>\n",
       "      <td>1</td>\n",
       "      <td>0.500000</td>\n",
       "    </tr>\n",
       "    <tr>\n",
       "      <td>97-17-6</td>\n",
       "      <td>heteromorpha</td>\n",
       "      <td>24.0</td>\n",
       "      <td>F</td>\n",
       "      <td>R</td>\n",
       "      <td>1.525</td>\n",
       "      <td>2</td>\n",
       "      <td>0.813173</td>\n",
       "      <td>1</td>\n",
       "      <td>0.500000</td>\n",
       "    </tr>\n",
       "    <tr>\n",
       "      <td>99-30-9</td>\n",
       "      <td>mykiss</td>\n",
       "      <td>96.0</td>\n",
       "      <td>A</td>\n",
       "      <td>S</td>\n",
       "      <td>1.080</td>\n",
       "      <td>2</td>\n",
       "      <td>0.735391</td>\n",
       "      <td>1</td>\n",
       "      <td>0.500000</td>\n",
       "    </tr>\n",
       "    <tr>\n",
       "      <td>99-35-4</td>\n",
       "      <td>promelas</td>\n",
       "      <td>96.0</td>\n",
       "      <td>A</td>\n",
       "      <td>S</td>\n",
       "      <td>0.795</td>\n",
       "      <td>2</td>\n",
       "      <td>0.431335</td>\n",
       "      <td>1</td>\n",
       "      <td>0.500000</td>\n",
       "    </tr>\n",
       "  </tbody>\n",
       "</table>\n",
       "<p>889 rows × 5 columns</p>\n",
       "</div>"
      ],
      "text/plain": [
       "                                                                    Median  \\\n",
       "test_cas   species      obs_duration_mean conc1_type exposure_type           \n",
       "10099-74-8 arcticus     96.0              T          S               6.850   \n",
       "           carpio       96.0              D          S               1.405   \n",
       "                                          T          R               0.620   \n",
       "           catla        96.0              D          S               1.115   \n",
       "           mykiss       96.0              D          S               1.380   \n",
       "...                                                                    ...   \n",
       "96300-97-9 mykiss       96.0              A          S               1.500   \n",
       "                                          F          S               2.700   \n",
       "97-17-6    heteromorpha 24.0              F          R               1.525   \n",
       "99-30-9    mykiss       96.0              A          S               1.080   \n",
       "99-35-4    promelas     96.0              A          S               0.795   \n",
       "\n",
       "                                                                    Count  \\\n",
       "test_cas   species      obs_duration_mean conc1_type exposure_type          \n",
       "10099-74-8 arcticus     96.0              T          S                  6   \n",
       "           carpio       96.0              D          S                 14   \n",
       "                                          T          R                  4   \n",
       "           catla        96.0              D          S                 14   \n",
       "           mykiss       96.0              D          S                  7   \n",
       "...                                                                   ...   \n",
       "96300-97-9 mykiss       96.0              A          S                  9   \n",
       "                                          F          S                  2   \n",
       "97-17-6    heteromorpha 24.0              F          R                  2   \n",
       "99-30-9    mykiss       96.0              A          S                  2   \n",
       "99-35-4    promelas     96.0              A          S                  2   \n",
       "\n",
       "                                                                          Std  \\\n",
       "test_cas   species      obs_duration_mean conc1_type exposure_type              \n",
       "10099-74-8 arcticus     96.0              T          S              17.192512   \n",
       "           carpio       96.0              D          S               0.798423   \n",
       "                                          T          R               0.467126   \n",
       "           catla        96.0              D          S               0.575500   \n",
       "           mykiss       96.0              D          S               0.417481   \n",
       "...                                                                       ...   \n",
       "96300-97-9 mykiss       96.0              A          S               0.766975   \n",
       "                                          F          S               2.545584   \n",
       "97-17-6    heteromorpha 24.0              F          R               0.813173   \n",
       "99-30-9    mykiss       96.0              A          S               0.735391   \n",
       "99-35-4    promelas     96.0              A          S               0.431335   \n",
       "\n",
       "                                                                    tot_kill  \\\n",
       "test_cas   species      obs_duration_mean conc1_type exposure_type             \n",
       "10099-74-8 arcticus     96.0              T          S                     5   \n",
       "           carpio       96.0              D          S                    10   \n",
       "                                          T          R                     1   \n",
       "           catla        96.0              D          S                     9   \n",
       "           mykiss       96.0              D          S                     6   \n",
       "...                                                                      ...   \n",
       "96300-97-9 mykiss       96.0              A          S                     6   \n",
       "                                          F          S                     1   \n",
       "97-17-6    heteromorpha 24.0              F          R                     1   \n",
       "99-30-9    mykiss       96.0              A          S                     1   \n",
       "99-35-4    promelas     96.0              A          S                     1   \n",
       "\n",
       "                                                                         acc  \n",
       "test_cas   species      obs_duration_mean conc1_type exposure_type            \n",
       "10099-74-8 arcticus     96.0              T          S              0.833333  \n",
       "           carpio       96.0              D          S              0.714286  \n",
       "                                          T          R              0.250000  \n",
       "           catla        96.0              D          S              0.642857  \n",
       "           mykiss       96.0              D          S              0.857143  \n",
       "...                                                                      ...  \n",
       "96300-97-9 mykiss       96.0              A          S              0.666667  \n",
       "                                          F          S              0.500000  \n",
       "97-17-6    heteromorpha 24.0              F          R              0.500000  \n",
       "99-30-9    mykiss       96.0              A          S              0.500000  \n",
       "99-35-4    promelas     96.0              A          S              0.500000  \n",
       "\n",
       "[889 rows x 5 columns]"
      ]
     },
     "execution_count": 53,
     "metadata": {},
     "output_type": "execute_result"
    }
   ],
   "source": [
    "bad_exp"
   ]
  },
  {
   "cell_type": "code",
   "execution_count": 50,
   "metadata": {},
   "outputs": [
    {
     "data": {
      "text/plain": [
       "<matplotlib.axes._subplots.AxesSubplot at 0x18667a3a488>"
      ]
     },
     "execution_count": 50,
     "metadata": {},
     "output_type": "execute_result"
    },
    {
     "data": {
      "image/png": "[encoded data removed]",
      "text/plain": [
       "<Figure size 1080x576 with 1 Axes>"
      ]
     },
     "metadata": {
      "needs_background": "light"
     },
     "output_type": "display_data"
    }
   ],
   "source": [
    "import seaborn as sns\n",
    "sns.scatterplot(x=bad_exp.Count, y=bad_exp.acc)"
   ]
  },
  {
   "cell_type": "code",
   "execution_count": 54,
   "metadata": {},
   "outputs": [
    {
     "data": {
      "text/plain": [
       "0.5181849810417137"
      ]
     },
     "execution_count": 54,
     "metadata": {},
     "output_type": "execute_result"
    }
   ],
   "source": [
    "bad_exp.acc.mean()"
   ]
  },
  {
   "cell_type": "code",
   "execution_count": 55,
   "metadata": {},
   "outputs": [
    {
     "data": {
      "text/plain": [
       "0.6351219976061239"
      ]
     },
     "execution_count": 55,
     "metadata": {},
     "output_type": "execute_result"
    }
   ],
   "source": [
    "count_good.acc.mean()"
   ]
  },
  {
   "cell_type": "code",
   "execution_count": 28,
   "metadata": {},
   "outputs": [],
   "source": [
    "grouped_std = base_db.groupby([\"obs_duration_mean\", \"test_cas\", \"species\"]).std().dropna().reset_index()"
   ]
  },
  {
   "cell_type": "code",
   "execution_count": 53,
   "metadata": {},
   "outputs": [
    {
     "data": {
      "text/plain": [
       "6831    353482.679915\n",
       "5093     53103.719267\n",
       "4358     27734.305472\n",
       "5017     21791.676801\n",
       "4513     15563.420254\n",
       "            ...      \n",
       "7777         0.000000\n",
       "4860         0.000000\n",
       "6923         0.000000\n",
       "5270         0.000000\n",
       "5816         0.000000\n",
       "Name: conc1_mean, Length: 3638, dtype: float64"
      ]
     },
     "execution_count": 53,
     "metadata": {},
     "output_type": "execute_result"
    }
   ],
   "source": [
    "grouped_96h = grouped_std[grouped_std.obs_duration_mean==96]\n",
    "grouped_96h.conc1_mean.sort_values(ascending=False)"
   ]
  },
  {
   "cell_type": "code",
   "execution_count": 36,
   "metadata": {},
   "outputs": [
    {
     "data": {
      "text/plain": [
       "obs_duration_mean             96\n",
       "test_cas                 8012951\n",
       "species              macrochirus\n",
       "conc1_mean                353483\n",
       "Name: 6831, dtype: object"
      ]
     },
     "execution_count": 36,
     "metadata": {},
     "output_type": "execute_result"
    }
   ],
   "source": [
    "grouped_std.loc[6831]"
   ]
  },
  {
   "cell_type": "code",
   "execution_count": 38,
   "metadata": {},
   "outputs": [
    {
     "data": {
      "text/html": [
       "<div>\n",
       "<style scoped>\n",
       "    .dataframe tbody tr th:only-of-type {\n",
       "        vertical-align: middle;\n",
       "    }\n",
       "\n",
       "    .dataframe tbody tr th {\n",
       "        vertical-align: top;\n",
       "    }\n",
       "\n",
       "    .dataframe thead th {\n",
       "        text-align: right;\n",
       "    }\n",
       "</style>\n",
       "<table border=\"1\" class=\"dataframe\">\n",
       "  <thead>\n",
       "    <tr style=\"text-align: right;\">\n",
       "      <th></th>\n",
       "      <th>test_cas</th>\n",
       "      <th>exposure_type</th>\n",
       "      <th>obs_duration_mean</th>\n",
       "      <th>conc1_type</th>\n",
       "      <th>conc1_mean</th>\n",
       "      <th>class</th>\n",
       "      <th>tax_order</th>\n",
       "      <th>family</th>\n",
       "      <th>genus</th>\n",
       "      <th>species</th>\n",
       "      <th>organism_lifestage</th>\n",
       "      <th>organism_characteristics</th>\n",
       "      <th>ecotox_group</th>\n",
       "    </tr>\n",
       "  </thead>\n",
       "  <tbody>\n",
       "    <tr>\n",
       "      <td>21857</td>\n",
       "      <td>8012951</td>\n",
       "      <td>S</td>\n",
       "      <td>96.0</td>\n",
       "      <td>A</td>\n",
       "      <td>500000.0</td>\n",
       "      <td>Actinopterygii</td>\n",
       "      <td>Perciformes</td>\n",
       "      <td>Centrarchidae</td>\n",
       "      <td>Lepomis</td>\n",
       "      <td>macrochirus</td>\n",
       "      <td>NC</td>\n",
       "      <td>0.34 g</td>\n",
       "      <td>Fish,Standard Test Species</td>\n",
       "    </tr>\n",
       "    <tr>\n",
       "      <td>52635</td>\n",
       "      <td>8012951</td>\n",
       "      <td>S</td>\n",
       "      <td>96.0</td>\n",
       "      <td>A</td>\n",
       "      <td>100.0</td>\n",
       "      <td>Actinopterygii</td>\n",
       "      <td>Perciformes</td>\n",
       "      <td>Centrarchidae</td>\n",
       "      <td>Lepomis</td>\n",
       "      <td>macrochirus</td>\n",
       "      <td>NC</td>\n",
       "      <td>0.46 g</td>\n",
       "      <td>Fish,Standard Test Species</td>\n",
       "    </tr>\n",
       "  </tbody>\n",
       "</table>\n",
       "</div>"
      ],
      "text/plain": [
       "       test_cas exposure_type  obs_duration_mean conc1_type  conc1_mean  \\\n",
       "21857   8012951             S               96.0          A    500000.0   \n",
       "52635   8012951             S               96.0          A       100.0   \n",
       "\n",
       "                class    tax_order         family    genus      species  \\\n",
       "21857  Actinopterygii  Perciformes  Centrarchidae  Lepomis  macrochirus   \n",
       "52635  Actinopterygii  Perciformes  Centrarchidae  Lepomis  macrochirus   \n",
       "\n",
       "      organism_lifestage organism_characteristics                ecotox_group  \n",
       "21857                 NC                   0.34 g  Fish,Standard Test Species  \n",
       "52635                 NC                   0.46 g  Fish,Standard Test Species  "
      ]
     },
     "execution_count": 38,
     "metadata": {},
     "output_type": "execute_result"
    }
   ],
   "source": [
    "base_db[(base_db.obs_duration_mean==96) & (base_db.test_cas==8012951) & (base_db.species==\"macrochirus\")]"
   ]
  },
  {
   "cell_type": "code",
   "execution_count": null,
   "metadata": {},
   "outputs": [],
   "source": [
    "results_final= pd.read_pickle(\"data/results_final.pkl\")"
   ]
  },
  {
   "cell_type": "code",
   "execution_count": 48,
   "metadata": {},
   "outputs": [
    {
     "data": {
      "text/html": [
       "<div>\n",
       "<style scoped>\n",
       "    .dataframe tbody tr th:only-of-type {\n",
       "        vertical-align: middle;\n",
       "    }\n",
       "\n",
       "    .dataframe tbody tr th {\n",
       "        vertical-align: top;\n",
       "    }\n",
       "\n",
       "    .dataframe thead th {\n",
       "        text-align: right;\n",
       "    }\n",
       "</style>\n",
       "<table border=\"1\" class=\"dataframe\">\n",
       "  <thead>\n",
       "    <tr style=\"text-align: right;\">\n",
       "      <th></th>\n",
       "      <th>conc1_mean</th>\n",
       "      <th>conc1_unit</th>\n",
       "    </tr>\n",
       "  </thead>\n",
       "  <tbody>\n",
       "    <tr>\n",
       "      <td>25061</td>\n",
       "      <td>500000</td>\n",
       "      <td>ppm</td>\n",
       "    </tr>\n",
       "    <tr>\n",
       "      <td>36634</td>\n",
       "      <td>100</td>\n",
       "      <td>ppm</td>\n",
       "    </tr>\n",
       "    <tr>\n",
       "      <td>60143</td>\n",
       "      <td>100</td>\n",
       "      <td>ppm</td>\n",
       "    </tr>\n",
       "  </tbody>\n",
       "</table>\n",
       "</div>"
      ],
      "text/plain": [
       "      conc1_mean conc1_unit\n",
       "25061     500000        ppm\n",
       "36634        100        ppm\n",
       "60143        100        ppm"
      ]
     },
     "execution_count": 48,
     "metadata": {},
     "output_type": "execute_result"
    }
   ],
   "source": [
    "t = results_final[(results_final.test_cas==8012951) & (results_final.species==\"macrochirus\")]\n",
    "t[[\"conc1_mean\", \"conc1_unit\"]]"
   ]
  },
  {
   "cell_type": "code",
   "execution_count": 39,
   "metadata": {},
   "outputs": [
    {
     "data": {
      "text/plain": [
       "obs_duration_mean          96\n",
       "test_cas               111466\n",
       "species              promelas\n",
       "conc1_mean            53103.7\n",
       "Name: 5093, dtype: object"
      ]
     },
     "execution_count": 39,
     "metadata": {},
     "output_type": "execute_result"
    }
   ],
   "source": [
    "grouped_std.loc[5093]"
   ]
  },
  {
   "cell_type": "code",
   "execution_count": 41,
   "metadata": {},
   "outputs": [
    {
     "data": {
      "text/html": [
       "<div>\n",
       "<style scoped>\n",
       "    .dataframe tbody tr th:only-of-type {\n",
       "        vertical-align: middle;\n",
       "    }\n",
       "\n",
       "    .dataframe tbody tr th {\n",
       "        vertical-align: top;\n",
       "    }\n",
       "\n",
       "    .dataframe thead th {\n",
       "        text-align: right;\n",
       "    }\n",
       "</style>\n",
       "<table border=\"1\" class=\"dataframe\">\n",
       "  <thead>\n",
       "    <tr style=\"text-align: right;\">\n",
       "      <th></th>\n",
       "      <th>test_cas</th>\n",
       "      <th>exposure_type</th>\n",
       "      <th>obs_duration_mean</th>\n",
       "      <th>conc1_type</th>\n",
       "      <th>conc1_mean</th>\n",
       "      <th>class</th>\n",
       "      <th>tax_order</th>\n",
       "      <th>family</th>\n",
       "      <th>genus</th>\n",
       "      <th>species</th>\n",
       "      <th>organism_lifestage</th>\n",
       "      <th>organism_characteristics</th>\n",
       "      <th>ecotox_group</th>\n",
       "    </tr>\n",
       "  </thead>\n",
       "  <tbody>\n",
       "    <tr>\n",
       "      <td>18579</td>\n",
       "      <td>111466</td>\n",
       "      <td>S</td>\n",
       "      <td>96.0</td>\n",
       "      <td>F</td>\n",
       "      <td>100.0</td>\n",
       "      <td>Actinopterygii</td>\n",
       "      <td>Cypriniformes</td>\n",
       "      <td>Cyprinidae</td>\n",
       "      <td>Pimephales</td>\n",
       "      <td>promelas</td>\n",
       "      <td>NR</td>\n",
       "      <td>NR</td>\n",
       "      <td>Fish,Standard Test Species</td>\n",
       "    </tr>\n",
       "    <tr>\n",
       "      <td>51119</td>\n",
       "      <td>111466</td>\n",
       "      <td>F</td>\n",
       "      <td>96.0</td>\n",
       "      <td>A</td>\n",
       "      <td>75200.0</td>\n",
       "      <td>Actinopterygii</td>\n",
       "      <td>Cypriniformes</td>\n",
       "      <td>Cyprinidae</td>\n",
       "      <td>Pimephales</td>\n",
       "      <td>promelas</td>\n",
       "      <td>NR</td>\n",
       "      <td>19.1 MM, 0.102 G</td>\n",
       "      <td>Fish,Standard Test Species</td>\n",
       "    </tr>\n",
       "  </tbody>\n",
       "</table>\n",
       "</div>"
      ],
      "text/plain": [
       "       test_cas exposure_type  obs_duration_mean conc1_type  conc1_mean  \\\n",
       "18579    111466             S               96.0          F       100.0   \n",
       "51119    111466             F               96.0          A     75200.0   \n",
       "\n",
       "                class      tax_order      family       genus   species  \\\n",
       "18579  Actinopterygii  Cypriniformes  Cyprinidae  Pimephales  promelas   \n",
       "51119  Actinopterygii  Cypriniformes  Cyprinidae  Pimephales  promelas   \n",
       "\n",
       "      organism_lifestage organism_characteristics                ecotox_group  \n",
       "18579                 NR                       NR  Fish,Standard Test Species  \n",
       "51119                 NR         19.1 MM, 0.102 G  Fish,Standard Test Species  "
      ]
     },
     "execution_count": 41,
     "metadata": {},
     "output_type": "execute_result"
    }
   ],
   "source": [
    "base_db[(base_db.obs_duration_mean==96) & (base_db.test_cas==111466) & (base_db.species==\"promelas\")]"
   ]
  },
  {
   "cell_type": "code",
   "execution_count": 45,
   "metadata": {},
   "outputs": [],
   "source": [
    "t1 = results_final[(results_final.test_cas==111466) & (results_final.species==\"promelas\")]\n",
    "t1[[\"conc1_mean\", \"conc1_unit\"]]"
   ]
  },
  {
   "cell_type": "code",
   "execution_count": 54,
   "metadata": {},
   "outputs": [
    {
     "data": {
      "text/plain": [
       "<matplotlib.axes._subplots.AxesSubplot at 0x20a38a61ec8>"
      ]
     },
     "execution_count": 54,
     "metadata": {},
     "output_type": "execute_result"
    },
    {
     "data": {
      "image/png": "[encoded data removed]",
      "text/plain": [
       "<Figure size 1080x576 with 1 Axes>"
      ]
     },
     "metadata": {
      "needs_background": "light"
     },
     "output_type": "display_data"
    }
   ],
   "source": [
    "grouped_96h.conc1_mean.hist(bins=100)"
   ]
  },
  {
   "cell_type": "code",
   "execution_count": 69,
   "metadata": {},
   "outputs": [
    {
     "data": {
      "text/plain": [
       "3638"
      ]
     },
     "execution_count": 69,
     "metadata": {},
     "output_type": "execute_result"
    }
   ],
   "source": [
    "grouped_96h.index.size"
   ]
  },
  {
   "cell_type": "code",
   "execution_count": 68,
   "metadata": {},
   "outputs": [
    {
     "data": {
      "text/plain": [
       "3577"
      ]
     },
     "execution_count": 68,
     "metadata": {},
     "output_type": "execute_result"
    }
   ],
   "source": [
    "grouped96h_no_out = grouped_96h[~(grouped_96h.conc1_mean>1000)]\n",
    "grouped96h_no_out.index.size"
   ]
  },
  {
   "cell_type": "code",
   "execution_count": 66,
   "metadata": {},
   "outputs": [
    {
     "data": {
      "text/plain": [
       "<matplotlib.axes._subplots.AxesSubplot at 0x20a4971d4c8>"
      ]
     },
     "execution_count": 66,
     "metadata": {},
     "output_type": "execute_result"
    },
    {
     "data": {
      "image/png": "[encoded data removed]",
      "text/plain": [
       "<Figure size 1080x576 with 1 Axes>"
      ]
     },
     "metadata": {
      "needs_background": "light"
     },
     "output_type": "display_data"
    }
   ],
   "source": [
    "grouped96h_no_out.conc1_mean.hist(bins=100)"
   ]
  },
  {
   "cell_type": "code",
   "execution_count": 67,
   "metadata": {},
   "outputs": [
    {
     "data": {
      "text/html": [
       "<div>\n",
       "<style scoped>\n",
       "    .dataframe tbody tr th:only-of-type {\n",
       "        vertical-align: middle;\n",
       "    }\n",
       "\n",
       "    .dataframe tbody tr th {\n",
       "        vertical-align: top;\n",
       "    }\n",
       "\n",
       "    .dataframe thead th {\n",
       "        text-align: right;\n",
       "    }\n",
       "</style>\n",
       "<table border=\"1\" class=\"dataframe\">\n",
       "  <thead>\n",
       "    <tr style=\"text-align: right;\">\n",
       "      <th></th>\n",
       "      <th>obs_duration_mean</th>\n",
       "      <th>test_cas</th>\n",
       "      <th>species</th>\n",
       "      <th>conc1_mean</th>\n",
       "    </tr>\n",
       "  </thead>\n",
       "  <tbody>\n",
       "    <tr>\n",
       "      <td>4227</td>\n",
       "      <td>96.0</td>\n",
       "      <td>50000</td>\n",
       "      <td>carolinus</td>\n",
       "      <td>2.909181</td>\n",
       "    </tr>\n",
       "    <tr>\n",
       "      <td>4228</td>\n",
       "      <td>96.0</td>\n",
       "      <td>50000</td>\n",
       "      <td>macrochirus</td>\n",
       "      <td>0.919239</td>\n",
       "    </tr>\n",
       "    <tr>\n",
       "      <td>4230</td>\n",
       "      <td>96.0</td>\n",
       "      <td>50000</td>\n",
       "      <td>promelas</td>\n",
       "      <td>1.171893</td>\n",
       "    </tr>\n",
       "    <tr>\n",
       "      <td>4231</td>\n",
       "      <td>96.0</td>\n",
       "      <td>50000</td>\n",
       "      <td>punctatus</td>\n",
       "      <td>0.000000</td>\n",
       "    </tr>\n",
       "    <tr>\n",
       "      <td>4234</td>\n",
       "      <td>96.0</td>\n",
       "      <td>50282</td>\n",
       "      <td>marmoratus</td>\n",
       "      <td>2.573869</td>\n",
       "    </tr>\n",
       "    <tr>\n",
       "      <td>...</td>\n",
       "      <td>...</td>\n",
       "      <td>...</td>\n",
       "      <td>...</td>\n",
       "      <td>...</td>\n",
       "    </tr>\n",
       "    <tr>\n",
       "      <td>7857</td>\n",
       "      <td>96.0</td>\n",
       "      <td>177256698</td>\n",
       "      <td>tshawytscha</td>\n",
       "      <td>0.000000</td>\n",
       "    </tr>\n",
       "    <tr>\n",
       "      <td>7858</td>\n",
       "      <td>96.0</td>\n",
       "      <td>187166401</td>\n",
       "      <td>macrochirus</td>\n",
       "      <td>0.951766</td>\n",
       "    </tr>\n",
       "    <tr>\n",
       "      <td>7860</td>\n",
       "      <td>96.0</td>\n",
       "      <td>243973208</td>\n",
       "      <td>promelas</td>\n",
       "      <td>0.000000</td>\n",
       "    </tr>\n",
       "    <tr>\n",
       "      <td>7861</td>\n",
       "      <td>96.0</td>\n",
       "      <td>243973208</td>\n",
       "      <td>variegatus</td>\n",
       "      <td>0.000000</td>\n",
       "    </tr>\n",
       "    <tr>\n",
       "      <td>7862</td>\n",
       "      <td>96.0</td>\n",
       "      <td>245367775</td>\n",
       "      <td>affinis</td>\n",
       "      <td>0.051316</td>\n",
       "    </tr>\n",
       "  </tbody>\n",
       "</table>\n",
       "<p>2808 rows × 4 columns</p>\n",
       "</div>"
      ],
      "text/plain": [
       "      obs_duration_mean   test_cas      species  conc1_mean\n",
       "4227               96.0      50000    carolinus    2.909181\n",
       "4228               96.0      50000  macrochirus    0.919239\n",
       "4230               96.0      50000     promelas    1.171893\n",
       "4231               96.0      50000    punctatus    0.000000\n",
       "4234               96.0      50282   marmoratus    2.573869\n",
       "...                 ...        ...          ...         ...\n",
       "7857               96.0  177256698  tshawytscha    0.000000\n",
       "7858               96.0  187166401  macrochirus    0.951766\n",
       "7860               96.0  243973208     promelas    0.000000\n",
       "7861               96.0  243973208   variegatus    0.000000\n",
       "7862               96.0  245367775      affinis    0.051316\n",
       "\n",
       "[2808 rows x 4 columns]"
      ]
     },
     "execution_count": 67,
     "metadata": {},
     "output_type": "execute_result"
    }
   ],
   "source": [
    "grouped96h_no_out[grouped96h_no_out.conc1_mean<10]"
   ]
  },
  {
   "cell_type": "code",
   "execution_count": 70,
   "metadata": {},
   "outputs": [
    {
     "data": {
      "text/plain": [
       "524     118952.849066\n",
       "518      29965.980711\n",
       "104      18738.329701\n",
       "230      18027.756377\n",
       "220      10487.769067\n",
       "            ...      \n",
       "1689         0.000000\n",
       "867          0.000000\n",
       "1765         0.000000\n",
       "1459         0.000000\n",
       "1193         0.000000\n",
       "Name: conc1_mean, Length: 1891, dtype: float64"
      ]
     },
     "execution_count": 70,
     "metadata": {},
     "output_type": "execute_result"
    }
   ],
   "source": [
    "grouped_24h = grouped_std[grouped_std.obs_duration_mean==24]\n",
    "grouped_24h.conc1_mean.sort_values(ascending=False)"
   ]
  },
  {
   "cell_type": "code",
   "execution_count": 71,
   "metadata": {},
   "outputs": [
    {
     "data": {
      "text/plain": [
       "obs_duration_mean             24\n",
       "test_cas                  108872\n",
       "species              crysoleucas\n",
       "conc1_mean                118953\n",
       "Name: 524, dtype: object"
      ]
     },
     "execution_count": 71,
     "metadata": {},
     "output_type": "execute_result"
    }
   ],
   "source": [
    "grouped_std.loc[524]"
   ]
  },
  {
   "cell_type": "code",
   "execution_count": 72,
   "metadata": {},
   "outputs": [
    {
     "data": {
      "text/html": [
       "<div>\n",
       "<style scoped>\n",
       "    .dataframe tbody tr th:only-of-type {\n",
       "        vertical-align: middle;\n",
       "    }\n",
       "\n",
       "    .dataframe tbody tr th {\n",
       "        vertical-align: top;\n",
       "    }\n",
       "\n",
       "    .dataframe thead th {\n",
       "        text-align: right;\n",
       "    }\n",
       "</style>\n",
       "<table border=\"1\" class=\"dataframe\">\n",
       "  <thead>\n",
       "    <tr style=\"text-align: right;\">\n",
       "      <th></th>\n",
       "      <th>test_cas</th>\n",
       "      <th>exposure_type</th>\n",
       "      <th>obs_duration_mean</th>\n",
       "      <th>conc1_type</th>\n",
       "      <th>conc1_mean</th>\n",
       "      <th>class</th>\n",
       "      <th>tax_order</th>\n",
       "      <th>family</th>\n",
       "      <th>genus</th>\n",
       "      <th>species</th>\n",
       "      <th>organism_lifestage</th>\n",
       "      <th>organism_characteristics</th>\n",
       "      <th>ecotox_group</th>\n",
       "    </tr>\n",
       "  </thead>\n",
       "  <tbody>\n",
       "    <tr>\n",
       "      <td>737</td>\n",
       "      <td>108872</td>\n",
       "      <td>S</td>\n",
       "      <td>24.0</td>\n",
       "      <td>F</td>\n",
       "      <td>238000.0</td>\n",
       "      <td>Actinopterygii</td>\n",
       "      <td>Cypriniformes</td>\n",
       "      <td>Cyprinidae</td>\n",
       "      <td>Notemigonus</td>\n",
       "      <td>crysoleucas</td>\n",
       "      <td>NR</td>\n",
       "      <td>NR</td>\n",
       "      <td>Fish</td>\n",
       "    </tr>\n",
       "    <tr>\n",
       "      <td>3504</td>\n",
       "      <td>108872</td>\n",
       "      <td>S</td>\n",
       "      <td>24.0</td>\n",
       "      <td>F</td>\n",
       "      <td>62.0</td>\n",
       "      <td>Actinopterygii</td>\n",
       "      <td>Cypriniformes</td>\n",
       "      <td>Cyprinidae</td>\n",
       "      <td>Notemigonus</td>\n",
       "      <td>crysoleucas</td>\n",
       "      <td>NR</td>\n",
       "      <td>NR</td>\n",
       "      <td>Fish</td>\n",
       "    </tr>\n",
       "    <tr>\n",
       "      <td>3530</td>\n",
       "      <td>108872</td>\n",
       "      <td>S</td>\n",
       "      <td>24.0</td>\n",
       "      <td>F</td>\n",
       "      <td>180.0</td>\n",
       "      <td>Actinopterygii</td>\n",
       "      <td>Cypriniformes</td>\n",
       "      <td>Cyprinidae</td>\n",
       "      <td>Notemigonus</td>\n",
       "      <td>crysoleucas</td>\n",
       "      <td>NR</td>\n",
       "      <td>NR</td>\n",
       "      <td>Fish</td>\n",
       "    </tr>\n",
       "    <tr>\n",
       "      <td>25760</td>\n",
       "      <td>108872</td>\n",
       "      <td>S</td>\n",
       "      <td>24.0</td>\n",
       "      <td>F</td>\n",
       "      <td>41.0</td>\n",
       "      <td>Actinopterygii</td>\n",
       "      <td>Cypriniformes</td>\n",
       "      <td>Cyprinidae</td>\n",
       "      <td>Notemigonus</td>\n",
       "      <td>crysoleucas</td>\n",
       "      <td>NR</td>\n",
       "      <td>NR</td>\n",
       "      <td>Fish</td>\n",
       "    </tr>\n",
       "  </tbody>\n",
       "</table>\n",
       "</div>"
      ],
      "text/plain": [
       "       test_cas exposure_type  obs_duration_mean conc1_type  conc1_mean  \\\n",
       "737      108872             S               24.0          F    238000.0   \n",
       "3504     108872             S               24.0          F        62.0   \n",
       "3530     108872             S               24.0          F       180.0   \n",
       "25760    108872             S               24.0          F        41.0   \n",
       "\n",
       "                class      tax_order      family        genus      species  \\\n",
       "737    Actinopterygii  Cypriniformes  Cyprinidae  Notemigonus  crysoleucas   \n",
       "3504   Actinopterygii  Cypriniformes  Cyprinidae  Notemigonus  crysoleucas   \n",
       "3530   Actinopterygii  Cypriniformes  Cyprinidae  Notemigonus  crysoleucas   \n",
       "25760  Actinopterygii  Cypriniformes  Cyprinidae  Notemigonus  crysoleucas   \n",
       "\n",
       "      organism_lifestage organism_characteristics ecotox_group  \n",
       "737                   NR                       NR         Fish  \n",
       "3504                  NR                       NR         Fish  \n",
       "3530                  NR                       NR         Fish  \n",
       "25760                 NR                       NR         Fish  "
      ]
     },
     "execution_count": 72,
     "metadata": {},
     "output_type": "execute_result"
    }
   ],
   "source": [
    "base_db[(base_db.obs_duration_mean==24) & (base_db.test_cas==108872) & (base_db.species==\"crysoleucas\")]"
   ]
  },
  {
   "cell_type": "code",
   "execution_count": 77,
   "metadata": {},
   "outputs": [
    {
     "data": {
      "text/html": [
       "<div>\n",
       "<style scoped>\n",
       "    .dataframe tbody tr th:only-of-type {\n",
       "        vertical-align: middle;\n",
       "    }\n",
       "\n",
       "    .dataframe tbody tr th {\n",
       "        vertical-align: top;\n",
       "    }\n",
       "\n",
       "    .dataframe thead th {\n",
       "        text-align: right;\n",
       "    }\n",
       "</style>\n",
       "<table border=\"1\" class=\"dataframe\">\n",
       "  <thead>\n",
       "    <tr style=\"text-align: right;\">\n",
       "      <th></th>\n",
       "      <th>conc1_mean</th>\n",
       "      <th>conc1_unit</th>\n",
       "    </tr>\n",
       "  </thead>\n",
       "  <tbody>\n",
       "    <tr>\n",
       "      <td>892</td>\n",
       "      <td>238000000*</td>\n",
       "      <td>ug/L</td>\n",
       "    </tr>\n",
       "    <tr>\n",
       "      <td>4098</td>\n",
       "      <td>62000*</td>\n",
       "      <td>ug/L</td>\n",
       "    </tr>\n",
       "    <tr>\n",
       "      <td>4125</td>\n",
       "      <td>180000*</td>\n",
       "      <td>ug/L</td>\n",
       "    </tr>\n",
       "    <tr>\n",
       "      <td>29491</td>\n",
       "      <td>41000*</td>\n",
       "      <td>ug/L</td>\n",
       "    </tr>\n",
       "  </tbody>\n",
       "</table>\n",
       "</div>"
      ],
      "text/plain": [
       "       conc1_mean conc1_unit\n",
       "892    238000000*       ug/L\n",
       "4098       62000*       ug/L\n",
       "4125      180000*       ug/L\n",
       "29491      41000*       ug/L"
      ]
     },
     "execution_count": 77,
     "metadata": {},
     "output_type": "execute_result"
    }
   ],
   "source": [
    "t2 = results_final[(results_final.obs_duration_mean==\"24\") & (results_final.test_cas==108872) & (results_final.species==\"crysoleucas\")]\n",
    "t2[[\"conc1_mean\", \"conc1_unit\"]]"
   ]
  },
  {
   "cell_type": "code",
   "execution_count": 78,
   "metadata": {},
   "outputs": [
    {
     "data": {
      "text/plain": [
       "<matplotlib.axes._subplots.AxesSubplot at 0x20a49eb5f48>"
      ]
     },
     "execution_count": 78,
     "metadata": {},
     "output_type": "execute_result"
    },
    {
     "data": {
      "image/png": "[encoded data removed]",
      "text/plain": [
       "<Figure size 1080x576 with 1 Axes>"
      ]
     },
     "metadata": {
      "needs_background": "light"
     },
     "output_type": "display_data"
    }
   ],
   "source": [
    "grouped_24h.conc1_mean.hist(bins=100)"
   ]
  },
  {
   "cell_type": "code",
   "execution_count": 80,
   "metadata": {},
   "outputs": [
    {
     "data": {
      "text/plain": [
       "1891"
      ]
     },
     "execution_count": 80,
     "metadata": {},
     "output_type": "execute_result"
    }
   ],
   "source": [
    "grouped_24h.index.size"
   ]
  },
  {
   "cell_type": "code",
   "execution_count": 83,
   "metadata": {},
   "outputs": [
    {
     "data": {
      "text/html": [
       "<div>\n",
       "<style scoped>\n",
       "    .dataframe tbody tr th:only-of-type {\n",
       "        vertical-align: middle;\n",
       "    }\n",
       "\n",
       "    .dataframe tbody tr th {\n",
       "        vertical-align: top;\n",
       "    }\n",
       "\n",
       "    .dataframe thead th {\n",
       "        text-align: right;\n",
       "    }\n",
       "</style>\n",
       "<table border=\"1\" class=\"dataframe\">\n",
       "  <thead>\n",
       "    <tr style=\"text-align: right;\">\n",
       "      <th></th>\n",
       "      <th>obs_duration_mean</th>\n",
       "      <th>test_cas</th>\n",
       "      <th>species</th>\n",
       "      <th>conc1_mean</th>\n",
       "    </tr>\n",
       "  </thead>\n",
       "  <tbody>\n",
       "    <tr>\n",
       "      <td>0</td>\n",
       "      <td>24.0</td>\n",
       "      <td>50000</td>\n",
       "      <td>carolinus</td>\n",
       "      <td>3.579572</td>\n",
       "    </tr>\n",
       "    <tr>\n",
       "      <td>1</td>\n",
       "      <td>24.0</td>\n",
       "      <td>50000</td>\n",
       "      <td>latipes</td>\n",
       "      <td>27.300794</td>\n",
       "    </tr>\n",
       "    <tr>\n",
       "      <td>2</td>\n",
       "      <td>24.0</td>\n",
       "      <td>50000</td>\n",
       "      <td>mykiss</td>\n",
       "      <td>30.405592</td>\n",
       "    </tr>\n",
       "    <tr>\n",
       "      <td>3</td>\n",
       "      <td>24.0</td>\n",
       "      <td>50000</td>\n",
       "      <td>punctatus</td>\n",
       "      <td>28.867513</td>\n",
       "    </tr>\n",
       "    <tr>\n",
       "      <td>4</td>\n",
       "      <td>24.0</td>\n",
       "      <td>50000</td>\n",
       "      <td>saxatilis</td>\n",
       "      <td>44.353880</td>\n",
       "    </tr>\n",
       "    <tr>\n",
       "      <td>...</td>\n",
       "      <td>...</td>\n",
       "      <td>...</td>\n",
       "      <td>...</td>\n",
       "      <td>...</td>\n",
       "    </tr>\n",
       "    <tr>\n",
       "      <td>1886</td>\n",
       "      <td>24.0</td>\n",
       "      <td>96352691</td>\n",
       "      <td>mykiss</td>\n",
       "      <td>0.000000</td>\n",
       "    </tr>\n",
       "    <tr>\n",
       "      <td>1887</td>\n",
       "      <td>24.0</td>\n",
       "      <td>100473083</td>\n",
       "      <td>macrochirus</td>\n",
       "      <td>0.611010</td>\n",
       "    </tr>\n",
       "    <tr>\n",
       "      <td>1888</td>\n",
       "      <td>24.0</td>\n",
       "      <td>100473083</td>\n",
       "      <td>mykiss</td>\n",
       "      <td>0.707107</td>\n",
       "    </tr>\n",
       "    <tr>\n",
       "      <td>1889</td>\n",
       "      <td>24.0</td>\n",
       "      <td>107534963</td>\n",
       "      <td>rerio</td>\n",
       "      <td>12.586501</td>\n",
       "    </tr>\n",
       "    <tr>\n",
       "      <td>1890</td>\n",
       "      <td>24.0</td>\n",
       "      <td>120068373</td>\n",
       "      <td>promelas</td>\n",
       "      <td>0.013308</td>\n",
       "    </tr>\n",
       "  </tbody>\n",
       "</table>\n",
       "<p>1856 rows × 4 columns</p>\n",
       "</div>"
      ],
      "text/plain": [
       "      obs_duration_mean   test_cas      species  conc1_mean\n",
       "0                  24.0      50000    carolinus    3.579572\n",
       "1                  24.0      50000      latipes   27.300794\n",
       "2                  24.0      50000       mykiss   30.405592\n",
       "3                  24.0      50000    punctatus   28.867513\n",
       "4                  24.0      50000    saxatilis   44.353880\n",
       "...                 ...        ...          ...         ...\n",
       "1886               24.0   96352691       mykiss    0.000000\n",
       "1887               24.0  100473083  macrochirus    0.611010\n",
       "1888               24.0  100473083       mykiss    0.707107\n",
       "1889               24.0  107534963        rerio   12.586501\n",
       "1890               24.0  120068373     promelas    0.013308\n",
       "\n",
       "[1856 rows x 4 columns]"
      ]
     },
     "execution_count": 83,
     "metadata": {},
     "output_type": "execute_result"
    }
   ],
   "source": [
    "grouped_24h[~(grouped_24h.conc1_mean>1000)]"
   ]
  },
  {
   "cell_type": "code",
   "execution_count": null,
   "metadata": {},
   "outputs": [],
   "source": []
  },
  {
   "cell_type": "code",
   "execution_count": null,
   "metadata": {},
   "outputs": [],
   "source": []
  }
 ],
 "metadata": {
  "kernelspec": {
   "display_name": "Python 3",
   "language": "python",
   "name": "python3"
  },
  "language_info": {
   "codemirror_mode": {
    "name": "ipython",
    "version": 3
   },
   "file_extension": ".py",
   "mimetype": "text/x-python",
   "name": "python",
   "nbconvert_exporter": "python",
   "pygments_lexer": "ipython3",
   "version": "3.7.4"
  },
  "latex_envs": {
   "LaTeX_envs_menu_present": true,
   "autoclose": false,
   "autocomplete": true,
   "bibliofile": "biblio.bib",
   "cite_by": "apalike",
   "current_citInitial": 1,
   "eqLabelWithNumbers": true,
   "eqNumInitial": 1,
   "hotkeys": {
    "equation": "Ctrl-E",
    "itemize": "Ctrl-I"
   },
   "labels_anchors": false,
   "latex_user_defs": false,
   "report_style_numbering": false,
   "user_envs_cfg": false
  },
  "varInspector": {
   "cols": {
    "lenName": 16,
    "lenType": 16,
    "lenVar": 40
   },
   "kernels_config": {
    "python": {
     "delete_cmd_postfix": "",
     "delete_cmd_prefix": "del ",
     "library": "var_list.py",
     "varRefreshCmd": "print(var_dic_list())"
    },
    "r": {
     "delete_cmd_postfix": ") ",
     "delete_cmd_prefix": "rm(",
     "library": "var_list.r",
     "varRefreshCmd": "cat(var_dic_list()) "
    }
   },
   "types_to_exclude": [
    "module",
    "function",
    "builtin_function_or_method",
    "instance",
    "_Feature"
   ],
   "window_display": false
  }
 },
 "nbformat": 4,
 "nbformat_minor": 4
}
