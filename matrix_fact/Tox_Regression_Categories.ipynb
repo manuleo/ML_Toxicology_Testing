{
  "nbformat": 4,
  "nbformat_minor": 0,
  "metadata": {
    "colab": {
      "name": "Tox_Regression_Categories",
      "provenance": [],
      "collapsed_sections": []
    },
    "kernelspec": {
      "name": "python3",
      "display_name": "Python 3"
    },
    "accelerator": "GPU"
  },
  "cells": [
    {
      "cell_type": "code",
      "metadata": {
        "id": "AkFRqOyf_Ok0",
        "colab_type": "code",
        "outputId": "a70674c9-6453-4993-ef52-b39f1b28bc0a",
        "colab": {
          "base_uri": "https://localhost:8080/",
          "height": 1000
        }
      },
      "source": [
        "!pip install turicreate==5.4\n",
        "# The wrong version of MXNET will be installed\n",
        "!pip uninstall -y mxnet\n",
        "# Install CUDA10-compatible version of mxnet \n",
        "!pip install mxnet-cu100==1.4.0.post0"
      ],
      "execution_count": 1,
      "outputs": [
        {
          "output_type": "stream",
          "text": [
            "Collecting turicreate==5.4\n",
            "\u001b[?25l  Downloading https://files.pythonhosted.org/packages/4f/ef/1847a704548ad4cbcabe09b3882181c190f5b696da8b2d082521c33ec187/turicreate-5.4-cp36-cp36m-manylinux1_x86_64.whl (87.4MB)\n",
            "\u001b[K     |████████████████████████████████| 87.4MB 119kB/s \n",
            "\u001b[?25hRequirement already satisfied: decorator>=4.0.9 in /usr/local/lib/python3.6/dist-packages (from turicreate==5.4) (4.4.1)\n",
            "Collecting mxnet<1.2.0,>=1.1.0\n",
            "\u001b[?25l  Downloading https://files.pythonhosted.org/packages/96/98/c9877e100c3d1ac92263bfaba7bb8a49294e099046592040a2ff8620ac61/mxnet-1.1.0.post0-py2.py3-none-manylinux1_x86_64.whl (23.8MB)\n",
            "\u001b[K     |████████████████████████████████| 23.8MB 376kB/s \n",
            "\u001b[?25hRequirement already satisfied: six>=1.10.0 in /usr/local/lib/python3.6/dist-packages (from turicreate==5.4) (1.12.0)\n",
            "Requirement already satisfied: scipy>=0.14.0 in /usr/local/lib/python3.6/dist-packages (from turicreate==5.4) (1.3.3)\n",
            "Requirement already satisfied: pillow>=3.3.0 in /usr/local/lib/python3.6/dist-packages (from turicreate==5.4) (4.3.0)\n",
            "Requirement already satisfied: pandas>=0.19.0 in /usr/local/lib/python3.6/dist-packages (from turicreate==5.4) (0.25.3)\n",
            "Collecting coremltools==2.1.0\n",
            "\u001b[?25l  Downloading https://files.pythonhosted.org/packages/b9/9d/7ec5a2480c6afce4fcb99de1650b7abfd1457b2ef1de5ce39bf7bee8a8ae/coremltools-2.1.0-cp36-none-manylinux1_x86_64.whl (2.7MB)\n",
            "\u001b[K     |████████████████████████████████| 2.7MB 24.3MB/s \n",
            "\u001b[?25hRequirement already satisfied: requests>=2.9.1 in /usr/local/lib/python3.6/dist-packages (from turicreate==5.4) (2.21.0)\n",
            "Collecting resampy==0.2.1\n",
            "\u001b[?25l  Downloading https://files.pythonhosted.org/packages/14/b6/66a06d85474190b50aee1a6c09cdc95bb405ac47338b27e9b21409da1760/resampy-0.2.1.tar.gz (322kB)\n",
            "\u001b[K     |████████████████████████████████| 327kB 42.9MB/s \n",
            "\u001b[?25hRequirement already satisfied: numpy in /usr/local/lib/python3.6/dist-packages (from turicreate==5.4) (1.17.4)\n",
            "Requirement already satisfied: prettytable==0.7.2 in /usr/local/lib/python3.6/dist-packages (from turicreate==5.4) (0.7.2)\n",
            "Collecting graphviz<0.9.0,>=0.8.1\n",
            "  Downloading https://files.pythonhosted.org/packages/53/39/4ab213673844e0c004bed8a0781a0721a3f6bb23eb8854ee75c236428892/graphviz-0.8.4-py2.py3-none-any.whl\n",
            "Requirement already satisfied: olefile in /usr/local/lib/python3.6/dist-packages (from pillow>=3.3.0->turicreate==5.4) (0.46)\n",
            "Requirement already satisfied: python-dateutil>=2.6.1 in /usr/local/lib/python3.6/dist-packages (from pandas>=0.19.0->turicreate==5.4) (2.6.1)\n",
            "Requirement already satisfied: pytz>=2017.2 in /usr/local/lib/python3.6/dist-packages (from pandas>=0.19.0->turicreate==5.4) (2018.9)\n",
            "Requirement already satisfied: protobuf>=3.1.0 in /usr/local/lib/python3.6/dist-packages (from coremltools==2.1.0->turicreate==5.4) (3.10.0)\n",
            "Requirement already satisfied: idna<2.9,>=2.5 in /usr/local/lib/python3.6/dist-packages (from requests>=2.9.1->turicreate==5.4) (2.8)\n",
            "Requirement already satisfied: chardet<3.1.0,>=3.0.2 in /usr/local/lib/python3.6/dist-packages (from requests>=2.9.1->turicreate==5.4) (3.0.4)\n",
            "Requirement already satisfied: urllib3<1.25,>=1.21.1 in /usr/local/lib/python3.6/dist-packages (from requests>=2.9.1->turicreate==5.4) (1.24.3)\n",
            "Requirement already satisfied: certifi>=2017.4.17 in /usr/local/lib/python3.6/dist-packages (from requests>=2.9.1->turicreate==5.4) (2019.11.28)\n",
            "Requirement already satisfied: numba>=0.32 in /usr/local/lib/python3.6/dist-packages (from resampy==0.2.1->turicreate==5.4) (0.40.1)\n",
            "Requirement already satisfied: setuptools in /usr/local/lib/python3.6/dist-packages (from protobuf>=3.1.0->coremltools==2.1.0->turicreate==5.4) (42.0.1)\n",
            "Requirement already satisfied: llvmlite>=0.25.0dev0 in /usr/local/lib/python3.6/dist-packages (from numba>=0.32->resampy==0.2.1->turicreate==5.4) (0.30.0)\n",
            "Building wheels for collected packages: resampy\n",
            "  Building wheel for resampy (setup.py) ... \u001b[?25l\u001b[?25hdone\n",
            "  Created wheel for resampy: filename=resampy-0.2.1-cp36-none-any.whl size=320847 sha256=be5cd8cc1c24dc2fca85619975c860441f3ff58cc89fe132b97a40d4073fcbd9\n",
            "  Stored in directory: /root/.cache/pip/wheels/ff/4f/ed/2e6c676c23efe5394bb40ade50662e90eb46e29b48324c5f9b\n",
            "Successfully built resampy\n",
            "\u001b[31mERROR: mxnet 1.1.0.post0 has requirement numpy<1.15.0,>=1.8.2, but you'll have numpy 1.17.4 which is incompatible.\u001b[0m\n",
            "\u001b[31mERROR: mxnet 1.1.0.post0 has requirement requests<2.19.0,>=2.18.4, but you'll have requests 2.21.0 which is incompatible.\u001b[0m\n",
            "Installing collected packages: graphviz, mxnet, coremltools, resampy, turicreate\n",
            "  Found existing installation: graphviz 0.10.1\n",
            "    Uninstalling graphviz-0.10.1:\n",
            "      Successfully uninstalled graphviz-0.10.1\n",
            "  Found existing installation: resampy 0.2.2\n",
            "    Uninstalling resampy-0.2.2:\n",
            "      Successfully uninstalled resampy-0.2.2\n",
            "Successfully installed coremltools-2.1.0 graphviz-0.8.4 mxnet-1.1.0.post0 resampy-0.2.1 turicreate-5.4\n",
            "Uninstalling mxnet-1.1.0.post0:\n",
            "  Successfully uninstalled mxnet-1.1.0.post0\n",
            "Collecting mxnet-cu100==1.4.0.post0\n",
            "\u001b[?25l  Downloading https://files.pythonhosted.org/packages/ae/36/40b6d201b46495513f7a7fa25fe8b7d85b3602a22efba119e8146d5f1601/mxnet_cu100-1.4.0.post0-py2.py3-none-manylinux1_x86_64.whl (487.9MB)\n",
            "\u001b[K     |████████████████████████████████| 487.9MB 34kB/s \n",
            "\u001b[?25hRequirement already satisfied: graphviz<0.9.0,>=0.8.1 in /usr/local/lib/python3.6/dist-packages (from mxnet-cu100==1.4.0.post0) (0.8.4)\n",
            "Requirement already satisfied: requests>=2.20.0 in /usr/local/lib/python3.6/dist-packages (from mxnet-cu100==1.4.0.post0) (2.21.0)\n",
            "Collecting numpy<1.15.0,>=1.8.2\n",
            "\u001b[?25l  Downloading https://files.pythonhosted.org/packages/e5/c4/395ebb218053ba44d64935b3729bc88241ec279915e72100c5979db10945/numpy-1.14.6-cp36-cp36m-manylinux1_x86_64.whl (13.8MB)\n",
            "\u001b[K     |████████████████████████████████| 13.8MB 40.0MB/s \n",
            "\u001b[?25hRequirement already satisfied: urllib3<1.25,>=1.21.1 in /usr/local/lib/python3.6/dist-packages (from requests>=2.20.0->mxnet-cu100==1.4.0.post0) (1.24.3)\n",
            "Requirement already satisfied: certifi>=2017.4.17 in /usr/local/lib/python3.6/dist-packages (from requests>=2.20.0->mxnet-cu100==1.4.0.post0) (2019.11.28)\n",
            "Requirement already satisfied: idna<2.9,>=2.5 in /usr/local/lib/python3.6/dist-packages (from requests>=2.20.0->mxnet-cu100==1.4.0.post0) (2.8)\n",
            "Requirement already satisfied: chardet<3.1.0,>=3.0.2 in /usr/local/lib/python3.6/dist-packages (from requests>=2.20.0->mxnet-cu100==1.4.0.post0) (3.0.4)\n",
            "\u001b[31mERROR: turicreate 5.4 requires mxnet<1.2.0,>=1.1.0, which is not installed.\u001b[0m\n",
            "\u001b[31mERROR: tensorflow 1.15.0 has requirement numpy<2.0,>=1.16.0, but you'll have numpy 1.14.6 which is incompatible.\u001b[0m\n",
            "\u001b[31mERROR: spacy 2.1.9 has requirement numpy>=1.15.0, but you'll have numpy 1.14.6 which is incompatible.\u001b[0m\n",
            "\u001b[31mERROR: imgaug 0.2.9 has requirement numpy>=1.15.0, but you'll have numpy 1.14.6 which is incompatible.\u001b[0m\n",
            "\u001b[31mERROR: fastai 1.0.59 has requirement numpy>=1.15, but you'll have numpy 1.14.6 which is incompatible.\u001b[0m\n",
            "\u001b[31mERROR: datascience 0.10.6 has requirement folium==0.2.1, but you'll have folium 0.8.3 which is incompatible.\u001b[0m\n",
            "\u001b[31mERROR: cvxpy 1.0.25 has requirement numpy>=1.15, but you'll have numpy 1.14.6 which is incompatible.\u001b[0m\n",
            "\u001b[31mERROR: blis 0.2.4 has requirement numpy>=1.15.0, but you'll have numpy 1.14.6 which is incompatible.\u001b[0m\n",
            "\u001b[31mERROR: albumentations 0.1.12 has requirement imgaug<0.2.7,>=0.2.5, but you'll have imgaug 0.2.9 which is incompatible.\u001b[0m\n",
            "Installing collected packages: numpy, mxnet-cu100\n",
            "  Found existing installation: numpy 1.17.4\n",
            "    Uninstalling numpy-1.17.4:\n",
            "      Successfully uninstalled numpy-1.17.4\n",
            "Successfully installed mxnet-cu100-1.4.0.post0 numpy-1.14.6\n"
          ],
          "name": "stdout"
        },
        {
          "output_type": "display_data",
          "data": {
            "application/vnd.colab-display-data+json": {
              "pip_warning": {
                "packages": [
                  "numpy"
                ]
              }
            }
          },
          "metadata": {
            "tags": []
          }
        }
      ]
    },
    {
      "cell_type": "code",
      "metadata": {
        "id": "ED2h82k8_asW",
        "colab_type": "code",
        "outputId": "639bff59-3a89-445d-86ed-b75672a7e0d7",
        "colab": {
          "base_uri": "https://localhost:8080/",
          "height": 34
        }
      },
      "source": [
        "import os.path\n",
        "from google.colab import drive\n",
        "\n",
        "# mount Google Drive to /content/drive/My Drive/\n",
        "if os.path.isdir(\"/content/drive/My Drive\"):\n",
        "  print(\"Google Drive already mounted\")\n",
        "else:\n",
        "  drive.mount('/content/drive')"
      ],
      "execution_count": 1,
      "outputs": [
        {
          "output_type": "stream",
          "text": [
            "Google Drive already mounted\n"
          ],
          "name": "stdout"
        }
      ]
    },
    {
      "cell_type": "code",
      "metadata": {
        "id": "RWlgWw4r_yi-",
        "colab_type": "code",
        "outputId": "075f7da4-8ba8-47e7-b578-e4b840be061d",
        "colab": {
          "base_uri": "https://localhost:8080/",
          "height": 136
        }
      },
      "source": [
        "import mxnet as mx\n",
        "import turicreate as tc"
      ],
      "execution_count": 2,
      "outputs": [
        {
          "output_type": "stream",
          "text": [
            "WARNING: You are using MXNet 1.4.0 which may result in breaking behavior.\n",
            "         To fix this, please install the currently recommended version:\n",
            "\n",
            "             pip uninstall -y mxnet && pip install mxnet==1.1.0\n",
            "\n",
            "         If you want to use a CUDA GPU, then change 'mxnet' to 'mxnet-cu90' (adjust 'cu90' depending on your CUDA version):\n",
            "\n"
          ],
          "name": "stdout"
        }
      ]
    },
    {
      "cell_type": "code",
      "metadata": {
        "id": "oAZZJuxN_zZ6",
        "colab_type": "code",
        "colab": {}
      },
      "source": [
        "# Use all GPUs (default)\n",
        "tc.config.set_num_gpus(-1)\n",
        "\n",
        "# Use only 1 GPU\n",
        "#tc.config.set_num_gpus(1)\n",
        "\n",
        "# Use CPU\n",
        "#tc.config.set_num_gpus(0)"
      ],
      "execution_count": 0,
      "outputs": []
    },
    {
      "cell_type": "code",
      "metadata": {
        "id": "QcyNZnMt_1at",
        "colab_type": "code",
        "colab": {}
      },
      "source": [
        "import pandas as pd\n",
        "import numpy as np\n",
        "import matplotlib.pyplot as plt\n",
        "import seaborn as sns\n",
        "import re\n",
        "from sklearn.preprocessing import StandardScaler\n",
        "from sklearn.preprocessing import MinMaxScaler\n",
        "from sklearn.model_selection import KFold\n",
        "from sklearn.metrics import mean_squared_error\n",
        "from math import sqrt\n",
        "import pickle"
      ],
      "execution_count": 0,
      "outputs": []
    },
    {
      "cell_type": "code",
      "metadata": {
        "id": "Bpw_AWUUAunX",
        "colab_type": "code",
        "colab": {}
      },
      "source": [
        "from sklearn.model_selection import train_test_split\n",
        "from sklearn.neighbors import KNeighborsClassifier\n",
        "from sklearn.metrics import accuracy_score\n",
        "from sklearn.ensemble import RandomForestClassifier\n",
        "from sklearn.ensemble import GradientBoostingClassifier\n",
        "from sklearn.model_selection import GridSearchCV\n",
        "from sklearn.preprocessing import OrdinalEncoder\n",
        "from sklearn.preprocessing import LabelEncoder\n",
        "from scipy.stats import boxcox"
      ],
      "execution_count": 0,
      "outputs": []
    },
    {
      "cell_type": "markdown",
      "metadata": {
        "id": "FBynGtTwRW7-",
        "colab_type": "text"
      },
      "source": [
        "# Data loading"
      ]
    },
    {
      "cell_type": "code",
      "metadata": {
        "id": "GlilIFX4BBxP",
        "colab_type": "code",
        "outputId": "cb33fc6c-c717-4259-c0a6-6167c0940523",
        "colab": {
          "base_uri": "https://localhost:8080/",
          "height": 204
        }
      },
      "source": [
        "base_db = pd.read_csv(\"/content/drive/My Drive/Colab Notebooks/data/ML_Project/base_db.csv\").drop(columns=\"Unnamed: 0\")\n",
        "base_db.head()"
      ],
      "execution_count": 164,
      "outputs": [
        {
          "output_type": "execute_result",
          "data": {
            "text/html": [
              "<div>\n",
              "<style scoped>\n",
              "    .dataframe tbody tr th:only-of-type {\n",
              "        vertical-align: middle;\n",
              "    }\n",
              "\n",
              "    .dataframe tbody tr th {\n",
              "        vertical-align: top;\n",
              "    }\n",
              "\n",
              "    .dataframe thead th {\n",
              "        text-align: right;\n",
              "    }\n",
              "</style>\n",
              "<table border=\"1\" class=\"dataframe\">\n",
              "  <thead>\n",
              "    <tr style=\"text-align: right;\">\n",
              "      <th></th>\n",
              "      <th>test_cas</th>\n",
              "      <th>exposure_type</th>\n",
              "      <th>obs_duration_mean</th>\n",
              "      <th>conc1_type</th>\n",
              "      <th>conc1_mean</th>\n",
              "      <th>class</th>\n",
              "      <th>tax_order</th>\n",
              "      <th>family</th>\n",
              "      <th>genus</th>\n",
              "      <th>species</th>\n",
              "      <th>organism_lifestage</th>\n",
              "      <th>organism_characteristics</th>\n",
              "      <th>ecotox_group</th>\n",
              "    </tr>\n",
              "  </thead>\n",
              "  <tbody>\n",
              "    <tr>\n",
              "      <th>0</th>\n",
              "      <td>10108642</td>\n",
              "      <td>S</td>\n",
              "      <td>48.0</td>\n",
              "      <td>T</td>\n",
              "      <td>46.900000</td>\n",
              "      <td>Actinopterygii</td>\n",
              "      <td>Cypriniformes</td>\n",
              "      <td>Cyprinidae</td>\n",
              "      <td>Carassius</td>\n",
              "      <td>auratus</td>\n",
              "      <td>NR</td>\n",
              "      <td>1.93 (0.82-4.15) G</td>\n",
              "      <td>Fish,Standard Test Species,U.S. Exotic/Nuisanc...</td>\n",
              "    </tr>\n",
              "    <tr>\n",
              "      <th>1</th>\n",
              "      <td>88302</td>\n",
              "      <td>S</td>\n",
              "      <td>6.0</td>\n",
              "      <td>A</td>\n",
              "      <td>2.920000</td>\n",
              "      <td>Actinopterygii</td>\n",
              "      <td>Salmoniformes</td>\n",
              "      <td>Salmonidae</td>\n",
              "      <td>Oncorhynchus</td>\n",
              "      <td>mykiss</td>\n",
              "      <td>FI</td>\n",
              "      <td>NR</td>\n",
              "      <td>Fish,Standard Test Species,U.S. Exotic/Nuisanc...</td>\n",
              "    </tr>\n",
              "    <tr>\n",
              "      <th>2</th>\n",
              "      <td>1397940</td>\n",
              "      <td>S</td>\n",
              "      <td>96.0</td>\n",
              "      <td>A</td>\n",
              "      <td>0.000063</td>\n",
              "      <td>Actinopterygii</td>\n",
              "      <td>Perciformes</td>\n",
              "      <td>Centrarchidae</td>\n",
              "      <td>Micropterus</td>\n",
              "      <td>salmoides</td>\n",
              "      <td>NR</td>\n",
              "      <td>20.5G</td>\n",
              "      <td>Fish</td>\n",
              "    </tr>\n",
              "    <tr>\n",
              "      <th>3</th>\n",
              "      <td>25474413</td>\n",
              "      <td>S</td>\n",
              "      <td>96.0</td>\n",
              "      <td>A</td>\n",
              "      <td>0.012000</td>\n",
              "      <td>Actinopterygii</td>\n",
              "      <td>Perciformes</td>\n",
              "      <td>Centrarchidae</td>\n",
              "      <td>Lepomis</td>\n",
              "      <td>macrochirus</td>\n",
              "      <td>NR</td>\n",
              "      <td>1G</td>\n",
              "      <td>Fish,Standard Test Species</td>\n",
              "    </tr>\n",
              "    <tr>\n",
              "      <th>4</th>\n",
              "      <td>540727</td>\n",
              "      <td>F</td>\n",
              "      <td>36.0</td>\n",
              "      <td>T</td>\n",
              "      <td>144.000000</td>\n",
              "      <td>Actinopterygii</td>\n",
              "      <td>Salmoniformes</td>\n",
              "      <td>Salmonidae</td>\n",
              "      <td>Oncorhynchus</td>\n",
              "      <td>mykiss</td>\n",
              "      <td>JV</td>\n",
              "      <td>0.62 G</td>\n",
              "      <td>Fish,Standard Test Species,U.S. Exotic/Nuisanc...</td>\n",
              "    </tr>\n",
              "  </tbody>\n",
              "</table>\n",
              "</div>"
            ],
            "text/plain": [
              "   test_cas  ...                                       ecotox_group\n",
              "0  10108642  ...  Fish,Standard Test Species,U.S. Exotic/Nuisanc...\n",
              "1     88302  ...  Fish,Standard Test Species,U.S. Exotic/Nuisanc...\n",
              "2   1397940  ...                                               Fish\n",
              "3  25474413  ...                         Fish,Standard Test Species\n",
              "4    540727  ...  Fish,Standard Test Species,U.S. Exotic/Nuisanc...\n",
              "\n",
              "[5 rows x 13 columns]"
            ]
          },
          "metadata": {
            "tags": []
          },
          "execution_count": 164
        }
      ]
    },
    {
      "cell_type": "code",
      "metadata": {
        "id": "h1xqbOoXFKw_",
        "colab_type": "code",
        "colab": {}
      },
      "source": [
        "base_db96 = base_db[base_db.obs_duration_mean==96]"
      ],
      "execution_count": 0,
      "outputs": []
    },
    {
      "cell_type": "code",
      "metadata": {
        "id": "XF2TroEGBwSC",
        "colab_type": "code",
        "outputId": "46accbe4-abc2-4469-bee8-5aefadd858bb",
        "colab": {
          "base_uri": "https://localhost:8080/",
          "height": 204
        }
      },
      "source": [
        "X_original = base_db96.copy()\n",
        "X_original = X_original[[\"test_cas\", \"species\", \"conc1_mean\", \"exposure_type\", \"conc1_type\"]].reset_index(drop=True)\n",
        "X_original.head()"
      ],
      "execution_count": 54,
      "outputs": [
        {
          "output_type": "execute_result",
          "data": {
            "text/html": [
              "<div>\n",
              "<style scoped>\n",
              "    .dataframe tbody tr th:only-of-type {\n",
              "        vertical-align: middle;\n",
              "    }\n",
              "\n",
              "    .dataframe tbody tr th {\n",
              "        vertical-align: top;\n",
              "    }\n",
              "\n",
              "    .dataframe thead th {\n",
              "        text-align: right;\n",
              "    }\n",
              "</style>\n",
              "<table border=\"1\" class=\"dataframe\">\n",
              "  <thead>\n",
              "    <tr style=\"text-align: right;\">\n",
              "      <th></th>\n",
              "      <th>test_cas</th>\n",
              "      <th>species</th>\n",
              "      <th>conc1_mean</th>\n",
              "      <th>exposure_type</th>\n",
              "      <th>conc1_type</th>\n",
              "    </tr>\n",
              "  </thead>\n",
              "  <tbody>\n",
              "    <tr>\n",
              "      <th>0</th>\n",
              "      <td>1397940</td>\n",
              "      <td>salmoides</td>\n",
              "      <td>0.000063</td>\n",
              "      <td>S</td>\n",
              "      <td>A</td>\n",
              "    </tr>\n",
              "    <tr>\n",
              "      <th>1</th>\n",
              "      <td>25474413</td>\n",
              "      <td>macrochirus</td>\n",
              "      <td>0.012000</td>\n",
              "      <td>S</td>\n",
              "      <td>A</td>\n",
              "    </tr>\n",
              "    <tr>\n",
              "      <th>2</th>\n",
              "      <td>72435</td>\n",
              "      <td>fontinalis</td>\n",
              "      <td>0.010000</td>\n",
              "      <td>S</td>\n",
              "      <td>A</td>\n",
              "    </tr>\n",
              "    <tr>\n",
              "      <th>3</th>\n",
              "      <td>2921882</td>\n",
              "      <td>macrochirus</td>\n",
              "      <td>0.002400</td>\n",
              "      <td>S</td>\n",
              "      <td>A</td>\n",
              "    </tr>\n",
              "    <tr>\n",
              "      <th>4</th>\n",
              "      <td>7758987</td>\n",
              "      <td>tshawytscha</td>\n",
              "      <td>0.058000</td>\n",
              "      <td>S</td>\n",
              "      <td>T</td>\n",
              "    </tr>\n",
              "  </tbody>\n",
              "</table>\n",
              "</div>"
            ],
            "text/plain": [
              "   test_cas      species  conc1_mean exposure_type conc1_type\n",
              "0   1397940    salmoides    0.000063             S          A\n",
              "1  25474413  macrochirus    0.012000             S          A\n",
              "2     72435   fontinalis    0.010000             S          A\n",
              "3   2921882  macrochirus    0.002400             S          A\n",
              "4   7758987  tshawytscha    0.058000             S          T"
            ]
          },
          "metadata": {
            "tags": []
          },
          "execution_count": 54
        }
      ]
    },
    {
      "cell_type": "code",
      "metadata": {
        "id": "OgnwrHItFFN1",
        "colab_type": "code",
        "colab": {
          "base_uri": "https://localhost:8080/",
          "height": 204
        },
        "outputId": "bc95e09a-7eb0-47a2-efb7-db2820d78596"
      },
      "source": [
        "X_side_species = base_db96.copy()\n",
        "X_side_species = X_side_species[[\"species\", \"class\", \"tax_order\", \"family\", \"genus\"]]\n",
        "X_side_species = X_side_species.drop_duplicates(subset=\"species\").reset_index(drop=True)\n",
        "X_side_species.head()"
      ],
      "execution_count": 55,
      "outputs": [
        {
          "output_type": "execute_result",
          "data": {
            "text/html": [
              "<div>\n",
              "<style scoped>\n",
              "    .dataframe tbody tr th:only-of-type {\n",
              "        vertical-align: middle;\n",
              "    }\n",
              "\n",
              "    .dataframe tbody tr th {\n",
              "        vertical-align: top;\n",
              "    }\n",
              "\n",
              "    .dataframe thead th {\n",
              "        text-align: right;\n",
              "    }\n",
              "</style>\n",
              "<table border=\"1\" class=\"dataframe\">\n",
              "  <thead>\n",
              "    <tr style=\"text-align: right;\">\n",
              "      <th></th>\n",
              "      <th>species</th>\n",
              "      <th>class</th>\n",
              "      <th>tax_order</th>\n",
              "      <th>family</th>\n",
              "      <th>genus</th>\n",
              "    </tr>\n",
              "  </thead>\n",
              "  <tbody>\n",
              "    <tr>\n",
              "      <th>0</th>\n",
              "      <td>salmoides</td>\n",
              "      <td>Actinopterygii</td>\n",
              "      <td>Perciformes</td>\n",
              "      <td>Centrarchidae</td>\n",
              "      <td>Micropterus</td>\n",
              "    </tr>\n",
              "    <tr>\n",
              "      <th>1</th>\n",
              "      <td>macrochirus</td>\n",
              "      <td>Actinopterygii</td>\n",
              "      <td>Perciformes</td>\n",
              "      <td>Centrarchidae</td>\n",
              "      <td>Lepomis</td>\n",
              "    </tr>\n",
              "    <tr>\n",
              "      <th>2</th>\n",
              "      <td>fontinalis</td>\n",
              "      <td>Actinopterygii</td>\n",
              "      <td>Salmoniformes</td>\n",
              "      <td>Salmonidae</td>\n",
              "      <td>Salvelinus</td>\n",
              "    </tr>\n",
              "    <tr>\n",
              "      <th>3</th>\n",
              "      <td>tshawytscha</td>\n",
              "      <td>Actinopterygii</td>\n",
              "      <td>Salmoniformes</td>\n",
              "      <td>Salmonidae</td>\n",
              "      <td>Oncorhynchus</td>\n",
              "    </tr>\n",
              "    <tr>\n",
              "      <th>4</th>\n",
              "      <td>mykiss</td>\n",
              "      <td>Actinopterygii</td>\n",
              "      <td>Salmoniformes</td>\n",
              "      <td>Salmonidae</td>\n",
              "      <td>Oncorhynchus</td>\n",
              "    </tr>\n",
              "  </tbody>\n",
              "</table>\n",
              "</div>"
            ],
            "text/plain": [
              "       species           class      tax_order         family         genus\n",
              "0    salmoides  Actinopterygii    Perciformes  Centrarchidae   Micropterus\n",
              "1  macrochirus  Actinopterygii    Perciformes  Centrarchidae       Lepomis\n",
              "2   fontinalis  Actinopterygii  Salmoniformes     Salmonidae    Salvelinus\n",
              "3  tshawytscha  Actinopterygii  Salmoniformes     Salmonidae  Oncorhynchus\n",
              "4       mykiss  Actinopterygii  Salmoniformes     Salmonidae  Oncorhynchus"
            ]
          },
          "metadata": {
            "tags": []
          },
          "execution_count": 55
        }
      ]
    },
    {
      "cell_type": "code",
      "metadata": {
        "id": "oIicJcofHb5X",
        "colab_type": "code",
        "colab": {
          "base_uri": "https://localhost:8080/",
          "height": 445
        },
        "outputId": "24b7d8ae-6a1f-47f0-ab2f-e1e0e0b4fc3f"
      },
      "source": [
        "base_db_smiles = pd.read_csv(\"/content/drive/My Drive/Colab Notebooks/data/ML_Project/base_db_smiles.csv\")\n",
        "base_db_smiles.test_cas = base_db_smiles.test_cas.apply(lambda x: x.replace(\"-\", \"\")).astype(int)\n",
        "base_db_smiles.head()"
      ],
      "execution_count": 56,
      "outputs": [
        {
          "output_type": "execute_result",
          "data": {
            "text/html": [
              "<div>\n",
              "<style scoped>\n",
              "    .dataframe tbody tr th:only-of-type {\n",
              "        vertical-align: middle;\n",
              "    }\n",
              "\n",
              "    .dataframe tbody tr th {\n",
              "        vertical-align: top;\n",
              "    }\n",
              "\n",
              "    .dataframe thead th {\n",
              "        text-align: right;\n",
              "    }\n",
              "</style>\n",
              "<table border=\"1\" class=\"dataframe\">\n",
              "  <thead>\n",
              "    <tr style=\"text-align: right;\">\n",
              "      <th></th>\n",
              "      <th>test_cas</th>\n",
              "      <th>exposure_type</th>\n",
              "      <th>obs_duration_mean</th>\n",
              "      <th>conc1_type</th>\n",
              "      <th>conc1_mean</th>\n",
              "      <th>class</th>\n",
              "      <th>tax_order</th>\n",
              "      <th>family</th>\n",
              "      <th>genus</th>\n",
              "      <th>species</th>\n",
              "      <th>organism_lifestage</th>\n",
              "      <th>organism_characteristics</th>\n",
              "      <th>ecotox_group</th>\n",
              "      <th>smiles</th>\n",
              "      <th>atom_number</th>\n",
              "      <th>alone_atom_number</th>\n",
              "      <th>tripleBond</th>\n",
              "      <th>doubleBond</th>\n",
              "      <th>bonds_number</th>\n",
              "      <th>ring_numer</th>\n",
              "      <th>Mol</th>\n",
              "      <th>MorganDensity</th>\n",
              "      <th>LogP</th>\n",
              "    </tr>\n",
              "  </thead>\n",
              "  <tbody>\n",
              "    <tr>\n",
              "      <th>0</th>\n",
              "      <td>10108642</td>\n",
              "      <td>S</td>\n",
              "      <td>48.0</td>\n",
              "      <td>T</td>\n",
              "      <td>46.900</td>\n",
              "      <td>Actinopterygii</td>\n",
              "      <td>Cypriniformes</td>\n",
              "      <td>Cyprinidae</td>\n",
              "      <td>Carassius</td>\n",
              "      <td>auratus</td>\n",
              "      <td>NR</td>\n",
              "      <td>1.93 (0.82-4.15) G</td>\n",
              "      <td>Fish,Standard Test Species,U.S. Exotic/Nuisanc...</td>\n",
              "      <td>[Cl-].[Cl-].[Cd++]</td>\n",
              "      <td>3</td>\n",
              "      <td>3</td>\n",
              "      <td>0</td>\n",
              "      <td>0</td>\n",
              "      <td>0.0</td>\n",
              "      <td>0.0</td>\n",
              "      <td>183.318</td>\n",
              "      <td>0.666667</td>\n",
              "      <td>-5.9945</td>\n",
              "    </tr>\n",
              "    <tr>\n",
              "      <th>1</th>\n",
              "      <td>10108642</td>\n",
              "      <td>S</td>\n",
              "      <td>24.0</td>\n",
              "      <td>T</td>\n",
              "      <td>200.000</td>\n",
              "      <td>Actinopterygii</td>\n",
              "      <td>Cyprinodontiformes</td>\n",
              "      <td>Cyprinodontidae</td>\n",
              "      <td>Fundulus</td>\n",
              "      <td>heteroclitus</td>\n",
              "      <td>NR</td>\n",
              "      <td>49.6 MM, 1.0 G</td>\n",
              "      <td>Fish,Standard Test Species</td>\n",
              "      <td>[Cl-].[Cl-].[Cd++]</td>\n",
              "      <td>3</td>\n",
              "      <td>3</td>\n",
              "      <td>0</td>\n",
              "      <td>0</td>\n",
              "      <td>0.0</td>\n",
              "      <td>0.0</td>\n",
              "      <td>183.318</td>\n",
              "      <td>0.666667</td>\n",
              "      <td>-5.9945</td>\n",
              "    </tr>\n",
              "    <tr>\n",
              "      <th>2</th>\n",
              "      <td>10108642</td>\n",
              "      <td>F</td>\n",
              "      <td>96.0</td>\n",
              "      <td>T</td>\n",
              "      <td>0.001</td>\n",
              "      <td>Actinopterygii</td>\n",
              "      <td>Salmoniformes</td>\n",
              "      <td>Salmonidae</td>\n",
              "      <td>Oncorhynchus</td>\n",
              "      <td>mykiss</td>\n",
              "      <td>PA</td>\n",
              "      <td>6.96 G, 8.6 CM</td>\n",
              "      <td>Fish,Standard Test Species,U.S. Exotic/Nuisanc...</td>\n",
              "      <td>[Cl-].[Cl-].[Cd++]</td>\n",
              "      <td>3</td>\n",
              "      <td>3</td>\n",
              "      <td>0</td>\n",
              "      <td>0</td>\n",
              "      <td>0.0</td>\n",
              "      <td>0.0</td>\n",
              "      <td>183.318</td>\n",
              "      <td>0.666667</td>\n",
              "      <td>-5.9945</td>\n",
              "    </tr>\n",
              "    <tr>\n",
              "      <th>3</th>\n",
              "      <td>10108642</td>\n",
              "      <td>S</td>\n",
              "      <td>96.0</td>\n",
              "      <td>T</td>\n",
              "      <td>15.900</td>\n",
              "      <td>Actinopterygii</td>\n",
              "      <td>Cyprinodontiformes</td>\n",
              "      <td>Cyprinodontidae</td>\n",
              "      <td>Cyprinodon</td>\n",
              "      <td>variegatus</td>\n",
              "      <td>NR</td>\n",
              "      <td>25.8 MM, 0.70 G</td>\n",
              "      <td>Fish,Standard Test Species</td>\n",
              "      <td>[Cl-].[Cl-].[Cd++]</td>\n",
              "      <td>3</td>\n",
              "      <td>3</td>\n",
              "      <td>0</td>\n",
              "      <td>0</td>\n",
              "      <td>0.0</td>\n",
              "      <td>0.0</td>\n",
              "      <td>183.318</td>\n",
              "      <td>0.666667</td>\n",
              "      <td>-5.9945</td>\n",
              "    </tr>\n",
              "    <tr>\n",
              "      <th>4</th>\n",
              "      <td>10108642</td>\n",
              "      <td>F</td>\n",
              "      <td>694.0</td>\n",
              "      <td>T</td>\n",
              "      <td>0.030</td>\n",
              "      <td>Actinopterygii</td>\n",
              "      <td>Salmoniformes</td>\n",
              "      <td>Salmonidae</td>\n",
              "      <td>Oncorhynchus</td>\n",
              "      <td>mykiss</td>\n",
              "      <td>JV</td>\n",
              "      <td>0.193 G</td>\n",
              "      <td>Fish,Standard Test Species,U.S. Exotic/Nuisanc...</td>\n",
              "      <td>[Cl-].[Cl-].[Cd++]</td>\n",
              "      <td>3</td>\n",
              "      <td>3</td>\n",
              "      <td>0</td>\n",
              "      <td>0</td>\n",
              "      <td>0.0</td>\n",
              "      <td>0.0</td>\n",
              "      <td>183.318</td>\n",
              "      <td>0.666667</td>\n",
              "      <td>-5.9945</td>\n",
              "    </tr>\n",
              "  </tbody>\n",
              "</table>\n",
              "</div>"
            ],
            "text/plain": [
              "   test_cas exposure_type  obs_duration_mean  ...      Mol  MorganDensity    LogP\n",
              "0  10108642             S               48.0  ...  183.318       0.666667 -5.9945\n",
              "1  10108642             S               24.0  ...  183.318       0.666667 -5.9945\n",
              "2  10108642             F               96.0  ...  183.318       0.666667 -5.9945\n",
              "3  10108642             S               96.0  ...  183.318       0.666667 -5.9945\n",
              "4  10108642             F              694.0  ...  183.318       0.666667 -5.9945\n",
              "\n",
              "[5 rows x 23 columns]"
            ]
          },
          "metadata": {
            "tags": []
          },
          "execution_count": 56
        }
      ]
    },
    {
      "cell_type": "code",
      "metadata": {
        "id": "soVZCx-xI2hd",
        "colab_type": "code",
        "colab": {}
      },
      "source": [
        "base_db_smiles96 = base_db_smiles[base_db_smiles.obs_duration_mean==96]"
      ],
      "execution_count": 0,
      "outputs": []
    },
    {
      "cell_type": "code",
      "metadata": {
        "id": "XlMieM_tIOIs",
        "colab_type": "code",
        "colab": {
          "base_uri": "https://localhost:8080/",
          "height": 204
        },
        "outputId": "cda64880-3928-41da-e077-ff2939dc8151"
      },
      "source": [
        "X_side_cas = base_db_smiles96.copy()\n",
        "X_side_cas = X_side_cas[[\"test_cas\", \"atom_number\", \"alone_atom_number\", \"tripleBond\", \"doubleBond\", \"bonds_number\", \"ring_numer\"]]\n",
        "X_side_cas = X_side_cas.drop_duplicates(subset=\"test_cas\").reset_index(drop=True)\n",
        "X_side_cas = X_side_cas.dropna()\n",
        "X_side_cas.head()"
      ],
      "execution_count": 58,
      "outputs": [
        {
          "output_type": "execute_result",
          "data": {
            "text/html": [
              "<div>\n",
              "<style scoped>\n",
              "    .dataframe tbody tr th:only-of-type {\n",
              "        vertical-align: middle;\n",
              "    }\n",
              "\n",
              "    .dataframe tbody tr th {\n",
              "        vertical-align: top;\n",
              "    }\n",
              "\n",
              "    .dataframe thead th {\n",
              "        text-align: right;\n",
              "    }\n",
              "</style>\n",
              "<table border=\"1\" class=\"dataframe\">\n",
              "  <thead>\n",
              "    <tr style=\"text-align: right;\">\n",
              "      <th></th>\n",
              "      <th>test_cas</th>\n",
              "      <th>atom_number</th>\n",
              "      <th>alone_atom_number</th>\n",
              "      <th>tripleBond</th>\n",
              "      <th>doubleBond</th>\n",
              "      <th>bonds_number</th>\n",
              "      <th>ring_numer</th>\n",
              "    </tr>\n",
              "  </thead>\n",
              "  <tbody>\n",
              "    <tr>\n",
              "      <th>0</th>\n",
              "      <td>10108642</td>\n",
              "      <td>3</td>\n",
              "      <td>3</td>\n",
              "      <td>0</td>\n",
              "      <td>0</td>\n",
              "      <td>0.0</td>\n",
              "      <td>0.0</td>\n",
              "    </tr>\n",
              "    <tr>\n",
              "      <th>1</th>\n",
              "      <td>88302</td>\n",
              "      <td>8</td>\n",
              "      <td>2</td>\n",
              "      <td>0</td>\n",
              "      <td>1</td>\n",
              "      <td>14.0</td>\n",
              "      <td>1.0</td>\n",
              "    </tr>\n",
              "    <tr>\n",
              "      <th>2</th>\n",
              "      <td>1397940</td>\n",
              "      <td>38</td>\n",
              "      <td>5</td>\n",
              "      <td>0</td>\n",
              "      <td>5</td>\n",
              "      <td>40.0</td>\n",
              "      <td>2.0</td>\n",
              "    </tr>\n",
              "    <tr>\n",
              "      <th>3</th>\n",
              "      <td>540727</td>\n",
              "      <td>4</td>\n",
              "      <td>2</td>\n",
              "      <td>1</td>\n",
              "      <td>0</td>\n",
              "      <td>2.0</td>\n",
              "      <td>0.0</td>\n",
              "    </tr>\n",
              "    <tr>\n",
              "      <th>4</th>\n",
              "      <td>72435</td>\n",
              "      <td>9</td>\n",
              "      <td>0</td>\n",
              "      <td>0</td>\n",
              "      <td>0</td>\n",
              "      <td>22.0</td>\n",
              "      <td>2.0</td>\n",
              "    </tr>\n",
              "  </tbody>\n",
              "</table>\n",
              "</div>"
            ],
            "text/plain": [
              "   test_cas  atom_number  ...  bonds_number  ring_numer\n",
              "0  10108642            3  ...           0.0         0.0\n",
              "1     88302            8  ...          14.0         1.0\n",
              "2   1397940           38  ...          40.0         2.0\n",
              "3    540727            4  ...           2.0         0.0\n",
              "4     72435            9  ...          22.0         2.0\n",
              "\n",
              "[5 rows x 7 columns]"
            ]
          },
          "metadata": {
            "tags": []
          },
          "execution_count": 58
        }
      ]
    },
    {
      "cell_type": "code",
      "metadata": {
        "id": "YyTx2k1nCVwF",
        "colab_type": "code",
        "colab": {}
      },
      "source": [
        "X_original = X_original.groupby(by=[\"test_cas\", \"species\", \"conc1_type\", \"exposure_type\"]).agg(\"median\").reset_index()\n",
        "X_original[\"score\"] = 1/X_original.conc1_mean"
      ],
      "execution_count": 0,
      "outputs": []
    },
    {
      "cell_type": "code",
      "metadata": {
        "id": "pYVEIYTYQ5BM",
        "colab_type": "code",
        "colab": {
          "base_uri": "https://localhost:8080/",
          "height": 419
        },
        "outputId": "1295ee9a-fdc1-4226-952b-98f35dc4aa4c"
      },
      "source": [
        "X_original"
      ],
      "execution_count": 60,
      "outputs": [
        {
          "output_type": "execute_result",
          "data": {
            "text/html": [
              "<div>\n",
              "<style scoped>\n",
              "    .dataframe tbody tr th:only-of-type {\n",
              "        vertical-align: middle;\n",
              "    }\n",
              "\n",
              "    .dataframe tbody tr th {\n",
              "        vertical-align: top;\n",
              "    }\n",
              "\n",
              "    .dataframe thead th {\n",
              "        text-align: right;\n",
              "    }\n",
              "</style>\n",
              "<table border=\"1\" class=\"dataframe\">\n",
              "  <thead>\n",
              "    <tr style=\"text-align: right;\">\n",
              "      <th></th>\n",
              "      <th>test_cas</th>\n",
              "      <th>species</th>\n",
              "      <th>conc1_type</th>\n",
              "      <th>exposure_type</th>\n",
              "      <th>conc1_mean</th>\n",
              "      <th>score</th>\n",
              "    </tr>\n",
              "  </thead>\n",
              "  <tbody>\n",
              "    <tr>\n",
              "      <th>0</th>\n",
              "      <td>50000</td>\n",
              "      <td>affinis</td>\n",
              "      <td>A</td>\n",
              "      <td>R</td>\n",
              "      <td>90.000000</td>\n",
              "      <td>0.011111</td>\n",
              "    </tr>\n",
              "    <tr>\n",
              "      <th>1</th>\n",
              "      <td>50000</td>\n",
              "      <td>affinis</td>\n",
              "      <td>A</td>\n",
              "      <td>S</td>\n",
              "      <td>133.550000</td>\n",
              "      <td>0.007488</td>\n",
              "    </tr>\n",
              "    <tr>\n",
              "      <th>2</th>\n",
              "      <td>50000</td>\n",
              "      <td>carolinus</td>\n",
              "      <td>F</td>\n",
              "      <td>S</td>\n",
              "      <td>71.600000</td>\n",
              "      <td>0.013966</td>\n",
              "    </tr>\n",
              "    <tr>\n",
              "      <th>3</th>\n",
              "      <td>50000</td>\n",
              "      <td>chanos</td>\n",
              "      <td>F</td>\n",
              "      <td>S</td>\n",
              "      <td>232.000000</td>\n",
              "      <td>0.004310</td>\n",
              "    </tr>\n",
              "    <tr>\n",
              "      <th>4</th>\n",
              "      <td>50000</td>\n",
              "      <td>fasciata</td>\n",
              "      <td>F</td>\n",
              "      <td>R</td>\n",
              "      <td>115.000000</td>\n",
              "      <td>0.008696</td>\n",
              "    </tr>\n",
              "    <tr>\n",
              "      <th>...</th>\n",
              "      <td>...</td>\n",
              "      <td>...</td>\n",
              "      <td>...</td>\n",
              "      <td>...</td>\n",
              "      <td>...</td>\n",
              "      <td>...</td>\n",
              "    </tr>\n",
              "    <tr>\n",
              "      <th>11156</th>\n",
              "      <td>1161016825</td>\n",
              "      <td>rerio</td>\n",
              "      <td>F</td>\n",
              "      <td>R</td>\n",
              "      <td>0.000616</td>\n",
              "      <td>1623.376623</td>\n",
              "    </tr>\n",
              "    <tr>\n",
              "      <th>11157</th>\n",
              "      <td>1161016847</td>\n",
              "      <td>rerio</td>\n",
              "      <td>F</td>\n",
              "      <td>R</td>\n",
              "      <td>0.001120</td>\n",
              "      <td>892.857143</td>\n",
              "    </tr>\n",
              "    <tr>\n",
              "      <th>11158</th>\n",
              "      <td>1161016869</td>\n",
              "      <td>rerio</td>\n",
              "      <td>F</td>\n",
              "      <td>R</td>\n",
              "      <td>0.001641</td>\n",
              "      <td>609.384522</td>\n",
              "    </tr>\n",
              "    <tr>\n",
              "      <th>11159</th>\n",
              "      <td>1315501188</td>\n",
              "      <td>reticulata</td>\n",
              "      <td>A</td>\n",
              "      <td>S</td>\n",
              "      <td>0.021350</td>\n",
              "      <td>46.838407</td>\n",
              "    </tr>\n",
              "    <tr>\n",
              "      <th>11160</th>\n",
              "      <td>1413933057</td>\n",
              "      <td>reticulata</td>\n",
              "      <td>T</td>\n",
              "      <td>S</td>\n",
              "      <td>2500.000000</td>\n",
              "      <td>0.000400</td>\n",
              "    </tr>\n",
              "  </tbody>\n",
              "</table>\n",
              "<p>11161 rows × 6 columns</p>\n",
              "</div>"
            ],
            "text/plain": [
              "         test_cas     species  ...   conc1_mean        score\n",
              "0           50000     affinis  ...    90.000000     0.011111\n",
              "1           50000     affinis  ...   133.550000     0.007488\n",
              "2           50000   carolinus  ...    71.600000     0.013966\n",
              "3           50000      chanos  ...   232.000000     0.004310\n",
              "4           50000    fasciata  ...   115.000000     0.008696\n",
              "...           ...         ...  ...          ...          ...\n",
              "11156  1161016825       rerio  ...     0.000616  1623.376623\n",
              "11157  1161016847       rerio  ...     0.001120   892.857143\n",
              "11158  1161016869       rerio  ...     0.001641   609.384522\n",
              "11159  1315501188  reticulata  ...     0.021350    46.838407\n",
              "11160  1413933057  reticulata  ...  2500.000000     0.000400\n",
              "\n",
              "[11161 rows x 6 columns]"
            ]
          },
          "metadata": {
            "tags": []
          },
          "execution_count": 60
        }
      ]
    },
    {
      "cell_type": "code",
      "metadata": {
        "id": "HpTfXUIFPuqD",
        "colab_type": "code",
        "colab": {}
      },
      "source": [
        "enc_species = OrdinalEncoder(dtype=int)\n",
        "enc_species.fit(X_original.species.values.reshape(-1, 1))\n",
        "enc_cas = OrdinalEncoder(dtype=int)\n",
        "enc_cas.fit(X_original.test_cas.values.reshape(-1,1))\n",
        "\n",
        "X_original[\"species\"] = enc_species.transform(X_original.species.values.reshape(-1,1))\n",
        "X_original[\"test_cas\"] = enc_cas.transform(X_original.test_cas.values.reshape(-1,1))\n",
        "X_side_species[\"species\"] = enc_species.transform(X_side_species.species.values.reshape(-1,1))\n",
        "X_side_cas[\"test_cas\"] = enc_cas.transform(X_side_cas.test_cas.values.reshape(-1,1))\n",
        "\n",
        "X_fact = X_original.drop(columns=[\"conc1_mean\"]).reset_index(drop=True)"
      ],
      "execution_count": 0,
      "outputs": []
    },
    {
      "cell_type": "code",
      "metadata": {
        "id": "zjhV3QpYXqu-",
        "colab_type": "code",
        "colab": {
          "base_uri": "https://localhost:8080/",
          "height": 279
        },
        "outputId": "6c968a68-7797-42b7-ce5d-30778fb6c820"
      },
      "source": [
        "X_fact_scored = X_fact.copy()\n",
        "X_fact_scored.score = X_fact_scored.score.apply(lambda x: np.log(x))\n",
        "\n",
        "# plotting the distribution of conc inside this case\n",
        "X_fact_scored.score.hist(bins=100)\n",
        "#plt.yscale('log')\n",
        "plt.xlabel(\"score\")\n",
        "plt.ylabel(\"Count\");"
      ],
      "execution_count": 119,
      "outputs": [
        {
          "output_type": "display_data",
          "data": {
            "image/png": "[encoded data removed]",
            "text/plain": [
              "<Figure size 432x288 with 1 Axes>"
            ]
          },
          "metadata": {
            "tags": []
          }
        }
      ]
    },
    {
      "cell_type": "markdown",
      "metadata": {
        "id": "Juu0yWAXRRh_",
        "colab_type": "text"
      },
      "source": [
        "# Basic tests"
      ]
    },
    {
      "cell_type": "code",
      "metadata": {
        "id": "bQz3DUnkMFb9",
        "colab_type": "code",
        "colab": {}
      },
      "source": [
        "minmax = MinMaxScaler((1, 10))\n",
        "minmax.fit(X_fact_scored[[\"score\"]])\n",
        "X_fact_scored[[\"score\"]] = minmax.transform(X_fact_scored[[\"score\"]])"
      ],
      "execution_count": 0,
      "outputs": []
    },
    {
      "cell_type": "code",
      "metadata": {
        "id": "2Psp7--dB-cN",
        "colab_type": "code",
        "outputId": "21e6658c-5f27-4241-b4c5-cc5e15132a68",
        "colab": {
          "base_uri": "https://localhost:8080/",
          "height": 279
        }
      },
      "source": [
        "X = tc.SFrame(X_fact_scored)\n",
        "X"
      ],
      "execution_count": 121,
      "outputs": [
        {
          "output_type": "execute_result",
          "data": {
            "text/html": [
              "<div style=\"max-height:1000px;max-width:1500px;overflow:auto;\"><table frame=\"box\" rules=\"cols\">\n",
              "    <tr>\n",
              "        <th style=\"padding-left: 1em; padding-right: 1em; text-align: center\">test_cas</th>\n",
              "        <th style=\"padding-left: 1em; padding-right: 1em; text-align: center\">species</th>\n",
              "        <th style=\"padding-left: 1em; padding-right: 1em; text-align: center\">conc1_type</th>\n",
              "        <th style=\"padding-left: 1em; padding-right: 1em; text-align: center\">exposure_type</th>\n",
              "        <th style=\"padding-left: 1em; padding-right: 1em; text-align: center\">score</th>\n",
              "    </tr>\n",
              "    <tr>\n",
              "        <td style=\"padding-left: 1em; padding-right: 1em; text-align: center; vertical-align: top\">0</td>\n",
              "        <td style=\"padding-left: 1em; padding-right: 1em; text-align: center; vertical-align: top\">3</td>\n",
              "        <td style=\"padding-left: 1em; padding-right: 1em; text-align: center; vertical-align: top\">A</td>\n",
              "        <td style=\"padding-left: 1em; padding-right: 1em; text-align: center; vertical-align: top\">R</td>\n",
              "        <td style=\"padding-left: 1em; padding-right: 1em; text-align: center; vertical-align: top\">3.8642835866570193</td>\n",
              "    </tr>\n",
              "    <tr>\n",
              "        <td style=\"padding-left: 1em; padding-right: 1em; text-align: center; vertical-align: top\">0</td>\n",
              "        <td style=\"padding-left: 1em; padding-right: 1em; text-align: center; vertical-align: top\">3</td>\n",
              "        <td style=\"padding-left: 1em; padding-right: 1em; text-align: center; vertical-align: top\">A</td>\n",
              "        <td style=\"padding-left: 1em; padding-right: 1em; text-align: center; vertical-align: top\">S</td>\n",
              "        <td style=\"padding-left: 1em; padding-right: 1em; text-align: center; vertical-align: top\">3.7320685734496584</td>\n",
              "    </tr>\n",
              "    <tr>\n",
              "        <td style=\"padding-left: 1em; padding-right: 1em; text-align: center; vertical-align: top\">0</td>\n",
              "        <td style=\"padding-left: 1em; padding-right: 1em; text-align: center; vertical-align: top\">71</td>\n",
              "        <td style=\"padding-left: 1em; padding-right: 1em; text-align: center; vertical-align: top\">F</td>\n",
              "        <td style=\"padding-left: 1em; padding-right: 1em; text-align: center; vertical-align: top\">S</td>\n",
              "        <td style=\"padding-left: 1em; padding-right: 1em; text-align: center; vertical-align: top\">3.9409040271072886</td>\n",
              "    </tr>\n",
              "    <tr>\n",
              "        <td style=\"padding-left: 1em; padding-right: 1em; text-align: center; vertical-align: top\">0</td>\n",
              "        <td style=\"padding-left: 1em; padding-right: 1em; text-align: center; vertical-align: top\">82</td>\n",
              "        <td style=\"padding-left: 1em; padding-right: 1em; text-align: center; vertical-align: top\">F</td>\n",
              "        <td style=\"padding-left: 1em; padding-right: 1em; text-align: center; vertical-align: top\">S</td>\n",
              "        <td style=\"padding-left: 1em; padding-right: 1em; text-align: center; vertical-align: top\">3.5470584567157486</td>\n",
              "    </tr>\n",
              "    <tr>\n",
              "        <td style=\"padding-left: 1em; padding-right: 1em; text-align: center; vertical-align: top\">0</td>\n",
              "        <td style=\"padding-left: 1em; padding-right: 1em; text-align: center; vertical-align: top\">131</td>\n",
              "        <td style=\"padding-left: 1em; padding-right: 1em; text-align: center; vertical-align: top\">F</td>\n",
              "        <td style=\"padding-left: 1em; padding-right: 1em; text-align: center; vertical-align: top\">R</td>\n",
              "        <td style=\"padding-left: 1em; padding-right: 1em; text-align: center; vertical-align: top\">3.7821664371731405</td>\n",
              "    </tr>\n",
              "    <tr>\n",
              "        <td style=\"padding-left: 1em; padding-right: 1em; text-align: center; vertical-align: top\">0</td>\n",
              "        <td style=\"padding-left: 1em; padding-right: 1em; text-align: center; vertical-align: top\">167</td>\n",
              "        <td style=\"padding-left: 1em; padding-right: 1em; text-align: center; vertical-align: top\">F</td>\n",
              "        <td style=\"padding-left: 1em; padding-right: 1em; text-align: center; vertical-align: top\">R</td>\n",
              "        <td style=\"padding-left: 1em; padding-right: 1em; text-align: center; vertical-align: top\">3.8158482108284737</td>\n",
              "    </tr>\n",
              "    <tr>\n",
              "        <td style=\"padding-left: 1em; padding-right: 1em; text-align: center; vertical-align: top\">0</td>\n",
              "        <td style=\"padding-left: 1em; padding-right: 1em; text-align: center; vertical-align: top\">188</td>\n",
              "        <td style=\"padding-left: 1em; padding-right: 1em; text-align: center; vertical-align: top\">A</td>\n",
              "        <td style=\"padding-left: 1em; padding-right: 1em; text-align: center; vertical-align: top\">S</td>\n",
              "        <td style=\"padding-left: 1em; padding-right: 1em; text-align: center; vertical-align: top\">4.336227075933329</td>\n",
              "    </tr>\n",
              "    <tr>\n",
              "        <td style=\"padding-left: 1em; padding-right: 1em; text-align: center; vertical-align: top\">0</td>\n",
              "        <td style=\"padding-left: 1em; padding-right: 1em; text-align: center; vertical-align: top\">220</td>\n",
              "        <td style=\"padding-left: 1em; padding-right: 1em; text-align: center; vertical-align: top\">F</td>\n",
              "        <td style=\"padding-left: 1em; padding-right: 1em; text-align: center; vertical-align: top\">S</td>\n",
              "        <td style=\"padding-left: 1em; padding-right: 1em; text-align: center; vertical-align: top\">4.62287915355913</td>\n",
              "    </tr>\n",
              "    <tr>\n",
              "        <td style=\"padding-left: 1em; padding-right: 1em; text-align: center; vertical-align: top\">0</td>\n",
              "        <td style=\"padding-left: 1em; padding-right: 1em; text-align: center; vertical-align: top\">267</td>\n",
              "        <td style=\"padding-left: 1em; padding-right: 1em; text-align: center; vertical-align: top\">F</td>\n",
              "        <td style=\"padding-left: 1em; padding-right: 1em; text-align: center; vertical-align: top\">S</td>\n",
              "        <td style=\"padding-left: 1em; padding-right: 1em; text-align: center; vertical-align: top\">3.695395497824532</td>\n",
              "    </tr>\n",
              "    <tr>\n",
              "        <td style=\"padding-left: 1em; padding-right: 1em; text-align: center; vertical-align: top\">0</td>\n",
              "        <td style=\"padding-left: 1em; padding-right: 1em; text-align: center; vertical-align: top\">278</td>\n",
              "        <td style=\"padding-left: 1em; padding-right: 1em; text-align: center; vertical-align: top\">F</td>\n",
              "        <td style=\"padding-left: 1em; padding-right: 1em; text-align: center; vertical-align: top\">S</td>\n",
              "        <td style=\"padding-left: 1em; padding-right: 1em; text-align: center; vertical-align: top\">3.66428473194256</td>\n",
              "    </tr>\n",
              "</table>\n",
              "[11161 rows x 5 columns]<br/>Note: Only the head of the SFrame is printed.<br/>You can use print_rows(num_rows=m, num_columns=n) to print more rows and columns.\n",
              "</div>"
            ],
            "text/plain": [
              "Columns:\n",
              "\ttest_cas\tint\n",
              "\tspecies\tint\n",
              "\tconc1_type\tstr\n",
              "\texposure_type\tstr\n",
              "\tscore\tfloat\n",
              "\n",
              "Rows: 11161\n",
              "\n",
              "Data:\n",
              "+----------+---------+------------+---------------+--------------------+\n",
              "| test_cas | species | conc1_type | exposure_type |       score        |\n",
              "+----------+---------+------------+---------------+--------------------+\n",
              "|    0     |    3    |     A      |       R       | 3.8642835866570193 |\n",
              "|    0     |    3    |     A      |       S       | 3.7320685734496584 |\n",
              "|    0     |    71   |     F      |       S       | 3.9409040271072886 |\n",
              "|    0     |    82   |     F      |       S       | 3.5470584567157486 |\n",
              "|    0     |   131   |     F      |       R       | 3.7821664371731405 |\n",
              "|    0     |   167   |     F      |       R       | 3.8158482108284737 |\n",
              "|    0     |   188   |     A      |       S       | 4.336227075933329  |\n",
              "|    0     |   220   |     F      |       S       |  4.62287915355913  |\n",
              "|    0     |   267   |     F      |       S       | 3.695395497824532  |\n",
              "|    0     |   278   |     F      |       S       |  3.66428473194256  |\n",
              "+----------+---------+------------+---------------+--------------------+\n",
              "[11161 rows x 5 columns]\n",
              "Note: Only the head of the SFrame is printed.\n",
              "You can use print_rows(num_rows=m, num_columns=n) to print more rows and columns."
            ]
          },
          "metadata": {
            "tags": []
          },
          "execution_count": 121
        }
      ]
    },
    {
      "cell_type": "code",
      "metadata": {
        "id": "Wcosp9z_Slqe",
        "colab_type": "code",
        "colab": {
          "base_uri": "https://localhost:8080/",
          "height": 279
        },
        "outputId": "e3eab50f-a5e9-4771-93b4-5e5e42d544ae"
      },
      "source": [
        "X_cas = tc.SFrame(X_side_cas)\n",
        "X_cas"
      ],
      "execution_count": 122,
      "outputs": [
        {
          "output_type": "execute_result",
          "data": {
            "text/html": [
              "<div style=\"max-height:1000px;max-width:1500px;overflow:auto;\"><table frame=\"box\" rules=\"cols\">\n",
              "    <tr>\n",
              "        <th style=\"padding-left: 1em; padding-right: 1em; text-align: center\">test_cas</th>\n",
              "        <th style=\"padding-left: 1em; padding-right: 1em; text-align: center\">atom_number</th>\n",
              "        <th style=\"padding-left: 1em; padding-right: 1em; text-align: center\">alone_atom_number</th>\n",
              "        <th style=\"padding-left: 1em; padding-right: 1em; text-align: center\">tripleBond</th>\n",
              "        <th style=\"padding-left: 1em; padding-right: 1em; text-align: center\">doubleBond</th>\n",
              "        <th style=\"padding-left: 1em; padding-right: 1em; text-align: center\">bonds_number</th>\n",
              "        <th style=\"padding-left: 1em; padding-right: 1em; text-align: center\">ring_numer</th>\n",
              "    </tr>\n",
              "    <tr>\n",
              "        <td style=\"padding-left: 1em; padding-right: 1em; text-align: center; vertical-align: top\">1644</td>\n",
              "        <td style=\"padding-left: 1em; padding-right: 1em; text-align: center; vertical-align: top\">3</td>\n",
              "        <td style=\"padding-left: 1em; padding-right: 1em; text-align: center; vertical-align: top\">3</td>\n",
              "        <td style=\"padding-left: 1em; padding-right: 1em; text-align: center; vertical-align: top\">0</td>\n",
              "        <td style=\"padding-left: 1em; padding-right: 1em; text-align: center; vertical-align: top\">0</td>\n",
              "        <td style=\"padding-left: 1em; padding-right: 1em; text-align: center; vertical-align: top\">0.0</td>\n",
              "        <td style=\"padding-left: 1em; padding-right: 1em; text-align: center; vertical-align: top\">0.0</td>\n",
              "    </tr>\n",
              "    <tr>\n",
              "        <td style=\"padding-left: 1em; padding-right: 1em; text-align: center; vertical-align: top\">230</td>\n",
              "        <td style=\"padding-left: 1em; padding-right: 1em; text-align: center; vertical-align: top\">8</td>\n",
              "        <td style=\"padding-left: 1em; padding-right: 1em; text-align: center; vertical-align: top\">2</td>\n",
              "        <td style=\"padding-left: 1em; padding-right: 1em; text-align: center; vertical-align: top\">0</td>\n",
              "        <td style=\"padding-left: 1em; padding-right: 1em; text-align: center; vertical-align: top\">1</td>\n",
              "        <td style=\"padding-left: 1em; padding-right: 1em; text-align: center; vertical-align: top\">14.0</td>\n",
              "        <td style=\"padding-left: 1em; padding-right: 1em; text-align: center; vertical-align: top\">1.0</td>\n",
              "    </tr>\n",
              "    <tr>\n",
              "        <td style=\"padding-left: 1em; padding-right: 1em; text-align: center; vertical-align: top\">1102</td>\n",
              "        <td style=\"padding-left: 1em; padding-right: 1em; text-align: center; vertical-align: top\">38</td>\n",
              "        <td style=\"padding-left: 1em; padding-right: 1em; text-align: center; vertical-align: top\">5</td>\n",
              "        <td style=\"padding-left: 1em; padding-right: 1em; text-align: center; vertical-align: top\">0</td>\n",
              "        <td style=\"padding-left: 1em; padding-right: 1em; text-align: center; vertical-align: top\">5</td>\n",
              "        <td style=\"padding-left: 1em; padding-right: 1em; text-align: center; vertical-align: top\">40.0</td>\n",
              "        <td style=\"padding-left: 1em; padding-right: 1em; text-align: center; vertical-align: top\">2.0</td>\n",
              "    </tr>\n",
              "    <tr>\n",
              "        <td style=\"padding-left: 1em; padding-right: 1em; text-align: center; vertical-align: top\">823</td>\n",
              "        <td style=\"padding-left: 1em; padding-right: 1em; text-align: center; vertical-align: top\">4</td>\n",
              "        <td style=\"padding-left: 1em; padding-right: 1em; text-align: center; vertical-align: top\">2</td>\n",
              "        <td style=\"padding-left: 1em; padding-right: 1em; text-align: center; vertical-align: top\">1</td>\n",
              "        <td style=\"padding-left: 1em; padding-right: 1em; text-align: center; vertical-align: top\">0</td>\n",
              "        <td style=\"padding-left: 1em; padding-right: 1em; text-align: center; vertical-align: top\">2.0</td>\n",
              "        <td style=\"padding-left: 1em; padding-right: 1em; text-align: center; vertical-align: top\">0.0</td>\n",
              "    </tr>\n",
              "    <tr>\n",
              "        <td style=\"padding-left: 1em; padding-right: 1em; text-align: center; vertical-align: top\">104</td>\n",
              "        <td style=\"padding-left: 1em; padding-right: 1em; text-align: center; vertical-align: top\">9</td>\n",
              "        <td style=\"padding-left: 1em; padding-right: 1em; text-align: center; vertical-align: top\">0</td>\n",
              "        <td style=\"padding-left: 1em; padding-right: 1em; text-align: center; vertical-align: top\">0</td>\n",
              "        <td style=\"padding-left: 1em; padding-right: 1em; text-align: center; vertical-align: top\">0</td>\n",
              "        <td style=\"padding-left: 1em; padding-right: 1em; text-align: center; vertical-align: top\">22.0</td>\n",
              "        <td style=\"padding-left: 1em; padding-right: 1em; text-align: center; vertical-align: top\">2.0</td>\n",
              "    </tr>\n",
              "    <tr>\n",
              "        <td style=\"padding-left: 1em; padding-right: 1em; text-align: center; vertical-align: top\">1288</td>\n",
              "        <td style=\"padding-left: 1em; padding-right: 1em; text-align: center; vertical-align: top\">12</td>\n",
              "        <td style=\"padding-left: 1em; padding-right: 1em; text-align: center; vertical-align: top\">1</td>\n",
              "        <td style=\"padding-left: 1em; padding-right: 1em; text-align: center; vertical-align: top\">0</td>\n",
              "        <td style=\"padding-left: 1em; padding-right: 1em; text-align: center; vertical-align: top\">1</td>\n",
              "        <td style=\"padding-left: 1em; padding-right: 1em; text-align: center; vertical-align: top\">18.0</td>\n",
              "        <td style=\"padding-left: 1em; padding-right: 1em; text-align: center; vertical-align: top\">1.0</td>\n",
              "    </tr>\n",
              "    <tr>\n",
              "        <td style=\"padding-left: 1em; padding-right: 1em; text-align: center; vertical-align: top\">1853</td>\n",
              "        <td style=\"padding-left: 1em; padding-right: 1em; text-align: center; vertical-align: top\">24</td>\n",
              "        <td style=\"padding-left: 1em; padding-right: 1em; text-align: center; vertical-align: top\">0</td>\n",
              "        <td style=\"padding-left: 1em; padding-right: 1em; text-align: center; vertical-align: top\">0</td>\n",
              "        <td style=\"padding-left: 1em; padding-right: 1em; text-align: center; vertical-align: top\">4</td>\n",
              "        <td style=\"padding-left: 1em; padding-right: 1em; text-align: center; vertical-align: top\">23.0</td>\n",
              "        <td style=\"padding-left: 1em; padding-right: 1em; text-align: center; vertical-align: top\">0.0</td>\n",
              "    </tr>\n",
              "    <tr>\n",
              "        <td style=\"padding-left: 1em; padding-right: 1em; text-align: center; vertical-align: top\">1527</td>\n",
              "        <td style=\"padding-left: 1em; padding-right: 1em; text-align: center; vertical-align: top\">7</td>\n",
              "        <td style=\"padding-left: 1em; padding-right: 1em; text-align: center; vertical-align: top\">5</td>\n",
              "        <td style=\"padding-left: 1em; padding-right: 1em; text-align: center; vertical-align: top\">0</td>\n",
              "        <td style=\"padding-left: 1em; padding-right: 1em; text-align: center; vertical-align: top\">2</td>\n",
              "        <td style=\"padding-left: 1em; padding-right: 1em; text-align: center; vertical-align: top\">4.0</td>\n",
              "        <td style=\"padding-left: 1em; padding-right: 1em; text-align: center; vertical-align: top\">0.0</td>\n",
              "    </tr>\n",
              "    <tr>\n",
              "        <td style=\"padding-left: 1em; padding-right: 1em; text-align: center; vertical-align: top\">1534</td>\n",
              "        <td style=\"padding-left: 1em; padding-right: 1em; text-align: center; vertical-align: top\">6</td>\n",
              "        <td style=\"padding-left: 1em; padding-right: 1em; text-align: center; vertical-align: top\">4</td>\n",
              "        <td style=\"padding-left: 1em; padding-right: 1em; text-align: center; vertical-align: top\">0</td>\n",
              "        <td style=\"padding-left: 1em; padding-right: 1em; text-align: center; vertical-align: top\">2</td>\n",
              "        <td style=\"padding-left: 1em; padding-right: 1em; text-align: center; vertical-align: top\">4.0</td>\n",
              "        <td style=\"padding-left: 1em; padding-right: 1em; text-align: center; vertical-align: top\">0.0</td>\n",
              "    </tr>\n",
              "    <tr>\n",
              "        <td style=\"padding-left: 1em; padding-right: 1em; text-align: center; vertical-align: top\">225</td>\n",
              "        <td style=\"padding-left: 1em; padding-right: 1em; text-align: center; vertical-align: top\">6</td>\n",
              "        <td style=\"padding-left: 1em; padding-right: 1em; text-align: center; vertical-align: top\">0</td>\n",
              "        <td style=\"padding-left: 1em; padding-right: 1em; text-align: center; vertical-align: top\">0</td>\n",
              "        <td style=\"padding-left: 1em; padding-right: 1em; text-align: center; vertical-align: top\">0</td>\n",
              "        <td style=\"padding-left: 1em; padding-right: 1em; text-align: center; vertical-align: top\">12.0</td>\n",
              "        <td style=\"padding-left: 1em; padding-right: 1em; text-align: center; vertical-align: top\">1.0</td>\n",
              "    </tr>\n",
              "</table>\n",
              "[2231 rows x 7 columns]<br/>Note: Only the head of the SFrame is printed.<br/>You can use print_rows(num_rows=m, num_columns=n) to print more rows and columns.\n",
              "</div>"
            ],
            "text/plain": [
              "Columns:\n",
              "\ttest_cas\tint\n",
              "\tatom_number\tint\n",
              "\talone_atom_number\tint\n",
              "\ttripleBond\tint\n",
              "\tdoubleBond\tint\n",
              "\tbonds_number\tfloat\n",
              "\tring_numer\tfloat\n",
              "\n",
              "Rows: 2231\n",
              "\n",
              "Data:\n",
              "+----------+-------------+-------------------+------------+------------+--------------+\n",
              "| test_cas | atom_number | alone_atom_number | tripleBond | doubleBond | bonds_number |\n",
              "+----------+-------------+-------------------+------------+------------+--------------+\n",
              "|   1644   |      3      |         3         |     0      |     0      |     0.0      |\n",
              "|   230    |      8      |         2         |     0      |     1      |     14.0     |\n",
              "|   1102   |      38     |         5         |     0      |     5      |     40.0     |\n",
              "|   823    |      4      |         2         |     1      |     0      |     2.0      |\n",
              "|   104    |      9      |         0         |     0      |     0      |     22.0     |\n",
              "|   1288   |      12     |         1         |     0      |     1      |     18.0     |\n",
              "|   1853   |      24     |         0         |     0      |     4      |     23.0     |\n",
              "|   1527   |      7      |         5         |     0      |     2      |     4.0      |\n",
              "|   1534   |      6      |         4         |     0      |     2      |     4.0      |\n",
              "|   225    |      6      |         0         |     0      |     0      |     12.0     |\n",
              "+----------+-------------+-------------------+------------+------------+--------------+\n",
              "+------------+\n",
              "| ring_numer |\n",
              "+------------+\n",
              "|    0.0     |\n",
              "|    1.0     |\n",
              "|    2.0     |\n",
              "|    0.0     |\n",
              "|    2.0     |\n",
              "|    1.0     |\n",
              "|    0.0     |\n",
              "|    0.0     |\n",
              "|    0.0     |\n",
              "|    1.0     |\n",
              "+------------+\n",
              "[2231 rows x 7 columns]\n",
              "Note: Only the head of the SFrame is printed.\n",
              "You can use print_rows(num_rows=m, num_columns=n) to print more rows and columns."
            ]
          },
          "metadata": {
            "tags": []
          },
          "execution_count": 122
        }
      ]
    },
    {
      "cell_type": "code",
      "metadata": {
        "id": "_kOmwr1QSuBc",
        "colab_type": "code",
        "colab": {
          "base_uri": "https://localhost:8080/",
          "height": 279
        },
        "outputId": "bf1feffc-3498-498d-ad55-c529e8b22212"
      },
      "source": [
        "X_species = tc.SFrame(X_side_species)\n",
        "X_species"
      ],
      "execution_count": 123,
      "outputs": [
        {
          "output_type": "execute_result",
          "data": {
            "text/html": [
              "<div style=\"max-height:1000px;max-width:1500px;overflow:auto;\"><table frame=\"box\" rules=\"cols\">\n",
              "    <tr>\n",
              "        <th style=\"padding-left: 1em; padding-right: 1em; text-align: center\">species</th>\n",
              "        <th style=\"padding-left: 1em; padding-right: 1em; text-align: center\">class</th>\n",
              "        <th style=\"padding-left: 1em; padding-right: 1em; text-align: center\">tax_order</th>\n",
              "        <th style=\"padding-left: 1em; padding-right: 1em; text-align: center\">family</th>\n",
              "        <th style=\"padding-left: 1em; padding-right: 1em; text-align: center\">genus</th>\n",
              "    </tr>\n",
              "    <tr>\n",
              "        <td style=\"padding-left: 1em; padding-right: 1em; text-align: center; vertical-align: top\">342</td>\n",
              "        <td style=\"padding-left: 1em; padding-right: 1em; text-align: center; vertical-align: top\">Actinopterygii</td>\n",
              "        <td style=\"padding-left: 1em; padding-right: 1em; text-align: center; vertical-align: top\">Perciformes</td>\n",
              "        <td style=\"padding-left: 1em; padding-right: 1em; text-align: center; vertical-align: top\">Centrarchidae</td>\n",
              "        <td style=\"padding-left: 1em; padding-right: 1em; text-align: center; vertical-align: top\">Micropterus</td>\n",
              "    </tr>\n",
              "    <tr>\n",
              "        <td style=\"padding-left: 1em; padding-right: 1em; text-align: center; vertical-align: top\">220</td>\n",
              "        <td style=\"padding-left: 1em; padding-right: 1em; text-align: center; vertical-align: top\">Actinopterygii</td>\n",
              "        <td style=\"padding-left: 1em; padding-right: 1em; text-align: center; vertical-align: top\">Perciformes</td>\n",
              "        <td style=\"padding-left: 1em; padding-right: 1em; text-align: center; vertical-align: top\">Centrarchidae</td>\n",
              "        <td style=\"padding-left: 1em; padding-right: 1em; text-align: center; vertical-align: top\">Lepomis</td>\n",
              "    </tr>\n",
              "    <tr>\n",
              "        <td style=\"padding-left: 1em; padding-right: 1em; text-align: center; vertical-align: top\">141</td>\n",
              "        <td style=\"padding-left: 1em; padding-right: 1em; text-align: center; vertical-align: top\">Actinopterygii</td>\n",
              "        <td style=\"padding-left: 1em; padding-right: 1em; text-align: center; vertical-align: top\">Salmoniformes</td>\n",
              "        <td style=\"padding-left: 1em; padding-right: 1em; text-align: center; vertical-align: top\">Salmonidae</td>\n",
              "        <td style=\"padding-left: 1em; padding-right: 1em; text-align: center; vertical-align: top\">Salvelinus</td>\n",
              "    </tr>\n",
              "    <tr>\n",
              "        <td style=\"padding-left: 1em; padding-right: 1em; text-align: center; vertical-align: top\">395</td>\n",
              "        <td style=\"padding-left: 1em; padding-right: 1em; text-align: center; vertical-align: top\">Actinopterygii</td>\n",
              "        <td style=\"padding-left: 1em; padding-right: 1em; text-align: center; vertical-align: top\">Salmoniformes</td>\n",
              "        <td style=\"padding-left: 1em; padding-right: 1em; text-align: center; vertical-align: top\">Salmonidae</td>\n",
              "        <td style=\"padding-left: 1em; padding-right: 1em; text-align: center; vertical-align: top\">Oncorhynchus</td>\n",
              "    </tr>\n",
              "    <tr>\n",
              "        <td style=\"padding-left: 1em; padding-right: 1em; text-align: center; vertical-align: top\">267</td>\n",
              "        <td style=\"padding-left: 1em; padding-right: 1em; text-align: center; vertical-align: top\">Actinopterygii</td>\n",
              "        <td style=\"padding-left: 1em; padding-right: 1em; text-align: center; vertical-align: top\">Salmoniformes</td>\n",
              "        <td style=\"padding-left: 1em; padding-right: 1em; text-align: center; vertical-align: top\">Salmonidae</td>\n",
              "        <td style=\"padding-left: 1em; padding-right: 1em; text-align: center; vertical-align: top\">Oncorhynchus</td>\n",
              "    </tr>\n",
              "    <tr>\n",
              "        <td style=\"padding-left: 1em; padding-right: 1em; text-align: center; vertical-align: top\">311</td>\n",
              "        <td style=\"padding-left: 1em; padding-right: 1em; text-align: center; vertical-align: top\">Actinopterygii</td>\n",
              "        <td style=\"padding-left: 1em; padding-right: 1em; text-align: center; vertical-align: top\">Acipenseriformes</td>\n",
              "        <td style=\"padding-left: 1em; padding-right: 1em; text-align: center; vertical-align: top\">Acipenseridae</td>\n",
              "        <td style=\"padding-left: 1em; padding-right: 1em; text-align: center; vertical-align: top\">Scaphirhynchus</td>\n",
              "    </tr>\n",
              "    <tr>\n",
              "        <td style=\"padding-left: 1em; padding-right: 1em; text-align: center; vertical-align: top\">319</td>\n",
              "        <td style=\"padding-left: 1em; padding-right: 1em; text-align: center; vertical-align: top\">Actinopterygii</td>\n",
              "        <td style=\"padding-left: 1em; padding-right: 1em; text-align: center; vertical-align: top\">Siluriformes</td>\n",
              "        <td style=\"padding-left: 1em; padding-right: 1em; text-align: center; vertical-align: top\">Ictaluridae</td>\n",
              "        <td style=\"padding-left: 1em; padding-right: 1em; text-align: center; vertical-align: top\">Ictalurus</td>\n",
              "    </tr>\n",
              "    <tr>\n",
              "        <td style=\"padding-left: 1em; padding-right: 1em; text-align: center; vertical-align: top\">204</td>\n",
              "        <td style=\"padding-left: 1em; padding-right: 1em; text-align: center; vertical-align: top\">Actinopterygii</td>\n",
              "        <td style=\"padding-left: 1em; padding-right: 1em; text-align: center; vertical-align: top\">Beloniformes</td>\n",
              "        <td style=\"padding-left: 1em; padding-right: 1em; text-align: center; vertical-align: top\">Adrianichthyidae</td>\n",
              "        <td style=\"padding-left: 1em; padding-right: 1em; text-align: center; vertical-align: top\">Oryzias</td>\n",
              "    </tr>\n",
              "    <tr>\n",
              "        <td style=\"padding-left: 1em; padding-right: 1em; text-align: center; vertical-align: top\">317</td>\n",
              "        <td style=\"padding-left: 1em; padding-right: 1em; text-align: center; vertical-align: top\">Actinopterygii</td>\n",
              "        <td style=\"padding-left: 1em; padding-right: 1em; text-align: center; vertical-align: top\">Perciformes</td>\n",
              "        <td style=\"padding-left: 1em; padding-right: 1em; text-align: center; vertical-align: top\">Channidae</td>\n",
              "        <td style=\"padding-left: 1em; padding-right: 1em; text-align: center; vertical-align: top\">Channa</td>\n",
              "    </tr>\n",
              "    <tr>\n",
              "        <td style=\"padding-left: 1em; padding-right: 1em; text-align: center; vertical-align: top\">316</td>\n",
              "        <td style=\"padding-left: 1em; padding-right: 1em; text-align: center; vertical-align: top\">Actinopterygii</td>\n",
              "        <td style=\"padding-left: 1em; padding-right: 1em; text-align: center; vertical-align: top\">Cypriniformes</td>\n",
              "        <td style=\"padding-left: 1em; padding-right: 1em; text-align: center; vertical-align: top\">Cyprinidae</td>\n",
              "        <td style=\"padding-left: 1em; padding-right: 1em; text-align: center; vertical-align: top\">Pimephales</td>\n",
              "    </tr>\n",
              "</table>\n",
              "[416 rows x 5 columns]<br/>Note: Only the head of the SFrame is printed.<br/>You can use print_rows(num_rows=m, num_columns=n) to print more rows and columns.\n",
              "</div>"
            ],
            "text/plain": [
              "Columns:\n",
              "\tspecies\tint\n",
              "\tclass\tstr\n",
              "\ttax_order\tstr\n",
              "\tfamily\tstr\n",
              "\tgenus\tstr\n",
              "\n",
              "Rows: 416\n",
              "\n",
              "Data:\n",
              "+---------+----------------+------------------+------------------+\n",
              "| species |     class      |    tax_order     |      family      |\n",
              "+---------+----------------+------------------+------------------+\n",
              "|   342   | Actinopterygii |   Perciformes    |  Centrarchidae   |\n",
              "|   220   | Actinopterygii |   Perciformes    |  Centrarchidae   |\n",
              "|   141   | Actinopterygii |  Salmoniformes   |    Salmonidae    |\n",
              "|   395   | Actinopterygii |  Salmoniformes   |    Salmonidae    |\n",
              "|   267   | Actinopterygii |  Salmoniformes   |    Salmonidae    |\n",
              "|   311   | Actinopterygii | Acipenseriformes |  Acipenseridae   |\n",
              "|   319   | Actinopterygii |   Siluriformes   |   Ictaluridae    |\n",
              "|   204   | Actinopterygii |   Beloniformes   | Adrianichthyidae |\n",
              "|   317   | Actinopterygii |   Perciformes    |    Channidae     |\n",
              "|   316   | Actinopterygii |  Cypriniformes   |    Cyprinidae    |\n",
              "+---------+----------------+------------------+------------------+\n",
              "+----------------+\n",
              "|     genus      |\n",
              "+----------------+\n",
              "|  Micropterus   |\n",
              "|    Lepomis     |\n",
              "|   Salvelinus   |\n",
              "|  Oncorhynchus  |\n",
              "|  Oncorhynchus  |\n",
              "| Scaphirhynchus |\n",
              "|   Ictalurus    |\n",
              "|    Oryzias     |\n",
              "|     Channa     |\n",
              "|   Pimephales   |\n",
              "+----------------+\n",
              "[416 rows x 5 columns]\n",
              "Note: Only the head of the SFrame is printed.\n",
              "You can use print_rows(num_rows=m, num_columns=n) to print more rows and columns."
            ]
          },
          "metadata": {
            "tags": []
          },
          "execution_count": 123
        }
      ]
    },
    {
      "cell_type": "code",
      "metadata": {
        "id": "AniN0qQLC8cz",
        "colab_type": "code",
        "colab": {}
      },
      "source": [
        "X_train, X_test = tc.recommender.util.random_split_by_user(X, 'test_cas', 'species', max_num_users=2000, item_test_proportion=0.3)"
      ],
      "execution_count": 0,
      "outputs": []
    },
    {
      "cell_type": "code",
      "metadata": {
        "id": "7cGeXw-oDFxw",
        "colab_type": "code",
        "outputId": "bd46e428-a02e-4e14-c0b3-daf2b7d24942",
        "colab": {
          "base_uri": "https://localhost:8080/",
          "height": 279
        }
      },
      "source": [
        "X_train"
      ],
      "execution_count": 125,
      "outputs": [
        {
          "output_type": "execute_result",
          "data": {
            "text/html": [
              "<div style=\"max-height:1000px;max-width:1500px;overflow:auto;\"><table frame=\"box\" rules=\"cols\">\n",
              "    <tr>\n",
              "        <th style=\"padding-left: 1em; padding-right: 1em; text-align: center\">test_cas</th>\n",
              "        <th style=\"padding-left: 1em; padding-right: 1em; text-align: center\">species</th>\n",
              "        <th style=\"padding-left: 1em; padding-right: 1em; text-align: center\">conc1_type</th>\n",
              "        <th style=\"padding-left: 1em; padding-right: 1em; text-align: center\">exposure_type</th>\n",
              "        <th style=\"padding-left: 1em; padding-right: 1em; text-align: center\">score</th>\n",
              "    </tr>\n",
              "    <tr>\n",
              "        <td style=\"padding-left: 1em; padding-right: 1em; text-align: center; vertical-align: top\">0</td>\n",
              "        <td style=\"padding-left: 1em; padding-right: 1em; text-align: center; vertical-align: top\">3</td>\n",
              "        <td style=\"padding-left: 1em; padding-right: 1em; text-align: center; vertical-align: top\">A</td>\n",
              "        <td style=\"padding-left: 1em; padding-right: 1em; text-align: center; vertical-align: top\">R</td>\n",
              "        <td style=\"padding-left: 1em; padding-right: 1em; text-align: center; vertical-align: top\">3.8642835866570193</td>\n",
              "    </tr>\n",
              "    <tr>\n",
              "        <td style=\"padding-left: 1em; padding-right: 1em; text-align: center; vertical-align: top\">0</td>\n",
              "        <td style=\"padding-left: 1em; padding-right: 1em; text-align: center; vertical-align: top\">3</td>\n",
              "        <td style=\"padding-left: 1em; padding-right: 1em; text-align: center; vertical-align: top\">A</td>\n",
              "        <td style=\"padding-left: 1em; padding-right: 1em; text-align: center; vertical-align: top\">S</td>\n",
              "        <td style=\"padding-left: 1em; padding-right: 1em; text-align: center; vertical-align: top\">3.7320685734496584</td>\n",
              "    </tr>\n",
              "    <tr>\n",
              "        <td style=\"padding-left: 1em; padding-right: 1em; text-align: center; vertical-align: top\">0</td>\n",
              "        <td style=\"padding-left: 1em; padding-right: 1em; text-align: center; vertical-align: top\">71</td>\n",
              "        <td style=\"padding-left: 1em; padding-right: 1em; text-align: center; vertical-align: top\">F</td>\n",
              "        <td style=\"padding-left: 1em; padding-right: 1em; text-align: center; vertical-align: top\">S</td>\n",
              "        <td style=\"padding-left: 1em; padding-right: 1em; text-align: center; vertical-align: top\">3.9409040271072886</td>\n",
              "    </tr>\n",
              "    <tr>\n",
              "        <td style=\"padding-left: 1em; padding-right: 1em; text-align: center; vertical-align: top\">0</td>\n",
              "        <td style=\"padding-left: 1em; padding-right: 1em; text-align: center; vertical-align: top\">131</td>\n",
              "        <td style=\"padding-left: 1em; padding-right: 1em; text-align: center; vertical-align: top\">F</td>\n",
              "        <td style=\"padding-left: 1em; padding-right: 1em; text-align: center; vertical-align: top\">R</td>\n",
              "        <td style=\"padding-left: 1em; padding-right: 1em; text-align: center; vertical-align: top\">3.7821664371731405</td>\n",
              "    </tr>\n",
              "    <tr>\n",
              "        <td style=\"padding-left: 1em; padding-right: 1em; text-align: center; vertical-align: top\">0</td>\n",
              "        <td style=\"padding-left: 1em; padding-right: 1em; text-align: center; vertical-align: top\">188</td>\n",
              "        <td style=\"padding-left: 1em; padding-right: 1em; text-align: center; vertical-align: top\">A</td>\n",
              "        <td style=\"padding-left: 1em; padding-right: 1em; text-align: center; vertical-align: top\">S</td>\n",
              "        <td style=\"padding-left: 1em; padding-right: 1em; text-align: center; vertical-align: top\">4.336227075933329</td>\n",
              "    </tr>\n",
              "    <tr>\n",
              "        <td style=\"padding-left: 1em; padding-right: 1em; text-align: center; vertical-align: top\">0</td>\n",
              "        <td style=\"padding-left: 1em; padding-right: 1em; text-align: center; vertical-align: top\">220</td>\n",
              "        <td style=\"padding-left: 1em; padding-right: 1em; text-align: center; vertical-align: top\">F</td>\n",
              "        <td style=\"padding-left: 1em; padding-right: 1em; text-align: center; vertical-align: top\">S</td>\n",
              "        <td style=\"padding-left: 1em; padding-right: 1em; text-align: center; vertical-align: top\">4.62287915355913</td>\n",
              "    </tr>\n",
              "    <tr>\n",
              "        <td style=\"padding-left: 1em; padding-right: 1em; text-align: center; vertical-align: top\">0</td>\n",
              "        <td style=\"padding-left: 1em; padding-right: 1em; text-align: center; vertical-align: top\">278</td>\n",
              "        <td style=\"padding-left: 1em; padding-right: 1em; text-align: center; vertical-align: top\">F</td>\n",
              "        <td style=\"padding-left: 1em; padding-right: 1em; text-align: center; vertical-align: top\">S</td>\n",
              "        <td style=\"padding-left: 1em; padding-right: 1em; text-align: center; vertical-align: top\">3.66428473194256</td>\n",
              "    </tr>\n",
              "    <tr>\n",
              "        <td style=\"padding-left: 1em; padding-right: 1em; text-align: center; vertical-align: top\">0</td>\n",
              "        <td style=\"padding-left: 1em; padding-right: 1em; text-align: center; vertical-align: top\">316</td>\n",
              "        <td style=\"padding-left: 1em; padding-right: 1em; text-align: center; vertical-align: top\">A</td>\n",
              "        <td style=\"padding-left: 1em; padding-right: 1em; text-align: center; vertical-align: top\">S</td>\n",
              "        <td style=\"padding-left: 1em; padding-right: 1em; text-align: center; vertical-align: top\">4.276419883067372</td>\n",
              "    </tr>\n",
              "    <tr>\n",
              "        <td style=\"padding-left: 1em; padding-right: 1em; text-align: center; vertical-align: top\">0</td>\n",
              "        <td style=\"padding-left: 1em; padding-right: 1em; text-align: center; vertical-align: top\">330</td>\n",
              "        <td style=\"padding-left: 1em; padding-right: 1em; text-align: center; vertical-align: top\">A</td>\n",
              "        <td style=\"padding-left: 1em; padding-right: 1em; text-align: center; vertical-align: top\">S</td>\n",
              "        <td style=\"padding-left: 1em; padding-right: 1em; text-align: center; vertical-align: top\">4.1276767956877105</td>\n",
              "    </tr>\n",
              "    <tr>\n",
              "        <td style=\"padding-left: 1em; padding-right: 1em; text-align: center; vertical-align: top\">0</td>\n",
              "        <td style=\"padding-left: 1em; padding-right: 1em; text-align: center; vertical-align: top\">336</td>\n",
              "        <td style=\"padding-left: 1em; padding-right: 1em; text-align: center; vertical-align: top\">F</td>\n",
              "        <td style=\"padding-left: 1em; padding-right: 1em; text-align: center; vertical-align: top\">S</td>\n",
              "        <td style=\"padding-left: 1em; padding-right: 1em; text-align: center; vertical-align: top\">3.429373314787725</td>\n",
              "    </tr>\n",
              "</table>\n",
              "[8685 rows x 5 columns]<br/>Note: Only the head of the SFrame is printed.<br/>You can use print_rows(num_rows=m, num_columns=n) to print more rows and columns.\n",
              "</div>"
            ],
            "text/plain": [
              "Columns:\n",
              "\ttest_cas\tint\n",
              "\tspecies\tint\n",
              "\tconc1_type\tstr\n",
              "\texposure_type\tstr\n",
              "\tscore\tfloat\n",
              "\n",
              "Rows: 8685\n",
              "\n",
              "Data:\n",
              "+----------+---------+------------+---------------+--------------------+\n",
              "| test_cas | species | conc1_type | exposure_type |       score        |\n",
              "+----------+---------+------------+---------------+--------------------+\n",
              "|    0     |    3    |     A      |       R       | 3.8642835866570193 |\n",
              "|    0     |    3    |     A      |       S       | 3.7320685734496584 |\n",
              "|    0     |    71   |     F      |       S       | 3.9409040271072886 |\n",
              "|    0     |   131   |     F      |       R       | 3.7821664371731405 |\n",
              "|    0     |   188   |     A      |       S       | 4.336227075933329  |\n",
              "|    0     |   220   |     F      |       S       |  4.62287915355913  |\n",
              "|    0     |   278   |     F      |       S       |  3.66428473194256  |\n",
              "|    0     |   316   |     A      |       S       | 4.276419883067372  |\n",
              "|    0     |   330   |     A      |       S       | 4.1276767956877105 |\n",
              "|    0     |   336   |     F      |       S       | 3.429373314787725  |\n",
              "+----------+---------+------------+---------------+--------------------+\n",
              "[8685 rows x 5 columns]\n",
              "Note: Only the head of the SFrame is printed.\n",
              "You can use print_rows(num_rows=m, num_columns=n) to print more rows and columns."
            ]
          },
          "metadata": {
            "tags": []
          },
          "execution_count": 125
        }
      ]
    },
    {
      "cell_type": "code",
      "metadata": {
        "id": "VmxUzsFlWlzy",
        "colab_type": "code",
        "colab": {
          "base_uri": "https://localhost:8080/",
          "height": 279
        },
        "outputId": "dbb783b6-15e8-48f0-f809-43d7cdbf00d6"
      },
      "source": [
        "X_test"
      ],
      "execution_count": 126,
      "outputs": [
        {
          "output_type": "execute_result",
          "data": {
            "text/html": [
              "<div style=\"max-height:1000px;max-width:1500px;overflow:auto;\"><table frame=\"box\" rules=\"cols\">\n",
              "    <tr>\n",
              "        <th style=\"padding-left: 1em; padding-right: 1em; text-align: center\">test_cas</th>\n",
              "        <th style=\"padding-left: 1em; padding-right: 1em; text-align: center\">species</th>\n",
              "        <th style=\"padding-left: 1em; padding-right: 1em; text-align: center\">conc1_type</th>\n",
              "        <th style=\"padding-left: 1em; padding-right: 1em; text-align: center\">exposure_type</th>\n",
              "        <th style=\"padding-left: 1em; padding-right: 1em; text-align: center\">score</th>\n",
              "    </tr>\n",
              "    <tr>\n",
              "        <td style=\"padding-left: 1em; padding-right: 1em; text-align: center; vertical-align: top\">0</td>\n",
              "        <td style=\"padding-left: 1em; padding-right: 1em; text-align: center; vertical-align: top\">82</td>\n",
              "        <td style=\"padding-left: 1em; padding-right: 1em; text-align: center; vertical-align: top\">F</td>\n",
              "        <td style=\"padding-left: 1em; padding-right: 1em; text-align: center; vertical-align: top\">S</td>\n",
              "        <td style=\"padding-left: 1em; padding-right: 1em; text-align: center; vertical-align: top\">3.5470584567157486</td>\n",
              "    </tr>\n",
              "    <tr>\n",
              "        <td style=\"padding-left: 1em; padding-right: 1em; text-align: center; vertical-align: top\">0</td>\n",
              "        <td style=\"padding-left: 1em; padding-right: 1em; text-align: center; vertical-align: top\">167</td>\n",
              "        <td style=\"padding-left: 1em; padding-right: 1em; text-align: center; vertical-align: top\">F</td>\n",
              "        <td style=\"padding-left: 1em; padding-right: 1em; text-align: center; vertical-align: top\">R</td>\n",
              "        <td style=\"padding-left: 1em; padding-right: 1em; text-align: center; vertical-align: top\">3.8158482108284737</td>\n",
              "    </tr>\n",
              "    <tr>\n",
              "        <td style=\"padding-left: 1em; padding-right: 1em; text-align: center; vertical-align: top\">0</td>\n",
              "        <td style=\"padding-left: 1em; padding-right: 1em; text-align: center; vertical-align: top\">267</td>\n",
              "        <td style=\"padding-left: 1em; padding-right: 1em; text-align: center; vertical-align: top\">F</td>\n",
              "        <td style=\"padding-left: 1em; padding-right: 1em; text-align: center; vertical-align: top\">S</td>\n",
              "        <td style=\"padding-left: 1em; padding-right: 1em; text-align: center; vertical-align: top\">3.695395497824532</td>\n",
              "    </tr>\n",
              "    <tr>\n",
              "        <td style=\"padding-left: 1em; padding-right: 1em; text-align: center; vertical-align: top\">0</td>\n",
              "        <td style=\"padding-left: 1em; padding-right: 1em; text-align: center; vertical-align: top\">316</td>\n",
              "        <td style=\"padding-left: 1em; padding-right: 1em; text-align: center; vertical-align: top\">A</td>\n",
              "        <td style=\"padding-left: 1em; padding-right: 1em; text-align: center; vertical-align: top\">F</td>\n",
              "        <td style=\"padding-left: 1em; padding-right: 1em; text-align: center; vertical-align: top\">4.302916263663142</td>\n",
              "    </tr>\n",
              "    <tr>\n",
              "        <td style=\"padding-left: 1em; padding-right: 1em; text-align: center; vertical-align: top\">0</td>\n",
              "        <td style=\"padding-left: 1em; padding-right: 1em; text-align: center; vertical-align: top\">319</td>\n",
              "        <td style=\"padding-left: 1em; padding-right: 1em; text-align: center; vertical-align: top\">F</td>\n",
              "        <td style=\"padding-left: 1em; padding-right: 1em; text-align: center; vertical-align: top\">S</td>\n",
              "        <td style=\"padding-left: 1em; padding-right: 1em; text-align: center; vertical-align: top\">3.9532953677639986</td>\n",
              "    </tr>\n",
              "    <tr>\n",
              "        <td style=\"padding-left: 1em; padding-right: 1em; text-align: center; vertical-align: top\">0</td>\n",
              "        <td style=\"padding-left: 1em; padding-right: 1em; text-align: center; vertical-align: top\">336</td>\n",
              "        <td style=\"padding-left: 1em; padding-right: 1em; text-align: center; vertical-align: top\">A</td>\n",
              "        <td style=\"padding-left: 1em; padding-right: 1em; text-align: center; vertical-align: top\">S</td>\n",
              "        <td style=\"padding-left: 1em; padding-right: 1em; text-align: center; vertical-align: top\">3.6838491393281543</td>\n",
              "    </tr>\n",
              "    <tr>\n",
              "        <td style=\"padding-left: 1em; padding-right: 1em; text-align: center; vertical-align: top\">1</td>\n",
              "        <td style=\"padding-left: 1em; padding-right: 1em; text-align: center; vertical-align: top\">316</td>\n",
              "        <td style=\"padding-left: 1em; padding-right: 1em; text-align: center; vertical-align: top\">A</td>\n",
              "        <td style=\"padding-left: 1em; padding-right: 1em; text-align: center; vertical-align: top\">F</td>\n",
              "        <td style=\"padding-left: 1em; padding-right: 1em; text-align: center; vertical-align: top\">3.3007136544365427</td>\n",
              "    </tr>\n",
              "    <tr>\n",
              "        <td style=\"padding-left: 1em; padding-right: 1em; text-align: center; vertical-align: top\">4</td>\n",
              "        <td style=\"padding-left: 1em; padding-right: 1em; text-align: center; vertical-align: top\">3</td>\n",
              "        <td style=\"padding-left: 1em; padding-right: 1em; text-align: center; vertical-align: top\">A</td>\n",
              "        <td style=\"padding-left: 1em; padding-right: 1em; text-align: center; vertical-align: top\">F</td>\n",
              "        <td style=\"padding-left: 1em; padding-right: 1em; text-align: center; vertical-align: top\">7.953373995130322</td>\n",
              "    </tr>\n",
              "    <tr>\n",
              "        <td style=\"padding-left: 1em; padding-right: 1em; text-align: center; vertical-align: top\">4</td>\n",
              "        <td style=\"padding-left: 1em; padding-right: 1em; text-align: center; vertical-align: top\">3</td>\n",
              "        <td style=\"padding-left: 1em; padding-right: 1em; text-align: center; vertical-align: top\">A</td>\n",
              "        <td style=\"padding-left: 1em; padding-right: 1em; text-align: center; vertical-align: top\">S</td>\n",
              "        <td style=\"padding-left: 1em; padding-right: 1em; text-align: center; vertical-align: top\">6.624011018295802</td>\n",
              "    </tr>\n",
              "    <tr>\n",
              "        <td style=\"padding-left: 1em; padding-right: 1em; text-align: center; vertical-align: top\">4</td>\n",
              "        <td style=\"padding-left: 1em; padding-right: 1em; text-align: center; vertical-align: top\">3</td>\n",
              "        <td style=\"padding-left: 1em; padding-right: 1em; text-align: center; vertical-align: top\">F</td>\n",
              "        <td style=\"padding-left: 1em; padding-right: 1em; text-align: center; vertical-align: top\">S</td>\n",
              "        <td style=\"padding-left: 1em; padding-right: 1em; text-align: center; vertical-align: top\">6.581749758197885</td>\n",
              "    </tr>\n",
              "</table>\n",
              "[2476 rows x 5 columns]<br/>Note: Only the head of the SFrame is printed.<br/>You can use print_rows(num_rows=m, num_columns=n) to print more rows and columns.\n",
              "</div>"
            ],
            "text/plain": [
              "Columns:\n",
              "\ttest_cas\tint\n",
              "\tspecies\tint\n",
              "\tconc1_type\tstr\n",
              "\texposure_type\tstr\n",
              "\tscore\tfloat\n",
              "\n",
              "Rows: 2476\n",
              "\n",
              "Data:\n",
              "+----------+---------+------------+---------------+--------------------+\n",
              "| test_cas | species | conc1_type | exposure_type |       score        |\n",
              "+----------+---------+------------+---------------+--------------------+\n",
              "|    0     |    82   |     F      |       S       | 3.5470584567157486 |\n",
              "|    0     |   167   |     F      |       R       | 3.8158482108284737 |\n",
              "|    0     |   267   |     F      |       S       | 3.695395497824532  |\n",
              "|    0     |   316   |     A      |       F       | 4.302916263663142  |\n",
              "|    0     |   319   |     F      |       S       | 3.9532953677639986 |\n",
              "|    0     |   336   |     A      |       S       | 3.6838491393281543 |\n",
              "|    1     |   316   |     A      |       F       | 3.3007136544365427 |\n",
              "|    4     |    3    |     A      |       F       | 7.953373995130322  |\n",
              "|    4     |    3    |     A      |       S       | 6.624011018295802  |\n",
              "|    4     |    3    |     F      |       S       | 6.581749758197885  |\n",
              "+----------+---------+------------+---------------+--------------------+\n",
              "[2476 rows x 5 columns]\n",
              "Note: Only the head of the SFrame is printed.\n",
              "You can use print_rows(num_rows=m, num_columns=n) to print more rows and columns."
            ]
          },
          "metadata": {
            "tags": []
          },
          "execution_count": 126
        }
      ]
    },
    {
      "cell_type": "code",
      "metadata": {
        "id": "ZwLXWiD5DFq8",
        "colab_type": "code",
        "outputId": "3966bd04-4d96-4dc3-8800-557ec31e65f2",
        "colab": {
          "base_uri": "https://localhost:8080/",
          "height": 952
        }
      },
      "source": [
        "model = tc.recommender.factorization_recommender.create(X_train, 'test_cas', 'species', target='score', user_data=X_cas, solver=\"sgd\", item_data=X_species, max_iterations=10000)"
      ],
      "execution_count": 127,
      "outputs": [
        {
          "output_type": "display_data",
          "data": {
            "text/html": [
              "<pre>Preparing data set.</pre>"
            ],
            "text/plain": [
              "Preparing data set."
            ]
          },
          "metadata": {
            "tags": []
          }
        },
        {
          "output_type": "display_data",
          "data": {
            "text/html": [
              "<pre>    Data has 8685 observations with 2523 users and 416 items.</pre>"
            ],
            "text/plain": [
              "    Data has 8685 observations with 2523 users and 416 items."
            ]
          },
          "metadata": {
            "tags": []
          }
        },
        {
          "output_type": "display_data",
          "data": {
            "text/html": [
              "<pre>    Data prepared in: 0.032324s</pre>"
            ],
            "text/plain": [
              "    Data prepared in: 0.032324s"
            ]
          },
          "metadata": {
            "tags": []
          }
        },
        {
          "output_type": "display_data",
          "data": {
            "text/html": [
              "<pre>Training factorization_recommender for recommendations.</pre>"
            ],
            "text/plain": [
              "Training factorization_recommender for recommendations."
            ]
          },
          "metadata": {
            "tags": []
          }
        },
        {
          "output_type": "display_data",
          "data": {
            "text/html": [
              "<pre>+--------------------------------+--------------------------------------------------+----------+</pre>"
            ],
            "text/plain": [
              "+--------------------------------+--------------------------------------------------+----------+"
            ]
          },
          "metadata": {
            "tags": []
          }
        },
        {
          "output_type": "display_data",
          "data": {
            "text/html": [
              "<pre>| Parameter                      | Description                                      | Value    |</pre>"
            ],
            "text/plain": [
              "| Parameter                      | Description                                      | Value    |"
            ]
          },
          "metadata": {
            "tags": []
          }
        },
        {
          "output_type": "display_data",
          "data": {
            "text/html": [
              "<pre>+--------------------------------+--------------------------------------------------+----------+</pre>"
            ],
            "text/plain": [
              "+--------------------------------+--------------------------------------------------+----------+"
            ]
          },
          "metadata": {
            "tags": []
          }
        },
        {
          "output_type": "display_data",
          "data": {
            "text/html": [
              "<pre>| num_factors                    | Factor Dimension                                 | 8        |</pre>"
            ],
            "text/plain": [
              "| num_factors                    | Factor Dimension                                 | 8        |"
            ]
          },
          "metadata": {
            "tags": []
          }
        },
        {
          "output_type": "display_data",
          "data": {
            "text/html": [
              "<pre>| regularization                 | L2 Regularization on Factors                     | 1e-08    |</pre>"
            ],
            "text/plain": [
              "| regularization                 | L2 Regularization on Factors                     | 1e-08    |"
            ]
          },
          "metadata": {
            "tags": []
          }
        },
        {
          "output_type": "display_data",
          "data": {
            "text/html": [
              "<pre>| solver                         | Solver used for training                         | sgd      |</pre>"
            ],
            "text/plain": [
              "| solver                         | Solver used for training                         | sgd      |"
            ]
          },
          "metadata": {
            "tags": []
          }
        },
        {
          "output_type": "display_data",
          "data": {
            "text/html": [
              "<pre>| linear_regularization          | L2 Regularization on Linear Coefficients         | 1e-10    |</pre>"
            ],
            "text/plain": [
              "| linear_regularization          | L2 Regularization on Linear Coefficients         | 1e-10    |"
            ]
          },
          "metadata": {
            "tags": []
          }
        },
        {
          "output_type": "display_data",
          "data": {
            "text/html": [
              "<pre>| side_data_factorization        | Assign Factors for Side Data                     | True     |</pre>"
            ],
            "text/plain": [
              "| side_data_factorization        | Assign Factors for Side Data                     | True     |"
            ]
          },
          "metadata": {
            "tags": []
          }
        },
        {
          "output_type": "display_data",
          "data": {
            "text/html": [
              "<pre>| max_iterations                 | Maximum Number of Iterations                     | 10000    |</pre>"
            ],
            "text/plain": [
              "| max_iterations                 | Maximum Number of Iterations                     | 10000    |"
            ]
          },
          "metadata": {
            "tags": []
          }
        },
        {
          "output_type": "display_data",
          "data": {
            "text/html": [
              "<pre>+--------------------------------+--------------------------------------------------+----------+</pre>"
            ],
            "text/plain": [
              "+--------------------------------+--------------------------------------------------+----------+"
            ]
          },
          "metadata": {
            "tags": []
          }
        },
        {
          "output_type": "display_data",
          "data": {
            "text/html": [
              "<pre>  Optimizing model using SGD; tuning step size.</pre>"
            ],
            "text/plain": [
              "  Optimizing model using SGD; tuning step size."
            ]
          },
          "metadata": {
            "tags": []
          }
        },
        {
          "output_type": "display_data",
          "data": {
            "text/html": [
              "<pre>  Using 8685 / 8685 points for tuning the step size.</pre>"
            ],
            "text/plain": [
              "  Using 8685 / 8685 points for tuning the step size."
            ]
          },
          "metadata": {
            "tags": []
          }
        },
        {
          "output_type": "display_data",
          "data": {
            "text/html": [
              "<pre>+---------+-------------------+------------------------------------------+</pre>"
            ],
            "text/plain": [
              "+---------+-------------------+------------------------------------------+"
            ]
          },
          "metadata": {
            "tags": []
          }
        },
        {
          "output_type": "display_data",
          "data": {
            "text/html": [
              "<pre>| Attempt | Initial Step Size | Estimated Objective Value                |</pre>"
            ],
            "text/plain": [
              "| Attempt | Initial Step Size | Estimated Objective Value                |"
            ]
          },
          "metadata": {
            "tags": []
          }
        },
        {
          "output_type": "display_data",
          "data": {
            "text/html": [
              "<pre>+---------+-------------------+------------------------------------------+</pre>"
            ],
            "text/plain": [
              "+---------+-------------------+------------------------------------------+"
            ]
          },
          "metadata": {
            "tags": []
          }
        },
        {
          "output_type": "display_data",
          "data": {
            "text/html": [
              "<pre>| 0       | 3.57143           | Not Viable                               |</pre>"
            ],
            "text/plain": [
              "| 0       | 3.57143           | Not Viable                               |"
            ]
          },
          "metadata": {
            "tags": []
          }
        },
        {
          "output_type": "display_data",
          "data": {
            "text/html": [
              "<pre>| 1       | 0.892857          | Not Viable                               |</pre>"
            ],
            "text/plain": [
              "| 1       | 0.892857          | Not Viable                               |"
            ]
          },
          "metadata": {
            "tags": []
          }
        },
        {
          "output_type": "display_data",
          "data": {
            "text/html": [
              "<pre>| 2       | 0.223214          | Not Viable                               |</pre>"
            ],
            "text/plain": [
              "| 2       | 0.223214          | Not Viable                               |"
            ]
          },
          "metadata": {
            "tags": []
          }
        },
        {
          "output_type": "display_data",
          "data": {
            "text/html": [
              "<pre>| 3       | 0.0558036         | Not Viable                               |</pre>"
            ],
            "text/plain": [
              "| 3       | 0.0558036         | Not Viable                               |"
            ]
          },
          "metadata": {
            "tags": []
          }
        },
        {
          "output_type": "display_data",
          "data": {
            "text/html": [
              "<pre>| 4       | 0.0139509         | Not Viable                               |</pre>"
            ],
            "text/plain": [
              "| 4       | 0.0139509         | Not Viable                               |"
            ]
          },
          "metadata": {
            "tags": []
          }
        },
        {
          "output_type": "display_data",
          "data": {
            "text/html": [
              "<pre>| 5       | 0.00348772        | Not Viable                               |</pre>"
            ],
            "text/plain": [
              "| 5       | 0.00348772        | Not Viable                               |"
            ]
          },
          "metadata": {
            "tags": []
          }
        },
        {
          "output_type": "display_data",
          "data": {
            "text/html": [
              "<pre>| 6       | 0.000871931       | 1.04928                                  |</pre>"
            ],
            "text/plain": [
              "| 6       | 0.000871931       | 1.04928                                  |"
            ]
          },
          "metadata": {
            "tags": []
          }
        },
        {
          "output_type": "display_data",
          "data": {
            "text/html": [
              "<pre>| 7       | 0.000435965       | 1.10115                                  |</pre>"
            ],
            "text/plain": [
              "| 7       | 0.000435965       | 1.10115                                  |"
            ]
          },
          "metadata": {
            "tags": []
          }
        },
        {
          "output_type": "display_data",
          "data": {
            "text/html": [
              "<pre>| 8       | 0.000217983       | 1.15024                                  |</pre>"
            ],
            "text/plain": [
              "| 8       | 0.000217983       | 1.15024                                  |"
            ]
          },
          "metadata": {
            "tags": []
          }
        },
        {
          "output_type": "display_data",
          "data": {
            "text/html": [
              "<pre>| 9       | 0.000108991       | 1.18949                                  |</pre>"
            ],
            "text/plain": [
              "| 9       | 0.000108991       | 1.18949                                  |"
            ]
          },
          "metadata": {
            "tags": []
          }
        },
        {
          "output_type": "display_data",
          "data": {
            "text/html": [
              "<pre>+---------+-------------------+------------------------------------------+</pre>"
            ],
            "text/plain": [
              "+---------+-------------------+------------------------------------------+"
            ]
          },
          "metadata": {
            "tags": []
          }
        },
        {
          "output_type": "display_data",
          "data": {
            "text/html": [
              "<pre>| Final   | 0.000871931       | 1.04928                                  |</pre>"
            ],
            "text/plain": [
              "| Final   | 0.000871931       | 1.04928                                  |"
            ]
          },
          "metadata": {
            "tags": []
          }
        },
        {
          "output_type": "display_data",
          "data": {
            "text/html": [
              "<pre>+---------+-------------------+------------------------------------------+</pre>"
            ],
            "text/plain": [
              "+---------+-------------------+------------------------------------------+"
            ]
          },
          "metadata": {
            "tags": []
          }
        },
        {
          "output_type": "display_data",
          "data": {
            "text/html": [
              "<pre>Starting Optimization.</pre>"
            ],
            "text/plain": [
              "Starting Optimization."
            ]
          },
          "metadata": {
            "tags": []
          }
        },
        {
          "output_type": "display_data",
          "data": {
            "text/html": [
              "<pre>+---------+--------------+-------------------+-----------------------+-------------+</pre>"
            ],
            "text/plain": [
              "+---------+--------------+-------------------+-----------------------+-------------+"
            ]
          },
          "metadata": {
            "tags": []
          }
        },
        {
          "output_type": "display_data",
          "data": {
            "text/html": [
              "<pre>| Iter.   | Elapsed Time | Approx. Objective | Approx. Training RMSE | Step Size   |</pre>"
            ],
            "text/plain": [
              "| Iter.   | Elapsed Time | Approx. Objective | Approx. Training RMSE | Step Size   |"
            ]
          },
          "metadata": {
            "tags": []
          }
        },
        {
          "output_type": "display_data",
          "data": {
            "text/html": [
              "<pre>+---------+--------------+-------------------+-----------------------+-------------+</pre>"
            ],
            "text/plain": [
              "+---------+--------------+-------------------+-----------------------+-------------+"
            ]
          },
          "metadata": {
            "tags": []
          }
        },
        {
          "output_type": "display_data",
          "data": {
            "text/html": [
              "<pre>| Initial | 75us         | 1.46904           | 1.21204               |             |</pre>"
            ],
            "text/plain": [
              "| Initial | 75us         | 1.46904           | 1.21204               |             |"
            ]
          },
          "metadata": {
            "tags": []
          }
        },
        {
          "output_type": "display_data",
          "data": {
            "text/html": [
              "<pre>+---------+--------------+-------------------+-----------------------+-------------+</pre>"
            ],
            "text/plain": [
              "+---------+--------------+-------------------+-----------------------+-------------+"
            ]
          },
          "metadata": {
            "tags": []
          }
        },
        {
          "output_type": "display_data",
          "data": {
            "text/html": [
              "<pre>| 1       | 25.833ms     | 1.13455           | 1.06515               | 0.000871931 |</pre>"
            ],
            "text/plain": [
              "| 1       | 25.833ms     | 1.13455           | 1.06515               | 0.000871931 |"
            ]
          },
          "metadata": {
            "tags": []
          }
        },
        {
          "output_type": "display_data",
          "data": {
            "text/html": [
              "<pre>| 2       | 56.092ms     | 1.0702            | 1.03451               | 0.000518453 |</pre>"
            ],
            "text/plain": [
              "| 2       | 56.092ms     | 1.0702            | 1.03451               | 0.000518453 |"
            ]
          },
          "metadata": {
            "tags": []
          }
        },
        {
          "output_type": "display_data",
          "data": {
            "text/html": [
              "<pre>| 3       | 73.152ms     | 1.0577            | 1.02844               | 0.000382508 |</pre>"
            ],
            "text/plain": [
              "| 3       | 73.152ms     | 1.0577            | 1.02844               | 0.000382508 |"
            ]
          },
          "metadata": {
            "tags": []
          }
        },
        {
          "output_type": "display_data",
          "data": {
            "text/html": [
              "<pre>| 4       | 89.805ms     | 1.03494           | 1.01732               | 0.000308274 |</pre>"
            ],
            "text/plain": [
              "| 4       | 89.805ms     | 1.03494           | 1.01732               | 0.000308274 |"
            ]
          },
          "metadata": {
            "tags": []
          }
        },
        {
          "output_type": "display_data",
          "data": {
            "text/html": [
              "<pre>| 5       | 107.509ms    | 1.03183           | 1.01579               | 0.000260768 |</pre>"
            ],
            "text/plain": [
              "| 5       | 107.509ms    | 1.03183           | 1.01579               | 0.000260768 |"
            ]
          },
          "metadata": {
            "tags": []
          }
        },
        {
          "output_type": "display_data",
          "data": {
            "text/html": [
              "<pre>| 10      | 182.345ms    | 0.991545          | 0.995764              | 0.000155054 |</pre>"
            ],
            "text/plain": [
              "| 10      | 182.345ms    | 0.991545          | 0.995764              | 0.000155054 |"
            ]
          },
          "metadata": {
            "tags": []
          }
        },
        {
          "output_type": "display_data",
          "data": {
            "text/html": [
              "<pre>| 50      | 762.854ms    | 0.913869          | 0.955965              | 1.63949e-05 |</pre>"
            ],
            "text/plain": [
              "| 50      | 762.854ms    | 0.913869          | 0.955965              | 1.63949e-05 |"
            ]
          },
          "metadata": {
            "tags": []
          }
        },
        {
          "output_type": "display_data",
          "data": {
            "text/html": [
              "<pre>| 100     | 1.52s        | 0.896167          | 0.946661              | 9.74848e-06 |</pre>"
            ],
            "text/plain": [
              "| 100     | 1.52s        | 0.896167          | 0.946661              | 9.74848e-06 |"
            ]
          },
          "metadata": {
            "tags": []
          }
        },
        {
          "output_type": "display_data",
          "data": {
            "text/html": [
              "<pre>| 250     | 3.62s        | 0.874872          | 0.935346              | 2.91548e-06 |</pre>"
            ],
            "text/plain": [
              "| 250     | 3.62s        | 0.874872          | 0.935346              | 2.91548e-06 |"
            ]
          },
          "metadata": {
            "tags": []
          }
        },
        {
          "output_type": "display_data",
          "data": {
            "text/html": [
              "<pre>| 500     | 7.12s        | 0.86325           | 0.929113              | 1.03078e-06 |</pre>"
            ],
            "text/plain": [
              "| 500     | 7.12s        | 0.86325           | 0.929113              | 1.03078e-06 |"
            ]
          },
          "metadata": {
            "tags": []
          }
        },
        {
          "output_type": "display_data",
          "data": {
            "text/html": [
              "<pre>| 750     | 10.65s       | 0.858184          | 0.926382              | 4.52193e-07 |</pre>"
            ],
            "text/plain": [
              "| 750     | 10.65s       | 0.858184          | 0.926382              | 4.52193e-07 |"
            ]
          },
          "metadata": {
            "tags": []
          }
        },
        {
          "output_type": "display_data",
          "data": {
            "text/html": [
              "<pre>| 791     | 11.23s       | 0.857942          | 0.926252              | 1.53618e-07 |</pre>"
            ],
            "text/plain": [
              "| 791     | 11.23s       | 0.857942          | 0.926252              | 1.53618e-07 |"
            ]
          },
          "metadata": {
            "tags": []
          }
        },
        {
          "output_type": "display_data",
          "data": {
            "text/html": [
              "<pre>+---------+--------------+-------------------+-----------------------+-------------+</pre>"
            ],
            "text/plain": [
              "+---------+--------------+-------------------+-----------------------+-------------+"
            ]
          },
          "metadata": {
            "tags": []
          }
        },
        {
          "output_type": "display_data",
          "data": {
            "text/html": [
              "<pre>Optimization Complete: Convergence on objective within bounds.</pre>"
            ],
            "text/plain": [
              "Optimization Complete: Convergence on objective within bounds."
            ]
          },
          "metadata": {
            "tags": []
          }
        },
        {
          "output_type": "display_data",
          "data": {
            "text/html": [
              "<pre>Computing final objective value and training RMSE.</pre>"
            ],
            "text/plain": [
              "Computing final objective value and training RMSE."
            ]
          },
          "metadata": {
            "tags": []
          }
        },
        {
          "output_type": "display_data",
          "data": {
            "text/html": [
              "<pre>       Final objective value: 0.857935</pre>"
            ],
            "text/plain": [
              "       Final objective value: 0.857935"
            ]
          },
          "metadata": {
            "tags": []
          }
        },
        {
          "output_type": "display_data",
          "data": {
            "text/html": [
              "<pre>       Final training RMSE: 0.926248</pre>"
            ],
            "text/plain": [
              "       Final training RMSE: 0.926248"
            ]
          },
          "metadata": {
            "tags": []
          }
        }
      ]
    },
    {
      "cell_type": "code",
      "metadata": {
        "id": "FUShhXfuR2Vr",
        "colab_type": "code",
        "outputId": "79672abb-e233-4849-c6f1-d02ce90015d6",
        "colab": {
          "base_uri": "https://localhost:8080/",
          "height": 34
        }
      },
      "source": [
        "model.evaluate_rmse(X_test, 'score')['rmse_overall']"
      ],
      "execution_count": 128,
      "outputs": [
        {
          "output_type": "execute_result",
          "data": {
            "text/plain": [
              "0.9529245520397175"
            ]
          },
          "metadata": {
            "tags": []
          },
          "execution_count": 128
        }
      ]
    },
    {
      "cell_type": "code",
      "metadata": {
        "id": "mxjKFBO2KCJ1",
        "colab_type": "code",
        "outputId": "7de3252a-82fb-4d75-bc22-7fa2376db5cf",
        "colab": {
          "base_uri": "https://localhost:8080/",
          "height": 88
        }
      },
      "source": [
        "X_test_predict = model.predict(X_test)\n",
        "X_test_predict"
      ],
      "execution_count": 129,
      "outputs": [
        {
          "output_type": "execute_result",
          "data": {
            "text/plain": [
              "dtype: float\n",
              "Rows: 2476\n",
              "[4.386297134010448, 4.4601862971027515, 4.203107199804236, 4.19705263347808, 4.204879064723485, 4.495036009790994, 4.989181698944432, 5.8450310357353255, 5.545914634282405, 5.508500714872377, 6.549766543487373, 6.168651797778318, 6.272992307806441, 6.522608578967799, 6.391790329348248, 6.213985333690823, 6.374517662804998, 6.480435382387975, 5.623745136689274, 6.292737821232174, 5.934601095089044, 5.896942296617078, 6.279717489300844, 6.283628199924885, 6.236419621780976, 6.060721986387386, 6.8172357050849195, 6.331525936561399, 6.032338493364102, 6.326051243226709, 6.014989822523227, 6.170238615590812, 6.524098890917764, 5.836799545212295, 5.824275664787444, 5.992157459439647, 5.90044024392281, 6.2520585971929785, 6.407208073075332, 6.337937512397809, 6.351874017239958, 6.481309907942511, 5.616103499992819, 5.318576848312292, 5.47905097855582, 4.706698132441275, 4.491838306431205, 4.340006822433466, 4.797201850987008, 4.323449277723526, 5.972657434825585, 6.016712792850747, 4.968984952838248, 5.103367784368235, 5.193106083205127, 4.342925848446445, 4.808659253936927, 4.6206762283330285, 4.883675115165094, 4.470215171896886, 5.040124179606497, 4.832560091627617, 5.214765252695603, 5.026494434444569, 5.521613402725102, 5.249884159416801, 5.439385873452743, 4.8141283746152155, 5.438096616808529, 5.211371612850876, 5.0750666056081215, 5.286728743225289, 5.382736477220355, 4.152105636329637, 3.8460005342173673, 4.170572268453455, 4.377391504140661, 4.435703364223201, 5.527919352458565, 5.32580332252125, 5.649325723609917, 4.725169845643646, 4.951982723091694, 4.895097029633851, 4.742502876391134, 4.5646529337984045, 4.669001821829786, 4.9715427797393, 4.718147034554184, 4.829333827868302, 4.8123525561979275, 4.479128158739675, 4.615992218446243, 5.285476761143562, 5.700482490273478, 4.305371178731242, 4.538183212685506, 4.194846831946559, 4.34109786072491, 4.596349235129147, ... ]"
            ]
          },
          "metadata": {
            "tags": []
          },
          "execution_count": 129
        }
      ]
    },
    {
      "cell_type": "code",
      "metadata": {
        "id": "hxewePCqLqre",
        "colab_type": "code",
        "outputId": "4c82acf3-2f81-459a-de4c-cac0093f637d",
        "colab": {
          "base_uri": "https://localhost:8080/",
          "height": 88
        }
      },
      "source": [
        "X_test_score = X_test.select_column(\"score\")\n",
        "X_test_score"
      ],
      "execution_count": 130,
      "outputs": [
        {
          "output_type": "execute_result",
          "data": {
            "text/plain": [
              "dtype: float\n",
              "Rows: 2476\n",
              "[3.5470584567157486, 3.8158482108284737, 3.695395497824532, 4.302916263663142, 3.9532953677639986, 3.6838491393281543, 3.3007136544365427, 7.953373995130322, 6.624011018295802, 6.581749758197885, 7.006431268970676, 6.924697639384205, 7.462144341029601, 7.760624363481509, 6.850634968813264, 7.256751526135126, 6.91449366495341, 7.317830085209334, 6.508487871260858, 7.5081073470107285, 7.108735524431648, 7.111740070076122, 6.182156444970209, 7.685870248715058, 6.9611470972518115, 6.654185492820295, 8.137146108966842, 7.140067183505004, 6.767676249837257, 7.353126341959533, 7.064001894486313, 7.085622595544268, 6.9388051804281154, 6.699469664539159, 6.079258385051617, 6.727019805233679, 6.425850931767662, 7.2214552693849265, 7.550037574874398, 6.217871195958214, 6.8676727722197315, 7.243075970442883, 4.808655426693343, 4.890980588971111, 4.791627934927907, 4.673447179116967, 4.650890274579301, 4.750395997246812, 5.333774867243287, 4.336227075933329, 4.2323237501627435, 4.135948934338336, 5.1881173076208515, 4.640156943892565, 4.600363913668467, 4.220799114179264, 4.552089636469521, 5.450708562020237, 4.3408267535990355, 3.8001174057832188, 4.956879441190712, 4.645480624952055, 4.952059148045318, 3.89579629930756, 5.324919604696436, 5.086936030670452, 5.203978475519383, 4.992715592648897, 5.247264999137658, 5.5160547532503825, 5.012755063338579, 5.171127518632038, 5.637018291510945, 5.02681326281177, 5.009330795768869, 4.982079632866435, 3.920924933924086, 4.124424298354857, 6.717582432038544, 7.03880170281059, 6.7367307632490805, 3.669446692219861, 5.426185085390851, 5.631881209127953, 4.261472961166877, 4.210703049104787, 5.371740497430115, 5.296986382663664, 5.662357172732759, 5.271204080339656, 5.2566363680780634, 5.003700333924391, 5.1497369821958445, 6.721325539066791, 5.233681871255022, 6.195205237909385, 2.225155603309317, 3.057610746145172, 3.8639115659704846, 3.7284509128163603, ... ]"
            ]
          },
          "metadata": {
            "tags": []
          },
          "execution_count": 130
        }
      ]
    },
    {
      "cell_type": "code",
      "metadata": {
        "id": "mLH9suOeL4oV",
        "colab_type": "code",
        "outputId": "897367b3-7e6c-4f40-e882-6c49f2aebbda",
        "colab": {
          "base_uri": "https://localhost:8080/",
          "height": 34
        }
      },
      "source": [
        "tc.evaluation.rmse(X_test_score, X_test_predict)"
      ],
      "execution_count": 131,
      "outputs": [
        {
          "output_type": "execute_result",
          "data": {
            "text/plain": [
              "0.9529245520397186"
            ]
          },
          "metadata": {
            "tags": []
          },
          "execution_count": 131
        }
      ]
    },
    {
      "cell_type": "code",
      "metadata": {
        "id": "M9XOO1rWN0d_",
        "colab_type": "code",
        "colab": {}
      },
      "source": [
        "X_test_predict_conc = minmax.inverse_transform(X_test_predict.to_numpy().reshape(-1, 1))\n",
        "X_test_predict_conc = np.exp(X_test_predict_conc)    \n",
        "X_test_predict_conc = 1/X_test_predict_conc"
      ],
      "execution_count": 0,
      "outputs": []
    },
    {
      "cell_type": "code",
      "metadata": {
        "id": "AuCJGvJkOurK",
        "colab_type": "code",
        "colab": {}
      },
      "source": [
        "X_test_conc = minmax.inverse_transform(X_test_score.to_numpy().reshape(-1, 1))\n",
        "X_test_conc = np.exp(X_test_conc)    \n",
        "X_test_conc = 1/X_test_conc"
      ],
      "execution_count": 0,
      "outputs": []
    },
    {
      "cell_type": "code",
      "metadata": {
        "id": "LD_AZz_SO8sf",
        "colab_type": "code",
        "outputId": "62226407-638b-4344-975a-b64c24d33c68",
        "colab": {
          "base_uri": "https://localhost:8080/",
          "height": 34
        }
      },
      "source": [
        "sqrt(mean_squared_error(X_test_conc, X_test_predict_conc))"
      ],
      "execution_count": 134,
      "outputs": [
        {
          "output_type": "execute_result",
          "data": {
            "text/plain": [
              "3164.8372757090356"
            ]
          },
          "metadata": {
            "tags": []
          },
          "execution_count": 134
        }
      ]
    },
    {
      "cell_type": "code",
      "metadata": {
        "id": "EJEbdd3OWECd",
        "colab_type": "code",
        "colab": {
          "base_uri": "https://localhost:8080/",
          "height": 136
        },
        "outputId": "2d0fb186-7f15-47a1-e0aa-d36206d9828e"
      },
      "source": [
        "X_test_predict_conc"
      ],
      "execution_count": 135,
      "outputs": [
        {
          "output_type": "execute_result",
          "data": {
            "text/plain": [
              "array([[18.9457881 ],\n",
              "       [15.1958141 ],\n",
              "       [32.73385191],\n",
              "       ...,\n",
              "       [ 6.58261567],\n",
              "       [ 7.23738743],\n",
              "       [ 2.03138508]])"
            ]
          },
          "metadata": {
            "tags": []
          },
          "execution_count": 135
        }
      ]
    },
    {
      "cell_type": "code",
      "metadata": {
        "id": "l-CuXBoLWGqs",
        "colab_type": "code",
        "colab": {
          "base_uri": "https://localhost:8080/",
          "height": 136
        },
        "outputId": "7d964d5a-4e07-42b4-b35c-df54643f7ca6"
      },
      "source": [
        "X_test_conc"
      ],
      "execution_count": 136,
      "outputs": [
        {
          "output_type": "execute_result",
          "data": {
            "text/plain": [
              "array([[2.320e+02],\n",
              "       [1.040e+02],\n",
              "       [1.490e+02],\n",
              "       ...,\n",
              "       [7.700e+00],\n",
              "       [2.135e-02],\n",
              "       [2.500e+03]])"
            ]
          },
          "metadata": {
            "tags": []
          },
          "execution_count": 136
        }
      ]
    },
    {
      "cell_type": "markdown",
      "metadata": {
        "id": "jAcH4OmgRcl-",
        "colab_type": "text"
      },
      "source": [
        "# Implementing CV"
      ]
    },
    {
      "cell_type": "code",
      "metadata": {
        "id": "sBHtCSytYt3G",
        "colab_type": "code",
        "colab": {}
      },
      "source": [
        "X_train_original, X_test_original, X_train_scored, X_test_scored = train_test_split(X_original, X_fact_scored, test_size=0.33)"
      ],
      "execution_count": 0,
      "outputs": []
    },
    {
      "cell_type": "code",
      "metadata": {
        "id": "LOYfVdmba6fV",
        "colab_type": "code",
        "colab": {}
      },
      "source": [
        "X_train_original = X_train_original.reset_index(drop=True)\n",
        "X_test_original = X_test_original.reset_index(drop=True)\n",
        "X_train_scored = X_train_scored.reset_index(drop=True)\n",
        "X_test_scored = X_test_scored.reset_index(drop=True)"
      ],
      "execution_count": 0,
      "outputs": []
    },
    {
      "cell_type": "code",
      "metadata": {
        "colab_type": "code",
        "outputId": "f5b61f23-9fd1-4225-cafa-d7e12e49b239",
        "id": "kTyvF7N_aS-7",
        "colab": {
          "base_uri": "https://localhost:8080/",
          "height": 1000
        }
      },
      "source": [
        "factors = range(10, 100, 20)\n",
        "regularizs = np.logspace(-12, 0, 10)\n",
        "lin_regularizs = np.logspace(-12, 0, 10)\n",
        "best_rmse, best_scale, best_params = cv_scale(X_train_original, X_train_scored, X_cas, X_species, factors, regularizs, lin_regularizs, max_scale=15, min_scale=5, step_size= 1, params_sample=True)\n",
        "pickle.dump(best_rmse, open(\"/content/drive/My Drive/Colab Notebooks/data/ML_Project/best_rmse_categories.pkl\", \"wb\" ) )\n",
        "pickle.dump(best_scale, open(\"/content/drive/My Drive/Colab Notebooks/data/ML_Project/best_scale_categories.pkl\", \"wb\" ) )\n",
        "pickle.dump(best_params, open(\"/content/drive/My Drive/Colab Notebooks/data/ML_Project/best_params_categories.pkl\", \"wb\" ) )"
      ],
      "execution_count": 152,
      "outputs": [
        {
          "output_type": "stream",
          "text": [
            "New best param combination found! Rmse:0.4173155655640217, num_factors:10, regularizer:0.0021544346900318778, lin_reg:1e-08\n",
            "New best param combination found! Rmse:0.4124945399860885, num_factors:10, regularizer:0.0021544346900318778, lin_reg:1e-08\n",
            "New best param combination found! Rmse:0.4120521985272447, num_factors:30, regularizer:0.046415888336127725, lin_reg:4.6415888336127727e-10\n",
            "New best param combination found! Rmse:0.4119306378293592, num_factors:30, regularizer:0.046415888336127725, lin_reg:4.6415888336127727e-10\n",
            "New best param combination found! Rmse:0.40866418489946854, num_factors:30, regularizer:4.6415888336127727e-10, lin_reg:4.6415888336127727e-10\n",
            "New best param combination found! Rmse:0.4695994354769675, num_factors:30, regularizer:1e-08, lin_reg:0.046415888336127725\n",
            "New best param combination found! Rmse:0.40180448973074395, num_factors:30, regularizer:1e-08, lin_reg:1e-08\n",
            "New best param combination found! Rmse:0.3933319396338277, num_factors:30, regularizer:1e-08, lin_reg:0.0001\n",
            "Scale: 5, avg_rmse: 0.32237644587283004\n",
            "New best scale found: 5\n",
            "New best rmse 0.32237644587283004\n",
            "New best param combination found! Rmse:0.6353390103709121, num_factors:90, regularizer:1.0, lin_reg:1.0\n",
            "New best param combination found! Rmse:0.5559761433050111, num_factors:90, regularizer:1.0, lin_reg:2.1544346900318868e-11\n",
            "New best param combination found! Rmse:0.5405898991642815, num_factors:90, regularizer:1.0, lin_reg:4.6415888336127727e-10\n",
            "New best param combination found! Rmse:0.536684029602654, num_factors:90, regularizer:0.0001, lin_reg:4.6415888336127727e-10\n",
            "New best param combination found! Rmse:0.5363263149063969, num_factors:90, regularizer:2.1544346900318868e-11, lin_reg:4.641588833612773e-06\n",
            "New best param combination found! Rmse:0.5590940718158155, num_factors:10, regularizer:0.0001, lin_reg:2.1544346900318822e-07\n",
            "New best param combination found! Rmse:0.5446507988753814, num_factors:10, regularizer:0.0001, lin_reg:2.1544346900318868e-11\n",
            "New best param combination found! Rmse:0.5431777824308944, num_factors:10, regularizer:0.0001, lin_reg:2.1544346900318822e-07\n",
            "New best param combination found! Rmse:0.5263754382563937, num_factors:10, regularizer:0.0001, lin_reg:2.1544346900318822e-07\n",
            "New best param combination found! Rmse:0.515458025812091, num_factors:10, regularizer:4.641588833612773e-06, lin_reg:2.1544346900318868e-11\n",
            "New best param combination found! Rmse:0.5111590603575524, num_factors:10, regularizer:0.0021544346900318778, lin_reg:1e-08\n",
            "New best param combination found! Rmse:0.5101315726816044, num_factors:10, regularizer:0.0021544346900318778, lin_reg:2.1544346900318822e-07\n",
            "New best param combination found! Rmse:0.5229372413739006, num_factors:90, regularizer:1e-08, lin_reg:2.1544346900318868e-11\n",
            "New best param combination found! Rmse:0.5190219729094929, num_factors:90, regularizer:1e-08, lin_reg:1e-08\n",
            "Scale: 6, avg_rmse: 0.4028534005358218\n",
            "New best param combination found! Rmse:0.7008813489981355, num_factors:30, regularizer:4.641588833612773e-06, lin_reg:0.046415888336127725\n",
            "New best param combination found! Rmse:0.6352250405187038, num_factors:30, regularizer:4.641588833612773e-06, lin_reg:0.0001\n",
            "New best param combination found! Rmse:0.627166467659899, num_factors:30, regularizer:1e-08, lin_reg:0.0001\n",
            "New best param combination found! Rmse:0.6547871631618781, num_factors:10, regularizer:1.0, lin_reg:4.6415888336127727e-10\n",
            "New best param combination found! Rmse:0.6541987488592687, num_factors:10, regularizer:1.0, lin_reg:4.6415888336127727e-10\n",
            "New best param combination found! Rmse:0.6315714643866686, num_factors:10, regularizer:0.046415888336127725, lin_reg:4.6415888336127727e-10\n",
            "New best param combination found! Rmse:0.6273278808256187, num_factors:10, regularizer:0.046415888336127725, lin_reg:4.6415888336127727e-10\n",
            "New best param combination found! Rmse:0.624419874928113, num_factors:10, regularizer:0.046415888336127725, lin_reg:4.6415888336127727e-10\n",
            "New best param combination found! Rmse:0.6371661357112673, num_factors:50, regularizer:0.046415888336127725, lin_reg:2.1544346900318868e-11\n",
            "New best param combination found! Rmse:0.6183417570538069, num_factors:50, regularizer:0.046415888336127725, lin_reg:4.641588833612773e-06\n",
            "Scale: 7, avg_rmse: 0.5222626742291759\n",
            "New best param combination found! Rmse:0.7564752314607653, num_factors:70, regularizer:0.0001, lin_reg:1e-08\n",
            "New best param combination found! Rmse:0.743645867930102, num_factors:70, regularizer:1e-08, lin_reg:1e-08\n",
            "New best param combination found! Rmse:0.8856103605758411, num_factors:30, regularizer:4.641588833612773e-06, lin_reg:1.0\n",
            "New best param combination found! Rmse:0.7469726546783493, num_factors:30, regularizer:4.641588833612773e-06, lin_reg:2.1544346900318868e-11\n",
            "New best param combination found! Rmse:0.7420537786285019, num_factors:30, regularizer:0.0001, lin_reg:2.1544346900318868e-11\n",
            "New best param combination found! Rmse:0.7298089747612139, num_factors:30, regularizer:2.1544346900318822e-07, lin_reg:2.1544346900318868e-11\n",
            "New best param combination found! Rmse:1.2792323501616447, num_factors:70, regularizer:0.0021544346900318778, lin_reg:4.641588833612773e-06\n",
            "New best param combination found! Rmse:0.7664380517146091, num_factors:70, regularizer:0.0021544346900318778, lin_reg:4.6415888336127727e-10\n",
            "New best param combination found! Rmse:0.759879582975508, num_factors:70, regularizer:0.0021544346900318778, lin_reg:2.1544346900318822e-07\n",
            "New best param combination found! Rmse:0.7590360310937644, num_factors:70, regularizer:0.0001, lin_reg:4.6415888336127727e-10\n",
            "New best param combination found! Rmse:0.7522565289686415, num_factors:70, regularizer:0.0001, lin_reg:1e-12\n",
            "New best param combination found! Rmse:0.7424081183905576, num_factors:70, regularizer:1e-12, lin_reg:4.6415888336127727e-10\n",
            "New best param combination found! Rmse:0.7316855085679093, num_factors:70, regularizer:0.046415888336127725, lin_reg:1e-12\n",
            "Scale: 8, avg_rmse: 0.5902146774376423\n",
            "New best param combination found! Rmse:0.8709554112770808, num_factors:50, regularizer:2.1544346900318822e-07, lin_reg:2.1544346900318822e-07\n",
            "New best param combination found! Rmse:0.8667072178946679, num_factors:50, regularizer:2.1544346900318822e-07, lin_reg:1e-12\n",
            "New best param combination found! Rmse:0.8611390200179923, num_factors:50, regularizer:2.1544346900318822e-07, lin_reg:4.641588833612773e-06\n",
            "New best param combination found! Rmse:0.8586709994678351, num_factors:50, regularizer:2.1544346900318822e-07, lin_reg:0.0001\n",
            "New best param combination found! Rmse:0.8499075385134064, num_factors:50, regularizer:4.641588833612773e-06, lin_reg:2.1544346900318822e-07\n",
            "New best param combination found! Rmse:0.8466191842581542, num_factors:50, regularizer:0.046415888336127725, lin_reg:1e-12\n",
            "New best param combination found! Rmse:0.8387244501035789, num_factors:50, regularizer:0.046415888336127725, lin_reg:4.641588833612773e-06\n",
            "New best param combination found! Rmse:0.8381688664949212, num_factors:50, regularizer:0.046415888336127725, lin_reg:2.1544346900318868e-11\n",
            "New best param combination found! Rmse:0.8545151627981392, num_factors:90, regularizer:1e-08, lin_reg:0.0001\n",
            "New best param combination found! Rmse:0.8502066889972889, num_factors:90, regularizer:0.0001, lin_reg:0.0001\n"
          ],
          "name": "stdout"
        },
        {
          "output_type": "error",
          "ename": "KeyboardInterrupt",
          "evalue": "ignored",
          "traceback": [
            "\u001b[0;31m---------------------------------------------------------------------------\u001b[0m",
            "\u001b[0;31mKeyboardInterrupt\u001b[0m                         Traceback (most recent call last)",
            "\u001b[0;32m<ipython-input-152-ccb611193255>\u001b[0m in \u001b[0;36m<module>\u001b[0;34m()\u001b[0m\n\u001b[1;32m      2\u001b[0m \u001b[0mregularizs\u001b[0m \u001b[0;34m=\u001b[0m \u001b[0mnp\u001b[0m\u001b[0;34m.\u001b[0m\u001b[0mlogspace\u001b[0m\u001b[0;34m(\u001b[0m\u001b[0;34m-\u001b[0m\u001b[0;36m12\u001b[0m\u001b[0;34m,\u001b[0m \u001b[0;36m0\u001b[0m\u001b[0;34m,\u001b[0m \u001b[0;36m10\u001b[0m\u001b[0;34m)\u001b[0m\u001b[0;34m\u001b[0m\u001b[0;34m\u001b[0m\u001b[0m\n\u001b[1;32m      3\u001b[0m \u001b[0mlin_regularizs\u001b[0m \u001b[0;34m=\u001b[0m \u001b[0mnp\u001b[0m\u001b[0;34m.\u001b[0m\u001b[0mlogspace\u001b[0m\u001b[0;34m(\u001b[0m\u001b[0;34m-\u001b[0m\u001b[0;36m12\u001b[0m\u001b[0;34m,\u001b[0m \u001b[0;36m0\u001b[0m\u001b[0;34m,\u001b[0m \u001b[0;36m10\u001b[0m\u001b[0;34m)\u001b[0m\u001b[0;34m\u001b[0m\u001b[0;34m\u001b[0m\u001b[0m\n\u001b[0;32m----> 4\u001b[0;31m \u001b[0mbest_rmse\u001b[0m\u001b[0;34m,\u001b[0m \u001b[0mbest_scale\u001b[0m\u001b[0;34m,\u001b[0m \u001b[0mbest_params\u001b[0m \u001b[0;34m=\u001b[0m \u001b[0mcv_scale\u001b[0m\u001b[0;34m(\u001b[0m\u001b[0mX_train_original\u001b[0m\u001b[0;34m,\u001b[0m \u001b[0mX_train_scored\u001b[0m\u001b[0;34m,\u001b[0m \u001b[0mX_cas\u001b[0m\u001b[0;34m,\u001b[0m \u001b[0mX_species\u001b[0m\u001b[0;34m,\u001b[0m \u001b[0mfactors\u001b[0m\u001b[0;34m,\u001b[0m \u001b[0mregularizs\u001b[0m\u001b[0;34m,\u001b[0m \u001b[0mlin_regularizs\u001b[0m\u001b[0;34m,\u001b[0m \u001b[0mmax_scale\u001b[0m\u001b[0;34m=\u001b[0m\u001b[0;36m15\u001b[0m\u001b[0;34m,\u001b[0m \u001b[0mmin_scale\u001b[0m\u001b[0;34m=\u001b[0m\u001b[0;36m5\u001b[0m\u001b[0;34m,\u001b[0m \u001b[0mstep_size\u001b[0m\u001b[0;34m=\u001b[0m \u001b[0;36m1\u001b[0m\u001b[0;34m,\u001b[0m \u001b[0mparams_sample\u001b[0m\u001b[0;34m=\u001b[0m\u001b[0;32mTrue\u001b[0m\u001b[0;34m)\u001b[0m\u001b[0;34m\u001b[0m\u001b[0;34m\u001b[0m\u001b[0m\n\u001b[0m\u001b[1;32m      5\u001b[0m \u001b[0mpickle\u001b[0m\u001b[0;34m.\u001b[0m\u001b[0mdump\u001b[0m\u001b[0;34m(\u001b[0m\u001b[0mbest_rmse\u001b[0m\u001b[0;34m,\u001b[0m \u001b[0mopen\u001b[0m\u001b[0;34m(\u001b[0m\u001b[0;34m\"/content/drive/My Drive/Colab Notebooks/data/ML_Project/best_rmse_categories.pkl\"\u001b[0m\u001b[0;34m,\u001b[0m \u001b[0;34m\"wb\"\u001b[0m \u001b[0;34m)\u001b[0m \u001b[0;34m)\u001b[0m\u001b[0;34m\u001b[0m\u001b[0;34m\u001b[0m\u001b[0m\n\u001b[1;32m      6\u001b[0m \u001b[0mpickle\u001b[0m\u001b[0;34m.\u001b[0m\u001b[0mdump\u001b[0m\u001b[0;34m(\u001b[0m\u001b[0mbest_scale\u001b[0m\u001b[0;34m,\u001b[0m \u001b[0mopen\u001b[0m\u001b[0;34m(\u001b[0m\u001b[0;34m\"/content/drive/My Drive/Colab Notebooks/data/ML_Project/best_scale_categories.pkl\"\u001b[0m\u001b[0;34m,\u001b[0m \u001b[0;34m\"wb\"\u001b[0m \u001b[0;34m)\u001b[0m \u001b[0;34m)\u001b[0m\u001b[0;34m\u001b[0m\u001b[0;34m\u001b[0m\u001b[0m\n",
            "\u001b[0;32m<ipython-input-150-ef27cff38407>\u001b[0m in \u001b[0;36mcv_scale\u001b[0;34m(X_real, X_real_scored, X_cas, X_species, list_factors, list_regulariz, list_lin_regulariz, min_scale, max_scale, step_size, cv, params_sample)\u001b[0m\n\u001b[1;32m     22\u001b[0m \u001b[0;34m\u001b[0m\u001b[0m\n\u001b[1;32m     23\u001b[0m         \u001b[0;32mfor\u001b[0m \u001b[0mtrain_index\u001b[0m\u001b[0;34m,\u001b[0m \u001b[0mtest_index\u001b[0m \u001b[0;32min\u001b[0m \u001b[0mkf\u001b[0m\u001b[0;34m.\u001b[0m\u001b[0msplit\u001b[0m\u001b[0;34m(\u001b[0m\u001b[0mX_real_score\u001b[0m\u001b[0;34m)\u001b[0m\u001b[0;34m:\u001b[0m\u001b[0;34m\u001b[0m\u001b[0;34m\u001b[0m\u001b[0m\n\u001b[0;32m---> 24\u001b[0;31m             \u001b[0mmodel\u001b[0m\u001b[0;34m,\u001b[0m \u001b[0mparam\u001b[0m \u001b[0;34m=\u001b[0m \u001b[0mcv_fact\u001b[0m\u001b[0;34m(\u001b[0m\u001b[0mX_real_score\u001b[0m\u001b[0;34m.\u001b[0m\u001b[0mloc\u001b[0m\u001b[0;34m[\u001b[0m\u001b[0mtrain_index\u001b[0m\u001b[0;34m]\u001b[0m\u001b[0;34m.\u001b[0m\u001b[0mreset_index\u001b[0m\u001b[0;34m(\u001b[0m\u001b[0mdrop\u001b[0m\u001b[0;34m=\u001b[0m\u001b[0;32mTrue\u001b[0m\u001b[0;34m)\u001b[0m\u001b[0;34m,\u001b[0m \u001b[0mX_cas\u001b[0m\u001b[0;34m,\u001b[0m \u001b[0mX_species\u001b[0m\u001b[0;34m,\u001b[0m \u001b[0mfactors\u001b[0m\u001b[0;34m=\u001b[0m\u001b[0mlist_factors\u001b[0m\u001b[0;34m,\u001b[0m \u001b[0mregularizs\u001b[0m\u001b[0;34m=\u001b[0m\u001b[0mlist_regulariz\u001b[0m\u001b[0;34m,\u001b[0m \u001b[0mlin_regulars\u001b[0m \u001b[0;34m=\u001b[0m \u001b[0mlist_lin_regulariz\u001b[0m\u001b[0;34m,\u001b[0m \u001b[0mcv\u001b[0m\u001b[0;34m=\u001b[0m\u001b[0mcv\u001b[0m\u001b[0;34m,\u001b[0m \u001b[0mparams_samples\u001b[0m\u001b[0;34m=\u001b[0m\u001b[0mparams_sample\u001b[0m\u001b[0;34m)\u001b[0m\u001b[0;34m\u001b[0m\u001b[0;34m\u001b[0m\u001b[0m\n\u001b[0m\u001b[1;32m     25\u001b[0m             \u001b[0mparams\u001b[0m\u001b[0;34m.\u001b[0m\u001b[0mappend\u001b[0m\u001b[0;34m(\u001b[0m\u001b[0mparam\u001b[0m\u001b[0;34m)\u001b[0m\u001b[0;34m\u001b[0m\u001b[0;34m\u001b[0m\u001b[0m\n\u001b[1;32m     26\u001b[0m \u001b[0;34m\u001b[0m\u001b[0m\n",
            "\u001b[0;32m<ipython-input-149-fdeeee347524>\u001b[0m in \u001b[0;36mcv_fact\u001b[0;34m(X_train_scored, X_cas, X_species, factors, regularizs, lin_regulars, cv, verbose, params_samples, num_samples)\u001b[0m\n\u001b[1;32m     21\u001b[0m           \u001b[0mtest\u001b[0m \u001b[0;34m=\u001b[0m \u001b[0mtc\u001b[0m\u001b[0;34m.\u001b[0m\u001b[0mSFrame\u001b[0m\u001b[0;34m(\u001b[0m\u001b[0mX_train_scored\u001b[0m\u001b[0;34m.\u001b[0m\u001b[0mloc\u001b[0m\u001b[0;34m[\u001b[0m\u001b[0mtest_ind\u001b[0m\u001b[0;34m]\u001b[0m\u001b[0;34m)\u001b[0m\u001b[0;34m\u001b[0m\u001b[0;34m\u001b[0m\u001b[0m\n\u001b[1;32m     22\u001b[0m \u001b[0;34m\u001b[0m\u001b[0m\n\u001b[0;32m---> 23\u001b[0;31m           \u001b[0mmodel\u001b[0m \u001b[0;34m=\u001b[0m \u001b[0mtc\u001b[0m\u001b[0;34m.\u001b[0m\u001b[0mrecommender\u001b[0m\u001b[0;34m.\u001b[0m\u001b[0mfactorization_recommender\u001b[0m\u001b[0;34m.\u001b[0m\u001b[0mcreate\u001b[0m\u001b[0;34m(\u001b[0m\u001b[0mtrain\u001b[0m\u001b[0;34m,\u001b[0m \u001b[0;34m'test_cas'\u001b[0m\u001b[0;34m,\u001b[0m \u001b[0;34m'species'\u001b[0m\u001b[0;34m,\u001b[0m \u001b[0mtarget\u001b[0m\u001b[0;34m=\u001b[0m\u001b[0;34m'score'\u001b[0m\u001b[0;34m,\u001b[0m \u001b[0mmax_iterations\u001b[0m\u001b[0;34m=\u001b[0m\u001b[0;36m100\u001b[0m\u001b[0;34m,\u001b[0m                                                                   \u001b[0mnum_factors\u001b[0m \u001b[0;34m=\u001b[0m \u001b[0mfactor\u001b[0m\u001b[0;34m,\u001b[0m \u001b[0mregularization\u001b[0m\u001b[0;34m=\u001b[0m\u001b[0mregulariz\u001b[0m\u001b[0;34m,\u001b[0m \u001b[0mlinear_regularization\u001b[0m\u001b[0;34m=\u001b[0m\u001b[0mlin_regular\u001b[0m\u001b[0;34m,\u001b[0m \u001b[0msolver\u001b[0m\u001b[0;34m=\u001b[0m\u001b[0;34m\"sgd\"\u001b[0m\u001b[0;34m,\u001b[0m \u001b[0mverbose\u001b[0m\u001b[0;34m=\u001b[0m\u001b[0;32mFalse\u001b[0m\u001b[0;34m,\u001b[0m \u001b[0muser_data\u001b[0m\u001b[0;34m=\u001b[0m\u001b[0mX_cas\u001b[0m\u001b[0;34m,\u001b[0m \u001b[0mitem_data\u001b[0m\u001b[0;34m=\u001b[0m\u001b[0mX_species\u001b[0m\u001b[0;34m)\u001b[0m\u001b[0;34m\u001b[0m\u001b[0;34m\u001b[0m\u001b[0m\n\u001b[0m\u001b[1;32m     24\u001b[0m           \u001b[0mrmses\u001b[0m\u001b[0;34m.\u001b[0m\u001b[0mappend\u001b[0m\u001b[0;34m(\u001b[0m\u001b[0mmodel\u001b[0m\u001b[0;34m.\u001b[0m\u001b[0mevaluate_rmse\u001b[0m\u001b[0;34m(\u001b[0m\u001b[0mtest\u001b[0m\u001b[0;34m,\u001b[0m \u001b[0;34m'score'\u001b[0m\u001b[0;34m)\u001b[0m\u001b[0;34m[\u001b[0m\u001b[0;34m'rmse_overall'\u001b[0m\u001b[0;34m]\u001b[0m\u001b[0;34m)\u001b[0m\u001b[0;34m\u001b[0m\u001b[0;34m\u001b[0m\u001b[0m\n\u001b[1;32m     25\u001b[0m \u001b[0;34m\u001b[0m\u001b[0m\n",
            "\u001b[0;32m/usr/local/lib/python3.6/dist-packages/turicreate/toolkits/recommender/factorization_recommender.py\u001b[0m in \u001b[0;36mcreate\u001b[0;34m(observation_data, user_id, item_id, target, user_data, item_data, num_factors, regularization, linear_regularization, side_data_factorization, nmf, binary_target, max_iterations, sgd_step_size, random_seed, solver, verbose, **kwargs)\u001b[0m\n\u001b[1;32m    229\u001b[0m \u001b[0;34m\u001b[0m\u001b[0m\n\u001b[1;32m    230\u001b[0m     \u001b[0;32mwith\u001b[0m \u001b[0mQuietProgress\u001b[0m\u001b[0;34m(\u001b[0m\u001b[0mverbose\u001b[0m\u001b[0;34m)\u001b[0m\u001b[0;34m:\u001b[0m\u001b[0;34m\u001b[0m\u001b[0;34m\u001b[0m\u001b[0m\n\u001b[0;32m--> 231\u001b[0;31m         \u001b[0mmodel_proxy\u001b[0m\u001b[0;34m.\u001b[0m\u001b[0mtrain\u001b[0m\u001b[0;34m(\u001b[0m\u001b[0mobservation_data\u001b[0m\u001b[0;34m,\u001b[0m \u001b[0muser_data\u001b[0m\u001b[0;34m,\u001b[0m \u001b[0mitem_data\u001b[0m\u001b[0;34m,\u001b[0m \u001b[0mopts\u001b[0m\u001b[0;34m,\u001b[0m \u001b[0mextra_data\u001b[0m\u001b[0;34m)\u001b[0m\u001b[0;34m\u001b[0m\u001b[0;34m\u001b[0m\u001b[0m\n\u001b[0m\u001b[1;32m    232\u001b[0m \u001b[0;34m\u001b[0m\u001b[0m\n\u001b[1;32m    233\u001b[0m     \u001b[0;32mreturn\u001b[0m \u001b[0mFactorizationRecommender\u001b[0m\u001b[0;34m(\u001b[0m\u001b[0mmodel_proxy\u001b[0m\u001b[0;34m)\u001b[0m\u001b[0;34m\u001b[0m\u001b[0;34m\u001b[0m\u001b[0m\n",
            "\u001b[0;32m/usr/local/lib/python3.6/dist-packages/turicreate/extensions.py\u001b[0m in \u001b[0;36m<lambda>\u001b[0;34m(*args, **kwargs)\u001b[0m\n\u001b[1;32m    288\u001b[0m         \u001b[0;32melif\u001b[0m \u001b[0mname\u001b[0m \u001b[0;32min\u001b[0m \u001b[0mself\u001b[0m\u001b[0;34m.\u001b[0m\u001b[0m_functions\u001b[0m\u001b[0;34m:\u001b[0m\u001b[0;34m\u001b[0m\u001b[0;34m\u001b[0m\u001b[0m\n\u001b[1;32m    289\u001b[0m             \u001b[0;31m# is it a function?\u001b[0m\u001b[0;34m\u001b[0m\u001b[0;34m\u001b[0m\u001b[0;34m\u001b[0m\u001b[0m\n\u001b[0;32m--> 290\u001b[0;31m             \u001b[0mret\u001b[0m \u001b[0;34m=\u001b[0m \u001b[0;32mlambda\u001b[0m \u001b[0;34m*\u001b[0m\u001b[0margs\u001b[0m\u001b[0;34m,\u001b[0m \u001b[0;34m**\u001b[0m\u001b[0mkwargs\u001b[0m\u001b[0;34m:\u001b[0m \u001b[0mself\u001b[0m\u001b[0;34m.\u001b[0m\u001b[0m__run_class_function\u001b[0m\u001b[0;34m(\u001b[0m\u001b[0mname\u001b[0m\u001b[0;34m,\u001b[0m \u001b[0margs\u001b[0m\u001b[0;34m,\u001b[0m \u001b[0mkwargs\u001b[0m\u001b[0;34m)\u001b[0m\u001b[0;34m\u001b[0m\u001b[0;34m\u001b[0m\u001b[0m\n\u001b[0m\u001b[1;32m    291\u001b[0m             \u001b[0mret\u001b[0m\u001b[0;34m.\u001b[0m\u001b[0m__doc__\u001b[0m \u001b[0;34m=\u001b[0m \u001b[0;34m\"Name: \"\u001b[0m \u001b[0;34m+\u001b[0m \u001b[0mname\u001b[0m \u001b[0;34m+\u001b[0m \u001b[0;34m\"\\nParameters: \"\u001b[0m \u001b[0;34m+\u001b[0m \u001b[0mstr\u001b[0m\u001b[0;34m(\u001b[0m\u001b[0mself\u001b[0m\u001b[0;34m.\u001b[0m\u001b[0m_functions\u001b[0m\u001b[0;34m[\u001b[0m\u001b[0mname\u001b[0m\u001b[0;34m]\u001b[0m\u001b[0;34m)\u001b[0m \u001b[0;34m+\u001b[0m \u001b[0;34m\"\\n\"\u001b[0m\u001b[0;34m\u001b[0m\u001b[0;34m\u001b[0m\u001b[0m\n\u001b[1;32m    292\u001b[0m             \u001b[0;32mtry\u001b[0m\u001b[0;34m:\u001b[0m\u001b[0;34m\u001b[0m\u001b[0;34m\u001b[0m\u001b[0m\n",
            "\u001b[0;32m/usr/local/lib/python3.6/dist-packages/turicreate/extensions.py\u001b[0m in \u001b[0;36m__run_class_function\u001b[0;34m(self, fnname, args, kwargs)\u001b[0m\n\u001b[1;32m    272\u001b[0m         \u001b[0;31m# unwrap it\u001b[0m\u001b[0;34m\u001b[0m\u001b[0;34m\u001b[0m\u001b[0;34m\u001b[0m\u001b[0m\n\u001b[1;32m    273\u001b[0m         \u001b[0;32mtry\u001b[0m\u001b[0;34m:\u001b[0m\u001b[0;34m\u001b[0m\u001b[0;34m\u001b[0m\u001b[0m\n\u001b[0;32m--> 274\u001b[0;31m             \u001b[0mret\u001b[0m \u001b[0;34m=\u001b[0m \u001b[0mself\u001b[0m\u001b[0;34m.\u001b[0m\u001b[0m_tkclass\u001b[0m\u001b[0;34m.\u001b[0m\u001b[0mcall_function\u001b[0m\u001b[0;34m(\u001b[0m\u001b[0mfnname\u001b[0m\u001b[0;34m,\u001b[0m \u001b[0margument_dict\u001b[0m\u001b[0;34m)\u001b[0m\u001b[0;34m\u001b[0m\u001b[0;34m\u001b[0m\u001b[0m\n\u001b[0m\u001b[1;32m    275\u001b[0m         \u001b[0;32mexcept\u001b[0m \u001b[0mRuntimeError\u001b[0m \u001b[0;32mas\u001b[0m \u001b[0mexc\u001b[0m\u001b[0;34m:\u001b[0m\u001b[0;34m\u001b[0m\u001b[0;34m\u001b[0m\u001b[0m\n\u001b[1;32m    276\u001b[0m             \u001b[0;31m# Expose C++ exceptions using ToolkitError.\u001b[0m\u001b[0;34m\u001b[0m\u001b[0;34m\u001b[0m\u001b[0;34m\u001b[0m\u001b[0m\n",
            "\u001b[0;31mKeyboardInterrupt\u001b[0m: "
          ]
        }
      ]
    },
    {
      "cell_type": "code",
      "metadata": {
        "id": "8wQloCzlRcHa",
        "colab_type": "code",
        "colab": {}
      },
      "source": [
        "def cv_scale(X_real, X_real_scored,  X_cas, X_species, list_factors, list_regulariz, list_lin_regulariz, min_scale = 10, max_scale = 50, step_size=10, cv = 3, params_sample=True):\n",
        "    best_scale = 0\n",
        "    best_rmse = np.inf\n",
        "    best_params = []\n",
        "    best_model = None\n",
        "    cas = X_real.test_cas.max()\n",
        "    species = X_real.species.max()\n",
        "    \n",
        "    for scale in range(min_scale, max_scale+1, step_size):\n",
        "        \n",
        "        X_real_score = X_real_scored.copy()\n",
        "\n",
        "        # MinMax scale score\n",
        "        minmax = MinMaxScaler((1, scale))\n",
        "        minmax.fit(X_real_score[[\"score\"]])\n",
        "        X_real_score[[\"score\"]] = minmax.transform(X_real_score[[\"score\"]])\n",
        "        \n",
        "        kf = KFold(n_splits=cv, shuffle=True)\n",
        "        \n",
        "        rmses = []\n",
        "        params = []\n",
        "        \n",
        "        for train_index, test_index in kf.split(X_real_score):\n",
        "            model, param = cv_fact(X_real_score.loc[train_index].reset_index(drop=True), X_cas, X_species, factors=list_factors, regularizs=list_regulariz, lin_regulars = list_lin_regulariz, cv=cv, params_samples=params_sample)\n",
        "            params.append(param)\n",
        "\n",
        "            # rmse\n",
        "            X_test = tc.SFrame(X_real_score.loc[test_index])\n",
        "            rmses.append(model.evaluate_rmse(X_test, 'score')['rmse_overall'])\n",
        "        \n",
        "        avg_rmse = np.mean(rmses)\n",
        "        print(\"Scale: {}, avg_rmse: {}\".format(scale, avg_rmse))\n",
        "        if (avg_rmse < best_rmse):\n",
        "            print(\"New best scale found:\", scale)\n",
        "            print(\"New best rmse\", avg_rmse)\n",
        "            best_rmse = avg_rmse\n",
        "            best_scale = scale\n",
        "            best_params = params\n",
        "          \n",
        "    return best_rmse, best_scale, best_params"
      ],
      "execution_count": 0,
      "outputs": []
    },
    {
      "cell_type": "code",
      "metadata": {
        "id": "7Nwvry9cPjFr",
        "colab_type": "code",
        "colab": {}
      },
      "source": [
        "def cv_fact(X_train_scored, X_cas, X_species, factors, regularizs, lin_regulars,  cv = 3, verbose=True, params_samples = True, num_samples = 5):\n",
        "  best_factor = 0\n",
        "  best_regulariz = 0\n",
        "  best_lin_regulariz = 0\n",
        "  best_rmse = np.inf\n",
        "  best_model = None\n",
        "\n",
        "  if params_samples:\n",
        "    factors = np.random.choice(factors, num_samples)\n",
        "    regularizs = np.random.choice(regularizs, num_samples)\n",
        "    lin_regulars = np.random.choice(lin_regulars, num_samples)\n",
        "    \n",
        "  for factor in factors:\n",
        "    for regulariz in regularizs:\n",
        "      for lin_regular in lin_regulars:\n",
        "        rmses = []\n",
        "        kf2 = KFold(n_splits=cv, shuffle=True)\n",
        "\n",
        "        for train_ind, test_ind in kf2.split(X_train_scored):\n",
        "          train = tc.SFrame(X_train_scored.loc[train_ind])\n",
        "          test = tc.SFrame(X_train_scored.loc[test_ind])\n",
        "\n",
        "          model = tc.recommender.factorization_recommender.create(train, 'test_cas', 'species', target='score', max_iterations=100, \\\n",
        "                                                                  num_factors = factor, regularization=regulariz, linear_regularization=lin_regular, solver=\"sgd\", verbose=False, user_data=X_cas, item_data=X_species)\n",
        "          rmses.append(model.evaluate_rmse(test, 'score')['rmse_overall'])\n",
        "\n",
        "        rmses_avg = np.mean(rmses)\n",
        "        if (rmses_avg < best_rmse):\n",
        "          if verbose:\n",
        "            print(\"New best param combination found! Rmse:{}, num_factors:{}, regularizer:{}, lin_reg:{}\".format(rmses_avg, factor, regulariz, lin_regular))     \n",
        "          best_rmse = rmses_avg\n",
        "          best_lin_regulariz = lin_regular\n",
        "          best_regulariz = regulariz\n",
        "          best_factor = factor\n",
        "          best_model = tc.recommender.factorization_recommender.create(tc.SFrame(X_train_scored), 'test_cas', 'species', target='score', max_iterations=100, \\\n",
        "                                                                       num_factors = best_factor, regularization=best_regulariz, linear_regularization=best_lin_regulariz, solver=\"sgd\", verbose=False)\n",
        "    \n",
        "    return best_model, {\"best_lin_regulariz\": best_lin_regulariz, \"best_regulariz\": best_regulariz, \"best_factor\":best_factor}\n"
      ],
      "execution_count": 0,
      "outputs": []
    },
    {
      "cell_type": "code",
      "metadata": {
        "colab_type": "code",
        "outputId": "a27bd6a7-3a74-4fb1-8d86-3457a9d224b6",
        "id": "UkKu_V2pgfKs",
        "colab": {
          "base_uri": "https://localhost:8080/",
          "height": 850
        }
      },
      "source": [
        "X_test_sc = X_test_scored.copy()\n",
        "X_train_sc = X_train_scored.copy()\n",
        "\n",
        "minmax = MinMaxScaler((1, 5))\n",
        "minmax.fit(X_train_sc[[\"score\"]])\n",
        "X_train_sc[[\"score\"]] = minmax.transform(X_train_sc[[\"score\"]])\n",
        "\n",
        "minmax = MinMaxScaler((1, 5))\n",
        "minmax.fit(X_test_sc[[\"score\"]])\n",
        "X_test_sc[[\"score\"]] = minmax.transform(X_test_sc[[\"score\"]])\n",
        "\n",
        "model_test = tc.recommender.factorization_recommender.create(tc.SFrame(X_train_sc), 'test_cas', 'species', target='score', max_iterations=10000, \\\n",
        "                                                                       num_factors = 30, regularization=1e-08, linear_regularization=0.0001, solver=\"sgd\", verbose=True, user_data=X_cas, item_data=X_species)"
      ],
      "execution_count": 153,
      "outputs": [
        {
          "output_type": "display_data",
          "data": {
            "text/html": [
              "<pre>Preparing data set.</pre>"
            ],
            "text/plain": [
              "Preparing data set."
            ]
          },
          "metadata": {
            "tags": []
          }
        },
        {
          "output_type": "display_data",
          "data": {
            "text/html": [
              "<pre>    Data has 7477 observations with 2514 users and 416 items.</pre>"
            ],
            "text/plain": [
              "    Data has 7477 observations with 2514 users and 416 items."
            ]
          },
          "metadata": {
            "tags": []
          }
        },
        {
          "output_type": "display_data",
          "data": {
            "text/html": [
              "<pre>    Data prepared in: 0.029821s</pre>"
            ],
            "text/plain": [
              "    Data prepared in: 0.029821s"
            ]
          },
          "metadata": {
            "tags": []
          }
        },
        {
          "output_type": "display_data",
          "data": {
            "text/html": [
              "<pre>Training factorization_recommender for recommendations.</pre>"
            ],
            "text/plain": [
              "Training factorization_recommender for recommendations."
            ]
          },
          "metadata": {
            "tags": []
          }
        },
        {
          "output_type": "display_data",
          "data": {
            "text/html": [
              "<pre>+--------------------------------+--------------------------------------------------+----------+</pre>"
            ],
            "text/plain": [
              "+--------------------------------+--------------------------------------------------+----------+"
            ]
          },
          "metadata": {
            "tags": []
          }
        },
        {
          "output_type": "display_data",
          "data": {
            "text/html": [
              "<pre>| Parameter                      | Description                                      | Value    |</pre>"
            ],
            "text/plain": [
              "| Parameter                      | Description                                      | Value    |"
            ]
          },
          "metadata": {
            "tags": []
          }
        },
        {
          "output_type": "display_data",
          "data": {
            "text/html": [
              "<pre>+--------------------------------+--------------------------------------------------+----------+</pre>"
            ],
            "text/plain": [
              "+--------------------------------+--------------------------------------------------+----------+"
            ]
          },
          "metadata": {
            "tags": []
          }
        },
        {
          "output_type": "display_data",
          "data": {
            "text/html": [
              "<pre>| num_factors                    | Factor Dimension                                 | 30       |</pre>"
            ],
            "text/plain": [
              "| num_factors                    | Factor Dimension                                 | 30       |"
            ]
          },
          "metadata": {
            "tags": []
          }
        },
        {
          "output_type": "display_data",
          "data": {
            "text/html": [
              "<pre>| regularization                 | L2 Regularization on Factors                     | 1e-08    |</pre>"
            ],
            "text/plain": [
              "| regularization                 | L2 Regularization on Factors                     | 1e-08    |"
            ]
          },
          "metadata": {
            "tags": []
          }
        },
        {
          "output_type": "display_data",
          "data": {
            "text/html": [
              "<pre>| solver                         | Solver used for training                         | sgd      |</pre>"
            ],
            "text/plain": [
              "| solver                         | Solver used for training                         | sgd      |"
            ]
          },
          "metadata": {
            "tags": []
          }
        },
        {
          "output_type": "display_data",
          "data": {
            "text/html": [
              "<pre>| linear_regularization          | L2 Regularization on Linear Coefficients         | 0.0001   |</pre>"
            ],
            "text/plain": [
              "| linear_regularization          | L2 Regularization on Linear Coefficients         | 0.0001   |"
            ]
          },
          "metadata": {
            "tags": []
          }
        },
        {
          "output_type": "display_data",
          "data": {
            "text/html": [
              "<pre>| side_data_factorization        | Assign Factors for Side Data                     | True     |</pre>"
            ],
            "text/plain": [
              "| side_data_factorization        | Assign Factors for Side Data                     | True     |"
            ]
          },
          "metadata": {
            "tags": []
          }
        },
        {
          "output_type": "display_data",
          "data": {
            "text/html": [
              "<pre>| max_iterations                 | Maximum Number of Iterations                     | 10000    |</pre>"
            ],
            "text/plain": [
              "| max_iterations                 | Maximum Number of Iterations                     | 10000    |"
            ]
          },
          "metadata": {
            "tags": []
          }
        },
        {
          "output_type": "display_data",
          "data": {
            "text/html": [
              "<pre>+--------------------------------+--------------------------------------------------+----------+</pre>"
            ],
            "text/plain": [
              "+--------------------------------+--------------------------------------------------+----------+"
            ]
          },
          "metadata": {
            "tags": []
          }
        },
        {
          "output_type": "display_data",
          "data": {
            "text/html": [
              "<pre>  Optimizing model using SGD; tuning step size.</pre>"
            ],
            "text/plain": [
              "  Optimizing model using SGD; tuning step size."
            ]
          },
          "metadata": {
            "tags": []
          }
        },
        {
          "output_type": "display_data",
          "data": {
            "text/html": [
              "<pre>  Using 7477 / 7477 points for tuning the step size.</pre>"
            ],
            "text/plain": [
              "  Using 7477 / 7477 points for tuning the step size."
            ]
          },
          "metadata": {
            "tags": []
          }
        },
        {
          "output_type": "display_data",
          "data": {
            "text/html": [
              "<pre>+---------+-------------------+------------------------------------------+</pre>"
            ],
            "text/plain": [
              "+---------+-------------------+------------------------------------------+"
            ]
          },
          "metadata": {
            "tags": []
          }
        },
        {
          "output_type": "display_data",
          "data": {
            "text/html": [
              "<pre>| Attempt | Initial Step Size | Estimated Objective Value                |</pre>"
            ],
            "text/plain": [
              "| Attempt | Initial Step Size | Estimated Objective Value                |"
            ]
          },
          "metadata": {
            "tags": []
          }
        },
        {
          "output_type": "display_data",
          "data": {
            "text/html": [
              "<pre>+---------+-------------------+------------------------------------------+</pre>"
            ],
            "text/plain": [
              "+---------+-------------------+------------------------------------------+"
            ]
          },
          "metadata": {
            "tags": []
          }
        },
        {
          "output_type": "display_data",
          "data": {
            "text/html": [
              "<pre>| 0       | 3.57143           | Not Viable                               |</pre>"
            ],
            "text/plain": [
              "| 0       | 3.57143           | Not Viable                               |"
            ]
          },
          "metadata": {
            "tags": []
          }
        },
        {
          "output_type": "display_data",
          "data": {
            "text/html": [
              "<pre>| 1       | 0.892857          | Not Viable                               |</pre>"
            ],
            "text/plain": [
              "| 1       | 0.892857          | Not Viable                               |"
            ]
          },
          "metadata": {
            "tags": []
          }
        },
        {
          "output_type": "display_data",
          "data": {
            "text/html": [
              "<pre>| 2       | 0.223214          | Not Viable                               |</pre>"
            ],
            "text/plain": [
              "| 2       | 0.223214          | Not Viable                               |"
            ]
          },
          "metadata": {
            "tags": []
          }
        },
        {
          "output_type": "display_data",
          "data": {
            "text/html": [
              "<pre>| 3       | 0.0558036         | Not Viable                               |</pre>"
            ],
            "text/plain": [
              "| 3       | 0.0558036         | Not Viable                               |"
            ]
          },
          "metadata": {
            "tags": []
          }
        },
        {
          "output_type": "display_data",
          "data": {
            "text/html": [
              "<pre>| 4       | 0.0139509         | Not Viable                               |</pre>"
            ],
            "text/plain": [
              "| 4       | 0.0139509         | Not Viable                               |"
            ]
          },
          "metadata": {
            "tags": []
          }
        },
        {
          "output_type": "display_data",
          "data": {
            "text/html": [
              "<pre>| 5       | 0.00348772        | 0.186843                                 |</pre>"
            ],
            "text/plain": [
              "| 5       | 0.00348772        | 0.186843                                 |"
            ]
          },
          "metadata": {
            "tags": []
          }
        },
        {
          "output_type": "display_data",
          "data": {
            "text/html": [
              "<pre>| 6       | 0.00174386        | 0.242755                                 |</pre>"
            ],
            "text/plain": [
              "| 6       | 0.00174386        | 0.242755                                 |"
            ]
          },
          "metadata": {
            "tags": []
          }
        },
        {
          "output_type": "display_data",
          "data": {
            "text/html": [
              "<pre>| 7       | 0.000871931       | 0.205893                                 |</pre>"
            ],
            "text/plain": [
              "| 7       | 0.000871931       | 0.205893                                 |"
            ]
          },
          "metadata": {
            "tags": []
          }
        },
        {
          "output_type": "display_data",
          "data": {
            "text/html": [
              "<pre>| 8       | 0.000435965       | 0.218186                                 |</pre>"
            ],
            "text/plain": [
              "| 8       | 0.000435965       | 0.218186                                 |"
            ]
          },
          "metadata": {
            "tags": []
          }
        },
        {
          "output_type": "display_data",
          "data": {
            "text/html": [
              "<pre>+---------+-------------------+------------------------------------------+</pre>"
            ],
            "text/plain": [
              "+---------+-------------------+------------------------------------------+"
            ]
          },
          "metadata": {
            "tags": []
          }
        },
        {
          "output_type": "display_data",
          "data": {
            "text/html": [
              "<pre>| Final   | 0.00348772        | 0.186843                                 |</pre>"
            ],
            "text/plain": [
              "| Final   | 0.00348772        | 0.186843                                 |"
            ]
          },
          "metadata": {
            "tags": []
          }
        },
        {
          "output_type": "display_data",
          "data": {
            "text/html": [
              "<pre>+---------+-------------------+------------------------------------------+</pre>"
            ],
            "text/plain": [
              "+---------+-------------------+------------------------------------------+"
            ]
          },
          "metadata": {
            "tags": []
          }
        },
        {
          "output_type": "display_data",
          "data": {
            "text/html": [
              "<pre>Starting Optimization.</pre>"
            ],
            "text/plain": [
              "Starting Optimization."
            ]
          },
          "metadata": {
            "tags": []
          }
        },
        {
          "output_type": "display_data",
          "data": {
            "text/html": [
              "<pre>+---------+--------------+-------------------+-----------------------+-------------+</pre>"
            ],
            "text/plain": [
              "+---------+--------------+-------------------+-----------------------+-------------+"
            ]
          },
          "metadata": {
            "tags": []
          }
        },
        {
          "output_type": "display_data",
          "data": {
            "text/html": [
              "<pre>| Iter.   | Elapsed Time | Approx. Objective | Approx. Training RMSE | Step Size   |</pre>"
            ],
            "text/plain": [
              "| Iter.   | Elapsed Time | Approx. Objective | Approx. Training RMSE | Step Size   |"
            ]
          },
          "metadata": {
            "tags": []
          }
        },
        {
          "output_type": "display_data",
          "data": {
            "text/html": [
              "<pre>+---------+--------------+-------------------+-----------------------+-------------+</pre>"
            ],
            "text/plain": [
              "+---------+--------------+-------------------+-----------------------+-------------+"
            ]
          },
          "metadata": {
            "tags": []
          }
        },
        {
          "output_type": "display_data",
          "data": {
            "text/html": [
              "<pre>| Initial | 66us         | 0.290825          | 0.539282              |             |</pre>"
            ],
            "text/plain": [
              "| Initial | 66us         | 0.290825          | 0.539282              |             |"
            ]
          },
          "metadata": {
            "tags": []
          }
        },
        {
          "output_type": "display_data",
          "data": {
            "text/html": [
              "<pre>+---------+--------------+-------------------+-----------------------+-------------+</pre>"
            ],
            "text/plain": [
              "+---------+--------------+-------------------+-----------------------+-------------+"
            ]
          },
          "metadata": {
            "tags": []
          }
        },
        {
          "output_type": "display_data",
          "data": {
            "text/html": [
              "<pre>| 1       | 35.835ms     | 0.445399          | 0.667303              | 0.00348772  |</pre>"
            ],
            "text/plain": [
              "| 1       | 35.835ms     | 0.445399          | 0.667303              | 0.00348772  |"
            ]
          },
          "metadata": {
            "tags": []
          }
        },
        {
          "output_type": "display_data",
          "data": {
            "text/html": [
              "<pre>| 2       | 60.353ms     | 0.20351           | 0.450916              | 0.00207381  |</pre>"
            ],
            "text/plain": [
              "| 2       | 60.353ms     | 0.20351           | 0.450916              | 0.00207381  |"
            ]
          },
          "metadata": {
            "tags": []
          }
        },
        {
          "output_type": "display_data",
          "data": {
            "text/html": [
              "<pre>| 3       | 85.519ms     | 0.179757          | 0.423679              | 0.00153003  |</pre>"
            ],
            "text/plain": [
              "| 3       | 85.519ms     | 0.179757          | 0.423679              | 0.00153003  |"
            ]
          },
          "metadata": {
            "tags": []
          }
        },
        {
          "output_type": "display_data",
          "data": {
            "text/html": [
              "<pre>| 4       | 109.575ms    | 0.183785          | 0.428353              | 0.00103691  |</pre>"
            ],
            "text/plain": [
              "| 4       | 109.575ms    | 0.183785          | 0.428353              | 0.00103691  |"
            ]
          },
          "metadata": {
            "tags": []
          }
        },
        {
          "output_type": "display_data",
          "data": {
            "text/html": [
              "<pre>| 5       | 133.61ms     | 0.173808          | 0.416493              | 0.000737564 |</pre>"
            ],
            "text/plain": [
              "| 5       | 133.61ms     | 0.173808          | 0.416493              | 0.000737564 |"
            ]
          },
          "metadata": {
            "tags": []
          }
        },
        {
          "output_type": "display_data",
          "data": {
            "text/html": [
              "<pre>| 10      | 244.421ms    | 0.18765           | 0.432659              | 0.000184391 |</pre>"
            ],
            "text/plain": [
              "| 10      | 244.421ms    | 0.18765           | 0.432659              | 0.000184391 |"
            ]
          },
          "metadata": {
            "tags": []
          }
        },
        {
          "output_type": "display_data",
          "data": {
            "text/html": [
              "<pre>| 45      | 1.04s        | 0.20902           | 0.456626              | 6.19916e-08 |</pre>"
            ],
            "text/plain": [
              "| 45      | 1.04s        | 0.20902           | 0.456626              | 6.19916e-08 |"
            ]
          },
          "metadata": {
            "tags": []
          }
        },
        {
          "output_type": "display_data",
          "data": {
            "text/html": [
              "<pre>+---------+--------------+-------------------+-----------------------+-------------+</pre>"
            ],
            "text/plain": [
              "+---------+--------------+-------------------+-----------------------+-------------+"
            ]
          },
          "metadata": {
            "tags": []
          }
        },
        {
          "output_type": "display_data",
          "data": {
            "text/html": [
              "<pre>Optimization Complete: Convergence on objective within bounds.</pre>"
            ],
            "text/plain": [
              "Optimization Complete: Convergence on objective within bounds."
            ]
          },
          "metadata": {
            "tags": []
          }
        },
        {
          "output_type": "display_data",
          "data": {
            "text/html": [
              "<pre>Computing final objective value and training RMSE.</pre>"
            ],
            "text/plain": [
              "Computing final objective value and training RMSE."
            ]
          },
          "metadata": {
            "tags": []
          }
        },
        {
          "output_type": "display_data",
          "data": {
            "text/html": [
              "<pre>       Final objective value: 0.209018</pre>"
            ],
            "text/plain": [
              "       Final objective value: 0.209018"
            ]
          },
          "metadata": {
            "tags": []
          }
        },
        {
          "output_type": "display_data",
          "data": {
            "text/html": [
              "<pre>       Final training RMSE: 0.456624</pre>"
            ],
            "text/plain": [
              "       Final training RMSE: 0.456624"
            ]
          },
          "metadata": {
            "tags": []
          }
        }
      ]
    },
    {
      "cell_type": "code",
      "metadata": {
        "id": "9j3aabdxQDmy",
        "colab_type": "code",
        "outputId": "d76d5ced-5b34-4f1e-914d-4e89ab1a3255",
        "colab": {
          "base_uri": "https://localhost:8080/",
          "height": 34
        }
      },
      "source": [
        "model_test.evaluate_rmse(tc.SFrame(X_test_sc), 'score')['rmse_overall']"
      ],
      "execution_count": 154,
      "outputs": [
        {
          "output_type": "execute_result",
          "data": {
            "text/plain": [
              "0.6278645051011432"
            ]
          },
          "metadata": {
            "tags": []
          },
          "execution_count": 154
        }
      ]
    },
    {
      "cell_type": "code",
      "metadata": {
        "id": "zuHqipofPjTj",
        "colab_type": "code",
        "outputId": "7b9a057b-d7d3-45a8-8a88-74242f5fce9f",
        "colab": {
          "base_uri": "https://localhost:8080/",
          "height": 88
        }
      },
      "source": [
        "X_test_predict = model_test.predict(tc.SFrame(X_test_sc))\n",
        "X_test_predict"
      ],
      "execution_count": 155,
      "outputs": [
        {
          "output_type": "execute_result",
          "data": {
            "text/plain": [
              "dtype: float\n",
              "Rows: 3684\n",
              "[2.6905984330766164, 2.8601114113057857, 2.7918940043464318, 2.319329705265121, 2.1357769771548556, 2.9025544035440243, 2.8188326943521216, 2.580017042055787, 2.5909696382122362, 2.9335697900759845, 2.523565889221801, 2.845079943165595, 2.5866953783216884, 2.081084590994211, 2.716616410663218, 2.7736398807991667, 3.036613431305404, 3.333460000274619, 2.9961206008928953, 2.7298358638571627, 3.0550811285874757, 2.511981474943029, 2.7221852539600913, 3.238303569120248, 2.7301009871328543, 2.923315692726642, 2.7569195161637063, 2.796924519987538, 2.86819250929887, 3.007810316907465, 2.7881861526492084, 2.9953600396650955, 2.935046262444232, 2.513267041098634, 2.8995661003775433, 2.6146422967021703, 2.8465337900950543, 2.6809870849932502, 1.9744341046688465, 2.844657855622829, 2.5705266034949616, 2.6168205294899343, 2.8007978712616146, 2.617296583326835, 2.874665016507018, 2.7793630211918665, 3.280374578335099, 2.6219919608286104, 2.603344205592802, 2.680015717029882, 2.693613228730651, 2.389504835093834, 2.963150862345662, 2.8725098952126245, 3.3223944750927306, 2.7705742385764913, 2.883752319095359, 2.988847184464938, 2.642928549749053, 2.58725052154363, 2.588659470241336, 2.7884555259991513, 2.6434210828424174, 2.7012181270164466, 2.8187601667748443, 2.7883628600232333, 2.382804573615682, 2.682706056732529, 2.2793619571905617, 2.212438611527557, 2.728651266320371, 3.0728037998472244, 2.707039617273861, 3.038306103416438, 2.437221698852221, 2.781166847620405, 2.569392963979197, 2.1937873880621144, 2.968232044536257, 2.754066002761928, 2.589142737652817, 2.823319944827172, 3.0559791801110485, 2.580297206116831, 2.7256313798190797, 3.1128387995484275, 2.999974793577669, 2.9153542322290527, 2.794205554255204, 2.889580943810338, 2.8675042221507923, 2.755335597672968, 2.088901382292961, 2.4496137620242435, 2.742494060217293, 2.883442020079522, 2.5708754901566158, 2.568239523002873, 2.7159621005329355, 2.7939978390707436, ... ]"
            ]
          },
          "metadata": {
            "tags": []
          },
          "execution_count": 155
        }
      ]
    },
    {
      "cell_type": "code",
      "metadata": {
        "id": "YTUf--FOIdNe",
        "colab_type": "code",
        "colab": {}
      },
      "source": [
        "X_test_predict_conc = minmax.inverse_transform(X_test_predict.to_numpy().reshape(-1, 1))\n",
        "X_test_predict_conc = np.exp(X_test_predict_conc)    \n",
        "X_test_predict_conc = 1/X_test_predict_conc"
      ],
      "execution_count": 0,
      "outputs": []
    },
    {
      "cell_type": "code",
      "metadata": {
        "id": "Gc3loq8PPjZp",
        "colab_type": "code",
        "outputId": "3cd02b7e-bdd4-4562-9dc7-d95a1c0d90b8",
        "colab": {
          "base_uri": "https://localhost:8080/",
          "height": 34
        }
      },
      "source": [
        "sqrt(mean_squared_error(X_test_original.conc1_mean.values, X_test_predict_conc))"
      ],
      "execution_count": 157,
      "outputs": [
        {
          "output_type": "execute_result",
          "data": {
            "text/plain": [
              "2465.849261794647"
            ]
          },
          "metadata": {
            "tags": []
          },
          "execution_count": 157
        }
      ]
    },
    {
      "cell_type": "code",
      "metadata": {
        "id": "ocpzB_J1I_Bz",
        "colab_type": "code",
        "colab": {}
      },
      "source": [
        "def compute_absolute_intervals(X_real, X_pred_conc, pred_target=\"conc1_mean\"):\n",
        "    X_intervals = X_real.copy()\n",
        "    intervals = np.zeros(X_intervals.index.size)\n",
        "    prediction = np.zeros(X_intervals.index.size)\n",
        "    \n",
        "    for i, row in X_intervals.iterrows():\n",
        "        prediction[i] =  X_pred_conc[i]\n",
        "        intervals[i] = np.abs(row[pred_target] - prediction[i])\n",
        "        \n",
        "    X_intervals[\"prediction\"] = prediction   \n",
        "    X_intervals[\"intervals\"] = intervals\n",
        "    return X_intervals"
      ],
      "execution_count": 0,
      "outputs": []
    },
    {
      "cell_type": "code",
      "metadata": {
        "id": "UA5VxJ2uJL8H",
        "colab_type": "code",
        "outputId": "c5f56aad-5344-4515-c755-18b07b436541",
        "colab": {
          "base_uri": "https://localhost:8080/",
          "height": 204
        }
      },
      "source": [
        "X_intervals = compute_absolute_intervals(X_test_original, X_test_predict_conc)\n",
        "X_intervals.head()"
      ],
      "execution_count": 159,
      "outputs": [
        {
          "output_type": "execute_result",
          "data": {
            "text/html": [
              "<div>\n",
              "<style scoped>\n",
              "    .dataframe tbody tr th:only-of-type {\n",
              "        vertical-align: middle;\n",
              "    }\n",
              "\n",
              "    .dataframe tbody tr th {\n",
              "        vertical-align: top;\n",
              "    }\n",
              "\n",
              "    .dataframe thead th {\n",
              "        text-align: right;\n",
              "    }\n",
              "</style>\n",
              "<table border=\"1\" class=\"dataframe\">\n",
              "  <thead>\n",
              "    <tr style=\"text-align: right;\">\n",
              "      <th></th>\n",
              "      <th>test_cas</th>\n",
              "      <th>species</th>\n",
              "      <th>conc1_type</th>\n",
              "      <th>exposure_type</th>\n",
              "      <th>conc1_mean</th>\n",
              "      <th>score</th>\n",
              "      <th>prediction</th>\n",
              "      <th>intervals</th>\n",
              "    </tr>\n",
              "  </thead>\n",
              "  <tbody>\n",
              "    <tr>\n",
              "      <th>0</th>\n",
              "      <td>148</td>\n",
              "      <td>404</td>\n",
              "      <td>F</td>\n",
              "      <td>S</td>\n",
              "      <td>14400.00</td>\n",
              "      <td>0.000069</td>\n",
              "      <td>0.005742</td>\n",
              "      <td>14399.994258</td>\n",
              "    </tr>\n",
              "    <tr>\n",
              "      <th>1</th>\n",
              "      <td>1941</td>\n",
              "      <td>220</td>\n",
              "      <td>A</td>\n",
              "      <td>S</td>\n",
              "      <td>0.13</td>\n",
              "      <td>7.692308</td>\n",
              "      <td>0.004025</td>\n",
              "      <td>0.125975</td>\n",
              "    </tr>\n",
              "    <tr>\n",
              "      <th>2</th>\n",
              "      <td>1002</td>\n",
              "      <td>244</td>\n",
              "      <td>F</td>\n",
              "      <td>S</td>\n",
              "      <td>3.00</td>\n",
              "      <td>0.333333</td>\n",
              "      <td>0.004644</td>\n",
              "      <td>2.995356</td>\n",
              "    </tr>\n",
              "    <tr>\n",
              "      <th>3</th>\n",
              "      <td>1546</td>\n",
              "      <td>95</td>\n",
              "      <td>T</td>\n",
              "      <td>F</td>\n",
              "      <td>55.00</td>\n",
              "      <td>0.018182</td>\n",
              "      <td>0.012504</td>\n",
              "      <td>54.987496</td>\n",
              "    </tr>\n",
              "    <tr>\n",
              "      <th>4</th>\n",
              "      <td>633</td>\n",
              "      <td>316</td>\n",
              "      <td>F</td>\n",
              "      <td>S</td>\n",
              "      <td>465.00</td>\n",
              "      <td>0.002151</td>\n",
              "      <td>0.018370</td>\n",
              "      <td>464.981630</td>\n",
              "    </tr>\n",
              "  </tbody>\n",
              "</table>\n",
              "</div>"
            ],
            "text/plain": [
              "   test_cas  species conc1_type  ...     score  prediction     intervals\n",
              "0       148      404          F  ...  0.000069    0.005742  14399.994258\n",
              "1      1941      220          A  ...  7.692308    0.004025      0.125975\n",
              "2      1002      244          F  ...  0.333333    0.004644      2.995356\n",
              "3      1546       95          T  ...  0.018182    0.012504     54.987496\n",
              "4       633      316          F  ...  0.002151    0.018370    464.981630\n",
              "\n",
              "[5 rows x 8 columns]"
            ]
          },
          "metadata": {
            "tags": []
          },
          "execution_count": 159
        }
      ]
    },
    {
      "cell_type": "code",
      "metadata": {
        "id": "tH9oNlYQJXch",
        "colab_type": "code",
        "outputId": "d8cd6d46-9eca-4b92-fbc6-143c411261b5",
        "colab": {
          "base_uri": "https://localhost:8080/",
          "height": 282
        }
      },
      "source": [
        "X_intervals.intervals.hist()"
      ],
      "execution_count": 160,
      "outputs": [
        {
          "output_type": "execute_result",
          "data": {
            "text/plain": [
              "<matplotlib.axes._subplots.AxesSubplot at 0x7f8280251b70>"
            ]
          },
          "metadata": {
            "tags": []
          },
          "execution_count": 160
        },
        {
          "output_type": "display_data",
          "data": {
            "image/png": "[encoded data removed]",
            "text/plain": [
              "<Figure size 432x288 with 1 Axes>"
            ]
          },
          "metadata": {
            "tags": []
          }
        }
      ]
    },
    {
      "cell_type": "code",
      "metadata": {
        "id": "Qs_LU8hkJbHv",
        "colab_type": "code",
        "outputId": "2fe30be9-0490-4063-bccb-39c440550b0d",
        "colab": {
          "base_uri": "https://localhost:8080/",
          "height": 419
        }
      },
      "source": [
        "X_intervals[X_intervals.intervals > 1000]"
      ],
      "execution_count": 161,
      "outputs": [
        {
          "output_type": "execute_result",
          "data": {
            "text/html": [
              "<div>\n",
              "<style scoped>\n",
              "    .dataframe tbody tr th:only-of-type {\n",
              "        vertical-align: middle;\n",
              "    }\n",
              "\n",
              "    .dataframe tbody tr th {\n",
              "        vertical-align: top;\n",
              "    }\n",
              "\n",
              "    .dataframe thead th {\n",
              "        text-align: right;\n",
              "    }\n",
              "</style>\n",
              "<table border=\"1\" class=\"dataframe\">\n",
              "  <thead>\n",
              "    <tr style=\"text-align: right;\">\n",
              "      <th></th>\n",
              "      <th>test_cas</th>\n",
              "      <th>species</th>\n",
              "      <th>conc1_type</th>\n",
              "      <th>exposure_type</th>\n",
              "      <th>conc1_mean</th>\n",
              "      <th>score</th>\n",
              "      <th>prediction</th>\n",
              "      <th>intervals</th>\n",
              "    </tr>\n",
              "  </thead>\n",
              "  <tbody>\n",
              "    <tr>\n",
              "      <th>0</th>\n",
              "      <td>148</td>\n",
              "      <td>404</td>\n",
              "      <td>F</td>\n",
              "      <td>S</td>\n",
              "      <td>14400.00</td>\n",
              "      <td>0.000069</td>\n",
              "      <td>0.005742</td>\n",
              "      <td>14399.994258</td>\n",
              "    </tr>\n",
              "    <tr>\n",
              "      <th>58</th>\n",
              "      <td>1540</td>\n",
              "      <td>237</td>\n",
              "      <td>T</td>\n",
              "      <td>R</td>\n",
              "      <td>1100.00</td>\n",
              "      <td>0.000909</td>\n",
              "      <td>0.006346</td>\n",
              "      <td>1099.993654</td>\n",
              "    </tr>\n",
              "    <tr>\n",
              "      <th>139</th>\n",
              "      <td>357</td>\n",
              "      <td>7</td>\n",
              "      <td>F</td>\n",
              "      <td>S</td>\n",
              "      <td>10000.00</td>\n",
              "      <td>0.000100</td>\n",
              "      <td>0.008834</td>\n",
              "      <td>9999.991166</td>\n",
              "    </tr>\n",
              "    <tr>\n",
              "      <th>171</th>\n",
              "      <td>397</td>\n",
              "      <td>7</td>\n",
              "      <td>A</td>\n",
              "      <td>S</td>\n",
              "      <td>10000.00</td>\n",
              "      <td>0.000100</td>\n",
              "      <td>0.006816</td>\n",
              "      <td>9999.993184</td>\n",
              "    </tr>\n",
              "    <tr>\n",
              "      <th>184</th>\n",
              "      <td>1499</td>\n",
              "      <td>208</td>\n",
              "      <td>T</td>\n",
              "      <td>R</td>\n",
              "      <td>6136.97</td>\n",
              "      <td>0.000163</td>\n",
              "      <td>0.005652</td>\n",
              "      <td>6136.964348</td>\n",
              "    </tr>\n",
              "    <tr>\n",
              "      <th>...</th>\n",
              "      <td>...</td>\n",
              "      <td>...</td>\n",
              "      <td>...</td>\n",
              "      <td>...</td>\n",
              "      <td>...</td>\n",
              "      <td>...</td>\n",
              "      <td>...</td>\n",
              "      <td>...</td>\n",
              "    </tr>\n",
              "    <tr>\n",
              "      <th>3563</th>\n",
              "      <td>810</td>\n",
              "      <td>220</td>\n",
              "      <td>F</td>\n",
              "      <td>AQUA</td>\n",
              "      <td>3433.00</td>\n",
              "      <td>0.000291</td>\n",
              "      <td>0.002500</td>\n",
              "      <td>3432.997500</td>\n",
              "    </tr>\n",
              "    <tr>\n",
              "      <th>3634</th>\n",
              "      <td>1997</td>\n",
              "      <td>267</td>\n",
              "      <td>F</td>\n",
              "      <td>R</td>\n",
              "      <td>2300.00</td>\n",
              "      <td>0.000435</td>\n",
              "      <td>0.018229</td>\n",
              "      <td>2299.981771</td>\n",
              "    </tr>\n",
              "    <tr>\n",
              "      <th>3650</th>\n",
              "      <td>496</td>\n",
              "      <td>3</td>\n",
              "      <td>F</td>\n",
              "      <td>S</td>\n",
              "      <td>1400.00</td>\n",
              "      <td>0.000714</td>\n",
              "      <td>0.010398</td>\n",
              "      <td>1399.989602</td>\n",
              "    </tr>\n",
              "    <tr>\n",
              "      <th>3660</th>\n",
              "      <td>663</td>\n",
              "      <td>220</td>\n",
              "      <td>A</td>\n",
              "      <td>S</td>\n",
              "      <td>1115.00</td>\n",
              "      <td>0.000897</td>\n",
              "      <td>0.017535</td>\n",
              "      <td>1114.982465</td>\n",
              "    </tr>\n",
              "    <tr>\n",
              "      <th>3668</th>\n",
              "      <td>113</td>\n",
              "      <td>220</td>\n",
              "      <td>A</td>\n",
              "      <td>S</td>\n",
              "      <td>1850.00</td>\n",
              "      <td>0.000541</td>\n",
              "      <td>0.006001</td>\n",
              "      <td>1849.993999</td>\n",
              "    </tr>\n",
              "  </tbody>\n",
              "</table>\n",
              "<p>117 rows × 8 columns</p>\n",
              "</div>"
            ],
            "text/plain": [
              "      test_cas  species conc1_type  ...     score  prediction     intervals\n",
              "0          148      404          F  ...  0.000069    0.005742  14399.994258\n",
              "58        1540      237          T  ...  0.000909    0.006346   1099.993654\n",
              "139        357        7          F  ...  0.000100    0.008834   9999.991166\n",
              "171        397        7          A  ...  0.000100    0.006816   9999.993184\n",
              "184       1499      208          T  ...  0.000163    0.005652   6136.964348\n",
              "...        ...      ...        ...  ...       ...         ...           ...\n",
              "3563       810      220          F  ...  0.000291    0.002500   3432.997500\n",
              "3634      1997      267          F  ...  0.000435    0.018229   2299.981771\n",
              "3650       496        3          F  ...  0.000714    0.010398   1399.989602\n",
              "3660       663      220          A  ...  0.000897    0.017535   1114.982465\n",
              "3668       113      220          A  ...  0.000541    0.006001   1849.993999\n",
              "\n",
              "[117 rows x 8 columns]"
            ]
          },
          "metadata": {
            "tags": []
          },
          "execution_count": 161
        }
      ]
    },
    {
      "cell_type": "code",
      "metadata": {
        "id": "5VU8htZFhawI",
        "colab_type": "code",
        "colab": {
          "base_uri": "https://localhost:8080/",
          "height": 419
        },
        "outputId": "38ca21da-1703-40c2-db84-91630afe78e7"
      },
      "source": [
        "X_intervals.test_cas = enc_cas.inverse_transform(X_intervals.test_cas.values.reshape(-1,1))\n",
        "X_intervals.species = enc_species.inverse_transform(X_intervals.species.values.reshape(-1,1))\n",
        "X_intervals"
      ],
      "execution_count": 162,
      "outputs": [
        {
          "output_type": "execute_result",
          "data": {
            "text/html": [
              "<div>\n",
              "<style scoped>\n",
              "    .dataframe tbody tr th:only-of-type {\n",
              "        vertical-align: middle;\n",
              "    }\n",
              "\n",
              "    .dataframe tbody tr th {\n",
              "        vertical-align: top;\n",
              "    }\n",
              "\n",
              "    .dataframe thead th {\n",
              "        text-align: right;\n",
              "    }\n",
              "</style>\n",
              "<table border=\"1\" class=\"dataframe\">\n",
              "  <thead>\n",
              "    <tr style=\"text-align: right;\">\n",
              "      <th></th>\n",
              "      <th>test_cas</th>\n",
              "      <th>species</th>\n",
              "      <th>conc1_type</th>\n",
              "      <th>exposure_type</th>\n",
              "      <th>conc1_mean</th>\n",
              "      <th>score</th>\n",
              "      <th>prediction</th>\n",
              "      <th>intervals</th>\n",
              "    </tr>\n",
              "  </thead>\n",
              "  <tbody>\n",
              "    <tr>\n",
              "      <th>0</th>\n",
              "      <td>77996</td>\n",
              "      <td>variegatus</td>\n",
              "      <td>F</td>\n",
              "      <td>S</td>\n",
              "      <td>14400.0000</td>\n",
              "      <td>0.000069</td>\n",
              "      <td>0.005742</td>\n",
              "      <td>14399.994258</td>\n",
              "    </tr>\n",
              "    <tr>\n",
              "      <th>1</th>\n",
              "      <td>27554263</td>\n",
              "      <td>macrochirus</td>\n",
              "      <td>A</td>\n",
              "      <td>S</td>\n",
              "      <td>0.1300</td>\n",
              "      <td>7.692308</td>\n",
              "      <td>0.004025</td>\n",
              "      <td>0.125975</td>\n",
              "    </tr>\n",
              "    <tr>\n",
              "      <th>2</th>\n",
              "      <td>886500</td>\n",
              "      <td>melas</td>\n",
              "      <td>F</td>\n",
              "      <td>S</td>\n",
              "      <td>3.0000</td>\n",
              "      <td>0.333333</td>\n",
              "      <td>0.004644</td>\n",
              "      <td>2.995356</td>\n",
              "    </tr>\n",
              "    <tr>\n",
              "      <th>3</th>\n",
              "      <td>7778509</td>\n",
              "      <td>crysoleucas</td>\n",
              "      <td>T</td>\n",
              "      <td>F</td>\n",
              "      <td>55.0000</td>\n",
              "      <td>0.018182</td>\n",
              "      <td>0.012504</td>\n",
              "      <td>54.987496</td>\n",
              "    </tr>\n",
              "    <tr>\n",
              "      <th>4</th>\n",
              "      <td>129679</td>\n",
              "      <td>promelas</td>\n",
              "      <td>F</td>\n",
              "      <td>S</td>\n",
              "      <td>465.0000</td>\n",
              "      <td>0.002151</td>\n",
              "      <td>0.018370</td>\n",
              "      <td>464.981630</td>\n",
              "    </tr>\n",
              "    <tr>\n",
              "      <th>...</th>\n",
              "      <td>...</td>\n",
              "      <td>...</td>\n",
              "      <td>...</td>\n",
              "      <td>...</td>\n",
              "      <td>...</td>\n",
              "      <td>...</td>\n",
              "      <td>...</td>\n",
              "      <td>...</td>\n",
              "    </tr>\n",
              "    <tr>\n",
              "      <th>3679</th>\n",
              "      <td>1420048</td>\n",
              "      <td>reticulata</td>\n",
              "      <td>A</td>\n",
              "      <td>R</td>\n",
              "      <td>0.3900</td>\n",
              "      <td>2.564103</td>\n",
              "      <td>0.003351</td>\n",
              "      <td>0.386649</td>\n",
              "    </tr>\n",
              "    <tr>\n",
              "      <th>3680</th>\n",
              "      <td>101202</td>\n",
              "      <td>mykiss</td>\n",
              "      <td>F</td>\n",
              "      <td>S</td>\n",
              "      <td>0.1200</td>\n",
              "      <td>8.333333</td>\n",
              "      <td>0.003644</td>\n",
              "      <td>0.116356</td>\n",
              "    </tr>\n",
              "    <tr>\n",
              "      <th>3681</th>\n",
              "      <td>543908</td>\n",
              "      <td>mykiss</td>\n",
              "      <td>T</td>\n",
              "      <td>S</td>\n",
              "      <td>0.0062</td>\n",
              "      <td>161.290323</td>\n",
              "      <td>0.007494</td>\n",
              "      <td>0.001294</td>\n",
              "    </tr>\n",
              "    <tr>\n",
              "      <th>3682</th>\n",
              "      <td>154592208</td>\n",
              "      <td>melastigma</td>\n",
              "      <td>T</td>\n",
              "      <td>R</td>\n",
              "      <td>0.0082</td>\n",
              "      <td>121.951220</td>\n",
              "      <td>0.004241</td>\n",
              "      <td>0.003959</td>\n",
              "    </tr>\n",
              "    <tr>\n",
              "      <th>3683</th>\n",
              "      <td>100027</td>\n",
              "      <td>promelas</td>\n",
              "      <td>A</td>\n",
              "      <td>S</td>\n",
              "      <td>53.5000</td>\n",
              "      <td>0.018692</td>\n",
              "      <td>0.009590</td>\n",
              "      <td>53.490410</td>\n",
              "    </tr>\n",
              "  </tbody>\n",
              "</table>\n",
              "<p>3684 rows × 8 columns</p>\n",
              "</div>"
            ],
            "text/plain": [
              "       test_cas      species conc1_type  ...       score  prediction     intervals\n",
              "0         77996   variegatus          F  ...    0.000069    0.005742  14399.994258\n",
              "1      27554263  macrochirus          A  ...    7.692308    0.004025      0.125975\n",
              "2        886500        melas          F  ...    0.333333    0.004644      2.995356\n",
              "3       7778509  crysoleucas          T  ...    0.018182    0.012504     54.987496\n",
              "4        129679     promelas          F  ...    0.002151    0.018370    464.981630\n",
              "...         ...          ...        ...  ...         ...         ...           ...\n",
              "3679    1420048   reticulata          A  ...    2.564103    0.003351      0.386649\n",
              "3680     101202       mykiss          F  ...    8.333333    0.003644      0.116356\n",
              "3681     543908       mykiss          T  ...  161.290323    0.007494      0.001294\n",
              "3682  154592208   melastigma          T  ...  121.951220    0.004241      0.003959\n",
              "3683     100027     promelas          A  ...    0.018692    0.009590     53.490410\n",
              "\n",
              "[3684 rows x 8 columns]"
            ]
          },
          "metadata": {
            "tags": []
          },
          "execution_count": 162
        }
      ]
    },
    {
      "cell_type": "code",
      "metadata": {
        "id": "PLR1RbYnhqad",
        "colab_type": "code",
        "colab": {
          "base_uri": "https://localhost:8080/",
          "height": 80
        },
        "outputId": "9d777c16-3df1-46e1-e334-78e45bb6b673"
      },
      "source": [
        "base_db96[(base_db96.test_cas==77996) & (base_db96.species==\"variegatus\")]"
      ],
      "execution_count": 167,
      "outputs": [
        {
          "output_type": "execute_result",
          "data": {
            "text/html": [
              "<div>\n",
              "<style scoped>\n",
              "    .dataframe tbody tr th:only-of-type {\n",
              "        vertical-align: middle;\n",
              "    }\n",
              "\n",
              "    .dataframe tbody tr th {\n",
              "        vertical-align: top;\n",
              "    }\n",
              "\n",
              "    .dataframe thead th {\n",
              "        text-align: right;\n",
              "    }\n",
              "</style>\n",
              "<table border=\"1\" class=\"dataframe\">\n",
              "  <thead>\n",
              "    <tr style=\"text-align: right;\">\n",
              "      <th></th>\n",
              "      <th>test_cas</th>\n",
              "      <th>exposure_type</th>\n",
              "      <th>obs_duration_mean</th>\n",
              "      <th>conc1_type</th>\n",
              "      <th>conc1_mean</th>\n",
              "      <th>class</th>\n",
              "      <th>tax_order</th>\n",
              "      <th>family</th>\n",
              "      <th>genus</th>\n",
              "      <th>species</th>\n",
              "      <th>organism_lifestage</th>\n",
              "      <th>organism_characteristics</th>\n",
              "      <th>ecotox_group</th>\n",
              "    </tr>\n",
              "  </thead>\n",
              "  <tbody>\n",
              "    <tr>\n",
              "      <th>17013</th>\n",
              "      <td>77996</td>\n",
              "      <td>S</td>\n",
              "      <td>96.0</td>\n",
              "      <td>F</td>\n",
              "      <td>14400.0</td>\n",
              "      <td>Actinopterygii</td>\n",
              "      <td>Cyprinodontiformes</td>\n",
              "      <td>Cyprinodontidae</td>\n",
              "      <td>Cyprinodon</td>\n",
              "      <td>variegatus</td>\n",
              "      <td>NR</td>\n",
              "      <td>NR</td>\n",
              "      <td>Fish,Standard Test Species</td>\n",
              "    </tr>\n",
              "  </tbody>\n",
              "</table>\n",
              "</div>"
            ],
            "text/plain": [
              "       test_cas  ...                ecotox_group\n",
              "17013     77996  ...  Fish,Standard Test Species\n",
              "\n",
              "[1 rows x 13 columns]"
            ]
          },
          "metadata": {
            "tags": []
          },
          "execution_count": 167
        }
      ]
    },
    {
      "cell_type": "code",
      "metadata": {
        "id": "rVjBOktIh5WR",
        "colab_type": "code",
        "colab": {}
      },
      "source": [
        ""
      ],
      "execution_count": 0,
      "outputs": []
    }
  ]
}