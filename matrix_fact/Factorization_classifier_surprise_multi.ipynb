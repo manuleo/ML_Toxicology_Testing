{
 "cells": [
  {
   "cell_type": "code",
   "execution_count": 31,
   "metadata": {},
   "outputs": [],
   "source": [
    "import pandas as pd\n",
    "import numpy as np\n",
    "import matplotlib.pyplot as plt\n",
    "import seaborn as sns\n",
    "import re\n",
    "from sklearn.preprocessing import StandardScaler\n",
    "from sklearn.preprocessing import MinMaxScaler\n",
    "from sklearn.model_selection import KFold"
   ]
  },
  {
   "cell_type": "code",
   "execution_count": 32,
   "metadata": {},
   "outputs": [],
   "source": [
    "from sklearn.model_selection import train_test_split\n",
    "from sklearn.neighbors import KNeighborsClassifier\n",
    "from sklearn.metrics import accuracy_score\n",
    "from sklearn.ensemble import RandomForestClassifier\n",
    "from sklearn.ensemble import GradientBoostingClassifier\n",
    "from sklearn.model_selection import GridSearchCV\n",
    "from sklearn.preprocessing import OrdinalEncoder\n",
    "from scipy.stats import boxcox\n",
    "from tqdm.notebook import tqdm"
   ]
  },
  {
   "cell_type": "code",
   "execution_count": 33,
   "metadata": {},
   "outputs": [],
   "source": [
    "from surprise import SVD\n",
    "from surprise import Dataset\n",
    "from surprise.model_selection import cross_validate\n",
    "from surprise import Reader\n",
    "import os\n",
    "from surprise import accuracy\n",
    "import numpy as np\n",
    "from surprise.model_selection import RandomizedSearchCV\n",
    "from surprise.model_selection import GridSearchCV\n"
   ]
  },
  {
   "cell_type": "code",
   "execution_count": 34,
   "metadata": {},
   "outputs": [],
   "source": [
    "plt.rcParams['figure.figsize'] = (15, 8)"
   ]
  },
  {
   "cell_type": "code",
   "execution_count": 35,
   "metadata": {},
   "outputs": [],
   "source": [
    "base_db = pd.read_csv(\"../output/base_db.csv\").drop(columns=\"Unnamed: 0\")"
   ]
  },
  {
   "cell_type": "markdown",
   "metadata": {},
   "source": [
    "# Matrix factorization"
   ]
  },
  {
   "cell_type": "code",
   "execution_count": 36,
   "metadata": {},
   "outputs": [],
   "source": [
    "# function to compute RMSE (needs correct matrices)\n",
    "def compute_rmse(X_real, X_predict, pred_target = \"score\"):\n",
    "    # total rmse on seen data\n",
    "    dim = X_real.index.size\n",
    "    s = 0\n",
    "    for _, row in X_real.iterrows():\n",
    "        s+=0.5*(row[pred_target] - X_predict[int(row.test_cas), int(row.species)])**2\n",
    "    rmse = np.sqrt(s/dim)\n",
    "    return rmse"
   ]
  },
  {
   "cell_type": "code",
   "execution_count": 37,
   "metadata": {},
   "outputs": [],
   "source": [
    "def compute_absolute_intervals(X_real, X_pred_conc, pred_target=\"conc1_mean\"):\n",
    "    X_intervals = X_real.copy()\n",
    "    intervals = np.zeros(X_intervals.index.size)\n",
    "    prediction = np.zeros(X_intervals.index.size)\n",
    "    \n",
    "    for i, row in X_intervals.iterrows():\n",
    "        prediction[i] =  X_pred_conc[int(row.test_cas), int(row.species)]\n",
    "        intervals[i] = np.abs(row[pred_target] - prediction[i])\n",
    "        \n",
    "    X_intervals[\"prediction\"] = prediction   \n",
    "    X_intervals[\"intervals\"] = intervals\n",
    "    return X_intervals"
   ]
  },
  {
   "cell_type": "markdown",
   "metadata": {},
   "source": [
    "# CONSIDERING ONLY 96 H"
   ]
  },
  {
   "cell_type": "code",
   "execution_count": 38,
   "metadata": {},
   "outputs": [],
   "source": [
    "X_original = base_db.copy()\n",
    "X_original = X_original[[\"test_cas\", \"species\", \"conc1_mean\", \"obs_duration_mean\"]]"
   ]
  },
  {
   "cell_type": "code",
   "execution_count": 39,
   "metadata": {},
   "outputs": [],
   "source": [
    "X_original = X_original[X_original.obs_duration_mean==96]"
   ]
  },
  {
   "cell_type": "code",
   "execution_count": 40,
   "metadata": {},
   "outputs": [
    {
     "data": {
      "image/png": "[encoded data removed]",
      "text/plain": [
       "<Figure size 1080x576 with 1 Axes>"
      ]
     },
     "metadata": {
      "needs_background": "light"
     },
     "output_type": "display_data"
    }
   ],
   "source": [
    "# plotting the distribution of conc inside this case\n",
    "X_original.conc1_mean.hist(bins=100)\n",
    "#plt.yscale('log')\n",
    "plt.xlabel(\"Conc\")\n",
    "plt.ylabel(\"Count\");"
   ]
  },
  {
   "cell_type": "code",
   "execution_count": 41,
   "metadata": {},
   "outputs": [],
   "source": [
    "X_original = X_original.groupby(by=[\"test_cas\", \"species\"]).agg(\"median\").reset_index()"
   ]
  },
  {
   "cell_type": "code",
   "execution_count": 43,
   "metadata": {},
   "outputs": [],
   "source": [
    "def scores_cat(x):\n",
    "    if (x < 10**-1):\n",
    "        return 5\n",
    "    # elif ((x>=10**-2) and (x<10**-1)):\n",
    "    #     return 6\n",
    "    elif ((x>=10**-1) and (x<10**0)):\n",
    "        return 4\n",
    "    elif ((x>=10**0) and (x<10**1)):\n",
    "        return 3\n",
    "    elif ((x>=10**1) and (x<10**2)):\n",
    "        return 2\n",
    "    # elif ((x>=10**2) and (x<10**3)):\n",
    "    #     return 2\n",
    "    else:\n",
    "        return 1"
   ]
  },
  {
   "cell_type": "code",
   "execution_count": 44,
   "metadata": {},
   "outputs": [],
   "source": [
    "X_original[\"score\"] = X_original.conc1_mean.apply(lambda x: scores_cat(x))"
   ]
  },
  {
   "cell_type": "code",
   "execution_count": 45,
   "metadata": {},
   "outputs": [
    {
     "data": {
      "text/plain": [
       "3    2204\n",
       "2    1977\n",
       "4    1590\n",
       "1    1561\n",
       "5    1468\n",
       "Name: score, dtype: int64"
      ]
     },
     "execution_count": 45,
     "metadata": {},
     "output_type": "execute_result"
    }
   ],
   "source": [
    "X_original.score.value_counts()"
   ]
  },
  {
   "cell_type": "code",
   "execution_count": 46,
   "metadata": {},
   "outputs": [],
   "source": [
    "enc = OrdinalEncoder(dtype=int)\n",
    "enc.fit(X_original[[\"test_cas\", \"species\"]])\n",
    "X_original[[\"test_cas\", \"species\"]] = enc.transform(X_original[[\"test_cas\", \"species\"]])\n",
    "X_fact_scored = X_original.drop(columns=[\"conc1_mean\", \"obs_duration_mean\"]).reset_index(drop=True)"
   ]
  },
  {
   "cell_type": "code",
   "execution_count": 47,
   "metadata": {},
   "outputs": [],
   "source": [
    "X_train_original, X_test_original, X_train_scored, X_test_scored = train_test_split(X_original, X_fact_scored, test_size=0.33)"
   ]
  },
  {
   "cell_type": "code",
   "execution_count": 48,
   "metadata": {},
   "outputs": [],
   "source": [
    "X_train_original = X_train_original.reset_index(drop=True)\n",
    "X_test_original = X_test_original.reset_index(drop=True)\n",
    "X_train_scored = X_train_scored.reset_index(drop=True)\n",
    "X_test_scored = X_test_scored.reset_index(drop=True)"
   ]
  },
  {
   "cell_type": "code",
   "execution_count": 49,
   "metadata": {},
   "outputs": [
    {
     "data": {
      "text/html": [
       "<div>\n",
       "<style scoped>\n",
       "    .dataframe tbody tr th:only-of-type {\n",
       "        vertical-align: middle;\n",
       "    }\n",
       "\n",
       "    .dataframe tbody tr th {\n",
       "        vertical-align: top;\n",
       "    }\n",
       "\n",
       "    .dataframe thead th {\n",
       "        text-align: right;\n",
       "    }\n",
       "</style>\n",
       "<table border=\"1\" class=\"dataframe\">\n",
       "  <thead>\n",
       "    <tr style=\"text-align: right;\">\n",
       "      <th></th>\n",
       "      <th>test_cas</th>\n",
       "      <th>species</th>\n",
       "      <th>score</th>\n",
       "    </tr>\n",
       "  </thead>\n",
       "  <tbody>\n",
       "    <tr>\n",
       "      <td>0</td>\n",
       "      <td>28</td>\n",
       "      <td>316</td>\n",
       "      <td>3</td>\n",
       "    </tr>\n",
       "    <tr>\n",
       "      <td>1</td>\n",
       "      <td>2414</td>\n",
       "      <td>404</td>\n",
       "      <td>2</td>\n",
       "    </tr>\n",
       "    <tr>\n",
       "      <td>2</td>\n",
       "      <td>1484</td>\n",
       "      <td>278</td>\n",
       "      <td>3</td>\n",
       "    </tr>\n",
       "    <tr>\n",
       "      <td>3</td>\n",
       "      <td>576</td>\n",
       "      <td>316</td>\n",
       "      <td>2</td>\n",
       "    </tr>\n",
       "    <tr>\n",
       "      <td>4</td>\n",
       "      <td>357</td>\n",
       "      <td>7</td>\n",
       "      <td>1</td>\n",
       "    </tr>\n",
       "    <tr>\n",
       "      <td>...</td>\n",
       "      <td>...</td>\n",
       "      <td>...</td>\n",
       "      <td>...</td>\n",
       "    </tr>\n",
       "    <tr>\n",
       "      <td>5891</td>\n",
       "      <td>1479</td>\n",
       "      <td>341</td>\n",
       "      <td>4</td>\n",
       "    </tr>\n",
       "    <tr>\n",
       "      <td>5892</td>\n",
       "      <td>1703</td>\n",
       "      <td>267</td>\n",
       "      <td>4</td>\n",
       "    </tr>\n",
       "    <tr>\n",
       "      <td>5893</td>\n",
       "      <td>426</td>\n",
       "      <td>138</td>\n",
       "      <td>1</td>\n",
       "    </tr>\n",
       "    <tr>\n",
       "      <td>5894</td>\n",
       "      <td>633</td>\n",
       "      <td>220</td>\n",
       "      <td>1</td>\n",
       "    </tr>\n",
       "    <tr>\n",
       "      <td>5895</td>\n",
       "      <td>2001</td>\n",
       "      <td>267</td>\n",
       "      <td>2</td>\n",
       "    </tr>\n",
       "  </tbody>\n",
       "</table>\n",
       "<p>5896 rows × 3 columns</p>\n",
       "</div>"
      ],
      "text/plain": [
       "      test_cas  species  score\n",
       "0           28      316      3\n",
       "1         2414      404      2\n",
       "2         1484      278      3\n",
       "3          576      316      2\n",
       "4          357        7      1\n",
       "...        ...      ...    ...\n",
       "5891      1479      341      4\n",
       "5892      1703      267      4\n",
       "5893       426      138      1\n",
       "5894       633      220      1\n",
       "5895      2001      267      2\n",
       "\n",
       "[5896 rows x 3 columns]"
      ]
     },
     "execution_count": 49,
     "metadata": {},
     "output_type": "execute_result"
    }
   ],
   "source": [
    "X_train_scored"
   ]
  },
  {
   "cell_type": "code",
   "execution_count": 58,
   "metadata": {},
   "outputs": [
    {
     "data": {
      "text/plain": [
       "2.3631184313822797"
      ]
     },
     "execution_count": 58,
     "metadata": {},
     "output_type": "execute_result"
    }
   ],
   "source": [
    "X_predict_class[2414, 404]"
   ]
  },
  {
   "cell_type": "markdown",
   "metadata": {},
   "source": [
    "## First test as classifier without parameters tuning"
   ]
  },
  {
   "cell_type": "code",
   "execution_count": 53,
   "metadata": {},
   "outputs": [],
   "source": [
    "fact = SVD()\n",
    "cas = X_original.test_cas.max()\n",
    "species = X_original.species.max()\n",
    "\n",
    "X_train_scored.to_csv(\"../output/score_matrix_train_classifier_multi.csv\", header=True, index=False)\n",
    "\n",
    "# surprise\n",
    "file_path = os.path.expanduser(\"../output/score_matrix_train_classifier_multi.csv\")\n",
    "reader = Reader(sep=\",\", skip_lines=1, rating_scale=(1, 5))\n",
    "data = Dataset.load_from_file(file_path, reader)\n",
    "#data = Dataset.load_from_df(X_train_scored, reader)\n",
    "\n",
    "\n",
    "train = data.build_full_trainset()\n",
    "fact.fit(train)\n",
    "\n",
    "# predict both on train and test\n",
    "X_predict_class = np.zeros((cas+1, species+1))\n",
    "for d in range(0, cas+1):\n",
    "    for n in range(0, species+1):\n",
    "        X_predict_class[d,n] = fact.predict(str(d),str(n))[3]"
   ]
  },
  {
   "cell_type": "code",
   "execution_count": 59,
   "metadata": {},
   "outputs": [],
   "source": [
    "X_predict_class = np.rint(X_predict_class)"
   ]
  },
  {
   "cell_type": "code",
   "execution_count": 60,
   "metadata": {},
   "outputs": [],
   "source": [
    "def accuracy_sparse(X_real, X_predict):\n",
    "    dim = X_real.index.size\n",
    "    s = 0\n",
    "    for _, row in X_real.iterrows():\n",
    "        if row.score==X_predict[row.test_cas, row.species]:\n",
    "            s+=1\n",
    "    accuracy = s/dim\n",
    "    return accuracy"
   ]
  },
  {
   "cell_type": "code",
   "execution_count": 61,
   "metadata": {},
   "outputs": [],
   "source": [
    "acc_train = accuracy_sparse(X_train_scored, X_predict_class)"
   ]
  },
  {
   "cell_type": "code",
   "execution_count": 62,
   "metadata": {},
   "outputs": [
    {
     "data": {
      "text/plain": [
       "0.5958276797829036"
      ]
     },
     "execution_count": 62,
     "metadata": {},
     "output_type": "execute_result"
    }
   ],
   "source": [
    "acc_train"
   ]
  },
  {
   "cell_type": "code",
   "execution_count": 63,
   "metadata": {},
   "outputs": [],
   "source": [
    "acc_test = accuracy_sparse(X_test_scored, X_predict_class)"
   ]
  },
  {
   "cell_type": "code",
   "execution_count": 64,
   "metadata": {},
   "outputs": [
    {
     "data": {
      "text/plain": [
       "0.3753443526170799"
      ]
     },
     "execution_count": 64,
     "metadata": {},
     "output_type": "execute_result"
    }
   ],
   "source": [
    "acc_test"
   ]
  },
  {
   "cell_type": "markdown",
   "metadata": {},
   "source": [
    "## Implementing CV based on accuracy\n",
    "- Split in 5 folds using sklearn\n",
    "- Using built-in surprise CV to select best params\n",
    "- Compute RMSE over test set (RMSE over transformed matrix -> dealing again with concentrations)\n",
    "- Average RMSEs\n",
    "- Best RMSE: save it"
   ]
  },
  {
   "cell_type": "code",
   "execution_count": 65,
   "metadata": {},
   "outputs": [],
   "source": [
    "def cv_factorization(X_real_scored, lr_alls, reg_alls, n_factors, cv = 3):\n",
    "    best_lr = 0\n",
    "    best_reg = 0\n",
    "    best_factors = 0\n",
    "    best_acc = 0\n",
    "    cas = X_real_scored.test_cas.max()\n",
    "    species = X_real_scored.species.max()\n",
    "    \n",
    "    for factor in tqdm(n_factors):\n",
    "        for reg in reg_alls:\n",
    "            for lr in lr_alls:\n",
    "            \n",
    "                kf = KFold(n_splits=cv, shuffle=True)\n",
    "        \n",
    "                accs = []\n",
    "                params = []\n",
    "\n",
    "                for train_index, test_index in kf.split(X_real_scored):\n",
    "\n",
    "                    X_real_scored.loc[train_index].to_csv(\"../output/acc_matrix_cv.csv\", header=True, index=False)\n",
    "\n",
    "                    # surprise\n",
    "                    file_path = os.path.expanduser(\"../output/acc_matrix_cv.csv\")\n",
    "                    reader = Reader(sep=\",\", skip_lines=1, rating_scale=(1, 5))\n",
    "                    data = Dataset.load_from_file(file_path, reader)\n",
    "                    train = data.build_full_trainset()\n",
    "\n",
    "                    fact = SVD(n_factors = factor, lr_all = lr, reg_all = reg)\n",
    "                    fact.fit(train)\n",
    "\n",
    "                    # accuracy\n",
    "                    X_test = X_real_scored.loc[test_index].copy()\n",
    "                    dim = X_test.index.size\n",
    "                    s = 0\n",
    "                    for _, row in X_test.iterrows():\n",
    "                        pred = fact.predict(str(row.test_cas),str(row.species))[3]\n",
    "                        pred = np.rint(pred)\n",
    "                        if row.score==pred:\n",
    "                            s+=1\n",
    "                    acc = s/dim\n",
    "                    accs.append(acc)\n",
    "\n",
    "                avg_acc = np.mean(accs)\n",
    "                \n",
    "                if (avg_acc > best_acc):\n",
    "                    print(\"New best factor found:\", factor)\n",
    "                    print(\"New best reg found:\", reg)\n",
    "                    print(\"New best lr found:\", lr)\n",
    "                    print(\"New best acc\", avg_acc)\n",
    "                    best_acc = avg_acc\n",
    "                    best_lr = lr\n",
    "                    best_reg = reg\n",
    "                    best_factors = factor\n",
    "\n",
    "    return best_acc, best_lr, best_reg, best_factors"
   ]
  },
  {
   "cell_type": "code",
   "execution_count": 66,
   "metadata": {},
   "outputs": [
    {
     "data": {
      "application/vnd.jupyter.widget-view+json": {
       "model_id": "4db7bcbb2ad24feaba1c9744d566410a",
       "version_major": 2,
       "version_minor": 0
      },
      "text/plain": [
       "HBox(children=(IntProgress(value=0, max=6), HTML(value='')))"
      ]
     },
     "metadata": {},
     "output_type": "display_data"
    },
    {
     "name": "stdout",
     "output_type": "stream",
     "text": [
      "New best factor found: 5\n",
      "New best reg found: 1e-08\n",
      "New best lr found: 1e-08\n",
      "New best acc 0.25423997611645643\n",
      "New best factor found: 5\n",
      "New best reg found: 1e-08\n",
      "New best lr found: 1.389495494373136e-07\n",
      "New best acc 0.2542417018060204\n",
      "New best factor found: 5\n",
      "New best reg found: 1e-08\n",
      "New best lr found: 2.6826957952797274e-05\n",
      "New best acc 0.254242392081846\n",
      "New best factor found: 5\n",
      "New best reg found: 1e-08\n",
      "New best lr found: 0.0001\n",
      "New best acc 0.25508944680432494\n",
      "New best factor found: 5\n",
      "New best reg found: 1e-08\n",
      "New best lr found: 0.0003727593720314938\n",
      "New best acc 0.2617033246272295\n",
      "New best factor found: 5\n",
      "New best reg found: 1e-08\n",
      "New best lr found: 0.001389495494373136\n",
      "New best acc 0.2783259430677756\n",
      "New best factor found: 5\n",
      "New best reg found: 1e-08\n",
      "New best lr found: 0.005179474679231202\n",
      "New best acc 0.35057745887034636\n",
      "New best factor found: 5\n",
      "New best reg found: 1e-08\n",
      "New best lr found: 0.019306977288832496\n",
      "New best acc 0.4347009423127864\n",
      "New best factor found: 5\n",
      "New best reg found: 1e-08\n",
      "New best lr found: 0.07196856730011514\n",
      "New best acc 0.4411451848515519\n",
      "New best factor found: 5\n",
      "New best reg found: 3.7275937203149377e-08\n",
      "New best lr found: 0.07196856730011514\n",
      "New best acc 0.4425055459348362\n",
      "New best factor found: 5\n",
      "New best reg found: 1.389495494373136e-07\n",
      "New best lr found: 0.07196856730011514\n",
      "New best acc 0.4453860669550294\n",
      "New best factor found: 5\n",
      "New best reg found: 5.179474679231213e-07\n",
      "New best lr found: 0.07196856730011514\n",
      "New best acc 0.44775863125206544\n",
      "New best factor found: 5\n",
      "New best reg found: 7.196856730011514e-06\n",
      "New best lr found: 0.07196856730011514\n",
      "New best acc 0.44843751752653466\n",
      "New best factor found: 5\n",
      "New best reg found: 0.019306977288832496\n",
      "New best lr found: 0.07196856730011514\n",
      "New best acc 0.455731403322125\n",
      "New best factor found: 5\n",
      "New best reg found: 0.07196856730011514\n",
      "New best lr found: 0.07196856730011514\n",
      "New best acc 0.45946346585766334\n",
      "\n"
     ]
    }
   ],
   "source": [
    "factors = range(5, 61, 10)\n",
    "lr_alls = np.logspace(-8, 0, 15)\n",
    "reg_alls = np.logspace(-8, 0, 15)\n",
    "best_acc, best_lr, best_reg, best_factors = cv_factorization(X_train_scored, lr_alls, reg_alls, factors, cv=3)"
   ]
  },
  {
   "cell_type": "markdown",
   "metadata": {},
   "source": [
    "## Best params up to now"
   ]
  },
  {
   "cell_type": "code",
   "execution_count": 119,
   "metadata": {},
   "outputs": [],
   "source": [
    "# best_lr = 0.07196856730011514\n",
    "# best_reg = 0.07196856730011514\n",
    "# best_factors = 35"
   ]
  },
  {
   "cell_type": "markdown",
   "metadata": {},
   "source": [
    "**Test on previous defined test set**"
   ]
  },
  {
   "cell_type": "code",
   "execution_count": 125,
   "metadata": {},
   "outputs": [],
   "source": [
    "fact = SVD(n_factors=best_factors, lr_all = best_lr, reg_all = best_reg)\n",
    "cas = X_original.test_cas.max()\n",
    "species = X_original.species.max()\n",
    "\n",
    "X_train_scored.to_csv(\"../output/score_matrix_train_classifier.csv\", header=True, index=False)\n",
    "\n",
    "# surprise\n",
    "file_path = os.path.expanduser(\"../output/score_matrix_train_classifier.csv\")\n",
    "reader = Reader(sep=\",\", skip_lines=1, rating_scale=(0, 1))\n",
    "data = Dataset.load_from_file(file_path, reader)\n",
    "#data = Dataset.load_from_df(X_train_scored, reader)\n",
    "\n",
    "\n",
    "train = data.build_full_trainset()\n",
    "fact.fit(train)\n",
    "\n",
    "# predict both on train and test\n",
    "X_predict_class = np.zeros((cas+1, species+1))\n",
    "for d in range(0, cas+1):\n",
    "    for n in range(0, species+1):\n",
    "        X_predict_class[d,n] = fact.predict(str(d),str(n))[3]"
   ]
  },
  {
   "cell_type": "code",
   "execution_count": 126,
   "metadata": {},
   "outputs": [
    {
     "name": "stdout",
     "output_type": "stream",
     "text": [
      "Acc. Train: 0.9581071913161465\n",
      "Acc. Test: 0.8588154269972452\n"
     ]
    }
   ],
   "source": [
    "X_predict_class = np.where(X_predict_class>=0.5, 1, 0)\n",
    "acc_train = accuracy_sparse(X_train_scored, X_predict_class)\n",
    "print(\"Acc. Train:\", acc_train)\n",
    "acc_test = accuracy_sparse(X_test_scored, X_predict_class)\n",
    "print(\"Acc. Test:\", acc_test)"
   ]
  },
  {
   "cell_type": "code",
   "execution_count": null,
   "metadata": {},
   "outputs": [],
   "source": []
  }
 ],
 "metadata": {
  "kernelspec": {
   "display_name": "Python 3",
   "language": "python",
   "name": "python3"
  },
  "language_info": {
   "codemirror_mode": {
    "name": "ipython",
    "version": 3
   },
   "file_extension": ".py",
   "mimetype": "text/x-python",
   "name": "python",
   "nbconvert_exporter": "python",
   "pygments_lexer": "ipython3",
   "version": "3.7.4"
  },
  "latex_envs": {
   "LaTeX_envs_menu_present": true,
   "autoclose": false,
   "autocomplete": true,
   "bibliofile": "biblio.bib",
   "cite_by": "apalike",
   "current_citInitial": 1,
   "eqLabelWithNumbers": true,
   "eqNumInitial": 1,
   "hotkeys": {
    "equation": "Ctrl-E",
    "itemize": "Ctrl-I"
   },
   "labels_anchors": false,
   "latex_user_defs": false,
   "report_style_numbering": false,
   "user_envs_cfg": false
  },
  "varInspector": {
   "cols": {
    "lenName": 16,
    "lenType": 16,
    "lenVar": 40
   },
   "kernels_config": {
    "python": {
     "delete_cmd_postfix": "",
     "delete_cmd_prefix": "del ",
     "library": "var_list.py",
     "varRefreshCmd": "print(var_dic_list())"
    },
    "r": {
     "delete_cmd_postfix": ") ",
     "delete_cmd_prefix": "rm(",
     "library": "var_list.r",
     "varRefreshCmd": "cat(var_dic_list()) "
    }
   },
   "types_to_exclude": [
    "module",
    "function",
    "builtin_function_or_method",
    "instance",
    "_Feature"
   ],
   "window_display": false
  }
 },
 "nbformat": 4,
 "nbformat_minor": 4
}
