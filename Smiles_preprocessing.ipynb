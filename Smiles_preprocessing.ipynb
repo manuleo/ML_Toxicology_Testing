{
 "cells": [
  {
   "cell_type": "code",
   "execution_count": 23,
   "metadata": {},
   "outputs": [],
   "source": [
    "import pandas as pd\n",
    "import numpy as np\n",
    "import matplotlib.pyplot as plt\n",
    "#import seaborn as sns\n",
    "import re\n",
    "from sklearn.preprocessing import StandardScaler\n",
    "from sklearn.preprocessing import MinMaxScaler\n",
    "from sklearn.model_selection import train_test_split\n",
    "from sklearn.preprocessing import OrdinalEncoder\n",
    "from sklearn.neighbors import KNeighborsClassifier\n",
    "from sklearn import linear_model\n",
    "from sklearn.metrics import accuracy_score\n",
    "from sklearn.ensemble import RandomForestClassifier\n",
    "from sklearn.metrics import accuracy_score\n",
    "from sklearn.ensemble import GradientBoostingClassifier\n",
    "from sklearn.model_selection import GridSearchCV"
   ]
  },
  {
   "cell_type": "markdown",
   "metadata": {},
   "source": [
    "## Preprocessing on base_db"
   ]
  },
  {
   "cell_type": "code",
   "execution_count": 24,
   "metadata": {},
   "outputs": [],
   "source": [
    "base_db = pd.read_csv('output/base_db_smiles.csv')"
   ]
  },
  {
   "cell_type": "code",
   "execution_count": 25,
   "metadata": {},
   "outputs": [
    {
     "data": {
      "text/plain": [
       "Index(['Unnamed: 0', 'test_cas', 'exposure_type', 'obs_duration_mean',\n",
       "       'conc1_type', 'conc1_mean', 'class', 'tax_order', 'family', 'genus',\n",
       "       'species', 'organism_lifestage', 'organism_characteristics',\n",
       "       'ecotox_group', 'smiles', 'atom_number', 'bonds_number', 'ring_numer',\n",
       "       'Mol', 'MorganDensity', 'LogP'],\n",
       "      dtype='object')"
      ]
     },
     "execution_count": 25,
     "metadata": {},
     "output_type": "execute_result"
    }
   ],
   "source": [
    "base_db.columns"
   ]
  },
  {
   "cell_type": "code",
   "execution_count": 26,
   "metadata": {},
   "outputs": [],
   "source": [
    "use_db = base_db.copy()\n",
    "use_db = use_db[['test_cas', 'exposure_type', 'obs_duration_mean', 'conc1_type',\n",
    "       'conc1_mean', 'class', 'tax_order', 'family', 'genus', 'species','atom_number', 'bonds_number', 'ring_numer',\n",
    "       'Mol', 'MorganDensity', 'LogP']]"
   ]
  },
  {
   "cell_type": "code",
   "execution_count": 27,
   "metadata": {},
   "outputs": [
    {
     "data": {
      "text/html": [
       "<div>\n",
       "<style scoped>\n",
       "    .dataframe tbody tr th:only-of-type {\n",
       "        vertical-align: middle;\n",
       "    }\n",
       "\n",
       "    .dataframe tbody tr th {\n",
       "        vertical-align: top;\n",
       "    }\n",
       "\n",
       "    .dataframe thead th {\n",
       "        text-align: right;\n",
       "    }\n",
       "</style>\n",
       "<table border=\"1\" class=\"dataframe\">\n",
       "  <thead>\n",
       "    <tr style=\"text-align: right;\">\n",
       "      <th></th>\n",
       "      <th>obs_duration_mean</th>\n",
       "      <th>conc1_mean</th>\n",
       "      <th>atom_number</th>\n",
       "      <th>bonds_number</th>\n",
       "      <th>ring_numer</th>\n",
       "      <th>Mol</th>\n",
       "      <th>MorganDensity</th>\n",
       "      <th>LogP</th>\n",
       "    </tr>\n",
       "  </thead>\n",
       "  <tbody>\n",
       "    <tr>\n",
       "      <td>count</td>\n",
       "      <td>53652.000000</td>\n",
       "      <td>5.365200e+04</td>\n",
       "      <td>53180.000000</td>\n",
       "      <td>53180.000000</td>\n",
       "      <td>53180.000000</td>\n",
       "      <td>53180.000000</td>\n",
       "      <td>53180.000000</td>\n",
       "      <td>53180.000000</td>\n",
       "    </tr>\n",
       "    <tr>\n",
       "      <td>mean</td>\n",
       "      <td>62.374569</td>\n",
       "      <td>3.434474e+02</td>\n",
       "      <td>13.589921</td>\n",
       "      <td>13.224878</td>\n",
       "      <td>1.097499</td>\n",
       "      <td>244.474903</td>\n",
       "      <td>1.071260</td>\n",
       "      <td>1.278474</td>\n",
       "    </tr>\n",
       "    <tr>\n",
       "      <td>std</td>\n",
       "      <td>41.768157</td>\n",
       "      <td>6.691841e+03</td>\n",
       "      <td>9.188111</td>\n",
       "      <td>10.412063</td>\n",
       "      <td>1.358434</td>\n",
       "      <td>132.967880</td>\n",
       "      <td>0.323409</td>\n",
       "      <td>3.678951</td>\n",
       "    </tr>\n",
       "    <tr>\n",
       "      <td>min</td>\n",
       "      <td>0.004000</td>\n",
       "      <td>5.200000e-08</td>\n",
       "      <td>1.000000</td>\n",
       "      <td>0.000000</td>\n",
       "      <td>0.000000</td>\n",
       "      <td>9.012000</td>\n",
       "      <td>0.200000</td>\n",
       "      <td>-24.338100</td>\n",
       "    </tr>\n",
       "    <tr>\n",
       "      <td>25%</td>\n",
       "      <td>24.000000</td>\n",
       "      <td>1.700000e-01</td>\n",
       "      <td>6.000000</td>\n",
       "      <td>4.000000</td>\n",
       "      <td>0.000000</td>\n",
       "      <td>159.609000</td>\n",
       "      <td>0.842105</td>\n",
       "      <td>-0.784780</td>\n",
       "    </tr>\n",
       "    <tr>\n",
       "      <td>50%</td>\n",
       "      <td>48.000000</td>\n",
       "      <td>2.180000e+00</td>\n",
       "      <td>13.000000</td>\n",
       "      <td>13.000000</td>\n",
       "      <td>1.000000</td>\n",
       "      <td>228.679000</td>\n",
       "      <td>1.111111</td>\n",
       "      <td>2.121800</td>\n",
       "    </tr>\n",
       "    <tr>\n",
       "      <td>75%</td>\n",
       "      <td>96.000000</td>\n",
       "      <td>2.210000e+01</td>\n",
       "      <td>19.000000</td>\n",
       "      <td>19.000000</td>\n",
       "      <td>2.000000</td>\n",
       "      <td>326.437000</td>\n",
       "      <td>1.272727</td>\n",
       "      <td>3.689800</td>\n",
       "    </tr>\n",
       "    <tr>\n",
       "      <td>max</td>\n",
       "      <td>964.000000</td>\n",
       "      <td>9.860000e+05</td>\n",
       "      <td>123.000000</td>\n",
       "      <td>135.000000</td>\n",
       "      <td>14.000000</td>\n",
       "      <td>1736.185000</td>\n",
       "      <td>2.000000</td>\n",
       "      <td>13.789100</td>\n",
       "    </tr>\n",
       "  </tbody>\n",
       "</table>\n",
       "</div>"
      ],
      "text/plain": [
       "       obs_duration_mean    conc1_mean   atom_number  bonds_number  \\\n",
       "count       53652.000000  5.365200e+04  53180.000000  53180.000000   \n",
       "mean           62.374569  3.434474e+02     13.589921     13.224878   \n",
       "std            41.768157  6.691841e+03      9.188111     10.412063   \n",
       "min             0.004000  5.200000e-08      1.000000      0.000000   \n",
       "25%            24.000000  1.700000e-01      6.000000      4.000000   \n",
       "50%            48.000000  2.180000e+00     13.000000     13.000000   \n",
       "75%            96.000000  2.210000e+01     19.000000     19.000000   \n",
       "max           964.000000  9.860000e+05    123.000000    135.000000   \n",
       "\n",
       "         ring_numer           Mol  MorganDensity          LogP  \n",
       "count  53180.000000  53180.000000   53180.000000  53180.000000  \n",
       "mean       1.097499    244.474903       1.071260      1.278474  \n",
       "std        1.358434    132.967880       0.323409      3.678951  \n",
       "min        0.000000      9.012000       0.200000    -24.338100  \n",
       "25%        0.000000    159.609000       0.842105     -0.784780  \n",
       "50%        1.000000    228.679000       1.111111      2.121800  \n",
       "75%        2.000000    326.437000       1.272727      3.689800  \n",
       "max       14.000000   1736.185000       2.000000     13.789100  "
      ]
     },
     "execution_count": 27,
     "metadata": {},
     "output_type": "execute_result"
    }
   ],
   "source": [
    "use_db.describe()"
   ]
  },
  {
   "cell_type": "markdown",
   "metadata": {},
   "source": [
    "### obs_duration_mean/conc1_mean"
   ]
  },
  {
   "cell_type": "code",
   "execution_count": 28,
   "metadata": {},
   "outputs": [],
   "source": [
    "# logarithmic transformations\n",
    "use_db.obs_duration_mean = use_db.obs_duration_mean.apply(lambda x: np.log1p(x))\n",
    "#use_db.conc1_mean = use_db.conc1_mean.apply(lambda x: np.log1p(x)) #Not good result"
   ]
  },
  {
   "cell_type": "code",
   "execution_count": 29,
   "metadata": {},
   "outputs": [],
   "source": [
    "# MinMax scale\n",
    "minmax = MinMaxScaler()\n",
    "minmax.fit(use_db[[\"obs_duration_mean\"]])\n",
    "use_db[[\"obs_duration_mean\"]] = minmax.transform(use_db[[\"obs_duration_mean\"]])"
   ]
  },
  {
   "cell_type": "code",
   "execution_count": 30,
   "metadata": {},
   "outputs": [
    {
     "data": {
      "text/html": [
       "<div>\n",
       "<style scoped>\n",
       "    .dataframe tbody tr th:only-of-type {\n",
       "        vertical-align: middle;\n",
       "    }\n",
       "\n",
       "    .dataframe tbody tr th {\n",
       "        vertical-align: top;\n",
       "    }\n",
       "\n",
       "    .dataframe thead th {\n",
       "        text-align: right;\n",
       "    }\n",
       "</style>\n",
       "<table border=\"1\" class=\"dataframe\">\n",
       "  <thead>\n",
       "    <tr style=\"text-align: right;\">\n",
       "      <th></th>\n",
       "      <th>obs_duration_mean</th>\n",
       "      <th>conc1_mean</th>\n",
       "      <th>atom_number</th>\n",
       "      <th>bonds_number</th>\n",
       "      <th>ring_numer</th>\n",
       "      <th>Mol</th>\n",
       "      <th>MorganDensity</th>\n",
       "      <th>LogP</th>\n",
       "    </tr>\n",
       "  </thead>\n",
       "  <tbody>\n",
       "    <tr>\n",
       "      <td>count</td>\n",
       "      <td>53652.000000</td>\n",
       "      <td>5.365200e+04</td>\n",
       "      <td>53180.000000</td>\n",
       "      <td>53180.000000</td>\n",
       "      <td>53180.000000</td>\n",
       "      <td>53180.000000</td>\n",
       "      <td>53180.000000</td>\n",
       "      <td>53180.000000</td>\n",
       "    </tr>\n",
       "    <tr>\n",
       "      <td>mean</td>\n",
       "      <td>0.562448</td>\n",
       "      <td>3.434474e+02</td>\n",
       "      <td>13.589921</td>\n",
       "      <td>13.224878</td>\n",
       "      <td>1.097499</td>\n",
       "      <td>244.474903</td>\n",
       "      <td>1.071260</td>\n",
       "      <td>1.278474</td>\n",
       "    </tr>\n",
       "    <tr>\n",
       "      <td>std</td>\n",
       "      <td>0.129108</td>\n",
       "      <td>6.691841e+03</td>\n",
       "      <td>9.188111</td>\n",
       "      <td>10.412063</td>\n",
       "      <td>1.358434</td>\n",
       "      <td>132.967880</td>\n",
       "      <td>0.323409</td>\n",
       "      <td>3.678951</td>\n",
       "    </tr>\n",
       "    <tr>\n",
       "      <td>min</td>\n",
       "      <td>0.000000</td>\n",
       "      <td>5.200000e-08</td>\n",
       "      <td>1.000000</td>\n",
       "      <td>0.000000</td>\n",
       "      <td>0.000000</td>\n",
       "      <td>9.012000</td>\n",
       "      <td>0.200000</td>\n",
       "      <td>-24.338100</td>\n",
       "    </tr>\n",
       "    <tr>\n",
       "      <td>25%</td>\n",
       "      <td>0.468087</td>\n",
       "      <td>1.700000e-01</td>\n",
       "      <td>6.000000</td>\n",
       "      <td>4.000000</td>\n",
       "      <td>0.000000</td>\n",
       "      <td>159.609000</td>\n",
       "      <td>0.842105</td>\n",
       "      <td>-0.784780</td>\n",
       "    </tr>\n",
       "    <tr>\n",
       "      <td>50%</td>\n",
       "      <td>0.566067</td>\n",
       "      <td>2.180000e+00</td>\n",
       "      <td>13.000000</td>\n",
       "      <td>13.000000</td>\n",
       "      <td>1.000000</td>\n",
       "      <td>228.679000</td>\n",
       "      <td>1.111111</td>\n",
       "      <td>2.121800</td>\n",
       "    </tr>\n",
       "    <tr>\n",
       "      <td>75%</td>\n",
       "      <td>0.665496</td>\n",
       "      <td>2.210000e+01</td>\n",
       "      <td>19.000000</td>\n",
       "      <td>19.000000</td>\n",
       "      <td>2.000000</td>\n",
       "      <td>326.437000</td>\n",
       "      <td>1.272727</td>\n",
       "      <td>3.689800</td>\n",
       "    </tr>\n",
       "    <tr>\n",
       "      <td>max</td>\n",
       "      <td>1.000000</td>\n",
       "      <td>9.860000e+05</td>\n",
       "      <td>123.000000</td>\n",
       "      <td>135.000000</td>\n",
       "      <td>14.000000</td>\n",
       "      <td>1736.185000</td>\n",
       "      <td>2.000000</td>\n",
       "      <td>13.789100</td>\n",
       "    </tr>\n",
       "  </tbody>\n",
       "</table>\n",
       "</div>"
      ],
      "text/plain": [
       "       obs_duration_mean    conc1_mean   atom_number  bonds_number  \\\n",
       "count       53652.000000  5.365200e+04  53180.000000  53180.000000   \n",
       "mean            0.562448  3.434474e+02     13.589921     13.224878   \n",
       "std             0.129108  6.691841e+03      9.188111     10.412063   \n",
       "min             0.000000  5.200000e-08      1.000000      0.000000   \n",
       "25%             0.468087  1.700000e-01      6.000000      4.000000   \n",
       "50%             0.566067  2.180000e+00     13.000000     13.000000   \n",
       "75%             0.665496  2.210000e+01     19.000000     19.000000   \n",
       "max             1.000000  9.860000e+05    123.000000    135.000000   \n",
       "\n",
       "         ring_numer           Mol  MorganDensity          LogP  \n",
       "count  53180.000000  53180.000000   53180.000000  53180.000000  \n",
       "mean       1.097499    244.474903       1.071260      1.278474  \n",
       "std        1.358434    132.967880       0.323409      3.678951  \n",
       "min        0.000000      9.012000       0.200000    -24.338100  \n",
       "25%        0.000000    159.609000       0.842105     -0.784780  \n",
       "50%        1.000000    228.679000       1.111111      2.121800  \n",
       "75%        2.000000    326.437000       1.272727      3.689800  \n",
       "max       14.000000   1736.185000       2.000000     13.789100  "
      ]
     },
     "execution_count": 30,
     "metadata": {},
     "output_type": "execute_result"
    }
   ],
   "source": [
    "use_db.describe()"
   ]
  },
  {
   "cell_type": "code",
   "execution_count": 31,
   "metadata": {},
   "outputs": [],
   "source": [
    "# standardization\n",
    "scaler = StandardScaler()\n",
    "scaler.fit(use_db[[\"obs_duration_mean\"]])\n",
    "use_db[[\"obs_duration_mean\"]] = scaler.transform(use_db[[\"obs_duration_mean\"]])"
   ]
  },
  {
   "cell_type": "markdown",
   "metadata": {},
   "source": [
    "## Atom Number"
   ]
  },
  {
   "cell_type": "code",
   "execution_count": 32,
   "metadata": {},
   "outputs": [
    {
     "data": {
      "image/png": "[encoded data removed]",
      "text/plain": [
       "<Figure size 432x288 with 1 Axes>"
      ]
     },
     "metadata": {
      "needs_background": "light"
     },
     "output_type": "display_data"
    }
   ],
   "source": [
    "# plotted as before\n",
    "use_db.atom_number.hist(bins=100)\n",
    "plt.title(\"atom_number\")\n",
    "plt.xlabel(\"Value\")\n",
    "plt.ylabel(\"Counts\");"
   ]
  },
  {
   "cell_type": "markdown",
   "metadata": {},
   "source": [
    "We decided to scale by both a logarithmic transformations ans a MinMax scale"
   ]
  },
  {
   "cell_type": "code",
   "execution_count": 33,
   "metadata": {},
   "outputs": [],
   "source": [
    "# logarithmic transformations\n",
    "use_db.atom_number = use_db.atom_number.apply(lambda x: np.log1p(x))\n",
    "# MinMax scale\n",
    "minmax = MinMaxScaler()\n",
    "minmax.fit(use_db[[\"atom_number\"]])\n",
    "use_db[[\"atom_number\"]] = minmax.transform(use_db[[\"atom_number\"]])"
   ]
  },
  {
   "cell_type": "code",
   "execution_count": 34,
   "metadata": {},
   "outputs": [
    {
     "data": {
      "image/png": "[encoded data removed]",
      "text/plain": [
       "<Figure size 432x288 with 1 Axes>"
      ]
     },
     "metadata": {
      "needs_background": "light"
     },
     "output_type": "display_data"
    }
   ],
   "source": [
    "# plotted as before\n",
    "use_db.atom_number.hist(bins=30)\n",
    "plt.title(\"atom_number\")\n",
    "plt.xlabel(\"Value\")\n",
    "plt.ylabel(\"Counts\");"
   ]
  },
  {
   "cell_type": "markdown",
   "metadata": {},
   "source": [
    "## Bonds Number"
   ]
  },
  {
   "cell_type": "code",
   "execution_count": 35,
   "metadata": {},
   "outputs": [
    {
     "data": {
      "image/png": "[encoded data removed]",
      "text/plain": [
       "<Figure size 432x288 with 1 Axes>"
      ]
     },
     "metadata": {
      "needs_background": "light"
     },
     "output_type": "display_data"
    }
   ],
   "source": [
    "# plotted as before\n",
    "use_db.bonds_number.hist(bins=100)\n",
    "plt.yscale(\"log\")\n",
    "plt.title(\"bonds_number\")\n",
    "plt.xlabel(\"Value\")\n",
    "plt.ylabel(\"Counts\");"
   ]
  },
  {
   "cell_type": "markdown",
   "metadata": {},
   "source": [
    "We decided to scale by both a logarithmic transformations ans a MinMax scale"
   ]
  },
  {
   "cell_type": "code",
   "execution_count": 36,
   "metadata": {},
   "outputs": [],
   "source": [
    "# logarithmic transformations\n",
    "use_db.bonds_number = use_db.bonds_number.apply(lambda x: np.log1p(x))\n",
    "# MinMax scale\n",
    "minmax = MinMaxScaler()\n",
    "minmax.fit(use_db[[\"bonds_number\"]])\n",
    "use_db[[\"bonds_number\"]] = minmax.transform(use_db[[\"bonds_number\"]])"
   ]
  },
  {
   "cell_type": "code",
   "execution_count": 37,
   "metadata": {},
   "outputs": [
    {
     "data": {
      "image/png": "[encoded data removed]",
      "text/plain": [
       "<Figure size 432x288 with 1 Axes>"
      ]
     },
     "metadata": {
      "needs_background": "light"
     },
     "output_type": "display_data"
    }
   ],
   "source": [
    "use_db.bonds_number.hist(bins=100)\n",
    "plt.title(\"bonds_number\")\n",
    "plt.xlabel(\"Value\")\n",
    "plt.ylabel(\"Counts\");"
   ]
  },
  {
   "cell_type": "markdown",
   "metadata": {},
   "source": [
    "## Rings number"
   ]
  },
  {
   "cell_type": "code",
   "execution_count": 38,
   "metadata": {},
   "outputs": [
    {
     "data": {
      "image/png": "[encoded data removed]",
      "text/plain": [
       "<Figure size 432x288 with 1 Axes>"
      ]
     },
     "metadata": {
      "needs_background": "light"
     },
     "output_type": "display_data"
    }
   ],
   "source": [
    "# plotted as before\n",
    "use_db.ring_numer.hist(bins=100)\n",
    "#plt.yscale(\"log\")\n",
    "plt.title(\"ring_numer\")\n",
    "plt.xlabel(\"Value\")\n",
    "plt.ylabel(\"Counts\");"
   ]
  },
  {
   "cell_type": "markdown",
   "metadata": {},
   "source": [
    "We assume this as a categrical features and we don't change it"
   ]
  },
  {
   "cell_type": "markdown",
   "metadata": {},
   "source": [
    "## Mol"
   ]
  },
  {
   "cell_type": "code",
   "execution_count": 39,
   "metadata": {},
   "outputs": [
    {
     "data": {
      "image/png": "[encoded data removed]",
      "text/plain": [
       "<Figure size 432x288 with 1 Axes>"
      ]
     },
     "metadata": {
      "needs_background": "light"
     },
     "output_type": "display_data"
    }
   ],
   "source": [
    "# plotted as before\n",
    "use_db.Mol.hist(bins=100)\n",
    "plt.yscale(\"log\")\n",
    "plt.title(\"Mol\")\n",
    "plt.xlabel(\"Value\")\n",
    "plt.ylabel(\"Counts\");"
   ]
  },
  {
   "cell_type": "markdown",
   "metadata": {},
   "source": [
    "We only this to scale the range of this variable"
   ]
  },
  {
   "cell_type": "code",
   "execution_count": 40,
   "metadata": {},
   "outputs": [],
   "source": [
    "# MinMax scale\n",
    "minmax = MinMaxScaler()\n",
    "minmax.fit(use_db[[\"Mol\"]])\n",
    "use_db[[\"Mol\"]] = minmax.transform(use_db[[\"Mol\"]])"
   ]
  },
  {
   "cell_type": "code",
   "execution_count": 41,
   "metadata": {},
   "outputs": [
    {
     "data": {
      "image/png": "[encoded data removed]",
      "text/plain": [
       "<Figure size 432x288 with 1 Axes>"
      ]
     },
     "metadata": {
      "needs_background": "light"
     },
     "output_type": "display_data"
    }
   ],
   "source": [
    "# plotted as before\n",
    "use_db.Mol.hist(bins=100)\n",
    "plt.title(\"Mol\")\n",
    "plt.xlabel(\"Value\")\n",
    "plt.ylabel(\"Counts\");"
   ]
  },
  {
   "cell_type": "markdown",
   "metadata": {},
   "source": [
    "## Morgan Density"
   ]
  },
  {
   "cell_type": "code",
   "execution_count": 42,
   "metadata": {},
   "outputs": [
    {
     "data": {
      "image/png": "[encoded data removed]",
      "text/plain": [
       "<Figure size 432x288 with 1 Axes>"
      ]
     },
     "metadata": {
      "needs_background": "light"
     },
     "output_type": "display_data"
    }
   ],
   "source": [
    "# plotted as before\n",
    "use_db.MorganDensity.hist(bins=100)\n",
    "#plt.yscale(\"log\")\n",
    "plt.title(\"MorganDensity\")\n",
    "plt.xlabel(\"Value\")\n",
    "plt.ylabel(\"Counts\");"
   ]
  },
  {
   "cell_type": "markdown",
   "metadata": {},
   "source": [
    "We keeo this untouch"
   ]
  },
  {
   "cell_type": "markdown",
   "metadata": {},
   "source": [
    "## LogP"
   ]
  },
  {
   "cell_type": "code",
   "execution_count": 43,
   "metadata": {},
   "outputs": [
    {
     "data": {
      "image/png": "[encoded data removed]",
      "text/plain": [
       "<Figure size 432x288 with 1 Axes>"
      ]
     },
     "metadata": {
      "needs_background": "light"
     },
     "output_type": "display_data"
    }
   ],
   "source": [
    "# plotted as before\n",
    "use_db.LogP.hist(bins=100)\n",
    "plt.title(\"LogP\")\n",
    "plt.xlabel(\"Value\")\n",
    "plt.ylabel(\"Counts\");"
   ]
  },
  {
   "cell_type": "code",
   "execution_count": 44,
   "metadata": {},
   "outputs": [],
   "source": [
    "use_db.to_csv(\"output/db_smiles_preproc.csv\")"
   ]
  },
  {
   "cell_type": "code",
   "execution_count": null,
   "metadata": {},
   "outputs": [],
   "source": []
  }
 ],
 "metadata": {
  "kernelspec": {
   "display_name": "Python 3",
   "language": "python",
   "name": "python3"
  },
  "language_info": {
   "codemirror_mode": {
    "name": "ipython",
    "version": 3
   },
   "file_extension": ".py",
   "mimetype": "text/x-python",
   "name": "python",
   "nbconvert_exporter": "python",
   "pygments_lexer": "ipython3",
   "version": "3.7.4"
  },
  "latex_envs": {
   "LaTeX_envs_menu_present": true,
   "autoclose": false,
   "autocomplete": true,
   "bibliofile": "biblio.bib",
   "cite_by": "apalike",
   "current_citInitial": 1,
   "eqLabelWithNumbers": true,
   "eqNumInitial": 1,
   "hotkeys": {
    "equation": "Ctrl-E",
    "itemize": "Ctrl-I"
   },
   "labels_anchors": false,
   "latex_user_defs": false,
   "report_style_numbering": false,
   "user_envs_cfg": false
  },
  "varInspector": {
   "cols": {
    "lenName": 16,
    "lenType": 16,
    "lenVar": 40
   },
   "kernels_config": {
    "python": {
     "delete_cmd_postfix": "",
     "delete_cmd_prefix": "del ",
     "library": "var_list.py",
     "varRefreshCmd": "print(var_dic_list())"
    },
    "r": {
     "delete_cmd_postfix": ") ",
     "delete_cmd_prefix": "rm(",
     "library": "var_list.r",
     "varRefreshCmd": "cat(var_dic_list()) "
    }
   },
   "types_to_exclude": [
    "module",
    "function",
    "builtin_function_or_method",
    "instance",
    "_Feature"
   ],
   "window_display": false
  }
 },
 "nbformat": 4,
 "nbformat_minor": 4
}
