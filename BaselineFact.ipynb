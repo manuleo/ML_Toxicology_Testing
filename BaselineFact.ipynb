{
 "cells": [
  {
   "cell_type": "code",
   "execution_count": 2,
   "metadata": {},
   "outputs": [],
   "source": [
    "import pandas as pd\n",
    "import numpy as np\n",
    "import matplotlib.pyplot as plt\n",
    "#import seaborn as sns\n",
    "import re\n",
    "from sklearn.preprocessing import StandardScaler\n",
    "from sklearn.preprocessing import MinMaxScaler\n",
    "from sklearn.model_selection import train_test_split\n",
    "from sklearn.preprocessing import OrdinalEncoder\n",
    "from sklearn.neighbors import KNeighborsClassifier\n",
    "from sklearn import linear_model\n",
    "from sklearn.metrics import accuracy_score\n",
    "from sklearn.ensemble import RandomForestClassifier\n",
    "from sklearn.metrics import accuracy_score\n",
    "from sklearn.ensemble import GradientBoostingClassifier\n",
    "from sklearn.model_selection import GridSearchCV\n",
    "from new_distance import *\n",
    "%load_ext autoreload\n",
    "%autoreload 2"
   ]
  },
  {
   "cell_type": "code",
   "execution_count": 3,
   "metadata": {},
   "outputs": [],
   "source": [
    "use_db = pd.read_csv(\"use_db_sabato14.csv\")"
   ]
  },
  {
   "cell_type": "code",
   "execution_count": 5,
   "metadata": {},
   "outputs": [],
   "source": [
    "use_db = use_db[use_db.obs_duration_mean.isin([24, 48, 72, 96])]"
   ]
  },
  {
   "cell_type": "code",
   "execution_count": 6,
   "metadata": {},
   "outputs": [],
   "source": [
    "use_db = use_db.groupby(by=[\"test_cas\", \"species\", \"conc1_type\", \"exposure_type\", \"obs_duration_mean\"]).agg(\"median\").reset_index()"
   ]
  },
  {
   "cell_type": "code",
   "execution_count": 32,
   "metadata": {},
   "outputs": [
    {
     "data": {
      "text/plain": [
       "Index(['test_cas', 'species', 'conc1_type', 'exposure_type',\n",
       "       'obs_duration_mean', 'conc1_mean', 'atom_number', 'alone_atom_number',\n",
       "       'tripleBond', 'doubleBond', 'bonds_number', 'ring_numer', 'Mol',\n",
       "       'MorganDensity', 'LogP'],\n",
       "      dtype='object')"
      ]
     },
     "execution_count": 32,
     "metadata": {},
     "output_type": "execute_result"
    }
   ],
   "source": [
    "use_db.columns"
   ]
  },
  {
   "cell_type": "code",
   "execution_count": 7,
   "metadata": {},
   "outputs": [
    {
     "data": {
      "text/html": [
       "<div>\n",
       "<style scoped>\n",
       "    .dataframe tbody tr th:only-of-type {\n",
       "        vertical-align: middle;\n",
       "    }\n",
       "\n",
       "    .dataframe tbody tr th {\n",
       "        vertical-align: top;\n",
       "    }\n",
       "\n",
       "    .dataframe thead th {\n",
       "        text-align: right;\n",
       "    }\n",
       "</style>\n",
       "<table border=\"1\" class=\"dataframe\">\n",
       "  <thead>\n",
       "    <tr style=\"text-align: right;\">\n",
       "      <th></th>\n",
       "      <th>test_cas</th>\n",
       "      <th>species</th>\n",
       "      <th>conc1_type</th>\n",
       "      <th>exposure_type</th>\n",
       "      <th>obs_duration_mean</th>\n",
       "      <th>conc1_mean</th>\n",
       "      <th>atom_number</th>\n",
       "      <th>alone_atom_number</th>\n",
       "      <th>tripleBond</th>\n",
       "      <th>doubleBond</th>\n",
       "      <th>bonds_number</th>\n",
       "      <th>ring_numer</th>\n",
       "      <th>Mol</th>\n",
       "      <th>MorganDensity</th>\n",
       "      <th>LogP</th>\n",
       "    </tr>\n",
       "  </thead>\n",
       "  <tbody>\n",
       "    <tr>\n",
       "      <td>0</td>\n",
       "      <td>100-00-5</td>\n",
       "      <td>rerio</td>\n",
       "      <td>F</td>\n",
       "      <td>F</td>\n",
       "      <td>48.0</td>\n",
       "      <td>15.0</td>\n",
       "      <td>0.317908</td>\n",
       "      <td>2</td>\n",
       "      <td>0</td>\n",
       "      <td>1</td>\n",
       "      <td>0.488106</td>\n",
       "      <td>1.0</td>\n",
       "      <td>0.082505</td>\n",
       "      <td>1.30</td>\n",
       "      <td>2.2482</td>\n",
       "    </tr>\n",
       "    <tr>\n",
       "      <td>1</td>\n",
       "      <td>100-00-5</td>\n",
       "      <td>rerio</td>\n",
       "      <td>F</td>\n",
       "      <td>F</td>\n",
       "      <td>96.0</td>\n",
       "      <td>15.0</td>\n",
       "      <td>0.317908</td>\n",
       "      <td>2</td>\n",
       "      <td>0</td>\n",
       "      <td>1</td>\n",
       "      <td>0.488106</td>\n",
       "      <td>1.0</td>\n",
       "      <td>0.082505</td>\n",
       "      <td>1.30</td>\n",
       "      <td>2.2482</td>\n",
       "    </tr>\n",
       "    <tr>\n",
       "      <td>2</td>\n",
       "      <td>100-01-6</td>\n",
       "      <td>idus</td>\n",
       "      <td>F</td>\n",
       "      <td>AQUA</td>\n",
       "      <td>48.0</td>\n",
       "      <td>35.0</td>\n",
       "      <td>0.317908</td>\n",
       "      <td>2</td>\n",
       "      <td>0</td>\n",
       "      <td>1</td>\n",
       "      <td>0.488106</td>\n",
       "      <td>1.0</td>\n",
       "      <td>0.072092</td>\n",
       "      <td>1.30</td>\n",
       "      <td>1.1770</td>\n",
       "    </tr>\n",
       "    <tr>\n",
       "      <td>3</td>\n",
       "      <td>100-01-6</td>\n",
       "      <td>latipes</td>\n",
       "      <td>A</td>\n",
       "      <td>S</td>\n",
       "      <td>24.0</td>\n",
       "      <td>68.0</td>\n",
       "      <td>0.317908</td>\n",
       "      <td>2</td>\n",
       "      <td>0</td>\n",
       "      <td>1</td>\n",
       "      <td>0.488106</td>\n",
       "      <td>1.0</td>\n",
       "      <td>0.072092</td>\n",
       "      <td>1.30</td>\n",
       "      <td>1.1770</td>\n",
       "    </tr>\n",
       "    <tr>\n",
       "      <td>4</td>\n",
       "      <td>100-01-6</td>\n",
       "      <td>latipes</td>\n",
       "      <td>A</td>\n",
       "      <td>S</td>\n",
       "      <td>48.0</td>\n",
       "      <td>50.0</td>\n",
       "      <td>0.317908</td>\n",
       "      <td>2</td>\n",
       "      <td>0</td>\n",
       "      <td>1</td>\n",
       "      <td>0.488106</td>\n",
       "      <td>1.0</td>\n",
       "      <td>0.072092</td>\n",
       "      <td>1.30</td>\n",
       "      <td>1.1770</td>\n",
       "    </tr>\n",
       "    <tr>\n",
       "      <td>...</td>\n",
       "      <td>...</td>\n",
       "      <td>...</td>\n",
       "      <td>...</td>\n",
       "      <td>...</td>\n",
       "      <td>...</td>\n",
       "      <td>...</td>\n",
       "      <td>...</td>\n",
       "      <td>...</td>\n",
       "      <td>...</td>\n",
       "      <td>...</td>\n",
       "      <td>...</td>\n",
       "      <td>...</td>\n",
       "      <td>...</td>\n",
       "      <td>...</td>\n",
       "      <td>...</td>\n",
       "    </tr>\n",
       "    <tr>\n",
       "      <td>23327</td>\n",
       "      <td>999-81-5</td>\n",
       "      <td>mykiss</td>\n",
       "      <td>A</td>\n",
       "      <td>S</td>\n",
       "      <td>96.0</td>\n",
       "      <td>550.0</td>\n",
       "      <td>0.434012</td>\n",
       "      <td>2</td>\n",
       "      <td>0</td>\n",
       "      <td>0</td>\n",
       "      <td>0.396102</td>\n",
       "      <td>0.0</td>\n",
       "      <td>0.082780</td>\n",
       "      <td>1.25</td>\n",
       "      <td>-2.0646</td>\n",
       "    </tr>\n",
       "    <tr>\n",
       "      <td>23328</td>\n",
       "      <td>999-81-5</td>\n",
       "      <td>promelas</td>\n",
       "      <td>A</td>\n",
       "      <td>S</td>\n",
       "      <td>24.0</td>\n",
       "      <td>100.0</td>\n",
       "      <td>0.434012</td>\n",
       "      <td>2</td>\n",
       "      <td>0</td>\n",
       "      <td>0</td>\n",
       "      <td>0.396102</td>\n",
       "      <td>0.0</td>\n",
       "      <td>0.082780</td>\n",
       "      <td>1.25</td>\n",
       "      <td>-2.0646</td>\n",
       "    </tr>\n",
       "    <tr>\n",
       "      <td>23329</td>\n",
       "      <td>999-81-5</td>\n",
       "      <td>promelas</td>\n",
       "      <td>A</td>\n",
       "      <td>S</td>\n",
       "      <td>96.0</td>\n",
       "      <td>100.0</td>\n",
       "      <td>0.434012</td>\n",
       "      <td>2</td>\n",
       "      <td>0</td>\n",
       "      <td>0</td>\n",
       "      <td>0.396102</td>\n",
       "      <td>0.0</td>\n",
       "      <td>0.082780</td>\n",
       "      <td>1.25</td>\n",
       "      <td>-2.0646</td>\n",
       "    </tr>\n",
       "    <tr>\n",
       "      <td>23330</td>\n",
       "      <td>999-81-5</td>\n",
       "      <td>punctatus</td>\n",
       "      <td>A</td>\n",
       "      <td>S</td>\n",
       "      <td>24.0</td>\n",
       "      <td>100.0</td>\n",
       "      <td>0.434012</td>\n",
       "      <td>2</td>\n",
       "      <td>0</td>\n",
       "      <td>0</td>\n",
       "      <td>0.396102</td>\n",
       "      <td>0.0</td>\n",
       "      <td>0.082780</td>\n",
       "      <td>1.25</td>\n",
       "      <td>-2.0646</td>\n",
       "    </tr>\n",
       "    <tr>\n",
       "      <td>23331</td>\n",
       "      <td>999-81-5</td>\n",
       "      <td>punctatus</td>\n",
       "      <td>A</td>\n",
       "      <td>S</td>\n",
       "      <td>96.0</td>\n",
       "      <td>100.0</td>\n",
       "      <td>0.434012</td>\n",
       "      <td>2</td>\n",
       "      <td>0</td>\n",
       "      <td>0</td>\n",
       "      <td>0.396102</td>\n",
       "      <td>0.0</td>\n",
       "      <td>0.082780</td>\n",
       "      <td>1.25</td>\n",
       "      <td>-2.0646</td>\n",
       "    </tr>\n",
       "  </tbody>\n",
       "</table>\n",
       "<p>23332 rows × 15 columns</p>\n",
       "</div>"
      ],
      "text/plain": [
       "       test_cas    species conc1_type exposure_type  obs_duration_mean  \\\n",
       "0      100-00-5      rerio          F             F               48.0   \n",
       "1      100-00-5      rerio          F             F               96.0   \n",
       "2      100-01-6       idus          F          AQUA               48.0   \n",
       "3      100-01-6    latipes          A             S               24.0   \n",
       "4      100-01-6    latipes          A             S               48.0   \n",
       "...         ...        ...        ...           ...                ...   \n",
       "23327  999-81-5     mykiss          A             S               96.0   \n",
       "23328  999-81-5   promelas          A             S               24.0   \n",
       "23329  999-81-5   promelas          A             S               96.0   \n",
       "23330  999-81-5  punctatus          A             S               24.0   \n",
       "23331  999-81-5  punctatus          A             S               96.0   \n",
       "\n",
       "       conc1_mean  atom_number  alone_atom_number  tripleBond  doubleBond  \\\n",
       "0            15.0     0.317908                  2           0           1   \n",
       "1            15.0     0.317908                  2           0           1   \n",
       "2            35.0     0.317908                  2           0           1   \n",
       "3            68.0     0.317908                  2           0           1   \n",
       "4            50.0     0.317908                  2           0           1   \n",
       "...           ...          ...                ...         ...         ...   \n",
       "23327       550.0     0.434012                  2           0           0   \n",
       "23328       100.0     0.434012                  2           0           0   \n",
       "23329       100.0     0.434012                  2           0           0   \n",
       "23330       100.0     0.434012                  2           0           0   \n",
       "23331       100.0     0.434012                  2           0           0   \n",
       "\n",
       "       bonds_number  ring_numer       Mol  MorganDensity    LogP  \n",
       "0          0.488106         1.0  0.082505           1.30  2.2482  \n",
       "1          0.488106         1.0  0.082505           1.30  2.2482  \n",
       "2          0.488106         1.0  0.072092           1.30  1.1770  \n",
       "3          0.488106         1.0  0.072092           1.30  1.1770  \n",
       "4          0.488106         1.0  0.072092           1.30  1.1770  \n",
       "...             ...         ...       ...            ...     ...  \n",
       "23327      0.396102         0.0  0.082780           1.25 -2.0646  \n",
       "23328      0.396102         0.0  0.082780           1.25 -2.0646  \n",
       "23329      0.396102         0.0  0.082780           1.25 -2.0646  \n",
       "23330      0.396102         0.0  0.082780           1.25 -2.0646  \n",
       "23331      0.396102         0.0  0.082780           1.25 -2.0646  \n",
       "\n",
       "[23332 rows x 15 columns]"
      ]
     },
     "execution_count": 7,
     "metadata": {},
     "output_type": "execute_result"
    }
   ],
   "source": [
    "use_db"
   ]
  },
  {
   "cell_type": "code",
   "execution_count": 18,
   "metadata": {},
   "outputs": [],
   "source": [
    "y_real = use_db.conc1_mean.values\n",
    "y_real = np.where(y_real > 1, 1, 0)"
   ]
  },
  {
   "cell_type": "code",
   "execution_count": 19,
   "metadata": {},
   "outputs": [],
   "source": [
    "y_naive = np.random.random_sample(len(y_real))"
   ]
  },
  {
   "cell_type": "code",
   "execution_count": 20,
   "metadata": {},
   "outputs": [],
   "source": [
    "y_naive_acc = np.rint(y_naive)"
   ]
  },
  {
   "cell_type": "code",
   "execution_count": 21,
   "metadata": {},
   "outputs": [
    {
     "data": {
      "text/plain": [
       "0.5758973918063206"
      ]
     },
     "execution_count": 21,
     "metadata": {},
     "output_type": "execute_result"
    }
   ],
   "source": [
    "from math import sqrt\n",
    "from sklearn.metrics import mean_squared_error\n",
    "sqrt(mean_squared_error(y_real, y_naive))"
   ]
  },
  {
   "cell_type": "code",
   "execution_count": 22,
   "metadata": {},
   "outputs": [
    {
     "data": {
      "text/plain": [
       "0.5048431338933653"
      ]
     },
     "execution_count": 22,
     "metadata": {},
     "output_type": "execute_result"
    }
   ],
   "source": [
    "accuracy_score(y_real, y_naive_acc)"
   ]
  },
  {
   "cell_type": "code",
   "execution_count": 23,
   "metadata": {},
   "outputs": [],
   "source": [
    "def scores_cat(x):\n",
    "    if (x < 10**-1):\n",
    "        return 5\n",
    "    # elif ((x>=10**-2) and (x<10**-1)):\n",
    "    #     return 6\n",
    "    elif ((x>=10**-1) and (x<10**0)):\n",
    "        return 4\n",
    "    elif ((x>=10**0) and (x<10**1)):\n",
    "        return 3\n",
    "    elif ((x>=10**1) and (x<10**2)):\n",
    "        return 2\n",
    "    # elif ((x>=10**2) and (x<10**3)):\n",
    "    #     return 2\n",
    "    else:\n",
    "        return 1"
   ]
  },
  {
   "cell_type": "code",
   "execution_count": 25,
   "metadata": {},
   "outputs": [],
   "source": [
    "y_real = use_db.conc1_mean.values\n",
    "y_real = pd.Series(y_real).apply(lambda x: scores_cat(x)).values"
   ]
  },
  {
   "cell_type": "code",
   "execution_count": 26,
   "metadata": {},
   "outputs": [],
   "source": [
    "y_naive = np.random.random_sample(len(y_real))*(5-1)+1"
   ]
  },
  {
   "cell_type": "code",
   "execution_count": 27,
   "metadata": {},
   "outputs": [
    {
     "data": {
      "text/plain": [
       "1.7597669773867186"
      ]
     },
     "execution_count": 27,
     "metadata": {},
     "output_type": "execute_result"
    }
   ],
   "source": [
    "sqrt(mean_squared_error(y_real, y_naive))"
   ]
  },
  {
   "cell_type": "code",
   "execution_count": 28,
   "metadata": {},
   "outputs": [],
   "source": [
    "y_naive_acc = np.rint(y_naive)"
   ]
  },
  {
   "cell_type": "code",
   "execution_count": 29,
   "metadata": {},
   "outputs": [
    {
     "data": {
      "text/plain": [
       "0.20602605863192183"
      ]
     },
     "execution_count": 29,
     "metadata": {},
     "output_type": "execute_result"
    }
   ],
   "source": [
    "accuracy_score(y_real, y_naive_acc)"
   ]
  },
  {
   "cell_type": "code",
   "execution_count": null,
   "metadata": {},
   "outputs": [],
   "source": []
  }
 ],
 "metadata": {
  "kernelspec": {
   "display_name": "Python [conda env:ml] *",
   "language": "python",
   "name": "conda-env-ml-py"
  },
  "language_info": {
   "codemirror_mode": {
    "name": "ipython",
    "version": 3
   },
   "file_extension": ".py",
   "mimetype": "text/x-python",
   "name": "python",
   "nbconvert_exporter": "python",
   "pygments_lexer": "ipython3",
   "version": "3.7.4"
  }
 },
 "nbformat": 4,
 "nbformat_minor": 4
}
