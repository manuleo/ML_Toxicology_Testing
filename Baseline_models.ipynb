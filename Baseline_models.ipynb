{
 "cells": [
  {
   "cell_type": "code",
   "execution_count": 2,
   "metadata": {},
   "outputs": [],
   "source": [
    "import pandas as pd\n",
    "import numpy as np\n",
    "import matplotlib.pyplot as plt\n",
    "import seaborn as sns\n",
    "import re\n",
    "from sklearn.preprocessing import StandardScaler\n",
    "from sklearn.preprocessing import MinMaxScaler"
   ]
  },
  {
   "cell_type": "code",
   "execution_count": 3,
   "metadata": {},
   "outputs": [],
   "source": [
    "from sklearn.model_selection import train_test_split\n",
    "from sklearn.neighbors import KNeighborsClassifier\n",
    "from sklearn.metrics import accuracy_score\n",
    "from sklearn.ensemble import RandomForestClassifier\n",
    "from sklearn.ensemble import GradientBoostingClassifier\n",
    "from sklearn.model_selection import GridSearchCV\n",
    "from sklearn.linear_model import RidgeCV\n",
    "from sklearn.metrics import mean_squared_error\n",
    "from sklearn.preprocessing import OrdinalEncoder"
   ]
  },
  {
   "cell_type": "code",
   "execution_count": 4,
   "metadata": {},
   "outputs": [],
   "source": [
    "plt.rcParams['figure.figsize'] = (15, 8)"
   ]
  },
  {
   "cell_type": "code",
   "execution_count": 5,
   "metadata": {},
   "outputs": [],
   "source": [
    "use_db = pd.read_csv(\"output/db_obs_preproc.csv\").drop(columns=\"Unnamed: 0\")"
   ]
  },
  {
   "cell_type": "markdown",
   "metadata": {},
   "source": [
    "## Naive Classification\n",
    "Considering a threshold of 1mg/L of mortality"
   ]
  },
  {
   "cell_type": "code",
   "execution_count": 6,
   "metadata": {},
   "outputs": [
    {
     "data": {
      "text/html": [
       "<div>\n",
       "<style scoped>\n",
       "    .dataframe tbody tr th:only-of-type {\n",
       "        vertical-align: middle;\n",
       "    }\n",
       "\n",
       "    .dataframe tbody tr th {\n",
       "        vertical-align: top;\n",
       "    }\n",
       "\n",
       "    .dataframe thead th {\n",
       "        text-align: right;\n",
       "    }\n",
       "</style>\n",
       "<table border=\"1\" class=\"dataframe\">\n",
       "  <thead>\n",
       "    <tr style=\"text-align: right;\">\n",
       "      <th></th>\n",
       "      <th>test_cas</th>\n",
       "      <th>exposure_type</th>\n",
       "      <th>obs_duration_mean</th>\n",
       "      <th>conc1_type</th>\n",
       "      <th>conc1_mean</th>\n",
       "      <th>class</th>\n",
       "      <th>tax_order</th>\n",
       "      <th>family</th>\n",
       "      <th>genus</th>\n",
       "      <th>species</th>\n",
       "    </tr>\n",
       "  </thead>\n",
       "  <tbody>\n",
       "    <tr>\n",
       "      <td>0</td>\n",
       "      <td>10108642</td>\n",
       "      <td>S</td>\n",
       "      <td>0.032948</td>\n",
       "      <td>T</td>\n",
       "      <td>46.900000</td>\n",
       "      <td>Actinopterygii</td>\n",
       "      <td>Cypriniformes</td>\n",
       "      <td>Cyprinidae</td>\n",
       "      <td>Carassius</td>\n",
       "      <td>auratus</td>\n",
       "    </tr>\n",
       "    <tr>\n",
       "      <td>1</td>\n",
       "      <td>88302</td>\n",
       "      <td>S</td>\n",
       "      <td>-2.148755</td>\n",
       "      <td>A</td>\n",
       "      <td>2.920000</td>\n",
       "      <td>Actinopterygii</td>\n",
       "      <td>Salmoniformes</td>\n",
       "      <td>Salmonidae</td>\n",
       "      <td>Oncorhynchus</td>\n",
       "      <td>mykiss</td>\n",
       "    </tr>\n",
       "    <tr>\n",
       "      <td>2</td>\n",
       "      <td>1397940</td>\n",
       "      <td>S</td>\n",
       "      <td>0.798587</td>\n",
       "      <td>A</td>\n",
       "      <td>0.000063</td>\n",
       "      <td>Actinopterygii</td>\n",
       "      <td>Perciformes</td>\n",
       "      <td>Centrarchidae</td>\n",
       "      <td>Micropterus</td>\n",
       "      <td>salmoides</td>\n",
       "    </tr>\n",
       "    <tr>\n",
       "      <td>3</td>\n",
       "      <td>25474413</td>\n",
       "      <td>S</td>\n",
       "      <td>0.798587</td>\n",
       "      <td>A</td>\n",
       "      <td>0.012000</td>\n",
       "      <td>Actinopterygii</td>\n",
       "      <td>Perciformes</td>\n",
       "      <td>Centrarchidae</td>\n",
       "      <td>Lepomis</td>\n",
       "      <td>macrochirus</td>\n",
       "    </tr>\n",
       "    <tr>\n",
       "      <td>4</td>\n",
       "      <td>540727</td>\n",
       "      <td>F</td>\n",
       "      <td>-0.281992</td>\n",
       "      <td>T</td>\n",
       "      <td>144.000000</td>\n",
       "      <td>Actinopterygii</td>\n",
       "      <td>Salmoniformes</td>\n",
       "      <td>Salmonidae</td>\n",
       "      <td>Oncorhynchus</td>\n",
       "      <td>mykiss</td>\n",
       "    </tr>\n",
       "    <tr>\n",
       "      <td>...</td>\n",
       "      <td>...</td>\n",
       "      <td>...</td>\n",
       "      <td>...</td>\n",
       "      <td>...</td>\n",
       "      <td>...</td>\n",
       "      <td>...</td>\n",
       "      <td>...</td>\n",
       "      <td>...</td>\n",
       "      <td>...</td>\n",
       "      <td>...</td>\n",
       "    </tr>\n",
       "    <tr>\n",
       "      <td>56624</td>\n",
       "      <td>7646857</td>\n",
       "      <td>F</td>\n",
       "      <td>-0.721540</td>\n",
       "      <td>T</td>\n",
       "      <td>3.870000</td>\n",
       "      <td>Actinopterygii</td>\n",
       "      <td>Siluriformes</td>\n",
       "      <td>Clariidae</td>\n",
       "      <td>Clarias</td>\n",
       "      <td>gariepinus</td>\n",
       "    </tr>\n",
       "    <tr>\n",
       "      <td>56625</td>\n",
       "      <td>333415</td>\n",
       "      <td>AQUA</td>\n",
       "      <td>0.032948</td>\n",
       "      <td>F</td>\n",
       "      <td>1.800000</td>\n",
       "      <td>Actinopterygii</td>\n",
       "      <td>Cypriniformes</td>\n",
       "      <td>Cyprinidae</td>\n",
       "      <td>Cyprinus</td>\n",
       "      <td>carpio</td>\n",
       "    </tr>\n",
       "    <tr>\n",
       "      <td>56626</td>\n",
       "      <td>52645531</td>\n",
       "      <td>S</td>\n",
       "      <td>0.798587</td>\n",
       "      <td>A</td>\n",
       "      <td>0.007200</td>\n",
       "      <td>Actinopterygii</td>\n",
       "      <td>Perciformes</td>\n",
       "      <td>Centrarchidae</td>\n",
       "      <td>Lepomis</td>\n",
       "      <td>macrochirus</td>\n",
       "    </tr>\n",
       "    <tr>\n",
       "      <td>56627</td>\n",
       "      <td>2545600</td>\n",
       "      <td>R</td>\n",
       "      <td>-0.721540</td>\n",
       "      <td>A</td>\n",
       "      <td>17.500000</td>\n",
       "      <td>Actinopterygii</td>\n",
       "      <td>Salmoniformes</td>\n",
       "      <td>Salmonidae</td>\n",
       "      <td>Oncorhynchus</td>\n",
       "      <td>kisutch</td>\n",
       "    </tr>\n",
       "    <tr>\n",
       "      <td>56628</td>\n",
       "      <td>87865</td>\n",
       "      <td>AQUA</td>\n",
       "      <td>-0.721540</td>\n",
       "      <td>F</td>\n",
       "      <td>0.642000</td>\n",
       "      <td>Actinopterygii</td>\n",
       "      <td>Cypriniformes</td>\n",
       "      <td>Cyprinidae</td>\n",
       "      <td>Carassius</td>\n",
       "      <td>auratus</td>\n",
       "    </tr>\n",
       "  </tbody>\n",
       "</table>\n",
       "<p>56629 rows × 10 columns</p>\n",
       "</div>"
      ],
      "text/plain": [
       "       test_cas exposure_type  obs_duration_mean conc1_type  conc1_mean  \\\n",
       "0      10108642             S           0.032948          T   46.900000   \n",
       "1         88302             S          -2.148755          A    2.920000   \n",
       "2       1397940             S           0.798587          A    0.000063   \n",
       "3      25474413             S           0.798587          A    0.012000   \n",
       "4        540727             F          -0.281992          T  144.000000   \n",
       "...         ...           ...                ...        ...         ...   \n",
       "56624   7646857             F          -0.721540          T    3.870000   \n",
       "56625    333415          AQUA           0.032948          F    1.800000   \n",
       "56626  52645531             S           0.798587          A    0.007200   \n",
       "56627   2545600             R          -0.721540          A   17.500000   \n",
       "56628     87865          AQUA          -0.721540          F    0.642000   \n",
       "\n",
       "                class      tax_order         family         genus      species  \n",
       "0      Actinopterygii  Cypriniformes     Cyprinidae     Carassius      auratus  \n",
       "1      Actinopterygii  Salmoniformes     Salmonidae  Oncorhynchus       mykiss  \n",
       "2      Actinopterygii    Perciformes  Centrarchidae   Micropterus    salmoides  \n",
       "3      Actinopterygii    Perciformes  Centrarchidae       Lepomis  macrochirus  \n",
       "4      Actinopterygii  Salmoniformes     Salmonidae  Oncorhynchus       mykiss  \n",
       "...               ...            ...            ...           ...          ...  \n",
       "56624  Actinopterygii   Siluriformes      Clariidae       Clarias   gariepinus  \n",
       "56625  Actinopterygii  Cypriniformes     Cyprinidae      Cyprinus       carpio  \n",
       "56626  Actinopterygii    Perciformes  Centrarchidae       Lepomis  macrochirus  \n",
       "56627  Actinopterygii  Salmoniformes     Salmonidae  Oncorhynchus      kisutch  \n",
       "56628  Actinopterygii  Cypriniformes     Cyprinidae     Carassius      auratus  \n",
       "\n",
       "[56629 rows x 10 columns]"
      ]
     },
     "execution_count": 6,
     "metadata": {},
     "output_type": "execute_result"
    }
   ],
   "source": [
    "use_db"
   ]
  },
  {
   "cell_type": "code",
   "execution_count": 16,
   "metadata": {},
   "outputs": [],
   "source": [
    "X = use_db.copy()"
   ]
  },
  {
   "cell_type": "markdown",
   "metadata": {},
   "source": [
    "Setting threshold"
   ]
  },
  {
   "cell_type": "code",
   "execution_count": 17,
   "metadata": {},
   "outputs": [],
   "source": [
    "y = use_db[[\"conc1_mean\"]].copy().values\n",
    "y = np.where(y > 1, 1, 0)"
   ]
  },
  {
   "cell_type": "markdown",
   "metadata": {},
   "source": [
    "Checking if the splitting is balanced:"
   ]
  },
  {
   "cell_type": "code",
   "execution_count": 18,
   "metadata": {},
   "outputs": [
    {
     "name": "stdout",
     "output_type": "stream",
     "text": [
      "23412 33217\n"
     ]
    }
   ],
   "source": [
    "print(len(y[y==0]), len(y[y==1]))"
   ]
  },
  {
   "cell_type": "markdown",
   "metadata": {},
   "source": [
    "### Our dumb classifier is the one who always predicts the most frequent class"
   ]
  },
  {
   "cell_type": "code",
   "execution_count": 20,
   "metadata": {},
   "outputs": [],
   "source": [
    "X_train, X_test, y_train, y_test = train_test_split(\n",
    "                                        X, y, test_size=0.33, random_state=42)"
   ]
  },
  {
   "cell_type": "code",
   "execution_count": 21,
   "metadata": {},
   "outputs": [
    {
     "data": {
      "text/plain": [
       "0.585134845890411"
      ]
     },
     "execution_count": 21,
     "metadata": {},
     "output_type": "execute_result"
    }
   ],
   "source": [
    "y_dumb = np.ones(len(y_test))\n",
    "accuracy_score(y_test, y_dumb)"
   ]
  },
  {
   "cell_type": "markdown",
   "metadata": {},
   "source": [
    "### Our dumb regressor is the one who always predicts the median"
   ]
  },
  {
   "cell_type": "code",
   "execution_count": 22,
   "metadata": {},
   "outputs": [],
   "source": [
    "y = use_db[[\"conc1_mean\"]].copy().values"
   ]
  },
  {
   "cell_type": "code",
   "execution_count": 23,
   "metadata": {},
   "outputs": [],
   "source": [
    "X_train, X_test, y_train, y_test = train_test_split(\n",
    "                                        X, y, test_size=0.33, random_state=42)"
   ]
  },
  {
   "cell_type": "code",
   "execution_count": 26,
   "metadata": {},
   "outputs": [
    {
     "data": {
      "text/plain": [
       "55961839.9764045"
      ]
     },
     "execution_count": 26,
     "metadata": {},
     "output_type": "execute_result"
    }
   ],
   "source": [
    "median = np.median(y_test)\n",
    "y_dumb = np.ones(len(y_test))\n",
    "mean_squared_error(y_test, y_dumb)"
   ]
  },
  {
   "cell_type": "markdown",
   "metadata": {},
   "source": [
    "As expected, **the loss is huge**"
   ]
  }
 ],
 "metadata": {
  "kernelspec": {
   "display_name": "Python 3",
   "language": "python",
   "name": "python3"
  },
  "language_info": {
   "codemirror_mode": {
    "name": "ipython",
    "version": 3
   },
   "file_extension": ".py",
   "mimetype": "text/x-python",
   "name": "python",
   "nbconvert_exporter": "python",
   "pygments_lexer": "ipython3",
   "version": "3.7.4"
  },
  "latex_envs": {
   "LaTeX_envs_menu_present": true,
   "autoclose": false,
   "autocomplete": true,
   "bibliofile": "biblio.bib",
   "cite_by": "apalike",
   "current_citInitial": 1,
   "eqLabelWithNumbers": true,
   "eqNumInitial": 1,
   "hotkeys": {
    "equation": "Ctrl-E",
    "itemize": "Ctrl-I"
   },
   "labels_anchors": false,
   "latex_user_defs": false,
   "report_style_numbering": false,
   "user_envs_cfg": false
  },
  "varInspector": {
   "cols": {
    "lenName": 16,
    "lenType": 16,
    "lenVar": 40
   },
   "kernels_config": {
    "python": {
     "delete_cmd_postfix": "",
     "delete_cmd_prefix": "del ",
     "library": "var_list.py",
     "varRefreshCmd": "print(var_dic_list())"
    },
    "r": {
     "delete_cmd_postfix": ") ",
     "delete_cmd_prefix": "rm(",
     "library": "var_list.r",
     "varRefreshCmd": "cat(var_dic_list()) "
    }
   },
   "types_to_exclude": [
    "module",
    "function",
    "builtin_function_or_method",
    "instance",
    "_Feature"
   ],
   "window_display": false
  }
 },
 "nbformat": 4,
 "nbformat_minor": 4
}
