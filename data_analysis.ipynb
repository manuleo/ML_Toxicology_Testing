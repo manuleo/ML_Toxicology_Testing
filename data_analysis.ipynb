{
 "cells": [
  {
   "cell_type": "code",
   "execution_count": 1,
   "metadata": {},
   "outputs": [
    {
     "name": "stderr",
     "output_type": "stream",
     "text": [
      "RDKit WARNING: [19:03:44] Enabling RDKit 2019.09.1 jupyter extensions\n"
     ]
    }
   ],
   "source": [
    "import pandas as pd\n",
    "import numpy as np\n",
    "import matplotlib.pyplot as plt\n",
    "import seaborn as sns\n",
    "import re\n",
    "from sklearn.preprocessing import StandardScaler\n",
    "from sklearn.preprocessing import MinMaxScaler\n",
    "from smiles_proc import *"
   ]
  },
  {
   "cell_type": "code",
   "execution_count": 2,
   "metadata": {},
   "outputs": [],
   "source": [
    "plt.rcParams['figure.figsize'] = (15, 8)"
   ]
  },
  {
   "cell_type": "markdown",
   "metadata": {},
   "source": [
    "## Loading initial datasets and filtering"
   ]
  },
  {
   "cell_type": "code",
   "execution_count": null,
   "metadata": {},
   "outputs": [],
   "source": [
    "results = pd.read_csv('data/ecotox/results.txt',sep='\\|', engine='python')\n",
    "results.head()"
   ]
  },
  {
   "cell_type": "code",
   "execution_count": null,
   "metadata": {},
   "outputs": [],
   "source": [
    "test = pd.read_csv('data/ecotox/tests.txt',sep='\\|', engine='python')\n",
    "test.head()"
   ]
  },
  {
   "cell_type": "code",
   "execution_count": null,
   "metadata": {},
   "outputs": [],
   "source": [
    "species = pd.read_csv('data/ecotox/validation/species.txt',sep='\\|', engine='python')\n",
    "species.head()"
   ]
  },
  {
   "cell_type": "code",
   "execution_count": null,
   "metadata": {},
   "outputs": [],
   "source": [
    "results.to_pickle(\"data/results.pkl\")\n",
    "test.to_pickle(\"data/test.pkl\")\n",
    "species.to_pickle(\"data/species.pkl\")"
   ]
  },
  {
   "cell_type": "code",
   "execution_count": 39,
   "metadata": {},
   "outputs": [],
   "source": [
    "#results = pd.read_pickle(\"data/results.pkl\")\n",
    "#test = pd.read_pickle(\"data/test.pkl\")\n",
    "species = pd.read_pickle(\"data/species.pkl\")"
   ]
  },
  {
   "cell_type": "code",
   "execution_count": 40,
   "metadata": {},
   "outputs": [
    {
     "data": {
      "text/html": [
       "<div>\n",
       "<style scoped>\n",
       "    .dataframe tbody tr th:only-of-type {\n",
       "        vertical-align: middle;\n",
       "    }\n",
       "\n",
       "    .dataframe tbody tr th {\n",
       "        vertical-align: top;\n",
       "    }\n",
       "\n",
       "    .dataframe thead th {\n",
       "        text-align: right;\n",
       "    }\n",
       "</style>\n",
       "<table border=\"1\" class=\"dataframe\">\n",
       "  <thead>\n",
       "    <tr style=\"text-align: right;\">\n",
       "      <th></th>\n",
       "      <th>species_number</th>\n",
       "      <th>common_name</th>\n",
       "      <th>latin_name</th>\n",
       "      <th>kingdom</th>\n",
       "      <th>phylum_division</th>\n",
       "      <th>subphylum_div</th>\n",
       "      <th>superclass</th>\n",
       "      <th>class</th>\n",
       "      <th>tax_order</th>\n",
       "      <th>family</th>\n",
       "      <th>genus</th>\n",
       "      <th>species</th>\n",
       "      <th>subspecies</th>\n",
       "      <th>variety</th>\n",
       "      <th>ecotox_group</th>\n",
       "    </tr>\n",
       "  </thead>\n",
       "  <tbody>\n",
       "    <tr>\n",
       "      <td>0</td>\n",
       "      <td>1</td>\n",
       "      <td>Fathead Minnow</td>\n",
       "      <td>Pimephales promelas</td>\n",
       "      <td>Animalia</td>\n",
       "      <td>Chordata</td>\n",
       "      <td>Vertebrata</td>\n",
       "      <td>Osteichthyes</td>\n",
       "      <td>Actinopterygii</td>\n",
       "      <td>Cypriniformes</td>\n",
       "      <td>Cyprinidae</td>\n",
       "      <td>Pimephales</td>\n",
       "      <td>promelas</td>\n",
       "      <td>NaN</td>\n",
       "      <td>NaN</td>\n",
       "      <td>Fish,Standard Test Species</td>\n",
       "    </tr>\n",
       "    <tr>\n",
       "      <td>1</td>\n",
       "      <td>2</td>\n",
       "      <td>Bluegill</td>\n",
       "      <td>Lepomis macrochirus</td>\n",
       "      <td>Animalia</td>\n",
       "      <td>Chordata</td>\n",
       "      <td>Vertebrata</td>\n",
       "      <td>Osteichthyes</td>\n",
       "      <td>Actinopterygii</td>\n",
       "      <td>Perciformes</td>\n",
       "      <td>Centrarchidae</td>\n",
       "      <td>Lepomis</td>\n",
       "      <td>macrochirus</td>\n",
       "      <td>NaN</td>\n",
       "      <td>NaN</td>\n",
       "      <td>Fish,Standard Test Species</td>\n",
       "    </tr>\n",
       "    <tr>\n",
       "      <td>2</td>\n",
       "      <td>3</td>\n",
       "      <td>Brook Trout</td>\n",
       "      <td>Salvelinus fontinalis</td>\n",
       "      <td>Animalia</td>\n",
       "      <td>Chordata</td>\n",
       "      <td>Vertebrata</td>\n",
       "      <td>Osteichthyes</td>\n",
       "      <td>Actinopterygii</td>\n",
       "      <td>Salmoniformes</td>\n",
       "      <td>Salmonidae</td>\n",
       "      <td>Salvelinus</td>\n",
       "      <td>fontinalis</td>\n",
       "      <td>NaN</td>\n",
       "      <td>NaN</td>\n",
       "      <td>Fish,Standard Test Species</td>\n",
       "    </tr>\n",
       "    <tr>\n",
       "      <td>3</td>\n",
       "      <td>4</td>\n",
       "      <td>Rainbow Trout</td>\n",
       "      <td>Oncorhynchus mykiss</td>\n",
       "      <td>Animalia</td>\n",
       "      <td>Chordata</td>\n",
       "      <td>Vertebrata</td>\n",
       "      <td>Osteichthyes</td>\n",
       "      <td>Actinopterygii</td>\n",
       "      <td>Salmoniformes</td>\n",
       "      <td>Salmonidae</td>\n",
       "      <td>Oncorhynchus</td>\n",
       "      <td>mykiss</td>\n",
       "      <td>NaN</td>\n",
       "      <td>NaN</td>\n",
       "      <td>Fish,Standard Test Species,U.S. Exotic/Nuisanc...</td>\n",
       "    </tr>\n",
       "    <tr>\n",
       "      <td>4</td>\n",
       "      <td>5</td>\n",
       "      <td>Water Flea</td>\n",
       "      <td>Daphnia magna</td>\n",
       "      <td>Animalia</td>\n",
       "      <td>Arthropoda</td>\n",
       "      <td>Crustacea</td>\n",
       "      <td>NaN</td>\n",
       "      <td>Branchiopoda</td>\n",
       "      <td>Diplostraca</td>\n",
       "      <td>Daphniidae</td>\n",
       "      <td>Daphnia</td>\n",
       "      <td>magna</td>\n",
       "      <td>NaN</td>\n",
       "      <td>NaN</td>\n",
       "      <td>Crustaceans,Standard Test Species</td>\n",
       "    </tr>\n",
       "  </tbody>\n",
       "</table>\n",
       "</div>"
      ],
      "text/plain": [
       "   species_number     common_name             latin_name   kingdom  \\\n",
       "0               1  Fathead Minnow    Pimephales promelas  Animalia   \n",
       "1               2        Bluegill    Lepomis macrochirus  Animalia   \n",
       "2               3     Brook Trout  Salvelinus fontinalis  Animalia   \n",
       "3               4   Rainbow Trout    Oncorhynchus mykiss  Animalia   \n",
       "4               5      Water Flea          Daphnia magna  Animalia   \n",
       "\n",
       "  phylum_division subphylum_div    superclass           class      tax_order  \\\n",
       "0        Chordata    Vertebrata  Osteichthyes  Actinopterygii  Cypriniformes   \n",
       "1        Chordata    Vertebrata  Osteichthyes  Actinopterygii    Perciformes   \n",
       "2        Chordata    Vertebrata  Osteichthyes  Actinopterygii  Salmoniformes   \n",
       "3        Chordata    Vertebrata  Osteichthyes  Actinopterygii  Salmoniformes   \n",
       "4      Arthropoda     Crustacea           NaN    Branchiopoda    Diplostraca   \n",
       "\n",
       "          family         genus      species subspecies variety  \\\n",
       "0     Cyprinidae    Pimephales     promelas        NaN     NaN   \n",
       "1  Centrarchidae       Lepomis  macrochirus        NaN     NaN   \n",
       "2     Salmonidae    Salvelinus   fontinalis        NaN     NaN   \n",
       "3     Salmonidae  Oncorhynchus       mykiss        NaN     NaN   \n",
       "4     Daphniidae       Daphnia        magna        NaN     NaN   \n",
       "\n",
       "                                        ecotox_group  \n",
       "0                         Fish,Standard Test Species  \n",
       "1                         Fish,Standard Test Species  \n",
       "2                         Fish,Standard Test Species  \n",
       "3  Fish,Standard Test Species,U.S. Exotic/Nuisanc...  \n",
       "4                  Crustaceans,Standard Test Species  "
      ]
     },
     "execution_count": 40,
     "metadata": {},
     "output_type": "execute_result"
    }
   ],
   "source": [
    "species.head()"
   ]
  },
  {
   "cell_type": "markdown",
   "metadata": {},
   "source": [
    "**Prefilter**\n",
    "Considering only:\n",
    "- Endpoint LC50 or EC50 (Mortality at 50%)\n",
    "- No embrions (Code EM)\n",
    "- Group Fish"
   ]
  },
  {
   "cell_type": "markdown",
   "metadata": {},
   "source": [
    "Considering all the endpoints containing LC50 or EC50: there are **different codes identify the same endpoints**"
   ]
  },
  {
   "cell_type": "code",
   "execution_count": 109,
   "metadata": {},
   "outputs": [
    {
     "data": {
      "text/plain": [
       "array(['LC50', 'LC50*', 'LC50/', 'LC50*/'], dtype=object)"
      ]
     },
     "execution_count": 109,
     "metadata": {},
     "output_type": "execute_result"
    }
   ],
   "source": [
    "results[results.endpoint.str.contains(\"LC50\")].endpoint.unique()"
   ]
  },
  {
   "cell_type": "code",
   "execution_count": 110,
   "metadata": {},
   "outputs": [
    {
     "data": {
      "text/plain": [
       "array(['EC50', 'EC50/', 'EC50*', 'EC50*/'], dtype=object)"
      ]
     },
     "execution_count": 110,
     "metadata": {},
     "output_type": "execute_result"
    }
   ],
   "source": [
    "results[results.endpoint.str.contains(\"EC50\")].endpoint.unique()"
   ]
  },
  {
   "cell_type": "code",
   "execution_count": 111,
   "metadata": {},
   "outputs": [],
   "source": [
    "# Retaining only LC50 or EC50\n",
    "res_50 = results[(results.endpoint.str.contains(\"LC50\")) | (results.endpoint.str.contains(\"EC50\"))]"
   ]
  },
  {
   "cell_type": "markdown",
   "metadata": {},
   "source": [
    "Considering the possible effects connected to LC50. We need to filter on **Mortality Group**"
   ]
  },
  {
   "cell_type": "code",
   "execution_count": 112,
   "metadata": {},
   "outputs": [
    {
     "data": {
      "text/plain": [
       "array(['ITX', 'MOR', 'BEH', 'GRO', 'REP', 'MLT', 'PHY', 'POP', 'BCM',\n",
       "       'DVP', '~MOR', 'HIS', 'BEH/', 'REP/', 'GEN', '~ITX', 'ENZ', '~DVP',\n",
       "       'MOR/', 'FDB', 'MPH', 'AVO', '~DVP/', 'INJ', 'HRM', 'CEL', '~REP/',\n",
       "       'ITX/', 'PRS', 'GRO/', 'POP/', 'PHY/', '~FDB', '~MOR/', '~PHY',\n",
       "       '~GRO', '~REP', 'IMM', '~BCM', 'NER', 'ENZ/', 'BCM/', 'ACC',\n",
       "       'FDB/', '~GEN', '~POP', '~MLT', 'DVP/', '~ITX/', '~ACC', '~BEH'],\n",
       "      dtype=object)"
      ]
     },
     "execution_count": 112,
     "metadata": {},
     "output_type": "execute_result"
    }
   ],
   "source": [
    "res_50.effect.unique()"
   ]
  },
  {
   "cell_type": "markdown",
   "metadata": {},
   "source": [
    "*Note*: ~MOR is **retarted mortality**. MOR/ should be the same as MOR (?)"
   ]
  },
  {
   "cell_type": "code",
   "execution_count": 113,
   "metadata": {},
   "outputs": [],
   "source": [
    "# Only the ones inside mortality group\n",
    "res_50_mor = res_50[res_50.effect.str.contains(\"MOR\")]"
   ]
  },
  {
   "cell_type": "markdown",
   "metadata": {},
   "source": [
    "Look at the possible measurement inside the Mortality Group. **We take them all for now: we may filter only for mortality measurement?**"
   ]
  },
  {
   "cell_type": "code",
   "execution_count": 114,
   "metadata": {},
   "outputs": [
    {
     "data": {
      "text/plain": [
       "array(['MORT', 'MORT/', 'SURV', 'TKNO', 'HTCH', 'SURV/', 'SVVS', 'LBCN',\n",
       "       'HTCH/', 'LFSP', 'GMOR/', 'GMOR', 'LIFE', 'EBCN', 'MDTH', 'LIFE/'],\n",
       "      dtype=object)"
      ]
     },
     "execution_count": 114,
     "metadata": {},
     "output_type": "execute_result"
    }
   ],
   "source": [
    "res_50_mor.measurement.unique()"
   ]
  },
  {
   "cell_type": "markdown",
   "metadata": {},
   "source": [
    "Retaining only **Fish not embrion**"
   ]
  },
  {
   "cell_type": "code",
   "execution_count": 115,
   "metadata": {},
   "outputs": [],
   "source": [
    "# No embrions in the test\n",
    "test_no_EM = test[test.organism_lifestage != \"EM\"]"
   ]
  },
  {
   "cell_type": "code",
   "execution_count": 116,
   "metadata": {},
   "outputs": [],
   "source": [
    "# No Fish\n",
    "species = species[~species.ecotox_group.isnull()]\n",
    "species_fish = species[species.ecotox_group.str.contains(\"Fish\")]\n",
    "\n",
    "# Merge\n",
    "test_fish_only = test.merge(species_fish, on=\"species_number\")"
   ]
  },
  {
   "cell_type": "markdown",
   "metadata": {},
   "source": [
    "Combining **all together**"
   ]
  },
  {
   "cell_type": "code",
   "execution_count": 117,
   "metadata": {},
   "outputs": [],
   "source": [
    "results_final = res_50_mor.merge(test_fish_only, on = \"test_id\")"
   ]
  },
  {
   "cell_type": "code",
   "execution_count": 118,
   "metadata": {},
   "outputs": [
    {
     "data": {
      "text/plain": [
       "64746"
      ]
     },
     "execution_count": 118,
     "metadata": {},
     "output_type": "execute_result"
    }
   ],
   "source": [
    "results_final.index.size"
   ]
  },
  {
   "cell_type": "code",
   "execution_count": 121,
   "metadata": {},
   "outputs": [],
   "source": [
    "results_final.to_pickle(\"data/results_final.pkl\")"
   ]
  },
  {
   "cell_type": "code",
   "execution_count": 6,
   "metadata": {},
   "outputs": [
    {
     "data": {
      "text/plain": [
       "array(['result_id', 'test_id', 'sample_size_mean_op', 'sample_size_mean',\n",
       "       'sample_size_min_op', 'sample_size_min', 'sample_size_max_op',\n",
       "       'sample_size_max', 'sample_size_unit', 'sample_size_comments',\n",
       "       'obs_duration_mean_op', 'obs_duration_mean', 'obs_duration_min_op',\n",
       "       'obs_duration_min', 'obs_duration_max_op', 'obs_duration_max',\n",
       "       'obs_duration_unit', 'obs_duration_comments', 'endpoint',\n",
       "       'endpoint_comments', 'trend', 'effect', 'effect_comments',\n",
       "       'measurement', 'measurement_comments', 'response_site',\n",
       "       'response_site_comments', 'effect_pct_mean_op', 'effect_pct_mean',\n",
       "       'effect_pct_min_op', 'effect_pct_min', 'effect_pct_max_op',\n",
       "       'effect_pct_max', 'effect_pct_comments', 'conc1_type', 'ion1',\n",
       "       'conc1_mean_op', 'conc1_mean', 'conc1_min_op', 'conc1_min',\n",
       "       'conc1_max_op', 'conc1_max', 'conc1_unit', 'conc1_comments',\n",
       "       'conc2_type', 'ion2', 'conc2_mean_op', 'conc2_mean',\n",
       "       'conc2_min_op', 'conc2_min', 'conc2_max_op', 'conc2_max',\n",
       "       'conc2_unit', 'conc2_comments', 'conc3_type', 'ion3',\n",
       "       'conc3_mean_op', 'conc3_mean', 'conc3_min_op', 'conc3_min',\n",
       "       'conc3_max_op', 'conc3_max', 'conc3_unit', 'conc3_comments',\n",
       "       'bcf1_mean_op', 'bcf1_mean', 'bcf1_min_op', 'bcf1_min',\n",
       "       'bcf1_max_op', 'bcf1_max', 'bcf1_unit', 'bcf1_comments',\n",
       "       'bcf2_mean_op', 'bcf2_mean', 'bcf2_min_op', 'bcf2_min',\n",
       "       'bcf2_max_op', 'bcf2_max', 'bcf2_unit', 'bcf2_comments',\n",
       "       'bcf3_mean_op', 'bcf3_mean', 'bcf3_min_op', 'bcf3_min',\n",
       "       'bcf3_max_op', 'bcf3_max', 'bcf3_unit', 'bcf3_comments',\n",
       "       'significance_code', 'significance_type',\n",
       "       'significance_level_mean_op', 'significance_level_mean',\n",
       "       'significance_level_min_op', 'significance_level_min',\n",
       "       'significance_level_max_op', 'significance_level_max',\n",
       "       'significance_comments', 'chem_analysis_method',\n",
       "       'chem_analysis_method_comments', 'endpoint_assigned',\n",
       "       'organism_final_wt_mean_op', 'organism_final_wt_mean',\n",
       "       'organism_final_wt_min_op', 'organism_final_wt_min',\n",
       "       'organism_final_wt_max_op', 'organism_final_wt_max',\n",
       "       'organism_final_wt_unit', 'organism_final_wt_comments',\n",
       "       'intake_rate_mean_op', 'intake_rate_mean', 'intake_rate_min_op',\n",
       "       'intake_rate_min', 'intake_rate_max_op', 'intake_rate_max',\n",
       "       'intake_rate_unit', 'intake_rate_comments', 'lipid_pct_mean_op',\n",
       "       'lipid_pct_mean', 'lipid_pct_min_op', 'lipid_pct_min',\n",
       "       'lipid_pct_max_op', 'lipid_pct_max', 'lipid_pct_comments',\n",
       "       'dry_wet', 'dry_wet_pct_mean_op', 'dry_wet_pct_mean',\n",
       "       'dry_wet_pct_min_op', 'dry_wet_pct_min', 'dry_wet_pct_max_op',\n",
       "       'dry_wet_pct_max', 'dry_wet_pct_comments', 'steady_state',\n",
       "       'additional_comments_x', 'companion_tag', 'created_date_x',\n",
       "       'modified_date_x', 'old_terretox_result_number',\n",
       "       'reference_number', 'test_cas', 'test_grade',\n",
       "       'test_grade_comments', 'test_formulation',\n",
       "       'test_formulation_comments', 'test_radiolabel',\n",
       "       'test_radiolabel_comments', 'test_purity_mean_op',\n",
       "       'test_purity_mean', 'test_purity_min_op', 'test_purity_min',\n",
       "       'test_purity_max_op', 'test_purity_max', 'test_purity_comments',\n",
       "       'test_characteristics', 'species_number', 'organism_habitat',\n",
       "       'organism_source', 'organism_source_comments',\n",
       "       'organism_lifestage', 'organism_lifestage_comments',\n",
       "       'organism_age_mean_op', 'organism_age_mean', 'organism_age_min_op',\n",
       "       'organism_age_min', 'organism_age_max_op', 'organism_age_max',\n",
       "       'organism_age_unit', 'organism_init_wt_mean_op',\n",
       "       'organism_init_wt_mean', 'organism_init_wt_min_op',\n",
       "       'organism_init_wt_min', 'organism_init_wt_max_op',\n",
       "       'organism_init_wt_max', 'organism_init_wt_unit',\n",
       "       'organism_characteristics', 'organism_gender',\n",
       "       'experimental_design', 'study_duration_mean_op',\n",
       "       'study_duration_mean', 'study_duration_min_op',\n",
       "       'study_duration_min', 'study_duration_max_op',\n",
       "       'study_duration_max', 'study_duration_unit',\n",
       "       'study_duration_comments', 'exposure_duration_mean_op',\n",
       "       'exposure_duration_mean', 'exposure_duration_min_op',\n",
       "       'exposure_duration_min', 'exposure_duration_max_op',\n",
       "       'exposure_duration_max', 'exposure_duration_unit',\n",
       "       'exposure_duration_comments', 'study_type', 'study_type_comments',\n",
       "       'test_type', 'test_type_comments', 'test_location',\n",
       "       'test_location_comments', 'test_method', 'test_method_comments',\n",
       "       'exposure_type', 'exposure_type_comments', 'control_type',\n",
       "       'control_type_comments', 'media_type', 'media_type_comments',\n",
       "       'num_doses_mean_op', 'num_doses_mean', 'num_doses_min_op',\n",
       "       'num_doses_min', 'num_doses_max_op', 'num_doses_max',\n",
       "       'num_doses_comments', 'other_effect_comments',\n",
       "       'application_freq_mean_op', 'application_freq_mean',\n",
       "       'application_freq_min_op', 'application_freq_min',\n",
       "       'application_freq_max_op', 'application_freq_max',\n",
       "       'application_freq_unit', 'application_freq_comments',\n",
       "       'application_type', 'application_type_comments',\n",
       "       'application_rate', 'application_rate_unit', 'application_date',\n",
       "       'application_date_comments', 'application_season',\n",
       "       'application_season_comments', 'subhabitat',\n",
       "       'subhabitat_description', 'substrate', 'substrate_description',\n",
       "       'water_depth_mean_op', 'water_depth_mean', 'water_depth_min_op',\n",
       "       'water_depth_min', 'water_depth_max_op', 'water_depth_max',\n",
       "       'water_depth_unit', 'water_depth_comments', 'geographic_code',\n",
       "       'geographic_location', 'latitude', 'longitude', 'halflife_mean_op',\n",
       "       'halflife_mean', 'halflife_min_op', 'halflife_min',\n",
       "       'halflife_max_op', 'halflife_max', 'halflife_unit',\n",
       "       'halflife_comments', 'additional_comments_y', 'created_date_y',\n",
       "       'modified_date_y', 'published_date', 'common_name', 'latin_name',\n",
       "       'kingdom', 'phylum_division', 'subphylum_div', 'superclass',\n",
       "       'class', 'tax_order', 'family', 'genus', 'species', 'subspecies',\n",
       "       'variety', 'ecotox_group'], dtype=object)"
      ]
     },
     "execution_count": 6,
     "metadata": {},
     "output_type": "execute_result"
    }
   ],
   "source": [
    "results_final.columns.values"
   ]
  },
  {
   "cell_type": "markdown",
   "metadata": {},
   "source": [
    "## Looking for null values, outliers and strange units in the new datasets"
   ]
  },
  {
   "cell_type": "markdown",
   "metadata": {},
   "source": [
    "### CAS : Foreign key to CHEMICALS"
   ]
  },
  {
   "cell_type": "code",
   "execution_count": 3,
   "metadata": {},
   "outputs": [],
   "source": [
    "results_final= pd.read_pickle(\"data/results_final.pkl\")"
   ]
  },
  {
   "cell_type": "code",
   "execution_count": 4,
   "metadata": {
    "scrolled": true
   },
   "outputs": [
    {
     "data": {
      "text/plain": [
       "0"
      ]
     },
     "execution_count": 4,
     "metadata": {},
     "output_type": "execute_result"
    }
   ],
   "source": [
    "# It's an index -> shouldn't be null values\n",
    "sum(results_final['test_cas'].isnull())"
   ]
  },
  {
   "cell_type": "markdown",
   "metadata": {},
   "source": [
    "No sense talking about outliers (possible with ECOTOX_GROUP when we will talk about the CAS characteristics)"
   ]
  },
  {
   "cell_type": "markdown",
   "metadata": {},
   "source": [
    "**Defining a function to count the NaN and the possible outputs for one of the interested big features**"
   ]
  },
  {
   "cell_type": "code",
   "execution_count": 11,
   "metadata": {},
   "outputs": [],
   "source": [
    "def null_output_counts(feature, dataframe):\n",
    "    \n",
    "    # Find columns that start with the interesting feature\n",
    "    cols = list(dataframe.columns)\n",
    "    features_interested = [i for i in cols if i.startswith(feature)]\n",
    "    df_nan  = pd.DataFrame (index = features_interested, columns = ['null_values_inc_NC_NR%', '#outputs'])\n",
    "    \n",
    "    #Count total NaN + NR + NC\n",
    "    for i in features_interested:\n",
    "        df_nan['null_values_inc_NC_NR%'][i] = (sum(dataframe[i].isnull()) + len(dataframe[dataframe[i] == \"NR\"]) + len(dataframe[dataframe[i] ==\"NC\"]))/len(dataframe)*100\n",
    "        df_nan['#outputs'][i] = len(dataframe[i].unique())\n",
    "    return df_nan, features_interested"
   ]
  },
  {
   "cell_type": "markdown",
   "metadata": {},
   "source": [
    "### ORGANISMS"
   ]
  },
  {
   "cell_type": "code",
   "execution_count": 7,
   "metadata": {},
   "outputs": [
    {
     "data": {
      "text/html": [
       "<div>\n",
       "<style scoped>\n",
       "    .dataframe tbody tr th:only-of-type {\n",
       "        vertical-align: middle;\n",
       "    }\n",
       "\n",
       "    .dataframe tbody tr th {\n",
       "        vertical-align: top;\n",
       "    }\n",
       "\n",
       "    .dataframe thead th {\n",
       "        text-align: right;\n",
       "    }\n",
       "</style>\n",
       "<table border=\"1\" class=\"dataframe\">\n",
       "  <thead>\n",
       "    <tr style=\"text-align: right;\">\n",
       "      <th></th>\n",
       "      <th>null_values_inc_NC_NR%</th>\n",
       "      <th>#outputs</th>\n",
       "    </tr>\n",
       "  </thead>\n",
       "  <tbody>\n",
       "    <tr>\n",
       "      <th>organism_final_wt_mean_op</th>\n",
       "      <td>100</td>\n",
       "      <td>1</td>\n",
       "    </tr>\n",
       "    <tr>\n",
       "      <th>organism_final_wt_mean</th>\n",
       "      <td>99.9707</td>\n",
       "      <td>6</td>\n",
       "    </tr>\n",
       "    <tr>\n",
       "      <th>organism_final_wt_min_op</th>\n",
       "      <td>100</td>\n",
       "      <td>1</td>\n",
       "    </tr>\n",
       "    <tr>\n",
       "      <th>organism_final_wt_min</th>\n",
       "      <td>99.9722</td>\n",
       "      <td>8</td>\n",
       "    </tr>\n",
       "    <tr>\n",
       "      <th>organism_final_wt_max_op</th>\n",
       "      <td>100</td>\n",
       "      <td>1</td>\n",
       "    </tr>\n",
       "    <tr>\n",
       "      <th>organism_final_wt_max</th>\n",
       "      <td>99.9722</td>\n",
       "      <td>8</td>\n",
       "    </tr>\n",
       "    <tr>\n",
       "      <th>organism_final_wt_unit</th>\n",
       "      <td>99.966</td>\n",
       "      <td>4</td>\n",
       "    </tr>\n",
       "    <tr>\n",
       "      <th>organism_final_wt_comments</th>\n",
       "      <td>100</td>\n",
       "      <td>1</td>\n",
       "    </tr>\n",
       "    <tr>\n",
       "      <th>organism_habitat</th>\n",
       "      <td>0</td>\n",
       "      <td>1</td>\n",
       "    </tr>\n",
       "    <tr>\n",
       "      <th>organism_source</th>\n",
       "      <td>89.7986</td>\n",
       "      <td>9</td>\n",
       "    </tr>\n",
       "    <tr>\n",
       "      <th>organism_source_comments</th>\n",
       "      <td>96.9867</td>\n",
       "      <td>282</td>\n",
       "    </tr>\n",
       "    <tr>\n",
       "      <th>organism_lifestage</th>\n",
       "      <td>63.5653</td>\n",
       "      <td>46</td>\n",
       "    </tr>\n",
       "    <tr>\n",
       "      <th>organism_lifestage_comments</th>\n",
       "      <td>99.9568</td>\n",
       "      <td>9</td>\n",
       "    </tr>\n",
       "    <tr>\n",
       "      <th>organism_age_mean_op</th>\n",
       "      <td>97.725</td>\n",
       "      <td>6</td>\n",
       "    </tr>\n",
       "    <tr>\n",
       "      <th>organism_age_mean</th>\n",
       "      <td>86.6725</td>\n",
       "      <td>130</td>\n",
       "    </tr>\n",
       "    <tr>\n",
       "      <th>organism_age_min_op</th>\n",
       "      <td>99.6664</td>\n",
       "      <td>3</td>\n",
       "    </tr>\n",
       "    <tr>\n",
       "      <th>organism_age_min</th>\n",
       "      <td>93.4513</td>\n",
       "      <td>81</td>\n",
       "    </tr>\n",
       "    <tr>\n",
       "      <th>organism_age_max_op</th>\n",
       "      <td>99.722</td>\n",
       "      <td>3</td>\n",
       "    </tr>\n",
       "    <tr>\n",
       "      <th>organism_age_max</th>\n",
       "      <td>93.4513</td>\n",
       "      <td>94</td>\n",
       "    </tr>\n",
       "    <tr>\n",
       "      <th>organism_age_unit</th>\n",
       "      <td>80.1038</td>\n",
       "      <td>28</td>\n",
       "    </tr>\n",
       "    <tr>\n",
       "      <th>organism_init_wt_mean_op</th>\n",
       "      <td>99.9367</td>\n",
       "      <td>5</td>\n",
       "    </tr>\n",
       "    <tr>\n",
       "      <th>organism_init_wt_mean</th>\n",
       "      <td>93.0868</td>\n",
       "      <td>561</td>\n",
       "    </tr>\n",
       "    <tr>\n",
       "      <th>organism_init_wt_min_op</th>\n",
       "      <td>99.9876</td>\n",
       "      <td>3</td>\n",
       "    </tr>\n",
       "    <tr>\n",
       "      <th>organism_init_wt_min</th>\n",
       "      <td>99.0687</td>\n",
       "      <td>85</td>\n",
       "    </tr>\n",
       "    <tr>\n",
       "      <th>organism_init_wt_max_op</th>\n",
       "      <td>99.9861</td>\n",
       "      <td>4</td>\n",
       "    </tr>\n",
       "    <tr>\n",
       "      <th>organism_init_wt_max</th>\n",
       "      <td>99.0687</td>\n",
       "      <td>93</td>\n",
       "    </tr>\n",
       "    <tr>\n",
       "      <th>organism_init_wt_unit</th>\n",
       "      <td>92.4629</td>\n",
       "      <td>4</td>\n",
       "    </tr>\n",
       "    <tr>\n",
       "      <th>organism_characteristics</th>\n",
       "      <td>31.8151</td>\n",
       "      <td>6521</td>\n",
       "    </tr>\n",
       "    <tr>\n",
       "      <th>organism_gender</th>\n",
       "      <td>99.3451</td>\n",
       "      <td>5</td>\n",
       "    </tr>\n",
       "  </tbody>\n",
       "</table>\n",
       "</div>"
      ],
      "text/plain": [
       "                            null_values_inc_NC_NR% #outputs\n",
       "organism_final_wt_mean_op                      100        1\n",
       "organism_final_wt_mean                     99.9707        6\n",
       "organism_final_wt_min_op                       100        1\n",
       "organism_final_wt_min                      99.9722        8\n",
       "organism_final_wt_max_op                       100        1\n",
       "organism_final_wt_max                      99.9722        8\n",
       "organism_final_wt_unit                      99.966        4\n",
       "organism_final_wt_comments                     100        1\n",
       "organism_habitat                                 0        1\n",
       "organism_source                            89.7986        9\n",
       "organism_source_comments                   96.9867      282\n",
       "organism_lifestage                         63.5653       46\n",
       "organism_lifestage_comments                99.9568        9\n",
       "organism_age_mean_op                        97.725        6\n",
       "organism_age_mean                          86.6725      130\n",
       "organism_age_min_op                        99.6664        3\n",
       "organism_age_min                           93.4513       81\n",
       "organism_age_max_op                         99.722        3\n",
       "organism_age_max                           93.4513       94\n",
       "organism_age_unit                          80.1038       28\n",
       "organism_init_wt_mean_op                   99.9367        5\n",
       "organism_init_wt_mean                      93.0868      561\n",
       "organism_init_wt_min_op                    99.9876        3\n",
       "organism_init_wt_min                       99.0687       85\n",
       "organism_init_wt_max_op                    99.9861        4\n",
       "organism_init_wt_max                       99.0687       93\n",
       "organism_init_wt_unit                      92.4629        4\n",
       "organism_characteristics                   31.8151     6521\n",
       "organism_gender                            99.3451        5"
      ]
     },
     "execution_count": 7,
     "metadata": {},
     "output_type": "execute_result"
    }
   ],
   "source": [
    "# Apply defined function to organism\n",
    "df_org_nan, org_list = null_output_counts(\"organism\", results_final)\n",
    "df_org_nan"
   ]
  },
  {
   "cell_type": "code",
   "execution_count": 9,
   "metadata": {},
   "outputs": [
    {
     "data": {
      "text/html": [
       "<div>\n",
       "<style scoped>\n",
       "    .dataframe tbody tr th:only-of-type {\n",
       "        vertical-align: middle;\n",
       "    }\n",
       "\n",
       "    .dataframe tbody tr th {\n",
       "        vertical-align: top;\n",
       "    }\n",
       "\n",
       "    .dataframe thead th {\n",
       "        text-align: right;\n",
       "    }\n",
       "</style>\n",
       "<table border=\"1\" class=\"dataframe\">\n",
       "  <thead>\n",
       "    <tr style=\"text-align: right;\">\n",
       "      <th></th>\n",
       "      <th>null_values_inc_NC_NR%</th>\n",
       "      <th>#outputs</th>\n",
       "    </tr>\n",
       "  </thead>\n",
       "  <tbody>\n",
       "    <tr>\n",
       "      <th>organism_habitat</th>\n",
       "      <td>0</td>\n",
       "      <td>1</td>\n",
       "    </tr>\n",
       "    <tr>\n",
       "      <th>organism_lifestage</th>\n",
       "      <td>63.5653</td>\n",
       "      <td>46</td>\n",
       "    </tr>\n",
       "    <tr>\n",
       "      <th>organism_characteristics</th>\n",
       "      <td>31.8151</td>\n",
       "      <td>6521</td>\n",
       "    </tr>\n",
       "  </tbody>\n",
       "</table>\n",
       "</div>"
      ],
      "text/plain": [
       "                         null_values_inc_NC_NR% #outputs\n",
       "organism_habitat                              0        1\n",
       "organism_lifestage                      63.5653       46\n",
       "organism_characteristics                31.8151     6521"
      ]
     },
     "execution_count": 9,
     "metadata": {},
     "output_type": "execute_result"
    }
   ],
   "source": [
    "df_org_nan[df_org_nan['null_values_inc_NC_NR%']<=65]"
   ]
  },
  {
   "cell_type": "code",
   "execution_count": 30,
   "metadata": {},
   "outputs": [],
   "source": [
    "columns_final = [\"organism_lifestage\", \"organism_characteristics\"]"
   ]
  },
  {
   "cell_type": "markdown",
   "metadata": {},
   "source": [
    "*Organism_habitat* has only one output, so we condiser it irrelevant for the analysis."
   ]
  },
  {
   "cell_type": "markdown",
   "metadata": {},
   "source": [
    "**Usable features**: *organism_lifestage* *organism_characteristics*(?)"
   ]
  },
  {
   "cell_type": "markdown",
   "metadata": {},
   "source": [
    "*organism_characteristics*"
   ]
  },
  {
   "cell_type": "code",
   "execution_count": 13,
   "metadata": {},
   "outputs": [
    {
     "data": {
      "text/plain": [
       "NR       20574\n",
       "1G         894\n",
       "0.8G       750\n",
       "N.R.       654\n",
       "0.5 G      629\n",
       "0.7G       560\n",
       "0.6G       489\n",
       "1.1 G      483\n",
       "0.9G       475\n",
       "1 G        461\n",
       "Name: organism_characteristics, dtype: int64"
      ]
     },
     "execution_count": 13,
     "metadata": {},
     "output_type": "execute_result"
    }
   ],
   "source": [
    "results_final.organism_characteristics.value_counts().head(10)"
   ]
  },
  {
   "cell_type": "markdown",
   "metadata": {},
   "source": [
    "*Organism_characteristics* has too many outputs, so we condiser it irrelevant for the analysis."
   ]
  },
  {
   "cell_type": "markdown",
   "metadata": {},
   "source": [
    "*organism_lifestage*"
   ]
  },
  {
   "cell_type": "code",
   "execution_count": 14,
   "metadata": {},
   "outputs": [
    {
     "data": {
      "text/plain": [
       "NR    38329\n",
       "JV     6412\n",
       "FI     3944\n",
       "LV     2899\n",
       "NC     2827\n",
       "FY     2584\n",
       "AD     2003\n",
       "EG     1093\n",
       "EM      959\n",
       "SU      542\n",
       "SF      501\n",
       "YY      476\n",
       "YO      321\n",
       "AL      265\n",
       "MX      257\n",
       "YE      196\n",
       "EY      154\n",
       "LR       99\n",
       "PA       96\n",
       "UY       92\n",
       "Name: organism_lifestage, dtype: int64"
      ]
     },
     "execution_count": 14,
     "metadata": {},
     "output_type": "execute_result"
    }
   ],
   "source": [
    "results_final.organism_lifestage.value_counts(dropna=False).head(20)"
   ]
  },
  {
   "cell_type": "markdown",
   "metadata": {},
   "source": [
    "A lot of NR and NC, but once dropped/imputed (I don't see how imputing a categorical like this one) seems a useful feature.\n",
    "<br>\n",
    "We could also creates other dataframe has we did in the previous project."
   ]
  },
  {
   "cell_type": "markdown",
   "metadata": {},
   "source": [
    "Let's have a look at the other variable, to see how they are distributed"
   ]
  },
  {
   "cell_type": "code",
   "execution_count": 16,
   "metadata": {
    "scrolled": true
   },
   "outputs": [],
   "source": [
    "organism_lifestage_unit_counts=results_final[(results_final.organism_lifestage!='NR')&(results_final.organism_lifestage!='NC')]\\\n",
    "                                .organism_lifestage.value_counts()"
   ]
  },
  {
   "cell_type": "code",
   "execution_count": 27,
   "metadata": {},
   "outputs": [
    {
     "name": "stderr",
     "output_type": "stream",
     "text": [
      "c:\\users\\mvice\\anaconda3\\lib\\site-packages\\ipykernel_launcher.py:1: FutureWarning: `Series.plot()` should not be called with positional arguments, only keyword arguments. The order of positional arguments will change in the future. Use `Series.plot(kind='barh')` instead of `Series.plot('barh',)`.\n",
      "  \"\"\"Entry point for launching an IPython kernel.\n"
     ]
    },
    {
     "data": {
      "image/png": "[encoded data removed]",
      "text/plain": [
       "<Figure size 1080x576 with 1 Axes>"
      ]
     },
     "metadata": {
      "needs_background": "light"
     },
     "output_type": "display_data"
    }
   ],
   "source": [
    "organism_lifestage_unit_counts.plot('barh', log=True)\n",
    "plt.title(\"Distribution of the organism_lifestage_unit values\")\n",
    "plt.xlabel(\"Counts\")\n",
    "plt.ylabel(\"Units\");"
   ]
  },
  {
   "cell_type": "markdown",
   "metadata": {},
   "source": [
    "### EXPOSURES\\OBSERVATION\\STUDY DURATION"
   ]
  },
  {
   "cell_type": "markdown",
   "metadata": {},
   "source": [
    "Considering all the columns considering a \"duration\" inside"
   ]
  },
  {
   "cell_type": "code",
   "execution_count": 127,
   "metadata": {},
   "outputs": [
    {
     "data": {
      "text/plain": [
       "Index(['obs_duration_mean_op', 'obs_duration_mean', 'obs_duration_min_op',\n",
       "       'obs_duration_min', 'obs_duration_max_op', 'obs_duration_max',\n",
       "       'obs_duration_unit', 'obs_duration_comments', 'study_duration_mean_op',\n",
       "       'study_duration_mean', 'study_duration_min_op', 'study_duration_min',\n",
       "       'study_duration_max_op', 'study_duration_max', 'study_duration_unit',\n",
       "       'study_duration_comments', 'exposure_duration_mean_op',\n",
       "       'exposure_duration_mean', 'exposure_duration_min_op',\n",
       "       'exposure_duration_min', 'exposure_duration_max_op',\n",
       "       'exposure_duration_max', 'exposure_duration_unit',\n",
       "       'exposure_duration_comments'],\n",
       "      dtype='object')"
      ]
     },
     "execution_count": 127,
     "metadata": {},
     "output_type": "execute_result"
    }
   ],
   "source": [
    "results_final.columns[results_final.columns.str.contains(\"duration\")]"
   ]
  },
  {
   "cell_type": "markdown",
   "metadata": {},
   "source": [
    "We have **exposure, observation or study duration**.\n",
    "#### Starting by exposure"
   ]
  },
  {
   "cell_type": "code",
   "execution_count": 136,
   "metadata": {},
   "outputs": [
    {
     "data": {
      "text/html": [
       "<div>\n",
       "<style scoped>\n",
       "    .dataframe tbody tr th:only-of-type {\n",
       "        vertical-align: middle;\n",
       "    }\n",
       "\n",
       "    .dataframe tbody tr th {\n",
       "        vertical-align: top;\n",
       "    }\n",
       "\n",
       "    .dataframe thead th {\n",
       "        text-align: right;\n",
       "    }\n",
       "</style>\n",
       "<table border=\"1\" class=\"dataframe\">\n",
       "  <thead>\n",
       "    <tr style=\"text-align: right;\">\n",
       "      <th></th>\n",
       "      <th>null_values_inc_NC_NR%</th>\n",
       "      <th>#outputs</th>\n",
       "    </tr>\n",
       "  </thead>\n",
       "  <tbody>\n",
       "    <tr>\n",
       "      <td>exposure_duration_mean_op</td>\n",
       "      <td>99.8224</td>\n",
       "      <td>5</td>\n",
       "    </tr>\n",
       "    <tr>\n",
       "      <td>exposure_duration_mean</td>\n",
       "      <td>85.3705</td>\n",
       "      <td>74</td>\n",
       "    </tr>\n",
       "    <tr>\n",
       "      <td>exposure_duration_min_op</td>\n",
       "      <td>99.9645</td>\n",
       "      <td>3</td>\n",
       "    </tr>\n",
       "    <tr>\n",
       "      <td>exposure_duration_min</td>\n",
       "      <td>99.9537</td>\n",
       "      <td>6</td>\n",
       "    </tr>\n",
       "    <tr>\n",
       "      <td>exposure_duration_max_op</td>\n",
       "      <td>99.9645</td>\n",
       "      <td>3</td>\n",
       "    </tr>\n",
       "    <tr>\n",
       "      <td>exposure_duration_max</td>\n",
       "      <td>99.9537</td>\n",
       "      <td>6</td>\n",
       "    </tr>\n",
       "    <tr>\n",
       "      <td>exposure_duration_unit</td>\n",
       "      <td>85.3242</td>\n",
       "      <td>10</td>\n",
       "    </tr>\n",
       "    <tr>\n",
       "      <td>exposure_duration_comments</td>\n",
       "      <td>99.9521</td>\n",
       "      <td>3</td>\n",
       "    </tr>\n",
       "    <tr>\n",
       "      <td>exposure_type</td>\n",
       "      <td>8.2229</td>\n",
       "      <td>21</td>\n",
       "    </tr>\n",
       "    <tr>\n",
       "      <td>exposure_type_comments</td>\n",
       "      <td>99.7359</td>\n",
       "      <td>2</td>\n",
       "    </tr>\n",
       "  </tbody>\n",
       "</table>\n",
       "</div>"
      ],
      "text/plain": [
       "                           null_values_inc_NC_NR% #outputs\n",
       "exposure_duration_mean_op                 99.8224        5\n",
       "exposure_duration_mean                    85.3705       74\n",
       "exposure_duration_min_op                  99.9645        3\n",
       "exposure_duration_min                     99.9537        6\n",
       "exposure_duration_max_op                  99.9645        3\n",
       "exposure_duration_max                     99.9537        6\n",
       "exposure_duration_unit                    85.3242       10\n",
       "exposure_duration_comments                99.9521        3\n",
       "exposure_type                              8.2229       21\n",
       "exposure_type_comments                    99.7359        2"
      ]
     },
     "execution_count": 136,
     "metadata": {},
     "output_type": "execute_result"
    }
   ],
   "source": [
    "# Computing dataframe for exposure\n",
    "df_exp_nan, exp_list = null_output_counts(\"exposure\", results_final)\n",
    "df_exp_nan"
   ]
  },
  {
   "cell_type": "markdown",
   "metadata": {},
   "source": [
    "**85%** of the exposure_duration_mean (most interesting feature here are **missing**). **exposure_type** could contain useful info.  \n",
    "Moving on considering duration_unit, mean and exposure_type"
   ]
  },
  {
   "cell_type": "code",
   "execution_count": 123,
   "metadata": {},
   "outputs": [],
   "source": [
    "exp_intrs = [\"exposure_duration_unit\", \"exposure_duration_mean\", \"exposure_type\"]\n",
    "df_exp = results_final[exp_intrs]"
   ]
  },
  {
   "cell_type": "markdown",
   "metadata": {},
   "source": [
    "Counting the number of each value:"
   ]
  },
  {
   "cell_type": "code",
   "execution_count": 124,
   "metadata": {},
   "outputs": [
    {
     "data": {
      "text/plain": [
       "NC     55243\n",
       "h       8882\n",
       "d        520\n",
       "mi        43\n",
       "hpf       42\n",
       "dph        8\n",
       "dpf        5\n",
       "ht         1\n",
       "wk         1\n",
       "NaN        1\n",
       "Name: exposure_duration_unit, dtype: int64"
      ]
     },
     "execution_count": 124,
     "metadata": {},
     "output_type": "execute_result"
    }
   ],
   "source": [
    "exposure_duration_unit_counts = df_exp.exposure_duration_unit.value_counts(dropna=False)\n",
    "exposure_duration_unit_counts"
   ]
  },
  {
   "cell_type": "code",
   "execution_count": 160,
   "metadata": {},
   "outputs": [],
   "source": [
    "# Removing NaN for plot\n",
    "exposure_duration_unit_counts = df_exp.exposure_duration_unit.value_counts()"
   ]
  },
  {
   "cell_type": "code",
   "execution_count": 167,
   "metadata": {},
   "outputs": [
    {
     "data": {
      "image/png": "[encoded data removed]",
      "text/plain": [
       "<Figure size 1080x576 with 1 Axes>"
      ]
     },
     "metadata": {
      "needs_background": "light"
     },
     "output_type": "display_data"
    }
   ],
   "source": [
    "plt.barh(exposure_duration_unit_counts.index, exposure_duration_unit_counts.values, log=True)\n",
    "plt.title(\"Distribution of the exposure_duration_unit values\")\n",
    "plt.xlabel(\"Counts\")\n",
    "plt.ylabel(\"Units\");"
   ]
  },
  {
   "cell_type": "markdown",
   "metadata": {},
   "source": [
    "**_Note_: log scale used**"
   ]
  },
  {
   "cell_type": "markdown",
   "metadata": {},
   "source": [
    "**55243 NC + 14 NaN**.  \n",
    "Reflecting in exposure_duration_mean:"
   ]
  },
  {
   "cell_type": "code",
   "execution_count": 128,
   "metadata": {},
   "outputs": [
    {
     "data": {
      "text/plain": [
       "NC    55243\n",
       "Name: exposure_duration_mean, dtype: int64"
      ]
     },
     "execution_count": 128,
     "metadata": {},
     "output_type": "execute_result"
    }
   ],
   "source": [
    "df_exp[df_exp.exposure_duration_unit == \"NC\"].exposure_duration_mean.value_counts(dropna=False)"
   ]
  },
  {
   "cell_type": "markdown",
   "metadata": {},
   "source": [
    "Same number: **all NC** from one side have the same NC in duration_mean"
   ]
  },
  {
   "cell_type": "markdown",
   "metadata": {},
   "source": [
    "Duration unit meanings:\n",
    "- h/d/wk/mi/s/mo/yr = hour/day/weeks/minute/seconds/month/years\n",
    "- ht: until hatch\n",
    "- dph: days post hatch\n",
    "- hpf: hours post fertilization\n",
    "\n",
    "Full list in **data/DataCodes.pdf (Appendix I)**\n",
    "\n",
    "Considering the top cases for strange units:"
   ]
  },
  {
   "cell_type": "code",
   "execution_count": 130,
   "metadata": {},
   "outputs": [
    {
     "data": {
      "text/plain": [
       "96     31\n",
       "144     7\n",
       "120     3\n",
       "NR      1\n",
       "Name: exposure_duration_mean, dtype: int64"
      ]
     },
     "execution_count": 130,
     "metadata": {},
     "output_type": "execute_result"
    }
   ],
   "source": [
    "df_exp[df_exp.exposure_duration_unit == \"hpf\"].exposure_duration_mean.value_counts(dropna=False)"
   ]
  },
  {
   "cell_type": "code",
   "execution_count": 131,
   "metadata": {},
   "outputs": [
    {
     "data": {
      "text/plain": [
       "28    8\n",
       "Name: exposure_duration_mean, dtype: int64"
      ]
     },
     "execution_count": 131,
     "metadata": {},
     "output_type": "execute_result"
    }
   ],
   "source": [
    "df_exp[df_exp.exposure_duration_unit == \"dph\"].exposure_duration_mean.value_counts(dropna=False)"
   ]
  },
  {
   "cell_type": "code",
   "execution_count": 132,
   "metadata": {},
   "outputs": [
    {
     "data": {
      "text/plain": [
       "NaN    1\n",
       "Name: exposure_duration_mean, dtype: int64"
      ]
     },
     "execution_count": 132,
     "metadata": {},
     "output_type": "execute_result"
    }
   ],
   "source": [
    "df_exp[df_exp.exposure_duration_unit == \"ht\"].exposure_duration_mean.value_counts(dropna=False)"
   ]
  },
  {
   "cell_type": "markdown",
   "metadata": {},
   "source": [
    "The strange values could be converted easily. Hovewer, the problem is the **high value of missing numbers**  \n",
    "Analyzing exposure_type:"
   ]
  },
  {
   "cell_type": "code",
   "execution_count": 139,
   "metadata": {},
   "outputs": [
    {
     "data": {
      "text/plain": [
       "array(['S', 'F', 'NR', 'R', 'AQUA - NR', 'YK', 'P', 'S/', 'E', 'IP', 'R/',\n",
       "       'SP', 'NR/', 'OR', 'F/', 'P/', 'O', 'IV', 'FD', 'SC', 'IJ'],\n",
       "      dtype=object)"
      ]
     },
     "execution_count": 139,
     "metadata": {},
     "output_type": "execute_result"
    }
   ],
   "source": [
    "df_exp.exposure_type.unique()"
   ]
  },
  {
   "cell_type": "markdown",
   "metadata": {},
   "source": [
    "Seems good as categorical. Counting:"
   ]
  },
  {
   "cell_type": "code",
   "execution_count": 140,
   "metadata": {},
   "outputs": [
    {
     "data": {
      "text/plain": [
       "S            38337\n",
       "F            13376\n",
       "R             6790\n",
       "NR            5324\n",
       "AQUA - NR      517\n",
       "P              131\n",
       "S/              70\n",
       "R/              69\n",
       "E               48\n",
       "O               19\n",
       "NR/             14\n",
       "IP              13\n",
       "F/              12\n",
       "YK               7\n",
       "P/               6\n",
       "OR               4\n",
       "FD               3\n",
       "IV               3\n",
       "SP               1\n",
       "IJ               1\n",
       "SC               1\n",
       "Name: exposure_type, dtype: int64"
      ]
     },
     "execution_count": 140,
     "metadata": {},
     "output_type": "execute_result"
    }
   ],
   "source": [
    "exposure_type_counts = df_exp.exposure_type.value_counts(dropna=False)\n",
    "exposure_type_counts"
   ]
  },
  {
   "cell_type": "markdown",
   "metadata": {},
   "source": [
    "About 5000 missing values: can be used after **imputing them**  \n",
    "*Idea*: using AQUA for all of them (?)"
   ]
  },
  {
   "cell_type": "code",
   "execution_count": 31,
   "metadata": {},
   "outputs": [],
   "source": [
    "columns_final.append(\"exposure_type\")"
   ]
  },
  {
   "cell_type": "code",
   "execution_count": 168,
   "metadata": {},
   "outputs": [
    {
     "data": {
      "image/png": "[encoded data removed]",
      "text/plain": [
       "<Figure size 1080x576 with 1 Axes>"
      ]
     },
     "metadata": {
      "needs_background": "light"
     },
     "output_type": "display_data"
    }
   ],
   "source": [
    "plt.barh(exposure_type_counts.index, exposure_type_counts.values, log=True)\n",
    "plt.title(\"Distribution of the exposure_type values\")\n",
    "plt.xlabel(\"Counts\")\n",
    "plt.ylabel(\"Types\");"
   ]
  },
  {
   "cell_type": "markdown",
   "metadata": {},
   "source": [
    "**_Note_: log scale used**"
   ]
  },
  {
   "cell_type": "markdown",
   "metadata": {},
   "source": [
    "#### Observation duration"
   ]
  },
  {
   "cell_type": "code",
   "execution_count": 135,
   "metadata": {},
   "outputs": [
    {
     "data": {
      "text/html": [
       "<div>\n",
       "<style scoped>\n",
       "    .dataframe tbody tr th:only-of-type {\n",
       "        vertical-align: middle;\n",
       "    }\n",
       "\n",
       "    .dataframe tbody tr th {\n",
       "        vertical-align: top;\n",
       "    }\n",
       "\n",
       "    .dataframe thead th {\n",
       "        text-align: right;\n",
       "    }\n",
       "</style>\n",
       "<table border=\"1\" class=\"dataframe\">\n",
       "  <thead>\n",
       "    <tr style=\"text-align: right;\">\n",
       "      <th></th>\n",
       "      <th>null_values_inc_NC_NR%</th>\n",
       "      <th>#outputs</th>\n",
       "    </tr>\n",
       "  </thead>\n",
       "  <tbody>\n",
       "    <tr>\n",
       "      <td>obs_duration_mean_op</td>\n",
       "      <td>99.4424</td>\n",
       "      <td>5</td>\n",
       "    </tr>\n",
       "    <tr>\n",
       "      <td>obs_duration_mean</td>\n",
       "      <td>1.85649</td>\n",
       "      <td>325</td>\n",
       "    </tr>\n",
       "    <tr>\n",
       "      <td>obs_duration_min_op</td>\n",
       "      <td>98.6517</td>\n",
       "      <td>3</td>\n",
       "    </tr>\n",
       "    <tr>\n",
       "      <td>obs_duration_min</td>\n",
       "      <td>98.4879</td>\n",
       "      <td>80</td>\n",
       "    </tr>\n",
       "    <tr>\n",
       "      <td>obs_duration_max_op</td>\n",
       "      <td>98.6547</td>\n",
       "      <td>3</td>\n",
       "    </tr>\n",
       "    <tr>\n",
       "      <td>obs_duration_max</td>\n",
       "      <td>98.4879</td>\n",
       "      <td>88</td>\n",
       "    </tr>\n",
       "    <tr>\n",
       "      <td>obs_duration_unit</td>\n",
       "      <td>0.294999</td>\n",
       "      <td>14</td>\n",
       "    </tr>\n",
       "    <tr>\n",
       "      <td>obs_duration_comments</td>\n",
       "      <td>97.257</td>\n",
       "      <td>7</td>\n",
       "    </tr>\n",
       "  </tbody>\n",
       "</table>\n",
       "</div>"
      ],
      "text/plain": [
       "                      null_values_inc_NC_NR% #outputs\n",
       "obs_duration_mean_op                 99.4424        5\n",
       "obs_duration_mean                    1.85649      325\n",
       "obs_duration_min_op                  98.6517        3\n",
       "obs_duration_min                     98.4879       80\n",
       "obs_duration_max_op                  98.6547        3\n",
       "obs_duration_max                     98.4879       88\n",
       "obs_duration_unit                   0.294999       14\n",
       "obs_duration_comments                 97.257        7"
      ]
     },
     "execution_count": 135,
     "metadata": {},
     "output_type": "execute_result"
    }
   ],
   "source": [
    "df_obs_nan, exp_list = null_output_counts(\"obs\", results_final)\n",
    "df_obs_nan"
   ]
  },
  {
   "cell_type": "markdown",
   "metadata": {},
   "source": [
    "Very good results for **duration_mean** and **duration_unit**. Anaylzing them"
   ]
  },
  {
   "cell_type": "code",
   "execution_count": 153,
   "metadata": {},
   "outputs": [],
   "source": [
    "obs_intrs = [\"obs_duration_unit\", \"obs_duration_mean\"]\n",
    "df_obs = results_final[obs_intrs]"
   ]
  },
  {
   "cell_type": "code",
   "execution_count": 33,
   "metadata": {},
   "outputs": [],
   "source": [
    "columns_final += [\"obs_duration_unit\", \"obs_duration_mean\"]"
   ]
  },
  {
   "cell_type": "markdown",
   "metadata": {},
   "source": [
    "Analyzing duration units:"
   ]
  },
  {
   "cell_type": "code",
   "execution_count": 171,
   "metadata": {},
   "outputs": [
    {
     "data": {
      "text/plain": [
       "h      60617\n",
       "d       3457\n",
       "NR       191\n",
       "mi       162\n",
       "wk       119\n",
       "hpf       66\n",
       "dph       52\n",
       "mo        36\n",
       "ht        31\n",
       "dpf       10\n",
       "fry        2\n",
       "ma         1\n",
       "dpu        1\n",
       "hv         1\n",
       "Name: obs_duration_unit, dtype: int64"
      ]
     },
     "execution_count": 171,
     "metadata": {},
     "output_type": "execute_result"
    }
   ],
   "source": [
    "obs_duration_unit_counts = df_obs.obs_duration_unit.value_counts(dropna=False)\n",
    "obs_duration_unit_counts"
   ]
  },
  {
   "cell_type": "markdown",
   "metadata": {},
   "source": [
    "**191 NR**.\n",
    "- dpf: days post fertilization\n",
    "(The one with just 1 can be dropped)"
   ]
  },
  {
   "cell_type": "code",
   "execution_count": 172,
   "metadata": {},
   "outputs": [
    {
     "data": {
      "image/png": "[encoded data removed]",
      "text/plain": [
       "<Figure size 1080x576 with 1 Axes>"
      ]
     },
     "metadata": {
      "needs_background": "light"
     },
     "output_type": "display_data"
    }
   ],
   "source": [
    "plt.barh(obs_duration_unit_counts.index, obs_duration_unit_counts.values, log=True)\n",
    "plt.title(\"Distribution of the obs_duration_unit_counts values\")\n",
    "plt.xlabel(\"Counts\")\n",
    "plt.ylabel(\"Unit\");"
   ]
  },
  {
   "cell_type": "markdown",
   "metadata": {},
   "source": [
    "**log scale**  \n",
    "Looking into NR values"
   ]
  },
  {
   "cell_type": "code",
   "execution_count": 173,
   "metadata": {},
   "outputs": [
    {
     "data": {
      "text/plain": [
       "NR    191\n",
       "Name: obs_duration_mean, dtype: int64"
      ]
     },
     "execution_count": 173,
     "metadata": {},
     "output_type": "execute_result"
    }
   ],
   "source": [
    "df_obs[df_obs.obs_duration_unit == \"NR\"].obs_duration_mean.value_counts(dropna=False)"
   ]
  },
  {
   "cell_type": "markdown",
   "metadata": {},
   "source": [
    "They are **both NR**. We could **drop** them without problem and proceed  \n",
    "Analyzing the durations mean to look at the missing values"
   ]
  },
  {
   "cell_type": "code",
   "execution_count": 183,
   "metadata": {},
   "outputs": [
    {
     "data": {
      "text/plain": [
       "NR    1201\n",
       "Name: obs_duration_mean, dtype: int64"
      ]
     },
     "execution_count": 183,
     "metadata": {},
     "output_type": "execute_result"
    }
   ],
   "source": [
    "obs_duration_means_count = df_obs.obs_duration_mean.value_counts(dropna=False)\n",
    "indexs_nulls = ((obs_duration_means_count.index == \"NR\") | (obs_duration_means_count.index == \"NC\") | (obs_duration_means_count.index == \"NaN\"))\n",
    "obs_duration_means_count[indexs_nulls]"
   ]
  },
  {
   "cell_type": "markdown",
   "metadata": {},
   "source": [
    "Only **NR**, for a total of 1201 values. Considering in which categories of unit these fall:"
   ]
  },
  {
   "cell_type": "code",
   "execution_count": 186,
   "metadata": {},
   "outputs": [
    {
     "data": {
      "text/plain": [
       "h      864\n",
       "NR     191\n",
       "d       89\n",
       "ht      29\n",
       "mi      23\n",
       "wk       3\n",
       "fry      2\n",
       "Name: obs_duration_unit, dtype: int64"
      ]
     },
     "execution_count": 186,
     "metadata": {},
     "output_type": "execute_result"
    }
   ],
   "source": [
    "null_obs_on_unit = df_obs[df_obs.obs_duration_mean == \"NR\"].obs_duration_unit.value_counts(dropna=False)\n",
    "null_obs_on_unit"
   ]
  },
  {
   "cell_type": "code",
   "execution_count": 191,
   "metadata": {},
   "outputs": [
    {
     "data": {
      "image/png": "[encoded data removed]",
      "text/plain": [
       "<Figure size 1080x576 with 1 Axes>"
      ]
     },
     "metadata": {
      "needs_background": "light"
     },
     "output_type": "display_data"
    }
   ],
   "source": [
    "#plot of the distribution of null values across different units:\n",
    "null_obs_on_unit.plot(kind=\"barh\")\n",
    "plt.title(\"Distribution of the null values inside unit\")\n",
    "plt.xlabel(\"Counts\")\n",
    "plt.ylabel(\"Unit\");"
   ]
  },
  {
   "cell_type": "markdown",
   "metadata": {},
   "source": [
    "The value with most nulls is hour (but it has a total of 60000 possible values inside). We could drop or impute them.  \n",
    "**Simple imputing method: assign them the median/mean of the other values inside the same unit**\n",
    "Next, plot of the distribution of units inside the hours/days groups"
   ]
  },
  {
   "cell_type": "code",
   "execution_count": 242,
   "metadata": {},
   "outputs": [
    {
     "data": {
      "image/png": "[encoded data removed]",
      "text/plain": [
       "<Figure size 1080x576 with 1 Axes>"
      ]
     },
     "metadata": {
      "needs_background": "light"
     },
     "output_type": "display_data"
    }
   ],
   "source": [
    "obs_means_h_count = df_obs[df_obs.obs_duration_unit==\"h\"].obs_duration_mean.value_counts(dropna=False)\n",
    "obs_means_h_count.plot(kind=\"barh\", log=True)\n",
    "plt.yticks([]);\n",
    "plt.title(\"Distribution of the hour values\")\n",
    "plt.xlabel(\"Counts\")\n",
    "plt.ylabel(\"value\");"
   ]
  },
  {
   "cell_type": "code",
   "execution_count": 237,
   "metadata": {},
   "outputs": [
    {
     "data": {
      "text/plain": [
       "285"
      ]
     },
     "execution_count": 237,
     "metadata": {},
     "output_type": "execute_result"
    }
   ],
   "source": [
    "obs_means_h_count.index.size"
   ]
  },
  {
   "cell_type": "code",
   "execution_count": 271,
   "metadata": {},
   "outputs": [
    {
     "data": {
      "image/png": "[encoded data removed]",
      "text/plain": [
       "<Figure size 1080x576 with 1 Axes>"
      ]
     },
     "metadata": {
      "needs_background": "light"
     },
     "output_type": "display_data"
    }
   ],
   "source": [
    "#histogram for better visualize\n",
    "df_obs[df_obs.obs_duration_unit==\"h\"].obs_duration_mean.hist(bins=30)\n",
    "plt.yscale(\"log\")\n",
    "plt.title(\"Distribution of the hour values in log axis\")\n",
    "plt.xlabel(\"Value\")\n",
    "plt.ylabel(\"Counts\");"
   ]
  },
  {
   "cell_type": "markdown",
   "metadata": {},
   "source": [
    "Power law, many experiments dure the same, other very rare\n",
    "Impossible to visualize all the counts, printing the top"
   ]
  },
  {
   "cell_type": "code",
   "execution_count": 204,
   "metadata": {},
   "outputs": [
    {
     "data": {
      "text/plain": [
       "96     26981\n",
       "24     12728\n",
       "48     10909\n",
       "72      3178\n",
       "6       1046\n",
       "NR       864\n",
       "3        789\n",
       "12       670\n",
       "1        522\n",
       "120      301\n",
       "2        191\n",
       "168      191\n",
       "144      182\n",
       "36       173\n",
       "9        141\n",
       "Name: obs_duration_mean, dtype: int64"
      ]
     },
     "execution_count": 204,
     "metadata": {},
     "output_type": "execute_result"
    }
   ],
   "source": [
    "obs_means_h_count.head(15)"
   ]
  },
  {
   "cell_type": "markdown",
   "metadata": {},
   "source": [
    "Lot of variety seen, but the feature can be used for sure one imputed missing values"
   ]
  },
  {
   "cell_type": "code",
   "execution_count": 246,
   "metadata": {},
   "outputs": [
    {
     "data": {
      "text/plain": [
       "94"
      ]
     },
     "execution_count": 246,
     "metadata": {},
     "output_type": "execute_result"
    }
   ],
   "source": [
    "obs_means_d_count.index.size"
   ]
  },
  {
   "cell_type": "code",
   "execution_count": 245,
   "metadata": {},
   "outputs": [
    {
     "data": {
      "image/png": "[encoded data removed]",
      "text/plain": [
       "<Figure size 1080x576 with 1 Axes>"
      ]
     },
     "metadata": {
      "needs_background": "light"
     },
     "output_type": "display_data"
    }
   ],
   "source": [
    "obs_means_d_count = df_obs[df_obs.obs_duration_unit==\"d\"].obs_duration_mean.value_counts(dropna=False)\n",
    "obs_means_d_count.plot(kind=\"barh\", log=True)\n",
    "plt.yticks([]);\n",
    "plt.title(\"Distribution of the day values\")\n",
    "plt.xlabel(\"Counts\")\n",
    "plt.ylabel(\"value\");"
   ]
  },
  {
   "cell_type": "code",
   "execution_count": 269,
   "metadata": {},
   "outputs": [
    {
     "data": {
      "image/png": "[encoded data removed]",
      "text/plain": [
       "<Figure size 1080x576 with 1 Axes>"
      ]
     },
     "metadata": {
      "needs_background": "light"
     },
     "output_type": "display_data"
    }
   ],
   "source": [
    "#obs_means_d_count.hist(bins=50)\n",
    "df_obs[df_obs.obs_duration_unit==\"d\"].obs_duration_mean.hist(bins = 30)\n",
    "plt.yscale(\"log\")\n",
    "plt.title(\"Distribution of the hour values in log\")\n",
    "plt.xlabel(\"Value\")\n",
    "plt.ylabel(\"Counts\");\n",
    "#plt.xticks([]);"
   ]
  },
  {
   "cell_type": "markdown",
   "metadata": {},
   "source": [
    "The duration of the experiments assume the form of a power law. Most of the experiments have the same duration, with other very rare"
   ]
  },
  {
   "cell_type": "code",
   "execution_count": 206,
   "metadata": {},
   "outputs": [
    {
     "data": {
      "text/plain": [
       "7     606\n",
       "4     323\n",
       "5     250\n",
       "8     213\n",
       "10    181\n",
       "28    177\n",
       "14    153\n",
       "11    123\n",
       "6     120\n",
       "9     113\n",
       "NR     89\n",
       "30     89\n",
       "12     77\n",
       "20     73\n",
       "21     70\n",
       "Name: obs_duration_mean, dtype: int64"
      ]
     },
     "execution_count": 206,
     "metadata": {},
     "output_type": "execute_result"
    }
   ],
   "source": [
    "obs_means_d_count.head(15)"
   ]
  },
  {
   "cell_type": "markdown",
   "metadata": {},
   "source": [
    "Same as before.\n",
    "#### Using this feature, after all the necessary imputation can be productive"
   ]
  },
  {
   "cell_type": "markdown",
   "metadata": {},
   "source": [
    "### Study duration case"
   ]
  },
  {
   "cell_type": "code",
   "execution_count": 207,
   "metadata": {},
   "outputs": [
    {
     "data": {
      "text/html": [
       "<div>\n",
       "<style scoped>\n",
       "    .dataframe tbody tr th:only-of-type {\n",
       "        vertical-align: middle;\n",
       "    }\n",
       "\n",
       "    .dataframe tbody tr th {\n",
       "        vertical-align: top;\n",
       "    }\n",
       "\n",
       "    .dataframe thead th {\n",
       "        text-align: right;\n",
       "    }\n",
       "</style>\n",
       "<table border=\"1\" class=\"dataframe\">\n",
       "  <thead>\n",
       "    <tr style=\"text-align: right;\">\n",
       "      <th></th>\n",
       "      <th>null_values_inc_NC_NR%</th>\n",
       "      <th>#outputs</th>\n",
       "    </tr>\n",
       "  </thead>\n",
       "  <tbody>\n",
       "    <tr>\n",
       "      <td>study_duration_mean_op</td>\n",
       "      <td>99.8177</td>\n",
       "      <td>5</td>\n",
       "    </tr>\n",
       "    <tr>\n",
       "      <td>study_duration_mean</td>\n",
       "      <td>91.2087</td>\n",
       "      <td>68</td>\n",
       "    </tr>\n",
       "    <tr>\n",
       "      <td>study_duration_min_op</td>\n",
       "      <td>99.9645</td>\n",
       "      <td>3</td>\n",
       "    </tr>\n",
       "    <tr>\n",
       "      <td>study_duration_min</td>\n",
       "      <td>99.9598</td>\n",
       "      <td>5</td>\n",
       "    </tr>\n",
       "    <tr>\n",
       "      <td>study_duration_max_op</td>\n",
       "      <td>99.9645</td>\n",
       "      <td>3</td>\n",
       "    </tr>\n",
       "    <tr>\n",
       "      <td>study_duration_max</td>\n",
       "      <td>99.9598</td>\n",
       "      <td>5</td>\n",
       "    </tr>\n",
       "    <tr>\n",
       "      <td>study_duration_unit</td>\n",
       "      <td>91.167</td>\n",
       "      <td>9</td>\n",
       "    </tr>\n",
       "    <tr>\n",
       "      <td>study_duration_comments</td>\n",
       "      <td>99.9521</td>\n",
       "      <td>3</td>\n",
       "    </tr>\n",
       "    <tr>\n",
       "      <td>study_type</td>\n",
       "      <td>99.9444</td>\n",
       "      <td>9</td>\n",
       "    </tr>\n",
       "    <tr>\n",
       "      <td>study_type_comments</td>\n",
       "      <td>100</td>\n",
       "      <td>1</td>\n",
       "    </tr>\n",
       "  </tbody>\n",
       "</table>\n",
       "</div>"
      ],
      "text/plain": [
       "                        null_values_inc_NC_NR% #outputs\n",
       "study_duration_mean_op                 99.8177        5\n",
       "study_duration_mean                    91.2087       68\n",
       "study_duration_min_op                  99.9645        3\n",
       "study_duration_min                     99.9598        5\n",
       "study_duration_max_op                  99.9645        3\n",
       "study_duration_max                     99.9598        5\n",
       "study_duration_unit                     91.167        9\n",
       "study_duration_comments                99.9521        3\n",
       "study_type                             99.9444        9\n",
       "study_type_comments                        100        1"
      ]
     },
     "execution_count": 207,
     "metadata": {},
     "output_type": "execute_result"
    }
   ],
   "source": [
    "# Computing dataframe for study duration\n",
    "df_study_dur_nan, study_dur_list = null_output_counts(\"study\", results_final)\n",
    "df_study_dur_nan"
   ]
  },
  {
   "cell_type": "markdown",
   "metadata": {},
   "source": [
    "**No need of further analysis. Too much NaNs to decide to proceed**"
   ]
  },
  {
   "cell_type": "markdown",
   "metadata": {},
   "source": [
    "### CONCENTRATIONS"
   ]
  },
  {
   "cell_type": "code",
   "execution_count": 542,
   "metadata": {},
   "outputs": [
    {
     "data": {
      "text/html": [
       "<div>\n",
       "<style scoped>\n",
       "    .dataframe tbody tr th:only-of-type {\n",
       "        vertical-align: middle;\n",
       "    }\n",
       "\n",
       "    .dataframe tbody tr th {\n",
       "        vertical-align: top;\n",
       "    }\n",
       "\n",
       "    .dataframe thead th {\n",
       "        text-align: right;\n",
       "    }\n",
       "</style>\n",
       "<table border=\"1\" class=\"dataframe\">\n",
       "  <thead>\n",
       "    <tr style=\"text-align: right;\">\n",
       "      <th></th>\n",
       "      <th>null_values_inc_NC_NR%</th>\n",
       "      <th>#outputs</th>\n",
       "    </tr>\n",
       "  </thead>\n",
       "  <tbody>\n",
       "    <tr>\n",
       "      <td>conc1_type</td>\n",
       "      <td>2.68279</td>\n",
       "      <td>8</td>\n",
       "    </tr>\n",
       "    <tr>\n",
       "      <td>conc1_mean_op</td>\n",
       "      <td>90.6774</td>\n",
       "      <td>6</td>\n",
       "    </tr>\n",
       "    <tr>\n",
       "      <td>conc1_mean</td>\n",
       "      <td>3.99716</td>\n",
       "      <td>9606</td>\n",
       "    </tr>\n",
       "    <tr>\n",
       "      <td>conc1_min_op</td>\n",
       "      <td>97.1458</td>\n",
       "      <td>5</td>\n",
       "    </tr>\n",
       "    <tr>\n",
       "      <td>conc1_min</td>\n",
       "      <td>48.7459</td>\n",
       "      <td>7407</td>\n",
       "    </tr>\n",
       "    <tr>\n",
       "      <td>conc1_max_op</td>\n",
       "      <td>97.1411</td>\n",
       "      <td>5</td>\n",
       "    </tr>\n",
       "    <tr>\n",
       "      <td>conc1_max</td>\n",
       "      <td>48.7474</td>\n",
       "      <td>8273</td>\n",
       "    </tr>\n",
       "    <tr>\n",
       "      <td>conc1_unit</td>\n",
       "      <td>0.00926698</td>\n",
       "      <td>66</td>\n",
       "    </tr>\n",
       "    <tr>\n",
       "      <td>conc1_comments</td>\n",
       "      <td>93.3309</td>\n",
       "      <td>164</td>\n",
       "    </tr>\n",
       "    <tr>\n",
       "      <td>conc2_type</td>\n",
       "      <td>98.4802</td>\n",
       "      <td>5</td>\n",
       "    </tr>\n",
       "    <tr>\n",
       "      <td>conc2_mean_op</td>\n",
       "      <td>99.949</td>\n",
       "      <td>5</td>\n",
       "    </tr>\n",
       "    <tr>\n",
       "      <td>conc2_mean</td>\n",
       "      <td>98.6316</td>\n",
       "      <td>623</td>\n",
       "    </tr>\n",
       "    <tr>\n",
       "      <td>conc2_min_op</td>\n",
       "      <td>99.9954</td>\n",
       "      <td>2</td>\n",
       "    </tr>\n",
       "    <tr>\n",
       "      <td>conc2_min</td>\n",
       "      <td>99.2818</td>\n",
       "      <td>383</td>\n",
       "    </tr>\n",
       "    <tr>\n",
       "      <td>conc2_max_op</td>\n",
       "      <td>99.9954</td>\n",
       "      <td>2</td>\n",
       "    </tr>\n",
       "    <tr>\n",
       "      <td>conc2_max</td>\n",
       "      <td>99.2818</td>\n",
       "      <td>393</td>\n",
       "    </tr>\n",
       "    <tr>\n",
       "      <td>conc2_unit</td>\n",
       "      <td>98.6239</td>\n",
       "      <td>8</td>\n",
       "    </tr>\n",
       "    <tr>\n",
       "      <td>conc2_comments</td>\n",
       "      <td>99.9645</td>\n",
       "      <td>7</td>\n",
       "    </tr>\n",
       "    <tr>\n",
       "      <td>conc3_type</td>\n",
       "      <td>100</td>\n",
       "      <td>1</td>\n",
       "    </tr>\n",
       "    <tr>\n",
       "      <td>conc3_mean_op</td>\n",
       "      <td>100</td>\n",
       "      <td>1</td>\n",
       "    </tr>\n",
       "    <tr>\n",
       "      <td>conc3_mean</td>\n",
       "      <td>100</td>\n",
       "      <td>1</td>\n",
       "    </tr>\n",
       "    <tr>\n",
       "      <td>conc3_min_op</td>\n",
       "      <td>100</td>\n",
       "      <td>1</td>\n",
       "    </tr>\n",
       "    <tr>\n",
       "      <td>conc3_min</td>\n",
       "      <td>100</td>\n",
       "      <td>1</td>\n",
       "    </tr>\n",
       "    <tr>\n",
       "      <td>conc3_max_op</td>\n",
       "      <td>100</td>\n",
       "      <td>1</td>\n",
       "    </tr>\n",
       "    <tr>\n",
       "      <td>conc3_max</td>\n",
       "      <td>100</td>\n",
       "      <td>1</td>\n",
       "    </tr>\n",
       "    <tr>\n",
       "      <td>conc3_unit</td>\n",
       "      <td>100</td>\n",
       "      <td>1</td>\n",
       "    </tr>\n",
       "    <tr>\n",
       "      <td>conc3_comments</td>\n",
       "      <td>100</td>\n",
       "      <td>1</td>\n",
       "    </tr>\n",
       "  </tbody>\n",
       "</table>\n",
       "</div>"
      ],
      "text/plain": [
       "               null_values_inc_NC_NR% #outputs\n",
       "conc1_type                    2.68279        8\n",
       "conc1_mean_op                 90.6774        6\n",
       "conc1_mean                    3.99716     9606\n",
       "conc1_min_op                  97.1458        5\n",
       "conc1_min                     48.7459     7407\n",
       "conc1_max_op                  97.1411        5\n",
       "conc1_max                     48.7474     8273\n",
       "conc1_unit                 0.00926698       66\n",
       "conc1_comments                93.3309      164\n",
       "conc2_type                    98.4802        5\n",
       "conc2_mean_op                  99.949        5\n",
       "conc2_mean                    98.6316      623\n",
       "conc2_min_op                  99.9954        2\n",
       "conc2_min                     99.2818      383\n",
       "conc2_max_op                  99.9954        2\n",
       "conc2_max                     99.2818      393\n",
       "conc2_unit                    98.6239        8\n",
       "conc2_comments                99.9645        7\n",
       "conc3_type                        100        1\n",
       "conc3_mean_op                     100        1\n",
       "conc3_mean                        100        1\n",
       "conc3_min_op                      100        1\n",
       "conc3_min                         100        1\n",
       "conc3_max_op                      100        1\n",
       "conc3_max                         100        1\n",
       "conc3_unit                        100        1\n",
       "conc3_comments                    100        1"
      ]
     },
     "execution_count": 542,
     "metadata": {},
     "output_type": "execute_result"
    }
   ],
   "source": [
    "# Computing dataframe for concentrations\n",
    "df_conc_nan, conc_list = null_output_counts(\"conc\", results_final)\n",
    "df_conc_nan"
   ]
  },
  {
   "cell_type": "code",
   "execution_count": 544,
   "metadata": {},
   "outputs": [
    {
     "data": {
      "text/html": [
       "<div>\n",
       "<style scoped>\n",
       "    .dataframe tbody tr th:only-of-type {\n",
       "        vertical-align: middle;\n",
       "    }\n",
       "\n",
       "    .dataframe tbody tr th {\n",
       "        vertical-align: top;\n",
       "    }\n",
       "\n",
       "    .dataframe thead th {\n",
       "        text-align: right;\n",
       "    }\n",
       "</style>\n",
       "<table border=\"1\" class=\"dataframe\">\n",
       "  <thead>\n",
       "    <tr style=\"text-align: right;\">\n",
       "      <th></th>\n",
       "      <th>null_values_inc_NC_NR%</th>\n",
       "      <th>#outputs</th>\n",
       "    </tr>\n",
       "  </thead>\n",
       "  <tbody>\n",
       "    <tr>\n",
       "      <td>conc1_type</td>\n",
       "      <td>2.68279</td>\n",
       "      <td>8</td>\n",
       "    </tr>\n",
       "    <tr>\n",
       "      <td>conc1_mean</td>\n",
       "      <td>3.99716</td>\n",
       "      <td>9606</td>\n",
       "    </tr>\n",
       "    <tr>\n",
       "      <td>conc1_min</td>\n",
       "      <td>48.7459</td>\n",
       "      <td>7407</td>\n",
       "    </tr>\n",
       "    <tr>\n",
       "      <td>conc1_max</td>\n",
       "      <td>48.7474</td>\n",
       "      <td>8273</td>\n",
       "    </tr>\n",
       "    <tr>\n",
       "      <td>conc1_unit</td>\n",
       "      <td>0.00926698</td>\n",
       "      <td>66</td>\n",
       "    </tr>\n",
       "  </tbody>\n",
       "</table>\n",
       "</div>"
      ],
      "text/plain": [
       "           null_values_inc_NC_NR% #outputs\n",
       "conc1_type                2.68279        8\n",
       "conc1_mean                3.99716     9606\n",
       "conc1_min                 48.7459     7407\n",
       "conc1_max                 48.7474     8273\n",
       "conc1_unit             0.00926698       66"
      ]
     },
     "execution_count": 544,
     "metadata": {},
     "output_type": "execute_result"
    }
   ],
   "source": [
    "df_conc_nan[df_conc_nan['null_values_inc_NC_NR%']<65]"
   ]
  },
  {
   "cell_type": "markdown",
   "metadata": {},
   "source": [
    "Only **conc1 seems useful**:"
   ]
  },
  {
   "cell_type": "code",
   "execution_count": 13,
   "metadata": {},
   "outputs": [
    {
     "data": {
      "text/html": [
       "<div>\n",
       "<style scoped>\n",
       "    .dataframe tbody tr th:only-of-type {\n",
       "        vertical-align: middle;\n",
       "    }\n",
       "\n",
       "    .dataframe tbody tr th {\n",
       "        vertical-align: top;\n",
       "    }\n",
       "\n",
       "    .dataframe thead th {\n",
       "        text-align: right;\n",
       "    }\n",
       "</style>\n",
       "<table border=\"1\" class=\"dataframe\">\n",
       "  <thead>\n",
       "    <tr style=\"text-align: right;\">\n",
       "      <th></th>\n",
       "      <th>null_values_inc_NC_NR%</th>\n",
       "      <th>#outputs</th>\n",
       "    </tr>\n",
       "  </thead>\n",
       "  <tbody>\n",
       "    <tr>\n",
       "      <td>conc1_type</td>\n",
       "      <td>2.68279</td>\n",
       "      <td>8</td>\n",
       "    </tr>\n",
       "    <tr>\n",
       "      <td>conc1_mean</td>\n",
       "      <td>3.99716</td>\n",
       "      <td>9606</td>\n",
       "    </tr>\n",
       "    <tr>\n",
       "      <td>conc1_min</td>\n",
       "      <td>48.7459</td>\n",
       "      <td>7407</td>\n",
       "    </tr>\n",
       "    <tr>\n",
       "      <td>conc1_max</td>\n",
       "      <td>48.7474</td>\n",
       "      <td>8273</td>\n",
       "    </tr>\n",
       "    <tr>\n",
       "      <td>conc1_unit</td>\n",
       "      <td>0.00926698</td>\n",
       "      <td>66</td>\n",
       "    </tr>\n",
       "  </tbody>\n",
       "</table>\n",
       "</div>"
      ],
      "text/plain": [
       "           null_values_inc_NC_NR% #outputs\n",
       "conc1_type                2.68279        8\n",
       "conc1_mean                3.99716     9606\n",
       "conc1_min                 48.7459     7407\n",
       "conc1_max                 48.7474     8273\n",
       "conc1_unit             0.00926698       66"
      ]
     },
     "execution_count": 13,
     "metadata": {},
     "output_type": "execute_result"
    }
   ],
   "source": [
    "# Computing dataframe for concentration 1\n",
    "df_conc_nan, conc_list = null_output_counts(\"conc1\", results_final)\n",
    "df_conc_nan[df_conc_nan['null_values_inc_NC_NR%']<65]"
   ]
  },
  {
   "cell_type": "markdown",
   "metadata": {},
   "source": [
    "As usual, considering the **mean and unit**. Useful to look also to type:"
   ]
  },
  {
   "cell_type": "code",
   "execution_count": 14,
   "metadata": {},
   "outputs": [],
   "source": [
    "conc_intrs = ['conc1_type', 'conc1_mean', 'conc1_unit']\n",
    "df_conc = results_final[conc_intrs]"
   ]
  },
  {
   "cell_type": "code",
   "execution_count": 25,
   "metadata": {},
   "outputs": [],
   "source": [
    "df_conc1type_unit_counts = df_conc.conc1_type.value_counts(dropna=False)"
   ]
  },
  {
   "cell_type": "code",
   "execution_count": 26,
   "metadata": {},
   "outputs": [
    {
     "data": {
      "text/plain": [
       "A     29021\n",
       "F     16787\n",
       "T     15367\n",
       "NC     1733\n",
       "D      1113\n",
       "U       686\n",
       "L        35\n",
       "NR        4\n",
       "Name: conc1_type, dtype: int64"
      ]
     },
     "execution_count": 26,
     "metadata": {},
     "output_type": "execute_result"
    }
   ],
   "source": [
    "df_conc1type_unit_counts"
   ]
  },
  {
   "cell_type": "markdown",
   "metadata": {},
   "source": [
    "**Small number of NaN, few categories: could be useful as categorical**\n",
    "Definitions:\n",
    "- A: Active ingredients\n",
    "- F: Formulation\n",
    "- D: Dissolved\n",
    "- L: Labile\n",
    "- T: Total\n",
    "- U: Unionized"
   ]
  },
  {
   "cell_type": "code",
   "execution_count": 17,
   "metadata": {},
   "outputs": [
    {
     "name": "stderr",
     "output_type": "stream",
     "text": [
      "C:\\Users\\Manuel\\Anaconda3\\envs\\ml\\lib\\site-packages\\ipykernel_launcher.py:1: FutureWarning: `Series.plot()` should not be called with positional arguments, only keyword arguments. The order of positional arguments will change in the future. Use `Series.plot(kind='barh')` instead of `Series.plot('barh',)`.\n",
      "  \"\"\"Entry point for launching an IPython kernel.\n"
     ]
    },
    {
     "data": {
      "image/png": "[encoded data removed]",
      "text/plain": [
       "<Figure size 1080x576 with 1 Axes>"
      ]
     },
     "metadata": {
      "needs_background": "light"
     },
     "output_type": "display_data"
    }
   ],
   "source": [
    "df_conc1type_unit_counts.plot('barh')\n",
    "plt.title(\"Distribution of the df_conc1type_unit values\")\n",
    "plt.xlabel(\"Counts\")\n",
    "plt.ylabel(\"Units\");"
   ]
  },
  {
   "cell_type": "markdown",
   "metadata": {},
   "source": [
    "It's fine, we can keep this info. It's also good because there a few null."
   ]
  },
  {
   "cell_type": "markdown",
   "metadata": {},
   "source": [
    "Considering now units:"
   ]
  },
  {
   "cell_type": "code",
   "execution_count": 18,
   "metadata": {},
   "outputs": [
    {
     "data": {
      "text/plain": [
       "ug/L       38915\n",
       "mg/L        8548\n",
       "ppm         5078\n",
       "AI ug/L     4611\n",
       "AI mg/L     2669\n",
       "ppb         1445\n",
       "ul/L        1159\n",
       "uM           371\n",
       "AI ng/L      234\n",
       "AI ppb       228\n",
       "Name: conc1_unit, dtype: int64"
      ]
     },
     "execution_count": 18,
     "metadata": {},
     "output_type": "execute_result"
    }
   ],
   "source": [
    "conc_unit_counts = df_conc.conc1_unit.value_counts(dropna=False)\n",
    "conc_unit_counts.head(10)"
   ]
  },
  {
   "cell_type": "code",
   "execution_count": 19,
   "metadata": {},
   "outputs": [
    {
     "data": {
      "text/plain": [
       "66"
      ]
     },
     "execution_count": 19,
     "metadata": {},
     "output_type": "execute_result"
    }
   ],
   "source": [
    "conc_unit_counts.size"
   ]
  },
  {
   "cell_type": "markdown",
   "metadata": {},
   "source": [
    "**66 different concentrations**: how to deal with all these different units?  \n",
    "**_AI_** is active ingredients -> What's the difference with the normal case?"
   ]
  },
  {
   "cell_type": "markdown",
   "metadata": {},
   "source": [
    "As we see, there are a lot of different unit and all makes sense. More details in **data/DataCodes.pdf (Appendix N & W)**"
   ]
  },
  {
   "cell_type": "markdown",
   "metadata": {},
   "source": [
    "A closer look :"
   ]
  },
  {
   "cell_type": "code",
   "execution_count": 20,
   "metadata": {},
   "outputs": [
    {
     "name": "stderr",
     "output_type": "stream",
     "text": [
      "C:\\Users\\Manuel\\Anaconda3\\envs\\ml\\lib\\site-packages\\ipykernel_launcher.py:1: FutureWarning: `Series.plot()` should not be called with positional arguments, only keyword arguments. The order of positional arguments will change in the future. Use `Series.plot(kind='barh')` instead of `Series.plot('barh',)`.\n",
      "  \"\"\"Entry point for launching an IPython kernel.\n"
     ]
    },
    {
     "data": {
      "image/png": "[encoded data removed]",
      "text/plain": [
       "<Figure size 1080x576 with 1 Axes>"
      ]
     },
     "metadata": {
      "needs_background": "light"
     },
     "output_type": "display_data"
    }
   ],
   "source": [
    "conc_unit_counts.plot('barh')\n",
    "plt.title(\"Distribution of the conc_unit_counts values\")\n",
    "plt.xlabel(\"Counts\")\n",
    "plt.ylabel(\"Units\");"
   ]
  },
  {
   "cell_type": "code",
   "execution_count": 21,
   "metadata": {},
   "outputs": [
    {
     "data": {
      "text/plain": [
       "0.977017885274766"
      ]
     },
     "execution_count": 21,
     "metadata": {},
     "output_type": "execute_result"
    }
   ],
   "source": [
    "conc_unit_counts.head(10).sum()/conc_unit_counts.sum()"
   ]
  },
  {
   "cell_type": "markdown",
   "metadata": {},
   "source": [
    "Only best 10 retained:"
   ]
  },
  {
   "cell_type": "code",
   "execution_count": 24,
   "metadata": {},
   "outputs": [],
   "source": [
    "conc_unit_best = conc_unit_counts.head(10).index.values"
   ]
  },
  {
   "cell_type": "markdown",
   "metadata": {},
   "source": [
    "**Concentration is a variable we need for sure**. We should fix it, proposed solutions are the same as for organisms:\n",
    "- Considering a categorical definition\n",
    "- All in the same units\n",
    "- We consider only some units,for example the first 10"
   ]
  },
  {
   "cell_type": "code",
   "execution_count": 43,
   "metadata": {},
   "outputs": [
    {
     "data": {
      "text/plain": [
       "NR         2588\n",
       "100         633\n",
       "10000       454\n",
       "1000        391\n",
       "1000000     345\n",
       "10          300\n",
       "100000      265\n",
       "50          261\n",
       "5000        219\n",
       "200         209\n",
       "Name: conc1_mean, dtype: int64"
      ]
     },
     "execution_count": 43,
     "metadata": {},
     "output_type": "execute_result"
    }
   ],
   "source": [
    "conc_unit_mean_counts = df_conc.conc1_mean.value_counts(dropna=False)\n",
    "conc_unit_mean_counts.head(10)"
   ]
  },
  {
   "cell_type": "code",
   "execution_count": 44,
   "metadata": {},
   "outputs": [
    {
     "data": {
      "text/plain": [
       "9606"
      ]
     },
     "execution_count": 44,
     "metadata": {},
     "output_type": "execute_result"
    }
   ],
   "source": [
    "conc_unit_mean_counts.size"
   ]
  },
  {
   "cell_type": "code",
   "execution_count": 53,
   "metadata": {},
   "outputs": [
    {
     "data": {
      "text/plain": [
       "2588"
      ]
     },
     "execution_count": 53,
     "metadata": {},
     "output_type": "execute_result"
    }
   ],
   "source": [
    "max(conc_unit_mean_counts)"
   ]
  },
  {
   "cell_type": "markdown",
   "metadata": {},
   "source": [
    "We rember we have only the 4% of null values for this feature.\n",
    "<br>\n",
    "We have differnt out, maybe too many? We could divide them into classes?"
   ]
  },
  {
   "cell_type": "code",
   "execution_count": 55,
   "metadata": {},
   "outputs": [
    {
     "data": {
      "image/png": "[encoded data removed]",
      "text/plain": [
       "<Figure size 1080x576 with 1 Axes>"
      ]
     },
     "metadata": {
      "needs_background": "light"
     },
     "output_type": "display_data"
    }
   ],
   "source": [
    "conc_unit_mean_counts.hist(bins = 1000)\n",
    "plt.yscale(\"log\")\n",
    "plt.title(\"Distribution of the conc_unit_mean in log\")\n",
    "plt.xlabel(\"Value\")\n",
    "plt.ylabel(\"Counts\");\n",
    "#plt.xticks([]);"
   ]
  },
  {
   "cell_type": "code",
   "execution_count": 35,
   "metadata": {},
   "outputs": [],
   "source": [
    "columns_final += ['conc1_type', 'conc1_mean', 'conc1_unit']"
   ]
  },
  {
   "cell_type": "markdown",
   "metadata": {},
   "source": [
    "### PUBLICATION YEAR"
   ]
  },
  {
   "cell_type": "code",
   "execution_count": 272,
   "metadata": {},
   "outputs": [
    {
     "data": {
      "text/html": [
       "<div>\n",
       "<style scoped>\n",
       "    .dataframe tbody tr th:only-of-type {\n",
       "        vertical-align: middle;\n",
       "    }\n",
       "\n",
       "    .dataframe tbody tr th {\n",
       "        vertical-align: top;\n",
       "    }\n",
       "\n",
       "    .dataframe thead th {\n",
       "        text-align: right;\n",
       "    }\n",
       "</style>\n",
       "<table border=\"1\" class=\"dataframe\">\n",
       "  <thead>\n",
       "    <tr style=\"text-align: right;\">\n",
       "      <th></th>\n",
       "      <th>null_values_inc_NC_NR%</th>\n",
       "      <th>#outputs</th>\n",
       "    </tr>\n",
       "  </thead>\n",
       "  <tbody>\n",
       "    <tr>\n",
       "      <td>published_date</td>\n",
       "      <td>47.6292</td>\n",
       "      <td>65</td>\n",
       "    </tr>\n",
       "  </tbody>\n",
       "</table>\n",
       "</div>"
      ],
      "text/plain": [
       "               null_values_inc_NC_NR% #outputs\n",
       "published_date                47.6292       65"
      ]
     },
     "execution_count": 272,
     "metadata": {},
     "output_type": "execute_result"
    }
   ],
   "source": [
    "df_pub_year_nan, pub_year_list = null_output_counts(\"publ\", results_final)\n",
    "df_pub_year_nan"
   ]
  },
  {
   "cell_type": "markdown",
   "metadata": {},
   "source": [
    "Half of the dates are missing  \n",
    "Look at the distribution of publication years"
   ]
  },
  {
   "cell_type": "code",
   "execution_count": 273,
   "metadata": {},
   "outputs": [],
   "source": [
    "published_dates = results_final[\"published_date\"]"
   ]
  },
  {
   "cell_type": "code",
   "execution_count": 287,
   "metadata": {},
   "outputs": [
    {
     "data": {
      "text/plain": [
       "NaN           30838\n",
       "06/15/2012     7533\n",
       "06/14/2013     3958\n",
       "06/20/2000     1128\n",
       "03/05/2008     1110\n",
       "              ...  \n",
       "06/11/2001       73\n",
       "12/14/2017       51\n",
       "03/16/2011       39\n",
       "03/09/2015       36\n",
       "03/26/2001       22\n",
       "Name: published_date, Length: 65, dtype: int64"
      ]
     },
     "execution_count": 287,
     "metadata": {},
     "output_type": "execute_result"
    }
   ],
   "source": [
    "date_counts = published_dates.value_counts(dropna=False)\n",
    "date_counts"
   ]
  },
  {
   "cell_type": "code",
   "execution_count": 306,
   "metadata": {},
   "outputs": [
    {
     "data": {
      "image/png": "[encoded data removed]",
      "text/plain": [
       "<Figure size 1080x576 with 1 Axes>"
      ]
     },
     "metadata": {
      "needs_background": "light"
     },
     "output_type": "display_data"
    }
   ],
   "source": [
    "#drop na\n",
    "date_counts = published_dates.value_counts()\n",
    "date_counts.plot(kind=\"barh\", log=True)\n",
    "plt.title(\"Distribution of the date of publishing\")\n",
    "plt.xlabel(\"Counts\")\n",
    "plt.ylabel(\"Date\");"
   ]
  },
  {
   "cell_type": "markdown",
   "metadata": {},
   "source": [
    "We see that a lot of paper has been published on 15/06/2012. We can try to group by year and see when most of the paper has been published"
   ]
  },
  {
   "cell_type": "code",
   "execution_count": 299,
   "metadata": {},
   "outputs": [
    {
     "data": {
      "text/plain": [
       "2000    2375\n",
       "2001    1256\n",
       "2002     678\n",
       "2003    1519\n",
       "2004     109\n",
       "2005     563\n",
       "2006    1027\n",
       "2007    1464\n",
       "2008    2139\n",
       "2009    1364\n",
       "2010    1408\n",
       "2011     795\n",
       "2012    9016\n",
       "2013    4413\n",
       "2014     884\n",
       "2015    1112\n",
       "2016    1061\n",
       "2017    1087\n",
       "2018     599\n",
       "2019    1039\n",
       "Name: published_date, dtype: int64"
      ]
     },
     "execution_count": 299,
     "metadata": {},
     "output_type": "execute_result"
    }
   ],
   "source": [
    "date_counts.index = pd.to_datetime(date_counts.index)\n",
    "date_grouped = date_counts.groupby(by=date_counts.index.year)\n",
    "date_counts_years = date_grouped.agg(sum)\n",
    "date_counts_years"
   ]
  },
  {
   "cell_type": "code",
   "execution_count": 307,
   "metadata": {},
   "outputs": [
    {
     "data": {
      "image/png": "[encoded data removed]",
      "text/plain": [
       "<Figure size 1080x576 with 1 Axes>"
      ]
     },
     "metadata": {
      "needs_background": "light"
     },
     "output_type": "display_data"
    }
   ],
   "source": [
    "date_counts_years.sort_values().plot(kind=\"barh\");\n",
    "plt.title(\"Distribution of the years of publishing\")\n",
    "plt.xlabel(\"Counts\")\n",
    "plt.ylabel(\"Year\");"
   ]
  },
  {
   "cell_type": "markdown",
   "metadata": {},
   "source": [
    "**2012** is the most active year for our research, basically doubling the sequent year."
   ]
  },
  {
   "cell_type": "markdown",
   "metadata": {},
   "source": [
    "## Retaining final columns"
   ]
  },
  {
   "cell_type": "code",
   "execution_count": 36,
   "metadata": {},
   "outputs": [
    {
     "data": {
      "text/plain": [
       "['organism_lifestage',\n",
       " 'organism_characteristics',\n",
       " 'exposure_type',\n",
       " 'obs_duration_unit',\n",
       " 'obs_duration_mean',\n",
       " 'conc1_type',\n",
       " 'conc1_mean',\n",
       " 'conc1_unit']"
      ]
     },
     "execution_count": 36,
     "metadata": {},
     "output_type": "execute_result"
    }
   ],
   "source": [
    "columns_final"
   ]
  },
  {
   "cell_type": "markdown",
   "metadata": {},
   "source": [
    "Adding other useful columns"
   ]
  },
  {
   "cell_type": "code",
   "execution_count": 41,
   "metadata": {},
   "outputs": [],
   "source": [
    "columns_final += [\"test_cas\"]"
   ]
  },
  {
   "cell_type": "markdown",
   "metadata": {},
   "source": [
    "Species columns:"
   ]
  },
  {
   "cell_type": "code",
   "execution_count": 42,
   "metadata": {},
   "outputs": [],
   "source": [
    "columns_final += [\"class\", \"tax_order\", \"family\", \"genus\", \"species\"]"
   ]
  },
  {
   "cell_type": "code",
   "execution_count": 43,
   "metadata": {},
   "outputs": [],
   "source": [
    "columns_final += [\"ecotox_group\"]"
   ]
  },
  {
   "cell_type": "markdown",
   "metadata": {},
   "source": [
    "Final df:"
   ]
  },
  {
   "cell_type": "code",
   "execution_count": 670,
   "metadata": {},
   "outputs": [],
   "source": [
    "results_extr = results_final.copy()"
   ]
  },
  {
   "cell_type": "code",
   "execution_count": 671,
   "metadata": {},
   "outputs": [],
   "source": [
    "results_extr = results_extr[columns_final]"
   ]
  },
  {
   "cell_type": "code",
   "execution_count": 672,
   "metadata": {},
   "outputs": [
    {
     "data": {
      "text/plain": [
       "['organism_lifestage',\n",
       " 'organism_characteristics',\n",
       " 'exposure_type',\n",
       " 'obs_duration_unit',\n",
       " 'obs_duration_mean',\n",
       " 'conc1_type',\n",
       " 'conc1_mean',\n",
       " 'conc1_unit',\n",
       " 'test_cas',\n",
       " 'class',\n",
       " 'tax_order',\n",
       " 'family',\n",
       " 'genus',\n",
       " 'species',\n",
       " 'ecotox_group']"
      ]
     },
     "execution_count": 672,
     "metadata": {},
     "output_type": "execute_result"
    }
   ],
   "source": [
    "columns_final"
   ]
  },
  {
   "cell_type": "code",
   "execution_count": 673,
   "metadata": {},
   "outputs": [],
   "source": [
    "# Reordering\n",
    "results_extr = results_extr[[\n",
    " 'test_cas',\n",
    " 'exposure_type',\n",
    " 'obs_duration_unit',\n",
    " 'obs_duration_mean',\n",
    " 'conc1_type',\n",
    " 'conc1_mean',\n",
    " 'conc1_unit',\n",
    " 'class',\n",
    " 'tax_order',\n",
    " 'family',\n",
    " 'genus',\n",
    " 'species',\n",
    " 'organism_lifestage',\n",
    " 'organism_characteristics',\n",
    " 'ecotox_group']]"
   ]
  },
  {
   "cell_type": "markdown",
   "metadata": {},
   "source": [
    "**Imputing**"
   ]
  },
  {
   "cell_type": "markdown",
   "metadata": {},
   "source": [
    "First we take only the best 10 concentration unit as state before:"
   ]
  },
  {
   "cell_type": "code",
   "execution_count": 674,
   "metadata": {},
   "outputs": [
    {
     "data": {
      "text/plain": [
       "array(['ug/L', 'mg/L', 'ppm', 'AI ug/L', 'AI mg/L', 'ppb', 'ul/L', 'uM',\n",
       "       'AI ng/L', 'AI ppb'], dtype=object)"
      ]
     },
     "execution_count": 674,
     "metadata": {},
     "output_type": "execute_result"
    }
   ],
   "source": [
    "conc_unit_best"
   ]
  },
  {
   "cell_type": "code",
   "execution_count": 675,
   "metadata": {},
   "outputs": [],
   "source": [
    "results_extr = results_extr[results_extr.conc1_unit.isin(conc_unit_best)]"
   ]
  },
  {
   "cell_type": "markdown",
   "metadata": {},
   "source": [
    "We remove AI and take a boolean for AI in another column:"
   ]
  },
  {
   "cell_type": "code",
   "execution_count": 676,
   "metadata": {},
   "outputs": [
    {
     "name": "stderr",
     "output_type": "stream",
     "text": [
      "C:\\Users\\Manuel\\Anaconda3\\envs\\ml\\lib\\site-packages\\ipykernel_launcher.py:1: UserWarning: Pandas doesn't allow columns to be created via a new attribute name - see https://pandas.pydata.org/pandas-docs/stable/indexing.html#attribute-access\n",
      "  \"\"\"Entry point for launching an IPython kernel.\n"
     ]
    }
   ],
   "source": [
    "results_extr.conc_AI = results_extr.conc1_unit.apply(lambda x: True if 'AI' in x else False)"
   ]
  },
  {
   "cell_type": "code",
   "execution_count": 677,
   "metadata": {},
   "outputs": [],
   "source": [
    "results_extr.conc1_unit = results_extr.conc1_unit.apply(lambda x: x.replace(\"AI \", \"\") if 'AI' in x else x)"
   ]
  },
  {
   "cell_type": "code",
   "execution_count": 678,
   "metadata": {},
   "outputs": [
    {
     "data": {
      "text/plain": [
       "ug/L    43526\n",
       "mg/L    11217\n",
       "ppm      5078\n",
       "ppb      1673\n",
       "ul/L     1159\n",
       "uM        371\n",
       "ng/L      234\n",
       "Name: conc1_unit, dtype: int64"
      ]
     },
     "execution_count": 678,
     "metadata": {},
     "output_type": "execute_result"
    }
   ],
   "source": [
    "results_extr.conc1_unit.value_counts(dropna=False)"
   ]
  },
  {
   "cell_type": "markdown",
   "metadata": {},
   "source": [
    "Before to do the conversion, we need to remove all the NaN, NC, NR values"
   ]
  },
  {
   "cell_type": "code",
   "execution_count": 679,
   "metadata": {},
   "outputs": [
    {
     "data": {
      "text/plain": [
       "NR    2537\n",
       "Name: conc1_mean, dtype: int64"
      ]
     },
     "execution_count": 679,
     "metadata": {},
     "output_type": "execute_result"
    }
   ],
   "source": [
    "count_conc_mean = results_extr.conc1_mean.value_counts(dropna=False)\n",
    "count_conc_mean[count_conc_mean.index.isin([\"NC\", \"NaN\", \"NR\"])]"
   ]
  },
  {
   "cell_type": "markdown",
   "metadata": {},
   "source": [
    "Check in which unit value this NR appears:"
   ]
  },
  {
   "cell_type": "code",
   "execution_count": 680,
   "metadata": {},
   "outputs": [
    {
     "data": {
      "text/plain": [
       "ug/L    1946\n",
       "mg/L     465\n",
       "ppm       92\n",
       "ppb       16\n",
       "ul/L      16\n",
       "uM         2\n",
       "Name: conc1_unit, dtype: int64"
      ]
     },
     "execution_count": 680,
     "metadata": {},
     "output_type": "execute_result"
    }
   ],
   "source": [
    "results_extr[results_extr.conc1_mean==\"NR\"].conc1_unit.value_counts(dropna=False)"
   ]
  },
  {
   "cell_type": "code",
   "execution_count": 681,
   "metadata": {},
   "outputs": [
    {
     "data": {
      "image/png": "[encoded data removed]",
      "text/plain": [
       "<Figure size 1080x576 with 1 Axes>"
      ]
     },
     "metadata": {
      "needs_background": "light"
     },
     "output_type": "display_data"
    }
   ],
   "source": [
    "exposure_type_counts = results_extr[results_extr.conc1_mean==\"NR\"].conc1_unit.value_counts(dropna=False).plot(kind=\"barh\")\n",
    "plt.title(\"Distribution of null over concentration units\")\n",
    "plt.xlabel(\"Counts\")\n",
    "plt.ylabel(\"unit\");"
   ]
  },
  {
   "cell_type": "markdown",
   "metadata": {},
   "source": [
    "Equally distributed.  \n",
    "Could be the case that this NR appear in conc2 (conc3 is all NaN). We check it"
   ]
  },
  {
   "cell_type": "code",
   "execution_count": 682,
   "metadata": {},
   "outputs": [
    {
     "data": {
      "text/html": [
       "<div>\n",
       "<style scoped>\n",
       "    .dataframe tbody tr th:only-of-type {\n",
       "        vertical-align: middle;\n",
       "    }\n",
       "\n",
       "    .dataframe tbody tr th {\n",
       "        vertical-align: top;\n",
       "    }\n",
       "\n",
       "    .dataframe thead th {\n",
       "        text-align: right;\n",
       "    }\n",
       "</style>\n",
       "<table border=\"1\" class=\"dataframe\">\n",
       "  <thead>\n",
       "    <tr style=\"text-align: right;\">\n",
       "      <th></th>\n",
       "      <th>conc2_mean</th>\n",
       "      <th>conc2_unit</th>\n",
       "    </tr>\n",
       "  </thead>\n",
       "  <tbody>\n",
       "    <tr>\n",
       "      <td>2578</td>\n",
       "      <td>180.3</td>\n",
       "      <td>ug/L</td>\n",
       "    </tr>\n",
       "    <tr>\n",
       "      <td>13148</td>\n",
       "      <td>300</td>\n",
       "      <td>ug/L</td>\n",
       "    </tr>\n",
       "    <tr>\n",
       "      <td>16224</td>\n",
       "      <td>495.5</td>\n",
       "      <td>ug/L</td>\n",
       "    </tr>\n",
       "    <tr>\n",
       "      <td>50986</td>\n",
       "      <td>25657000</td>\n",
       "      <td>ug/L</td>\n",
       "    </tr>\n",
       "    <tr>\n",
       "      <td>56721</td>\n",
       "      <td>312.4</td>\n",
       "      <td>ug/L</td>\n",
       "    </tr>\n",
       "  </tbody>\n",
       "</table>\n",
       "</div>"
      ],
      "text/plain": [
       "      conc2_mean conc2_unit\n",
       "2578       180.3       ug/L\n",
       "13148        300       ug/L\n",
       "16224      495.5       ug/L\n",
       "50986   25657000       ug/L\n",
       "56721      312.4       ug/L"
      ]
     },
     "execution_count": 682,
     "metadata": {},
     "output_type": "execute_result"
    }
   ],
   "source": [
    "conc1_NR_index = results_extr[results_extr.conc1_mean ==\"NR\"].index\n",
    "list_conc = [\"conc2_mean\", \"conc2_unit\"]\n",
    "other_conc = results_final[list_conc].copy()\n",
    "other_conc = other_conc.loc[conc1_NR_index]\n",
    "other_conc = other_conc.dropna()\n",
    "other_conc[other_conc.conc2_mean!=\"NR\"]"
   ]
  },
  {
   "cell_type": "markdown",
   "metadata": {},
   "source": [
    "We can impute 5 results using the value from conc2_mean"
   ]
  },
  {
   "cell_type": "code",
   "execution_count": 683,
   "metadata": {},
   "outputs": [
    {
     "name": "stderr",
     "output_type": "stream",
     "text": [
      "C:\\Users\\Manuel\\Anaconda3\\envs\\ml\\lib\\site-packages\\pandas\\core\\indexing.py:205: SettingWithCopyWarning: \n",
      "A value is trying to be set on a copy of a slice from a DataFrame\n",
      "\n",
      "See the caveats in the documentation: http://pandas.pydata.org/pandas-docs/stable/user_guide/indexing.html#returning-a-view-versus-a-copy\n",
      "  self._setitem_with_indexer(indexer, value)\n"
     ]
    }
   ],
   "source": [
    "conc2_impute_index = other_conc[other_conc.conc2_mean!=\"NR\"].index\n",
    "results_extr.conc1_unit.loc[conc2_impute_index] = other_conc.conc2_unit.loc[conc2_impute_index]\n",
    "results_extr.conc1_mean.loc[conc2_impute_index] = other_conc.conc2_mean.loc[conc2_impute_index]"
   ]
  },
  {
   "cell_type": "code",
   "execution_count": 684,
   "metadata": {},
   "outputs": [
    {
     "data": {
      "text/plain": [
       "NR    2532\n",
       "Name: conc1_mean, dtype: int64"
      ]
     },
     "execution_count": 684,
     "metadata": {},
     "output_type": "execute_result"
    }
   ],
   "source": [
    "count_conc_mean = results_extr.conc1_mean.value_counts(dropna=False)\n",
    "count_conc_mean[count_conc_mean.index.isin([\"NC\", \"NaN\", \"NR\"])]"
   ]
  },
  {
   "cell_type": "markdown",
   "metadata": {},
   "source": [
    "For now we **drop them** all the remaining. Maybe in future we could find a way to impute them"
   ]
  },
  {
   "cell_type": "code",
   "execution_count": 685,
   "metadata": {},
   "outputs": [],
   "source": [
    "drop_NR_mean = results_extr[results_extr.conc1_mean ==\"NR\"].index\n",
    "results_extr.drop(drop_NR_mean, inplace=True)"
   ]
  },
  {
   "cell_type": "markdown",
   "metadata": {},
   "source": [
    "Finding strange values:"
   ]
  },
  {
   "cell_type": "code",
   "execution_count": 686,
   "metadata": {},
   "outputs": [
    {
     "data": {
      "text/plain": [
       "268         1000*\n",
       "356           13*\n",
       "374      4.14E+04\n",
       "426          994*\n",
       "547         6500*\n",
       "           ...   \n",
       "63618    2.41E+04\n",
       "63935     270000*\n",
       "63955       2154*\n",
       "64488       1620*\n",
       "64694        732*\n",
       "Name: conc1_mean, Length: 503, dtype: object"
      ]
     },
     "execution_count": 686,
     "metadata": {},
     "output_type": "execute_result"
    }
   ],
   "source": [
    "int_re = re.compile(\"[^.0-9]+\")\n",
    "matches_re = results_extr.conc1_mean.str.findall(int_re)\n",
    "conc_tofix_mean = results_extr.conc1_mean[matches_re.str.len() > 0]\n",
    "conc_tofix_mean"
   ]
  },
  {
   "cell_type": "markdown",
   "metadata": {},
   "source": [
    "We read in the documentation that a * means an experimental value, so we delete the *"
   ]
  },
  {
   "cell_type": "code",
   "execution_count": 687,
   "metadata": {},
   "outputs": [],
   "source": [
    "results_extr.conc1_mean = results_extr.conc1_mean.apply(lambda x: x.replace(\"*\", \"\") if \"*\" in x else x)"
   ]
  },
  {
   "cell_type": "markdown",
   "metadata": {},
   "source": [
    "There's also a >100000. This doesn't means much to us, so we drop that"
   ]
  },
  {
   "cell_type": "code",
   "execution_count": 688,
   "metadata": {},
   "outputs": [],
   "source": [
    "drop = results_extr[results_extr.conc1_mean ==\">100000\"].index\n",
    "results_extr.drop(drop, inplace=True)"
   ]
  },
  {
   "cell_type": "code",
   "execution_count": 689,
   "metadata": {},
   "outputs": [],
   "source": [
    "# Converting mean to number for next step\n",
    "results_extr.conc1_mean = results_extr.conc1_mean.astype(float)"
   ]
  },
  {
   "cell_type": "markdown",
   "metadata": {},
   "source": [
    "Now we convert all the possible to one unit of measure: **mg/L**\n",
    "- 1 ug/L = $10^{-3}$ mg/L\n",
    "- 1 ppb = 1 ug/L = $10^{-3}$ mg/L\n",
    "- 1 ppm = 1 mg/L\n",
    "- 1 ng/L = $10^{-6}$ mg/L"
   ]
  },
  {
   "cell_type": "code",
   "execution_count": 690,
   "metadata": {},
   "outputs": [],
   "source": [
    "# Converting mg/L and ppm\n",
    "results_extr.conc1_mean = np.where((results_extr['conc1_unit'] == \"ug/L\") | (results_extr['conc1_unit'] == \"ppb\"), \\\n",
    "                                   results_extr.conc1_mean/1000, results_extr.conc1_mean)"
   ]
  },
  {
   "cell_type": "code",
   "execution_count": 691,
   "metadata": {},
   "outputs": [],
   "source": [
    "# Converting ng/L\n",
    "results_extr.conc1_mean = np.where(results_extr['conc1_unit'] == \"ng/L\", \\\n",
    "                                   results_extr.conc1_mean*(10**(-6)), results_extr.conc1_mean)"
   ]
  },
  {
   "cell_type": "markdown",
   "metadata": {},
   "source": [
    "Merging the new concentrations"
   ]
  },
  {
   "cell_type": "code",
   "execution_count": 692,
   "metadata": {},
   "outputs": [],
   "source": [
    "results_extr.conc1_unit = results_extr.conc1_unit.apply(lambda x: \"mg/L\" if x in [\"ug/L\", \"ppm\", \"ppb\", \"ng/L\"] else x)"
   ]
  },
  {
   "cell_type": "code",
   "execution_count": 693,
   "metadata": {},
   "outputs": [
    {
     "data": {
      "text/plain": [
       "mg/L    59213\n",
       "ul/L     1143\n",
       "uM        369\n",
       "Name: conc1_unit, dtype: int64"
      ]
     },
     "execution_count": 693,
     "metadata": {},
     "output_type": "execute_result"
    }
   ],
   "source": [
    "results_extr.conc1_unit.value_counts(dropna=False)"
   ]
  },
  {
   "cell_type": "markdown",
   "metadata": {},
   "source": [
    "Check if we can recover the concentration value for ul/L or uM from conc2 or conc3"
   ]
  },
  {
   "cell_type": "code",
   "execution_count": 694,
   "metadata": {},
   "outputs": [
    {
     "data": {
      "text/html": [
       "<div>\n",
       "<style scoped>\n",
       "    .dataframe tbody tr th:only-of-type {\n",
       "        vertical-align: middle;\n",
       "    }\n",
       "\n",
       "    .dataframe tbody tr th {\n",
       "        vertical-align: top;\n",
       "    }\n",
       "\n",
       "    .dataframe thead th {\n",
       "        text-align: right;\n",
       "    }\n",
       "</style>\n",
       "<table border=\"1\" class=\"dataframe\">\n",
       "  <thead>\n",
       "    <tr style=\"text-align: right;\">\n",
       "      <th></th>\n",
       "      <th>conc2_mean</th>\n",
       "      <th>conc2_unit</th>\n",
       "    </tr>\n",
       "  </thead>\n",
       "  <tbody>\n",
       "  </tbody>\n",
       "</table>\n",
       "</div>"
      ],
      "text/plain": [
       "Empty DataFrame\n",
       "Columns: [conc2_mean, conc2_unit]\n",
       "Index: []"
      ]
     },
     "execution_count": 694,
     "metadata": {},
     "output_type": "execute_result"
    }
   ],
   "source": [
    "# search for possible imputings\n",
    "concs_ind = results_extr[(results_extr.conc1_unit == \"ul/L\") | (results_extr.conc1_unit == \"uM\")].index\n",
    "list_conc = [\"conc2_mean\", \"conc2_unit\"]\n",
    "other_conc = results_final[list_conc].copy()\n",
    "other_conc = other_conc.loc[concs_ind]\n",
    "other_conc.dropna()"
   ]
  },
  {
   "cell_type": "markdown",
   "metadata": {},
   "source": [
    "No one value is in conc2, so we cannot impute them."
   ]
  },
  {
   "cell_type": "markdown",
   "metadata": {},
   "source": [
    "Now we can have three choices:\n",
    "1. Categorize\n",
    "2. Find a way to merge\n",
    "3. Drop\n",
    "\n",
    "For now we decide to **drop all the strange unit** (these rows are not a big deal for our purpose)"
   ]
  },
  {
   "cell_type": "code",
   "execution_count": 695,
   "metadata": {},
   "outputs": [],
   "source": [
    "drop_concs = results_extr[results_extr.conc1_unit.str.contains(\"u\")].index\n",
    "results_extr.drop(drop_concs, inplace=True)"
   ]
  },
  {
   "cell_type": "markdown",
   "metadata": {},
   "source": [
    "At this point we can drop the column"
   ]
  },
  {
   "cell_type": "code",
   "execution_count": 696,
   "metadata": {},
   "outputs": [],
   "source": [
    "results_extr.drop(columns=\"conc1_unit\", inplace=True)"
   ]
  },
  {
   "cell_type": "markdown",
   "metadata": {},
   "source": [
    "Now consider the null"
   ]
  },
  {
   "cell_type": "code",
   "execution_count": 697,
   "metadata": {},
   "outputs": [
    {
     "name": "stderr",
     "output_type": "stream",
     "text": [
      "C:\\Users\\Manuel\\Anaconda3\\envs\\ml\\lib\\site-packages\\pandas\\core\\ops\\__init__.py:1115: FutureWarning: elementwise comparison failed; returning scalar instead, but in the future will perform elementwise comparison\n",
      "  result = method(y)\n"
     ]
    },
    {
     "data": {
      "text/html": [
       "<div>\n",
       "<style scoped>\n",
       "    .dataframe tbody tr th:only-of-type {\n",
       "        vertical-align: middle;\n",
       "    }\n",
       "\n",
       "    .dataframe tbody tr th {\n",
       "        vertical-align: top;\n",
       "    }\n",
       "\n",
       "    .dataframe thead th {\n",
       "        text-align: right;\n",
       "    }\n",
       "</style>\n",
       "<table border=\"1\" class=\"dataframe\">\n",
       "  <thead>\n",
       "    <tr style=\"text-align: right;\">\n",
       "      <th></th>\n",
       "      <th>null_values_inc_NC_NR%</th>\n",
       "      <th>#outputs</th>\n",
       "    </tr>\n",
       "  </thead>\n",
       "  <tbody>\n",
       "    <tr>\n",
       "      <td>organism_lifestage</td>\n",
       "      <td>66.0683</td>\n",
       "      <td>46</td>\n",
       "    </tr>\n",
       "    <tr>\n",
       "      <td>organism_characteristics</td>\n",
       "      <td>30.8311</td>\n",
       "      <td>6288</td>\n",
       "    </tr>\n",
       "    <tr>\n",
       "      <td>exposure_type</td>\n",
       "      <td>8.36641</td>\n",
       "      <td>16</td>\n",
       "    </tr>\n",
       "    <tr>\n",
       "      <td>conc1_type</td>\n",
       "      <td>2.92503</td>\n",
       "      <td>8</td>\n",
       "    </tr>\n",
       "    <tr>\n",
       "      <td>obs_duration_mean</td>\n",
       "      <td>0.868053</td>\n",
       "      <td>297</td>\n",
       "    </tr>\n",
       "    <tr>\n",
       "      <td>genus</td>\n",
       "      <td>0.405316</td>\n",
       "      <td>311</td>\n",
       "    </tr>\n",
       "    <tr>\n",
       "      <td>species</td>\n",
       "      <td>0.405316</td>\n",
       "      <td>497</td>\n",
       "    </tr>\n",
       "    <tr>\n",
       "      <td>obs_duration_unit</td>\n",
       "      <td>0.287099</td>\n",
       "      <td>13</td>\n",
       "    </tr>\n",
       "    <tr>\n",
       "      <td>family</td>\n",
       "      <td>0.121595</td>\n",
       "      <td>103</td>\n",
       "    </tr>\n",
       "    <tr>\n",
       "      <td>class</td>\n",
       "      <td>0.092885</td>\n",
       "      <td>4</td>\n",
       "    </tr>\n",
       "    <tr>\n",
       "      <td>tax_order</td>\n",
       "      <td>0.092885</td>\n",
       "      <td>29</td>\n",
       "    </tr>\n",
       "    <tr>\n",
       "      <td>test_cas</td>\n",
       "      <td>0</td>\n",
       "      <td>3366</td>\n",
       "    </tr>\n",
       "    <tr>\n",
       "      <td>conc1_mean</td>\n",
       "      <td>0</td>\n",
       "      <td>7957</td>\n",
       "    </tr>\n",
       "    <tr>\n",
       "      <td>ecotox_group</td>\n",
       "      <td>0</td>\n",
       "      <td>7</td>\n",
       "    </tr>\n",
       "  </tbody>\n",
       "</table>\n",
       "</div>"
      ],
      "text/plain": [
       "                         null_values_inc_NC_NR% #outputs\n",
       "organism_lifestage                      66.0683       46\n",
       "organism_characteristics                30.8311     6288\n",
       "exposure_type                           8.36641       16\n",
       "conc1_type                              2.92503        8\n",
       "obs_duration_mean                      0.868053      297\n",
       "genus                                  0.405316      311\n",
       "species                                0.405316      497\n",
       "obs_duration_unit                      0.287099       13\n",
       "family                                 0.121595      103\n",
       "class                                  0.092885        4\n",
       "tax_order                              0.092885       29\n",
       "test_cas                                      0     3366\n",
       "conc1_mean                                    0     7957\n",
       "ecotox_group                                  0        7"
      ]
     },
     "execution_count": 697,
     "metadata": {},
     "output_type": "execute_result"
    }
   ],
   "source": [
    "null_res,list_nulls = null_output_counts(\"\", results_extr)\n",
    "null_res.sort_values(by=\"null_values_inc_NC_NR%\", ascending=False)"
   ]
  },
  {
   "cell_type": "markdown",
   "metadata": {},
   "source": [
    "### Exposure type"
   ]
  },
  {
   "cell_type": "code",
   "execution_count": 698,
   "metadata": {},
   "outputs": [
    {
     "data": {
      "text/plain": [
       "S            35618\n",
       "F            11704\n",
       "R             6172\n",
       "NR            4954\n",
       "AQUA - NR      398\n",
       "P              131\n",
       "S/              70\n",
       "R/              69\n",
       "E               46\n",
       "O               15\n",
       "NR/             14\n",
       "F/              12\n",
       "P/               6\n",
       "IP               2\n",
       "FD               1\n",
       "SP               1\n",
       "Name: exposure_type, dtype: int64"
      ]
     },
     "execution_count": 698,
     "metadata": {},
     "output_type": "execute_result"
    }
   ],
   "source": [
    "exposure_type_counts = results_extr.exposure_type.value_counts(dropna=False)\n",
    "exposure_type_counts"
   ]
  },
  {
   "cell_type": "markdown",
   "metadata": {},
   "source": [
    "As said before, all the NR become simply **AQUA**, also all the value with a / are merged with the normal representation"
   ]
  },
  {
   "cell_type": "code",
   "execution_count": 699,
   "metadata": {},
   "outputs": [],
   "source": [
    "results_extr.exposure_type = results_extr.exposure_type.apply(lambda x: x.replace(\"/\", \"\"))"
   ]
  },
  {
   "cell_type": "code",
   "execution_count": 700,
   "metadata": {},
   "outputs": [
    {
     "data": {
      "text/plain": [
       "S            35688\n",
       "F            11716\n",
       "R             6241\n",
       "NR            4968\n",
       "AQUA - NR      398\n",
       "P              137\n",
       "E               46\n",
       "O               15\n",
       "IP               2\n",
       "FD               1\n",
       "SP               1\n",
       "Name: exposure_type, dtype: int64"
      ]
     },
     "execution_count": 700,
     "metadata": {},
     "output_type": "execute_result"
    }
   ],
   "source": [
    "exposure_type_counts = results_extr.exposure_type.value_counts(dropna=False)\n",
    "exposure_type_counts"
   ]
  },
  {
   "cell_type": "markdown",
   "metadata": {},
   "source": [
    "Now merging NR and AQUA - NR together"
   ]
  },
  {
   "cell_type": "code",
   "execution_count": 701,
   "metadata": {},
   "outputs": [],
   "source": [
    "results_extr.exposure_type = results_extr.exposure_type.apply(lambda x: 'AQUA' if 'NR' in x else x)"
   ]
  },
  {
   "cell_type": "markdown",
   "metadata": {},
   "source": [
    "Print of the final distribution"
   ]
  },
  {
   "cell_type": "code",
   "execution_count": 702,
   "metadata": {},
   "outputs": [
    {
     "data": {
      "image/png": "[encoded data removed]",
      "text/plain": [
       "<Figure size 1080x576 with 1 Axes>"
      ]
     },
     "metadata": {
      "needs_background": "light"
     },
     "output_type": "display_data"
    }
   ],
   "source": [
    "exposure_type_counts = results_extr.exposure_type.value_counts(dropna=False)\n",
    "exposure_type_counts.plot(kind=\"barh\", log=True)\n",
    "plt.title(\"Distribution of exposure_type\")\n",
    "plt.xlabel(\"Counts\")\n",
    "plt.ylabel(\"Type\");"
   ]
  },
  {
   "cell_type": "markdown",
   "metadata": {},
   "source": [
    "Re-considering nulls"
   ]
  },
  {
   "cell_type": "code",
   "execution_count": 703,
   "metadata": {},
   "outputs": [
    {
     "data": {
      "text/html": [
       "<div>\n",
       "<style scoped>\n",
       "    .dataframe tbody tr th:only-of-type {\n",
       "        vertical-align: middle;\n",
       "    }\n",
       "\n",
       "    .dataframe tbody tr th {\n",
       "        vertical-align: top;\n",
       "    }\n",
       "\n",
       "    .dataframe thead th {\n",
       "        text-align: right;\n",
       "    }\n",
       "</style>\n",
       "<table border=\"1\" class=\"dataframe\">\n",
       "  <thead>\n",
       "    <tr style=\"text-align: right;\">\n",
       "      <th></th>\n",
       "      <th>null_values_inc_NC_NR%</th>\n",
       "      <th>#outputs</th>\n",
       "    </tr>\n",
       "  </thead>\n",
       "  <tbody>\n",
       "    <tr>\n",
       "      <td>organism_lifestage</td>\n",
       "      <td>66.0683</td>\n",
       "      <td>46</td>\n",
       "    </tr>\n",
       "    <tr>\n",
       "      <td>organism_characteristics</td>\n",
       "      <td>30.8311</td>\n",
       "      <td>6288</td>\n",
       "    </tr>\n",
       "    <tr>\n",
       "      <td>conc1_type</td>\n",
       "      <td>2.92503</td>\n",
       "      <td>8</td>\n",
       "    </tr>\n",
       "    <tr>\n",
       "      <td>obs_duration_mean</td>\n",
       "      <td>0.868053</td>\n",
       "      <td>297</td>\n",
       "    </tr>\n",
       "    <tr>\n",
       "      <td>genus</td>\n",
       "      <td>0.405316</td>\n",
       "      <td>311</td>\n",
       "    </tr>\n",
       "    <tr>\n",
       "      <td>species</td>\n",
       "      <td>0.405316</td>\n",
       "      <td>497</td>\n",
       "    </tr>\n",
       "    <tr>\n",
       "      <td>obs_duration_unit</td>\n",
       "      <td>0.287099</td>\n",
       "      <td>13</td>\n",
       "    </tr>\n",
       "    <tr>\n",
       "      <td>family</td>\n",
       "      <td>0.121595</td>\n",
       "      <td>103</td>\n",
       "    </tr>\n",
       "    <tr>\n",
       "      <td>class</td>\n",
       "      <td>0.092885</td>\n",
       "      <td>4</td>\n",
       "    </tr>\n",
       "    <tr>\n",
       "      <td>tax_order</td>\n",
       "      <td>0.092885</td>\n",
       "      <td>29</td>\n",
       "    </tr>\n",
       "    <tr>\n",
       "      <td>test_cas</td>\n",
       "      <td>0</td>\n",
       "      <td>3366</td>\n",
       "    </tr>\n",
       "    <tr>\n",
       "      <td>exposure_type</td>\n",
       "      <td>0</td>\n",
       "      <td>10</td>\n",
       "    </tr>\n",
       "    <tr>\n",
       "      <td>conc1_mean</td>\n",
       "      <td>0</td>\n",
       "      <td>7957</td>\n",
       "    </tr>\n",
       "    <tr>\n",
       "      <td>ecotox_group</td>\n",
       "      <td>0</td>\n",
       "      <td>7</td>\n",
       "    </tr>\n",
       "  </tbody>\n",
       "</table>\n",
       "</div>"
      ],
      "text/plain": [
       "                         null_values_inc_NC_NR% #outputs\n",
       "organism_lifestage                      66.0683       46\n",
       "organism_characteristics                30.8311     6288\n",
       "conc1_type                              2.92503        8\n",
       "obs_duration_mean                      0.868053      297\n",
       "genus                                  0.405316      311\n",
       "species                                0.405316      497\n",
       "obs_duration_unit                      0.287099       13\n",
       "family                                 0.121595      103\n",
       "class                                  0.092885        4\n",
       "tax_order                              0.092885       29\n",
       "test_cas                                      0     3366\n",
       "exposure_type                                 0       10\n",
       "conc1_mean                                    0     7957\n",
       "ecotox_group                                  0        7"
      ]
     },
     "execution_count": 703,
     "metadata": {},
     "output_type": "execute_result"
    }
   ],
   "source": [
    "null_res,list_nulls = null_output_counts(\"\", results_extr)\n",
    "null_res.sort_values(by=\"null_values_inc_NC_NR%\", ascending=False)"
   ]
  },
  {
   "cell_type": "markdown",
   "metadata": {},
   "source": [
    "### Conc1_type"
   ]
  },
  {
   "cell_type": "code",
   "execution_count": 704,
   "metadata": {},
   "outputs": [
    {
     "data": {
      "text/plain": [
       "A     26609\n",
       "F     15771\n",
       "T     13550\n",
       "NC     1728\n",
       "D       858\n",
       "U       665\n",
       "L        28\n",
       "NR        4\n",
       "Name: conc1_type, dtype: int64"
      ]
     },
     "execution_count": 704,
     "metadata": {},
     "output_type": "execute_result"
    }
   ],
   "source": [
    "results_extr.conc1_type.value_counts(dropna=False)"
   ]
  },
  {
   "cell_type": "markdown",
   "metadata": {},
   "source": [
    "We can see is something useful emerge in conc2"
   ]
  },
  {
   "cell_type": "code",
   "execution_count": 705,
   "metadata": {},
   "outputs": [
    {
     "data": {
      "text/plain": [
       "Series([], Name: conc2_type, dtype: object)"
      ]
     },
     "execution_count": 705,
     "metadata": {},
     "output_type": "execute_result"
    }
   ],
   "source": [
    "type_ind = results_extr[(results_extr.conc1_type == \"NC\") | (results_extr.conc1_type == \"NR\")].index\n",
    "other_conc = results_final[\"conc2_type\"].copy()\n",
    "other_conc = other_conc.loc[type_ind]\n",
    "other_conc.dropna()"
   ]
  },
  {
   "cell_type": "markdown",
   "metadata": {},
   "source": [
    "Nothing. We can only drop"
   ]
  },
  {
   "cell_type": "code",
   "execution_count": 706,
   "metadata": {},
   "outputs": [],
   "source": [
    "drop_conc1_type = results_extr[(results_extr.conc1_type == \"NC\")|(results_extr.conc1_type == \"NR\")].index\n",
    "results_extr.drop(drop_conc1_type, inplace=True)"
   ]
  },
  {
   "cell_type": "markdown",
   "metadata": {},
   "source": [
    "### Observation duration (mean and units)"
   ]
  },
  {
   "cell_type": "code",
   "execution_count": 707,
   "metadata": {},
   "outputs": [
    {
     "data": {
      "text/plain": [
       "h      53909\n",
       "d       3019\n",
       "NR       170\n",
       "mi       141\n",
       "wk        92\n",
       "hpf       48\n",
       "dph       39\n",
       "mo        36\n",
       "ht        18\n",
       "dpf        5\n",
       "fry        2\n",
       "hv         1\n",
       "ma         1\n",
       "Name: obs_duration_unit, dtype: int64"
      ]
     },
     "execution_count": 707,
     "metadata": {},
     "output_type": "execute_result"
    }
   ],
   "source": [
    "results_extr.obs_duration_unit.value_counts(dropna=False)"
   ]
  },
  {
   "cell_type": "markdown",
   "metadata": {},
   "source": [
    "Dropping the 170 NR"
   ]
  },
  {
   "cell_type": "code",
   "execution_count": 708,
   "metadata": {},
   "outputs": [],
   "source": [
    "drop_NR_dur_unit = results_extr[results_extr.obs_duration_unit ==\"NR\"].index\n",
    "results_extr.drop(drop_NR_dur_unit, inplace=True)"
   ]
  },
  {
   "cell_type": "code",
   "execution_count": 709,
   "metadata": {},
   "outputs": [
    {
     "data": {
      "text/plain": [
       "h      53909\n",
       "d       3019\n",
       "mi       141\n",
       "wk        92\n",
       "hpf       48\n",
       "dph       39\n",
       "mo        36\n",
       "ht        18\n",
       "dpf        5\n",
       "fry        2\n",
       "hv         1\n",
       "ma         1\n",
       "Name: obs_duration_unit, dtype: int64"
      ]
     },
     "execution_count": 709,
     "metadata": {},
     "output_type": "execute_result"
    }
   ],
   "source": [
    "results_extr.obs_duration_unit.value_counts(dropna=False)"
   ]
  },
  {
   "cell_type": "markdown",
   "metadata": {},
   "source": [
    "Not considering the strange measures unit"
   ]
  },
  {
   "cell_type": "code",
   "execution_count": 710,
   "metadata": {},
   "outputs": [],
   "source": [
    "good_obs_unit = [\"h\", \"d\", \"mi\", \"wk\", \"mo\"]\n",
    "results_extr = results_extr[results_extr.obs_duration_unit.isin(good_obs_unit)]"
   ]
  },
  {
   "cell_type": "code",
   "execution_count": 711,
   "metadata": {},
   "outputs": [
    {
     "data": {
      "text/plain": [
       "h     53909\n",
       "d      3019\n",
       "mi      141\n",
       "wk       92\n",
       "mo       36\n",
       "Name: obs_duration_unit, dtype: int64"
      ]
     },
     "execution_count": 711,
     "metadata": {},
     "output_type": "execute_result"
    }
   ],
   "source": [
    "results_extr.obs_duration_unit.value_counts(dropna=False)"
   ]
  },
  {
   "cell_type": "code",
   "execution_count": 712,
   "metadata": {},
   "outputs": [
    {
     "data": {
      "text/plain": [
       "NR    324\n",
       "Name: obs_duration_mean, dtype: int64"
      ]
     },
     "execution_count": 712,
     "metadata": {},
     "output_type": "execute_result"
    }
   ],
   "source": [
    "count_obs_mean = results_extr.obs_duration_mean.value_counts(dropna=False)\n",
    "count_obs_mean[count_obs_mean.index.isin([\"NC\", \"NaN\", \"NR\"])]"
   ]
  },
  {
   "cell_type": "code",
   "execution_count": 713,
   "metadata": {},
   "outputs": [],
   "source": [
    "# Drop these rows\n",
    "drop_NR_obs_mean = results_extr[results_extr.obs_duration_mean ==\"NR\"].index\n",
    "results_extr.drop(drop_NR_obs_mean, inplace=True)"
   ]
  },
  {
   "cell_type": "code",
   "execution_count": 714,
   "metadata": {},
   "outputs": [],
   "source": [
    "results_extr.obs_duration_mean = results_extr.obs_duration_mean.astype(float)"
   ]
  },
  {
   "cell_type": "markdown",
   "metadata": {},
   "source": [
    "Conversion:"
   ]
  },
  {
   "cell_type": "markdown",
   "metadata": {},
   "source": [
    "All in **hours**:\n",
    "- d -> d\\*24\n",
    "- mi -> mi/60\n",
    "- wk -> wk\\*7\\*24\n",
    "- mo -> mo\\*30\\*24"
   ]
  },
  {
   "cell_type": "code",
   "execution_count": 715,
   "metadata": {},
   "outputs": [],
   "source": [
    "results_extr.obs_duration_mean = np.where(results_extr['obs_duration_mean'] == \"d\", \\\n",
    "                                   results_extr.obs_duration_mean*24, results_extr.obs_duration_mean)\n",
    "results_extr.obs_duration_mean = np.where(results_extr['obs_duration_mean'] == \"mi\", \\\n",
    "                                   results_extr.obs_duration_mean/60, results_extr.obs_duration_mean)\n",
    "results_extr.obs_duration_mean = np.where(results_extr['obs_duration_mean'] == \"wk\", \\\n",
    "                                   results_extr.obs_duration_mean*7*24, results_extr.obs_duration_mean)\n",
    "results_extr.obs_duration_mean = np.where(results_extr['obs_duration_mean'] == \"mo\", \\\n",
    "                                   results_extr.obs_duration_mean*30*24, results_extr.obs_duration_mean)"
   ]
  },
  {
   "cell_type": "code",
   "execution_count": 716,
   "metadata": {},
   "outputs": [],
   "source": [
    "# Drop no longer needed column unit\n",
    "results_extr = results_extr.drop(columns=\"obs_duration_unit\")"
   ]
  },
  {
   "cell_type": "markdown",
   "metadata": {},
   "source": [
    "Plotting an histogram of the distribution of the new values:"
   ]
  },
  {
   "cell_type": "code",
   "execution_count": 717,
   "metadata": {},
   "outputs": [
    {
     "data": {
      "image/png": "[encoded data removed]",
      "text/plain": [
       "<Figure size 1080x576 with 1 Axes>"
      ]
     },
     "metadata": {
      "needs_background": "light"
     },
     "output_type": "display_data"
    }
   ],
   "source": [
    "results_extr.obs_duration_mean.hist(bins=100)\n",
    "plt.yscale(\"log\")\n",
    "plt.title(\"Distribution of the obs_duration_mean\")\n",
    "plt.xlabel(\"Value\")\n",
    "plt.ylabel(\"Counts\");"
   ]
  },
  {
   "cell_type": "markdown",
   "metadata": {},
   "source": [
    "The distribution is **skewed** (more than before thanks to the new added values too)"
   ]
  },
  {
   "cell_type": "code",
   "execution_count": 718,
   "metadata": {},
   "outputs": [
    {
     "data": {
      "text/html": [
       "<div>\n",
       "<style scoped>\n",
       "    .dataframe tbody tr th:only-of-type {\n",
       "        vertical-align: middle;\n",
       "    }\n",
       "\n",
       "    .dataframe tbody tr th {\n",
       "        vertical-align: top;\n",
       "    }\n",
       "\n",
       "    .dataframe thead th {\n",
       "        text-align: right;\n",
       "    }\n",
       "</style>\n",
       "<table border=\"1\" class=\"dataframe\">\n",
       "  <thead>\n",
       "    <tr style=\"text-align: right;\">\n",
       "      <th></th>\n",
       "      <th>null_values_inc_NC_NR%</th>\n",
       "      <th>#outputs</th>\n",
       "    </tr>\n",
       "  </thead>\n",
       "  <tbody>\n",
       "    <tr>\n",
       "      <td>organism_lifestage</td>\n",
       "      <td>65.5759</td>\n",
       "      <td>46</td>\n",
       "    </tr>\n",
       "    <tr>\n",
       "      <td>organism_characteristics</td>\n",
       "      <td>31.7022</td>\n",
       "      <td>6047</td>\n",
       "    </tr>\n",
       "    <tr>\n",
       "      <td>genus</td>\n",
       "      <td>0.420235</td>\n",
       "      <td>310</td>\n",
       "    </tr>\n",
       "    <tr>\n",
       "      <td>species</td>\n",
       "      <td>0.420235</td>\n",
       "      <td>496</td>\n",
       "    </tr>\n",
       "    <tr>\n",
       "      <td>family</td>\n",
       "      <td>0.126598</td>\n",
       "      <td>103</td>\n",
       "    </tr>\n",
       "    <tr>\n",
       "      <td>class</td>\n",
       "      <td>0.0967067</td>\n",
       "      <td>4</td>\n",
       "    </tr>\n",
       "    <tr>\n",
       "      <td>tax_order</td>\n",
       "      <td>0.0967067</td>\n",
       "      <td>29</td>\n",
       "    </tr>\n",
       "    <tr>\n",
       "      <td>test_cas</td>\n",
       "      <td>0</td>\n",
       "      <td>3188</td>\n",
       "    </tr>\n",
       "    <tr>\n",
       "      <td>exposure_type</td>\n",
       "      <td>0</td>\n",
       "      <td>10</td>\n",
       "    </tr>\n",
       "    <tr>\n",
       "      <td>obs_duration_mean</td>\n",
       "      <td>0</td>\n",
       "      <td>272</td>\n",
       "    </tr>\n",
       "    <tr>\n",
       "      <td>conc1_type</td>\n",
       "      <td>0</td>\n",
       "      <td>6</td>\n",
       "    </tr>\n",
       "    <tr>\n",
       "      <td>conc1_mean</td>\n",
       "      <td>0</td>\n",
       "      <td>7831</td>\n",
       "    </tr>\n",
       "    <tr>\n",
       "      <td>ecotox_group</td>\n",
       "      <td>0</td>\n",
       "      <td>7</td>\n",
       "    </tr>\n",
       "  </tbody>\n",
       "</table>\n",
       "</div>"
      ],
      "text/plain": [
       "                         null_values_inc_NC_NR% #outputs\n",
       "organism_lifestage                      65.5759       46\n",
       "organism_characteristics                31.7022     6047\n",
       "genus                                  0.420235      310\n",
       "species                                0.420235      496\n",
       "family                                 0.126598      103\n",
       "class                                 0.0967067        4\n",
       "tax_order                             0.0967067       29\n",
       "test_cas                                      0     3188\n",
       "exposure_type                                 0       10\n",
       "obs_duration_mean                             0      272\n",
       "conc1_type                                    0        6\n",
       "conc1_mean                                    0     7831\n",
       "ecotox_group                                  0        7"
      ]
     },
     "execution_count": 718,
     "metadata": {},
     "output_type": "execute_result"
    }
   ],
   "source": [
    "null_res,list_nulls = null_output_counts(\"\", results_extr)\n",
    "null_res.sort_values(by=\"null_values_inc_NC_NR%\", ascending=False)"
   ]
  },
  {
   "cell_type": "markdown",
   "metadata": {},
   "source": [
    "#### Genus / Species"
   ]
  },
  {
   "cell_type": "code",
   "execution_count": 719,
   "metadata": {},
   "outputs": [],
   "source": [
    "drop_genus = results_extr[results_extr.genus.isnull()].index\n",
    "drop_species = results_extr[results_extr.species.isnull()].index"
   ]
  },
  {
   "cell_type": "markdown",
   "metadata": {},
   "source": [
    "We observe that the null of genus and species are in the same position"
   ]
  },
  {
   "cell_type": "code",
   "execution_count": 720,
   "metadata": {},
   "outputs": [
    {
     "data": {
      "text/plain": [
       "True"
      ]
     },
     "execution_count": 720,
     "metadata": {},
     "output_type": "execute_result"
    }
   ],
   "source": [
    "list(drop_genus) == list(drop_species)"
   ]
  },
  {
   "cell_type": "code",
   "execution_count": 721,
   "metadata": {},
   "outputs": [],
   "source": [
    "results_extr.drop(drop_genus, inplace=True)"
   ]
  },
  {
   "cell_type": "code",
   "execution_count": 722,
   "metadata": {},
   "outputs": [
    {
     "data": {
      "text/html": [
       "<div>\n",
       "<style scoped>\n",
       "    .dataframe tbody tr th:only-of-type {\n",
       "        vertical-align: middle;\n",
       "    }\n",
       "\n",
       "    .dataframe tbody tr th {\n",
       "        vertical-align: top;\n",
       "    }\n",
       "\n",
       "    .dataframe thead th {\n",
       "        text-align: right;\n",
       "    }\n",
       "</style>\n",
       "<table border=\"1\" class=\"dataframe\">\n",
       "  <thead>\n",
       "    <tr style=\"text-align: right;\">\n",
       "      <th></th>\n",
       "      <th>null_values_inc_NC_NR%</th>\n",
       "      <th>#outputs</th>\n",
       "    </tr>\n",
       "  </thead>\n",
       "  <tbody>\n",
       "    <tr>\n",
       "      <td>organism_lifestage</td>\n",
       "      <td>65.5401</td>\n",
       "      <td>46</td>\n",
       "    </tr>\n",
       "    <tr>\n",
       "      <td>organism_characteristics</td>\n",
       "      <td>31.6806</td>\n",
       "      <td>6024</td>\n",
       "    </tr>\n",
       "    <tr>\n",
       "      <td>family</td>\n",
       "      <td>0.0070629</td>\n",
       "      <td>103</td>\n",
       "    </tr>\n",
       "    <tr>\n",
       "      <td>test_cas</td>\n",
       "      <td>0</td>\n",
       "      <td>3179</td>\n",
       "    </tr>\n",
       "    <tr>\n",
       "      <td>exposure_type</td>\n",
       "      <td>0</td>\n",
       "      <td>10</td>\n",
       "    </tr>\n",
       "    <tr>\n",
       "      <td>obs_duration_mean</td>\n",
       "      <td>0</td>\n",
       "      <td>272</td>\n",
       "    </tr>\n",
       "    <tr>\n",
       "      <td>conc1_type</td>\n",
       "      <td>0</td>\n",
       "      <td>6</td>\n",
       "    </tr>\n",
       "    <tr>\n",
       "      <td>conc1_mean</td>\n",
       "      <td>0</td>\n",
       "      <td>7818</td>\n",
       "    </tr>\n",
       "    <tr>\n",
       "      <td>class</td>\n",
       "      <td>0</td>\n",
       "      <td>3</td>\n",
       "    </tr>\n",
       "    <tr>\n",
       "      <td>tax_order</td>\n",
       "      <td>0</td>\n",
       "      <td>28</td>\n",
       "    </tr>\n",
       "    <tr>\n",
       "      <td>genus</td>\n",
       "      <td>0</td>\n",
       "      <td>309</td>\n",
       "    </tr>\n",
       "    <tr>\n",
       "      <td>species</td>\n",
       "      <td>0</td>\n",
       "      <td>495</td>\n",
       "    </tr>\n",
       "    <tr>\n",
       "      <td>ecotox_group</td>\n",
       "      <td>0</td>\n",
       "      <td>7</td>\n",
       "    </tr>\n",
       "  </tbody>\n",
       "</table>\n",
       "</div>"
      ],
      "text/plain": [
       "                         null_values_inc_NC_NR% #outputs\n",
       "organism_lifestage                      65.5401       46\n",
       "organism_characteristics                31.6806     6024\n",
       "family                                0.0070629      103\n",
       "test_cas                                      0     3179\n",
       "exposure_type                                 0       10\n",
       "obs_duration_mean                             0      272\n",
       "conc1_type                                    0        6\n",
       "conc1_mean                                    0     7818\n",
       "class                                         0        3\n",
       "tax_order                                     0       28\n",
       "genus                                         0      309\n",
       "species                                       0      495\n",
       "ecotox_group                                  0        7"
      ]
     },
     "execution_count": 722,
     "metadata": {},
     "output_type": "execute_result"
    }
   ],
   "source": [
    "null_res,list_nulls = null_output_counts(\"\", results_extr)\n",
    "null_res.sort_values(by=\"null_values_inc_NC_NR%\", ascending=False)"
   ]
  },
  {
   "cell_type": "markdown",
   "metadata": {},
   "source": [
    "#### Family  \n",
    "Only few nan values, directly dropped"
   ]
  },
  {
   "cell_type": "code",
   "execution_count": 723,
   "metadata": {},
   "outputs": [],
   "source": [
    "drop_family = results_extr[results_extr.family.isnull()].index\n",
    "results_extr.drop(drop_family, inplace=True)"
   ]
  },
  {
   "cell_type": "code",
   "execution_count": 724,
   "metadata": {},
   "outputs": [
    {
     "data": {
      "text/html": [
       "<div>\n",
       "<style scoped>\n",
       "    .dataframe tbody tr th:only-of-type {\n",
       "        vertical-align: middle;\n",
       "    }\n",
       "\n",
       "    .dataframe tbody tr th {\n",
       "        vertical-align: top;\n",
       "    }\n",
       "\n",
       "    .dataframe thead th {\n",
       "        text-align: right;\n",
       "    }\n",
       "</style>\n",
       "<table border=\"1\" class=\"dataframe\">\n",
       "  <thead>\n",
       "    <tr style=\"text-align: right;\">\n",
       "      <th></th>\n",
       "      <th>null_values_inc_NC_NR%</th>\n",
       "      <th>#outputs</th>\n",
       "    </tr>\n",
       "  </thead>\n",
       "  <tbody>\n",
       "    <tr>\n",
       "      <td>organism_lifestage</td>\n",
       "      <td>65.5377</td>\n",
       "      <td>46</td>\n",
       "    </tr>\n",
       "    <tr>\n",
       "      <td>organism_characteristics</td>\n",
       "      <td>31.6829</td>\n",
       "      <td>6023</td>\n",
       "    </tr>\n",
       "    <tr>\n",
       "      <td>test_cas</td>\n",
       "      <td>0</td>\n",
       "      <td>3179</td>\n",
       "    </tr>\n",
       "    <tr>\n",
       "      <td>exposure_type</td>\n",
       "      <td>0</td>\n",
       "      <td>10</td>\n",
       "    </tr>\n",
       "    <tr>\n",
       "      <td>obs_duration_mean</td>\n",
       "      <td>0</td>\n",
       "      <td>272</td>\n",
       "    </tr>\n",
       "    <tr>\n",
       "      <td>conc1_type</td>\n",
       "      <td>0</td>\n",
       "      <td>6</td>\n",
       "    </tr>\n",
       "    <tr>\n",
       "      <td>conc1_mean</td>\n",
       "      <td>0</td>\n",
       "      <td>7815</td>\n",
       "    </tr>\n",
       "    <tr>\n",
       "      <td>class</td>\n",
       "      <td>0</td>\n",
       "      <td>3</td>\n",
       "    </tr>\n",
       "    <tr>\n",
       "      <td>tax_order</td>\n",
       "      <td>0</td>\n",
       "      <td>28</td>\n",
       "    </tr>\n",
       "    <tr>\n",
       "      <td>family</td>\n",
       "      <td>0</td>\n",
       "      <td>102</td>\n",
       "    </tr>\n",
       "    <tr>\n",
       "      <td>genus</td>\n",
       "      <td>0</td>\n",
       "      <td>308</td>\n",
       "    </tr>\n",
       "    <tr>\n",
       "      <td>species</td>\n",
       "      <td>0</td>\n",
       "      <td>494</td>\n",
       "    </tr>\n",
       "    <tr>\n",
       "      <td>ecotox_group</td>\n",
       "      <td>0</td>\n",
       "      <td>7</td>\n",
       "    </tr>\n",
       "  </tbody>\n",
       "</table>\n",
       "</div>"
      ],
      "text/plain": [
       "                         null_values_inc_NC_NR% #outputs\n",
       "organism_lifestage                      65.5377       46\n",
       "organism_characteristics                31.6829     6023\n",
       "test_cas                                      0     3179\n",
       "exposure_type                                 0       10\n",
       "obs_duration_mean                             0      272\n",
       "conc1_type                                    0        6\n",
       "conc1_mean                                    0     7815\n",
       "class                                         0        3\n",
       "tax_order                                     0       28\n",
       "family                                        0      102\n",
       "genus                                         0      308\n",
       "species                                       0      494\n",
       "ecotox_group                                  0        7"
      ]
     },
     "execution_count": 724,
     "metadata": {},
     "output_type": "execute_result"
    }
   ],
   "source": [
    "null_res,list_nulls = null_output_counts(\"\", results_extr)\n",
    "null_res.sort_values(by=\"null_values_inc_NC_NR%\", ascending=False)"
   ]
  },
  {
   "cell_type": "markdown",
   "metadata": {},
   "source": [
    "Check on concentration zeros:"
   ]
  },
  {
   "cell_type": "code",
   "execution_count": 725,
   "metadata": {},
   "outputs": [
    {
     "data": {
      "text/html": [
       "<div>\n",
       "<style scoped>\n",
       "    .dataframe tbody tr th:only-of-type {\n",
       "        vertical-align: middle;\n",
       "    }\n",
       "\n",
       "    .dataframe tbody tr th {\n",
       "        vertical-align: top;\n",
       "    }\n",
       "\n",
       "    .dataframe thead th {\n",
       "        text-align: right;\n",
       "    }\n",
       "</style>\n",
       "<table border=\"1\" class=\"dataframe\">\n",
       "  <thead>\n",
       "    <tr style=\"text-align: right;\">\n",
       "      <th></th>\n",
       "      <th>test_cas</th>\n",
       "      <th>exposure_type</th>\n",
       "      <th>obs_duration_mean</th>\n",
       "      <th>conc1_type</th>\n",
       "      <th>conc1_mean</th>\n",
       "      <th>class</th>\n",
       "      <th>tax_order</th>\n",
       "      <th>family</th>\n",
       "      <th>genus</th>\n",
       "      <th>species</th>\n",
       "      <th>organism_lifestage</th>\n",
       "      <th>organism_characteristics</th>\n",
       "      <th>ecotox_group</th>\n",
       "    </tr>\n",
       "  </thead>\n",
       "  <tbody>\n",
       "    <tr>\n",
       "      <td>51679</td>\n",
       "      <td>10108642</td>\n",
       "      <td>S</td>\n",
       "      <td>24.0</td>\n",
       "      <td>T</td>\n",
       "      <td>0.0</td>\n",
       "      <td>Actinopterygii</td>\n",
       "      <td>Pleuronectiformes</td>\n",
       "      <td>Scophthalmidae</td>\n",
       "      <td>Psetta</td>\n",
       "      <td>maxima</td>\n",
       "      <td>LV</td>\n",
       "      <td>NEWLY HATCHED, YOLK SAC STAGE</td>\n",
       "      <td>Fish</td>\n",
       "    </tr>\n",
       "  </tbody>\n",
       "</table>\n",
       "</div>"
      ],
      "text/plain": [
       "       test_cas exposure_type  obs_duration_mean conc1_type  conc1_mean  \\\n",
       "51679  10108642             S               24.0          T         0.0   \n",
       "\n",
       "                class          tax_order          family   genus species  \\\n",
       "51679  Actinopterygii  Pleuronectiformes  Scophthalmidae  Psetta  maxima   \n",
       "\n",
       "      organism_lifestage       organism_characteristics ecotox_group  \n",
       "51679                 LV  NEWLY HATCHED, YOLK SAC STAGE         Fish  "
      ]
     },
     "execution_count": 725,
     "metadata": {},
     "output_type": "execute_result"
    }
   ],
   "source": [
    "results_extr[results_extr.conc1_mean == 0]"
   ]
  },
  {
   "cell_type": "code",
   "execution_count": 726,
   "metadata": {},
   "outputs": [
    {
     "data": {
      "text/html": [
       "<div>\n",
       "<style scoped>\n",
       "    .dataframe tbody tr th:only-of-type {\n",
       "        vertical-align: middle;\n",
       "    }\n",
       "\n",
       "    .dataframe tbody tr th {\n",
       "        vertical-align: top;\n",
       "    }\n",
       "\n",
       "    .dataframe thead th {\n",
       "        text-align: right;\n",
       "    }\n",
       "</style>\n",
       "<table border=\"1\" class=\"dataframe\">\n",
       "  <thead>\n",
       "    <tr style=\"text-align: right;\">\n",
       "      <th></th>\n",
       "      <th>test_cas</th>\n",
       "      <th>exposure_type</th>\n",
       "      <th>obs_duration_mean</th>\n",
       "      <th>conc1_type</th>\n",
       "      <th>conc1_mean</th>\n",
       "      <th>class</th>\n",
       "      <th>tax_order</th>\n",
       "      <th>family</th>\n",
       "      <th>genus</th>\n",
       "      <th>species</th>\n",
       "      <th>organism_lifestage</th>\n",
       "      <th>organism_characteristics</th>\n",
       "      <th>ecotox_group</th>\n",
       "    </tr>\n",
       "  </thead>\n",
       "  <tbody>\n",
       "  </tbody>\n",
       "</table>\n",
       "</div>"
      ],
      "text/plain": [
       "Empty DataFrame\n",
       "Columns: [test_cas, exposure_type, obs_duration_mean, conc1_type, conc1_mean, class, tax_order, family, genus, species, organism_lifestage, organism_characteristics, ecotox_group]\n",
       "Index: []"
      ]
     },
     "execution_count": 726,
     "metadata": {},
     "output_type": "execute_result"
    }
   ],
   "source": [
    "results_extr[results_extr.obs_duration_mean == 0]"
   ]
  },
  {
   "cell_type": "code",
   "execution_count": 727,
   "metadata": {},
   "outputs": [],
   "source": [
    "drop = results_extr[results_extr.conc1_mean==0].index\n",
    "results_extr.drop(drop, inplace=True)"
   ]
  },
  {
   "cell_type": "code",
   "execution_count": 728,
   "metadata": {},
   "outputs": [
    {
     "name": "stdout",
     "output_type": "stream",
     "text": [
      "Final dimension of the dataset: 56629\n"
     ]
    }
   ],
   "source": [
    "print(\"Final dimension of the dataset: {}\".format(results_extr.index.size))"
   ]
  },
  {
   "cell_type": "code",
   "execution_count": 757,
   "metadata": {},
   "outputs": [],
   "source": [
    "#results_extr.to_csv(\"output/base_db.csv\")"
   ]
  },
  {
   "cell_type": "code",
   "execution_count": 3,
   "metadata": {},
   "outputs": [],
   "source": [
    "base_db = pd.read_csv(\"output/base_db.csv\").drop(columns=\"Unnamed: 0\")"
   ]
  },
  {
   "cell_type": "markdown",
   "metadata": {},
   "source": [
    "## Preprocessing on base_db"
   ]
  },
  {
   "cell_type": "code",
   "execution_count": 4,
   "metadata": {},
   "outputs": [
    {
     "data": {
      "text/plain": [
       "Index(['test_cas', 'exposure_type', 'obs_duration_mean', 'conc1_type',\n",
       "       'conc1_mean', 'class', 'tax_order', 'family', 'genus', 'species',\n",
       "       'organism_lifestage', 'organism_characteristics', 'ecotox_group'],\n",
       "      dtype='object')"
      ]
     },
     "execution_count": 4,
     "metadata": {},
     "output_type": "execute_result"
    }
   ],
   "source": [
    "base_db.columns"
   ]
  },
  {
   "cell_type": "code",
   "execution_count": 5,
   "metadata": {},
   "outputs": [],
   "source": [
    "use_db = base_db.copy()\n",
    "use_db = use_db[['test_cas', 'exposure_type', 'obs_duration_mean', 'conc1_type',\n",
    "       'conc1_mean', 'class', 'tax_order', 'family', 'genus', 'species']]"
   ]
  },
  {
   "cell_type": "code",
   "execution_count": 6,
   "metadata": {},
   "outputs": [
    {
     "data": {
      "text/html": [
       "<div>\n",
       "<style scoped>\n",
       "    .dataframe tbody tr th:only-of-type {\n",
       "        vertical-align: middle;\n",
       "    }\n",
       "\n",
       "    .dataframe tbody tr th {\n",
       "        vertical-align: top;\n",
       "    }\n",
       "\n",
       "    .dataframe thead th {\n",
       "        text-align: right;\n",
       "    }\n",
       "</style>\n",
       "<table border=\"1\" class=\"dataframe\">\n",
       "  <thead>\n",
       "    <tr style=\"text-align: right;\">\n",
       "      <th></th>\n",
       "      <th>test_cas</th>\n",
       "      <th>obs_duration_mean</th>\n",
       "      <th>conc1_mean</th>\n",
       "    </tr>\n",
       "  </thead>\n",
       "  <tbody>\n",
       "    <tr>\n",
       "      <td>count</td>\n",
       "      <td>5.662900e+04</td>\n",
       "      <td>56629.000000</td>\n",
       "      <td>5.662900e+04</td>\n",
       "    </tr>\n",
       "    <tr>\n",
       "      <td>mean</td>\n",
       "      <td>1.236581e+07</td>\n",
       "      <td>62.226642</td>\n",
       "      <td>3.532387e+02</td>\n",
       "    </tr>\n",
       "    <tr>\n",
       "      <td>std</td>\n",
       "      <td>3.482018e+07</td>\n",
       "      <td>41.489147</td>\n",
       "      <td>7.121918e+03</td>\n",
       "    </tr>\n",
       "    <tr>\n",
       "      <td>min</td>\n",
       "      <td>5.000000e+04</td>\n",
       "      <td>0.004000</td>\n",
       "      <td>5.200000e-08</td>\n",
       "    </tr>\n",
       "    <tr>\n",
       "      <td>25%</td>\n",
       "      <td>1.080540e+05</td>\n",
       "      <td>24.000000</td>\n",
       "      <td>1.800000e-01</td>\n",
       "    </tr>\n",
       "    <tr>\n",
       "      <td>50%</td>\n",
       "      <td>1.918021e+06</td>\n",
       "      <td>48.000000</td>\n",
       "      <td>2.260000e+00</td>\n",
       "    </tr>\n",
       "    <tr>\n",
       "      <td>75%</td>\n",
       "      <td>1.004301e+07</td>\n",
       "      <td>96.000000</td>\n",
       "      <td>2.240000e+01</td>\n",
       "    </tr>\n",
       "    <tr>\n",
       "      <td>max</td>\n",
       "      <td>1.413933e+09</td>\n",
       "      <td>964.000000</td>\n",
       "      <td>9.860000e+05</td>\n",
       "    </tr>\n",
       "  </tbody>\n",
       "</table>\n",
       "</div>"
      ],
      "text/plain": [
       "           test_cas  obs_duration_mean    conc1_mean\n",
       "count  5.662900e+04       56629.000000  5.662900e+04\n",
       "mean   1.236581e+07          62.226642  3.532387e+02\n",
       "std    3.482018e+07          41.489147  7.121918e+03\n",
       "min    5.000000e+04           0.004000  5.200000e-08\n",
       "25%    1.080540e+05          24.000000  1.800000e-01\n",
       "50%    1.918021e+06          48.000000  2.260000e+00\n",
       "75%    1.004301e+07          96.000000  2.240000e+01\n",
       "max    1.413933e+09         964.000000  9.860000e+05"
      ]
     },
     "execution_count": 6,
     "metadata": {},
     "output_type": "execute_result"
    }
   ],
   "source": [
    "use_db.describe()"
   ]
  },
  {
   "cell_type": "markdown",
   "metadata": {},
   "source": [
    "### obs_duration_mean/conc1_mean"
   ]
  },
  {
   "cell_type": "code",
   "execution_count": 7,
   "metadata": {},
   "outputs": [
    {
     "data": {
      "image/png": "[encoded data removed]",
      "text/plain": [
       "<Figure size 1080x576 with 1 Axes>"
      ]
     },
     "metadata": {
      "needs_background": "light"
     },
     "output_type": "display_data"
    }
   ],
   "source": [
    "# plotted as before\n",
    "use_db.obs_duration_mean.hist(bins=100)\n",
    "plt.yscale(\"log\")\n",
    "plt.title(\"Distribution of the obs_duration_mean\")\n",
    "plt.xlabel(\"Value\")\n",
    "plt.ylabel(\"Counts\");"
   ]
  },
  {
   "cell_type": "code",
   "execution_count": 8,
   "metadata": {},
   "outputs": [
    {
     "data": {
      "image/png": "[encoded data removed]",
      "text/plain": [
       "<Figure size 1080x576 with 1 Axes>"
      ]
     },
     "metadata": {
      "needs_background": "light"
     },
     "output_type": "display_data"
    }
   ],
   "source": [
    "# plotted as before\n",
    "use_db.conc1_mean.hist(bins=100)\n",
    "plt.yscale(\"log\")\n",
    "plt.title(\"Distribution of the conc_mean\")\n",
    "plt.xlabel(\"Value\")\n",
    "plt.ylabel(\"Counts\");"
   ]
  },
  {
   "cell_type": "code",
   "execution_count": 9,
   "metadata": {},
   "outputs": [],
   "source": [
    "# logarithmic transformations\n",
    "use_db.obs_duration_mean = use_db.obs_duration_mean.apply(lambda x: np.log1p(x))\n",
    "#use_db.conc1_mean = use_db.conc1_mean.apply(lambda x: np.log1p(x)) #Not good result"
   ]
  },
  {
   "cell_type": "code",
   "execution_count": 10,
   "metadata": {},
   "outputs": [],
   "source": [
    "# MinMax scale\n",
    "minmax = MinMaxScaler()\n",
    "minmax.fit(use_db[[\"obs_duration_mean\"]])\n",
    "use_db[[\"obs_duration_mean\"]] = minmax.transform(use_db[[\"obs_duration_mean\"]])"
   ]
  },
  {
   "cell_type": "code",
   "execution_count": 11,
   "metadata": {},
   "outputs": [
    {
     "data": {
      "image/png": "[encoded data removed]",
      "text/plain": [
       "<Figure size 1080x576 with 2 Axes>"
      ]
     },
     "metadata": {
      "needs_background": "light"
     },
     "output_type": "display_data"
    }
   ],
   "source": [
    "plt.subplot(1,2,1)\n",
    "use_db.obs_duration_mean.hist(bins=10)\n",
    "plt.title(\"Distribution of the obs_duration_mean\")\n",
    "plt.xlabel(\"Value\")\n",
    "plt.ylabel(\"Counts\")\n",
    "plt.yscale(\"log\")\n",
    "plt.subplot(1,2,2)\n",
    "use_db.conc1_mean.hist(bins=10)\n",
    "plt.title(\"Distribution of the conc_mean\")\n",
    "plt.xlabel(\"Value\")\n",
    "plt.ylabel(\"Counts\");"
   ]
  },
  {
   "cell_type": "code",
   "execution_count": 12,
   "metadata": {},
   "outputs": [
    {
     "data": {
      "text/html": [
       "<div>\n",
       "<style scoped>\n",
       "    .dataframe tbody tr th:only-of-type {\n",
       "        vertical-align: middle;\n",
       "    }\n",
       "\n",
       "    .dataframe tbody tr th {\n",
       "        vertical-align: top;\n",
       "    }\n",
       "\n",
       "    .dataframe thead th {\n",
       "        text-align: right;\n",
       "    }\n",
       "</style>\n",
       "<table border=\"1\" class=\"dataframe\">\n",
       "  <thead>\n",
       "    <tr style=\"text-align: right;\">\n",
       "      <th></th>\n",
       "      <th>test_cas</th>\n",
       "      <th>obs_duration_mean</th>\n",
       "      <th>conc1_mean</th>\n",
       "    </tr>\n",
       "  </thead>\n",
       "  <tbody>\n",
       "    <tr>\n",
       "      <td>count</td>\n",
       "      <td>5.662900e+04</td>\n",
       "      <td>56629.000000</td>\n",
       "      <td>5.662900e+04</td>\n",
       "    </tr>\n",
       "    <tr>\n",
       "      <td>mean</td>\n",
       "      <td>1.236581e+07</td>\n",
       "      <td>0.561789</td>\n",
       "      <td>3.532387e+02</td>\n",
       "    </tr>\n",
       "    <tr>\n",
       "      <td>std</td>\n",
       "      <td>3.482018e+07</td>\n",
       "      <td>0.129865</td>\n",
       "      <td>7.121918e+03</td>\n",
       "    </tr>\n",
       "    <tr>\n",
       "      <td>min</td>\n",
       "      <td>5.000000e+04</td>\n",
       "      <td>0.000000</td>\n",
       "      <td>5.200000e-08</td>\n",
       "    </tr>\n",
       "    <tr>\n",
       "      <td>25%</td>\n",
       "      <td>1.080540e+05</td>\n",
       "      <td>0.468087</td>\n",
       "      <td>1.800000e-01</td>\n",
       "    </tr>\n",
       "    <tr>\n",
       "      <td>50%</td>\n",
       "      <td>1.918021e+06</td>\n",
       "      <td>0.566067</td>\n",
       "      <td>2.260000e+00</td>\n",
       "    </tr>\n",
       "    <tr>\n",
       "      <td>75%</td>\n",
       "      <td>1.004301e+07</td>\n",
       "      <td>0.665496</td>\n",
       "      <td>2.240000e+01</td>\n",
       "    </tr>\n",
       "    <tr>\n",
       "      <td>max</td>\n",
       "      <td>1.413933e+09</td>\n",
       "      <td>1.000000</td>\n",
       "      <td>9.860000e+05</td>\n",
       "    </tr>\n",
       "  </tbody>\n",
       "</table>\n",
       "</div>"
      ],
      "text/plain": [
       "           test_cas  obs_duration_mean    conc1_mean\n",
       "count  5.662900e+04       56629.000000  5.662900e+04\n",
       "mean   1.236581e+07           0.561789  3.532387e+02\n",
       "std    3.482018e+07           0.129865  7.121918e+03\n",
       "min    5.000000e+04           0.000000  5.200000e-08\n",
       "25%    1.080540e+05           0.468087  1.800000e-01\n",
       "50%    1.918021e+06           0.566067  2.260000e+00\n",
       "75%    1.004301e+07           0.665496  2.240000e+01\n",
       "max    1.413933e+09           1.000000  9.860000e+05"
      ]
     },
     "execution_count": 12,
     "metadata": {},
     "output_type": "execute_result"
    }
   ],
   "source": [
    "use_db.describe()"
   ]
  },
  {
   "cell_type": "code",
   "execution_count": 13,
   "metadata": {},
   "outputs": [],
   "source": [
    "# standardization\n",
    "scaler = StandardScaler()\n",
    "scaler.fit(use_db[[\"obs_duration_mean\"]])\n",
    "use_db[[\"obs_duration_mean\"]] = scaler.transform(use_db[[\"obs_duration_mean\"]])"
   ]
  },
  {
   "cell_type": "code",
   "execution_count": 14,
   "metadata": {},
   "outputs": [],
   "source": [
    "use_db.to_csv(\"output/db_obs_preproc.csv\")"
   ]
  },
  {
   "cell_type": "markdown",
   "metadata": {},
   "source": [
    "### For the concentration, no preprocessing considering this will be used as label for the regression case. Logarithmic transformation doesn't seem effective, scaling could be better"
   ]
  },
  {
   "cell_type": "markdown",
   "metadata": {},
   "source": [
    "### categorical features  \n",
    "We will need to encode exposure_type, conc1_type, class, tax_order, family_genus, species. Not done now because we will encoding depending on the case"
   ]
  },
  {
   "cell_type": "code",
   "execution_count": 15,
   "metadata": {},
   "outputs": [],
   "source": [
    "# Category encoding\n",
    "#use_db = pd.get_dummies(use_db)"
   ]
  },
  {
   "cell_type": "markdown",
   "metadata": {},
   "source": [
    "## CAS - SMILES Processing"
   ]
  },
  {
   "cell_type": "code",
   "execution_count": 16,
   "metadata": {},
   "outputs": [],
   "source": [
    "smiles = pd.read_csv('output/cas_to_smiles.csv', error_bad_lines=False).drop(columns=\"Unnamed: 0\")"
   ]
  },
  {
   "cell_type": "code",
   "execution_count": 17,
   "metadata": {},
   "outputs": [
    {
     "data": {
      "text/html": [
       "<div>\n",
       "<style scoped>\n",
       "    .dataframe tbody tr th:only-of-type {\n",
       "        vertical-align: middle;\n",
       "    }\n",
       "\n",
       "    .dataframe tbody tr th {\n",
       "        vertical-align: top;\n",
       "    }\n",
       "\n",
       "    .dataframe thead th {\n",
       "        text-align: right;\n",
       "    }\n",
       "</style>\n",
       "<table border=\"1\" class=\"dataframe\">\n",
       "  <thead>\n",
       "    <tr style=\"text-align: right;\">\n",
       "      <th></th>\n",
       "      <th>cas</th>\n",
       "      <th>smiles</th>\n",
       "    </tr>\n",
       "  </thead>\n",
       "  <tbody>\n",
       "    <tr>\n",
       "      <td>0</td>\n",
       "      <td>10108-64-2</td>\n",
       "      <td>[Cl-].[Cl-].[Cd++]</td>\n",
       "    </tr>\n",
       "    <tr>\n",
       "      <td>1</td>\n",
       "      <td>88-30-2</td>\n",
       "      <td>Oc1ccc(c(c1)C(F)(F)F)[N+]([O-])=O</td>\n",
       "    </tr>\n",
       "    <tr>\n",
       "      <td>2</td>\n",
       "      <td>1397-94-0</td>\n",
       "      <td>CCCCCC[C@@H]1[C@@H](OC(=O)CC(C)C)[C@H](C)OC(=O...</td>\n",
       "    </tr>\n",
       "    <tr>\n",
       "      <td>3</td>\n",
       "      <td>25474-41-3</td>\n",
       "      <td>NaN</td>\n",
       "    </tr>\n",
       "    <tr>\n",
       "      <td>4</td>\n",
       "      <td>540-72-7</td>\n",
       "      <td>[Na+].[S-]C#N</td>\n",
       "    </tr>\n",
       "  </tbody>\n",
       "</table>\n",
       "</div>"
      ],
      "text/plain": [
       "          cas                                             smiles\n",
       "0  10108-64-2                                 [Cl-].[Cl-].[Cd++]\n",
       "1     88-30-2                  Oc1ccc(c(c1)C(F)(F)F)[N+]([O-])=O\n",
       "2   1397-94-0  CCCCCC[C@@H]1[C@@H](OC(=O)CC(C)C)[C@H](C)OC(=O...\n",
       "3  25474-41-3                                                NaN\n",
       "4    540-72-7                                      [Na+].[S-]C#N"
      ]
     },
     "execution_count": 17,
     "metadata": {},
     "output_type": "execute_result"
    }
   ],
   "source": [
    "smiles.head()"
   ]
  },
  {
   "cell_type": "code",
   "execution_count": 18,
   "metadata": {},
   "outputs": [],
   "source": [
    "nulls_smiles = smiles[smiles['smiles'].isnull()].index.tolist()\n",
    "cas = smiles[['cas']].iloc[nulls_smiles,:]\n",
    "no_smiles = list(cas['cas'])"
   ]
  },
  {
   "cell_type": "code",
   "execution_count": 19,
   "metadata": {},
   "outputs": [],
   "source": [
    "base_db['test_cas'] = base_db['test_cas'].apply(to_cas)"
   ]
  },
  {
   "cell_type": "code",
   "execution_count": 20,
   "metadata": {},
   "outputs": [
    {
     "data": {
      "text/plain": [
       "0.052570237863991946"
      ]
     },
     "execution_count": 20,
     "metadata": {},
     "output_type": "execute_result"
    }
   ],
   "source": [
    "len(base_db[base_db['test_cas'].isin(no_smiles)])/len(base_db)"
   ]
  },
  {
   "cell_type": "markdown",
   "metadata": {},
   "source": [
    "Since is only the 5% of the total we decide to drop those columns."
   ]
  },
  {
   "cell_type": "code",
   "execution_count": 21,
   "metadata": {},
   "outputs": [],
   "source": [
    "smiles = smiles.rename(columns={'cas':'test_cas'})"
   ]
  },
  {
   "cell_type": "code",
   "execution_count": 22,
   "metadata": {},
   "outputs": [],
   "source": [
    "base_db = pd.merge(base_db, smiles, on='test_cas')"
   ]
  },
  {
   "cell_type": "code",
   "execution_count": 23,
   "metadata": {},
   "outputs": [],
   "source": [
    "null = base_db[base_db['smiles'].isnull()].index.tolist()"
   ]
  },
  {
   "cell_type": "code",
   "execution_count": 24,
   "metadata": {},
   "outputs": [
    {
     "data": {
      "text/plain": [
       "2977"
      ]
     },
     "execution_count": 24,
     "metadata": {},
     "output_type": "execute_result"
    }
   ],
   "source": [
    "len(null)"
   ]
  },
  {
   "cell_type": "code",
   "execution_count": 25,
   "metadata": {},
   "outputs": [],
   "source": [
    "base_db_smiles = base_db.drop(null,axis=0)"
   ]
  },
  {
   "cell_type": "markdown",
   "metadata": {},
   "source": [
    "#### Computing new features from SMILES"
   ]
  },
  {
   "cell_type": "code",
   "execution_count": 26,
   "metadata": {},
   "outputs": [],
   "source": [
    "base_db_smiles['atom_number'] = base_db_smiles['smiles'].apply(atom_number)"
   ]
  },
  {
   "cell_type": "code",
   "execution_count": 27,
   "metadata": {},
   "outputs": [],
   "source": [
    "base_db_smiles['bonds_number'] = base_db_smiles['smiles'].apply(bonds_number)"
   ]
  },
  {
   "cell_type": "code",
   "execution_count": 28,
   "metadata": {},
   "outputs": [],
   "source": [
    "base_db_smiles['ring_numer'] = base_db_smiles['smiles'].apply(ring_numer)"
   ]
  },
  {
   "cell_type": "code",
   "execution_count": 29,
   "metadata": {},
   "outputs": [],
   "source": [
    "base_db_smiles['Mol'] = base_db_smiles['smiles'].apply(Mol)"
   ]
  },
  {
   "cell_type": "code",
   "execution_count": 30,
   "metadata": {},
   "outputs": [],
   "source": [
    "base_db_smiles['MorganDensity'] = base_db_smiles['smiles'].apply(MorganDensity)"
   ]
  },
  {
   "cell_type": "code",
   "execution_count": 31,
   "metadata": {},
   "outputs": [],
   "source": [
    "base_db_smiles['LogP'] = base_db_smiles['smiles'].apply(LogP)"
   ]
  },
  {
   "cell_type": "code",
   "execution_count": 32,
   "metadata": {},
   "outputs": [
    {
     "data": {
      "text/html": [
       "<div>\n",
       "<style scoped>\n",
       "    .dataframe tbody tr th:only-of-type {\n",
       "        vertical-align: middle;\n",
       "    }\n",
       "\n",
       "    .dataframe tbody tr th {\n",
       "        vertical-align: top;\n",
       "    }\n",
       "\n",
       "    .dataframe thead th {\n",
       "        text-align: right;\n",
       "    }\n",
       "</style>\n",
       "<table border=\"1\" class=\"dataframe\">\n",
       "  <thead>\n",
       "    <tr style=\"text-align: right;\">\n",
       "      <th></th>\n",
       "      <th>test_cas</th>\n",
       "      <th>exposure_type</th>\n",
       "      <th>obs_duration_mean</th>\n",
       "      <th>conc1_type</th>\n",
       "      <th>conc1_mean</th>\n",
       "      <th>class</th>\n",
       "      <th>tax_order</th>\n",
       "      <th>family</th>\n",
       "      <th>genus</th>\n",
       "      <th>species</th>\n",
       "      <th>organism_lifestage</th>\n",
       "      <th>organism_characteristics</th>\n",
       "      <th>ecotox_group</th>\n",
       "      <th>smiles</th>\n",
       "      <th>atom_number</th>\n",
       "      <th>bonds_number</th>\n",
       "      <th>ring_numer</th>\n",
       "      <th>Mol</th>\n",
       "      <th>MorganDensity</th>\n",
       "      <th>LogP</th>\n",
       "    </tr>\n",
       "  </thead>\n",
       "  <tbody>\n",
       "    <tr>\n",
       "      <td>0</td>\n",
       "      <td>10108-64-2</td>\n",
       "      <td>S</td>\n",
       "      <td>48.0</td>\n",
       "      <td>T</td>\n",
       "      <td>46.90000</td>\n",
       "      <td>Actinopterygii</td>\n",
       "      <td>Cypriniformes</td>\n",
       "      <td>Cyprinidae</td>\n",
       "      <td>Carassius</td>\n",
       "      <td>auratus</td>\n",
       "      <td>NR</td>\n",
       "      <td>1.93 (0.82-4.15) G</td>\n",
       "      <td>Fish,Standard Test Species,U.S. Exotic/Nuisanc...</td>\n",
       "      <td>[Cl-].[Cl-].[Cd++]</td>\n",
       "      <td>3</td>\n",
       "      <td>0</td>\n",
       "      <td>0</td>\n",
       "      <td>183.318</td>\n",
       "      <td>0.666667</td>\n",
       "      <td>-5.9945</td>\n",
       "    </tr>\n",
       "    <tr>\n",
       "      <td>1</td>\n",
       "      <td>10108-64-2</td>\n",
       "      <td>S</td>\n",
       "      <td>24.0</td>\n",
       "      <td>T</td>\n",
       "      <td>200.00000</td>\n",
       "      <td>Actinopterygii</td>\n",
       "      <td>Cyprinodontiformes</td>\n",
       "      <td>Cyprinodontidae</td>\n",
       "      <td>Fundulus</td>\n",
       "      <td>heteroclitus</td>\n",
       "      <td>NR</td>\n",
       "      <td>49.6 MM, 1.0 G</td>\n",
       "      <td>Fish,Standard Test Species</td>\n",
       "      <td>[Cl-].[Cl-].[Cd++]</td>\n",
       "      <td>3</td>\n",
       "      <td>0</td>\n",
       "      <td>0</td>\n",
       "      <td>183.318</td>\n",
       "      <td>0.666667</td>\n",
       "      <td>-5.9945</td>\n",
       "    </tr>\n",
       "    <tr>\n",
       "      <td>2</td>\n",
       "      <td>10108-64-2</td>\n",
       "      <td>F</td>\n",
       "      <td>96.0</td>\n",
       "      <td>T</td>\n",
       "      <td>0.00100</td>\n",
       "      <td>Actinopterygii</td>\n",
       "      <td>Salmoniformes</td>\n",
       "      <td>Salmonidae</td>\n",
       "      <td>Oncorhynchus</td>\n",
       "      <td>mykiss</td>\n",
       "      <td>PA</td>\n",
       "      <td>6.96 G, 8.6 CM</td>\n",
       "      <td>Fish,Standard Test Species,U.S. Exotic/Nuisanc...</td>\n",
       "      <td>[Cl-].[Cl-].[Cd++]</td>\n",
       "      <td>3</td>\n",
       "      <td>0</td>\n",
       "      <td>0</td>\n",
       "      <td>183.318</td>\n",
       "      <td>0.666667</td>\n",
       "      <td>-5.9945</td>\n",
       "    </tr>\n",
       "    <tr>\n",
       "      <td>3</td>\n",
       "      <td>10108-64-2</td>\n",
       "      <td>S</td>\n",
       "      <td>96.0</td>\n",
       "      <td>T</td>\n",
       "      <td>15.90000</td>\n",
       "      <td>Actinopterygii</td>\n",
       "      <td>Cyprinodontiformes</td>\n",
       "      <td>Cyprinodontidae</td>\n",
       "      <td>Cyprinodon</td>\n",
       "      <td>variegatus</td>\n",
       "      <td>NR</td>\n",
       "      <td>25.8 MM, 0.70 G</td>\n",
       "      <td>Fish,Standard Test Species</td>\n",
       "      <td>[Cl-].[Cl-].[Cd++]</td>\n",
       "      <td>3</td>\n",
       "      <td>0</td>\n",
       "      <td>0</td>\n",
       "      <td>183.318</td>\n",
       "      <td>0.666667</td>\n",
       "      <td>-5.9945</td>\n",
       "    </tr>\n",
       "    <tr>\n",
       "      <td>4</td>\n",
       "      <td>10108-64-2</td>\n",
       "      <td>F</td>\n",
       "      <td>694.0</td>\n",
       "      <td>T</td>\n",
       "      <td>0.03000</td>\n",
       "      <td>Actinopterygii</td>\n",
       "      <td>Salmoniformes</td>\n",
       "      <td>Salmonidae</td>\n",
       "      <td>Oncorhynchus</td>\n",
       "      <td>mykiss</td>\n",
       "      <td>JV</td>\n",
       "      <td>0.193 G</td>\n",
       "      <td>Fish,Standard Test Species,U.S. Exotic/Nuisanc...</td>\n",
       "      <td>[Cl-].[Cl-].[Cd++]</td>\n",
       "      <td>3</td>\n",
       "      <td>0</td>\n",
       "      <td>0</td>\n",
       "      <td>183.318</td>\n",
       "      <td>0.666667</td>\n",
       "      <td>-5.9945</td>\n",
       "    </tr>\n",
       "    <tr>\n",
       "      <td>5</td>\n",
       "      <td>10108-64-2</td>\n",
       "      <td>R</td>\n",
       "      <td>96.0</td>\n",
       "      <td>T</td>\n",
       "      <td>19.91900</td>\n",
       "      <td>Actinopterygii</td>\n",
       "      <td>Perciformes</td>\n",
       "      <td>Cichlidae</td>\n",
       "      <td>Oreochromis</td>\n",
       "      <td>niloticus</td>\n",
       "      <td>JV</td>\n",
       "      <td>8.81-10.95 CM, 11.97-15.65 G</td>\n",
       "      <td>Fish</td>\n",
       "      <td>[Cl-].[Cl-].[Cd++]</td>\n",
       "      <td>3</td>\n",
       "      <td>0</td>\n",
       "      <td>0</td>\n",
       "      <td>183.318</td>\n",
       "      <td>0.666667</td>\n",
       "      <td>-5.9945</td>\n",
       "    </tr>\n",
       "    <tr>\n",
       "      <td>6</td>\n",
       "      <td>10108-64-2</td>\n",
       "      <td>R</td>\n",
       "      <td>96.0</td>\n",
       "      <td>T</td>\n",
       "      <td>3.77000</td>\n",
       "      <td>Actinopterygii</td>\n",
       "      <td>Anguilliformes</td>\n",
       "      <td>Anguillidae</td>\n",
       "      <td>Anguilla</td>\n",
       "      <td>japonica</td>\n",
       "      <td>JV</td>\n",
       "      <td>0.135 G, 5.6 CM</td>\n",
       "      <td>Fish</td>\n",
       "      <td>[Cl-].[Cl-].[Cd++]</td>\n",
       "      <td>3</td>\n",
       "      <td>0</td>\n",
       "      <td>0</td>\n",
       "      <td>183.318</td>\n",
       "      <td>0.666667</td>\n",
       "      <td>-5.9945</td>\n",
       "    </tr>\n",
       "    <tr>\n",
       "      <td>7</td>\n",
       "      <td>10108-64-2</td>\n",
       "      <td>S</td>\n",
       "      <td>96.0</td>\n",
       "      <td>T</td>\n",
       "      <td>1.30000</td>\n",
       "      <td>Actinopterygii</td>\n",
       "      <td>Cyprinodontiformes</td>\n",
       "      <td>Cyprinodontidae</td>\n",
       "      <td>Fundulus</td>\n",
       "      <td>heteroclitus</td>\n",
       "      <td>NR</td>\n",
       "      <td>1.1 (0.7-1.5) G, 5.08 (4.6-5.6) CM</td>\n",
       "      <td>Fish,Standard Test Species</td>\n",
       "      <td>[Cl-].[Cl-].[Cd++]</td>\n",
       "      <td>3</td>\n",
       "      <td>0</td>\n",
       "      <td>0</td>\n",
       "      <td>183.318</td>\n",
       "      <td>0.666667</td>\n",
       "      <td>-5.9945</td>\n",
       "    </tr>\n",
       "    <tr>\n",
       "      <td>8</td>\n",
       "      <td>10108-64-2</td>\n",
       "      <td>S</td>\n",
       "      <td>96.0</td>\n",
       "      <td>T</td>\n",
       "      <td>50.00000</td>\n",
       "      <td>Actinopterygii</td>\n",
       "      <td>Cyprinodontiformes</td>\n",
       "      <td>Cyprinodontidae</td>\n",
       "      <td>Cyprinodon</td>\n",
       "      <td>variegatus</td>\n",
       "      <td>NR</td>\n",
       "      <td>36 MM, 1.1 G</td>\n",
       "      <td>Fish,Standard Test Species</td>\n",
       "      <td>[Cl-].[Cl-].[Cd++]</td>\n",
       "      <td>3</td>\n",
       "      <td>0</td>\n",
       "      <td>0</td>\n",
       "      <td>183.318</td>\n",
       "      <td>0.666667</td>\n",
       "      <td>-5.9945</td>\n",
       "    </tr>\n",
       "    <tr>\n",
       "      <td>9</td>\n",
       "      <td>10108-64-2</td>\n",
       "      <td>R</td>\n",
       "      <td>96.0</td>\n",
       "      <td>D</td>\n",
       "      <td>0.00084</td>\n",
       "      <td>Actinopterygii</td>\n",
       "      <td>Salmoniformes</td>\n",
       "      <td>Salmonidae</td>\n",
       "      <td>Oncorhynchus</td>\n",
       "      <td>mykiss</td>\n",
       "      <td>SU</td>\n",
       "      <td>0.2 TO 0.4 G</td>\n",
       "      <td>Fish,Standard Test Species,U.S. Exotic/Nuisanc...</td>\n",
       "      <td>[Cl-].[Cl-].[Cd++]</td>\n",
       "      <td>3</td>\n",
       "      <td>0</td>\n",
       "      <td>0</td>\n",
       "      <td>183.318</td>\n",
       "      <td>0.666667</td>\n",
       "      <td>-5.9945</td>\n",
       "    </tr>\n",
       "  </tbody>\n",
       "</table>\n",
       "</div>"
      ],
      "text/plain": [
       "     test_cas exposure_type  obs_duration_mean conc1_type  conc1_mean  \\\n",
       "0  10108-64-2             S               48.0          T    46.90000   \n",
       "1  10108-64-2             S               24.0          T   200.00000   \n",
       "2  10108-64-2             F               96.0          T     0.00100   \n",
       "3  10108-64-2             S               96.0          T    15.90000   \n",
       "4  10108-64-2             F              694.0          T     0.03000   \n",
       "5  10108-64-2             R               96.0          T    19.91900   \n",
       "6  10108-64-2             R               96.0          T     3.77000   \n",
       "7  10108-64-2             S               96.0          T     1.30000   \n",
       "8  10108-64-2             S               96.0          T    50.00000   \n",
       "9  10108-64-2             R               96.0          D     0.00084   \n",
       "\n",
       "            class           tax_order           family         genus  \\\n",
       "0  Actinopterygii       Cypriniformes       Cyprinidae     Carassius   \n",
       "1  Actinopterygii  Cyprinodontiformes  Cyprinodontidae      Fundulus   \n",
       "2  Actinopterygii       Salmoniformes       Salmonidae  Oncorhynchus   \n",
       "3  Actinopterygii  Cyprinodontiformes  Cyprinodontidae    Cyprinodon   \n",
       "4  Actinopterygii       Salmoniformes       Salmonidae  Oncorhynchus   \n",
       "5  Actinopterygii         Perciformes        Cichlidae   Oreochromis   \n",
       "6  Actinopterygii      Anguilliformes      Anguillidae      Anguilla   \n",
       "7  Actinopterygii  Cyprinodontiformes  Cyprinodontidae      Fundulus   \n",
       "8  Actinopterygii  Cyprinodontiformes  Cyprinodontidae    Cyprinodon   \n",
       "9  Actinopterygii       Salmoniformes       Salmonidae  Oncorhynchus   \n",
       "\n",
       "        species organism_lifestage            organism_characteristics  \\\n",
       "0       auratus                 NR                  1.93 (0.82-4.15) G   \n",
       "1  heteroclitus                 NR                      49.6 MM, 1.0 G   \n",
       "2        mykiss                 PA                      6.96 G, 8.6 CM   \n",
       "3    variegatus                 NR                     25.8 MM, 0.70 G   \n",
       "4        mykiss                 JV                             0.193 G   \n",
       "5     niloticus                 JV        8.81-10.95 CM, 11.97-15.65 G   \n",
       "6      japonica                 JV                     0.135 G, 5.6 CM   \n",
       "7  heteroclitus                 NR  1.1 (0.7-1.5) G, 5.08 (4.6-5.6) CM   \n",
       "8    variegatus                 NR                        36 MM, 1.1 G   \n",
       "9        mykiss                 SU                        0.2 TO 0.4 G   \n",
       "\n",
       "                                        ecotox_group              smiles  \\\n",
       "0  Fish,Standard Test Species,U.S. Exotic/Nuisanc...  [Cl-].[Cl-].[Cd++]   \n",
       "1                         Fish,Standard Test Species  [Cl-].[Cl-].[Cd++]   \n",
       "2  Fish,Standard Test Species,U.S. Exotic/Nuisanc...  [Cl-].[Cl-].[Cd++]   \n",
       "3                         Fish,Standard Test Species  [Cl-].[Cl-].[Cd++]   \n",
       "4  Fish,Standard Test Species,U.S. Exotic/Nuisanc...  [Cl-].[Cl-].[Cd++]   \n",
       "5                                               Fish  [Cl-].[Cl-].[Cd++]   \n",
       "6                                               Fish  [Cl-].[Cl-].[Cd++]   \n",
       "7                         Fish,Standard Test Species  [Cl-].[Cl-].[Cd++]   \n",
       "8                         Fish,Standard Test Species  [Cl-].[Cl-].[Cd++]   \n",
       "9  Fish,Standard Test Species,U.S. Exotic/Nuisanc...  [Cl-].[Cl-].[Cd++]   \n",
       "\n",
       "  atom_number bonds_number ring_numer      Mol MorganDensity    LogP  \n",
       "0           3            0          0  183.318      0.666667 -5.9945  \n",
       "1           3            0          0  183.318      0.666667 -5.9945  \n",
       "2           3            0          0  183.318      0.666667 -5.9945  \n",
       "3           3            0          0  183.318      0.666667 -5.9945  \n",
       "4           3            0          0  183.318      0.666667 -5.9945  \n",
       "5           3            0          0  183.318      0.666667 -5.9945  \n",
       "6           3            0          0  183.318      0.666667 -5.9945  \n",
       "7           3            0          0  183.318      0.666667 -5.9945  \n",
       "8           3            0          0  183.318      0.666667 -5.9945  \n",
       "9           3            0          0  183.318      0.666667 -5.9945  "
      ]
     },
     "execution_count": 32,
     "metadata": {},
     "output_type": "execute_result"
    }
   ],
   "source": [
    "base_db_smiles.head(10)"
   ]
  },
  {
   "cell_type": "code",
   "execution_count": 33,
   "metadata": {},
   "outputs": [],
   "source": [
    "base_db_smiles.to_csv(\"output/base_db_smiles.csv\")"
   ]
  },
  {
   "cell_type": "code",
   "execution_count": null,
   "metadata": {},
   "outputs": [],
   "source": []
  }
 ],
 "metadata": {
  "kernelspec": {
   "display_name": "Python 3",
   "language": "python",
   "name": "python3"
  },
  "language_info": {
   "codemirror_mode": {
    "name": "ipython",
    "version": 3
   },
   "file_extension": ".py",
   "mimetype": "text/x-python",
   "name": "python",
   "nbconvert_exporter": "python",
   "pygments_lexer": "ipython3",
   "version": "3.7.4"
  },
  "latex_envs": {
   "LaTeX_envs_menu_present": true,
   "autoclose": false,
   "autocomplete": true,
   "bibliofile": "biblio.bib",
   "cite_by": "apalike",
   "current_citInitial": 1,
   "eqLabelWithNumbers": true,
   "eqNumInitial": 1,
   "hotkeys": {
    "equation": "Ctrl-E",
    "itemize": "Ctrl-I"
   },
   "labels_anchors": false,
   "latex_user_defs": false,
   "report_style_numbering": false,
   "user_envs_cfg": false
  },
  "varInspector": {
   "cols": {
    "lenName": 16,
    "lenType": 16,
    "lenVar": 40
   },
   "kernels_config": {
    "python": {
     "delete_cmd_postfix": "",
     "delete_cmd_prefix": "del ",
     "library": "var_list.py",
     "varRefreshCmd": "print(var_dic_list())"
    },
    "r": {
     "delete_cmd_postfix": ") ",
     "delete_cmd_prefix": "rm(",
     "library": "var_list.r",
     "varRefreshCmd": "cat(var_dic_list()) "
    }
   },
   "types_to_exclude": [
    "module",
    "function",
    "builtin_function_or_method",
    "instance",
    "_Feature"
   ],
   "window_display": false
  }
 },
 "nbformat": 4,
 "nbformat_minor": 4
}
